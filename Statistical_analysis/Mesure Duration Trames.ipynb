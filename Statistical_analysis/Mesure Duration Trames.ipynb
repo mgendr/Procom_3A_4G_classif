{
 "cells": [
  {
   "cell_type": "code",
   "execution_count": 1,
   "id": "14059a68",
   "metadata": {},
   "outputs": [],
   "source": [
    "import os\n",
    "import pandas as pd\n",
    "import warnings\n",
    "import matplotlib.pyplot as plt\n",
    "\n",
    "import numpy as np\n",
    "import seaborn as sns\n",
    "\n",
    "from tqdm import tqdm\n",
    "from random import randint\n",
    "from sklearn.model_selection import train_test_split\n",
    "from sklearn.preprocessing import StandardScaler\n",
    "from sklearn.utils import class_weight\n",
    "from sklearn.metrics import confusion_matrix\n",
    "\n",
    "import tensorflow as tf\n",
    "from tensorflow.keras.models import Sequential\n",
    "from tensorflow.keras.layers import Conv1D, Conv2D, MaxPool1D, MaxPooling2D, Dense, Flatten, Dropout\n",
    "\n",
    "import itertools\n"
   ]
  },
  {
   "cell_type": "code",
   "execution_count": 2,
   "id": "5b87798a",
   "metadata": {},
   "outputs": [],
   "source": [
    "global_data = {}\n",
    "length_values = 60\n",
    "# key : value\n",
    "# uniq_id : [60 values, label]"
   ]
  },
  {
   "cell_type": "code",
   "execution_count": 3,
   "id": "f3030c0a",
   "metadata": {},
   "outputs": [],
   "source": [
    "def plot_image(data) :\n",
    "    plt.plot(data.index,data.TBS_1.cumsum(),'bo', color='blue')\n",
    "    plt.plot(data.index,data.TBS_1.cumsum(), color='blue')  \n",
    "    \n",
    "    data[\"TBS_2\"] = data[\"TBS_2\"].replace(to_replace = -2, value = 0)\n",
    "    \n",
    "    plt.plot(data.index,data.TBS_2.cumsum(),'bo', color='orange')\n",
    "    plt.plot(data.index,data.TBS_2.cumsum(), color='orange')  \n",
    "\n",
    "def reformat_data(filename, global_data) :\n",
    "    \n",
    "    data = pd.read_csv(filename)\n",
    "    data[\"TBS_2\"] = data[\"TBS_2\"].replace(to_replace = -2, value = 0)\n",
    "    #data.drop(columns={})\n",
    "    data.set_index(pd.to_datetime(data.Time), inplace=True)\n",
    "    \n",
    "    id_acquis = data.id_acquisition.iloc[0]\n",
    "    \n",
    "    for val in tqdm(data.connection_id.unique()):\n",
    "        current_data = data[data.connection_id==val]\n",
    "        label = current_data.label.value_counts(sort = True, ascending =False).index[0]\n",
    "\n",
    "        global_data[f\"{id_acquis}_{val}\"]=(current_data.index, current_data.TBS_2,label)\n",
    "\n",
    "\n",
    "    return global_data\n",
    "        \n",
    "     "
   ]
  },
  {
   "cell_type": "code",
   "execution_count": 4,
   "id": "3afe6253",
   "metadata": {
    "scrolled": true
   },
   "outputs": [
    {
     "name": "stdout",
     "output_type": "stream",
     "text": [
      "Extracting ./Mesures/messenger20221117_125310.csv.... 1/38\n"
     ]
    },
    {
     "name": "stderr",
     "output_type": "stream",
     "text": [
      "100%|██████████████████████████████████████████████████████████████████████████████████| 15/15 [00:00<00:00, 90.36it/s]\n"
     ]
    },
    {
     "name": "stdout",
     "output_type": "stream",
     "text": [
      "Extracting ./Mesures/messenger20221124_143112.csv.... 2/38\n"
     ]
    },
    {
     "name": "stderr",
     "output_type": "stream",
     "text": [
      "100%|██████████████████████████████████████████████████████████████████████████████████| 11/11 [00:00<00:00, 35.81it/s]\n"
     ]
    },
    {
     "name": "stdout",
     "output_type": "stream",
     "text": [
      "Extracting ./Mesures/messenger20221124_151137.csv.... 3/38\n"
     ]
    },
    {
     "name": "stderr",
     "output_type": "stream",
     "text": [
      "100%|████████████████████████████████████████████████████████████████████████████████████| 5/5 [00:00<00:00, 18.80it/s]\n"
     ]
    },
    {
     "name": "stdout",
     "output_type": "stream",
     "text": [
      "Extracting ./Mesures/messenger20221125_130559.csv.... 4/38\n"
     ]
    },
    {
     "name": "stderr",
     "output_type": "stream",
     "text": [
      "100%|██████████████████████████████████████████████████████████████████████████████████| 39/39 [00:00<00:00, 86.67it/s]\n"
     ]
    },
    {
     "name": "stdout",
     "output_type": "stream",
     "text": [
      "Extracting ./Mesures/messenger20221125_150706.csv.... 5/38\n"
     ]
    },
    {
     "name": "stderr",
     "output_type": "stream",
     "text": [
      "100%|████████████████████████████████████████████████████████████████████████████████| 335/335 [00:03<00:00, 90.74it/s]\n"
     ]
    },
    {
     "name": "stdout",
     "output_type": "stream",
     "text": [
      "Extracting ./Mesures/messenger20221129_131204.csv.... 6/38\n"
     ]
    },
    {
     "name": "stderr",
     "output_type": "stream",
     "text": [
      "100%|██████████████████████████████████████████████████████████████████████████████████| 14/14 [00:01<00:00, 11.25it/s]\n"
     ]
    },
    {
     "name": "stdout",
     "output_type": "stream",
     "text": [
      "Extracting ./Mesures/messenger20221129_151124.csv.... 7/38\n"
     ]
    },
    {
     "name": "stderr",
     "output_type": "stream",
     "text": [
      "100%|████████████████████████████████████████████████████████████████████████████████████| 5/5 [00:00<00:00,  6.76it/s]\n"
     ]
    },
    {
     "name": "stdout",
     "output_type": "stream",
     "text": [
      "Extracting ./Mesures/pure_noise20230106_132210.csv.... 8/38\n"
     ]
    },
    {
     "name": "stderr",
     "output_type": "stream",
     "text": [
      "100%|███████████████████████████████████████████████████████████████████████████████| 839/839 [00:01<00:00, 657.88it/s]\n"
     ]
    },
    {
     "name": "stdout",
     "output_type": "stream",
     "text": [
      "Extracting ./Mesures/skype20221129_164105.csv.... 9/38\n"
     ]
    },
    {
     "name": "stderr",
     "output_type": "stream",
     "text": [
      "100%|████████████████████████████████████████████████████████████████████████████████████| 5/5 [00:00<00:00, 13.44it/s]\n"
     ]
    },
    {
     "name": "stdout",
     "output_type": "stream",
     "text": [
      "Extracting ./Mesures/skype20221206_125510.csv.... 10/38\n"
     ]
    },
    {
     "name": "stderr",
     "output_type": "stream",
     "text": [
      "100%|██████████████████████████████████████████████████████████████████████████████████| 19/19 [00:00<00:00, 36.88it/s]\n"
     ]
    },
    {
     "name": "stdout",
     "output_type": "stream",
     "text": [
      "Extracting ./Mesures/skype20221206_150902.csv.... 11/38\n"
     ]
    },
    {
     "name": "stderr",
     "output_type": "stream",
     "text": [
      "100%|████████████████████████████████████████████████████████████████████████████████████| 3/3 [00:00<00:00,  3.68it/s]\n"
     ]
    },
    {
     "name": "stdout",
     "output_type": "stream",
     "text": [
      "Extracting ./Mesures/skype20221208_104403.csv.... 12/38\n"
     ]
    },
    {
     "name": "stderr",
     "output_type": "stream",
     "text": [
      "100%|████████████████████████████████████████████████████████████████████████████████████| 7/7 [00:01<00:00,  4.21it/s]\n"
     ]
    },
    {
     "name": "stdout",
     "output_type": "stream",
     "text": [
      "Extracting ./Mesures/skype20221208_124925.csv.... 13/38\n"
     ]
    },
    {
     "name": "stderr",
     "output_type": "stream",
     "text": [
      "100%|████████████████████████████████████████████████████████████████████████████████████| 6/6 [00:01<00:00,  3.31it/s]\n"
     ]
    },
    {
     "name": "stdout",
     "output_type": "stream",
     "text": [
      "Extracting ./Mesures/skype20221215_151512.csv.... 14/38\n"
     ]
    },
    {
     "name": "stderr",
     "output_type": "stream",
     "text": [
      "100%|██████████████████████████████████████████████████████████████████████████████████| 23/23 [00:00<00:00, 30.06it/s]\n"
     ]
    },
    {
     "name": "stdout",
     "output_type": "stream",
     "text": [
      "Extracting ./Mesures/skype20221215_155618.csv.... 15/38\n"
     ]
    },
    {
     "name": "stderr",
     "output_type": "stream",
     "text": [
      "100%|██████████████████████████████████████████████████████████████████████████████████| 19/19 [00:00<00:00, 27.89it/s]\n"
     ]
    },
    {
     "name": "stdout",
     "output_type": "stream",
     "text": [
      "Extracting ./Mesures/skype20221215_164208.csv.... 16/38\n"
     ]
    },
    {
     "name": "stderr",
     "output_type": "stream",
     "text": [
      "100%|████████████████████████████████████████████████████████████████████████████████████| 5/5 [00:00<00:00,  6.22it/s]\n"
     ]
    },
    {
     "name": "stdout",
     "output_type": "stream",
     "text": [
      "Extracting ./Mesures/skype20221215_174819.csv.... 17/38\n"
     ]
    },
    {
     "name": "stderr",
     "output_type": "stream",
     "text": [
      "100%|████████████████████████████████████████████████████████████████████████████████████| 6/6 [00:00<00:00,  9.46it/s]\n"
     ]
    },
    {
     "name": "stdout",
     "output_type": "stream",
     "text": [
      "Extracting ./Mesures/twitch20221117_113554.csv.... 18/38\n"
     ]
    },
    {
     "name": "stderr",
     "output_type": "stream",
     "text": [
      "100%|█████████████████████████████████████████████████████████████████████████████████| 29/29 [00:00<00:00, 100.35it/s]\n"
     ]
    },
    {
     "name": "stdout",
     "output_type": "stream",
     "text": [
      "Extracting ./Mesures/twitch20221118_075454.csv.... 19/38\n"
     ]
    },
    {
     "name": "stderr",
     "output_type": "stream",
     "text": [
      "100%|██████████████████████████████████████████████████████████████████████████████████| 16/16 [00:00<00:00, 50.63it/s]\n"
     ]
    },
    {
     "name": "stdout",
     "output_type": "stream",
     "text": [
      "Extracting ./Mesures/twitch20221124_163054.csv.... 20/38\n"
     ]
    },
    {
     "name": "stderr",
     "output_type": "stream",
     "text": [
      "100%|██████████████████████████████████████████████████████████████████████████████████| 12/12 [00:00<00:00, 20.58it/s]\n"
     ]
    },
    {
     "name": "stdout",
     "output_type": "stream",
     "text": [
      "Extracting ./Mesures/twitch20221125_133859.csv.... 21/38\n"
     ]
    },
    {
     "name": "stderr",
     "output_type": "stream",
     "text": [
      "100%|████████████████████████████████████████████████████████████████████████████████| 109/109 [00:01<00:00, 77.59it/s]\n"
     ]
    },
    {
     "name": "stdout",
     "output_type": "stream",
     "text": [
      "Extracting ./Mesures/twitch20230110_110215.csv.... 22/38\n"
     ]
    },
    {
     "name": "stderr",
     "output_type": "stream",
     "text": [
      "100%|██████████████████████████████████████████████████████████████████████████████████| 22/22 [00:00<00:00, 92.05it/s]\n"
     ]
    },
    {
     "name": "stdout",
     "output_type": "stream",
     "text": [
      "Extracting ./Mesures/twitch20230110_120513.csv.... 23/38\n"
     ]
    },
    {
     "name": "stderr",
     "output_type": "stream",
     "text": [
      "100%|█████████████████████████████████████████████████████████████████████████████████| 61/61 [00:00<00:00, 214.03it/s]\n"
     ]
    },
    {
     "name": "stdout",
     "output_type": "stream",
     "text": [
      "Extracting ./Mesures/twitch20230110_130648.csv.... 24/38\n"
     ]
    },
    {
     "name": "stderr",
     "output_type": "stream",
     "text": [
      "100%|███████████████████████████████████████████████████████████████████████████████| 427/427 [00:00<00:00, 431.74it/s]\n"
     ]
    },
    {
     "name": "stdout",
     "output_type": "stream",
     "text": [
      "Extracting ./Mesures/youtube20221108_165214.csv.... 25/38\n"
     ]
    },
    {
     "name": "stderr",
     "output_type": "stream",
     "text": [
      "100%|█████████████████████████████████████████████████████████████████████████████████| 12/12 [00:00<00:00, 413.57it/s]\n"
     ]
    },
    {
     "name": "stdout",
     "output_type": "stream",
     "text": [
      "Extracting ./Mesures/youtube20221108_182416.csv.... 26/38\n"
     ]
    },
    {
     "name": "stderr",
     "output_type": "stream",
     "text": [
      "100%|███████████████████████████████████████████████████████████████████████████████████| 4/4 [00:00<00:00, 200.11it/s]"
     ]
    },
    {
     "name": "stdout",
     "output_type": "stream",
     "text": [
      "Extracting ./Mesures/youtube20221118_104205.csv.... 27/38\n"
     ]
    },
    {
     "name": "stderr",
     "output_type": "stream",
     "text": [
      "\n",
      "100%|███████████████████████████████████████████████████████████████████████████████| 218/218 [00:00<00:00, 605.40it/s]\n"
     ]
    },
    {
     "name": "stdout",
     "output_type": "stream",
     "text": [
      "Extracting ./Mesures/youtube20221124_125524.csv.... 28/38\n"
     ]
    },
    {
     "name": "stderr",
     "output_type": "stream",
     "text": [
      "100%|███████████████████████████████████████████████████████████████████████████████| 188/188 [00:00<00:00, 678.76it/s]\n"
     ]
    },
    {
     "name": "stdout",
     "output_type": "stream",
     "text": [
      "Extracting ./Mesures/youtube20221124_154037.csv.... 29/38\n"
     ]
    },
    {
     "name": "stderr",
     "output_type": "stream",
     "text": [
      "100%|█████████████████████████████████████████████████████████████████████████████████| 92/92 [00:00<00:00, 707.70it/s]\n"
     ]
    },
    {
     "name": "stdout",
     "output_type": "stream",
     "text": [
      "Extracting ./Mesures/youtube20221130_103723.csv.... 30/38\n"
     ]
    },
    {
     "name": "stderr",
     "output_type": "stream",
     "text": [
      "100%|█████████████████████████████████████████████████████████████████████████████████| 91/91 [00:00<00:00, 441.75it/s]\n"
     ]
    },
    {
     "name": "stdout",
     "output_type": "stream",
     "text": [
      "Extracting ./Mesures/youtube20230110_145404.csv.... 31/38\n"
     ]
    },
    {
     "name": "stderr",
     "output_type": "stream",
     "text": [
      "100%|█████████████████████████████████████████████████████████████████████████████████| 95/95 [00:00<00:00, 714.32it/s]\n"
     ]
    },
    {
     "name": "stdout",
     "output_type": "stream",
     "text": [
      "Extracting ./Mesures/youtube20230110_161955.csv.... 32/38\n"
     ]
    },
    {
     "name": "stderr",
     "output_type": "stream",
     "text": [
      "100%|█████████████████████████████████████████████████████████████████████████████████| 90/90 [00:00<00:00, 714.28it/s]\n"
     ]
    },
    {
     "name": "stdout",
     "output_type": "stream",
     "text": [
      "Extracting ./Mesures/youtube20230112_125508.csv.... 33/38\n"
     ]
    },
    {
     "name": "stderr",
     "output_type": "stream",
     "text": [
      "100%|███████████████████████████████████████████████████████████████████████████████| 108/108 [00:00<00:00, 391.30it/s]\n"
     ]
    },
    {
     "name": "stdout",
     "output_type": "stream",
     "text": [
      "Extracting ./Mesures/youtube20230112_151029.csv.... 34/38\n"
     ]
    },
    {
     "name": "stderr",
     "output_type": "stream",
     "text": [
      "100%|█████████████████████████████████████████████████████████████████████████████████| 29/29 [00:00<00:00, 537.04it/s]\n"
     ]
    },
    {
     "name": "stdout",
     "output_type": "stream",
     "text": [
      "Extracting ./Mesures/youtube20230112_154749.csv.... 35/38\n"
     ]
    },
    {
     "name": "stderr",
     "output_type": "stream",
     "text": [
      "100%|█████████████████████████████████████████████████████████████████████████████████| 32/32 [00:00<00:00, 421.06it/s]\n"
     ]
    },
    {
     "name": "stdout",
     "output_type": "stream",
     "text": [
      "Extracting ./Mesures/youtube20230112_163634.csv.... 36/38\n"
     ]
    },
    {
     "name": "stderr",
     "output_type": "stream",
     "text": [
      "100%|█████████████████████████████████████████████████████████████████████████████████| 65/65 [00:00<00:00, 492.42it/s]\n"
     ]
    },
    {
     "name": "stdout",
     "output_type": "stream",
     "text": [
      "Extracting ./Mesures/youtube20230117_095221.csv.... 37/38\n"
     ]
    },
    {
     "name": "stderr",
     "output_type": "stream",
     "text": [
      "100%|███████████████████████████████████████████████████████████████████████████████| 140/140 [00:00<00:00, 238.91it/s]\n"
     ]
    },
    {
     "name": "stdout",
     "output_type": "stream",
     "text": [
      "Extracting ./Mesures/youtube20230117_121925.csv.... 38/38\n"
     ]
    },
    {
     "name": "stderr",
     "output_type": "stream",
     "text": [
      "100%|███████████████████████████████████████████████████████████████████████████████| 260/260 [00:00<00:00, 387.48it/s]\n"
     ]
    }
   ],
   "source": [
    "directory_data = \"../Mesures/\"\n",
    "datasets = [i for i in os.listdir(directory_data) if i.endswith(\".csv\") ]\n",
    "datasets\n",
    "\n",
    "for i, data in enumerate(datasets) :\n",
    "    file = os.path.join(directory_data,data)\n",
    "    print(f\"Extracting {file}.... {i+1}/{len(datasets)}\")\n",
    "    global_data = reformat_data(file, global_data)"
   ]
  },
  {
   "cell_type": "code",
   "execution_count": 5,
   "id": "44c910c1",
   "metadata": {},
   "outputs": [
    {
     "name": "stderr",
     "output_type": "stream",
     "text": [
      "100%|███████████████████████████████████████████████████████████████████████████| 3456/3456 [00:00<00:00, 26780.96it/s]\n"
     ]
    },
    {
     "data": {
      "text/html": [
       "<div>\n",
       "<style scoped>\n",
       "    .dataframe tbody tr th:only-of-type {\n",
       "        vertical-align: middle;\n",
       "    }\n",
       "\n",
       "    .dataframe tbody tr th {\n",
       "        vertical-align: top;\n",
       "    }\n",
       "\n",
       "    .dataframe thead th {\n",
       "        text-align: right;\n",
       "    }\n",
       "</style>\n",
       "<table border=\"1\" class=\"dataframe\">\n",
       "  <thead>\n",
       "    <tr style=\"text-align: right;\">\n",
       "      <th></th>\n",
       "      <th>Duration(s)</th>\n",
       "      <th>Duration(measures)</th>\n",
       "      <th>label</th>\n",
       "    </tr>\n",
       "  </thead>\n",
       "  <tbody>\n",
       "    <tr>\n",
       "      <th>0</th>\n",
       "      <td>2777.818</td>\n",
       "      <td>364319</td>\n",
       "      <td>messenger</td>\n",
       "    </tr>\n",
       "    <tr>\n",
       "      <th>1</th>\n",
       "      <td>0.077</td>\n",
       "      <td>11</td>\n",
       "      <td>messenger</td>\n",
       "    </tr>\n",
       "    <tr>\n",
       "      <th>2</th>\n",
       "      <td>0.077</td>\n",
       "      <td>11</td>\n",
       "      <td>messenger</td>\n",
       "    </tr>\n",
       "    <tr>\n",
       "      <th>3</th>\n",
       "      <td>9.331</td>\n",
       "      <td>1230</td>\n",
       "      <td>messenger</td>\n",
       "    </tr>\n",
       "    <tr>\n",
       "      <th>4</th>\n",
       "      <td>9.427</td>\n",
       "      <td>1229</td>\n",
       "      <td>messenger</td>\n",
       "    </tr>\n",
       "    <tr>\n",
       "      <th>...</th>\n",
       "      <td>...</td>\n",
       "      <td>...</td>\n",
       "      <td>...</td>\n",
       "    </tr>\n",
       "    <tr>\n",
       "      <th>3451</th>\n",
       "      <td>10.171</td>\n",
       "      <td>30</td>\n",
       "      <td>youtube</td>\n",
       "    </tr>\n",
       "    <tr>\n",
       "      <th>3452</th>\n",
       "      <td>21.255</td>\n",
       "      <td>563</td>\n",
       "      <td>youtube</td>\n",
       "    </tr>\n",
       "    <tr>\n",
       "      <th>3453</th>\n",
       "      <td>21.815</td>\n",
       "      <td>541</td>\n",
       "      <td>youtube</td>\n",
       "    </tr>\n",
       "    <tr>\n",
       "      <th>3454</th>\n",
       "      <td>107.245</td>\n",
       "      <td>2991</td>\n",
       "      <td>youtube</td>\n",
       "    </tr>\n",
       "    <tr>\n",
       "      <th>3455</th>\n",
       "      <td>106.223</td>\n",
       "      <td>3003</td>\n",
       "      <td>youtube</td>\n",
       "    </tr>\n",
       "  </tbody>\n",
       "</table>\n",
       "<p>3456 rows × 3 columns</p>\n",
       "</div>"
      ],
      "text/plain": [
       "      Duration(s)  Duration(measures)      label\n",
       "0        2777.818              364319  messenger\n",
       "1           0.077                  11  messenger\n",
       "2           0.077                  11  messenger\n",
       "3           9.331                1230  messenger\n",
       "4           9.427                1229  messenger\n",
       "...           ...                 ...        ...\n",
       "3451       10.171                  30    youtube\n",
       "3452       21.255                 563    youtube\n",
       "3453       21.815                 541    youtube\n",
       "3454      107.245                2991    youtube\n",
       "3455      106.223                3003    youtube\n",
       "\n",
       "[3456 rows x 3 columns]"
      ]
     },
     "execution_count": 5,
     "metadata": {},
     "output_type": "execute_result"
    }
   ],
   "source": [
    "res_n, res_dura, labels = [],[],[]\n",
    "for key, value in tqdm(global_data.items()) :\n",
    "    res_n.append(len(value[0]))\n",
    "    dura = (value[0][-1]-value[0][0]).total_seconds()\n",
    "    res_dura.append(dura)\n",
    "    \n",
    "    labels.append(value[2])\n",
    "    \n",
    "df = pd.DataFrame({\"Duration(s)\" : res_dura, \"Duration(measures)\" : res_n, \"label\" : labels})   \n",
    "df"
   ]
  },
  {
   "cell_type": "code",
   "execution_count": 6,
   "id": "3c140b94",
   "metadata": {},
   "outputs": [
    {
     "data": {
      "text/plain": [
       "youtube       1257\n",
       "noise         1061\n",
       "pure_noise     839\n",
       "twitch         149\n",
       "messenger       96\n",
       "skype           54\n",
       "Name: label, dtype: int64"
      ]
     },
     "execution_count": 6,
     "metadata": {},
     "output_type": "execute_result"
    }
   ],
   "source": [
    "df.label.value_counts()"
   ]
  },
  {
   "cell_type": "code",
   "execution_count": 7,
   "id": "a6bd2c1f",
   "metadata": {},
   "outputs": [
    {
     "data": {
      "image/png": "[encoded data removed]",
      "text/plain": [
       "<Figure size 1152x1152 with 1 Axes>"
      ]
     },
     "metadata": {
      "needs_background": "light"
     },
     "output_type": "display_data"
    }
   ],
   "source": [
    "\n",
    "def plot_histo(data) : \n",
    "    data = data[\"Duration(s)\"]\n",
    "    bins = 10*np.exp(np.arange(0,9,0.5))\n",
    "    bins = np.insert(bins, 0, 0)\n",
    "    fig, ax = plt.subplots(figsize=(16,16))\n",
    "    plt.hist(data.values, bins=bins)\n",
    "    ax.set_xscale('log')\n",
    "    ax.set_xlabel(\"Duration (s)\")\n",
    "    ax.set_ylabel(\"Proportion\")\n",
    "    ax.set_title(\"Measures duration Distribution\")\n",
    "plot_histo(df)"
   ]
  },
  {
   "cell_type": "code",
   "execution_count": 8,
   "id": "cf575d44",
   "metadata": {},
   "outputs": [],
   "source": [
    "uni_label = [\"noise\",\n",
    "\"youtube\",\n",
    "\"messenger\" ,\n",
    "\"twitch\" ,\n",
    "\"skype\"  ]"
   ]
  },
  {
   "cell_type": "code",
   "execution_count": 9,
   "id": "c8e12716",
   "metadata": {},
   "outputs": [
    {
     "name": "stderr",
     "output_type": "stream",
     "text": [
      "C:\\Users\\Malo\\AppData\\Local\\Temp\\ipykernel_7488\\3335659691.py:10: VisibleDeprecationWarning: Creating an ndarray from ragged nested sequences (which is a list-or-tuple of lists-or-tuples-or ndarrays with different lengths or shapes) is deprecated. If you meant to do this, you must specify 'dtype=object' when creating the ndarray.\n",
      "  new_data = np.array(vals)\n"
     ]
    },
    {
     "name": "stdout",
     "output_type": "stream",
     "text": [
      "(5,)\n"
     ]
    },
    {
     "data": {
      "image/png": "[encoded data removed]",
      "text/plain": [
       "<Figure size 1152x1152 with 1 Axes>"
      ]
     },
     "metadata": {
      "needs_background": "light"
     },
     "output_type": "display_data"
    }
   ],
   "source": [
    "\n",
    "def plot_histo(data) : \n",
    "    bins = 10*np.exp(np.arange(0,9,0.5))\n",
    "    bins = np.insert(bins, 0, 0)\n",
    "    fig, ax = plt.subplots(figsize=(16,16))\n",
    "    \n",
    "    vals = []\n",
    "    for lab in uni_label :\n",
    "        current_data = data[data[\"label\"]==lab][\"Duration(s)\"]\n",
    "        vals.append(current_data.values)\n",
    "    new_data = np.array(vals)\n",
    "    print(new_data.shape)\n",
    "    plt.hist(new_data,stacked=True, bins=bins, alpha = 0.9)\n",
    "    \n",
    "    ax.set_xscale('log')\n",
    "    ax.set_xlabel(\"Duration (s)\")\n",
    "    ax.set_ylabel(\"Proportion\")\n",
    "    ax.set_title(\"Measures duration Distribution\")\n",
    "    ax.legend(uni_label)\n",
    "plot_histo(df)"
   ]
  },
  {
   "cell_type": "code",
   "execution_count": null,
   "id": "985a7fd8",
   "metadata": {},
   "outputs": [],
   "source": []
  }
 ],
 "metadata": {
  "kernelspec": {
   "display_name": "Python 3 (ipykernel)",
   "language": "python",
   "name": "python3"
  },
  "language_info": {
   "codemirror_mode": {
    "name": "ipython",
    "version": 3
   },
   "file_extension": ".py",
   "mimetype": "text/x-python",
   "name": "python",
   "nbconvert_exporter": "python",
   "pygments_lexer": "ipython3",
   "version": "3.9.12"
  }
 },
 "nbformat": 4,
 "nbformat_minor": 5
}
