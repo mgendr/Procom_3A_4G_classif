{
 "cells": [
  {
   "cell_type": "code",
   "execution_count": 3,
   "id": "64d67bad",
   "metadata": {},
   "outputs": [
    {
     "data": {
      "text/plain": [
       "['messenger20221117_125310.csv',\n",
       " 'messenger20221124_143112.csv',\n",
       " 'messenger20221124_151137.csv',\n",
       " 'messenger20221125_130559.csv',\n",
       " 'messenger20221125_150706.csv',\n",
       " 'messenger20221129_131204.csv',\n",
       " 'messenger20221129_151124.csv',\n",
       " 'skype20221129_164105.csv',\n",
       " 'twitch20221117_113554.csv',\n",
       " 'twitch20221118_075454.csv',\n",
       " 'twitch20221124_163054.csv',\n",
       " 'twitch20221125_133859.csv',\n",
       " 'youtube20221108_165214.csv',\n",
       " 'youtube20221108_182416.csv',\n",
       " 'youtube20221118_104205.csv',\n",
       " 'youtube20221124_125524.csv',\n",
       " 'youtube20221124_154037.csv',\n",
       " 'youtube20221130_103723.csv']"
      ]
     },
     "execution_count": 3,
     "metadata": {},
     "output_type": "execute_result"
    }
   ],
   "source": [
    "import os\n",
    "import pandas as pd\n",
    "import warnings\n",
    "import matplotlib.pyplot as plt\n",
    "from sklearn.linear_model import LinearRegression\n",
    "from sklearn.isotonic import IsotonicRegression\n",
    "import numpy as np\n",
    "import seaborn as sns\n",
    "from sklearn.neighbors import KNeighborsClassifier\n",
    "from sklearn.model_selection import train_test_split\n",
    "from sklearn.model_selection import GridSearchCV\n",
    "from sklearn.preprocessing import StandardScaler\n",
    "from sklearn.ensemble import RandomForestClassifier\n",
    "from tqdm import tqdm\n",
    "from random import randint\n",
    "\n",
    "plt.rcParams[\"figure.figsize\"] = (20, 16)\n",
    "warnings.simplefilter(\"ignore\")\n",
    "files = [i for i in os.listdir(\"Mesures\") if i.endswith(\".csv\") ]\n",
    "files\n",
    "\n",
    "### <8 mbits en cumsum = bruit "
   ]
  },
  {
   "cell_type": "code",
   "execution_count": 4,
   "id": "a2980c28",
   "metadata": {},
   "outputs": [
    {
     "data": {
      "text/html": [
       "<div>\n",
       "<style scoped>\n",
       "    .dataframe tbody tr th:only-of-type {\n",
       "        vertical-align: middle;\n",
       "    }\n",
       "\n",
       "    .dataframe tbody tr th {\n",
       "        vertical-align: top;\n",
       "    }\n",
       "\n",
       "    .dataframe thead th {\n",
       "        text-align: right;\n",
       "    }\n",
       "</style>\n",
       "<table border=\"1\" class=\"dataframe\">\n",
       "  <thead>\n",
       "    <tr style=\"text-align: right;\">\n",
       "      <th></th>\n",
       "      <th>Time</th>\n",
       "      <th>rnti</th>\n",
       "      <th>SFN</th>\n",
       "      <th>format</th>\n",
       "      <th>preamble</th>\n",
       "      <th>ta</th>\n",
       "      <th>nb_TB</th>\n",
       "      <th>MCSi_1</th>\n",
       "      <th>MCSi_2</th>\n",
       "      <th>TBS_1</th>\n",
       "      <th>TBS_2</th>\n",
       "      <th>nb_PRB</th>\n",
       "      <th>connection_id</th>\n",
       "      <th>label</th>\n",
       "      <th>id_acquisition</th>\n",
       "    </tr>\n",
       "  </thead>\n",
       "  <tbody>\n",
       "    <tr>\n",
       "      <th>0</th>\n",
       "      <td>2022-11-24 14:40:51.871</td>\n",
       "      <td>396</td>\n",
       "      <td>7839</td>\n",
       "      <td>2.0</td>\n",
       "      <td>26.0</td>\n",
       "      <td>4.0</td>\n",
       "      <td>1</td>\n",
       "      <td>1</td>\n",
       "      <td>-2</td>\n",
       "      <td>208</td>\n",
       "      <td>-2</td>\n",
       "      <td>6</td>\n",
       "      <td>4</td>\n",
       "      <td>noise</td>\n",
       "      <td>20221124_154037</td>\n",
       "    </tr>\n",
       "    <tr>\n",
       "      <th>1</th>\n",
       "      <td>2022-11-24 14:40:51.896</td>\n",
       "      <td>396</td>\n",
       "      <td>7864</td>\n",
       "      <td>0.0</td>\n",
       "      <td>26.0</td>\n",
       "      <td>4.0</td>\n",
       "      <td>1</td>\n",
       "      <td>12</td>\n",
       "      <td>-2</td>\n",
       "      <td>176</td>\n",
       "      <td>-2</td>\n",
       "      <td>1</td>\n",
       "      <td>4</td>\n",
       "      <td>noise</td>\n",
       "      <td>20221124_154037</td>\n",
       "    </tr>\n",
       "    <tr>\n",
       "      <th>2</th>\n",
       "      <td>2022-11-24 14:40:51.904</td>\n",
       "      <td>396</td>\n",
       "      <td>7872</td>\n",
       "      <td>0.0</td>\n",
       "      <td>26.0</td>\n",
       "      <td>4.0</td>\n",
       "      <td>1</td>\n",
       "      <td>12</td>\n",
       "      <td>-2</td>\n",
       "      <td>176</td>\n",
       "      <td>-2</td>\n",
       "      <td>1</td>\n",
       "      <td>4</td>\n",
       "      <td>noise</td>\n",
       "      <td>20221124_154037</td>\n",
       "    </tr>\n",
       "    <tr>\n",
       "      <th>3</th>\n",
       "      <td>2022-11-24 14:40:51.912</td>\n",
       "      <td>396</td>\n",
       "      <td>7880</td>\n",
       "      <td>2.0</td>\n",
       "      <td>26.0</td>\n",
       "      <td>4.0</td>\n",
       "      <td>1</td>\n",
       "      <td>17</td>\n",
       "      <td>-2</td>\n",
       "      <td>280</td>\n",
       "      <td>-2</td>\n",
       "      <td>1</td>\n",
       "      <td>4</td>\n",
       "      <td>noise</td>\n",
       "      <td>20221124_154037</td>\n",
       "    </tr>\n",
       "    <tr>\n",
       "      <th>4</th>\n",
       "      <td>2022-11-24 14:40:51.914</td>\n",
       "      <td>396</td>\n",
       "      <td>7882</td>\n",
       "      <td>2.0</td>\n",
       "      <td>26.0</td>\n",
       "      <td>4.0</td>\n",
       "      <td>1</td>\n",
       "      <td>1</td>\n",
       "      <td>-2</td>\n",
       "      <td>224</td>\n",
       "      <td>-2</td>\n",
       "      <td>7</td>\n",
       "      <td>4</td>\n",
       "      <td>noise</td>\n",
       "      <td>20221124_154037</td>\n",
       "    </tr>\n",
       "    <tr>\n",
       "      <th>...</th>\n",
       "      <td>...</td>\n",
       "      <td>...</td>\n",
       "      <td>...</td>\n",
       "      <td>...</td>\n",
       "      <td>...</td>\n",
       "      <td>...</td>\n",
       "      <td>...</td>\n",
       "      <td>...</td>\n",
       "      <td>...</td>\n",
       "      <td>...</td>\n",
       "      <td>...</td>\n",
       "      <td>...</td>\n",
       "      <td>...</td>\n",
       "      <td>...</td>\n",
       "      <td>...</td>\n",
       "    </tr>\n",
       "    <tr>\n",
       "      <th>62261</th>\n",
       "      <td>2022-11-24 15:23:09.516</td>\n",
       "      <td>396</td>\n",
       "      <td>5964</td>\n",
       "      <td>0.0</td>\n",
       "      <td>26.0</td>\n",
       "      <td>4.0</td>\n",
       "      <td>1</td>\n",
       "      <td>6</td>\n",
       "      <td>-2</td>\n",
       "      <td>256</td>\n",
       "      <td>-2</td>\n",
       "      <td>3</td>\n",
       "      <td>4</td>\n",
       "      <td>noise</td>\n",
       "      <td>20221124_154037</td>\n",
       "    </tr>\n",
       "    <tr>\n",
       "      <th>62262</th>\n",
       "      <td>2022-11-24 15:23:09.524</td>\n",
       "      <td>396</td>\n",
       "      <td>5972</td>\n",
       "      <td>2.0</td>\n",
       "      <td>26.0</td>\n",
       "      <td>4.0</td>\n",
       "      <td>1</td>\n",
       "      <td>14</td>\n",
       "      <td>-2</td>\n",
       "      <td>224</td>\n",
       "      <td>-2</td>\n",
       "      <td>1</td>\n",
       "      <td>4</td>\n",
       "      <td>noise</td>\n",
       "      <td>20221124_154037</td>\n",
       "    </tr>\n",
       "    <tr>\n",
       "      <th>62263</th>\n",
       "      <td>2022-11-24 15:23:09.551</td>\n",
       "      <td>396</td>\n",
       "      <td>5999</td>\n",
       "      <td>2.0</td>\n",
       "      <td>26.0</td>\n",
       "      <td>4.0</td>\n",
       "      <td>1</td>\n",
       "      <td>29</td>\n",
       "      <td>-2</td>\n",
       "      <td>224</td>\n",
       "      <td>-2</td>\n",
       "      <td>1</td>\n",
       "      <td>4</td>\n",
       "      <td>noise</td>\n",
       "      <td>20221124_154037</td>\n",
       "    </tr>\n",
       "    <tr>\n",
       "      <th>62264</th>\n",
       "      <td>2022-11-24 15:23:09.576</td>\n",
       "      <td>396</td>\n",
       "      <td>6024</td>\n",
       "      <td>0.0</td>\n",
       "      <td>26.0</td>\n",
       "      <td>4.0</td>\n",
       "      <td>1</td>\n",
       "      <td>22</td>\n",
       "      <td>-2</td>\n",
       "      <td>1384</td>\n",
       "      <td>-2</td>\n",
       "      <td>3</td>\n",
       "      <td>4</td>\n",
       "      <td>noise</td>\n",
       "      <td>20221124_154037</td>\n",
       "    </tr>\n",
       "    <tr>\n",
       "      <th>62265</th>\n",
       "      <td>2022-11-24 15:23:09.585</td>\n",
       "      <td>396</td>\n",
       "      <td>6033</td>\n",
       "      <td>2.0</td>\n",
       "      <td>26.0</td>\n",
       "      <td>4.0</td>\n",
       "      <td>1</td>\n",
       "      <td>14</td>\n",
       "      <td>-2</td>\n",
       "      <td>224</td>\n",
       "      <td>-2</td>\n",
       "      <td>1</td>\n",
       "      <td>4</td>\n",
       "      <td>noise</td>\n",
       "      <td>20221124_154037</td>\n",
       "    </tr>\n",
       "  </tbody>\n",
       "</table>\n",
       "<p>62266 rows × 15 columns</p>\n",
       "</div>"
      ],
      "text/plain": [
       "                          Time  rnti   SFN  format  preamble   ta  nb_TB  \\\n",
       "0      2022-11-24 14:40:51.871   396  7839     2.0      26.0  4.0      1   \n",
       "1      2022-11-24 14:40:51.896   396  7864     0.0      26.0  4.0      1   \n",
       "2      2022-11-24 14:40:51.904   396  7872     0.0      26.0  4.0      1   \n",
       "3      2022-11-24 14:40:51.912   396  7880     2.0      26.0  4.0      1   \n",
       "4      2022-11-24 14:40:51.914   396  7882     2.0      26.0  4.0      1   \n",
       "...                        ...   ...   ...     ...       ...  ...    ...   \n",
       "62261  2022-11-24 15:23:09.516   396  5964     0.0      26.0  4.0      1   \n",
       "62262  2022-11-24 15:23:09.524   396  5972     2.0      26.0  4.0      1   \n",
       "62263  2022-11-24 15:23:09.551   396  5999     2.0      26.0  4.0      1   \n",
       "62264  2022-11-24 15:23:09.576   396  6024     0.0      26.0  4.0      1   \n",
       "62265  2022-11-24 15:23:09.585   396  6033     2.0      26.0  4.0      1   \n",
       "\n",
       "       MCSi_1  MCSi_2  TBS_1  TBS_2  nb_PRB  connection_id  label  \\\n",
       "0           1      -2    208     -2       6              4  noise   \n",
       "1          12      -2    176     -2       1              4  noise   \n",
       "2          12      -2    176     -2       1              4  noise   \n",
       "3          17      -2    280     -2       1              4  noise   \n",
       "4           1      -2    224     -2       7              4  noise   \n",
       "...       ...     ...    ...    ...     ...            ...    ...   \n",
       "62261       6      -2    256     -2       3              4  noise   \n",
       "62262      14      -2    224     -2       1              4  noise   \n",
       "62263      29      -2    224     -2       1              4  noise   \n",
       "62264      22      -2   1384     -2       3              4  noise   \n",
       "62265      14      -2    224     -2       1              4  noise   \n",
       "\n",
       "        id_acquisition  \n",
       "0      20221124_154037  \n",
       "1      20221124_154037  \n",
       "2      20221124_154037  \n",
       "3      20221124_154037  \n",
       "4      20221124_154037  \n",
       "...                ...  \n",
       "62261  20221124_154037  \n",
       "62262  20221124_154037  \n",
       "62263  20221124_154037  \n",
       "62264  20221124_154037  \n",
       "62265  20221124_154037  \n",
       "\n",
       "[62266 rows x 15 columns]"
      ]
     },
     "execution_count": 4,
     "metadata": {},
     "output_type": "execute_result"
    }
   ],
   "source": [
    "current_file = 'youtube20221124_154037.csv'\n",
    "file_path = os.path.join(\"Mesures\", current_file)\n",
    "data = pd.read_csv(file_path)\n",
    "#data = pd.read_csv('output.csv')\n",
    "\n",
    "data"
   ]
  },
  {
   "cell_type": "code",
   "execution_count": 12,
   "id": "582d0b00",
   "metadata": {},
   "outputs": [
    {
     "name": "stderr",
     "output_type": "stream",
     "text": [
      "  6%|████▌                                                                              | 1/18 [00:01<00:21,  1.25s/it]"
     ]
    },
    {
     "name": "stdout",
     "output_type": "stream",
     "text": [
      "Mesures\\messenger20221117_125310.csv (373020, 15)\n"
     ]
    },
    {
     "name": "stderr",
     "output_type": "stream",
     "text": [
      "\r",
      " 11%|█████████▏                                                                         | 2/18 [00:04<00:35,  2.23s/it]"
     ]
    },
    {
     "name": "stdout",
     "output_type": "stream",
     "text": [
      "Mesures\\messenger20221124_143112.csv (829766, 15)\n"
     ]
    },
    {
     "name": "stderr",
     "output_type": "stream",
     "text": [
      "\r",
      " 17%|█████████████▊                                                                     | 3/18 [00:08<00:44,  2.99s/it]"
     ]
    },
    {
     "name": "stdout",
     "output_type": "stream",
     "text": [
      "Mesures\\messenger20221124_151137.csv (822381, 15)\n"
     ]
    },
    {
     "name": "stderr",
     "output_type": "stream",
     "text": [
      "\r",
      " 22%|██████████████████▍                                                                | 4/18 [00:11<00:47,  3.36s/it]"
     ]
    },
    {
     "name": "stdout",
     "output_type": "stream",
     "text": [
      "Mesures\\messenger20221125_130559.csv (1002011, 15)\n"
     ]
    },
    {
     "name": "stderr",
     "output_type": "stream",
     "text": [
      "\r",
      " 28%|███████████████████████                                                            | 5/18 [00:26<01:37,  7.52s/it]"
     ]
    },
    {
     "name": "stdout",
     "output_type": "stream",
     "text": [
      "Mesures\\messenger20221125_150706.csv (4225765, 15)\n"
     ]
    },
    {
     "name": "stderr",
     "output_type": "stream",
     "text": [
      "\r",
      " 33%|███████████████████████████▋                                                       | 6/18 [00:37<01:43,  8.63s/it]"
     ]
    },
    {
     "name": "stdout",
     "output_type": "stream",
     "text": [
      "Mesures\\messenger20221129_131204.csv (3558884, 15)\n"
     ]
    },
    {
     "name": "stderr",
     "output_type": "stream",
     "text": [
      "\r",
      " 39%|████████████████████████████████▎                                                  | 7/18 [00:43<01:24,  7.72s/it]"
     ]
    },
    {
     "name": "stdout",
     "output_type": "stream",
     "text": [
      "Mesures\\messenger20221129_151124.csv (2490623, 15)\n"
     ]
    },
    {
     "name": "stderr",
     "output_type": "stream",
     "text": [
      "\r",
      " 44%|████████████████████████████████████▉                                              | 8/18 [00:46<01:01,  6.18s/it]"
     ]
    },
    {
     "name": "stdout",
     "output_type": "stream",
     "text": [
      "Mesures\\skype20221129_164105.csv (1326078, 15)\n"
     ]
    },
    {
     "name": "stderr",
     "output_type": "stream",
     "text": [
      "\r",
      " 50%|█████████████████████████████████████████▌                                         | 9/18 [00:48<00:42,  4.76s/it]"
     ]
    },
    {
     "name": "stdout",
     "output_type": "stream",
     "text": [
      "Mesures\\twitch20221117_113554.csv (697764, 15)\n"
     ]
    },
    {
     "name": "stderr",
     "output_type": "stream",
     "text": [
      "\r",
      " 56%|█████████████████████████████████████████████▌                                    | 10/18 [00:50<00:32,  4.04s/it]"
     ]
    },
    {
     "name": "stdout",
     "output_type": "stream",
     "text": [
      "Mesures\\twitch20221118_075454.csv (964483, 15)\n"
     ]
    },
    {
     "name": "stderr",
     "output_type": "stream",
     "text": [
      "\r",
      " 61%|██████████████████████████████████████████████████                                | 11/18 [00:54<00:29,  4.18s/it]"
     ]
    },
    {
     "name": "stdout",
     "output_type": "stream",
     "text": [
      "Mesures\\twitch20221124_163054.csv (1794195, 15)\n"
     ]
    },
    {
     "name": "stderr",
     "output_type": "stream",
     "text": [
      " 72%|███████████████████████████████████████████████████████████▏                      | 13/18 [01:02<00:18,  3.72s/it]"
     ]
    },
    {
     "name": "stdout",
     "output_type": "stream",
     "text": [
      "Mesures\\twitch20221125_133859.csv (2919487, 15)\n",
      "Mesures\\youtube20221108_165214.csv (34138, 15)\n",
      "Mesures\\youtube20221108_182416.csv (30359, 15)\n"
     ]
    },
    {
     "name": "stderr",
     "output_type": "stream",
     "text": [
      "\r",
      " 83%|████████████████████████████████████████████████████████████████████▎             | 15/18 [01:03<00:06,  2.07s/it]"
     ]
    },
    {
     "name": "stdout",
     "output_type": "stream",
     "text": [
      "Mesures\\youtube20221118_104205.csv (116938, 15)\n"
     ]
    },
    {
     "name": "stderr",
     "output_type": "stream",
     "text": [
      " 94%|█████████████████████████████████████████████████████████████████████████████▍    | 17/18 [01:03<00:01,  1.24s/it]"
     ]
    },
    {
     "name": "stdout",
     "output_type": "stream",
     "text": [
      "Mesures\\youtube20221124_125524.csv (100205, 15)\n",
      "Mesures\\youtube20221124_154037.csv (62266, 15)\n"
     ]
    },
    {
     "name": "stderr",
     "output_type": "stream",
     "text": [
      "100%|██████████████████████████████████████████████████████████████████████████████████| 18/18 [01:03<00:00,  3.55s/it]"
     ]
    },
    {
     "name": "stdout",
     "output_type": "stream",
     "text": [
      "Mesures\\youtube20221130_103723.csv (79719, 15)\n"
     ]
    },
    {
     "name": "stderr",
     "output_type": "stream",
     "text": [
      "\n"
     ]
    }
   ],
   "source": [
    "for filename in tqdm(files) : \n",
    "    file_path = os.path.join(\"Mesures\", filename)\n",
    "    new_data = pd.read_csv(file_path)\n",
    "    print(file_path , new_data.shape)\n",
    "  "
   ]
  },
  {
   "cell_type": "code",
   "execution_count": 16,
   "id": "81fcbcce",
   "metadata": {},
   "outputs": [
    {
     "name": "stderr",
     "output_type": "stream",
     "text": [
      "100%|██████████████████████████████████████████████████████████████████████████████████| 18/18 [01:00<00:00,  3.33s/it]\n"
     ]
    }
   ],
   "source": [
    "global_data = pd.concat([pd.read_csv(os.path.join(\"Mesures\",filename)) for filename in tqdm(files) ]) \n"
   ]
  },
  {
   "cell_type": "code",
   "execution_count": 17,
   "id": "c23c4978",
   "metadata": {},
   "outputs": [
    {
     "data": {
      "text/html": [
       "<div>\n",
       "<style scoped>\n",
       "    .dataframe tbody tr th:only-of-type {\n",
       "        vertical-align: middle;\n",
       "    }\n",
       "\n",
       "    .dataframe tbody tr th {\n",
       "        vertical-align: top;\n",
       "    }\n",
       "\n",
       "    .dataframe thead th {\n",
       "        text-align: right;\n",
       "    }\n",
       "</style>\n",
       "<table border=\"1\" class=\"dataframe\">\n",
       "  <thead>\n",
       "    <tr style=\"text-align: right;\">\n",
       "      <th></th>\n",
       "      <th>Time</th>\n",
       "      <th>format</th>\n",
       "      <th>ta</th>\n",
       "      <th>nb_TB</th>\n",
       "      <th>TBS_1</th>\n",
       "      <th>TBS_2</th>\n",
       "      <th>label</th>\n",
       "      <th>uniq_k</th>\n",
       "    </tr>\n",
       "  </thead>\n",
       "  <tbody>\n",
       "    <tr>\n",
       "      <th>0</th>\n",
       "      <td>2022-11-17 11:53:53.714</td>\n",
       "      <td>0.0</td>\n",
       "      <td>3.0</td>\n",
       "      <td>1</td>\n",
       "      <td>376</td>\n",
       "      <td>-2</td>\n",
       "      <td>noise</td>\n",
       "      <td>20221117_125310_4</td>\n",
       "    </tr>\n",
       "    <tr>\n",
       "      <th>1</th>\n",
       "      <td>2022-11-17 11:53:53.722</td>\n",
       "      <td>2.0</td>\n",
       "      <td>3.0</td>\n",
       "      <td>1</td>\n",
       "      <td>224</td>\n",
       "      <td>-2</td>\n",
       "      <td>noise</td>\n",
       "      <td>20221117_125310_4</td>\n",
       "    </tr>\n",
       "    <tr>\n",
       "      <th>2</th>\n",
       "      <td>2022-11-17 11:53:53.724</td>\n",
       "      <td>2.0</td>\n",
       "      <td>3.0</td>\n",
       "      <td>1</td>\n",
       "      <td>224</td>\n",
       "      <td>-2</td>\n",
       "      <td>noise</td>\n",
       "      <td>20221117_125310_4</td>\n",
       "    </tr>\n",
       "    <tr>\n",
       "      <th>3</th>\n",
       "      <td>2022-11-17 11:53:53.734</td>\n",
       "      <td>0.0</td>\n",
       "      <td>3.0</td>\n",
       "      <td>1</td>\n",
       "      <td>376</td>\n",
       "      <td>-2</td>\n",
       "      <td>noise</td>\n",
       "      <td>20221117_125310_4</td>\n",
       "    </tr>\n",
       "    <tr>\n",
       "      <th>4</th>\n",
       "      <td>2022-11-17 11:53:53.762</td>\n",
       "      <td>2.0</td>\n",
       "      <td>3.0</td>\n",
       "      <td>1</td>\n",
       "      <td>224</td>\n",
       "      <td>-2</td>\n",
       "      <td>noise</td>\n",
       "      <td>20221117_125310_4</td>\n",
       "    </tr>\n",
       "    <tr>\n",
       "      <th>...</th>\n",
       "      <td>...</td>\n",
       "      <td>...</td>\n",
       "      <td>...</td>\n",
       "      <td>...</td>\n",
       "      <td>...</td>\n",
       "      <td>...</td>\n",
       "      <td>...</td>\n",
       "      <td>...</td>\n",
       "    </tr>\n",
       "    <tr>\n",
       "      <th>21428077</th>\n",
       "      <td>2022-11-30 10:21:59.229</td>\n",
       "      <td>0.0</td>\n",
       "      <td>4.0</td>\n",
       "      <td>1</td>\n",
       "      <td>520</td>\n",
       "      <td>-2</td>\n",
       "      <td>noise</td>\n",
       "      <td>20221130_103723_49</td>\n",
       "    </tr>\n",
       "    <tr>\n",
       "      <th>21428078</th>\n",
       "      <td>2022-11-30 10:21:59.237</td>\n",
       "      <td>2.0</td>\n",
       "      <td>4.0</td>\n",
       "      <td>1</td>\n",
       "      <td>224</td>\n",
       "      <td>-2</td>\n",
       "      <td>noise</td>\n",
       "      <td>20221130_103723_49</td>\n",
       "    </tr>\n",
       "    <tr>\n",
       "      <th>21428079</th>\n",
       "      <td>2022-11-30 10:21:59.252</td>\n",
       "      <td>2.0</td>\n",
       "      <td>4.0</td>\n",
       "      <td>1</td>\n",
       "      <td>224</td>\n",
       "      <td>-2</td>\n",
       "      <td>noise</td>\n",
       "      <td>20221130_103723_49</td>\n",
       "    </tr>\n",
       "    <tr>\n",
       "      <th>21428080</th>\n",
       "      <td>2022-11-30 10:21:59.253</td>\n",
       "      <td>2.0</td>\n",
       "      <td>4.0</td>\n",
       "      <td>1</td>\n",
       "      <td>224</td>\n",
       "      <td>-2</td>\n",
       "      <td>noise</td>\n",
       "      <td>20221130_103723_49</td>\n",
       "    </tr>\n",
       "    <tr>\n",
       "      <th>21428081</th>\n",
       "      <td>2022-11-30 10:21:59.261</td>\n",
       "      <td>0.0</td>\n",
       "      <td>4.0</td>\n",
       "      <td>1</td>\n",
       "      <td>456</td>\n",
       "      <td>-2</td>\n",
       "      <td>noise</td>\n",
       "      <td>20221130_103723_49</td>\n",
       "    </tr>\n",
       "  </tbody>\n",
       "</table>\n",
       "<p>21428082 rows × 8 columns</p>\n",
       "</div>"
      ],
      "text/plain": [
       "                             Time  format   ta  nb_TB  TBS_1  TBS_2  label  \\\n",
       "0         2022-11-17 11:53:53.714     0.0  3.0      1    376     -2  noise   \n",
       "1         2022-11-17 11:53:53.722     2.0  3.0      1    224     -2  noise   \n",
       "2         2022-11-17 11:53:53.724     2.0  3.0      1    224     -2  noise   \n",
       "3         2022-11-17 11:53:53.734     0.0  3.0      1    376     -2  noise   \n",
       "4         2022-11-17 11:53:53.762     2.0  3.0      1    224     -2  noise   \n",
       "...                           ...     ...  ...    ...    ...    ...    ...   \n",
       "21428077  2022-11-30 10:21:59.229     0.0  4.0      1    520     -2  noise   \n",
       "21428078  2022-11-30 10:21:59.237     2.0  4.0      1    224     -2  noise   \n",
       "21428079  2022-11-30 10:21:59.252     2.0  4.0      1    224     -2  noise   \n",
       "21428080  2022-11-30 10:21:59.253     2.0  4.0      1    224     -2  noise   \n",
       "21428081  2022-11-30 10:21:59.261     0.0  4.0      1    456     -2  noise   \n",
       "\n",
       "                      uniq_k  \n",
       "0          20221117_125310_4  \n",
       "1          20221117_125310_4  \n",
       "2          20221117_125310_4  \n",
       "3          20221117_125310_4  \n",
       "4          20221117_125310_4  \n",
       "...                      ...  \n",
       "21428077  20221130_103723_49  \n",
       "21428078  20221130_103723_49  \n",
       "21428079  20221130_103723_49  \n",
       "21428080  20221130_103723_49  \n",
       "21428081  20221130_103723_49  \n",
       "\n",
       "[21428082 rows x 8 columns]"
      ]
     },
     "execution_count": 17,
     "metadata": {},
     "output_type": "execute_result"
    }
   ],
   "source": [
    "global_data[\"uniq_k\"] = global_data[\"id_acquisition\"] + global_data[\"connection_id\"].apply(lambda x : \"_\"+str(x))\n",
    "\n",
    "global_data.drop(inplace = True, columns = [\"SFN\", \"rnti\", \"preamble\", \"MCSi_1\", \"MCSi_2\",\n",
    "                                            \"nb_PRB\", \"connection_id\", \"id_acquisition\"])\n",
    "global_data.reset_index(drop = True, inplace = True)\n",
    "global_data"
   ]
  },
  {
   "cell_type": "code",
   "execution_count": 21,
   "id": "9e7b76cc",
   "metadata": {},
   "outputs": [
    {
     "data": {
      "text/plain": [
       "20221129_131204_6     1022014\n",
       "20221125_150706_31     965580\n",
       "20221129_131204_10     951170\n",
       "20221125_150706_32     916104\n",
       "20221125_150706_34     889853\n",
       "                       ...   \n",
       "20221125_150706_60          7\n",
       "20221125_130559_42          6\n",
       "20221125_150706_36          4\n",
       "20221125_150706_37          2\n",
       "20221117_113554_1           1\n",
       "Name: uniq_k, Length: 1200, dtype: int64"
      ]
     },
     "execution_count": 21,
     "metadata": {},
     "output_type": "execute_result"
    }
   ],
   "source": [
    "global_data.uniq_k.value_counts()"
   ]
  },
  {
   "cell_type": "code",
   "execution_count": 23,
   "id": "bee4bbf3",
   "metadata": {},
   "outputs": [
    {
     "data": {
      "text/plain": [
       "uniq_k              label    \n",
       "20221129_131204_6   messenger    1020766\n",
       "20221125_150706_31  messenger     961511\n",
       "20221129_131204_10  messenger     951170\n",
       "20221125_150706_32  messenger     915076\n",
       "20221125_150706_34  messenger     889082\n",
       "                                  ...   \n",
       "20221124_143112_4   messenger          2\n",
       "20221124_125524_41  noise              2\n",
       "20221124_125524_64  noise              2\n",
       "20221124_125524_20  noise              2\n",
       "20221117_113554_1   twitch             1\n",
       "Length: 1303, dtype: int64"
      ]
     },
     "execution_count": 23,
     "metadata": {},
     "output_type": "execute_result"
    }
   ],
   "source": [
    "global_data[[\"uniq_k\", \"label\"]].value_counts()"
   ]
  },
  {
   "cell_type": "code",
   "execution_count": null,
   "id": "4db3b41c",
   "metadata": {},
   "outputs": [],
   "source": []
  },
  {
   "cell_type": "code",
   "execution_count": null,
   "id": "a4e1f211",
   "metadata": {},
   "outputs": [],
   "source": []
  },
  {
   "cell_type": "code",
   "execution_count": null,
   "id": "4c280089",
   "metadata": {},
   "outputs": [],
   "source": [
    "# to apply for each time serie\n",
    "\n",
    "\n",
    "\n",
    "# format data : \n",
    "# 2 colonne = 1time series ( valeurs de TBS + son cumsum ), name col = \"{label}_{val or sum}_id\"\n",
    "# les lignes = time codes ( on commence à 0 pour toutes)\n",
    "\n",
    "def pass_trhough_first_layer(data) :\n",
    "    list_rows = []\n",
    "    for i in tqdm(range(len(data.columns))) : # Pour chaque time serie\n",
    "        useful_columns = data.columns[i]\n",
    "        new_row = first_layer(data[useful_columns])\n",
    "        \n",
    "        new_row[\"label\"] = useful_columns.split(\"_\")[0]\n",
    "        \n",
    "        list_rows.append(new_row)\n",
    "    data_final = pd.DataFrame.from_records(list_rows)\n",
    "        \n",
    "    \n",
    "    # concatenate new rows  \n",
    "    # return concatenation\n",
    "    \n",
    "    \n",
    "    return data_final\n",
    "    \n",
    "\n",
    "def first_layer(data):\n",
    "    metrics = {}\n",
    "    cum_data = data.cumsum()\n",
    "    \n",
    "    \n",
    "    \n",
    "    \n",
    "    # apply scaler\n",
    "    \n",
    "    # Here we apply models on cumulated sum\n",
    "    models = [\"reg_lin\", \"reg_iso\", \"reg_pol\"]\n",
    "    \n",
    "    for model in models : \n",
    "        \n",
    "        metrics = apply_simple_model(model, cum_data, metrics)\n",
    "        \n",
    "    # Here we can measure other metrics on none cumulated sum\n",
    "    \n",
    "    # Q1 to obtain plateau. median, mean Q3 , other percentiles(10, 90)... same usage I hope.\n",
    "    # intuition = un plateau = TBS à 0 pendant un certain temps, ainsi x% du temps le TBS vaut 0 donc faible percentile à 0 \n",
    "    percentiles = [0.1,0.25,0.5,0.75,0.9]\n",
    "    to_get = {\"min\" : \"p0\",\n",
    "              \"10%\" : \"p10\",\n",
    "              \"25%\" : \"p25\",\n",
    "              \"50%\" : \"p50\",\n",
    "              \"75%\" : \"p75\",\n",
    "              \"90%\" : \"p90\",\n",
    "              \"max\" : \"p100\",\n",
    "              \n",
    "              \"mean\" : \"mean\",\n",
    "              \"std\" : \"std\"}\n",
    "    \n",
    "    stats = data.describe(percentiles=percentiles)\n",
    "\n",
    "    for desc_name, new_name in to_get.items() :\n",
    "        metrics[new_name] =  stats.loc[desc_name]\n",
    "    \n",
    "    return metrics\n",
    "    \n",
    "         \n",
    "    \n",
    "def apply_simple_model(model, data, metrics) :\n",
    "    current_data = data.dropna()\n",
    "    #print(current_data.index.values.reshape(-1, 1))\n",
    "    X = current_data.index.values.reshape(-1, 1)\n",
    "    y = current_data.values\n",
    "    \n",
    "    if model ==\"reg_lin\" :\n",
    "        \n",
    "        reg = LinearRegression()\n",
    "        reg.fit(X, y)\n",
    "        \n",
    "        metrics[\"reg_lin_R2\"] = reg.score(X, y)\n",
    "        metrics[\"reg_lin_coef_A\"] = reg.coef_[0]\n",
    "        \n",
    "    \n",
    "    elif model ==\"reg_iso\" :\n",
    "        \n",
    "        \n",
    "        pass\n",
    "    \n",
    "    elif model == \"reg_pol\" :\n",
    "        \n",
    "        iso_reg = IsotonicRegression(increasing = True)\n",
    "        iso_reg.fit(X, y)\n",
    "        \n",
    "        metrics[\"reg_iso_R2\"] = iso_reg.score(X, y) # non fonctionnel\n",
    "        \n",
    "        if False :\n",
    "            print(\"\\n\")\n",
    "            print(\"params iso reg \", iso_reg.get_params(deep=True))\n",
    "            print(iso_reg.X_thresholds_)\n",
    "            print(iso_reg.y_thresholds_)\n",
    "            print(len(iso_reg.X_thresholds_))\n",
    "            print(len(iso_reg.y_thresholds_),\" / \", len(y))\n",
    "    \n",
    "    \n",
    "    return metrics\n",
    "\n",
    "def scale_data(metrics_data):\n",
    "    x_train_unscaled = metrics_data[list(metrics_data.columns[:-1])].values\n",
    "    y_train = metrics_data[\"label\"]\n",
    "    scaler = StandardScaler()\n",
    "    x_train = scaler.fit_transform(x_train_unscaled)\n",
    "    \n",
    "    new_df = pd.DataFrame(x_train,columns = list(metrics_data.columns[:-1]))\n",
    "    new_df[\"label\"] = metrics_data['label']\n",
    "    \n",
    "    return new_df\n",
    "    \n",
    "    \n",
    "def apply_classifier(metrics_data,model = \"KNN\", test = True) :\n",
    "    \n",
    "    x_train = metrics_data[list(metrics_data.columns[:-1])].values\n",
    "    y_train = metrics_data[\"label\"]\n",
    "    \n",
    "    if test : \n",
    "        x_train, x_test, y_train, y_test = train_test_split(x_train, y_test, test_size=0.2,random_state=100)\n",
    "    \n",
    "    cv = min(10, int(x_train.shape[0]/3))\n",
    "    verb = 1\n",
    "    \n",
    "    if model == \"KNN\" :\n",
    "        \n",
    "        \n",
    "        knn = KNeighborsClassifier()\n",
    "        k_range = list(range(1, 31))\n",
    "        param_grid = dict(n_neighbors=k_range)\n",
    "        \n",
    "        grid = GridSearchCV(knn, param_grid, cv=cv, scoring='accuracy', return_train_score=False,verbose=verb)\n",
    "\n",
    "        grid_search=grid.fit(x_train, y_train)\n",
    "        accuracy = grid_search.best_score_ *100\n",
    "        print(\"Accuracy for our training dataset with tuning is : {:.2f}%\".format(accuracy) )\n",
    "\n",
    "    \n",
    "    elif model == \"RF\":\n",
    "        \n",
    "        clf = RandomForestClassifier()\n",
    "        \n",
    "        param_grid = {'n_estimators': [15,30, 50, 100],\n",
    "                      'max_features': ['auto', 'sqrt', 'log2'],\n",
    "                      'max_depth' : [2,3,4,5,6,7,8],\n",
    "                      'criterion' :['gini', 'entropy']\n",
    "                     }\n",
    "        param_grid = {'n_estimators': [15, 50, 100],\n",
    "                      'max_features': ['auto', 'sqrt', 'log2'],\n",
    "                      'criterion' :['gini', 'entropy']\n",
    "                     }\n",
    "        \n",
    "        \n",
    "        CV_rfc = GridSearchCV(estimator=clf, param_grid=param_grid, cv=cv, scoring ='accuracy', return_train_score=False,verbose=verb)\n",
    "        CV_rfc.fit(x_train, y_train)\n",
    "        \n",
    "        accuracy = CV_rfc.best_score_ *100\n",
    "        print(\"Accuracy for our training dataset with tuning is : {:.2f}%\".format(accuracy) )\n",
    "        \n",
    "        \n",
    "    if test :\n",
    "        pass\n",
    "        \n",
    "    \n",
    "    \n",
    "    "
   ]
  },
  {
   "cell_type": "code",
   "execution_count": null,
   "id": "32372cb8",
   "metadata": {},
   "outputs": [],
   "source": []
  },
  {
   "cell_type": "code",
   "execution_count": null,
   "id": "22a054cb",
   "metadata": {},
   "outputs": [],
   "source": []
  },
  {
   "cell_type": "code",
   "execution_count": null,
   "id": "427f43c2",
   "metadata": {},
   "outputs": [],
   "source": []
  },
  {
   "cell_type": "code",
   "execution_count": null,
   "id": "c5c36868",
   "metadata": {},
   "outputs": [],
   "source": []
  },
  {
   "cell_type": "code",
   "execution_count": null,
   "id": "b7486597",
   "metadata": {},
   "outputs": [],
   "source": []
  }
 ],
 "metadata": {
  "kernelspec": {
   "display_name": "Python 3 (ipykernel)",
   "language": "python",
   "name": "python3"
  },
  "language_info": {
   "codemirror_mode": {
    "name": "ipython",
    "version": 3
   },
   "file_extension": ".py",
   "mimetype": "text/x-python",
   "name": "python",
   "nbconvert_exporter": "python",
   "pygments_lexer": "ipython3",
   "version": "3.9.12"
  }
 },
 "nbformat": 4,
 "nbformat_minor": 5
}
