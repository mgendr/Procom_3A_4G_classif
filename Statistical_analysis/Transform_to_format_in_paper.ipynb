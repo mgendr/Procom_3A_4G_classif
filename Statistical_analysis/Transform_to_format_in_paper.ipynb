{
 "cells": [
  {
   "cell_type": "code",
   "execution_count": 14,
   "id": "4c53af1c",
   "metadata": {},
   "outputs": [],
   "source": [
    "import os\n",
    "import pandas as pd\n",
    "import warnings\n",
    "import matplotlib.pyplot as plt\n",
    "\n",
    "import numpy as np\n",
    "import seaborn as sns\n",
    "\n",
    "from tqdm import tqdm\n",
    "from random import randint\n",
    "from sklearn.model_selection import train_test_split\n",
    "from sklearn.preprocessing import StandardScaler\n",
    "import tensorflow as tf\n",
    "from tensorflow.keras.models import Sequential\n",
    "from tensorflow.keras.layers import Conv1D, Conv2D, MaxPool1D, MaxPooling2D, Dense, Flatten, Dropout"
   ]
  },
  {
   "cell_type": "code",
   "execution_count": 2,
   "id": "b66b2e91",
   "metadata": {},
   "outputs": [],
   "source": [
    "length_values = 60"
   ]
  },
  {
   "cell_type": "code",
   "execution_count": 3,
   "id": "da843876",
   "metadata": {},
   "outputs": [],
   "source": [
    "global_data = {}\n",
    "\n",
    "# key : value\n",
    "# uniq_id : [60 values, label]"
   ]
  },
  {
   "cell_type": "code",
   "execution_count": 4,
   "id": "27507fe6",
   "metadata": {},
   "outputs": [],
   "source": [
    "def plot_image(data) :\n",
    "    plt.plot(data.index,data.TBS_1.cumsum(),'bo', color='blue')\n",
    "    plt.plot(data.index,data.TBS_1.cumsum(), color='blue')  \n",
    "    \n",
    "    data[\"TBS_2\"] = data[\"TBS_2\"].replace(to_replace = -2, value = 0)\n",
    "    \n",
    "    plt.plot(data.index,data.TBS_2.cumsum(),'bo', color='orange')\n",
    "    plt.plot(data.index,data.TBS_2.cumsum(), color='orange')  \n",
    "\n",
    "def reformat_data(filename, global_data) :\n",
    "    \n",
    "    data = pd.read_csv(filename)\n",
    "    data[\"TBS_2\"] = data[\"TBS_2\"].replace(to_replace = -2, value = 0)\n",
    "    #data.drop(columns={})\n",
    "    data.set_index(pd.to_datetime(data.Time), inplace=True)\n",
    "    \n",
    "    id_acquis = data.id_acquisition.iloc[0]\n",
    "    \n",
    "    for val in tqdm(data.connection_id.unique()):\n",
    "        current_data = data[data.connection_id==val]\n",
    "        label = current_data.label.value_counts(sort = True, ascending =False).index[0]\n",
    "        #print(current_data)\n",
    "        \n",
    "        #print(\"___\")\n",
    "        #print(current_data.resample('s').mean())\n",
    "        current_data_2 = current_data.resample('s').mean()\n",
    "        current_data_2 = current_data_2.interpolate()\n",
    "        \n",
    "        #print(len(current_data_2))\n",
    "        \n",
    "        if len(current_data_2)>=length_values :\n",
    "            #we only keep the first 60 seconds to begin\n",
    "            current_data_2= current_data_2.iloc[0:length_values]\n",
    "            #print(current_data_2)\n",
    "            #àprint(current_data_2.shape)\n",
    "            \n",
    "            \n",
    "            \n",
    "            global_data[f\"{id_acquis}_{val}\"]=(current_data_2.TBS_1, current_data_2.TBS_2,label)\n",
    "            \n",
    "        \n",
    "       \n",
    "        \n",
    "        \n",
    "        \n",
    "        \n",
    "        \n",
    "        \n",
    "        \n",
    "        \n",
    "        \n",
    "        #plot_image(current_data_2)\n",
    "        \n",
    "        #print(a)\n",
    "    return global_data\n",
    "        \n",
    "     "
   ]
  },
  {
   "cell_type": "code",
   "execution_count": null,
   "id": "e2d359b2",
   "metadata": {},
   "outputs": [],
   "source": []
  },
  {
   "cell_type": "code",
   "execution_count": null,
   "id": "46bcbb5d",
   "metadata": {},
   "outputs": [],
   "source": []
  },
  {
   "cell_type": "code",
   "execution_count": null,
   "id": "669a7a48",
   "metadata": {},
   "outputs": [],
   "source": []
  },
  {
   "cell_type": "code",
   "execution_count": 5,
   "id": "10351bbc",
   "metadata": {},
   "outputs": [
    {
     "name": "stdout",
     "output_type": "stream",
     "text": [
      "Extracting ./Mesures/messenger20221117_125310.csv.... 1/26\n"
     ]
    },
    {
     "name": "stderr",
     "output_type": "stream",
     "text": [
      "100%|██████████████████████████████████████████████████████████████████████████████████| 15/15 [00:00<00:00, 36.71it/s]\n"
     ]
    },
    {
     "name": "stdout",
     "output_type": "stream",
     "text": [
      "Extracting ./Mesures/messenger20221124_143112.csv.... 2/26\n"
     ]
    },
    {
     "name": "stderr",
     "output_type": "stream",
     "text": [
      "100%|██████████████████████████████████████████████████████████████████████████████████| 11/11 [00:00<00:00, 13.37it/s]\n"
     ]
    },
    {
     "name": "stdout",
     "output_type": "stream",
     "text": [
      "Extracting ./Mesures/messenger20221124_151137.csv.... 3/26\n"
     ]
    },
    {
     "name": "stderr",
     "output_type": "stream",
     "text": [
      "100%|████████████████████████████████████████████████████████████████████████████████████| 5/5 [00:00<00:00,  6.44it/s]\n"
     ]
    },
    {
     "name": "stdout",
     "output_type": "stream",
     "text": [
      "Extracting ./Mesures/messenger20221125_130559.csv.... 4/26\n"
     ]
    },
    {
     "name": "stderr",
     "output_type": "stream",
     "text": [
      "100%|██████████████████████████████████████████████████████████████████████████████████| 39/39 [00:01<00:00, 27.22it/s]\n"
     ]
    },
    {
     "name": "stdout",
     "output_type": "stream",
     "text": [
      "Extracting ./Mesures/messenger20221125_150706.csv.... 5/26\n"
     ]
    },
    {
     "name": "stderr",
     "output_type": "stream",
     "text": [
      "100%|████████████████████████████████████████████████████████████████████████████████| 335/335 [00:09<00:00, 35.75it/s]\n"
     ]
    },
    {
     "name": "stdout",
     "output_type": "stream",
     "text": [
      "Extracting ./Mesures/messenger20221129_131204.csv.... 6/26\n"
     ]
    },
    {
     "name": "stderr",
     "output_type": "stream",
     "text": [
      "100%|██████████████████████████████████████████████████████████████████████████████████| 14/14 [00:02<00:00,  4.87it/s]\n"
     ]
    },
    {
     "name": "stdout",
     "output_type": "stream",
     "text": [
      "Extracting ./Mesures/messenger20221129_151124.csv.... 7/26\n"
     ]
    },
    {
     "name": "stderr",
     "output_type": "stream",
     "text": [
      "100%|████████████████████████████████████████████████████████████████████████████████████| 5/5 [00:02<00:00,  2.30it/s]\n"
     ]
    },
    {
     "name": "stdout",
     "output_type": "stream",
     "text": [
      "Extracting ./Mesures/skype20221129_164105.csv.... 8/26\n"
     ]
    },
    {
     "name": "stderr",
     "output_type": "stream",
     "text": [
      "100%|████████████████████████████████████████████████████████████████████████████████████| 5/5 [00:01<00:00,  4.88it/s]\n"
     ]
    },
    {
     "name": "stdout",
     "output_type": "stream",
     "text": [
      "Extracting ./Mesures/skype20221206_125510.csv.... 9/26\n"
     ]
    },
    {
     "name": "stderr",
     "output_type": "stream",
     "text": [
      "100%|██████████████████████████████████████████████████████████████████████████████████| 19/19 [00:01<00:00, 13.40it/s]\n"
     ]
    },
    {
     "name": "stdout",
     "output_type": "stream",
     "text": [
      "Extracting ./Mesures/skype20221206_150902.csv.... 10/26\n"
     ]
    },
    {
     "name": "stderr",
     "output_type": "stream",
     "text": [
      "100%|████████████████████████████████████████████████████████████████████████████████████| 3/3 [00:02<00:00,  1.05it/s]\n"
     ]
    },
    {
     "name": "stdout",
     "output_type": "stream",
     "text": [
      "Extracting ./Mesures/skype20221208_104403.csv.... 11/26\n"
     ]
    },
    {
     "name": "stderr",
     "output_type": "stream",
     "text": [
      "100%|████████████████████████████████████████████████████████████████████████████████████| 7/7 [00:05<00:00,  1.21it/s]\n"
     ]
    },
    {
     "name": "stdout",
     "output_type": "stream",
     "text": [
      "Extracting ./Mesures/skype20221208_124925.csv.... 12/26\n"
     ]
    },
    {
     "name": "stderr",
     "output_type": "stream",
     "text": [
      "100%|████████████████████████████████████████████████████████████████████████████████████| 6/6 [00:06<00:00,  1.12s/it]\n"
     ]
    },
    {
     "name": "stdout",
     "output_type": "stream",
     "text": [
      "Extracting ./Mesures/skype20221215_151512.csv.... 13/26\n"
     ]
    },
    {
     "name": "stderr",
     "output_type": "stream",
     "text": [
      "100%|██████████████████████████████████████████████████████████████████████████████████| 23/23 [00:01<00:00, 17.32it/s]\n"
     ]
    },
    {
     "name": "stdout",
     "output_type": "stream",
     "text": [
      "Extracting ./Mesures/skype20221215_155618.csv.... 14/26\n"
     ]
    },
    {
     "name": "stderr",
     "output_type": "stream",
     "text": [
      "100%|██████████████████████████████████████████████████████████████████████████████████| 19/19 [00:01<00:00, 11.66it/s]\n"
     ]
    },
    {
     "name": "stdout",
     "output_type": "stream",
     "text": [
      "Extracting ./Mesures/skype20221215_164208.csv.... 15/26\n"
     ]
    },
    {
     "name": "stderr",
     "output_type": "stream",
     "text": [
      "100%|████████████████████████████████████████████████████████████████████████████████████| 5/5 [00:01<00:00,  2.63it/s]\n"
     ]
    },
    {
     "name": "stdout",
     "output_type": "stream",
     "text": [
      "Extracting ./Mesures/skype20221215_174819.csv.... 16/26\n"
     ]
    },
    {
     "name": "stderr",
     "output_type": "stream",
     "text": [
      "100%|████████████████████████████████████████████████████████████████████████████████████| 6/6 [00:01<00:00,  3.94it/s]\n"
     ]
    },
    {
     "name": "stdout",
     "output_type": "stream",
     "text": [
      "Extracting ./Mesures/twitch20221117_113554.csv.... 17/26\n"
     ]
    },
    {
     "name": "stderr",
     "output_type": "stream",
     "text": [
      "100%|██████████████████████████████████████████████████████████████████████████████████| 29/29 [00:00<00:00, 39.88it/s]\n"
     ]
    },
    {
     "name": "stdout",
     "output_type": "stream",
     "text": [
      "Extracting ./Mesures/twitch20221118_075454.csv.... 18/26\n"
     ]
    },
    {
     "name": "stderr",
     "output_type": "stream",
     "text": [
      "100%|██████████████████████████████████████████████████████████████████████████████████| 16/16 [00:00<00:00, 20.12it/s]\n"
     ]
    },
    {
     "name": "stdout",
     "output_type": "stream",
     "text": [
      "Extracting ./Mesures/twitch20221124_163054.csv.... 19/26\n"
     ]
    },
    {
     "name": "stderr",
     "output_type": "stream",
     "text": [
      "100%|██████████████████████████████████████████████████████████████████████████████████| 12/12 [00:01<00:00,  8.25it/s]\n"
     ]
    },
    {
     "name": "stdout",
     "output_type": "stream",
     "text": [
      "Extracting ./Mesures/twitch20221125_133859.csv.... 20/26\n"
     ]
    },
    {
     "name": "stderr",
     "output_type": "stream",
     "text": [
      "100%|████████████████████████████████████████████████████████████████████████████████| 109/109 [00:04<00:00, 24.59it/s]\n"
     ]
    },
    {
     "name": "stdout",
     "output_type": "stream",
     "text": [
      "Extracting ./Mesures/youtube20221108_165214.csv.... 21/26\n"
     ]
    },
    {
     "name": "stderr",
     "output_type": "stream",
     "text": [
      "100%|██████████████████████████████████████████████████████████████████████████████████| 12/12 [00:00<00:00, 68.17it/s]\n"
     ]
    },
    {
     "name": "stdout",
     "output_type": "stream",
     "text": [
      "Extracting ./Mesures/youtube20221108_182416.csv.... 22/26\n"
     ]
    },
    {
     "name": "stderr",
     "output_type": "stream",
     "text": [
      "100%|████████████████████████████████████████████████████████████████████████████████████| 4/4 [00:00<00:00, 50.01it/s]\n"
     ]
    },
    {
     "name": "stdout",
     "output_type": "stream",
     "text": [
      "Extracting ./Mesures/youtube20221118_104205.csv.... 23/26\n"
     ]
    },
    {
     "name": "stderr",
     "output_type": "stream",
     "text": [
      "100%|███████████████████████████████████████████████████████████████████████████████| 218/218 [00:02<00:00, 100.55it/s]\n"
     ]
    },
    {
     "name": "stdout",
     "output_type": "stream",
     "text": [
      "Extracting ./Mesures/youtube20221124_125524.csv.... 24/26\n"
     ]
    },
    {
     "name": "stderr",
     "output_type": "stream",
     "text": [
      "100%|███████████████████████████████████████████████████████████████████████████████| 188/188 [00:01<00:00, 127.09it/s]\n"
     ]
    },
    {
     "name": "stdout",
     "output_type": "stream",
     "text": [
      "Extracting ./Mesures/youtube20221124_154037.csv.... 25/26\n"
     ]
    },
    {
     "name": "stderr",
     "output_type": "stream",
     "text": [
      "100%|█████████████████████████████████████████████████████████████████████████████████| 92/92 [00:00<00:00, 121.94it/s]\n"
     ]
    },
    {
     "name": "stdout",
     "output_type": "stream",
     "text": [
      "Extracting ./Mesures/youtube20221130_103723.csv.... 26/26\n"
     ]
    },
    {
     "name": "stderr",
     "output_type": "stream",
     "text": [
      "100%|█████████████████████████████████████████████████████████████████████████████████| 91/91 [00:00<00:00, 139.20it/s]\n"
     ]
    }
   ],
   "source": [
    "directory_data = \"./Mesures/\"\n",
    "datasets = [i for i in os.listdir(directory_data) if i.endswith(\".csv\") ]\n",
    "datasets\n",
    "\n",
    "for i, data in enumerate(datasets) :\n",
    "    file = os.path.join(directory_data,data)\n",
    "    print(f\"Extracting {file}.... {i+1}/{len(datasets)}\")\n",
    "    global_data = reformat_data(file, global_data)"
   ]
  },
  {
   "cell_type": "code",
   "execution_count": 57,
   "id": "9243aa07",
   "metadata": {},
   "outputs": [
    {
     "data": {
      "text/plain": [
       "228"
      ]
     },
     "execution_count": 57,
     "metadata": {},
     "output_type": "execute_result"
    }
   ],
   "source": [
    "len(global_data.values())"
   ]
  },
  {
   "cell_type": "code",
   "execution_count": 58,
   "id": "7e7848e6",
   "metadata": {},
   "outputs": [
    {
     "data": {
      "text/plain": [
       "{'noise': 43, 'twitch': 39, 'messenger': 54, 'skype': 35, 'youtube': 57}"
      ]
     },
     "execution_count": 58,
     "metadata": {},
     "output_type": "execute_result"
    }
   ],
   "source": [
    "list_labels = [i[2] for i in global_data.values()]\n",
    "distrib = dict((x,list_labels.count(x)) for x in set(list_labels))\n",
    "distrib"
   ]
  },
  {
   "cell_type": "code",
   "execution_count": 67,
   "id": "98c067fa",
   "metadata": {},
   "outputs": [
    {
     "data": {
      "text/plain": [
       "[array([0, 0, 1, 0, 0]),\n",
       " array([0, 0, 1, 0, 0]),\n",
       " array([0, 0, 1, 0, 0]),\n",
       " array([0, 0, 1, 0, 0]),\n",
       " array([0, 0, 1, 0, 0]),\n",
       " array([0, 0, 1, 0, 0]),\n",
       " array([0, 0, 1, 0, 0]),\n",
       " array([0, 0, 1, 0, 0]),\n",
       " array([0, 0, 1, 0, 0]),\n",
       " array([0, 0, 1, 0, 0]),\n",
       " array([0, 0, 1, 0, 0]),\n",
       " array([0, 0, 1, 0, 0]),\n",
       " array([1, 0, 0, 0, 0]),\n",
       " array([0, 0, 1, 0, 0]),\n",
       " array([0, 0, 1, 0, 0]),\n",
       " array([0, 0, 1, 0, 0]),\n",
       " array([0, 0, 1, 0, 0]),\n",
       " array([0, 0, 1, 0, 0]),\n",
       " array([0, 0, 1, 0, 0]),\n",
       " array([0, 0, 1, 0, 0]),\n",
       " array([0, 0, 1, 0, 0]),\n",
       " array([0, 0, 1, 0, 0]),\n",
       " array([0, 0, 1, 0, 0]),\n",
       " array([0, 0, 1, 0, 0]),\n",
       " array([0, 0, 1, 0, 0]),\n",
       " array([0, 0, 1, 0, 0]),\n",
       " array([0, 0, 1, 0, 0]),\n",
       " array([0, 0, 1, 0, 0]),\n",
       " array([0, 0, 1, 0, 0]),\n",
       " array([0, 0, 1, 0, 0]),\n",
       " array([0, 0, 1, 0, 0]),\n",
       " array([0, 0, 1, 0, 0]),\n",
       " array([0, 0, 1, 0, 0]),\n",
       " array([0, 0, 1, 0, 0]),\n",
       " array([0, 0, 1, 0, 0]),\n",
       " array([0, 0, 1, 0, 0]),\n",
       " array([0, 0, 1, 0, 0]),\n",
       " array([0, 0, 1, 0, 0]),\n",
       " array([0, 0, 1, 0, 0]),\n",
       " array([0, 0, 1, 0, 0]),\n",
       " array([0, 0, 1, 0, 0]),\n",
       " array([0, 0, 1, 0, 0]),\n",
       " array([0, 0, 1, 0, 0]),\n",
       " array([0, 0, 1, 0, 0]),\n",
       " array([0, 0, 1, 0, 0]),\n",
       " array([1, 0, 0, 0, 0]),\n",
       " array([1, 0, 0, 0, 0]),\n",
       " array([1, 0, 0, 0, 0]),\n",
       " array([1, 0, 0, 0, 0]),\n",
       " array([1, 0, 0, 0, 0]),\n",
       " array([1, 0, 0, 0, 0]),\n",
       " array([1, 0, 0, 0, 0]),\n",
       " array([1, 0, 0, 0, 0]),\n",
       " array([1, 0, 0, 0, 0]),\n",
       " array([1, 0, 0, 0, 0]),\n",
       " array([1, 0, 0, 0, 0]),\n",
       " array([1, 0, 0, 0, 0]),\n",
       " array([1, 0, 0, 0, 0]),\n",
       " array([1, 0, 0, 0, 0]),\n",
       " array([0, 0, 1, 0, 0]),\n",
       " array([1, 0, 0, 0, 0]),\n",
       " array([0, 0, 1, 0, 0]),\n",
       " array([0, 0, 1, 0, 0]),\n",
       " array([0, 0, 1, 0, 0]),\n",
       " array([0, 0, 1, 0, 0]),\n",
       " array([0, 0, 1, 0, 0]),\n",
       " array([0, 0, 1, 0, 0]),\n",
       " array([0, 0, 1, 0, 0]),\n",
       " array([0, 0, 1, 0, 0]),\n",
       " array([0, 0, 1, 0, 0]),\n",
       " array([0, 0, 0, 1, 0]),\n",
       " array([0, 0, 0, 1, 0]),\n",
       " array([0, 0, 0, 1, 0]),\n",
       " array([0, 0, 0, 1, 0]),\n",
       " array([0, 0, 0, 1, 0]),\n",
       " array([1, 0, 0, 0, 0]),\n",
       " array([1, 0, 0, 0, 0]),\n",
       " array([1, 0, 0, 0, 0]),\n",
       " array([1, 0, 0, 0, 0]),\n",
       " array([1, 0, 0, 0, 0]),\n",
       " array([0, 0, 0, 1, 0]),\n",
       " array([0, 0, 0, 1, 0]),\n",
       " array([0, 0, 0, 1, 0]),\n",
       " array([0, 0, 0, 1, 0]),\n",
       " array([0, 0, 0, 1, 0]),\n",
       " array([1, 0, 0, 0, 0]),\n",
       " array([0, 0, 0, 1, 0]),\n",
       " array([0, 0, 0, 1, 0]),\n",
       " array([0, 0, 0, 1, 0]),\n",
       " array([0, 0, 0, 1, 0]),\n",
       " array([0, 0, 0, 1, 0]),\n",
       " array([0, 0, 0, 1, 0]),\n",
       " array([0, 0, 0, 1, 0]),\n",
       " array([0, 0, 0, 1, 0]),\n",
       " array([0, 0, 0, 1, 0]),\n",
       " array([0, 0, 0, 1, 0]),\n",
       " array([0, 0, 0, 1, 0]),\n",
       " array([0, 0, 0, 1, 0]),\n",
       " array([0, 0, 0, 1, 0]),\n",
       " array([0, 0, 0, 1, 0]),\n",
       " array([0, 0, 0, 1, 0]),\n",
       " array([0, 0, 0, 1, 0]),\n",
       " array([0, 0, 0, 1, 0]),\n",
       " array([0, 0, 0, 1, 0]),\n",
       " array([0, 0, 0, 1, 0]),\n",
       " array([0, 0, 0, 1, 0]),\n",
       " array([0, 0, 0, 1, 0]),\n",
       " array([0, 0, 0, 1, 0]),\n",
       " array([0, 0, 0, 1, 0]),\n",
       " array([0, 0, 0, 1, 0]),\n",
       " array([0, 0, 0, 1, 0]),\n",
       " array([1, 0, 0, 0, 0]),\n",
       " array([1, 0, 0, 0, 0]),\n",
       " array([1, 0, 0, 0, 0]),\n",
       " array([1, 0, 0, 0, 0]),\n",
       " array([0, 1, 0, 0, 0]),\n",
       " array([0, 1, 0, 0, 0]),\n",
       " array([0, 1, 0, 0, 0]),\n",
       " array([0, 1, 0, 0, 0]),\n",
       " array([0, 1, 0, 0, 0]),\n",
       " array([1, 0, 0, 0, 0]),\n",
       " array([0, 1, 0, 0, 0]),\n",
       " array([1, 0, 0, 0, 0]),\n",
       " array([1, 0, 0, 0, 0]),\n",
       " array([1, 0, 0, 0, 0]),\n",
       " array([1, 0, 0, 0, 0]),\n",
       " array([1, 0, 0, 0, 0]),\n",
       " array([0, 1, 0, 0, 0]),\n",
       " array([0, 1, 0, 0, 0]),\n",
       " array([0, 1, 0, 0, 0]),\n",
       " array([0, 1, 0, 0, 0]),\n",
       " array([0, 1, 0, 0, 0]),\n",
       " array([0, 1, 0, 0, 0]),\n",
       " array([0, 1, 0, 0, 0]),\n",
       " array([0, 1, 0, 0, 0]),\n",
       " array([0, 1, 0, 0, 0]),\n",
       " array([0, 1, 0, 0, 0]),\n",
       " array([0, 1, 0, 0, 0]),\n",
       " array([0, 1, 0, 0, 0]),\n",
       " array([0, 1, 0, 0, 0]),\n",
       " array([0, 1, 0, 0, 0]),\n",
       " array([0, 1, 0, 0, 0]),\n",
       " array([0, 1, 0, 0, 0]),\n",
       " array([0, 1, 0, 0, 0]),\n",
       " array([0, 1, 0, 0, 0]),\n",
       " array([0, 1, 0, 0, 0]),\n",
       " array([0, 1, 0, 0, 0]),\n",
       " array([0, 1, 0, 0, 0]),\n",
       " array([0, 1, 0, 0, 0]),\n",
       " array([0, 1, 0, 0, 0]),\n",
       " array([0, 1, 0, 0, 0]),\n",
       " array([0, 1, 0, 0, 0]),\n",
       " array([0, 1, 0, 0, 0]),\n",
       " array([0, 1, 0, 0, 0]),\n",
       " array([0, 1, 0, 0, 0]),\n",
       " array([0, 1, 0, 0, 0]),\n",
       " array([0, 1, 0, 0, 0]),\n",
       " array([0, 1, 0, 0, 0]),\n",
       " array([0, 1, 0, 0, 0]),\n",
       " array([0, 1, 0, 0, 0]),\n",
       " array([1, 0, 0, 0, 0]),\n",
       " array([1, 0, 0, 0, 0]),\n",
       " array([1, 0, 0, 0, 0]),\n",
       " array([0, 0, 0, 0, 1]),\n",
       " array([0, 0, 0, 0, 1]),\n",
       " array([0, 0, 0, 0, 1]),\n",
       " array([0, 0, 0, 0, 1]),\n",
       " array([0, 0, 0, 0, 1]),\n",
       " array([0, 0, 0, 0, 1]),\n",
       " array([0, 0, 0, 0, 1]),\n",
       " array([0, 0, 0, 0, 1]),\n",
       " array([0, 0, 0, 0, 1]),\n",
       " array([0, 0, 0, 0, 1]),\n",
       " array([0, 0, 0, 0, 1]),\n",
       " array([0, 0, 0, 0, 1]),\n",
       " array([0, 0, 0, 0, 1]),\n",
       " array([0, 0, 0, 0, 1]),\n",
       " array([0, 0, 0, 0, 1]),\n",
       " array([0, 0, 0, 0, 1]),\n",
       " array([0, 0, 0, 0, 1]),\n",
       " array([0, 0, 0, 0, 1]),\n",
       " array([0, 0, 0, 0, 1]),\n",
       " array([0, 0, 0, 0, 1]),\n",
       " array([0, 0, 0, 0, 1]),\n",
       " array([0, 0, 0, 0, 1]),\n",
       " array([0, 0, 0, 0, 1]),\n",
       " array([0, 0, 0, 0, 1]),\n",
       " array([0, 0, 0, 0, 1]),\n",
       " array([0, 0, 0, 0, 1]),\n",
       " array([0, 0, 0, 0, 1]),\n",
       " array([0, 0, 0, 0, 1]),\n",
       " array([0, 0, 0, 0, 1]),\n",
       " array([0, 0, 0, 0, 1]),\n",
       " array([0, 0, 0, 0, 1]),\n",
       " array([0, 0, 0, 0, 1]),\n",
       " array([0, 0, 0, 0, 1]),\n",
       " array([0, 0, 0, 0, 1]),\n",
       " array([1, 0, 0, 0, 0]),\n",
       " array([1, 0, 0, 0, 0]),\n",
       " array([1, 0, 0, 0, 0]),\n",
       " array([1, 0, 0, 0, 0]),\n",
       " array([1, 0, 0, 0, 0]),\n",
       " array([1, 0, 0, 0, 0]),\n",
       " array([0, 0, 0, 0, 1]),\n",
       " array([0, 0, 0, 0, 1]),\n",
       " array([0, 0, 0, 0, 1]),\n",
       " array([0, 0, 0, 0, 1]),\n",
       " array([0, 0, 0, 0, 1]),\n",
       " array([0, 0, 0, 0, 1]),\n",
       " array([0, 0, 0, 0, 1]),\n",
       " array([0, 0, 0, 0, 1]),\n",
       " array([0, 0, 0, 0, 1]),\n",
       " array([0, 0, 0, 0, 1]),\n",
       " array([0, 0, 0, 0, 1]),\n",
       " array([0, 0, 0, 0, 1]),\n",
       " array([0, 0, 0, 0, 1]),\n",
       " array([0, 0, 0, 0, 1]),\n",
       " array([0, 0, 0, 0, 1]),\n",
       " array([1, 0, 0, 0, 0]),\n",
       " array([1, 0, 0, 0, 0]),\n",
       " array([0, 0, 0, 0, 1]),\n",
       " array([0, 0, 0, 0, 1]),\n",
       " array([0, 0, 0, 0, 1]),\n",
       " array([0, 0, 0, 0, 1]),\n",
       " array([0, 0, 0, 0, 1]),\n",
       " array([0, 0, 0, 0, 1]),\n",
       " array([0, 0, 0, 0, 1]),\n",
       " array([0, 0, 0, 0, 1])]"
      ]
     },
     "execution_count": 67,
     "metadata": {},
     "output_type": "execute_result"
    }
   ],
   "source": [
    "label_one_hot = [list(distrib.keys()).index(elem) for elem in list_labels ]\n",
    "label_one_hot = [np.array([1 if i==class__ else 0 for i in range(len(distrib.keys()))]) for class__ in label_one_hot]\n",
    "label_one_hot"
   ]
  },
  {
   "cell_type": "code",
   "execution_count": 68,
   "id": "6ddffb4c",
   "metadata": {},
   "outputs": [],
   "source": [
    "#df = pd.DataFrame(data={'images': [np.array([i[0].values, i[1].values]) for i in global_data.values()],\n",
    "#                        'labels': [i[2] for i in global_data.values()]})\n",
    "\n",
    "\n",
    "TBS_1_to_scale = np.array([i[0].values for i in  global_data.values()])\n",
    "TBS_2_to_scale = np.array([i[1].values for i in  global_data.values()])\n",
    "                          \n",
    "scaler = StandardScaler()\n",
    "TBS_1_scaled = scaler.fit_transform(TBS_1_to_scale)\n",
    "scaler = StandardScaler()\n",
    "TBS_2_scaled = scaler.fit_transform(TBS_2_to_scale)"
   ]
  },
  {
   "cell_type": "code",
   "execution_count": 82,
   "id": "b393f32d",
   "metadata": {},
   "outputs": [
    {
     "data": {
      "text/html": [
       "<div>\n",
       "<style scoped>\n",
       "    .dataframe tbody tr th:only-of-type {\n",
       "        vertical-align: middle;\n",
       "    }\n",
       "\n",
       "    .dataframe tbody tr th {\n",
       "        vertical-align: top;\n",
       "    }\n",
       "\n",
       "    .dataframe thead th {\n",
       "        text-align: right;\n",
       "    }\n",
       "</style>\n",
       "<table border=\"1\" class=\"dataframe\">\n",
       "  <thead>\n",
       "    <tr style=\"text-align: right;\">\n",
       "      <th></th>\n",
       "      <th>images</th>\n",
       "      <th>labels</th>\n",
       "    </tr>\n",
       "  </thead>\n",
       "  <tbody>\n",
       "    <tr>\n",
       "      <th>0</th>\n",
       "      <td>[[-0.6372559766242273, -0.07188975641340825], ...</td>\n",
       "      <td>[0, 0, 1, 0, 0]</td>\n",
       "    </tr>\n",
       "    <tr>\n",
       "      <th>1</th>\n",
       "      <td>[[-0.742301143092083, -0.07188975641340825], [...</td>\n",
       "      <td>[0, 0, 1, 0, 0]</td>\n",
       "    </tr>\n",
       "    <tr>\n",
       "      <th>2</th>\n",
       "      <td>[[-0.5594112473013593, -0.07188975641340825], ...</td>\n",
       "      <td>[0, 0, 1, 0, 0]</td>\n",
       "    </tr>\n",
       "    <tr>\n",
       "      <th>3</th>\n",
       "      <td>[[0.42672950239756996, 15.026349424376699], [-...</td>\n",
       "      <td>[0, 0, 1, 0, 0]</td>\n",
       "    </tr>\n",
       "    <tr>\n",
       "      <th>4</th>\n",
       "      <td>[[-0.755431788900565, -0.07188975641340825], [...</td>\n",
       "      <td>[0, 0, 1, 0, 0]</td>\n",
       "    </tr>\n",
       "    <tr>\n",
       "      <th>...</th>\n",
       "      <td>...</td>\n",
       "      <td>...</td>\n",
       "    </tr>\n",
       "    <tr>\n",
       "      <th>223</th>\n",
       "      <td>[[-0.6414299567487778, -0.07188975641340825], ...</td>\n",
       "      <td>[0, 0, 0, 0, 1]</td>\n",
       "    </tr>\n",
       "    <tr>\n",
       "      <th>224</th>\n",
       "      <td>[[0.33213121871714707, -0.07188975641340825], ...</td>\n",
       "      <td>[0, 0, 0, 0, 1]</td>\n",
       "    </tr>\n",
       "    <tr>\n",
       "      <th>225</th>\n",
       "      <td>[[-0.6309950064374015, -0.07188975641340825], ...</td>\n",
       "      <td>[0, 0, 0, 0, 1]</td>\n",
       "    </tr>\n",
       "    <tr>\n",
       "      <th>226</th>\n",
       "      <td>[[-0.6406995102269815, -0.07188975641340825], ...</td>\n",
       "      <td>[0, 0, 0, 0, 1]</td>\n",
       "    </tr>\n",
       "    <tr>\n",
       "      <th>227</th>\n",
       "      <td>[[-0.6492087378899857, -0.07188975641340825], ...</td>\n",
       "      <td>[0, 0, 0, 0, 1]</td>\n",
       "    </tr>\n",
       "  </tbody>\n",
       "</table>\n",
       "<p>228 rows × 2 columns</p>\n",
       "</div>"
      ],
      "text/plain": [
       "                                                images           labels\n",
       "0    [[-0.6372559766242273, -0.07188975641340825], ...  [0, 0, 1, 0, 0]\n",
       "1    [[-0.742301143092083, -0.07188975641340825], [...  [0, 0, 1, 0, 0]\n",
       "2    [[-0.5594112473013593, -0.07188975641340825], ...  [0, 0, 1, 0, 0]\n",
       "3    [[0.42672950239756996, 15.026349424376699], [-...  [0, 0, 1, 0, 0]\n",
       "4    [[-0.755431788900565, -0.07188975641340825], [...  [0, 0, 1, 0, 0]\n",
       "..                                                 ...              ...\n",
       "223  [[-0.6414299567487778, -0.07188975641340825], ...  [0, 0, 0, 0, 1]\n",
       "224  [[0.33213121871714707, -0.07188975641340825], ...  [0, 0, 0, 0, 1]\n",
       "225  [[-0.6309950064374015, -0.07188975641340825], ...  [0, 0, 0, 0, 1]\n",
       "226  [[-0.6406995102269815, -0.07188975641340825], ...  [0, 0, 0, 0, 1]\n",
       "227  [[-0.6492087378899857, -0.07188975641340825], ...  [0, 0, 0, 0, 1]\n",
       "\n",
       "[228 rows x 2 columns]"
      ]
     },
     "execution_count": 82,
     "metadata": {},
     "output_type": "execute_result"
    }
   ],
   "source": [
    "BATCH_SIZE = 16\n",
    "\n",
    "\n",
    "df = pd.DataFrame(data={'images': [ np.transpose(np.array([TBS_1_scaled[i], TBS_2_scaled[i]])) for i in range(len(global_data.values()))],\n",
    "                        'labels': label_one_hot})\n",
    "\n",
    "df\n"
   ]
  },
  {
   "cell_type": "code",
   "execution_count": 83,
   "id": "07320358",
   "metadata": {},
   "outputs": [],
   "source": [
    "dataset_tf = tf.data.Dataset.from_tensor_slices((list(df['images'].values), list(df['labels'].values))).batch(BATCH_SIZE)"
   ]
  },
  {
   "cell_type": "code",
   "execution_count": null,
   "id": "462dd29b",
   "metadata": {},
   "outputs": [],
   "source": []
  },
  {
   "cell_type": "code",
   "execution_count": 84,
   "id": "e18d1bcb",
   "metadata": {},
   "outputs": [],
   "source": [
    "train_size = int(len(dataset_tf)*.7)\n",
    "val_size = int(len(dataset_tf)*.2)+0\n",
    "test_size = int(len(dataset_tf)*.1)+1\n",
    "\n",
    "train = dataset_tf.take(train_size)\n",
    "val =dataset_tf.skip(train_size).take(val_size)\n",
    "test= dataset_tf.skip(train_size + val_size).take(test_size)"
   ]
  },
  {
   "cell_type": "code",
   "execution_count": 85,
   "id": "f612323c",
   "metadata": {},
   "outputs": [],
   "source": [
    "#images_train, _ = tuple(zip(*train))\n",
    "#images_train = np.concatenate(images_train)\n",
    "#images_train.shape"
   ]
  },
  {
   "cell_type": "code",
   "execution_count": null,
   "id": "9912a27e",
   "metadata": {},
   "outputs": [],
   "source": []
  },
  {
   "cell_type": "code",
   "execution_count": 86,
   "id": "3ed6769c",
   "metadata": {},
   "outputs": [],
   "source": [
    "# Model\n"
   ]
  },
  {
   "cell_type": "code",
   "execution_count": null,
   "id": "6fb467f8",
   "metadata": {},
   "outputs": [],
   "source": []
  },
  {
   "cell_type": "code",
   "execution_count": null,
   "id": "7437196e",
   "metadata": {},
   "outputs": [],
   "source": []
  },
  {
   "cell_type": "code",
   "execution_count": 94,
   "id": "6adbcb01",
   "metadata": {},
   "outputs": [],
   "source": [
    "model = Sequential()\n",
    "\n",
    "model.add(Conv1D(32, 5, activation='relu', input_shape=(length_values,2)))\n",
    "model.add(MaxPool1D()) #Adding a convultion layer\n",
    "\n",
    "model.add(Conv1D(64, 5, activation='relu'))\n",
    "model.add(MaxPool1D()) #\n",
    "\n",
    "model.add(Conv1D(32, 5, activation='relu'))\n",
    "model.add(MaxPool1D())\n",
    "\n",
    "model.add(Flatten())\n",
    "model.add(Dense(256, activation='relu'))\n",
    "model.add(Dense(len(distrib.keys()), activation='sigmoid'))\n",
    "\n",
    "\n"
   ]
  },
  {
   "cell_type": "code",
   "execution_count": 95,
   "id": "9bb52ecf",
   "metadata": {},
   "outputs": [
    {
     "name": "stdout",
     "output_type": "stream",
     "text": [
      "Model: \"sequential_5\"\n",
      "_________________________________________________________________\n",
      " Layer (type)                Output Shape              Param #   \n",
      "=================================================================\n",
      " conv1d_13 (Conv1D)          (None, 56, 32)            352       \n",
      "                                                                 \n",
      " max_pooling1d_12 (MaxPoolin  (None, 28, 32)           0         \n",
      " g1D)                                                            \n",
      "                                                                 \n",
      " conv1d_14 (Conv1D)          (None, 24, 64)            10304     \n",
      "                                                                 \n",
      " max_pooling1d_13 (MaxPoolin  (None, 12, 64)           0         \n",
      " g1D)                                                            \n",
      "                                                                 \n",
      " conv1d_15 (Conv1D)          (None, 8, 32)             10272     \n",
      "                                                                 \n",
      " max_pooling1d_14 (MaxPoolin  (None, 4, 32)            0         \n",
      " g1D)                                                            \n",
      "                                                                 \n",
      " flatten_4 (Flatten)         (None, 128)               0         \n",
      "                                                                 \n",
      " dense_8 (Dense)             (None, 256)               33024     \n",
      "                                                                 \n",
      " dense_9 (Dense)             (None, 5)                 1285      \n",
      "                                                                 \n",
      "=================================================================\n",
      "Total params: 55,237\n",
      "Trainable params: 55,237\n",
      "Non-trainable params: 0\n",
      "_________________________________________________________________\n"
     ]
    }
   ],
   "source": [
    "#Conv 1 : output_shape= (None, length_values-5+1,32)    (None, 56,32)\n",
    "model.compile('adam', loss = tf.losses.BinaryCrossentropy(), metrics =['accuracy'])\n",
    "model.summary()"
   ]
  },
  {
   "cell_type": "code",
   "execution_count": 96,
   "id": "2b445e07",
   "metadata": {},
   "outputs": [
    {
     "name": "stdout",
     "output_type": "stream",
     "text": [
      "Epoch 1/50\n",
      "10/10 [==============================] - 3s 69ms/step - loss: 0.6726 - accuracy: 0.3063 - val_loss: 0.6424 - val_accuracy: 0.0000e+00\n",
      "Epoch 2/50\n",
      "10/10 [==============================] - 0s 17ms/step - loss: 0.5123 - accuracy: 0.3375 - val_loss: 0.8676 - val_accuracy: 0.0000e+00\n",
      "Epoch 3/50\n",
      "10/10 [==============================] - 0s 19ms/step - loss: 0.4699 - accuracy: 0.4688 - val_loss: 1.0422 - val_accuracy: 0.0000e+00\n",
      "Epoch 4/50\n",
      "10/10 [==============================] - 0s 19ms/step - loss: 0.4533 - accuracy: 0.2500 - val_loss: 1.1858 - val_accuracy: 0.0000e+00\n",
      "Epoch 5/50\n",
      "10/10 [==============================] - 0s 18ms/step - loss: 0.4416 - accuracy: 0.2500 - val_loss: 1.3725 - val_accuracy: 0.0833\n",
      "Epoch 6/50\n",
      "10/10 [==============================] - 0s 18ms/step - loss: 0.4303 - accuracy: 0.3438 - val_loss: 1.5013 - val_accuracy: 0.1458\n",
      "Epoch 7/50\n",
      "10/10 [==============================] - 0s 20ms/step - loss: 0.4163 - accuracy: 0.3500 - val_loss: 1.6154 - val_accuracy: 0.1458\n",
      "Epoch 8/50\n",
      "10/10 [==============================] - 0s 17ms/step - loss: 0.4052 - accuracy: 0.3875 - val_loss: 1.7221 - val_accuracy: 0.1458\n",
      "Epoch 9/50\n",
      "10/10 [==============================] - 0s 20ms/step - loss: 0.3972 - accuracy: 0.4000 - val_loss: 1.8138 - val_accuracy: 0.1458\n",
      "Epoch 10/50\n",
      "10/10 [==============================] - 0s 19ms/step - loss: 0.3913 - accuracy: 0.4250 - val_loss: 1.8925 - val_accuracy: 0.1458\n",
      "Epoch 11/50\n",
      "10/10 [==============================] - 0s 17ms/step - loss: 0.3838 - accuracy: 0.4500 - val_loss: 1.9527 - val_accuracy: 0.1458\n",
      "Epoch 12/50\n",
      "10/10 [==============================] - 0s 19ms/step - loss: 0.3750 - accuracy: 0.4563 - val_loss: 2.0126 - val_accuracy: 0.1458\n",
      "Epoch 13/50\n",
      "10/10 [==============================] - 0s 17ms/step - loss: 0.3695 - accuracy: 0.4563 - val_loss: 2.0684 - val_accuracy: 0.1458\n",
      "Epoch 14/50\n",
      "10/10 [==============================] - 0s 16ms/step - loss: 0.3608 - accuracy: 0.4938 - val_loss: 2.1230 - val_accuracy: 0.1458\n",
      "Epoch 15/50\n",
      "10/10 [==============================] - 0s 17ms/step - loss: 0.3541 - accuracy: 0.5188 - val_loss: 2.1781 - val_accuracy: 0.1458\n",
      "Epoch 16/50\n",
      "10/10 [==============================] - 0s 16ms/step - loss: 0.3452 - accuracy: 0.5813 - val_loss: 2.2403 - val_accuracy: 0.1458\n",
      "Epoch 17/50\n",
      "10/10 [==============================] - 0s 18ms/step - loss: 0.3378 - accuracy: 0.6438 - val_loss: 2.3086 - val_accuracy: 0.1250\n",
      "Epoch 18/50\n",
      "10/10 [==============================] - 0s 18ms/step - loss: 0.3247 - accuracy: 0.6625 - val_loss: 2.3823 - val_accuracy: 0.1250\n",
      "Epoch 19/50\n",
      "10/10 [==============================] - 0s 20ms/step - loss: 0.3155 - accuracy: 0.6750 - val_loss: 2.4669 - val_accuracy: 0.1250\n",
      "Epoch 20/50\n",
      "10/10 [==============================] - 0s 24ms/step - loss: 0.3006 - accuracy: 0.6812 - val_loss: 2.5835 - val_accuracy: 0.1250\n",
      "Epoch 21/50\n",
      "10/10 [==============================] - 0s 21ms/step - loss: 0.2897 - accuracy: 0.7125 - val_loss: 2.6725 - val_accuracy: 0.1250\n",
      "Epoch 22/50\n",
      "10/10 [==============================] - 0s 25ms/step - loss: 0.2773 - accuracy: 0.7250 - val_loss: 2.7944 - val_accuracy: 0.1250\n",
      "Epoch 23/50\n",
      "10/10 [==============================] - 0s 27ms/step - loss: 0.2688 - accuracy: 0.7312 - val_loss: 2.8908 - val_accuracy: 0.1250\n",
      "Epoch 24/50\n",
      "10/10 [==============================] - 0s 21ms/step - loss: 0.2580 - accuracy: 0.7437 - val_loss: 3.0186 - val_accuracy: 0.1250\n",
      "Epoch 25/50\n",
      "10/10 [==============================] - 0s 20ms/step - loss: 0.2515 - accuracy: 0.7563 - val_loss: 3.1032 - val_accuracy: 0.1458\n",
      "Epoch 26/50\n",
      "10/10 [==============================] - 0s 24ms/step - loss: 0.2442 - accuracy: 0.7625 - val_loss: 3.2055 - val_accuracy: 0.1250\n",
      "Epoch 27/50\n",
      "10/10 [==============================] - 0s 24ms/step - loss: 0.2380 - accuracy: 0.7688 - val_loss: 3.2714 - val_accuracy: 0.1458\n",
      "Epoch 28/50\n",
      "10/10 [==============================] - 0s 20ms/step - loss: 0.2313 - accuracy: 0.7688 - val_loss: 3.3376 - val_accuracy: 0.1458\n",
      "Epoch 29/50\n",
      "10/10 [==============================] - 0s 24ms/step - loss: 0.2248 - accuracy: 0.7750 - val_loss: 3.4246 - val_accuracy: 0.1458\n",
      "Epoch 30/50\n",
      "10/10 [==============================] - 0s 21ms/step - loss: 0.2204 - accuracy: 0.7750 - val_loss: 3.4562 - val_accuracy: 0.1458\n",
      "Epoch 31/50\n",
      "10/10 [==============================] - 0s 25ms/step - loss: 0.2128 - accuracy: 0.7937 - val_loss: 3.5566 - val_accuracy: 0.1458\n",
      "Epoch 32/50\n",
      "10/10 [==============================] - 0s 20ms/step - loss: 0.2100 - accuracy: 0.8000 - val_loss: 3.5884 - val_accuracy: 0.1458\n",
      "Epoch 33/50\n",
      "10/10 [==============================] - 0s 24ms/step - loss: 0.2018 - accuracy: 0.8062 - val_loss: 3.6738 - val_accuracy: 0.1458\n",
      "Epoch 34/50\n",
      "10/10 [==============================] - 0s 22ms/step - loss: 0.1988 - accuracy: 0.8125 - val_loss: 3.7033 - val_accuracy: 0.1458\n",
      "Epoch 35/50\n",
      "10/10 [==============================] - 0s 24ms/step - loss: 0.1909 - accuracy: 0.8313 - val_loss: 3.8136 - val_accuracy: 0.1458\n",
      "Epoch 36/50\n",
      "10/10 [==============================] - 0s 21ms/step - loss: 0.1879 - accuracy: 0.8375 - val_loss: 3.8532 - val_accuracy: 0.1458\n",
      "Epoch 37/50\n",
      "10/10 [==============================] - 0s 22ms/step - loss: 0.1807 - accuracy: 0.8375 - val_loss: 3.9590 - val_accuracy: 0.1458\n",
      "Epoch 38/50\n",
      "10/10 [==============================] - 0s 22ms/step - loss: 0.1774 - accuracy: 0.8438 - val_loss: 3.9790 - val_accuracy: 0.1458\n",
      "Epoch 39/50\n",
      "10/10 [==============================] - 0s 20ms/step - loss: 0.1698 - accuracy: 0.8562 - val_loss: 4.0818 - val_accuracy: 0.1458\n",
      "Epoch 40/50\n",
      "10/10 [==============================] - 0s 18ms/step - loss: 0.1667 - accuracy: 0.8625 - val_loss: 4.1204 - val_accuracy: 0.1667\n",
      "Epoch 41/50\n",
      "10/10 [==============================] - 0s 17ms/step - loss: 0.1602 - accuracy: 0.8625 - val_loss: 4.2203 - val_accuracy: 0.1458\n",
      "Epoch 42/50\n",
      "10/10 [==============================] - 0s 24ms/step - loss: 0.1558 - accuracy: 0.8625 - val_loss: 4.2584 - val_accuracy: 0.1458\n",
      "Epoch 43/50\n",
      "10/10 [==============================] - 0s 23ms/step - loss: 0.1494 - accuracy: 0.8625 - val_loss: 4.3656 - val_accuracy: 0.1458\n",
      "Epoch 44/50\n",
      "10/10 [==============================] - 0s 18ms/step - loss: 0.1465 - accuracy: 0.8687 - val_loss: 4.4434 - val_accuracy: 0.1458\n",
      "Epoch 45/50\n",
      "10/10 [==============================] - 0s 21ms/step - loss: 0.1403 - accuracy: 0.8687 - val_loss: 4.5149 - val_accuracy: 0.1458\n",
      "Epoch 46/50\n",
      "10/10 [==============================] - 0s 17ms/step - loss: 0.1353 - accuracy: 0.8750 - val_loss: 4.6170 - val_accuracy: 0.1458\n",
      "Epoch 47/50\n",
      "10/10 [==============================] - 0s 19ms/step - loss: 0.1350 - accuracy: 0.8813 - val_loss: 4.6541 - val_accuracy: 0.1458\n",
      "Epoch 48/50\n",
      "10/10 [==============================] - 0s 22ms/step - loss: 0.1261 - accuracy: 0.8813 - val_loss: 4.7797 - val_accuracy: 0.0833\n",
      "Epoch 49/50\n",
      "10/10 [==============================] - 0s 20ms/step - loss: 0.1220 - accuracy: 0.9000 - val_loss: 4.8516 - val_accuracy: 0.1458\n",
      "Epoch 50/50\n",
      "10/10 [==============================] - 0s 18ms/step - loss: 0.1202 - accuracy: 0.9000 - val_loss: 4.9246 - val_accuracy: 0.1458\n"
     ]
    }
   ],
   "source": [
    "logdir = 'logs'\n",
    "tensorboard_callback = tf.keras.callbacks.TensorBoard(log_dir=logdir)\n",
    "hist = model.fit(train, epochs =50, validation_data = val, callbacks =[tensorboard_callback])"
   ]
  },
  {
   "cell_type": "code",
   "execution_count": 98,
   "id": "1f3d54bd",
   "metadata": {},
   "outputs": [
    {
     "data": {
      "image/png": "[encoded data removed]",
      "text/plain": [
       "<Figure size 432x288 with 1 Axes>"
      ]
     },
     "metadata": {
      "needs_background": "light"
     },
     "output_type": "display_data"
    }
   ],
   "source": [
    "fig =plt.figure()\n",
    "plt.plot(hist.history['loss'], color ='teal', label ='train_loss')\n",
    "plt.plot(hist.history['val_loss'], color ='red', label ='val_loss')\n",
    "#plt.plot(hist.history['val_loss'], color= 'orange', label = 'val_loss')\n",
    "fig.suptitle('Loss', fontsize =20)\n",
    "plt.legend(loc =\"upper left\")\n",
    "plt.show()"
   ]
  },
  {
   "cell_type": "code",
   "execution_count": null,
   "id": "b1c14021",
   "metadata": {},
   "outputs": [],
   "source": []
  }
 ],
 "metadata": {
  "kernelspec": {
   "display_name": "Python 3 (ipykernel)",
   "language": "python",
   "name": "python3"
  },
  "language_info": {
   "codemirror_mode": {
    "name": "ipython",
    "version": 3
   },
   "file_extension": ".py",
   "mimetype": "text/x-python",
   "name": "python",
   "nbconvert_exporter": "python",
   "pygments_lexer": "ipython3",
   "version": "3.9.12"
  }
 },
 "nbformat": 4,
 "nbformat_minor": 5
}
