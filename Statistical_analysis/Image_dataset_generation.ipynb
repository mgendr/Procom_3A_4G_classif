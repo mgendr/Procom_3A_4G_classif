{
 "cells": [
  {
   "cell_type": "code",
   "execution_count": 1,
   "id": "45c83ba9",
   "metadata": {},
   "outputs": [
    {
     "data": {
      "text/plain": [
       "[]"
      ]
     },
     "execution_count": 1,
     "metadata": {},
     "output_type": "execute_result"
    }
   ],
   "source": [
    "import os\n",
    "import pandas as pd\n",
    "import warnings\n",
    "import matplotlib.pyplot as plt\n",
    "\n",
    "import numpy as np\n",
    "import seaborn as sns\n",
    "\n",
    "from tqdm import tqdm\n",
    "from random import randint\n",
    "\n",
    "plt.rcParams[\"figure.figsize\"] = (20, 16)\n",
    "warnings.simplefilter(\"ignore\")\n",
    "[i for i in os.listdir() if i.endswith(\".csv\") ]\n",
    "\n",
    "\n",
    "### <8 mbits en cumsum = bruit "
   ]
  },
  {
   "cell_type": "code",
   "execution_count": 2,
   "id": "433aefc1",
   "metadata": {},
   "outputs": [],
   "source": [
    "name_dataset = \"dataset_images\"\n",
    "global_labels = [\"noise\", \"whatsapp\",\"youtube\", \"twitch\",\"messenger\", \"skype\"]\n",
    "try :\n",
    "    os.mkdir(name_dataset)\n",
    "except :\n",
    "    pass\n",
    "for label in global_labels :\n",
    "    try : \n",
    "        cur_path = os.path.join(name_dataset,label)\n",
    "        os.mkdir(cur_path)\n",
    "    except : pass"
   ]
  },
  {
   "cell_type": "code",
   "execution_count": 3,
   "id": "71cc747f",
   "metadata": {},
   "outputs": [],
   "source": [
    "def plot_image(data) :\n",
    "    plt.plot(data.index,data.TBS_1.cumsum(),'bo', color='blue')\n",
    "    plt.plot(data.index,data.TBS_1.cumsum(), color='blue')  \n",
    "    \n",
    "    data[\"TBS_2\"] = data[\"TBS_2\"].replace(to_replace = -2, value = 0)\n",
    "    \n",
    "    plt.plot(data.index,data.TBS_2.cumsum(),'bo', color='orange')\n",
    "    plt.plot(data.index,data.TBS_2.cumsum(), color='orange')  \n",
    "\n",
    "def generate_images(filename) :\n",
    "    \n",
    "    data = pd.read_csv(filename)\n",
    "    \n",
    "    id_acquis = data.id_acquisition.iloc[0]\n",
    "    \n",
    "    for val in tqdm(data.connection_id.unique()):\n",
    "        current_data = data[data.connection_id==val]\n",
    "        label = current_data.label.value_counts(sort = True, ascending =False).index[0]\n",
    "        #print(label)\n",
    "        plot_image(current_data)\n",
    "        name_img = f\"{id_acquis}_{val}.png\"\n",
    "        path = os.path.join(name_dataset, label, name_img )\n",
    "        #print(path)\n",
    "        plt.savefig(path, format = \"jpg\")\n",
    "        plt.close()\n",
    "        \n",
    " "
   ]
  },
  {
   "cell_type": "code",
   "execution_count": 4,
   "id": "c77e453f",
   "metadata": {},
   "outputs": [
    {
     "data": {
      "text/plain": [
       "['messenger20221117_125310.csv',\n",
       " 'messenger20221124_143112.csv',\n",
       " 'messenger20221124_151137.csv',\n",
       " 'messenger20221125_130559.csv',\n",
       " 'messenger20221125_150706.csv',\n",
       " 'messenger20221129_131204.csv',\n",
       " 'messenger20221129_151124.csv',\n",
       " 'skype20221129_164105.csv',\n",
       " 'twitch20221117_113554.csv',\n",
       " 'twitch20221118_075454.csv',\n",
       " 'twitch20221124_163054.csv',\n",
       " 'twitch20221125_133859.csv',\n",
       " 'youtube20221108_165214.csv',\n",
       " 'youtube20221108_182416.csv',\n",
       " 'youtube20221118_104205.csv',\n",
       " 'youtube20221124_125524.csv',\n",
       " 'youtube20221124_154037.csv',\n",
       " 'youtube20221130_103723.csv']"
      ]
     },
     "execution_count": 4,
     "metadata": {},
     "output_type": "execute_result"
    }
   ],
   "source": [
    "directory_data = \"./Mesures/\"\n",
    "datasets = [i for i in os.listdir(directory_data) if i.endswith(\".csv\") ]\n",
    "datasets"
   ]
  },
  {
   "cell_type": "code",
   "execution_count": 5,
   "id": "598a875c",
   "metadata": {},
   "outputs": [
    {
     "name": "stdout",
     "output_type": "stream",
     "text": [
      "Extracting ./Mesures/messenger20221117_125310.csv.... 1/18\n"
     ]
    },
    {
     "name": "stderr",
     "output_type": "stream",
     "text": [
      "100%|██████████████████████████████████████████████████████████████████████████████████| 15/15 [00:15<00:00,  1.02s/it]\n"
     ]
    },
    {
     "name": "stdout",
     "output_type": "stream",
     "text": [
      "Extracting ./Mesures/messenger20221124_143112.csv.... 2/18\n"
     ]
    },
    {
     "name": "stderr",
     "output_type": "stream",
     "text": [
      "100%|██████████████████████████████████████████████████████████████████████████████████| 11/11 [00:15<00:00,  1.40s/it]\n"
     ]
    },
    {
     "name": "stdout",
     "output_type": "stream",
     "text": [
      "Extracting ./Mesures/messenger20221124_151137.csv.... 3/18\n"
     ]
    },
    {
     "name": "stderr",
     "output_type": "stream",
     "text": [
      "100%|████████████████████████████████████████████████████████████████████████████████████| 5/5 [00:09<00:00,  1.99s/it]\n"
     ]
    },
    {
     "name": "stdout",
     "output_type": "stream",
     "text": [
      "Extracting ./Mesures/messenger20221125_130559.csv.... 4/18\n"
     ]
    },
    {
     "name": "stderr",
     "output_type": "stream",
     "text": [
      "100%|██████████████████████████████████████████████████████████████████████████████████| 39/39 [00:38<00:00,  1.02it/s]\n"
     ]
    },
    {
     "name": "stdout",
     "output_type": "stream",
     "text": [
      "Extracting ./Mesures/messenger20221125_150706.csv.... 5/18\n"
     ]
    },
    {
     "name": "stderr",
     "output_type": "stream",
     "text": [
      "100%|████████████████████████████████████████████████████████████████████████████████| 335/335 [04:42<00:00,  1.19it/s]\n"
     ]
    },
    {
     "name": "stdout",
     "output_type": "stream",
     "text": [
      "Extracting ./Mesures/messenger20221129_131204.csv.... 6/18\n"
     ]
    },
    {
     "name": "stderr",
     "output_type": "stream",
     "text": [
      "100%|██████████████████████████████████████████████████████████████████████████████████| 14/14 [00:45<00:00,  3.25s/it]\n"
     ]
    },
    {
     "name": "stdout",
     "output_type": "stream",
     "text": [
      "Extracting ./Mesures/messenger20221129_151124.csv.... 7/18\n"
     ]
    },
    {
     "name": "stderr",
     "output_type": "stream",
     "text": [
      "100%|████████████████████████████████████████████████████████████████████████████████████| 5/5 [00:27<00:00,  5.46s/it]\n"
     ]
    },
    {
     "name": "stdout",
     "output_type": "stream",
     "text": [
      "Extracting ./Mesures/skype20221129_164105.csv.... 8/18\n"
     ]
    },
    {
     "name": "stderr",
     "output_type": "stream",
     "text": [
      "100%|████████████████████████████████████████████████████████████████████████████████████| 5/5 [00:17<00:00,  3.46s/it]\n"
     ]
    },
    {
     "name": "stdout",
     "output_type": "stream",
     "text": [
      "Extracting ./Mesures/twitch20221117_113554.csv.... 9/18\n"
     ]
    },
    {
     "name": "stderr",
     "output_type": "stream",
     "text": [
      "100%|██████████████████████████████████████████████████████████████████████████████████| 29/29 [00:27<00:00,  1.06it/s]\n"
     ]
    },
    {
     "name": "stdout",
     "output_type": "stream",
     "text": [
      "Extracting ./Mesures/twitch20221118_075454.csv.... 10/18\n"
     ]
    },
    {
     "name": "stderr",
     "output_type": "stream",
     "text": [
      "100%|██████████████████████████████████████████████████████████████████████████████████| 16/16 [00:20<00:00,  1.29s/it]\n"
     ]
    },
    {
     "name": "stdout",
     "output_type": "stream",
     "text": [
      "Extracting ./Mesures/twitch20221124_163054.csv.... 11/18\n"
     ]
    },
    {
     "name": "stderr",
     "output_type": "stream",
     "text": [
      "100%|██████████████████████████████████████████████████████████████████████████████████| 12/12 [00:27<00:00,  2.29s/it]\n"
     ]
    },
    {
     "name": "stdout",
     "output_type": "stream",
     "text": [
      "Extracting ./Mesures/twitch20221125_133859.csv.... 12/18\n"
     ]
    },
    {
     "name": "stderr",
     "output_type": "stream",
     "text": [
      "100%|████████████████████████████████████████████████████████████████████████████████| 109/109 [01:49<00:00,  1.00s/it]\n"
     ]
    },
    {
     "name": "stdout",
     "output_type": "stream",
     "text": [
      "Extracting ./Mesures/youtube20221108_165214.csv.... 13/18\n"
     ]
    },
    {
     "name": "stderr",
     "output_type": "stream",
     "text": [
      "100%|██████████████████████████████████████████████████████████████████████████████████| 12/12 [00:09<00:00,  1.31it/s]\n"
     ]
    },
    {
     "name": "stdout",
     "output_type": "stream",
     "text": [
      "Extracting ./Mesures/youtube20221108_182416.csv.... 14/18\n"
     ]
    },
    {
     "name": "stderr",
     "output_type": "stream",
     "text": [
      "100%|████████████████████████████████████████████████████████████████████████████████████| 4/4 [00:03<00:00,  1.24it/s]\n"
     ]
    },
    {
     "name": "stdout",
     "output_type": "stream",
     "text": [
      "Extracting ./Mesures/youtube20221118_104205.csv.... 15/18\n"
     ]
    },
    {
     "name": "stderr",
     "output_type": "stream",
     "text": [
      "100%|████████████████████████████████████████████████████████████████████████████████| 218/218 [02:36<00:00,  1.39it/s]\n"
     ]
    },
    {
     "name": "stdout",
     "output_type": "stream",
     "text": [
      "Extracting ./Mesures/youtube20221124_125524.csv.... 16/18\n"
     ]
    },
    {
     "name": "stderr",
     "output_type": "stream",
     "text": [
      "100%|████████████████████████████████████████████████████████████████████████████████| 188/188 [02:19<00:00,  1.35it/s]\n"
     ]
    },
    {
     "name": "stdout",
     "output_type": "stream",
     "text": [
      "Extracting ./Mesures/youtube20221124_154037.csv.... 17/18\n"
     ]
    },
    {
     "name": "stderr",
     "output_type": "stream",
     "text": [
      "100%|██████████████████████████████████████████████████████████████████████████████████| 92/92 [01:07<00:00,  1.37it/s]\n"
     ]
    },
    {
     "name": "stdout",
     "output_type": "stream",
     "text": [
      "Extracting ./Mesures/youtube20221130_103723.csv.... 18/18\n"
     ]
    },
    {
     "name": "stderr",
     "output_type": "stream",
     "text": [
      "100%|██████████████████████████████████████████████████████████████████████████████████| 91/91 [01:02<00:00,  1.46it/s]\n"
     ]
    }
   ],
   "source": [
    "for i, data in enumerate(datasets) :\n",
    "    file = os.path.join(directory_data,data)\n",
    "    print(f\"Extracting {file}.... {i+1}/{len(datasets)}\")\n",
    "    generate_images(file)"
   ]
  },
  {
   "cell_type": "code",
   "execution_count": null,
   "id": "c7e5aa54",
   "metadata": {},
   "outputs": [],
   "source": [
    "\n",
    "    \n",
    "    "
   ]
  },
  {
   "cell_type": "code",
   "execution_count": null,
   "id": "de2ac66f",
   "metadata": {},
   "outputs": [],
   "source": []
  },
  {
   "cell_type": "code",
   "execution_count": null,
   "id": "575763b2",
   "metadata": {},
   "outputs": [],
   "source": []
  },
  {
   "cell_type": "code",
   "execution_count": null,
   "id": "66264474",
   "metadata": {},
   "outputs": [],
   "source": []
  },
  {
   "cell_type": "code",
   "execution_count": null,
   "id": "d656b132",
   "metadata": {},
   "outputs": [],
   "source": []
  }
 ],
 "metadata": {
  "kernelspec": {
   "display_name": "Python 3 (ipykernel)",
   "language": "python",
   "name": "python3"
  },
  "language_info": {
   "codemirror_mode": {
    "name": "ipython",
    "version": 3
   },
   "file_extension": ".py",
   "mimetype": "text/x-python",
   "name": "python",
   "nbconvert_exporter": "python",
   "pygments_lexer": "ipython3",
   "version": "3.9.12"
  }
 },
 "nbformat": 4,
 "nbformat_minor": 5
}
