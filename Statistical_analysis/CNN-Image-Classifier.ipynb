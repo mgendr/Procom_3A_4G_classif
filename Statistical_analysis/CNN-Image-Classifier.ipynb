{
 "cells": [
  {
   "cell_type": "code",
   "execution_count": 1,
   "metadata": {},
   "outputs": [],
   "source": [
    "#1.1 Install dependencies"
   ]
  },
  {
   "cell_type": "code",
   "execution_count": 2,
   "metadata": {
    "scrolled": true
   },
   "outputs": [],
   "source": [
    "#!pip install tensorflow tensorflow-gpu opencv-python matplotlib"
   ]
  },
  {
   "cell_type": "code",
   "execution_count": 3,
   "metadata": {},
   "outputs": [],
   "source": [
    "import tensorflow as tf\n",
    "import os\n"
   ]
  },
  {
   "cell_type": "code",
   "execution_count": 4,
   "metadata": {},
   "outputs": [],
   "source": [
    "gpus = tf.config.experimental.list_physical_devices('CPU')"
   ]
  },
  {
   "cell_type": "code",
   "execution_count": 5,
   "metadata": {},
   "outputs": [
    {
     "data": {
      "text/plain": [
       "[PhysicalDevice(name='/physical_device:CPU:0', device_type='CPU')]"
      ]
     },
     "execution_count": 5,
     "metadata": {},
     "output_type": "execute_result"
    }
   ],
   "source": [
    "gpus"
   ]
  },
  {
   "cell_type": "code",
   "execution_count": 6,
   "metadata": {},
   "outputs": [],
   "source": [
    "gpus = tf.config.experimental.list_physical_devices('GPU') #Pour eviter des erreus et consomation excessive de GPU\n",
    "for gpu in gpus:\n",
    "    tf.config.experimental.set_memory_growth(gpu, True)"
   ]
  },
  {
   "cell_type": "code",
   "execution_count": 7,
   "metadata": {},
   "outputs": [],
   "source": [
    "import cv2\n",
    "import imghdr\n",
    "from matplotlib import pyplot as plt"
   ]
  },
  {
   "cell_type": "code",
   "execution_count": 8,
   "metadata": {},
   "outputs": [],
   "source": [
    "img = cv2.imread(os.path.join('dataset_images', 'messenger', '20221117_125310_4.png'))"
   ]
  },
  {
   "cell_type": "code",
   "execution_count": 9,
   "metadata": {},
   "outputs": [
    {
     "data": {
      "text/plain": [
       "(1152, 1440, 3)"
      ]
     },
     "execution_count": 9,
     "metadata": {},
     "output_type": "execute_result"
    }
   ],
   "source": [
    "img.shape"
   ]
  },
  {
   "cell_type": "code",
   "execution_count": 10,
   "metadata": {},
   "outputs": [
    {
     "data": {
      "text/plain": [
       "<matplotlib.image.AxesImage at 0x17222a30a90>"
      ]
     },
     "execution_count": 10,
     "metadata": {},
     "output_type": "execute_result"
    },
    {
     "data": {
      "image/png": "[encoded data removed]",
      "text/plain": [
       "<Figure size 640x480 with 1 Axes>"
      ]
     },
     "metadata": {},
     "output_type": "display_data"
    }
   ],
   "source": [
    "plt.imshow(img)"
   ]
  },
  {
   "cell_type": "code",
   "execution_count": 11,
   "metadata": {},
   "outputs": [],
   "source": [
    "data_dir = 'dataset_images'"
   ]
  },
  {
   "cell_type": "code",
   "execution_count": 12,
   "metadata": {},
   "outputs": [
    {
     "data": {
      "text/plain": [
       "['20221117_125310_10.png',\n",
       " '20221117_125310_11.png',\n",
       " '20221117_125310_12.png',\n",
       " '20221117_125310_13.png',\n",
       " '20221117_125310_14.png',\n",
       " '20221117_125310_4.png',\n",
       " '20221117_125310_5.png',\n",
       " '20221117_125310_6.png',\n",
       " '20221117_125310_7.png',\n",
       " '20221117_125310_8.png',\n",
       " '20221117_125310_9.png',\n",
       " '20221124_143112_10.png',\n",
       " '20221124_143112_11.png',\n",
       " '20221124_143112_12.png',\n",
       " '20221124_143112_13.png',\n",
       " '20221124_143112_5.png',\n",
       " '20221124_143112_6.png',\n",
       " '20221124_143112_7.png',\n",
       " '20221124_143112_8.png',\n",
       " '20221124_143112_9.png',\n",
       " '20221124_151137_4.png',\n",
       " '20221124_151137_5.png',\n",
       " '20221124_151137_6.png',\n",
       " '20221124_151137_7.png',\n",
       " '20221124_151137_8.png',\n",
       " '20221125_130559_15.png',\n",
       " '20221125_130559_16.png',\n",
       " '20221125_130559_17.png',\n",
       " '20221125_130559_18.png',\n",
       " '20221125_130559_19.png',\n",
       " '20221125_130559_20.png',\n",
       " '20221125_130559_21.png',\n",
       " '20221125_130559_22.png',\n",
       " '20221125_130559_23.png',\n",
       " '20221125_130559_24.png',\n",
       " '20221125_130559_25.png',\n",
       " '20221125_130559_26.png',\n",
       " '20221125_130559_27.png',\n",
       " '20221125_130559_28.png',\n",
       " '20221125_130559_29.png',\n",
       " '20221125_130559_30.png',\n",
       " '20221125_130559_31.png',\n",
       " '20221125_130559_32.png',\n",
       " '20221125_130559_33.png',\n",
       " '20221125_130559_34.png',\n",
       " '20221125_130559_35.png',\n",
       " '20221125_130559_36.png',\n",
       " '20221125_130559_37.png',\n",
       " '20221125_130559_38.png',\n",
       " '20221125_130559_5.png',\n",
       " '20221125_130559_6.png',\n",
       " '20221129_131204_10.png',\n",
       " '20221129_131204_11.png',\n",
       " '20221129_131204_12.png',\n",
       " '20221129_131204_13.png',\n",
       " '20221129_131204_14.png',\n",
       " '20221129_131204_15.png',\n",
       " '20221129_131204_16.png',\n",
       " '20221129_131204_17.png',\n",
       " '20221129_131204_4.png',\n",
       " '20221129_131204_6.png',\n",
       " '20221129_131204_8.png',\n",
       " '20221129_131204_9.png',\n",
       " '20221129_151124_4.png',\n",
       " '20221129_151124_5.png',\n",
       " '20221129_151124_6.png']"
      ]
     },
     "execution_count": 12,
     "metadata": {},
     "output_type": "execute_result"
    }
   ],
   "source": [
    "os.listdir(os.path.join(data_dir, 'messenger'))"
   ]
  },
  {
   "cell_type": "code",
   "execution_count": 13,
   "metadata": {},
   "outputs": [],
   "source": [
    "image_exts = ['jpeg', 'jpg', 'bmp', 'png']"
   ]
  },
  {
   "cell_type": "code",
   "execution_count": 14,
   "metadata": {},
   "outputs": [
    {
     "data": {
      "text/plain": [
       "['jpeg', 'jpg', 'bmp', 'png']"
      ]
     },
     "execution_count": 14,
     "metadata": {},
     "output_type": "execute_result"
    }
   ],
   "source": [
    "image_exts"
   ]
  },
  {
   "cell_type": "code",
   "execution_count": 15,
   "metadata": {},
   "outputs": [
    {
     "data": {
      "text/plain": [
       "'jpg'"
      ]
     },
     "execution_count": 15,
     "metadata": {},
     "output_type": "execute_result"
    }
   ],
   "source": [
    "image_exts[1]"
   ]
  },
  {
   "cell_type": "code",
   "execution_count": 16,
   "metadata": {},
   "outputs": [
    {
     "name": "stdout",
     "output_type": "stream",
     "text": [
      "20221117_125310_10.png\n",
      "20221117_125310_11.png\n",
      "20221117_125310_12.png\n",
      "20221117_125310_13.png\n",
      "20221117_125310_14.png\n",
      "20221117_125310_4.png\n",
      "20221117_125310_5.png\n",
      "20221117_125310_6.png\n",
      "20221117_125310_7.png\n",
      "20221117_125310_8.png\n",
      "20221117_125310_9.png\n",
      "20221124_143112_10.png\n",
      "20221124_143112_11.png\n",
      "20221124_143112_12.png\n",
      "20221124_143112_13.png\n",
      "20221124_143112_5.png\n",
      "20221124_143112_6.png\n",
      "20221124_143112_7.png\n",
      "20221124_143112_8.png\n",
      "20221124_143112_9.png\n",
      "20221124_151137_4.png\n",
      "20221124_151137_5.png\n",
      "20221124_151137_6.png\n",
      "20221124_151137_7.png\n",
      "20221124_151137_8.png\n",
      "20221125_130559_15.png\n",
      "20221125_130559_16.png\n",
      "20221125_130559_17.png\n",
      "20221125_130559_18.png\n",
      "20221125_130559_19.png\n",
      "20221125_130559_20.png\n",
      "20221125_130559_21.png\n",
      "20221125_130559_22.png\n",
      "20221125_130559_23.png\n",
      "20221125_130559_24.png\n",
      "20221125_130559_25.png\n",
      "20221125_130559_26.png\n",
      "20221125_130559_27.png\n",
      "20221125_130559_28.png\n",
      "20221125_130559_29.png\n",
      "20221125_130559_30.png\n",
      "20221125_130559_31.png\n",
      "20221125_130559_32.png\n",
      "20221125_130559_33.png\n",
      "20221125_130559_34.png\n",
      "20221125_130559_35.png\n",
      "20221125_130559_36.png\n",
      "20221125_130559_37.png\n",
      "20221125_130559_38.png\n",
      "20221125_130559_5.png\n",
      "20221125_130559_6.png\n",
      "20221129_131204_10.png\n",
      "20221129_131204_11.png\n",
      "20221129_131204_12.png\n",
      "20221129_131204_13.png\n",
      "20221129_131204_14.png\n",
      "20221129_131204_15.png\n",
      "20221129_131204_16.png\n",
      "20221129_131204_17.png\n",
      "20221129_131204_4.png\n",
      "20221129_131204_6.png\n",
      "20221129_131204_8.png\n",
      "20221129_131204_9.png\n",
      "20221129_151124_4.png\n",
      "20221129_151124_5.png\n",
      "20221129_151124_6.png\n",
      "20221108_165214_10.png\n",
      "20221108_165214_11.png\n",
      "20221108_165214_12.png\n",
      "20221108_165214_4.png\n",
      "20221108_165214_5.png\n",
      "20221108_165214_6.png\n",
      "20221108_165214_7.png\n",
      "20221108_165214_8.png\n",
      "20221108_165214_9.png\n",
      "20221117_113554_10.png\n",
      "20221117_113554_11.png\n",
      "20221117_113554_12.png\n",
      "20221117_113554_13.png\n",
      "20221117_113554_14.png\n",
      "20221117_113554_15.png\n",
      "20221117_113554_16.png\n",
      "20221117_113554_17.png\n",
      "20221117_113554_18.png\n",
      "20221117_113554_19.png\n",
      "20221117_113554_20.png\n",
      "20221117_113554_21.png\n",
      "20221117_113554_22.png\n",
      "20221117_113554_23.png\n",
      "20221117_113554_24.png\n",
      "20221117_113554_28.png\n",
      "20221117_113554_31.png\n",
      "20221117_113554_4.png\n",
      "20221117_113554_5.png\n",
      "20221117_113554_6.png\n",
      "20221117_113554_7.png\n",
      "20221117_113554_8.png\n",
      "20221117_113554_9.png\n",
      "20221117_125310_15.png\n",
      "20221117_125310_16.png\n",
      "20221117_125310_17.png\n",
      "20221117_125310_18.png\n",
      "20221118_075454_10.png\n",
      "20221118_075454_11.png\n",
      "20221118_075454_12.png\n",
      "20221118_075454_13.png\n",
      "20221118_075454_14.png\n",
      "20221118_075454_15.png\n",
      "20221118_075454_16.png\n",
      "20221118_075454_17.png\n",
      "20221118_075454_18.png\n",
      "20221118_075454_19.png\n",
      "20221118_075454_5.png\n",
      "20221118_075454_7.png\n",
      "20221118_075454_8.png\n",
      "20221118_075454_9.png\n",
      "20221118_104205_160.png\n",
      "20221118_104205_161.png\n",
      "20221118_104205_162.png\n",
      "20221118_104205_163.png\n",
      "20221118_104205_164.png\n",
      "20221118_104205_165.png\n",
      "20221118_104205_166.png\n",
      "20221118_104205_167.png\n",
      "20221118_104205_168.png\n",
      "20221118_104205_169.png\n",
      "20221118_104205_170.png\n",
      "20221118_104205_171.png\n",
      "20221118_104205_172.png\n",
      "20221118_104205_173.png\n",
      "20221118_104205_174.png\n",
      "20221118_104205_175.png\n",
      "20221118_104205_176.png\n",
      "20221118_104205_177.png\n",
      "20221118_104205_178.png\n",
      "20221118_104205_179.png\n",
      "20221118_104205_180.png\n",
      "20221118_104205_181.png\n",
      "20221118_104205_182.png\n",
      "20221118_104205_183.png\n",
      "20221118_104205_184.png\n",
      "20221118_104205_185.png\n",
      "20221118_104205_186.png\n",
      "20221118_104205_187.png\n",
      "20221118_104205_188.png\n",
      "20221118_104205_189.png\n",
      "20221118_104205_190.png\n",
      "20221118_104205_191.png\n",
      "20221118_104205_192.png\n",
      "20221118_104205_193.png\n",
      "20221118_104205_194.png\n",
      "20221118_104205_195.png\n",
      "20221118_104205_196.png\n",
      "20221118_104205_197.png\n",
      "20221118_104205_198.png\n",
      "20221118_104205_199.png\n",
      "20221118_104205_200.png\n",
      "20221118_104205_201.png\n",
      "20221118_104205_202.png\n",
      "20221118_104205_203.png\n",
      "20221118_104205_204.png\n",
      "20221118_104205_205.png\n",
      "20221118_104205_206.png\n",
      "20221118_104205_207.png\n",
      "20221118_104205_208.png\n",
      "20221118_104205_209.png\n",
      "20221118_104205_210.png\n",
      "20221118_104205_211.png\n",
      "20221118_104205_212.png\n",
      "20221118_104205_213.png\n",
      "20221118_104205_214.png\n",
      "20221118_104205_215.png\n",
      "20221118_104205_216.png\n",
      "20221118_104205_217.png\n",
      "20221118_104205_218.png\n",
      "20221118_104205_219.png\n",
      "20221118_104205_220.png\n",
      "20221118_104205_221.png\n",
      "20221118_104205_4.png\n",
      "20221124_125524_126.png\n",
      "20221124_125524_127.png\n",
      "20221124_125524_128.png\n",
      "20221124_125524_129.png\n",
      "20221124_125524_130.png\n",
      "20221124_125524_131.png\n",
      "20221124_125524_132.png\n",
      "20221124_125524_133.png\n",
      "20221124_125524_134.png\n",
      "20221124_125524_135.png\n",
      "20221124_125524_136.png\n",
      "20221124_125524_137.png\n",
      "20221124_125524_138.png\n",
      "20221124_125524_139.png\n",
      "20221124_125524_140.png\n",
      "20221124_125524_141.png\n",
      "20221124_125524_142.png\n",
      "20221124_125524_143.png\n",
      "20221124_125524_144.png\n",
      "20221124_125524_145.png\n",
      "20221124_125524_146.png\n",
      "20221124_125524_147.png\n",
      "20221124_125524_148.png\n",
      "20221124_125524_149.png\n",
      "20221124_125524_150.png\n",
      "20221124_125524_151.png\n",
      "20221124_125524_152.png\n",
      "20221124_125524_153.png\n",
      "20221124_125524_154.png\n",
      "20221124_125524_155.png\n",
      "20221124_125524_156.png\n",
      "20221124_125524_157.png\n",
      "20221124_125524_158.png\n",
      "20221124_125524_159.png\n",
      "20221124_125524_160.png\n",
      "20221124_125524_161.png\n",
      "20221124_125524_162.png\n",
      "20221124_125524_163.png\n",
      "20221124_125524_164.png\n",
      "20221124_125524_165.png\n",
      "20221124_125524_166.png\n",
      "20221124_125524_167.png\n",
      "20221124_125524_168.png\n",
      "20221124_125524_169.png\n",
      "20221124_125524_170.png\n",
      "20221124_125524_171.png\n",
      "20221124_125524_172.png\n",
      "20221124_125524_173.png\n",
      "20221124_125524_174.png\n",
      "20221124_125524_175.png\n",
      "20221124_125524_176.png\n",
      "20221124_125524_177.png\n",
      "20221124_125524_178.png\n",
      "20221124_125524_179.png\n",
      "20221124_125524_180.png\n",
      "20221124_125524_181.png\n",
      "20221124_125524_182.png\n",
      "20221124_125524_183.png\n",
      "20221124_125524_184.png\n",
      "20221124_125524_185.png\n",
      "20221124_125524_186.png\n",
      "20221124_125524_187.png\n",
      "20221124_125524_188.png\n",
      "20221124_125524_189.png\n",
      "20221124_125524_190.png\n",
      "20221124_125524_191.png\n",
      "20221124_125524_4.png\n",
      "20221124_125524_5.png\n",
      "20221124_125524_6.png\n",
      "20221124_125524_7.png\n",
      "20221124_125524_9.png\n",
      "20221124_143112_14.png\n",
      "20221124_143112_4.png\n",
      "20221124_154037_16.png\n",
      "20221124_154037_35.png\n",
      "20221124_154037_9.png\n",
      "20221124_154037_95.png\n",
      "20221124_163054_10.png\n",
      "20221124_163054_13.png\n",
      "20221124_163054_14.png\n",
      "20221124_163054_15.png\n",
      "20221124_163054_4.png\n",
      "20221124_163054_7.png\n",
      "20221124_163054_8.png\n",
      "20221125_130559_10.png\n",
      "20221125_130559_11.png\n",
      "20221125_130559_12.png\n",
      "20221125_130559_13.png\n",
      "20221125_130559_14.png\n",
      "20221125_130559_39.png\n",
      "20221125_130559_4.png\n",
      "20221125_130559_40.png\n",
      "20221125_130559_41.png\n",
      "20221125_130559_42.png\n",
      "20221125_130559_7.png\n",
      "20221125_130559_8.png\n",
      "20221125_130559_9.png\n",
      "20221125_133859_10.png\n",
      "20221125_133859_100.png\n",
      "20221125_133859_101.png\n",
      "20221125_133859_102.png\n",
      "20221125_133859_103.png\n",
      "20221125_133859_104.png\n",
      "20221125_133859_105.png\n",
      "20221125_133859_106.png\n",
      "20221125_133859_107.png\n",
      "20221125_133859_108.png\n",
      "20221125_133859_109.png\n",
      "20221125_133859_110.png\n",
      "20221125_133859_111.png\n",
      "20221125_133859_112.png\n",
      "20221125_133859_12.png\n",
      "20221125_133859_4.png\n",
      "20221125_133859_5.png\n",
      "20221125_133859_7.png\n",
      "20221125_133859_76.png\n",
      "20221125_133859_77.png\n",
      "20221125_133859_78.png\n",
      "20221125_133859_79.png\n",
      "20221125_133859_8.png\n",
      "20221125_133859_80.png\n",
      "20221125_133859_81.png\n",
      "20221125_133859_82.png\n",
      "20221125_133859_83.png\n",
      "20221125_133859_84.png\n",
      "20221125_133859_85.png\n",
      "20221125_133859_86.png\n",
      "20221125_133859_87.png\n",
      "20221125_133859_88.png\n",
      "20221125_133859_89.png\n",
      "20221125_133859_9.png\n",
      "20221125_133859_90.png\n",
      "20221125_133859_91.png\n",
      "20221125_133859_92.png\n",
      "20221125_133859_93.png\n",
      "20221125_133859_94.png\n",
      "20221125_133859_95.png\n",
      "20221125_133859_96.png\n",
      "20221125_133859_97.png\n",
      "20221125_133859_98.png\n",
      "20221125_133859_99.png\n",
      "20221129_131204_5.png\n",
      "20221129_131204_7.png\n",
      "20221129_151124_7.png\n",
      "20221129_151124_8.png\n",
      "20221129_164105_6.png\n",
      "20221129_164105_7.png\n",
      "20221130_103723_14.png\n",
      "20221130_103723_25.png\n",
      "20221130_103723_29.png\n",
      "20221130_103723_5.png\n",
      "20221130_103723_93.png\n",
      "20221130_103723_94.png\n",
      "20221206_125510_10.png\n",
      "20221206_125510_11.png\n",
      "20221206_125510_12.png\n",
      "20221206_125510_13.png\n",
      "20221206_125510_14.png\n",
      "20221206_125510_15.png\n",
      "20221206_125510_16.png\n",
      "20221206_125510_17.png\n",
      "20221206_125510_18.png\n",
      "20221206_125510_19.png\n",
      "20221206_125510_20.png\n",
      "20221206_125510_21.png\n",
      "20221206_125510_22.png\n",
      "20221206_125510_4.png\n",
      "20221206_125510_7.png\n",
      "20221206_125510_8.png\n",
      "20221206_125510_9.png\n",
      "20221129_164105_4.png\n",
      "20221129_164105_5.png\n",
      "20221129_164105_8.png\n",
      "20221206_125510_5.png\n",
      "20221206_125510_6.png\n",
      "20221206_150902_4.png\n",
      "20221206_150902_5.png\n",
      "20221206_150902_6.png\n",
      "20221117_113554_1.png\n",
      "20221117_113554_25.png\n",
      "20221117_113554_26.png\n",
      "20221117_113554_27.png\n",
      "20221117_113554_29.png\n",
      "20221117_113554_30.png\n",
      "20221118_075454_4.png\n",
      "20221118_075454_6.png\n",
      "20221124_163054_11.png\n",
      "20221124_163054_12.png\n",
      "20221124_163054_5.png\n",
      "20221124_163054_6.png\n",
      "20221124_163054_9.png\n",
      "20221125_133859_11.png\n",
      "20221125_133859_13.png\n",
      "20221125_133859_14.png\n",
      "20221125_133859_15.png\n",
      "20221125_133859_16.png\n",
      "20221125_133859_17.png\n",
      "20221125_133859_18.png\n",
      "20221125_133859_19.png\n",
      "20221125_133859_20.png\n",
      "20221125_133859_21.png\n",
      "20221125_133859_22.png\n",
      "20221125_133859_23.png\n",
      "20221125_133859_24.png\n",
      "20221125_133859_25.png\n",
      "20221125_133859_26.png\n",
      "20221125_133859_27.png\n",
      "20221125_133859_28.png\n",
      "20221125_133859_29.png\n",
      "20221125_133859_30.png\n",
      "20221125_133859_31.png\n",
      "20221125_133859_32.png\n",
      "20221125_133859_33.png\n",
      "20221125_133859_34.png\n",
      "20221125_133859_35.png\n",
      "20221125_133859_36.png\n",
      "20221125_133859_37.png\n",
      "20221125_133859_38.png\n",
      "20221125_133859_39.png\n",
      "20221125_133859_40.png\n",
      "20221125_133859_41.png\n",
      "20221125_133859_42.png\n",
      "20221125_133859_43.png\n",
      "20221125_133859_44.png\n",
      "20221125_133859_45.png\n",
      "20221125_133859_46.png\n",
      "20221125_133859_47.png\n",
      "20221125_133859_48.png\n",
      "20221125_133859_49.png\n",
      "20221125_133859_50.png\n",
      "20221125_133859_51.png\n",
      "20221125_133859_52.png\n",
      "20221125_133859_53.png\n",
      "20221125_133859_54.png\n",
      "20221125_133859_55.png\n",
      "20221125_133859_56.png\n",
      "20221125_133859_57.png\n",
      "20221125_133859_58.png\n",
      "20221125_133859_59.png\n",
      "20221125_133859_6.png\n",
      "20221125_133859_60.png\n",
      "20221125_133859_61.png\n",
      "20221125_133859_62.png\n",
      "20221125_133859_63.png\n",
      "20221125_133859_64.png\n",
      "20221125_133859_65.png\n",
      "20221125_133859_66.png\n",
      "20221125_133859_67.png\n",
      "20221125_133859_68.png\n",
      "20221125_133859_69.png\n",
      "20221125_133859_70.png\n",
      "20221125_133859_71.png\n",
      "20221125_133859_72.png\n",
      "20221125_133859_73.png\n",
      "20221125_133859_74.png\n",
      "20221125_133859_75.png\n",
      "20221108_165214_13.png\n",
      "20221108_165214_14.png\n",
      "20221108_165214_15.png\n",
      "20221108_182416_4.png\n",
      "20221108_182416_5.png\n",
      "20221108_182416_6.png\n",
      "20221108_182416_7.png\n",
      "20221118_104205_10.png\n",
      "20221118_104205_100.png\n",
      "20221118_104205_101.png\n",
      "20221118_104205_102.png\n",
      "20221118_104205_103.png\n",
      "20221118_104205_104.png\n",
      "20221118_104205_105.png\n",
      "20221118_104205_106.png\n",
      "20221118_104205_107.png\n",
      "20221118_104205_108.png\n",
      "20221118_104205_109.png\n",
      "20221118_104205_11.png\n",
      "20221118_104205_110.png\n",
      "20221118_104205_111.png\n",
      "20221118_104205_112.png\n",
      "20221118_104205_113.png\n",
      "20221118_104205_114.png\n",
      "20221118_104205_115.png\n",
      "20221118_104205_116.png\n",
      "20221118_104205_117.png\n",
      "20221118_104205_118.png\n",
      "20221118_104205_119.png\n",
      "20221118_104205_12.png\n",
      "20221118_104205_120.png\n",
      "20221118_104205_121.png\n",
      "20221118_104205_122.png\n",
      "20221118_104205_123.png\n",
      "20221118_104205_124.png\n",
      "20221118_104205_125.png\n",
      "20221118_104205_126.png\n",
      "20221118_104205_127.png\n",
      "20221118_104205_128.png\n",
      "20221118_104205_129.png\n",
      "20221118_104205_13.png\n",
      "20221118_104205_130.png\n",
      "20221118_104205_131.png\n",
      "20221118_104205_132.png\n",
      "20221118_104205_133.png\n",
      "20221118_104205_134.png\n",
      "20221118_104205_135.png\n",
      "20221118_104205_136.png\n",
      "20221118_104205_137.png\n",
      "20221118_104205_138.png\n",
      "20221118_104205_139.png\n",
      "20221118_104205_14.png\n",
      "20221118_104205_140.png\n",
      "20221118_104205_141.png\n",
      "20221118_104205_142.png\n",
      "20221118_104205_143.png\n",
      "20221118_104205_144.png\n",
      "20221118_104205_145.png\n",
      "20221118_104205_146.png\n",
      "20221118_104205_147.png\n",
      "20221118_104205_148.png\n",
      "20221118_104205_149.png\n",
      "20221118_104205_15.png\n",
      "20221118_104205_150.png\n",
      "20221118_104205_151.png\n",
      "20221118_104205_152.png\n",
      "20221118_104205_153.png\n",
      "20221118_104205_154.png\n",
      "20221118_104205_155.png\n",
      "20221118_104205_156.png\n",
      "20221118_104205_157.png\n",
      "20221118_104205_158.png\n",
      "20221118_104205_159.png\n",
      "20221118_104205_16.png\n",
      "20221118_104205_17.png\n",
      "20221118_104205_18.png\n",
      "20221118_104205_19.png\n",
      "20221118_104205_20.png\n",
      "20221118_104205_21.png\n",
      "20221118_104205_22.png\n",
      "20221118_104205_23.png\n",
      "20221118_104205_24.png\n",
      "20221118_104205_25.png\n",
      "20221118_104205_26.png\n",
      "20221118_104205_27.png\n",
      "20221118_104205_28.png\n",
      "20221118_104205_29.png\n",
      "20221118_104205_30.png\n",
      "20221118_104205_31.png\n",
      "20221118_104205_32.png\n",
      "20221118_104205_33.png\n",
      "20221118_104205_34.png\n",
      "20221118_104205_35.png\n",
      "20221118_104205_36.png\n",
      "20221118_104205_37.png\n",
      "20221118_104205_38.png\n",
      "20221118_104205_39.png\n",
      "20221118_104205_40.png\n",
      "20221118_104205_41.png\n",
      "20221118_104205_42.png\n",
      "20221118_104205_43.png\n",
      "20221118_104205_44.png\n",
      "20221118_104205_45.png\n",
      "20221118_104205_46.png\n",
      "20221118_104205_47.png\n",
      "20221118_104205_48.png\n",
      "20221118_104205_49.png\n",
      "20221118_104205_5.png\n",
      "20221118_104205_50.png\n",
      "20221118_104205_51.png\n",
      "20221118_104205_52.png\n",
      "20221118_104205_53.png\n",
      "20221118_104205_54.png\n",
      "20221118_104205_55.png\n",
      "20221118_104205_56.png\n",
      "20221118_104205_57.png\n",
      "20221118_104205_58.png\n",
      "20221118_104205_59.png\n",
      "20221118_104205_6.png\n",
      "20221118_104205_60.png\n",
      "20221118_104205_61.png\n",
      "20221118_104205_62.png\n",
      "20221118_104205_63.png\n",
      "20221118_104205_64.png\n",
      "20221118_104205_65.png\n",
      "20221118_104205_66.png\n",
      "20221118_104205_67.png\n",
      "20221118_104205_68.png\n",
      "20221118_104205_69.png\n",
      "20221118_104205_7.png\n",
      "20221118_104205_70.png\n",
      "20221118_104205_71.png\n",
      "20221118_104205_72.png\n",
      "20221118_104205_73.png\n",
      "20221118_104205_74.png\n",
      "20221118_104205_75.png\n",
      "20221118_104205_76.png\n",
      "20221118_104205_77.png\n",
      "20221118_104205_78.png\n",
      "20221118_104205_79.png\n",
      "20221118_104205_8.png\n",
      "20221118_104205_80.png\n",
      "20221118_104205_81.png\n",
      "20221118_104205_82.png\n",
      "20221118_104205_83.png\n",
      "20221118_104205_84.png\n",
      "20221118_104205_85.png\n",
      "20221118_104205_86.png\n",
      "20221118_104205_87.png\n",
      "20221118_104205_88.png\n",
      "20221118_104205_89.png\n",
      "20221118_104205_9.png\n",
      "20221118_104205_90.png\n",
      "20221118_104205_91.png\n",
      "20221118_104205_92.png\n",
      "20221118_104205_93.png\n",
      "20221118_104205_94.png\n",
      "20221118_104205_95.png\n",
      "20221118_104205_96.png\n",
      "20221118_104205_97.png\n",
      "20221118_104205_98.png\n",
      "20221118_104205_99.png\n",
      "20221124_125524_10.png\n",
      "20221124_125524_100.png\n",
      "20221124_125524_101.png\n",
      "20221124_125524_102.png\n",
      "20221124_125524_103.png\n",
      "20221124_125524_104.png\n",
      "20221124_125524_105.png\n",
      "20221124_125524_106.png\n",
      "20221124_125524_107.png\n",
      "20221124_125524_108.png\n",
      "20221124_125524_109.png\n",
      "20221124_125524_11.png\n",
      "20221124_125524_110.png\n",
      "20221124_125524_111.png\n",
      "20221124_125524_112.png\n",
      "20221124_125524_113.png\n",
      "20221124_125524_114.png\n",
      "20221124_125524_115.png\n",
      "20221124_125524_116.png\n",
      "20221124_125524_117.png\n",
      "20221124_125524_118.png\n",
      "20221124_125524_119.png\n",
      "20221124_125524_12.png\n",
      "20221124_125524_120.png\n",
      "20221124_125524_121.png\n",
      "20221124_125524_122.png\n",
      "20221124_125524_123.png\n",
      "20221124_125524_124.png\n",
      "20221124_125524_125.png\n",
      "20221124_125524_13.png\n",
      "20221124_125524_14.png\n",
      "20221124_125524_15.png\n",
      "20221124_125524_16.png\n",
      "20221124_125524_17.png\n",
      "20221124_125524_18.png\n",
      "20221124_125524_19.png\n",
      "20221124_125524_20.png\n",
      "20221124_125524_21.png\n",
      "20221124_125524_22.png\n",
      "20221124_125524_23.png\n",
      "20221124_125524_24.png\n",
      "20221124_125524_25.png\n",
      "20221124_125524_26.png\n",
      "20221124_125524_27.png\n",
      "20221124_125524_28.png\n",
      "20221124_125524_29.png\n",
      "20221124_125524_30.png\n",
      "20221124_125524_31.png\n",
      "20221124_125524_32.png\n",
      "20221124_125524_33.png\n",
      "20221124_125524_34.png\n",
      "20221124_125524_35.png\n",
      "20221124_125524_36.png\n",
      "20221124_125524_37.png\n",
      "20221124_125524_38.png\n",
      "20221124_125524_39.png\n",
      "20221124_125524_40.png\n",
      "20221124_125524_41.png\n",
      "20221124_125524_42.png\n",
      "20221124_125524_43.png\n",
      "20221124_125524_44.png\n",
      "20221124_125524_45.png\n",
      "20221124_125524_46.png\n",
      "20221124_125524_47.png\n",
      "20221124_125524_48.png\n",
      "20221124_125524_49.png\n",
      "20221124_125524_50.png\n",
      "20221124_125524_51.png\n",
      "20221124_125524_52.png\n",
      "20221124_125524_53.png\n",
      "20221124_125524_54.png\n",
      "20221124_125524_55.png\n",
      "20221124_125524_56.png\n",
      "20221124_125524_57.png\n",
      "20221124_125524_58.png\n",
      "20221124_125524_59.png\n",
      "20221124_125524_60.png\n",
      "20221124_125524_61.png\n",
      "20221124_125524_62.png\n",
      "20221124_125524_63.png\n",
      "20221124_125524_64.png\n",
      "20221124_125524_65.png\n",
      "20221124_125524_66.png\n",
      "20221124_125524_67.png\n",
      "20221124_125524_68.png\n",
      "20221124_125524_69.png\n",
      "20221124_125524_70.png\n",
      "20221124_125524_71.png\n",
      "20221124_125524_72.png\n",
      "20221124_125524_73.png\n",
      "20221124_125524_74.png\n",
      "20221124_125524_75.png\n",
      "20221124_125524_76.png\n",
      "20221124_125524_77.png\n",
      "20221124_125524_78.png\n",
      "20221124_125524_79.png\n",
      "20221124_125524_8.png\n",
      "20221124_125524_80.png\n",
      "20221124_125524_81.png\n",
      "20221124_125524_82.png\n",
      "20221124_125524_83.png\n",
      "20221124_125524_84.png\n",
      "20221124_125524_85.png\n",
      "20221124_125524_86.png\n",
      "20221124_125524_87.png\n",
      "20221124_125524_88.png\n",
      "20221124_125524_89.png\n",
      "20221124_125524_90.png\n",
      "20221124_125524_91.png\n",
      "20221124_125524_92.png\n",
      "20221124_125524_93.png\n",
      "20221124_125524_94.png\n",
      "20221124_125524_95.png\n",
      "20221124_125524_96.png\n",
      "20221124_125524_97.png\n",
      "20221124_125524_98.png\n",
      "20221124_125524_99.png\n",
      "20221124_154037_10.png\n",
      "20221124_154037_11.png\n",
      "20221124_154037_12.png\n",
      "20221124_154037_13.png\n",
      "20221124_154037_14.png\n",
      "20221124_154037_15.png\n",
      "20221124_154037_17.png\n",
      "20221124_154037_18.png\n",
      "20221124_154037_19.png\n",
      "20221124_154037_20.png\n",
      "20221124_154037_21.png\n",
      "20221124_154037_22.png\n",
      "20221124_154037_23.png\n",
      "20221124_154037_24.png\n",
      "20221124_154037_25.png\n",
      "20221124_154037_26.png\n",
      "20221124_154037_27.png\n",
      "20221124_154037_28.png\n",
      "20221124_154037_29.png\n",
      "20221124_154037_30.png\n",
      "20221124_154037_31.png\n",
      "20221124_154037_32.png\n",
      "20221124_154037_33.png\n",
      "20221124_154037_34.png\n",
      "20221124_154037_36.png\n",
      "20221124_154037_37.png\n",
      "20221124_154037_38.png\n",
      "20221124_154037_39.png\n",
      "20221124_154037_4.png\n",
      "20221124_154037_40.png\n",
      "20221124_154037_41.png\n",
      "20221124_154037_42.png\n",
      "20221124_154037_43.png\n",
      "20221124_154037_44.png\n",
      "20221124_154037_45.png\n",
      "20221124_154037_46.png\n",
      "20221124_154037_47.png\n",
      "20221124_154037_48.png\n",
      "20221124_154037_49.png\n",
      "20221124_154037_5.png\n",
      "20221124_154037_50.png\n",
      "20221124_154037_51.png\n",
      "20221124_154037_52.png\n",
      "20221124_154037_53.png\n",
      "20221124_154037_54.png\n",
      "20221124_154037_55.png\n",
      "20221124_154037_56.png\n",
      "20221124_154037_57.png\n",
      "20221124_154037_58.png\n",
      "20221124_154037_59.png\n",
      "20221124_154037_6.png\n",
      "20221124_154037_60.png\n",
      "20221124_154037_61.png\n",
      "20221124_154037_62.png\n",
      "20221124_154037_63.png\n",
      "20221124_154037_64.png\n",
      "20221124_154037_65.png\n",
      "20221124_154037_66.png\n",
      "20221124_154037_67.png\n",
      "20221124_154037_68.png\n",
      "20221124_154037_69.png\n",
      "20221124_154037_7.png\n",
      "20221124_154037_70.png\n",
      "20221124_154037_71.png\n",
      "20221124_154037_72.png\n",
      "20221124_154037_73.png\n",
      "20221124_154037_74.png\n",
      "20221124_154037_75.png\n",
      "20221124_154037_76.png\n",
      "20221124_154037_77.png\n",
      "20221124_154037_78.png\n",
      "20221124_154037_79.png\n",
      "20221124_154037_8.png\n",
      "20221124_154037_80.png\n",
      "20221124_154037_81.png\n",
      "20221124_154037_82.png\n",
      "20221124_154037_83.png\n",
      "20221124_154037_84.png\n",
      "20221124_154037_85.png\n",
      "20221124_154037_86.png\n",
      "20221124_154037_87.png\n",
      "20221124_154037_88.png\n",
      "20221124_154037_89.png\n",
      "20221124_154037_90.png\n",
      "20221124_154037_91.png\n",
      "20221124_154037_92.png\n",
      "20221124_154037_93.png\n",
      "20221124_154037_94.png\n",
      "20221130_103723_10.png\n",
      "20221130_103723_11.png\n",
      "20221130_103723_12.png\n",
      "20221130_103723_13.png\n",
      "20221130_103723_15.png\n",
      "20221130_103723_16.png\n",
      "20221130_103723_17.png\n",
      "20221130_103723_18.png\n",
      "20221130_103723_19.png\n",
      "20221130_103723_20.png\n",
      "20221130_103723_21.png\n",
      "20221130_103723_22.png\n",
      "20221130_103723_23.png\n",
      "20221130_103723_24.png\n",
      "20221130_103723_26.png\n",
      "20221130_103723_27.png\n",
      "20221130_103723_28.png\n",
      "20221130_103723_30.png\n",
      "20221130_103723_31.png\n",
      "20221130_103723_32.png\n",
      "20221130_103723_33.png\n",
      "20221130_103723_34.png\n",
      "20221130_103723_35.png\n",
      "20221130_103723_36.png\n",
      "20221130_103723_37.png\n",
      "20221130_103723_38.png\n",
      "20221130_103723_39.png\n",
      "20221130_103723_4.png\n",
      "20221130_103723_40.png\n",
      "20221130_103723_41.png\n",
      "20221130_103723_42.png\n",
      "20221130_103723_43.png\n",
      "20221130_103723_44.png\n",
      "20221130_103723_45.png\n",
      "20221130_103723_46.png\n",
      "20221130_103723_47.png\n",
      "20221130_103723_48.png\n",
      "20221130_103723_49.png\n",
      "20221130_103723_50.png\n",
      "20221130_103723_51.png\n",
      "20221130_103723_52.png\n",
      "20221130_103723_53.png\n",
      "20221130_103723_54.png\n",
      "20221130_103723_55.png\n",
      "20221130_103723_56.png\n",
      "20221130_103723_57.png\n",
      "20221130_103723_58.png\n",
      "20221130_103723_59.png\n",
      "20221130_103723_6.png\n",
      "20221130_103723_60.png\n",
      "20221130_103723_61.png\n",
      "20221130_103723_62.png\n",
      "20221130_103723_63.png\n",
      "20221130_103723_64.png\n",
      "20221130_103723_65.png\n",
      "20221130_103723_66.png\n",
      "20221130_103723_67.png\n",
      "20221130_103723_68.png\n",
      "20221130_103723_69.png\n",
      "20221130_103723_7.png\n",
      "20221130_103723_70.png\n",
      "20221130_103723_71.png\n",
      "20221130_103723_72.png\n",
      "20221130_103723_73.png\n",
      "20221130_103723_74.png\n",
      "20221130_103723_75.png\n",
      "20221130_103723_76.png\n",
      "20221130_103723_77.png\n",
      "20221130_103723_78.png\n",
      "20221130_103723_79.png\n",
      "20221130_103723_8.png\n",
      "20221130_103723_80.png\n",
      "20221130_103723_81.png\n",
      "20221130_103723_82.png\n",
      "20221130_103723_83.png\n",
      "20221130_103723_84.png\n",
      "20221130_103723_85.png\n",
      "20221130_103723_86.png\n",
      "20221130_103723_87.png\n",
      "20221130_103723_88.png\n",
      "20221130_103723_89.png\n",
      "20221130_103723_9.png\n",
      "20221130_103723_90.png\n",
      "20221130_103723_91.png\n",
      "20221130_103723_92.png\n"
     ]
    }
   ],
   "source": [
    "for image_class in os.listdir(data_dir):\n",
    "    for image in os.listdir(os.path.join(data_dir, image_class)):\n",
    "        print(image)"
   ]
  },
  {
   "cell_type": "code",
   "execution_count": 17,
   "metadata": {},
   "outputs": [],
   "source": [
    " #Remotion des images corrompues\n",
    "for image_class in os.listdir(data_dir):\n",
    "    for image in os.listdir(os.path.join(data_dir, image_class)):\n",
    "        image_path = os.path.join(data_dir, image_class, image)\n",
    "        try:\n",
    "            img = cv2.imread(image_path)\n",
    "            tip = imghdr.what(image_path)\n",
    "            if tip not in image_exts:\n",
    "                print('Image not in ext list {}'. format(image_path))\n",
    "                os.remove(image_path)\n",
    "        except Exception as e:\n",
    "            print('Issue with image {}'.format(image_path))"
   ]
  },
  {
   "cell_type": "code",
   "execution_count": 18,
   "metadata": {},
   "outputs": [],
   "source": [
    "#charger data"
   ]
  },
  {
   "cell_type": "code",
   "execution_count": 19,
   "metadata": {},
   "outputs": [],
   "source": [
    "tf.data.Dataset??"
   ]
  },
  {
   "cell_type": "code",
   "execution_count": 20,
   "metadata": {},
   "outputs": [],
   "source": [
    "import numpy as np \n",
    "from matplotlib import pyplot as plt"
   ]
  },
  {
   "cell_type": "code",
   "execution_count": null,
   "metadata": {},
   "outputs": [],
   "source": []
  },
  {
   "cell_type": "code",
   "execution_count": 21,
   "metadata": {},
   "outputs": [
    {
     "name": "stdout",
     "output_type": "stream",
     "text": [
      "Found 887 files belonging to 5 classes.\n"
     ]
    },
    {
     "data": {
      "text/plain": [
       "['messenger', 'noise', 'skype', 'twitch', 'youtube']"
      ]
     },
     "execution_count": 21,
     "metadata": {},
     "output_type": "execute_result"
    }
   ],
   "source": [
    "name_dataset = 'dataset_images'\n",
    "data = tf.keras.utils.image_dataset_from_directory(name_dataset,labels='inferred',\n",
    "    label_mode='categorical')\n",
    "#data = tf.keras.utils.image_dataset_from_directory(name_dataset,labels='inferred', batch_size=887)\n",
    "\n",
    "labels_correspondance = os.listdir(name_dataset)\n",
    "# Les labels sont attribués par ordre alphanumérique,\n",
    "# ainsi la classe 0 correspond à la première classe que l'on trouve dans l'ordre aplhanumérique dans le dossier\n",
    "labels_correspondance"
   ]
  },
  {
   "cell_type": "code",
   "execution_count": 22,
   "metadata": {},
   "outputs": [
    {
     "data": {
      "text/plain": [
       "<BatchDataset element_spec=(TensorSpec(shape=(None, 256, 256, 3), dtype=tf.float32, name=None), TensorSpec(shape=(None, 5), dtype=tf.float32, name=None))>"
      ]
     },
     "execution_count": 22,
     "metadata": {},
     "output_type": "execute_result"
    }
   ],
   "source": [
    "data"
   ]
  },
  {
   "cell_type": "code",
   "execution_count": 23,
   "metadata": {},
   "outputs": [],
   "source": [
    "data_iterator = data.as_numpy_iterator()"
   ]
  },
  {
   "cell_type": "code",
   "execution_count": 24,
   "metadata": {},
   "outputs": [
    {
     "data": {
      "text/plain": [
       "<tensorflow.python.data.ops.dataset_ops._NumpyIterator at 0x17222afe490>"
      ]
     },
     "execution_count": 24,
     "metadata": {},
     "output_type": "execute_result"
    }
   ],
   "source": [
    "data_iterator"
   ]
  },
  {
   "cell_type": "code",
   "execution_count": 25,
   "metadata": {},
   "outputs": [],
   "source": [
    "#Autre batch de l'iterateur \n",
    "batch = data_iterator.next()"
   ]
  },
  {
   "cell_type": "code",
   "execution_count": 26,
   "metadata": {},
   "outputs": [
    {
     "data": {
      "text/plain": [
       "(32, 256, 256, 3)"
      ]
     },
     "execution_count": 26,
     "metadata": {},
     "output_type": "execute_result"
    }
   ],
   "source": [
    "#Images representés comme numpys arrays\n",
    "batch[0].shape"
   ]
  },
  {
   "cell_type": "code",
   "execution_count": 27,
   "metadata": {},
   "outputs": [
    {
     "data": {
      "text/plain": [
       "array([[0., 0., 0., 0., 1.],\n",
       "       [0., 1., 0., 0., 0.],\n",
       "       [0., 1., 0., 0., 0.],\n",
       "       [0., 0., 0., 0., 1.],\n",
       "       [0., 0., 0., 0., 1.],\n",
       "       [0., 0., 0., 0., 1.],\n",
       "       [0., 0., 0., 0., 1.],\n",
       "       [0., 1., 0., 0., 0.],\n",
       "       [0., 1., 0., 0., 0.],\n",
       "       [0., 1., 0., 0., 0.],\n",
       "       [0., 0., 0., 0., 1.],\n",
       "       [1., 0., 0., 0., 0.],\n",
       "       [1., 0., 0., 0., 0.],\n",
       "       [0., 0., 0., 0., 1.],\n",
       "       [0., 0., 0., 0., 1.],\n",
       "       [0., 1., 0., 0., 0.],\n",
       "       [0., 0., 0., 0., 1.],\n",
       "       [0., 0., 0., 0., 1.],\n",
       "       [0., 1., 0., 0., 0.],\n",
       "       [0., 0., 0., 0., 1.],\n",
       "       [0., 0., 0., 0., 1.],\n",
       "       [0., 1., 0., 0., 0.],\n",
       "       [0., 0., 0., 0., 1.],\n",
       "       [0., 1., 0., 0., 0.],\n",
       "       [0., 0., 0., 0., 1.],\n",
       "       [0., 1., 0., 0., 0.],\n",
       "       [0., 1., 0., 0., 0.],\n",
       "       [0., 0., 0., 0., 1.],\n",
       "       [0., 0., 0., 0., 1.],\n",
       "       [0., 0., 0., 0., 1.],\n",
       "       [0., 1., 0., 0., 0.],\n",
       "       [0., 1., 0., 0., 0.]], dtype=float32)"
      ]
     },
     "execution_count": 27,
     "metadata": {},
     "output_type": "execute_result"
    }
   ],
   "source": [
    "batch[1]"
   ]
  },
  {
   "cell_type": "code",
   "execution_count": null,
   "metadata": {},
   "outputs": [],
   "source": []
  },
  {
   "cell_type": "code",
   "execution_count": 28,
   "metadata": {},
   "outputs": [
    {
     "name": "stderr",
     "output_type": "stream",
     "text": [
      "D:\\Program Files\\Anaconda3\\envs\\tfenv\\lib\\site-packages\\matplotlib\\text.py:1241: FutureWarning: elementwise comparison failed; returning scalar instead, but in the future will perform elementwise comparison\n",
      "  if s != self._text:\n"
     ]
    },
    {
     "data": {
      "image/png": "[encoded data removed]",
      "text/plain": [
       "<Figure size 2000x2000 with 10 Axes>"
      ]
     },
     "metadata": {},
     "output_type": "display_data"
    }
   ],
   "source": [
    "fig, ax = plt.subplots(ncols=10, figsize= (20,20))\n",
    "for idx, img in enumerate(batch[0][:10]):\n",
    "    ax[idx].imshow(img.astype(int))\n",
    "    ax[idx].title.set_text(batch[1][idx])"
   ]
  },
  {
   "cell_type": "code",
   "execution_count": 29,
   "metadata": {},
   "outputs": [],
   "source": [
    "#Preprocessing data"
   ]
  },
  {
   "cell_type": "code",
   "execution_count": 30,
   "metadata": {},
   "outputs": [],
   "source": [
    "scaled = batch[0]/255"
   ]
  },
  {
   "cell_type": "code",
   "execution_count": 31,
   "metadata": {},
   "outputs": [
    {
     "data": {
      "text/plain": [
       "1.0"
      ]
     },
     "execution_count": 31,
     "metadata": {},
     "output_type": "execute_result"
    }
   ],
   "source": [
    "scaled.max()"
   ]
  },
  {
   "cell_type": "code",
   "execution_count": 32,
   "metadata": {},
   "outputs": [
    {
     "name": "stdout",
     "output_type": "stream",
     "text": [
      "WARNING:tensorflow:From D:\\Program Files\\Anaconda3\\envs\\tfenv\\lib\\site-packages\\tensorflow\\python\\autograph\\pyct\\static_analysis\\liveness.py:83: Analyzer.lamba_check (from tensorflow.python.autograph.pyct.static_analysis.liveness) is deprecated and will be removed after 2023-09-23.\n",
      "Instructions for updating:\n",
      "Lambda fuctions will be no more assumed to be used in the statement where they are used, or at least in the same block. https://github.com/tensorflow/tensorflow/issues/56089\n"
     ]
    }
   ],
   "source": [
    "data = data.map(lambda x,y: (x/255, y)) #il y a plusieurs moyens de le faire"
   ]
  },
  {
   "cell_type": "code",
   "execution_count": 33,
   "metadata": {},
   "outputs": [],
   "source": [
    "scaled_iterator = data.as_numpy_iterator()"
   ]
  },
  {
   "cell_type": "code",
   "execution_count": 34,
   "metadata": {},
   "outputs": [],
   "source": [
    "batch= scaled_iterator.next()"
   ]
  },
  {
   "cell_type": "code",
   "execution_count": 35,
   "metadata": {},
   "outputs": [
    {
     "data": {
      "text/plain": [
       "1.0"
      ]
     },
     "execution_count": 35,
     "metadata": {},
     "output_type": "execute_result"
    }
   ],
   "source": [
    "batch[0].max()"
   ]
  },
  {
   "cell_type": "raw",
   "metadata": {},
   "source": []
  },
  {
   "cell_type": "code",
   "execution_count": 36,
   "metadata": {},
   "outputs": [
    {
     "data": {
      "image/png": "[encoded data removed]",
      "text/plain": [
       "<Figure size 2000x2000 with 5 Axes>"
      ]
     },
     "metadata": {},
     "output_type": "display_data"
    }
   ],
   "source": [
    "fig, ax = plt.subplots(ncols=5, figsize= (20,20))\n",
    "for idx, img in enumerate(batch[0][:5]):\n",
    "    ax[idx].imshow(img)\n",
    "    ax[idx].title.set_text(batch[1][idx])"
   ]
  },
  {
   "cell_type": "code",
   "execution_count": 37,
   "metadata": {},
   "outputs": [],
   "source": [
    "#Split Data"
   ]
  },
  {
   "cell_type": "code",
   "execution_count": 38,
   "metadata": {},
   "outputs": [
    {
     "data": {
      "text/plain": [
       "28"
      ]
     },
     "execution_count": 38,
     "metadata": {},
     "output_type": "execute_result"
    }
   ],
   "source": [
    "len(data)"
   ]
  },
  {
   "cell_type": "code",
   "execution_count": 39,
   "metadata": {},
   "outputs": [],
   "source": [
    "train_size = int(len(data)*.7)\n",
    "val_size = int(len(data)*.2)+0\n",
    "test_size = int(len(data)*.1)+1"
   ]
  },
  {
   "cell_type": "code",
   "execution_count": 40,
   "metadata": {},
   "outputs": [
    {
     "data": {
      "text/plain": [
       "27"
      ]
     },
     "execution_count": 40,
     "metadata": {},
     "output_type": "execute_result"
    }
   ],
   "source": [
    "train_size+val_size+test_size"
   ]
  },
  {
   "cell_type": "code",
   "execution_count": 41,
   "metadata": {},
   "outputs": [],
   "source": [
    "train = data.take(train_size)\n",
    "val =data.skip(train_size).take(val_size)\n",
    "test= data.skip(train_size + val_size).take(test_size)"
   ]
  },
  {
   "cell_type": "code",
   "execution_count": 42,
   "metadata": {},
   "outputs": [
    {
     "data": {
      "text/plain": [
       "3"
      ]
     },
     "execution_count": 42,
     "metadata": {},
     "output_type": "execute_result"
    }
   ],
   "source": [
    "len(test)"
   ]
  },
  {
   "cell_type": "code",
   "execution_count": 43,
   "metadata": {},
   "outputs": [],
   "source": [
    "#modeling"
   ]
  },
  {
   "cell_type": "code",
   "execution_count": 44,
   "metadata": {},
   "outputs": [],
   "source": [
    "#Deep learning model"
   ]
  },
  {
   "cell_type": "code",
   "execution_count": 45,
   "metadata": {},
   "outputs": [],
   "source": [
    "from tensorflow.keras.models import Sequential\n",
    "from tensorflow.keras.layers import Conv2D, MaxPooling2D, Dense, Flatten, Dropout"
   ]
  },
  {
   "cell_type": "code",
   "execution_count": 46,
   "metadata": {},
   "outputs": [],
   "source": [
    "model = Sequential()"
   ]
  },
  {
   "cell_type": "code",
   "execution_count": 47,
   "metadata": {},
   "outputs": [],
   "source": [
    "model.add(Conv2D(16, (3,3), 1, activation='relu', input_shape=(256,256,3)))\n",
    "model.add(MaxPooling2D()) #Adding a convultion layer\n",
    "\n",
    "model.add(Conv2D(32, (3,3), 1, activation='relu'))\n",
    "model.add(MaxPooling2D()) #\n",
    "\n",
    "model.add(Conv2D(16, (3,3), 1, activation='relu'))\n",
    "model.add(MaxPooling2D())\n",
    "\n",
    "model.add(Flatten())\n",
    "model.add(Dense(256, activation='relu'))\n",
    "model.add(Dense(len(labels_correspondance), activation='sigmoid'))\n"
   ]
  },
  {
   "cell_type": "code",
   "execution_count": 48,
   "metadata": {},
   "outputs": [],
   "source": [
    "model.compile('adam', loss = tf.losses.BinaryCrossentropy(), metrics =['accuracy'])"
   ]
  },
  {
   "cell_type": "code",
   "execution_count": 49,
   "metadata": {},
   "outputs": [
    {
     "name": "stdout",
     "output_type": "stream",
     "text": [
      "Model: \"sequential\"\n",
      "_________________________________________________________________\n",
      " Layer (type)                Output Shape              Param #   \n",
      "=================================================================\n",
      " conv2d (Conv2D)             (None, 254, 254, 16)      448       \n",
      "                                                                 \n",
      " max_pooling2d (MaxPooling2D  (None, 127, 127, 16)     0         \n",
      " )                                                               \n",
      "                                                                 \n",
      " conv2d_1 (Conv2D)           (None, 125, 125, 32)      4640      \n",
      "                                                                 \n",
      " max_pooling2d_1 (MaxPooling  (None, 62, 62, 32)       0         \n",
      " 2D)                                                             \n",
      "                                                                 \n",
      " conv2d_2 (Conv2D)           (None, 60, 60, 16)        4624      \n",
      "                                                                 \n",
      " max_pooling2d_2 (MaxPooling  (None, 30, 30, 16)       0         \n",
      " 2D)                                                             \n",
      "                                                                 \n",
      " flatten (Flatten)           (None, 14400)             0         \n",
      "                                                                 \n",
      " dense (Dense)               (None, 256)               3686656   \n",
      "                                                                 \n",
      " dense_1 (Dense)             (None, 5)                 1285      \n",
      "                                                                 \n",
      "=================================================================\n",
      "Total params: 3,697,653\n",
      "Trainable params: 3,697,653\n",
      "Non-trainable params: 0\n",
      "_________________________________________________________________\n"
     ]
    }
   ],
   "source": [
    "model.summary()"
   ]
  },
  {
   "cell_type": "code",
   "execution_count": 50,
   "metadata": {},
   "outputs": [],
   "source": [
    "#Train"
   ]
  },
  {
   "cell_type": "code",
   "execution_count": 51,
   "metadata": {},
   "outputs": [],
   "source": [
    "logdir = 'logs'"
   ]
  },
  {
   "cell_type": "code",
   "execution_count": 52,
   "metadata": {},
   "outputs": [],
   "source": [
    "tensorboard_callback = tf.keras.callbacks.TensorBoard(log_dir=logdir)"
   ]
  },
  {
   "cell_type": "code",
   "execution_count": 53,
   "metadata": {},
   "outputs": [
    {
     "name": "stdout",
     "output_type": "stream",
     "text": [
      "Epoch 1/20\n",
      "19/19 [==============================] - 21s 979ms/step - loss: 0.4256 - accuracy: 0.4638 - val_loss: 0.3827 - val_accuracy: 0.4750\n",
      "Epoch 2/20\n",
      "19/19 [==============================] - 20s 986ms/step - loss: 0.3729 - accuracy: 0.4984 - val_loss: 0.3614 - val_accuracy: 0.6187\n",
      "Epoch 3/20\n",
      "19/19 [==============================] - 22s 1s/step - loss: 0.3447 - accuracy: 0.5822 - val_loss: 0.3288 - val_accuracy: 0.6625\n",
      "Epoch 4/20\n",
      "19/19 [==============================] - 22s 1s/step - loss: 0.3090 - accuracy: 0.6447 - val_loss: 0.3000 - val_accuracy: 0.6875\n",
      "Epoch 5/20\n",
      "19/19 [==============================] - 21s 1s/step - loss: 0.2812 - accuracy: 0.6924 - val_loss: 0.2826 - val_accuracy: 0.6812\n",
      "Epoch 6/20\n",
      "19/19 [==============================] - 20s 1s/step - loss: 0.2631 - accuracy: 0.6924 - val_loss: 0.2889 - val_accuracy: 0.6875\n",
      "Epoch 7/20\n",
      "19/19 [==============================] - 23s 1s/step - loss: 0.2201 - accuracy: 0.7730 - val_loss: 0.2555 - val_accuracy: 0.7750\n",
      "Epoch 8/20\n",
      "19/19 [==============================] - 23s 1s/step - loss: 0.1985 - accuracy: 0.7993 - val_loss: 0.2520 - val_accuracy: 0.7188\n",
      "Epoch 9/20\n",
      "19/19 [==============================] - 23s 1s/step - loss: 0.1628 - accuracy: 0.8503 - val_loss: 0.2316 - val_accuracy: 0.7812\n",
      "Epoch 10/20\n",
      "19/19 [==============================] - 23s 1s/step - loss: 0.1317 - accuracy: 0.8799 - val_loss: 0.2608 - val_accuracy: 0.7937\n",
      "Epoch 11/20\n",
      "19/19 [==============================] - 18s 908ms/step - loss: 0.1033 - accuracy: 0.9145 - val_loss: 0.2351 - val_accuracy: 0.7937\n",
      "Epoch 12/20\n",
      "19/19 [==============================] - 18s 892ms/step - loss: 0.1099 - accuracy: 0.8947 - val_loss: 0.2161 - val_accuracy: 0.8125\n",
      "Epoch 13/20\n",
      "19/19 [==============================] - 23s 1s/step - loss: 0.0697 - accuracy: 0.9424 - val_loss: 0.1944 - val_accuracy: 0.8313\n",
      "Epoch 14/20\n",
      "19/19 [==============================] - 28s 1s/step - loss: 0.0598 - accuracy: 0.9572 - val_loss: 0.2544 - val_accuracy: 0.8125\n",
      "Epoch 15/20\n",
      "19/19 [==============================] - 26s 1s/step - loss: 0.0691 - accuracy: 0.9424 - val_loss: 0.2065 - val_accuracy: 0.8500\n",
      "Epoch 16/20\n",
      "19/19 [==============================] - 25s 1s/step - loss: 0.0422 - accuracy: 0.9803 - val_loss: 0.2479 - val_accuracy: 0.8438\n",
      "Epoch 17/20\n",
      "19/19 [==============================] - 23s 1s/step - loss: 0.0383 - accuracy: 0.9836 - val_loss: 0.2620 - val_accuracy: 0.8500\n",
      "Epoch 18/20\n",
      "19/19 [==============================] - 24s 1s/step - loss: 0.0280 - accuracy: 0.9852 - val_loss: 0.2337 - val_accuracy: 0.8562\n",
      "Epoch 19/20\n",
      "19/19 [==============================] - 26s 1s/step - loss: 0.0367 - accuracy: 0.9786 - val_loss: 0.2370 - val_accuracy: 0.8687\n",
      "Epoch 20/20\n",
      "19/19 [==============================] - 24s 1s/step - loss: 0.0288 - accuracy: 0.9901 - val_loss: 0.2312 - val_accuracy: 0.8875\n"
     ]
    }
   ],
   "source": [
    "hist = model.fit(train, epochs =20, validation_data = val, callbacks =[tensorboard_callback])"
   ]
  },
  {
   "cell_type": "code",
   "execution_count": 54,
   "metadata": {},
   "outputs": [
    {
     "data": {
      "text/plain": [
       "{'loss': [0.42557820677757263,\n",
       "  0.3728927969932556,\n",
       "  0.3447133004665375,\n",
       "  0.3090153932571411,\n",
       "  0.2812243103981018,\n",
       "  0.2630835175514221,\n",
       "  0.2200816124677658,\n",
       "  0.19850409030914307,\n",
       "  0.16282333433628082,\n",
       "  0.13171541690826416,\n",
       "  0.1032542735338211,\n",
       "  0.1099419966340065,\n",
       "  0.06971126049757004,\n",
       "  0.05979229137301445,\n",
       "  0.0691138282418251,\n",
       "  0.04215340316295624,\n",
       "  0.03834344819188118,\n",
       "  0.0280288215726614,\n",
       "  0.03671056032180786,\n",
       "  0.02876058965921402],\n",
       " 'accuracy': [0.4638157784938812,\n",
       "  0.49835526943206787,\n",
       "  0.5822368264198303,\n",
       "  0.6447368264198303,\n",
       "  0.6924341917037964,\n",
       "  0.6924341917037964,\n",
       "  0.7730262875556946,\n",
       "  0.7993420958518982,\n",
       "  0.8503289222717285,\n",
       "  0.8799341917037964,\n",
       "  0.9144737124443054,\n",
       "  0.8947368264198303,\n",
       "  0.9424341917037964,\n",
       "  0.9572368264198303,\n",
       "  0.9424341917037964,\n",
       "  0.9802631735801697,\n",
       "  0.9835526347160339,\n",
       "  0.9851973652839661,\n",
       "  0.9786184430122375,\n",
       "  0.9901315569877625],\n",
       " 'val_loss': [0.3826576769351959,\n",
       "  0.36137041449546814,\n",
       "  0.32881173491477966,\n",
       "  0.3000035285949707,\n",
       "  0.28258007764816284,\n",
       "  0.2888556122779846,\n",
       "  0.2555020749568939,\n",
       "  0.2520081102848053,\n",
       "  0.23160341382026672,\n",
       "  0.2607566714286804,\n",
       "  0.23508918285369873,\n",
       "  0.21605293452739716,\n",
       "  0.19438199698925018,\n",
       "  0.2543622851371765,\n",
       "  0.20650899410247803,\n",
       "  0.24785852432250977,\n",
       "  0.2620486915111542,\n",
       "  0.23370349407196045,\n",
       "  0.23698799312114716,\n",
       "  0.2312190979719162],\n",
       " 'val_accuracy': [0.4749999940395355,\n",
       "  0.6187499761581421,\n",
       "  0.6625000238418579,\n",
       "  0.6875,\n",
       "  0.6812499761581421,\n",
       "  0.6875,\n",
       "  0.7749999761581421,\n",
       "  0.71875,\n",
       "  0.78125,\n",
       "  0.793749988079071,\n",
       "  0.793749988079071,\n",
       "  0.8125,\n",
       "  0.831250011920929,\n",
       "  0.8125,\n",
       "  0.8500000238418579,\n",
       "  0.84375,\n",
       "  0.8500000238418579,\n",
       "  0.856249988079071,\n",
       "  0.8687499761581421,\n",
       "  0.887499988079071]}"
      ]
     },
     "execution_count": 54,
     "metadata": {},
     "output_type": "execute_result"
    }
   ],
   "source": [
    "hist.history"
   ]
  },
  {
   "cell_type": "code",
   "execution_count": 55,
   "metadata": {},
   "outputs": [],
   "source": [
    "#Perfomance"
   ]
  },
  {
   "cell_type": "code",
   "execution_count": 56,
   "metadata": {},
   "outputs": [
    {
     "data": {
      "image/png": "[encoded data removed]",
      "text/plain": [
       "<Figure size 640x480 with 1 Axes>"
      ]
     },
     "metadata": {},
     "output_type": "display_data"
    }
   ],
   "source": [
    "fig =plt.figure()\n",
    "plt.plot(hist.history['loss'], color ='teal', label ='loss')\n",
    "#plt.plot(hist.history['val_loss'], color= 'orange', label = 'val_loss')\n",
    "fig.suptitle('Loss', fontsize =20)\n",
    "plt.legend(loc =\"upper left\")\n",
    "plt.show()"
   ]
  },
  {
   "cell_type": "code",
   "execution_count": 57,
   "metadata": {},
   "outputs": [
    {
     "data": {
      "image/png": "[encoded data removed]",
      "text/plain": [
       "<Figure size 640x480 with 1 Axes>"
      ]
     },
     "metadata": {},
     "output_type": "display_data"
    }
   ],
   "source": [
    "fig =plt.figure()\n",
    "plt.plot(hist.history['accuracy'], color ='teal', label ='accuracy')\n",
    "#plt.plot(hist.history['val_loss'], color= 'orange', label = 'val_loss')\n",
    "fig.suptitle('Accuracy', fontsize =20)\n",
    "plt.legend(loc =\"upper left\")\n",
    "plt.show()"
   ]
  },
  {
   "cell_type": "code",
   "execution_count": 58,
   "metadata": {},
   "outputs": [],
   "source": [
    "#Evaluate Performance"
   ]
  },
  {
   "cell_type": "code",
   "execution_count": 59,
   "metadata": {},
   "outputs": [],
   "source": [
    "from tensorflow.keras.metrics import Precision, Recall, BinaryAccuracy"
   ]
  },
  {
   "cell_type": "code",
   "execution_count": 60,
   "metadata": {},
   "outputs": [],
   "source": [
    "pre = Precision()\n",
    "re =Recall()\n",
    "acc = BinaryAccuracy()"
   ]
  },
  {
   "cell_type": "code",
   "execution_count": 61,
   "metadata": {
    "scrolled": true
   },
   "outputs": [
    {
     "name": "stdout",
     "output_type": "stream",
     "text": [
      "1/1 [==============================] - 0s 427ms/step\n",
      "1/1 [==============================] - 0s 200ms/step\n",
      "1/1 [==============================] - 0s 207ms/step\n"
     ]
    }
   ],
   "source": [
    "for batch in test.as_numpy_iterator():\n",
    "    x, y = batch \n",
    "    yhat = model.predict(x)\n",
    "    pre.update_state(y, yhat)\n",
    "    re.update_state(y, yhat)\n",
    "    acc.update_state(y, yhat)"
   ]
  },
  {
   "cell_type": "code",
   "execution_count": 62,
   "metadata": {},
   "outputs": [
    {
     "name": "stdout",
     "output_type": "stream",
     "text": [
      "tf.Tensor(0.8947368, shape=(), dtype=float32) tf.Tensor(0.8854167, shape=(), dtype=float32) tf.Tensor(0.95625, shape=(), dtype=float32)\n"
     ]
    }
   ],
   "source": [
    "print(pre.result(), re.result(), acc.result())"
   ]
  },
  {
   "cell_type": "code",
   "execution_count": 63,
   "metadata": {},
   "outputs": [],
   "source": [
    "#Test\n",
    "import cv2"
   ]
  },
  {
   "cell_type": "code",
   "execution_count": null,
   "metadata": {},
   "outputs": [],
   "source": [
    "\n",
    "\n"
   ]
  },
  {
   "cell_type": "code",
   "execution_count": 64,
   "metadata": {},
   "outputs": [
    {
     "data": {
      "text/plain": [
       "numpy.ndarray"
      ]
     },
     "execution_count": 64,
     "metadata": {},
     "output_type": "execute_result"
    }
   ],
   "source": [
    "type(img)"
   ]
  },
  {
   "cell_type": "code",
   "execution_count": null,
   "metadata": {},
   "outputs": [],
   "source": [
    "\n"
   ]
  },
  {
   "cell_type": "code",
   "execution_count": null,
   "metadata": {},
   "outputs": [],
   "source": []
  },
  {
   "cell_type": "code",
   "execution_count": 65,
   "metadata": {},
   "outputs": [
    {
     "data": {
      "image/png": "[encoded data removed]",
      "text/plain": [
       "<Figure size 640x480 with 1 Axes>"
      ]
     },
     "metadata": {},
     "output_type": "display_data"
    }
   ],
   "source": [
    "test_img = os.path.join(\"dataset_images\", 'twitch', \"20221117_113554_25.png\")\n",
    "img = cv2.imread(test_img)\n",
    "plt.imshow(img)\n",
    "plt.show()"
   ]
  },
  {
   "cell_type": "code",
   "execution_count": 66,
   "metadata": {},
   "outputs": [
    {
     "data": {
      "image/png": "[encoded data removed]",
      "text/plain": [
       "<Figure size 640x480 with 1 Axes>"
      ]
     },
     "metadata": {},
     "output_type": "display_data"
    }
   ],
   "source": [
    "resize = tf.image.resize(img, (256,256))\n",
    "plt.imshow(resize.numpy().astype(int))\n",
    "plt.show()"
   ]
  },
  {
   "cell_type": "code",
   "execution_count": 67,
   "metadata": {},
   "outputs": [
    {
     "data": {
      "text/plain": [
       "<tf.Tensor: shape=(256, 256, 3), dtype=float32, numpy=\n",
       "array([[[255., 255., 255.],\n",
       "        [255., 255., 255.],\n",
       "        [255., 255., 255.],\n",
       "        ...,\n",
       "        [255., 255., 255.],\n",
       "        [255., 255., 255.],\n",
       "        [255., 255., 255.]],\n",
       "\n",
       "       [[255., 255., 255.],\n",
       "        [255., 255., 255.],\n",
       "        [255., 255., 255.],\n",
       "        ...,\n",
       "        [255., 255., 255.],\n",
       "        [255., 255., 255.],\n",
       "        [255., 255., 255.]],\n",
       "\n",
       "       [[255., 255., 255.],\n",
       "        [255., 255., 255.],\n",
       "        [255., 255., 255.],\n",
       "        ...,\n",
       "        [255., 255., 255.],\n",
       "        [255., 255., 255.],\n",
       "        [255., 255., 255.]],\n",
       "\n",
       "       ...,\n",
       "\n",
       "       [[255., 255., 255.],\n",
       "        [255., 255., 255.],\n",
       "        [255., 255., 255.],\n",
       "        ...,\n",
       "        [255., 255., 255.],\n",
       "        [255., 255., 255.],\n",
       "        [255., 255., 255.]],\n",
       "\n",
       "       [[255., 255., 255.],\n",
       "        [255., 255., 255.],\n",
       "        [255., 255., 255.],\n",
       "        ...,\n",
       "        [255., 255., 255.],\n",
       "        [255., 255., 255.],\n",
       "        [255., 255., 255.]],\n",
       "\n",
       "       [[255., 255., 255.],\n",
       "        [255., 255., 255.],\n",
       "        [255., 255., 255.],\n",
       "        ...,\n",
       "        [255., 255., 255.],\n",
       "        [255., 255., 255.],\n",
       "        [255., 255., 255.]]], dtype=float32)>"
      ]
     },
     "execution_count": 67,
     "metadata": {},
     "output_type": "execute_result"
    }
   ],
   "source": [
    "resize"
   ]
  },
  {
   "cell_type": "code",
   "execution_count": 68,
   "metadata": {},
   "outputs": [
    {
     "name": "stdout",
     "output_type": "stream",
     "text": [
      "1/1 [==============================] - 0s 100ms/step\n"
     ]
    }
   ],
   "source": [
    "yhat = model.predict(np.expand_dims(resize/255, 0))"
   ]
  },
  {
   "cell_type": "code",
   "execution_count": 69,
   "metadata": {},
   "outputs": [
    {
     "data": {
      "text/plain": [
       "array([[6.4170366e-05, 8.8428342e-01, 2.8814908e-05, 2.8605745e-04,\n",
       "        4.5441449e-01]], dtype=float32)"
      ]
     },
     "execution_count": 69,
     "metadata": {},
     "output_type": "execute_result"
    }
   ],
   "source": [
    "yhat #RQ MALO# la tu devrais avoir une sortie de type [0.816,0.154,0.260], chaque valeur correspond à la probabilité que ce soit telle ou telle classe\n",
    "# Afin d'afficher la classe il faut donc appliquer la fonction argmax"
   ]
  },
  {
   "cell_type": "code",
   "execution_count": 70,
   "metadata": {},
   "outputs": [
    {
     "name": "stdout",
     "output_type": "stream",
     "text": [
      "tf.Tensor(1, shape=(), dtype=int64)\n",
      "predicted : noise\n"
     ]
    }
   ],
   "source": [
    "print(tf.math.argmax(yhat[0]))\n",
    "pred = labels_correspondance[tf.math.argmax(yhat[0])]\n",
    "print(f\"predicted : {pred}\")"
   ]
  },
  {
   "cell_type": "code",
   "execution_count": null,
   "metadata": {},
   "outputs": [],
   "source": []
  },
  {
   "cell_type": "code",
   "execution_count": null,
   "metadata": {},
   "outputs": [],
   "source": []
  },
  {
   "cell_type": "code",
   "execution_count": 71,
   "metadata": {},
   "outputs": [
    {
     "data": {
      "image/png": "[encoded data removed]",
      "text/plain": [
       "<Figure size 640x480 with 1 Axes>"
      ]
     },
     "metadata": {},
     "output_type": "display_data"
    }
   ],
   "source": [
    "test_img = os.path.join(\"dataset_images\", 'youtube', \"20221118_104205_6.png\")\n",
    "img = cv2.imread(test_img)\n",
    "plt.imshow(img)\n",
    "plt.show()"
   ]
  },
  {
   "cell_type": "code",
   "execution_count": 72,
   "metadata": {},
   "outputs": [
    {
     "data": {
      "image/png": "[encoded data removed]",
      "text/plain": [
       "<Figure size 640x480 with 1 Axes>"
      ]
     },
     "metadata": {},
     "output_type": "display_data"
    }
   ],
   "source": [
    "resize = tf.image.resize(img, (256,256))\n",
    "plt.imshow(resize.numpy().astype(int))\n",
    "plt.show()"
   ]
  },
  {
   "cell_type": "code",
   "execution_count": 73,
   "metadata": {},
   "outputs": [
    {
     "name": "stdout",
     "output_type": "stream",
     "text": [
      "1/1 [==============================] - 0s 28ms/step\n"
     ]
    }
   ],
   "source": [
    "yhat = model.predict(np.expand_dims(resize/255, 0))"
   ]
  },
  {
   "cell_type": "code",
   "execution_count": 74,
   "metadata": {},
   "outputs": [
    {
     "name": "stdout",
     "output_type": "stream",
     "text": [
      "predicted : youtube\n"
     ]
    }
   ],
   "source": [
    "pred = labels_correspondance[tf.math.argmax(yhat[0])]\n",
    "print(f\"predicted : {pred}\")"
   ]
  },
  {
   "cell_type": "code",
   "execution_count": 75,
   "metadata": {},
   "outputs": [
    {
     "data": {
      "image/png": "[encoded data removed]",
      "text/plain": [
       "<Figure size 640x480 with 1 Axes>"
      ]
     },
     "metadata": {},
     "output_type": "display_data"
    }
   ],
   "source": [
    "test_img = os.path.join(\"dataset_images\", 'messenger', \"20221124_143112_5.png\")\n",
    "img = cv2.imread(test_img)\n",
    "plt.imshow(img)\n",
    "plt.show()"
   ]
  },
  {
   "cell_type": "code",
   "execution_count": 76,
   "metadata": {},
   "outputs": [
    {
     "data": {
      "image/png": "[encoded data removed]",
      "text/plain": [
       "<Figure size 640x480 with 1 Axes>"
      ]
     },
     "metadata": {},
     "output_type": "display_data"
    }
   ],
   "source": [
    "resize = tf.image.resize(img, (256,256))\n",
    "plt.imshow(resize.numpy().astype(int))\n",
    "plt.show()"
   ]
  },
  {
   "cell_type": "code",
   "execution_count": 77,
   "metadata": {},
   "outputs": [
    {
     "name": "stdout",
     "output_type": "stream",
     "text": [
      "1/1 [==============================] - 0s 28ms/step\n"
     ]
    }
   ],
   "source": [
    "yhat = model.predict(np.expand_dims(resize/255, 0))"
   ]
  },
  {
   "cell_type": "code",
   "execution_count": 78,
   "metadata": {},
   "outputs": [
    {
     "name": "stdout",
     "output_type": "stream",
     "text": [
      "predicted : youtube\n"
     ]
    }
   ],
   "source": [
    "yhat\n",
    "pred = labels_correspondance[tf.math.argmax(yhat[0])]\n",
    "print(f\"predicted : {pred}\")"
   ]
  },
  {
   "cell_type": "code",
   "execution_count": 79,
   "metadata": {},
   "outputs": [
    {
     "name": "stdout",
     "output_type": "stream",
     "text": [
      "28/28 [==============================] - 8s 244ms/step\n"
     ]
    }
   ],
   "source": [
    "# mesure efficiency\n",
    "preds_labels =  model.predict(data)\n",
    "preds_labels = tf.math.argmax(preds_labels, axis=1)\n",
    "preds_labels = [labels_correspondance[x] for x in np.array(preds_labels)]"
   ]
  },
  {
   "cell_type": "code",
   "execution_count": 81,
   "metadata": {},
   "outputs": [],
   "source": [
    "images, true_labels = tuple(zip(*data))\n",
    "true_labels = np.concatenate(true_labels)\n",
    "true_labels = tf.math.argmax(true_labels, axis=1)\n",
    "true_labels = [labels_correspondance[x] for x in np.array(true_labels)]"
   ]
  },
  {
   "cell_type": "code",
   "execution_count": 83,
   "metadata": {},
   "outputs": [
    {
     "data": {
      "text/plain": [
       "['twitch', 'noise', 'messenger', 'skype', 'youtube']"
      ]
     },
     "execution_count": 83,
     "metadata": {},
     "output_type": "execute_result"
    }
   ],
   "source": [
    "list_set = set(true_labels)\n",
    "unique_list = (list(list_set))\n",
    "unique_list"
   ]
  },
  {
   "cell_type": "code",
   "execution_count": null,
   "metadata": {},
   "outputs": [],
   "source": []
  },
  {
   "cell_type": "code",
   "execution_count": 84,
   "metadata": {},
   "outputs": [
    {
     "data": {
      "image/png": "[encoded data removed]",
      "text/plain": [
       "<Figure size 640x480 with 2 Axes>"
      ]
     },
     "metadata": {},
     "output_type": "display_data"
    }
   ],
   "source": [
    "from sklearn.metrics import confusion_matrix\n",
    "\n",
    "import seaborn as sns\n",
    "import matplotlib.pyplot as plt     \n",
    "\n",
    "cm=confusion_matrix(true_labels,preds_labels )\n",
    "ax= plt.subplot()\n",
    "sns.heatmap(cm, annot=True, fmt='g', ax=ax);  #annot=True to annotate cells, ftm='g' to disable scientific notation\n",
    "\n",
    "# labels, title and ticks\n",
    "ax.set_xlabel('Predicted labels');ax.set_ylabel('True labels'); \n",
    "ax.set_title('Confusion Matrix'); \n",
    "ax.xaxis.set_ticklabels(labels_correspondance); ax.yaxis.set_ticklabels(labels_correspondance);"
   ]
  },
  {
   "cell_type": "code",
   "execution_count": null,
   "metadata": {},
   "outputs": [],
   "source": []
  }
 ],
 "metadata": {
  "kernelspec": {
   "display_name": "Python 3 (ipykernel)",
   "language": "python",
   "name": "python3"
  },
  "language_info": {
   "codemirror_mode": {
    "name": "ipython",
    "version": 3
   },
   "file_extension": ".py",
   "mimetype": "text/x-python",
   "name": "python",
   "nbconvert_exporter": "python",
   "pygments_lexer": "ipython3",
   "version": "3.9.12"
  }
 },
 "nbformat": 4,
 "nbformat_minor": 4
}
