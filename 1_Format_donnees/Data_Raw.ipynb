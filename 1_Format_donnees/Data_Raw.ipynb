{
 "cells": [
  {
   "cell_type": "code",
   "execution_count": 1,
   "id": "64d67bad",
   "metadata": {},
   "outputs": [],
   "source": [
    "import os\n",
    "import pandas as pd\n",
    "import warnings\n",
    "import matplotlib.pyplot as plt\n",
    "\n",
    "import numpy as np\n",
    "import seaborn as sns\n",
    "import sys\n",
    "\n",
    "from sklearn.ensemble import RandomForestClassifier\n",
    "from tqdm import tqdm\n",
    "import time\n",
    "\n",
    "\n",
    "plt.rcParams[\"figure.figsize\"] = (9, 6)\n",
    "warnings.simplefilter(\"ignore\")\n",
    "\n",
    "sys.path.append(\"../1_Format_donnees/\")\n",
    "from aggregation import load_and_preprocess_raw_data, Scaler_Metrics\n",
    "sys.path.append(\"../\")\n",
    "\n",
    "from evaluate import plot_confusion_matrix, get_scores, plot_feature_importance\n",
    "\n",
    "### <8 mbits en cumsum = bruit "
   ]
  },
  {
   "cell_type": "code",
   "execution_count": 2,
   "id": "5ead135b",
   "metadata": {},
   "outputs": [],
   "source": [
    "WINDOW_SIZE = 250\n"
   ]
  },
  {
   "cell_type": "code",
   "execution_count": 3,
   "id": "ea796f28",
   "metadata": {
    "scrolled": true
   },
   "outputs": [
    {
     "name": "stdout",
     "output_type": "stream",
     "text": [
      "Load datasets...\n",
      "Extracting ../Mesures/test\\messenger20221124_151137.csv.... 1/7\n"
     ]
    },
    {
     "name": "stderr",
     "output_type": "stream",
     "text": [
      "100%|████████████████████████████████████████████████████████████████████████████████████| 5/5 [00:00<00:00, 18.20it/s]\n"
     ]
    },
    {
     "name": "stdout",
     "output_type": "stream",
     "text": [
      "Extracting ../Mesures/test\\messenger20230208_132747.csv.... 2/7\n"
     ]
    },
    {
     "name": "stderr",
     "output_type": "stream",
     "text": [
      "100%|██████████████████████████████████████████████████████████████████████████████████| 27/27 [00:03<00:00,  7.58it/s]\n"
     ]
    },
    {
     "name": "stdout",
     "output_type": "stream",
     "text": [
      "Extracting ../Mesures/test\\skype20221206_150902.csv.... 3/7\n"
     ]
    },
    {
     "name": "stderr",
     "output_type": "stream",
     "text": [
      "100%|████████████████████████████████████████████████████████████████████████████████████| 3/3 [00:00<00:00,  3.38it/s]\n"
     ]
    },
    {
     "name": "stdout",
     "output_type": "stream",
     "text": [
      "Extracting ../Mesures/test\\spotify20230127_134348.csv.... 4/7\n"
     ]
    },
    {
     "name": "stderr",
     "output_type": "stream",
     "text": [
      "100%|██████████████████████████████████████████████████████████████████████████████| 240/240 [00:00<00:00, 1098.64it/s]\n"
     ]
    },
    {
     "name": "stdout",
     "output_type": "stream",
     "text": [
      "Extracting ../Mesures/test\\twitch20221124_163054.csv.... 5/7\n"
     ]
    },
    {
     "name": "stderr",
     "output_type": "stream",
     "text": [
      "100%|██████████████████████████████████████████████████████████████████████████████████| 12/12 [00:00<00:00, 23.05it/s]\n"
     ]
    },
    {
     "name": "stdout",
     "output_type": "stream",
     "text": [
      "Extracting ../Mesures/test\\youtube20221118_104205.csv.... 6/7\n"
     ]
    },
    {
     "name": "stderr",
     "output_type": "stream",
     "text": [
      "100%|██████████████████████████████████████████████████████████████████████████████| 218/218 [00:00<00:00, 1071.01it/s]\n"
     ]
    },
    {
     "name": "stdout",
     "output_type": "stream",
     "text": [
      "Extracting ../Mesures/test\\youtube20230117_121925.csv.... 7/7\n"
     ]
    },
    {
     "name": "stderr",
     "output_type": "stream",
     "text": [
      "100%|███████████████████████████████████████████████████████████████████████████████| 260/260 [00:00<00:00, 721.87it/s]\n",
      "100%|█████████████████████████████████████████████████████████████████████████████| 765/765 [00:00<00:00, 20851.32it/s]\n"
     ]
    },
    {
     "name": "stdout",
     "output_type": "stream",
     "text": [
      "Load datasets...\n",
      "Extracting ../Mesures/train\\messenger20221117_125310.csv.... 1/39\n"
     ]
    },
    {
     "name": "stderr",
     "output_type": "stream",
     "text": [
      "100%|█████████████████████████████████████████████████████████████████████████████████| 15/15 [00:00<00:00, 125.74it/s]\n"
     ]
    },
    {
     "name": "stdout",
     "output_type": "stream",
     "text": [
      "Extracting ../Mesures/train\\messenger20221124_143112.csv.... 2/39\n"
     ]
    },
    {
     "name": "stderr",
     "output_type": "stream",
     "text": [
      "100%|██████████████████████████████████████████████████████████████████████████████████| 11/11 [00:00<00:00, 40.29it/s]\n"
     ]
    },
    {
     "name": "stdout",
     "output_type": "stream",
     "text": [
      "Extracting ../Mesures/train\\messenger20221125_130559.csv.... 3/39\n"
     ]
    },
    {
     "name": "stderr",
     "output_type": "stream",
     "text": [
      "100%|█████████████████████████████████████████████████████████████████████████████████| 38/38 [00:00<00:00, 110.25it/s]\n"
     ]
    },
    {
     "name": "stdout",
     "output_type": "stream",
     "text": [
      "Extracting ../Mesures/train\\messenger20221129_131204.csv.... 4/39\n"
     ]
    },
    {
     "name": "stderr",
     "output_type": "stream",
     "text": [
      "100%|██████████████████████████████████████████████████████████████████████████████████| 14/14 [00:01<00:00, 12.96it/s]\n"
     ]
    },
    {
     "name": "stdout",
     "output_type": "stream",
     "text": [
      "Extracting ../Mesures/train\\messenger20221129_151124.csv.... 5/39\n"
     ]
    },
    {
     "name": "stderr",
     "output_type": "stream",
     "text": [
      "100%|████████████████████████████████████████████████████████████████████████████████████| 5/5 [00:00<00:00,  7.62it/s]\n"
     ]
    },
    {
     "name": "stdout",
     "output_type": "stream",
     "text": [
      "Extracting ../Mesures/train\\messenger20230207_133921.csv.... 6/39\n"
     ]
    },
    {
     "name": "stderr",
     "output_type": "stream",
     "text": [
      "100%|████████████████████████████████████████████████████████████████████████████████████| 2/2 [00:00<00:00,  2.64it/s]\n"
     ]
    },
    {
     "name": "stdout",
     "output_type": "stream",
     "text": [
      "Extracting ../Mesures/train\\messenger20230209_083453.csv.... 7/39\n"
     ]
    },
    {
     "name": "stderr",
     "output_type": "stream",
     "text": [
      "100%|████████████████████████████████████████████████████████████████████████████████████| 5/5 [00:01<00:00,  4.57it/s]\n"
     ]
    },
    {
     "name": "stdout",
     "output_type": "stream",
     "text": [
      "Extracting ../Mesures/train\\pure_noise20230106_132210.csv.... 8/39\n"
     ]
    },
    {
     "name": "stderr",
     "output_type": "stream",
     "text": [
      "100%|██████████████████████████████████████████████████████████████████████████████| 805/805 [00:00<00:00, 1411.58it/s]\n"
     ]
    },
    {
     "name": "stdout",
     "output_type": "stream",
     "text": [
      "Extracting ../Mesures/train\\skype20221129_164105.csv.... 9/39\n"
     ]
    },
    {
     "name": "stderr",
     "output_type": "stream",
     "text": [
      "100%|████████████████████████████████████████████████████████████████████████████████████| 5/5 [00:00<00:00, 13.65it/s]\n"
     ]
    },
    {
     "name": "stdout",
     "output_type": "stream",
     "text": [
      "Extracting ../Mesures/train\\skype20221206_125510.csv.... 10/39\n"
     ]
    },
    {
     "name": "stderr",
     "output_type": "stream",
     "text": [
      "100%|██████████████████████████████████████████████████████████████████████████████████| 19/19 [00:00<00:00, 36.32it/s]\n"
     ]
    },
    {
     "name": "stdout",
     "output_type": "stream",
     "text": [
      "Extracting ../Mesures/train\\skype20221208_104403.csv.... 11/39\n"
     ]
    },
    {
     "name": "stderr",
     "output_type": "stream",
     "text": [
      "100%|████████████████████████████████████████████████████████████████████████████████████| 7/7 [00:01<00:00,  3.63it/s]\n"
     ]
    },
    {
     "name": "stdout",
     "output_type": "stream",
     "text": [
      "Extracting ../Mesures/train\\skype20221208_124925.csv.... 12/39\n"
     ]
    },
    {
     "name": "stderr",
     "output_type": "stream",
     "text": [
      "100%|████████████████████████████████████████████████████████████████████████████████████| 6/6 [00:02<00:00,  2.15it/s]\n"
     ]
    },
    {
     "name": "stdout",
     "output_type": "stream",
     "text": [
      "Extracting ../Mesures/train\\skype20221215_151512.csv.... 13/39\n"
     ]
    },
    {
     "name": "stderr",
     "output_type": "stream",
     "text": [
      "100%|██████████████████████████████████████████████████████████████████████████████████| 23/23 [00:00<00:00, 50.20it/s]\n"
     ]
    },
    {
     "name": "stdout",
     "output_type": "stream",
     "text": [
      "Extracting ../Mesures/train\\skype20221215_155618.csv.... 14/39\n"
     ]
    },
    {
     "name": "stderr",
     "output_type": "stream",
     "text": [
      "100%|██████████████████████████████████████████████████████████████████████████████████| 19/19 [00:00<00:00, 27.11it/s]\n"
     ]
    },
    {
     "name": "stdout",
     "output_type": "stream",
     "text": [
      "Extracting ../Mesures/train\\skype20221215_164208.csv.... 15/39\n"
     ]
    },
    {
     "name": "stderr",
     "output_type": "stream",
     "text": [
      "100%|████████████████████████████████████████████████████████████████████████████████████| 5/5 [00:00<00:00,  6.40it/s]\n"
     ]
    },
    {
     "name": "stdout",
     "output_type": "stream",
     "text": [
      "Extracting ../Mesures/train\\skype20221215_174819.csv.... 16/39\n"
     ]
    },
    {
     "name": "stderr",
     "output_type": "stream",
     "text": [
      "100%|████████████████████████████████████████████████████████████████████████████████████| 6/6 [00:00<00:00,  9.09it/s]\n"
     ]
    },
    {
     "name": "stdout",
     "output_type": "stream",
     "text": [
      "Extracting ../Mesures/train\\spotify20230201_092702.csv.... 17/39\n"
     ]
    },
    {
     "name": "stderr",
     "output_type": "stream",
     "text": [
      "100%|█████████████████████████████████████████████████████████████████████████████| 1750/1750 [00:05<00:00, 309.21it/s]\n"
     ]
    },
    {
     "name": "stdout",
     "output_type": "stream",
     "text": [
      "Extracting ../Mesures/train\\spotify20230203_165507.csv.... 18/39\n"
     ]
    },
    {
     "name": "stderr",
     "output_type": "stream",
     "text": [
      "100%|██████████████████████████████████████████████████████████████████████████████| 522/522 [00:00<00:00, 1422.27it/s]\n"
     ]
    },
    {
     "name": "stdout",
     "output_type": "stream",
     "text": [
      "Extracting ../Mesures/train\\spotify20230216_141318.csv.... 19/39\n"
     ]
    },
    {
     "name": "stderr",
     "output_type": "stream",
     "text": [
      "100%|██████████████████████████████████████████████████████████████████████████████| 364/364 [00:00<00:00, 1525.18it/s]\n"
     ]
    },
    {
     "name": "stdout",
     "output_type": "stream",
     "text": [
      "Extracting ../Mesures/train\\twitch20221117_113554.csv.... 20/39\n"
     ]
    },
    {
     "name": "stderr",
     "output_type": "stream",
     "text": [
      "100%|█████████████████████████████████████████████████████████████████████████████████| 24/24 [00:00<00:00, 109.86it/s]\n"
     ]
    },
    {
     "name": "stdout",
     "output_type": "stream",
     "text": [
      "Extracting ../Mesures/train\\twitch20221118_075454.csv.... 21/39\n"
     ]
    },
    {
     "name": "stderr",
     "output_type": "stream",
     "text": [
      "100%|██████████████████████████████████████████████████████████████████████████████████| 16/16 [00:00<00:00, 53.52it/s]\n"
     ]
    },
    {
     "name": "stdout",
     "output_type": "stream",
     "text": [
      "Extracting ../Mesures/train\\twitch20221125_133859.csv.... 22/39\n"
     ]
    },
    {
     "name": "stderr",
     "output_type": "stream",
     "text": [
      "100%|████████████████████████████████████████████████████████████████████████████████| 108/108 [00:01<00:00, 88.40it/s]\n"
     ]
    },
    {
     "name": "stdout",
     "output_type": "stream",
     "text": [
      "Extracting ../Mesures/train\\twitch20230110_110215.csv.... 23/39\n"
     ]
    },
    {
     "name": "stderr",
     "output_type": "stream",
     "text": [
      "100%|█████████████████████████████████████████████████████████████████████████████████| 22/22 [00:00<00:00, 122.78it/s]\n"
     ]
    },
    {
     "name": "stdout",
     "output_type": "stream",
     "text": [
      "Extracting ../Mesures/train\\twitch20230110_120513.csv.... 24/39\n"
     ]
    },
    {
     "name": "stderr",
     "output_type": "stream",
     "text": [
      "100%|█████████████████████████████████████████████████████████████████████████████████| 59/59 [00:00<00:00, 345.88it/s]\n"
     ]
    },
    {
     "name": "stdout",
     "output_type": "stream",
     "text": [
      "Extracting ../Mesures/train\\twitch20230110_130648.csv.... 25/39\n"
     ]
    },
    {
     "name": "stderr",
     "output_type": "stream",
     "text": [
      "100%|███████████████████████████████████████████████████████████████████████████████| 426/426 [00:00<00:00, 849.28it/s]\n"
     ]
    },
    {
     "name": "stdout",
     "output_type": "stream",
     "text": [
      "Extracting ../Mesures/train\\youtube20221108_165214.csv.... 26/39\n"
     ]
    },
    {
     "name": "stderr",
     "output_type": "stream",
     "text": [
      "100%|█████████████████████████████████████████████████████████████████████████████████| 11/11 [00:00<00:00, 517.17it/s]\n"
     ]
    },
    {
     "name": "stdout",
     "output_type": "stream",
     "text": [
      "Extracting ../Mesures/train\\youtube20221108_182416.csv.... 27/39\n"
     ]
    },
    {
     "name": "stderr",
     "output_type": "stream",
     "text": [
      "100%|███████████████████████████████████████████████████████████████████████████████████| 4/4 [00:00<00:00, 308.51it/s]\n"
     ]
    },
    {
     "name": "stdout",
     "output_type": "stream",
     "text": [
      "Extracting ../Mesures/train\\youtube20221124_125524.csv.... 28/39\n"
     ]
    },
    {
     "name": "stderr",
     "output_type": "stream",
     "text": [
      "100%|██████████████████████████████████████████████████████████████████████████████| 186/186 [00:00<00:00, 1018.19it/s]\n"
     ]
    },
    {
     "name": "stdout",
     "output_type": "stream",
     "text": [
      "Extracting ../Mesures/train\\youtube20221124_154037.csv.... 29/39\n"
     ]
    },
    {
     "name": "stderr",
     "output_type": "stream",
     "text": [
      "100%|█████████████████████████████████████████████████████████████████████████████████| 92/92 [00:00<00:00, 719.67it/s]\n"
     ]
    },
    {
     "name": "stdout",
     "output_type": "stream",
     "text": [
      "Extracting ../Mesures/train\\youtube20221130_103723.csv.... 30/39\n"
     ]
    },
    {
     "name": "stderr",
     "output_type": "stream",
     "text": [
      "100%|████████████████████████████████████████████████████████████████████████████████| 91/91 [00:00<00:00, 1216.06it/s]\n"
     ]
    },
    {
     "name": "stdout",
     "output_type": "stream",
     "text": [
      "Extracting ../Mesures/train\\youtube20230110_145404.csv.... 31/39\n"
     ]
    },
    {
     "name": "stderr",
     "output_type": "stream",
     "text": [
      "100%|█████████████████████████████████████████████████████████████████████████████████| 94/94 [00:00<00:00, 631.50it/s]\n"
     ]
    },
    {
     "name": "stdout",
     "output_type": "stream",
     "text": [
      "Extracting ../Mesures/train\\youtube20230110_161955.csv.... 32/39\n"
     ]
    },
    {
     "name": "stderr",
     "output_type": "stream",
     "text": [
      "100%|████████████████████████████████████████████████████████████████████████████████| 90/90 [00:00<00:00, 1223.19it/s]\n"
     ]
    },
    {
     "name": "stdout",
     "output_type": "stream",
     "text": [
      "Extracting ../Mesures/train\\youtube20230112_125508.csv.... 33/39\n"
     ]
    },
    {
     "name": "stderr",
     "output_type": "stream",
     "text": [
      "100%|███████████████████████████████████████████████████████████████████████████████| 108/108 [00:00<00:00, 654.50it/s]\n"
     ]
    },
    {
     "name": "stdout",
     "output_type": "stream",
     "text": [
      "Extracting ../Mesures/train\\youtube20230112_151029.csv.... 34/39\n"
     ]
    },
    {
     "name": "stderr",
     "output_type": "stream",
     "text": [
      "100%|█████████████████████████████████████████████████████████████████████████████████| 29/29 [00:00<00:00, 855.19it/s]\n"
     ]
    },
    {
     "name": "stdout",
     "output_type": "stream",
     "text": [
      "Extracting ../Mesures/train\\youtube20230112_154749.csv.... 35/39\n"
     ]
    },
    {
     "name": "stderr",
     "output_type": "stream",
     "text": [
      "100%|█████████████████████████████████████████████████████████████████████████████████| 32/32 [00:00<00:00, 630.17it/s]\n"
     ]
    },
    {
     "name": "stdout",
     "output_type": "stream",
     "text": [
      "Extracting ../Mesures/train\\youtube20230112_163634.csv.... 36/39\n"
     ]
    },
    {
     "name": "stderr",
     "output_type": "stream",
     "text": [
      "100%|█████████████████████████████████████████████████████████████████████████████████| 65/65 [00:00<00:00, 930.94it/s]\n"
     ]
    },
    {
     "name": "stdout",
     "output_type": "stream",
     "text": [
      "Extracting ../Mesures/train\\youtube20230117_095221.csv.... 37/39\n"
     ]
    },
    {
     "name": "stderr",
     "output_type": "stream",
     "text": [
      "100%|███████████████████████████████████████████████████████████████████████████████| 140/140 [00:00<00:00, 352.49it/s]\n"
     ]
    },
    {
     "name": "stdout",
     "output_type": "stream",
     "text": [
      "Extracting ../Mesures/train\\youtube20230118_134041.csv.... 38/39\n"
     ]
    },
    {
     "name": "stderr",
     "output_type": "stream",
     "text": [
      "100%|███████████████████████████████████████████████████████████████████████████████| 212/212 [00:00<00:00, 261.48it/s]\n"
     ]
    },
    {
     "name": "stdout",
     "output_type": "stream",
     "text": [
      "Extracting ../Mesures/train\\youtube20230124_124323.csv.... 39/39\n"
     ]
    },
    {
     "name": "stderr",
     "output_type": "stream",
     "text": [
      "100%|███████████████████████████████████████████████████████████████████████████████| 163/163 [00:00<00:00, 291.45it/s]\n",
      "100%|███████████████████████████████████████████████████████████████████████████| 5593/5593 [00:00<00:00, 48025.53it/s]\n"
     ]
    },
    {
     "name": "stdout",
     "output_type": "stream",
     "text": [
      "Dataset generation took : 232.5620278 s\n"
     ]
    }
   ],
   "source": [
    "time_counter = time.time_ns()\n",
    "\n",
    "df_test = load_and_preprocess_raw_data(\"../Mesures/test\", window_size = WINDOW_SIZE)\n",
    "df_train = load_and_preprocess_raw_data(\"../Mesures/train\", window_size = WINDOW_SIZE)\n",
    "\n",
    "process_duration = (time.time_ns() - time_counter)/(10**9)\n",
    "print(f\"Dataset generation took : {process_duration} s\")"
   ]
  },
  {
   "cell_type": "code",
   "execution_count": null,
   "id": "8e5df180",
   "metadata": {},
   "outputs": [],
   "source": []
  },
  {
   "cell_type": "code",
   "execution_count": 8,
   "id": "cd03094d",
   "metadata": {},
   "outputs": [
    {
     "data": {
      "text/html": [
       "<div>\n",
       "<style scoped>\n",
       "    .dataframe tbody tr th:only-of-type {\n",
       "        vertical-align: middle;\n",
       "    }\n",
       "\n",
       "    .dataframe tbody tr th {\n",
       "        vertical-align: top;\n",
       "    }\n",
       "\n",
       "    .dataframe thead th {\n",
       "        text-align: right;\n",
       "    }\n",
       "</style>\n",
       "<table border=\"1\" class=\"dataframe\">\n",
       "  <thead>\n",
       "    <tr style=\"text-align: right;\">\n",
       "      <th></th>\n",
       "      <th>0</th>\n",
       "      <th>1</th>\n",
       "      <th>2</th>\n",
       "      <th>3</th>\n",
       "      <th>4</th>\n",
       "      <th>5</th>\n",
       "      <th>6</th>\n",
       "      <th>7</th>\n",
       "      <th>8</th>\n",
       "      <th>9</th>\n",
       "      <th>...</th>\n",
       "      <th>491</th>\n",
       "      <th>492</th>\n",
       "      <th>493</th>\n",
       "      <th>494</th>\n",
       "      <th>495</th>\n",
       "      <th>496</th>\n",
       "      <th>497</th>\n",
       "      <th>498</th>\n",
       "      <th>499</th>\n",
       "      <th>label</th>\n",
       "    </tr>\n",
       "    <tr>\n",
       "      <th>id</th>\n",
       "      <th></th>\n",
       "      <th></th>\n",
       "      <th></th>\n",
       "      <th></th>\n",
       "      <th></th>\n",
       "      <th></th>\n",
       "      <th></th>\n",
       "      <th></th>\n",
       "      <th></th>\n",
       "      <th></th>\n",
       "      <th></th>\n",
       "      <th></th>\n",
       "      <th></th>\n",
       "      <th></th>\n",
       "      <th></th>\n",
       "      <th></th>\n",
       "      <th></th>\n",
       "      <th></th>\n",
       "      <th></th>\n",
       "      <th></th>\n",
       "      <th></th>\n",
       "    </tr>\n",
       "  </thead>\n",
       "  <tbody>\n",
       "    <tr>\n",
       "      <th>20221117_125310_4</th>\n",
       "      <td>0.521219</td>\n",
       "      <td>-0.054995</td>\n",
       "      <td>-0.119632</td>\n",
       "      <td>-0.052015</td>\n",
       "      <td>-0.061318</td>\n",
       "      <td>-0.065262</td>\n",
       "      <td>-0.213283</td>\n",
       "      <td>-0.177609</td>\n",
       "      <td>-0.252220</td>\n",
       "      <td>-0.420587</td>\n",
       "      <td>...</td>\n",
       "      <td>-0.068921</td>\n",
       "      <td>-0.085961</td>\n",
       "      <td>-0.100195</td>\n",
       "      <td>-0.077017</td>\n",
       "      <td>-0.104888</td>\n",
       "      <td>-0.104117</td>\n",
       "      <td>-0.092133</td>\n",
       "      <td>-0.069486</td>\n",
       "      <td>-0.0937</td>\n",
       "      <td>messenger</td>\n",
       "    </tr>\n",
       "    <tr>\n",
       "      <th>20221117_125310_8</th>\n",
       "      <td>-0.185148</td>\n",
       "      <td>-0.076938</td>\n",
       "      <td>0.023182</td>\n",
       "      <td>0.034436</td>\n",
       "      <td>0.087401</td>\n",
       "      <td>0.062045</td>\n",
       "      <td>-0.104631</td>\n",
       "      <td>0.294986</td>\n",
       "      <td>-0.096578</td>\n",
       "      <td>-0.323980</td>\n",
       "      <td>...</td>\n",
       "      <td>-0.068921</td>\n",
       "      <td>-0.085961</td>\n",
       "      <td>-0.100195</td>\n",
       "      <td>-0.077017</td>\n",
       "      <td>-0.104888</td>\n",
       "      <td>-0.104117</td>\n",
       "      <td>-0.092133</td>\n",
       "      <td>-0.069486</td>\n",
       "      <td>-0.0937</td>\n",
       "      <td>messenger</td>\n",
       "    </tr>\n",
       "    <tr>\n",
       "      <th>20221117_125310_7</th>\n",
       "      <td>-0.298167</td>\n",
       "      <td>-0.054995</td>\n",
       "      <td>0.023182</td>\n",
       "      <td>0.034436</td>\n",
       "      <td>0.087401</td>\n",
       "      <td>0.062045</td>\n",
       "      <td>-0.104631</td>\n",
       "      <td>-0.042991</td>\n",
       "      <td>-0.141047</td>\n",
       "      <td>-0.323980</td>\n",
       "      <td>...</td>\n",
       "      <td>-0.068921</td>\n",
       "      <td>-0.085961</td>\n",
       "      <td>-0.100195</td>\n",
       "      <td>-0.077017</td>\n",
       "      <td>-0.104888</td>\n",
       "      <td>-0.104117</td>\n",
       "      <td>-0.092133</td>\n",
       "      <td>-0.069486</td>\n",
       "      <td>-0.0937</td>\n",
       "      <td>messenger</td>\n",
       "    </tr>\n",
       "    <tr>\n",
       "      <th>20221117_125310_9</th>\n",
       "      <td>-0.185148</td>\n",
       "      <td>-0.076938</td>\n",
       "      <td>0.023182</td>\n",
       "      <td>0.250565</td>\n",
       "      <td>0.087401</td>\n",
       "      <td>0.062045</td>\n",
       "      <td>-0.104631</td>\n",
       "      <td>-0.042991</td>\n",
       "      <td>-0.148459</td>\n",
       "      <td>-0.323980</td>\n",
       "      <td>...</td>\n",
       "      <td>-0.068921</td>\n",
       "      <td>-0.085961</td>\n",
       "      <td>-0.100195</td>\n",
       "      <td>-0.077017</td>\n",
       "      <td>-0.104888</td>\n",
       "      <td>-0.104117</td>\n",
       "      <td>-0.092133</td>\n",
       "      <td>-0.069486</td>\n",
       "      <td>-0.0937</td>\n",
       "      <td>messenger</td>\n",
       "    </tr>\n",
       "    <tr>\n",
       "      <th>20221117_125310_10</th>\n",
       "      <td>-0.072130</td>\n",
       "      <td>0.241233</td>\n",
       "      <td>0.023182</td>\n",
       "      <td>0.034436</td>\n",
       "      <td>0.087401</td>\n",
       "      <td>0.062045</td>\n",
       "      <td>-0.104631</td>\n",
       "      <td>-0.226301</td>\n",
       "      <td>-0.148459</td>\n",
       "      <td>-0.323980</td>\n",
       "      <td>...</td>\n",
       "      <td>-0.068921</td>\n",
       "      <td>-0.085961</td>\n",
       "      <td>-0.100195</td>\n",
       "      <td>-0.077017</td>\n",
       "      <td>-0.104888</td>\n",
       "      <td>-0.104117</td>\n",
       "      <td>-0.092133</td>\n",
       "      <td>-0.069486</td>\n",
       "      <td>-0.0937</td>\n",
       "      <td>messenger</td>\n",
       "    </tr>\n",
       "    <tr>\n",
       "      <th>...</th>\n",
       "      <td>...</td>\n",
       "      <td>...</td>\n",
       "      <td>...</td>\n",
       "      <td>...</td>\n",
       "      <td>...</td>\n",
       "      <td>...</td>\n",
       "      <td>...</td>\n",
       "      <td>...</td>\n",
       "      <td>...</td>\n",
       "      <td>...</td>\n",
       "      <td>...</td>\n",
       "      <td>...</td>\n",
       "      <td>...</td>\n",
       "      <td>...</td>\n",
       "      <td>...</td>\n",
       "      <td>...</td>\n",
       "      <td>...</td>\n",
       "      <td>...</td>\n",
       "      <td>...</td>\n",
       "      <td>...</td>\n",
       "      <td>...</td>\n",
       "    </tr>\n",
       "    <tr>\n",
       "      <th>20230124_124323_162</th>\n",
       "      <td>-0.185148</td>\n",
       "      <td>-0.076938</td>\n",
       "      <td>-0.098362</td>\n",
       "      <td>-0.175518</td>\n",
       "      <td>-0.140424</td>\n",
       "      <td>-0.132979</td>\n",
       "      <td>-0.236566</td>\n",
       "      <td>-0.177609</td>\n",
       "      <td>-0.141047</td>\n",
       "      <td>-0.420587</td>\n",
       "      <td>...</td>\n",
       "      <td>-0.068921</td>\n",
       "      <td>-0.085961</td>\n",
       "      <td>-0.100195</td>\n",
       "      <td>-0.077017</td>\n",
       "      <td>-0.104888</td>\n",
       "      <td>-0.104117</td>\n",
       "      <td>-0.092133</td>\n",
       "      <td>-0.069486</td>\n",
       "      <td>-0.0937</td>\n",
       "      <td>youtube</td>\n",
       "    </tr>\n",
       "    <tr>\n",
       "      <th>20230124_124323_163</th>\n",
       "      <td>-0.072130</td>\n",
       "      <td>-0.076938</td>\n",
       "      <td>-0.098362</td>\n",
       "      <td>-0.089066</td>\n",
       "      <td>-0.140424</td>\n",
       "      <td>-0.132979</td>\n",
       "      <td>-0.205522</td>\n",
       "      <td>-0.177609</td>\n",
       "      <td>-0.141047</td>\n",
       "      <td>-0.420587</td>\n",
       "      <td>...</td>\n",
       "      <td>-0.068921</td>\n",
       "      <td>-0.085961</td>\n",
       "      <td>-0.100195</td>\n",
       "      <td>-0.077017</td>\n",
       "      <td>-0.104888</td>\n",
       "      <td>-0.104117</td>\n",
       "      <td>-0.092133</td>\n",
       "      <td>-0.069486</td>\n",
       "      <td>-0.0937</td>\n",
       "      <td>youtube</td>\n",
       "    </tr>\n",
       "    <tr>\n",
       "      <th>20230124_124323_164</th>\n",
       "      <td>-0.185148</td>\n",
       "      <td>-0.076938</td>\n",
       "      <td>-0.098362</td>\n",
       "      <td>-0.089066</td>\n",
       "      <td>-0.140424</td>\n",
       "      <td>-0.132979</td>\n",
       "      <td>-0.236566</td>\n",
       "      <td>-0.177609</td>\n",
       "      <td>-0.096578</td>\n",
       "      <td>-0.420587</td>\n",
       "      <td>...</td>\n",
       "      <td>-0.068921</td>\n",
       "      <td>-0.085961</td>\n",
       "      <td>-0.100195</td>\n",
       "      <td>-0.077017</td>\n",
       "      <td>-0.104888</td>\n",
       "      <td>-0.104117</td>\n",
       "      <td>-0.092133</td>\n",
       "      <td>-0.069486</td>\n",
       "      <td>-0.0937</td>\n",
       "      <td>youtube</td>\n",
       "    </tr>\n",
       "    <tr>\n",
       "      <th>20230124_124323_165</th>\n",
       "      <td>-0.185148</td>\n",
       "      <td>-0.076938</td>\n",
       "      <td>-0.098362</td>\n",
       "      <td>-0.089066</td>\n",
       "      <td>-0.140424</td>\n",
       "      <td>-0.132979</td>\n",
       "      <td>-0.213283</td>\n",
       "      <td>-0.177609</td>\n",
       "      <td>-0.155870</td>\n",
       "      <td>-0.432919</td>\n",
       "      <td>...</td>\n",
       "      <td>-0.068921</td>\n",
       "      <td>-0.085961</td>\n",
       "      <td>-0.100195</td>\n",
       "      <td>-0.077017</td>\n",
       "      <td>-0.104888</td>\n",
       "      <td>-0.104117</td>\n",
       "      <td>-0.092133</td>\n",
       "      <td>-0.069486</td>\n",
       "      <td>-0.0937</td>\n",
       "      <td>youtube</td>\n",
       "    </tr>\n",
       "    <tr>\n",
       "      <th>20230124_124323_166</th>\n",
       "      <td>-0.185148</td>\n",
       "      <td>-0.076938</td>\n",
       "      <td>-0.183442</td>\n",
       "      <td>-0.089066</td>\n",
       "      <td>-0.140424</td>\n",
       "      <td>-0.132979</td>\n",
       "      <td>-0.205522</td>\n",
       "      <td>-0.177609</td>\n",
       "      <td>-0.096578</td>\n",
       "      <td>-0.420587</td>\n",
       "      <td>...</td>\n",
       "      <td>-0.068921</td>\n",
       "      <td>-0.085961</td>\n",
       "      <td>-0.100195</td>\n",
       "      <td>-0.077017</td>\n",
       "      <td>-0.104888</td>\n",
       "      <td>-0.104117</td>\n",
       "      <td>-0.092133</td>\n",
       "      <td>-0.069486</td>\n",
       "      <td>-0.0937</td>\n",
       "      <td>youtube</td>\n",
       "    </tr>\n",
       "  </tbody>\n",
       "</table>\n",
       "<p>1429 rows × 501 columns</p>\n",
       "</div>"
      ],
      "text/plain": [
       "                            0         1         2         3         4  \\\n",
       "id                                                                      \n",
       "20221117_125310_4    0.521219 -0.054995 -0.119632 -0.052015 -0.061318   \n",
       "20221117_125310_8   -0.185148 -0.076938  0.023182  0.034436  0.087401   \n",
       "20221117_125310_7   -0.298167 -0.054995  0.023182  0.034436  0.087401   \n",
       "20221117_125310_9   -0.185148 -0.076938  0.023182  0.250565  0.087401   \n",
       "20221117_125310_10  -0.072130  0.241233  0.023182  0.034436  0.087401   \n",
       "...                       ...       ...       ...       ...       ...   \n",
       "20230124_124323_162 -0.185148 -0.076938 -0.098362 -0.175518 -0.140424   \n",
       "20230124_124323_163 -0.072130 -0.076938 -0.098362 -0.089066 -0.140424   \n",
       "20230124_124323_164 -0.185148 -0.076938 -0.098362 -0.089066 -0.140424   \n",
       "20230124_124323_165 -0.185148 -0.076938 -0.098362 -0.089066 -0.140424   \n",
       "20230124_124323_166 -0.185148 -0.076938 -0.183442 -0.089066 -0.140424   \n",
       "\n",
       "                            5         6         7         8         9  ...  \\\n",
       "id                                                                     ...   \n",
       "20221117_125310_4   -0.065262 -0.213283 -0.177609 -0.252220 -0.420587  ...   \n",
       "20221117_125310_8    0.062045 -0.104631  0.294986 -0.096578 -0.323980  ...   \n",
       "20221117_125310_7    0.062045 -0.104631 -0.042991 -0.141047 -0.323980  ...   \n",
       "20221117_125310_9    0.062045 -0.104631 -0.042991 -0.148459 -0.323980  ...   \n",
       "20221117_125310_10   0.062045 -0.104631 -0.226301 -0.148459 -0.323980  ...   \n",
       "...                       ...       ...       ...       ...       ...  ...   \n",
       "20230124_124323_162 -0.132979 -0.236566 -0.177609 -0.141047 -0.420587  ...   \n",
       "20230124_124323_163 -0.132979 -0.205522 -0.177609 -0.141047 -0.420587  ...   \n",
       "20230124_124323_164 -0.132979 -0.236566 -0.177609 -0.096578 -0.420587  ...   \n",
       "20230124_124323_165 -0.132979 -0.213283 -0.177609 -0.155870 -0.432919  ...   \n",
       "20230124_124323_166 -0.132979 -0.205522 -0.177609 -0.096578 -0.420587  ...   \n",
       "\n",
       "                          491       492       493       494       495  \\\n",
       "id                                                                      \n",
       "20221117_125310_4   -0.068921 -0.085961 -0.100195 -0.077017 -0.104888   \n",
       "20221117_125310_8   -0.068921 -0.085961 -0.100195 -0.077017 -0.104888   \n",
       "20221117_125310_7   -0.068921 -0.085961 -0.100195 -0.077017 -0.104888   \n",
       "20221117_125310_9   -0.068921 -0.085961 -0.100195 -0.077017 -0.104888   \n",
       "20221117_125310_10  -0.068921 -0.085961 -0.100195 -0.077017 -0.104888   \n",
       "...                       ...       ...       ...       ...       ...   \n",
       "20230124_124323_162 -0.068921 -0.085961 -0.100195 -0.077017 -0.104888   \n",
       "20230124_124323_163 -0.068921 -0.085961 -0.100195 -0.077017 -0.104888   \n",
       "20230124_124323_164 -0.068921 -0.085961 -0.100195 -0.077017 -0.104888   \n",
       "20230124_124323_165 -0.068921 -0.085961 -0.100195 -0.077017 -0.104888   \n",
       "20230124_124323_166 -0.068921 -0.085961 -0.100195 -0.077017 -0.104888   \n",
       "\n",
       "                          496       497       498     499      label  \n",
       "id                                                                    \n",
       "20221117_125310_4   -0.104117 -0.092133 -0.069486 -0.0937  messenger  \n",
       "20221117_125310_8   -0.104117 -0.092133 -0.069486 -0.0937  messenger  \n",
       "20221117_125310_7   -0.104117 -0.092133 -0.069486 -0.0937  messenger  \n",
       "20221117_125310_9   -0.104117 -0.092133 -0.069486 -0.0937  messenger  \n",
       "20221117_125310_10  -0.104117 -0.092133 -0.069486 -0.0937  messenger  \n",
       "...                       ...       ...       ...     ...        ...  \n",
       "20230124_124323_162 -0.104117 -0.092133 -0.069486 -0.0937    youtube  \n",
       "20230124_124323_163 -0.104117 -0.092133 -0.069486 -0.0937    youtube  \n",
       "20230124_124323_164 -0.104117 -0.092133 -0.069486 -0.0937    youtube  \n",
       "20230124_124323_165 -0.104117 -0.092133 -0.069486 -0.0937    youtube  \n",
       "20230124_124323_166 -0.104117 -0.092133 -0.069486 -0.0937    youtube  \n",
       "\n",
       "[1429 rows x 501 columns]"
      ]
     },
     "execution_count": 8,
     "metadata": {},
     "output_type": "execute_result"
    }
   ],
   "source": [
    "scaler = Scaler_Metrics()\n",
    "training_data = scaler.fit_transform(df_train)\n",
    "testing_data = scaler.transform(df_test)\n",
    "training_data"
   ]
  },
  {
   "cell_type": "code",
   "execution_count": 9,
   "id": "e73db52a",
   "metadata": {},
   "outputs": [],
   "source": [
    "training_data = training_data[training_data .label!=\"noise\"]\n",
    "testing_data = testing_data[testing_data .label!=\"noise\"]"
   ]
  },
  {
   "cell_type": "code",
   "execution_count": null,
   "id": "118ea53f",
   "metadata": {},
   "outputs": [],
   "source": []
  },
  {
   "cell_type": "code",
   "execution_count": 10,
   "id": "3b0c06bd",
   "metadata": {},
   "outputs": [
    {
     "name": "stdout",
     "output_type": "stream",
     "text": [
      "Training Duration : 1.4988842 s for a dataset length of 1284\n"
     ]
    }
   ],
   "source": [
    "time_counter = time.time_ns()\n",
    "\n",
    "model = RandomForestClassifier(class_weight = \"balanced\")\n",
    "model.fit(training_data[training_data.columns[:-1]], training_data.label)\n",
    "\n",
    "training_duration = (time.time_ns() - time_counter)/(10**9)\n",
    "print(f\"Training Duration : {training_duration} s for a dataset length of {len(training_data.label)}\")"
   ]
  },
  {
   "cell_type": "code",
   "execution_count": 11,
   "id": "6c2b45c1",
   "metadata": {},
   "outputs": [
    {
     "name": "stdout",
     "output_type": "stream",
     "text": [
      "Testing Duration : 0.1109108 s for a dataset length of 452\n",
      "Testing Duration per data : 0.24537787610619471 ms\n"
     ]
    }
   ],
   "source": [
    "# mesure efficiency\n",
    "time_counter = time.time_ns()\n",
    "\n",
    "preds_labels =  model.predict(testing_data[testing_data.columns[:-1]])\n",
    "true_labels = testing_data.label\n",
    "\n",
    "testing_duration = (time.time_ns() - time_counter)/(10**9)\n",
    "print(f\"Testing Duration : {testing_duration} s for a dataset length of {len(testing_data.label)}\")\n",
    "testing_duration_per_item = testing_duration*(10**3)/len(testing_data.label)\n",
    "print(f\"Testing Duration per data : {testing_duration_per_item} ms\")"
   ]
  },
  {
   "cell_type": "code",
   "execution_count": 12,
   "id": "e75fb978",
   "metadata": {},
   "outputs": [
    {
     "name": "stdout",
     "output_type": "stream",
     "text": [
      "normalized confusion matrix\n"
     ]
    },
    {
     "data": {
      "image/png": "[encoded data removed]",
      "text/plain": [
       "<Figure size 600x600 with 2 Axes>"
      ]
     },
     "metadata": {},
     "output_type": "display_data"
    }
   ],
   "source": [
    "plot_confusion_matrix(true_labels,preds_labels)"
   ]
  },
  {
   "cell_type": "code",
   "execution_count": 13,
   "id": "a1ebe613",
   "metadata": {},
   "outputs": [
    {
     "data": {
      "text/plain": [
       "{'Accuracy': 0.3230737662870627,\n",
       " 'Precision': 0.8506441788300195,\n",
       " 'Recall': 0.838495575221239,\n",
       " 'F1_Score': 0.8246317940374799,\n",
       " 'support': None}"
      ]
     },
     "execution_count": 13,
     "metadata": {},
     "output_type": "execute_result"
    }
   ],
   "source": [
    "get_scores(true_labels,preds_labels)"
   ]
  },
  {
   "cell_type": "code",
   "execution_count": null,
   "id": "e14f6b32",
   "metadata": {},
   "outputs": [],
   "source": []
  },
  {
   "cell_type": "code",
   "execution_count": 14,
   "id": "a6f2b4ab",
   "metadata": {},
   "outputs": [
    {
     "data": {
      "image/png": "[encoded data removed]",
      "text/plain": [
       "<Figure size 900x600 with 1 Axes>"
      ]
     },
     "metadata": {},
     "output_type": "display_data"
    }
   ],
   "source": [
    "\n",
    "    \n",
    "plot_feature_importance(model, training_data.columns[:-1])"
   ]
  },
  {
   "cell_type": "code",
   "execution_count": null,
   "id": "a1848d66",
   "metadata": {},
   "outputs": [],
   "source": []
  },
  {
   "cell_type": "code",
   "execution_count": null,
   "id": "3c28c63b",
   "metadata": {},
   "outputs": [],
   "source": []
  },
  {
   "cell_type": "code",
   "execution_count": null,
   "id": "b21fb5b2",
   "metadata": {},
   "outputs": [],
   "source": []
  }
 ],
 "metadata": {
  "kernelspec": {
   "display_name": "Python 3 (ipykernel)",
   "language": "python",
   "name": "python3"
  },
  "language_info": {
   "codemirror_mode": {
    "name": "ipython",
    "version": 3
   },
   "file_extension": ".py",
   "mimetype": "text/x-python",
   "name": "python",
   "nbconvert_exporter": "python",
   "pygments_lexer": "ipython3",
   "version": "3.9.15"
  }
 },
 "nbformat": 4,
 "nbformat_minor": 5
}
