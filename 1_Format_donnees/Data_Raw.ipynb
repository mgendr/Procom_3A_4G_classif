{
 "cells": [
  {
   "cell_type": "code",
   "execution_count": 1,
   "id": "64d67bad",
   "metadata": {},
   "outputs": [],
   "source": [
    "import os\n",
    "import pandas as pd\n",
    "import warnings\n",
    "import matplotlib.pyplot as plt\n",
    "\n",
    "import numpy as np\n",
    "import seaborn as sns\n",
    "import sys\n",
    "\n",
    "from sklearn.ensemble import RandomForestClassifier\n",
    "from tqdm import tqdm\n",
    "import time\n",
    "\n",
    "\n",
    "plt.rcParams[\"figure.figsize\"] = (9, 6)\n",
    "warnings.simplefilter(\"ignore\")\n",
    "\n",
    "sys.path.append(\"../1_Format_donnees/\")\n",
    "from aggregation import load_and_preprocess_raw_data, Scaler_Metrics\n",
    "sys.path.append(\"../\")\n",
    "\n",
    "from evaluate import plot_confusion_matrix, get_scores, plot_feature_importance\n",
    "\n",
    "### <8 mbits en cumsum = bruit "
   ]
  },
  {
   "cell_type": "code",
   "execution_count": 2,
   "id": "5ead135b",
   "metadata": {},
   "outputs": [],
   "source": [
    "WINDOW_SIZE = 250\n"
   ]
  },
  {
   "cell_type": "code",
   "execution_count": 3,
   "id": "ea796f28",
   "metadata": {
    "scrolled": true
   },
   "outputs": [
    {
     "name": "stdout",
     "output_type": "stream",
     "text": [
      "Load datasets...\n",
      "Extracting ../Mesures/test\\messenger20221124_151137.csv.... 1/7\n"
     ]
    },
    {
     "name": "stderr",
     "output_type": "stream",
     "text": [
      "100%|████████████████████████████████████████████████████████████████████████████████████| 5/5 [00:00<00:00, 18.58it/s]\n"
     ]
    },
    {
     "name": "stdout",
     "output_type": "stream",
     "text": [
      "Extracting ../Mesures/test\\messenger20230208_132747.csv.... 2/7\n"
     ]
    },
    {
     "name": "stderr",
     "output_type": "stream",
     "text": [
      "100%|██████████████████████████████████████████████████████████████████████████████████| 27/27 [00:04<00:00,  6.50it/s]\n"
     ]
    },
    {
     "name": "stdout",
     "output_type": "stream",
     "text": [
      "Extracting ../Mesures/test\\skype20221206_150902.csv.... 3/7\n"
     ]
    },
    {
     "name": "stderr",
     "output_type": "stream",
     "text": [
      "100%|████████████████████████████████████████████████████████████████████████████████████| 3/3 [00:01<00:00,  2.78it/s]\n"
     ]
    },
    {
     "name": "stdout",
     "output_type": "stream",
     "text": [
      "Extracting ../Mesures/test\\spotify20230127_134348.csv.... 4/7\n"
     ]
    },
    {
     "name": "stderr",
     "output_type": "stream",
     "text": [
      "100%|███████████████████████████████████████████████████████████████████████████████| 240/240 [00:00<00:00, 875.66it/s]\n"
     ]
    },
    {
     "name": "stdout",
     "output_type": "stream",
     "text": [
      "Extracting ../Mesures/test\\twitch20221124_163054.csv.... 5/7\n"
     ]
    },
    {
     "name": "stderr",
     "output_type": "stream",
     "text": [
      "100%|██████████████████████████████████████████████████████████████████████████████████| 12/12 [00:00<00:00, 19.35it/s]\n"
     ]
    },
    {
     "name": "stdout",
     "output_type": "stream",
     "text": [
      "Extracting ../Mesures/test\\youtube20221118_104205.csv.... 6/7\n"
     ]
    },
    {
     "name": "stderr",
     "output_type": "stream",
     "text": [
      "100%|███████████████████████████████████████████████████████████████████████████████| 218/218 [00:00<00:00, 827.38it/s]\n"
     ]
    },
    {
     "name": "stdout",
     "output_type": "stream",
     "text": [
      "Extracting ../Mesures/test\\youtube20230117_121925.csv.... 7/7\n"
     ]
    },
    {
     "name": "stderr",
     "output_type": "stream",
     "text": [
      "100%|███████████████████████████████████████████████████████████████████████████████| 260/260 [00:00<00:00, 523.12it/s]\n",
      "100%|█████████████████████████████████████████████████████████████████████████████| 765/765 [00:00<00:00, 52469.95it/s]\n"
     ]
    },
    {
     "name": "stdout",
     "output_type": "stream",
     "text": [
      "Load datasets...\n",
      "Extracting ../Mesures/train\\messenger20221117_125310.csv.... 1/39\n"
     ]
    },
    {
     "name": "stderr",
     "output_type": "stream",
     "text": [
      "100%|█████████████████████████████████████████████████████████████████████████████████| 15/15 [00:00<00:00, 121.37it/s]\n"
     ]
    },
    {
     "name": "stdout",
     "output_type": "stream",
     "text": [
      "Extracting ../Mesures/train\\messenger20221124_143112.csv.... 2/39\n"
     ]
    },
    {
     "name": "stderr",
     "output_type": "stream",
     "text": [
      "100%|██████████████████████████████████████████████████████████████████████████████████| 11/11 [00:00<00:00, 39.66it/s]\n"
     ]
    },
    {
     "name": "stdout",
     "output_type": "stream",
     "text": [
      "Extracting ../Mesures/train\\messenger20221125_130559.csv.... 3/39\n"
     ]
    },
    {
     "name": "stderr",
     "output_type": "stream",
     "text": [
      "100%|██████████████████████████████████████████████████████████████████████████████████| 38/38 [00:00<00:00, 97.29it/s]\n"
     ]
    },
    {
     "name": "stdout",
     "output_type": "stream",
     "text": [
      "Extracting ../Mesures/train\\messenger20221129_131204.csv.... 4/39\n"
     ]
    },
    {
     "name": "stderr",
     "output_type": "stream",
     "text": [
      "100%|██████████████████████████████████████████████████████████████████████████████████| 14/14 [00:01<00:00, 11.60it/s]\n"
     ]
    },
    {
     "name": "stdout",
     "output_type": "stream",
     "text": [
      "Extracting ../Mesures/train\\messenger20221129_151124.csv.... 5/39\n"
     ]
    },
    {
     "name": "stderr",
     "output_type": "stream",
     "text": [
      "100%|████████████████████████████████████████████████████████████████████████████████████| 5/5 [00:00<00:00,  6.29it/s]\n"
     ]
    },
    {
     "name": "stdout",
     "output_type": "stream",
     "text": [
      "Extracting ../Mesures/train\\messenger20230207_133921.csv.... 6/39\n"
     ]
    },
    {
     "name": "stderr",
     "output_type": "stream",
     "text": [
      "100%|████████████████████████████████████████████████████████████████████████████████████| 2/2 [00:00<00:00,  2.33it/s]\n"
     ]
    },
    {
     "name": "stdout",
     "output_type": "stream",
     "text": [
      "Extracting ../Mesures/train\\messenger20230209_083453.csv.... 7/39\n"
     ]
    },
    {
     "name": "stderr",
     "output_type": "stream",
     "text": [
      "100%|████████████████████████████████████████████████████████████████████████████████████| 5/5 [00:01<00:00,  4.20it/s]\n"
     ]
    },
    {
     "name": "stdout",
     "output_type": "stream",
     "text": [
      "Extracting ../Mesures/train\\pure_noise20230106_132210.csv.... 8/39\n"
     ]
    },
    {
     "name": "stderr",
     "output_type": "stream",
     "text": [
      "100%|███████████████████████████████████████████████████████████████████████████████| 805/805 [00:02<00:00, 379.53it/s]\n"
     ]
    },
    {
     "name": "stdout",
     "output_type": "stream",
     "text": [
      "Extracting ../Mesures/train\\skype20221129_164105.csv.... 9/39\n"
     ]
    },
    {
     "name": "stderr",
     "output_type": "stream",
     "text": [
      "100%|████████████████████████████████████████████████████████████████████████████████████| 5/5 [00:00<00:00, 12.18it/s]\n"
     ]
    },
    {
     "name": "stdout",
     "output_type": "stream",
     "text": [
      "Extracting ../Mesures/train\\skype20221206_125510.csv.... 10/39\n"
     ]
    },
    {
     "name": "stderr",
     "output_type": "stream",
     "text": [
      "100%|██████████████████████████████████████████████████████████████████████████████████| 19/19 [00:00<00:00, 33.09it/s]\n"
     ]
    },
    {
     "name": "stdout",
     "output_type": "stream",
     "text": [
      "Extracting ../Mesures/train\\skype20221208_104403.csv.... 11/39\n"
     ]
    },
    {
     "name": "stderr",
     "output_type": "stream",
     "text": [
      "100%|████████████████████████████████████████████████████████████████████████████████████| 7/7 [00:01<00:00,  3.52it/s]\n"
     ]
    },
    {
     "name": "stdout",
     "output_type": "stream",
     "text": [
      "Extracting ../Mesures/train\\skype20221208_124925.csv.... 12/39\n"
     ]
    },
    {
     "name": "stderr",
     "output_type": "stream",
     "text": [
      "100%|████████████████████████████████████████████████████████████████████████████████████| 6/6 [00:02<00:00,  2.41it/s]\n"
     ]
    },
    {
     "name": "stdout",
     "output_type": "stream",
     "text": [
      "Extracting ../Mesures/train\\skype20221215_151512.csv.... 13/39\n"
     ]
    },
    {
     "name": "stderr",
     "output_type": "stream",
     "text": [
      "100%|██████████████████████████████████████████████████████████████████████████████████| 23/23 [00:00<00:00, 41.67it/s]\n"
     ]
    },
    {
     "name": "stdout",
     "output_type": "stream",
     "text": [
      "Extracting ../Mesures/train\\skype20221215_155618.csv.... 14/39\n"
     ]
    },
    {
     "name": "stderr",
     "output_type": "stream",
     "text": [
      "100%|██████████████████████████████████████████████████████████████████████████████████| 19/19 [00:00<00:00, 24.49it/s]\n"
     ]
    },
    {
     "name": "stdout",
     "output_type": "stream",
     "text": [
      "Extracting ../Mesures/train\\skype20221215_164208.csv.... 15/39\n"
     ]
    },
    {
     "name": "stderr",
     "output_type": "stream",
     "text": [
      "100%|████████████████████████████████████████████████████████████████████████████████████| 5/5 [00:00<00:00,  5.64it/s]\n"
     ]
    },
    {
     "name": "stdout",
     "output_type": "stream",
     "text": [
      "Extracting ../Mesures/train\\skype20221215_174819.csv.... 16/39\n"
     ]
    },
    {
     "name": "stderr",
     "output_type": "stream",
     "text": [
      "100%|████████████████████████████████████████████████████████████████████████████████████| 6/6 [00:00<00:00,  9.21it/s]\n"
     ]
    },
    {
     "name": "stdout",
     "output_type": "stream",
     "text": [
      "Extracting ../Mesures/train\\spotify20230201_092702.csv.... 17/39\n"
     ]
    },
    {
     "name": "stderr",
     "output_type": "stream",
     "text": [
      "100%|█████████████████████████████████████████████████████████████████████████████| 1750/1750 [00:01<00:00, 885.81it/s]\n"
     ]
    },
    {
     "name": "stdout",
     "output_type": "stream",
     "text": [
      "Extracting ../Mesures/train\\spotify20230203_165507.csv.... 18/39\n"
     ]
    },
    {
     "name": "stderr",
     "output_type": "stream",
     "text": [
      "100%|███████████████████████████████████████████████████████████████████████████████| 522/522 [00:00<00:00, 975.48it/s]\n"
     ]
    },
    {
     "name": "stdout",
     "output_type": "stream",
     "text": [
      "Extracting ../Mesures/train\\spotify20230216_141318.csv.... 19/39\n"
     ]
    },
    {
     "name": "stderr",
     "output_type": "stream",
     "text": [
      "100%|███████████████████████████████████████████████████████████████████████████████| 364/364 [00:00<00:00, 998.19it/s]\n"
     ]
    },
    {
     "name": "stdout",
     "output_type": "stream",
     "text": [
      "Extracting ../Mesures/train\\twitch20221117_113554.csv.... 20/39\n"
     ]
    },
    {
     "name": "stderr",
     "output_type": "stream",
     "text": [
      "100%|██████████████████████████████████████████████████████████████████████████████████| 24/24 [00:00<00:00, 91.39it/s]\n"
     ]
    },
    {
     "name": "stdout",
     "output_type": "stream",
     "text": [
      "Extracting ../Mesures/train\\twitch20221118_075454.csv.... 21/39\n"
     ]
    },
    {
     "name": "stderr",
     "output_type": "stream",
     "text": [
      "100%|██████████████████████████████████████████████████████████████████████████████████| 16/16 [00:00<00:00, 51.37it/s]\n"
     ]
    },
    {
     "name": "stdout",
     "output_type": "stream",
     "text": [
      "Extracting ../Mesures/train\\twitch20221125_133859.csv.... 22/39\n"
     ]
    },
    {
     "name": "stderr",
     "output_type": "stream",
     "text": [
      "100%|████████████████████████████████████████████████████████████████████████████████| 108/108 [00:01<00:00, 77.22it/s]\n"
     ]
    },
    {
     "name": "stdout",
     "output_type": "stream",
     "text": [
      "Extracting ../Mesures/train\\twitch20230110_110215.csv.... 23/39\n"
     ]
    },
    {
     "name": "stderr",
     "output_type": "stream",
     "text": [
      "100%|██████████████████████████████████████████████████████████████████████████████████| 22/22 [00:00<00:00, 96.28it/s]\n"
     ]
    },
    {
     "name": "stdout",
     "output_type": "stream",
     "text": [
      "Extracting ../Mesures/train\\twitch20230110_120513.csv.... 24/39\n"
     ]
    },
    {
     "name": "stderr",
     "output_type": "stream",
     "text": [
      "100%|█████████████████████████████████████████████████████████████████████████████████| 59/59 [00:00<00:00, 305.62it/s]\n"
     ]
    },
    {
     "name": "stdout",
     "output_type": "stream",
     "text": [
      "Extracting ../Mesures/train\\twitch20230110_130648.csv.... 25/39\n"
     ]
    },
    {
     "name": "stderr",
     "output_type": "stream",
     "text": [
      "100%|███████████████████████████████████████████████████████████████████████████████| 426/426 [00:00<00:00, 626.65it/s]\n"
     ]
    },
    {
     "name": "stdout",
     "output_type": "stream",
     "text": [
      "Extracting ../Mesures/train\\youtube20221108_165214.csv.... 26/39\n"
     ]
    },
    {
     "name": "stderr",
     "output_type": "stream",
     "text": [
      "100%|█████████████████████████████████████████████████████████████████████████████████| 11/11 [00:00<00:00, 530.97it/s]\n"
     ]
    },
    {
     "name": "stdout",
     "output_type": "stream",
     "text": [
      "Extracting ../Mesures/train\\youtube20221108_182416.csv.... 27/39\n"
     ]
    },
    {
     "name": "stderr",
     "output_type": "stream",
     "text": [
      "100%|███████████████████████████████████████████████████████████████████████████████████| 4/4 [00:00<00:00, 301.10it/s]\n"
     ]
    },
    {
     "name": "stdout",
     "output_type": "stream",
     "text": [
      "Extracting ../Mesures/train\\youtube20221124_125524.csv.... 28/39\n"
     ]
    },
    {
     "name": "stderr",
     "output_type": "stream",
     "text": [
      "100%|███████████████████████████████████████████████████████████████████████████████| 186/186 [00:00<00:00, 895.91it/s]\n"
     ]
    },
    {
     "name": "stdout",
     "output_type": "stream",
     "text": [
      "Extracting ../Mesures/train\\youtube20221124_154037.csv.... 29/39\n"
     ]
    },
    {
     "name": "stderr",
     "output_type": "stream",
     "text": [
      "100%|█████████████████████████████████████████████████████████████████████████████████| 92/92 [00:00<00:00, 859.69it/s]\n"
     ]
    },
    {
     "name": "stdout",
     "output_type": "stream",
     "text": [
      "Extracting ../Mesures/train\\youtube20221130_103723.csv.... 30/39\n"
     ]
    },
    {
     "name": "stderr",
     "output_type": "stream",
     "text": [
      "100%|█████████████████████████████████████████████████████████████████████████████████| 91/91 [00:00<00:00, 800.70it/s]\n"
     ]
    },
    {
     "name": "stdout",
     "output_type": "stream",
     "text": [
      "Extracting ../Mesures/train\\youtube20230110_145404.csv.... 31/39\n"
     ]
    },
    {
     "name": "stderr",
     "output_type": "stream",
     "text": [
      "100%|█████████████████████████████████████████████████████████████████████████████████| 94/94 [00:00<00:00, 989.67it/s]\n"
     ]
    },
    {
     "name": "stdout",
     "output_type": "stream",
     "text": [
      "Extracting ../Mesures/train\\youtube20230110_161955.csv.... 32/39\n"
     ]
    },
    {
     "name": "stderr",
     "output_type": "stream",
     "text": [
      "100%|█████████████████████████████████████████████████████████████████████████████████| 90/90 [00:00<00:00, 865.34it/s]\n"
     ]
    },
    {
     "name": "stdout",
     "output_type": "stream",
     "text": [
      "Extracting ../Mesures/train\\youtube20230112_125508.csv.... 33/39\n"
     ]
    },
    {
     "name": "stderr",
     "output_type": "stream",
     "text": [
      "100%|███████████████████████████████████████████████████████████████████████████████| 108/108 [00:00<00:00, 542.46it/s]\n"
     ]
    },
    {
     "name": "stdout",
     "output_type": "stream",
     "text": [
      "Extracting ../Mesures/train\\youtube20230112_151029.csv.... 34/39\n"
     ]
    },
    {
     "name": "stderr",
     "output_type": "stream",
     "text": [
      "100%|█████████████████████████████████████████████████████████████████████████████████| 29/29 [00:00<00:00, 622.34it/s]\n"
     ]
    },
    {
     "name": "stdout",
     "output_type": "stream",
     "text": [
      "Extracting ../Mesures/train\\youtube20230112_154749.csv.... 35/39\n"
     ]
    },
    {
     "name": "stderr",
     "output_type": "stream",
     "text": [
      "100%|█████████████████████████████████████████████████████████████████████████████████| 32/32 [00:00<00:00, 510.22it/s]\n"
     ]
    },
    {
     "name": "stdout",
     "output_type": "stream",
     "text": [
      "Extracting ../Mesures/train\\youtube20230112_163634.csv.... 36/39\n"
     ]
    },
    {
     "name": "stderr",
     "output_type": "stream",
     "text": [
      "100%|█████████████████████████████████████████████████████████████████████████████████| 65/65 [00:00<00:00, 721.50it/s]\n"
     ]
    },
    {
     "name": "stdout",
     "output_type": "stream",
     "text": [
      "Extracting ../Mesures/train\\youtube20230117_095221.csv.... 37/39\n"
     ]
    },
    {
     "name": "stderr",
     "output_type": "stream",
     "text": [
      "100%|███████████████████████████████████████████████████████████████████████████████| 140/140 [00:00<00:00, 321.70it/s]\n"
     ]
    },
    {
     "name": "stdout",
     "output_type": "stream",
     "text": [
      "Extracting ../Mesures/train\\youtube20230118_134041.csv.... 38/39\n"
     ]
    },
    {
     "name": "stderr",
     "output_type": "stream",
     "text": [
      "100%|███████████████████████████████████████████████████████████████████████████████| 212/212 [00:00<00:00, 263.79it/s]\n"
     ]
    },
    {
     "name": "stdout",
     "output_type": "stream",
     "text": [
      "Extracting ../Mesures/train\\youtube20230124_124323.csv.... 39/39\n"
     ]
    },
    {
     "name": "stderr",
     "output_type": "stream",
     "text": [
      "100%|███████████████████████████████████████████████████████████████████████████████| 163/163 [00:00<00:00, 269.22it/s]\n",
      "100%|██████████████████████████████████████████████████████████████████████████| 5593/5593 [00:00<00:00, 115763.89it/s]\n"
     ]
    },
    {
     "name": "stdout",
     "output_type": "stream",
     "text": [
      "Dataset generation took : 206.6629013 s\n"
     ]
    }
   ],
   "source": [
    "time_counter = time.time_ns()\n",
    "\n",
    "df_test = load_and_preprocess_raw_data(\"../Mesures/test\", window_size = WINDOW_SIZE)\n",
    "df_train = load_and_preprocess_raw_data(\"../Mesures/train\", window_size = WINDOW_SIZE)\n",
    "\n",
    "process_duration = (time.time_ns() - time_counter)/(10**9)\n",
    "print(f\"Dataset generation took : {process_duration} s\")"
   ]
  },
  {
   "cell_type": "code",
   "execution_count": null,
   "id": "8e5df180",
   "metadata": {},
   "outputs": [],
   "source": []
  },
  {
   "cell_type": "code",
   "execution_count": 4,
   "id": "cd03094d",
   "metadata": {},
   "outputs": [
    {
     "data": {
      "text/html": [
       "<div>\n",
       "<style scoped>\n",
       "    .dataframe tbody tr th:only-of-type {\n",
       "        vertical-align: middle;\n",
       "    }\n",
       "\n",
       "    .dataframe tbody tr th {\n",
       "        vertical-align: top;\n",
       "    }\n",
       "\n",
       "    .dataframe thead th {\n",
       "        text-align: right;\n",
       "    }\n",
       "</style>\n",
       "<table border=\"1\" class=\"dataframe\">\n",
       "  <thead>\n",
       "    <tr style=\"text-align: right;\">\n",
       "      <th></th>\n",
       "      <th>0</th>\n",
       "      <th>1</th>\n",
       "      <th>2</th>\n",
       "      <th>3</th>\n",
       "      <th>4</th>\n",
       "      <th>5</th>\n",
       "      <th>6</th>\n",
       "      <th>7</th>\n",
       "      <th>8</th>\n",
       "      <th>9</th>\n",
       "      <th>...</th>\n",
       "      <th>491</th>\n",
       "      <th>492</th>\n",
       "      <th>493</th>\n",
       "      <th>494</th>\n",
       "      <th>495</th>\n",
       "      <th>496</th>\n",
       "      <th>497</th>\n",
       "      <th>498</th>\n",
       "      <th>499</th>\n",
       "      <th>label</th>\n",
       "    </tr>\n",
       "    <tr>\n",
       "      <th>id</th>\n",
       "      <th></th>\n",
       "      <th></th>\n",
       "      <th></th>\n",
       "      <th></th>\n",
       "      <th></th>\n",
       "      <th></th>\n",
       "      <th></th>\n",
       "      <th></th>\n",
       "      <th></th>\n",
       "      <th></th>\n",
       "      <th></th>\n",
       "      <th></th>\n",
       "      <th></th>\n",
       "      <th></th>\n",
       "      <th></th>\n",
       "      <th></th>\n",
       "      <th></th>\n",
       "      <th></th>\n",
       "      <th></th>\n",
       "      <th></th>\n",
       "      <th></th>\n",
       "    </tr>\n",
       "  </thead>\n",
       "  <tbody>\n",
       "    <tr>\n",
       "      <th>20221117_125310_4</th>\n",
       "      <td>3.144274</td>\n",
       "      <td>-0.237542</td>\n",
       "      <td>-0.122433</td>\n",
       "      <td>0.255278</td>\n",
       "      <td>-0.109398</td>\n",
       "      <td>-0.129188</td>\n",
       "      <td>-0.166973</td>\n",
       "      <td>-0.165947</td>\n",
       "      <td>-0.179671</td>\n",
       "      <td>-0.399747</td>\n",
       "      <td>...</td>\n",
       "      <td>-0.397345</td>\n",
       "      <td>-0.401777</td>\n",
       "      <td>-0.306914</td>\n",
       "      <td>-0.349820</td>\n",
       "      <td>-0.468051</td>\n",
       "      <td>-0.045641</td>\n",
       "      <td>1.811260</td>\n",
       "      <td>-0.460430</td>\n",
       "      <td>-0.398890</td>\n",
       "      <td>messenger</td>\n",
       "    </tr>\n",
       "    <tr>\n",
       "      <th>20221117_125310_8</th>\n",
       "      <td>-0.153232</td>\n",
       "      <td>-0.016292</td>\n",
       "      <td>-0.122433</td>\n",
       "      <td>-0.100344</td>\n",
       "      <td>-0.109398</td>\n",
       "      <td>-0.129188</td>\n",
       "      <td>-0.427687</td>\n",
       "      <td>-0.165947</td>\n",
       "      <td>0.031398</td>\n",
       "      <td>-0.399747</td>\n",
       "      <td>...</td>\n",
       "      <td>0.002940</td>\n",
       "      <td>-0.446126</td>\n",
       "      <td>-0.452355</td>\n",
       "      <td>-0.386088</td>\n",
       "      <td>-0.468051</td>\n",
       "      <td>0.507473</td>\n",
       "      <td>1.541480</td>\n",
       "      <td>-0.460430</td>\n",
       "      <td>-0.398890</td>\n",
       "      <td>messenger</td>\n",
       "    </tr>\n",
       "    <tr>\n",
       "      <th>20221117_125310_7</th>\n",
       "      <td>1.109643</td>\n",
       "      <td>0.044049</td>\n",
       "      <td>-0.122433</td>\n",
       "      <td>-0.100344</td>\n",
       "      <td>-0.109398</td>\n",
       "      <td>-0.129188</td>\n",
       "      <td>-0.427687</td>\n",
       "      <td>-0.165947</td>\n",
       "      <td>-0.028908</td>\n",
       "      <td>-0.399747</td>\n",
       "      <td>...</td>\n",
       "      <td>-0.397345</td>\n",
       "      <td>-0.401777</td>\n",
       "      <td>0.356168</td>\n",
       "      <td>0.283574</td>\n",
       "      <td>-0.422953</td>\n",
       "      <td>-0.466082</td>\n",
       "      <td>-0.432620</td>\n",
       "      <td>-0.460430</td>\n",
       "      <td>-0.398890</td>\n",
       "      <td>messenger</td>\n",
       "    </tr>\n",
       "    <tr>\n",
       "      <th>20221117_125310_9</th>\n",
       "      <td>-0.153232</td>\n",
       "      <td>-0.016292</td>\n",
       "      <td>-0.122433</td>\n",
       "      <td>-0.100344</td>\n",
       "      <td>-0.109398</td>\n",
       "      <td>-0.129188</td>\n",
       "      <td>-0.427687</td>\n",
       "      <td>-0.165947</td>\n",
       "      <td>-0.415868</td>\n",
       "      <td>-0.399747</td>\n",
       "      <td>...</td>\n",
       "      <td>-0.397345</td>\n",
       "      <td>0.055965</td>\n",
       "      <td>-0.452355</td>\n",
       "      <td>-0.386088</td>\n",
       "      <td>-0.422953</td>\n",
       "      <td>-0.466082</td>\n",
       "      <td>-0.432620</td>\n",
       "      <td>0.028821</td>\n",
       "      <td>-0.398890</td>\n",
       "      <td>messenger</td>\n",
       "    </tr>\n",
       "    <tr>\n",
       "      <th>20221117_125310_10</th>\n",
       "      <td>-0.153232</td>\n",
       "      <td>-0.237542</td>\n",
       "      <td>-0.122433</td>\n",
       "      <td>-0.100344</td>\n",
       "      <td>-0.109398</td>\n",
       "      <td>-0.129188</td>\n",
       "      <td>-0.427687</td>\n",
       "      <td>-0.165947</td>\n",
       "      <td>-0.415868</td>\n",
       "      <td>-0.399747</td>\n",
       "      <td>...</td>\n",
       "      <td>-0.397345</td>\n",
       "      <td>-0.446126</td>\n",
       "      <td>-0.452355</td>\n",
       "      <td>-0.386088</td>\n",
       "      <td>0.416194</td>\n",
       "      <td>1.527744</td>\n",
       "      <td>-0.432620</td>\n",
       "      <td>-0.460430</td>\n",
       "      <td>-0.398890</td>\n",
       "      <td>messenger</td>\n",
       "    </tr>\n",
       "    <tr>\n",
       "      <th>...</th>\n",
       "      <td>...</td>\n",
       "      <td>...</td>\n",
       "      <td>...</td>\n",
       "      <td>...</td>\n",
       "      <td>...</td>\n",
       "      <td>...</td>\n",
       "      <td>...</td>\n",
       "      <td>...</td>\n",
       "      <td>...</td>\n",
       "      <td>...</td>\n",
       "      <td>...</td>\n",
       "      <td>...</td>\n",
       "      <td>...</td>\n",
       "      <td>...</td>\n",
       "      <td>...</td>\n",
       "      <td>...</td>\n",
       "      <td>...</td>\n",
       "      <td>...</td>\n",
       "      <td>...</td>\n",
       "      <td>...</td>\n",
       "      <td>...</td>\n",
       "    </tr>\n",
       "    <tr>\n",
       "      <th>20230124_124323_162</th>\n",
       "      <td>-0.153232</td>\n",
       "      <td>-0.016292</td>\n",
       "      <td>-0.122433</td>\n",
       "      <td>-0.100344</td>\n",
       "      <td>-0.109398</td>\n",
       "      <td>-0.129188</td>\n",
       "      <td>-0.200255</td>\n",
       "      <td>-0.165947</td>\n",
       "      <td>-0.028908</td>\n",
       "      <td>-0.399747</td>\n",
       "      <td>...</td>\n",
       "      <td>-0.153639</td>\n",
       "      <td>-0.140437</td>\n",
       "      <td>-0.150527</td>\n",
       "      <td>-0.136098</td>\n",
       "      <td>-0.468051</td>\n",
       "      <td>-0.157758</td>\n",
       "      <td>-0.157131</td>\n",
       "      <td>-0.162558</td>\n",
       "      <td>-0.156716</td>\n",
       "      <td>youtube</td>\n",
       "    </tr>\n",
       "    <tr>\n",
       "      <th>20230124_124323_163</th>\n",
       "      <td>-0.153232</td>\n",
       "      <td>-0.016292</td>\n",
       "      <td>-0.122433</td>\n",
       "      <td>-0.100344</td>\n",
       "      <td>-0.109398</td>\n",
       "      <td>-0.129188</td>\n",
       "      <td>-0.155878</td>\n",
       "      <td>-0.165947</td>\n",
       "      <td>-0.028908</td>\n",
       "      <td>-0.399747</td>\n",
       "      <td>...</td>\n",
       "      <td>-0.361989</td>\n",
       "      <td>-0.446126</td>\n",
       "      <td>-0.408566</td>\n",
       "      <td>-0.349820</td>\n",
       "      <td>-0.422953</td>\n",
       "      <td>-0.466082</td>\n",
       "      <td>-0.392653</td>\n",
       "      <td>-0.417215</td>\n",
       "      <td>-0.363756</td>\n",
       "      <td>youtube</td>\n",
       "    </tr>\n",
       "    <tr>\n",
       "      <th>20230124_124323_164</th>\n",
       "      <td>-0.153232</td>\n",
       "      <td>-0.016292</td>\n",
       "      <td>-0.122433</td>\n",
       "      <td>-0.100344</td>\n",
       "      <td>-0.109398</td>\n",
       "      <td>-0.129188</td>\n",
       "      <td>-0.200255</td>\n",
       "      <td>-0.165947</td>\n",
       "      <td>0.031398</td>\n",
       "      <td>-0.399747</td>\n",
       "      <td>...</td>\n",
       "      <td>-0.153639</td>\n",
       "      <td>-0.140437</td>\n",
       "      <td>-0.150527</td>\n",
       "      <td>-0.136098</td>\n",
       "      <td>-0.157196</td>\n",
       "      <td>-0.157758</td>\n",
       "      <td>-0.157131</td>\n",
       "      <td>-0.460430</td>\n",
       "      <td>-0.156716</td>\n",
       "      <td>youtube</td>\n",
       "    </tr>\n",
       "    <tr>\n",
       "      <th>20230124_124323_165</th>\n",
       "      <td>-0.153232</td>\n",
       "      <td>-0.016292</td>\n",
       "      <td>-0.122433</td>\n",
       "      <td>-0.100344</td>\n",
       "      <td>-0.109398</td>\n",
       "      <td>-0.129188</td>\n",
       "      <td>-0.166973</td>\n",
       "      <td>-0.165947</td>\n",
       "      <td>-0.049010</td>\n",
       "      <td>-0.399747</td>\n",
       "      <td>...</td>\n",
       "      <td>-0.361989</td>\n",
       "      <td>-0.401777</td>\n",
       "      <td>-0.408566</td>\n",
       "      <td>-0.349820</td>\n",
       "      <td>-0.468051</td>\n",
       "      <td>-0.466082</td>\n",
       "      <td>-0.392653</td>\n",
       "      <td>-0.417215</td>\n",
       "      <td>-0.363756</td>\n",
       "      <td>youtube</td>\n",
       "    </tr>\n",
       "    <tr>\n",
       "      <th>20230124_124323_166</th>\n",
       "      <td>-0.153232</td>\n",
       "      <td>-0.016292</td>\n",
       "      <td>-0.122433</td>\n",
       "      <td>-0.100344</td>\n",
       "      <td>-0.109398</td>\n",
       "      <td>-0.129188</td>\n",
       "      <td>-0.155878</td>\n",
       "      <td>-0.165947</td>\n",
       "      <td>0.031398</td>\n",
       "      <td>-0.399747</td>\n",
       "      <td>...</td>\n",
       "      <td>-0.361989</td>\n",
       "      <td>-0.401777</td>\n",
       "      <td>-0.408566</td>\n",
       "      <td>-0.349820</td>\n",
       "      <td>-0.422953</td>\n",
       "      <td>-0.466082</td>\n",
       "      <td>-0.392653</td>\n",
       "      <td>-0.417215</td>\n",
       "      <td>-0.363756</td>\n",
       "      <td>youtube</td>\n",
       "    </tr>\n",
       "  </tbody>\n",
       "</table>\n",
       "<p>1429 rows × 501 columns</p>\n",
       "</div>"
      ],
      "text/plain": [
       "                            0         1         2         3         4  \\\n",
       "id                                                                      \n",
       "20221117_125310_4    3.144274 -0.237542 -0.122433  0.255278 -0.109398   \n",
       "20221117_125310_8   -0.153232 -0.016292 -0.122433 -0.100344 -0.109398   \n",
       "20221117_125310_7    1.109643  0.044049 -0.122433 -0.100344 -0.109398   \n",
       "20221117_125310_9   -0.153232 -0.016292 -0.122433 -0.100344 -0.109398   \n",
       "20221117_125310_10  -0.153232 -0.237542 -0.122433 -0.100344 -0.109398   \n",
       "...                       ...       ...       ...       ...       ...   \n",
       "20230124_124323_162 -0.153232 -0.016292 -0.122433 -0.100344 -0.109398   \n",
       "20230124_124323_163 -0.153232 -0.016292 -0.122433 -0.100344 -0.109398   \n",
       "20230124_124323_164 -0.153232 -0.016292 -0.122433 -0.100344 -0.109398   \n",
       "20230124_124323_165 -0.153232 -0.016292 -0.122433 -0.100344 -0.109398   \n",
       "20230124_124323_166 -0.153232 -0.016292 -0.122433 -0.100344 -0.109398   \n",
       "\n",
       "                            5         6         7         8         9  ...  \\\n",
       "id                                                                     ...   \n",
       "20221117_125310_4   -0.129188 -0.166973 -0.165947 -0.179671 -0.399747  ...   \n",
       "20221117_125310_8   -0.129188 -0.427687 -0.165947  0.031398 -0.399747  ...   \n",
       "20221117_125310_7   -0.129188 -0.427687 -0.165947 -0.028908 -0.399747  ...   \n",
       "20221117_125310_9   -0.129188 -0.427687 -0.165947 -0.415868 -0.399747  ...   \n",
       "20221117_125310_10  -0.129188 -0.427687 -0.165947 -0.415868 -0.399747  ...   \n",
       "...                       ...       ...       ...       ...       ...  ...   \n",
       "20230124_124323_162 -0.129188 -0.200255 -0.165947 -0.028908 -0.399747  ...   \n",
       "20230124_124323_163 -0.129188 -0.155878 -0.165947 -0.028908 -0.399747  ...   \n",
       "20230124_124323_164 -0.129188 -0.200255 -0.165947  0.031398 -0.399747  ...   \n",
       "20230124_124323_165 -0.129188 -0.166973 -0.165947 -0.049010 -0.399747  ...   \n",
       "20230124_124323_166 -0.129188 -0.155878 -0.165947  0.031398 -0.399747  ...   \n",
       "\n",
       "                          491       492       493       494       495  \\\n",
       "id                                                                      \n",
       "20221117_125310_4   -0.397345 -0.401777 -0.306914 -0.349820 -0.468051   \n",
       "20221117_125310_8    0.002940 -0.446126 -0.452355 -0.386088 -0.468051   \n",
       "20221117_125310_7   -0.397345 -0.401777  0.356168  0.283574 -0.422953   \n",
       "20221117_125310_9   -0.397345  0.055965 -0.452355 -0.386088 -0.422953   \n",
       "20221117_125310_10  -0.397345 -0.446126 -0.452355 -0.386088  0.416194   \n",
       "...                       ...       ...       ...       ...       ...   \n",
       "20230124_124323_162 -0.153639 -0.140437 -0.150527 -0.136098 -0.468051   \n",
       "20230124_124323_163 -0.361989 -0.446126 -0.408566 -0.349820 -0.422953   \n",
       "20230124_124323_164 -0.153639 -0.140437 -0.150527 -0.136098 -0.157196   \n",
       "20230124_124323_165 -0.361989 -0.401777 -0.408566 -0.349820 -0.468051   \n",
       "20230124_124323_166 -0.361989 -0.401777 -0.408566 -0.349820 -0.422953   \n",
       "\n",
       "                          496       497       498       499      label  \n",
       "id                                                                      \n",
       "20221117_125310_4   -0.045641  1.811260 -0.460430 -0.398890  messenger  \n",
       "20221117_125310_8    0.507473  1.541480 -0.460430 -0.398890  messenger  \n",
       "20221117_125310_7   -0.466082 -0.432620 -0.460430 -0.398890  messenger  \n",
       "20221117_125310_9   -0.466082 -0.432620  0.028821 -0.398890  messenger  \n",
       "20221117_125310_10   1.527744 -0.432620 -0.460430 -0.398890  messenger  \n",
       "...                       ...       ...       ...       ...        ...  \n",
       "20230124_124323_162 -0.157758 -0.157131 -0.162558 -0.156716    youtube  \n",
       "20230124_124323_163 -0.466082 -0.392653 -0.417215 -0.363756    youtube  \n",
       "20230124_124323_164 -0.157758 -0.157131 -0.460430 -0.156716    youtube  \n",
       "20230124_124323_165 -0.466082 -0.392653 -0.417215 -0.363756    youtube  \n",
       "20230124_124323_166 -0.466082 -0.392653 -0.417215 -0.363756    youtube  \n",
       "\n",
       "[1429 rows x 501 columns]"
      ]
     },
     "execution_count": 4,
     "metadata": {},
     "output_type": "execute_result"
    }
   ],
   "source": [
    "scaler = Scaler_Metrics()\n",
    "training_data = scaler.fit_transform(df_train)\n",
    "testing_data = scaler.transform(df_test)\n",
    "training_data"
   ]
  },
  {
   "cell_type": "code",
   "execution_count": 5,
   "id": "e73db52a",
   "metadata": {},
   "outputs": [],
   "source": [
    "training_data = training_data[training_data .label!=\"noise\"]\n",
    "testing_data = testing_data[testing_data .label!=\"noise\"]"
   ]
  },
  {
   "cell_type": "code",
   "execution_count": null,
   "id": "118ea53f",
   "metadata": {},
   "outputs": [],
   "source": []
  },
  {
   "cell_type": "code",
   "execution_count": 6,
   "id": "3b0c06bd",
   "metadata": {},
   "outputs": [
    {
     "name": "stdout",
     "output_type": "stream",
     "text": [
      "Training Duration : 0.8212323 s for a dataset length of 1284\n"
     ]
    }
   ],
   "source": [
    "time_counter = time.time_ns()\n",
    "\n",
    "model = RandomForestClassifier(class_weight = \"balanced\")\n",
    "model.fit(training_data[training_data.columns[:-1]], training_data.label)\n",
    "\n",
    "training_duration = (time.time_ns() - time_counter)/(10**9)\n",
    "print(f\"Training Duration : {training_duration} s for a dataset length of {len(training_data.label)}\")"
   ]
  },
  {
   "cell_type": "code",
   "execution_count": 7,
   "id": "6c2b45c1",
   "metadata": {},
   "outputs": [
    {
     "name": "stdout",
     "output_type": "stream",
     "text": [
      "Testing Duration : 0.0246017 s for a dataset length of 452\n",
      "Testing Duration per data : 0.054428539823008854 ms\n"
     ]
    }
   ],
   "source": [
    "# mesure efficiency\n",
    "time_counter = time.time_ns()\n",
    "\n",
    "preds_labels =  model.predict(testing_data[testing_data.columns[:-1]])\n",
    "true_labels = testing_data.label\n",
    "\n",
    "testing_duration = (time.time_ns() - time_counter)/(10**9)\n",
    "print(f\"Testing Duration : {testing_duration} s for a dataset length of {len(testing_data.label)}\")\n",
    "testing_duration_per_item = testing_duration*(10**3)/len(testing_data.label)\n",
    "print(f\"Testing Duration per data : {testing_duration_per_item} ms\")"
   ]
  },
  {
   "cell_type": "code",
   "execution_count": 8,
   "id": "e75fb978",
   "metadata": {},
   "outputs": [
    {
     "name": "stdout",
     "output_type": "stream",
     "text": [
      "normalized confusion matrix\n"
     ]
    },
    {
     "data": {
      "image/png": "[encoded data removed]",
      "text/plain": [
       "<Figure size 600x600 with 2 Axes>"
      ]
     },
     "metadata": {},
     "output_type": "display_data"
    }
   ],
   "source": [
    "plot_confusion_matrix(true_labels,preds_labels)"
   ]
  },
  {
   "cell_type": "code",
   "execution_count": 9,
   "id": "a1ebe613",
   "metadata": {},
   "outputs": [
    {
     "data": {
      "text/plain": [
       "{'Accuracy': 0.3798502103211244,\n",
       " 'Precision': 0.8725010056315367,\n",
       " 'Recall': 0.8849557522123894,\n",
       " 'F1_Score': 0.8690807075698791,\n",
       " 'support': None}"
      ]
     },
     "execution_count": 9,
     "metadata": {},
     "output_type": "execute_result"
    }
   ],
   "source": [
    "get_scores(true_labels,preds_labels)"
   ]
  },
  {
   "cell_type": "code",
   "execution_count": null,
   "id": "e14f6b32",
   "metadata": {},
   "outputs": [],
   "source": []
  },
  {
   "cell_type": "code",
   "execution_count": 10,
   "id": "a6f2b4ab",
   "metadata": {},
   "outputs": [
    {
     "data": {
      "image/png": "[encoded data removed]",
      "text/plain": [
       "<Figure size 900x600 with 1 Axes>"
      ]
     },
     "metadata": {},
     "output_type": "display_data"
    }
   ],
   "source": [
    "\n",
    "    \n",
    "plot_feature_importance(model, training_data.columns[:-1])"
   ]
  },
  {
   "cell_type": "code",
   "execution_count": null,
   "id": "a1848d66",
   "metadata": {},
   "outputs": [],
   "source": []
  },
  {
   "cell_type": "code",
   "execution_count": null,
   "id": "3c28c63b",
   "metadata": {},
   "outputs": [],
   "source": []
  },
  {
   "cell_type": "code",
   "execution_count": null,
   "id": "b21fb5b2",
   "metadata": {},
   "outputs": [],
   "source": []
  }
 ],
 "metadata": {
  "kernelspec": {
   "display_name": "Python 3 (ipykernel)",
   "language": "python",
   "name": "python3"
  },
  "language_info": {
   "codemirror_mode": {
    "name": "ipython",
    "version": 3
   },
   "file_extension": ".py",
   "mimetype": "text/x-python",
   "name": "python",
   "nbconvert_exporter": "python",
   "pygments_lexer": "ipython3",
   "version": "3.9.15"
  }
 },
 "nbformat": 4,
 "nbformat_minor": 5
}
