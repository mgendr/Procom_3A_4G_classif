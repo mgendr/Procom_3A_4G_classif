{
 "cells": [
  {
   "cell_type": "code",
   "execution_count": 1,
   "id": "4c53af1c",
   "metadata": {},
   "outputs": [],
   "source": [
    "import os\n",
    "import pandas as pd\n",
    "import warnings\n",
    "#import matplotlib.pyplot as plt\n",
    "import sys\n",
    "import numpy as np\n",
    "#import seaborn as sns\n",
    "\n",
    "from tqdm import tqdm\n",
    "#from random import randint\n",
    "#from sklearn.model_selection import train_test_split\n",
    "import time\n",
    "#import itertools\n",
    "\n",
    "from sklearn.preprocessing import StandardScaler\n",
    "from sklearn.ensemble import RandomForestClassifier\n",
    "\n",
    "from aggregation import load_and_preprocess_agg_window, Scaler_Metrics\n",
    "sys.path.append(\"../\")\n",
    "\n",
    "from evaluate import plot_confusion_matrix, get_scores, plot_feature_importance"
   ]
  },
  {
   "cell_type": "code",
   "execution_count": 2,
   "id": "b66b2e91",
   "metadata": {},
   "outputs": [],
   "source": [
    "DEFAULT_LENGTH_Value = 60\n",
    "STEP = 15"
   ]
  },
  {
   "cell_type": "code",
   "execution_count": 3,
   "id": "da843876",
   "metadata": {},
   "outputs": [],
   "source": [
    "\n",
    "\n",
    "# key : value\n",
    "# uniq_id : [60 values, label]"
   ]
  },
  {
   "cell_type": "code",
   "execution_count": 4,
   "id": "10351bbc",
   "metadata": {
    "scrolled": true
   },
   "outputs": [
    {
     "name": "stdout",
     "output_type": "stream",
     "text": [
      "Load datasets...\n",
      "Extracting ../Mesures/train\\messenger20221117_125310.csv.... 1/39\n"
     ]
    },
    {
     "name": "stderr",
     "output_type": "stream",
     "text": [
      "100%|██████████████████████████████████████████████████████████████████████████████████| 15/15 [00:00<00:00, 44.28it/s]\n"
     ]
    },
    {
     "name": "stdout",
     "output_type": "stream",
     "text": [
      "Extracting ../Mesures/train\\messenger20221124_143112.csv.... 2/39\n"
     ]
    },
    {
     "name": "stderr",
     "output_type": "stream",
     "text": [
      "100%|██████████████████████████████████████████████████████████████████████████████████| 11/11 [00:00<00:00, 45.54it/s]\n"
     ]
    },
    {
     "name": "stdout",
     "output_type": "stream",
     "text": [
      "Extracting ../Mesures/train\\messenger20221125_130559.csv.... 3/39\n"
     ]
    },
    {
     "name": "stderr",
     "output_type": "stream",
     "text": [
      "100%|█████████████████████████████████████████████████████████████████████████████████| 38/38 [00:00<00:00, 101.59it/s]\n"
     ]
    },
    {
     "name": "stdout",
     "output_type": "stream",
     "text": [
      "Extracting ../Mesures/train\\messenger20221129_131204.csv.... 4/39\n"
     ]
    },
    {
     "name": "stderr",
     "output_type": "stream",
     "text": [
      "100%|██████████████████████████████████████████████████████████████████████████████████| 14/14 [00:01<00:00, 12.43it/s]\n"
     ]
    },
    {
     "name": "stdout",
     "output_type": "stream",
     "text": [
      "Extracting ../Mesures/train\\messenger20221129_151124.csv.... 5/39\n"
     ]
    },
    {
     "name": "stderr",
     "output_type": "stream",
     "text": [
      "100%|████████████████████████████████████████████████████████████████████████████████████| 5/5 [00:00<00:00,  7.09it/s]\n"
     ]
    },
    {
     "name": "stdout",
     "output_type": "stream",
     "text": [
      "Extracting ../Mesures/train\\messenger20230207_133921.csv.... 6/39\n"
     ]
    },
    {
     "name": "stderr",
     "output_type": "stream",
     "text": [
      "100%|████████████████████████████████████████████████████████████████████████████████████| 2/2 [00:00<00:00,  2.65it/s]\n"
     ]
    },
    {
     "name": "stdout",
     "output_type": "stream",
     "text": [
      "Extracting ../Mesures/train\\messenger20230209_083453.csv.... 7/39\n"
     ]
    },
    {
     "name": "stderr",
     "output_type": "stream",
     "text": [
      "100%|████████████████████████████████████████████████████████████████████████████████████| 5/5 [00:01<00:00,  4.65it/s]\n"
     ]
    },
    {
     "name": "stdout",
     "output_type": "stream",
     "text": [
      "Extracting ../Mesures/train\\pure_noise20230106_132210.csv.... 8/39\n"
     ]
    },
    {
     "name": "stderr",
     "output_type": "stream",
     "text": [
      "100%|███████████████████████████████████████████████████████████████████████████████| 805/805 [00:01<00:00, 781.90it/s]\n"
     ]
    },
    {
     "name": "stdout",
     "output_type": "stream",
     "text": [
      "Extracting ../Mesures/train\\skype20221129_164105.csv.... 9/39\n"
     ]
    },
    {
     "name": "stderr",
     "output_type": "stream",
     "text": [
      "100%|████████████████████████████████████████████████████████████████████████████████████| 5/5 [00:00<00:00, 13.12it/s]\n"
     ]
    },
    {
     "name": "stdout",
     "output_type": "stream",
     "text": [
      "Extracting ../Mesures/train\\skype20221206_125510.csv.... 10/39\n"
     ]
    },
    {
     "name": "stderr",
     "output_type": "stream",
     "text": [
      "100%|██████████████████████████████████████████████████████████████████████████████████| 19/19 [00:00<00:00, 36.27it/s]\n"
     ]
    },
    {
     "name": "stdout",
     "output_type": "stream",
     "text": [
      "Extracting ../Mesures/train\\skype20221208_104403.csv.... 11/39\n"
     ]
    },
    {
     "name": "stderr",
     "output_type": "stream",
     "text": [
      "100%|████████████████████████████████████████████████████████████████████████████████████| 7/7 [00:04<00:00,  1.43it/s]\n"
     ]
    },
    {
     "name": "stdout",
     "output_type": "stream",
     "text": [
      "Extracting ../Mesures/train\\skype20221208_124925.csv.... 12/39\n"
     ]
    },
    {
     "name": "stderr",
     "output_type": "stream",
     "text": [
      "100%|████████████████████████████████████████████████████████████████████████████████████| 6/6 [00:02<00:00,  2.68it/s]\n"
     ]
    },
    {
     "name": "stdout",
     "output_type": "stream",
     "text": [
      "Extracting ../Mesures/train\\skype20221215_151512.csv.... 13/39\n"
     ]
    },
    {
     "name": "stderr",
     "output_type": "stream",
     "text": [
      "100%|██████████████████████████████████████████████████████████████████████████████████| 23/23 [00:00<00:00, 40.36it/s]\n"
     ]
    },
    {
     "name": "stdout",
     "output_type": "stream",
     "text": [
      "Extracting ../Mesures/train\\skype20221215_155618.csv.... 14/39\n"
     ]
    },
    {
     "name": "stderr",
     "output_type": "stream",
     "text": [
      "100%|██████████████████████████████████████████████████████████████████████████████████| 19/19 [00:00<00:00, 31.65it/s]\n"
     ]
    },
    {
     "name": "stdout",
     "output_type": "stream",
     "text": [
      "Extracting ../Mesures/train\\skype20221215_164208.csv.... 15/39\n"
     ]
    },
    {
     "name": "stderr",
     "output_type": "stream",
     "text": [
      "100%|████████████████████████████████████████████████████████████████████████████████████| 5/5 [00:00<00:00,  6.41it/s]\n"
     ]
    },
    {
     "name": "stdout",
     "output_type": "stream",
     "text": [
      "Extracting ../Mesures/train\\skype20221215_174819.csv.... 16/39\n"
     ]
    },
    {
     "name": "stderr",
     "output_type": "stream",
     "text": [
      "100%|████████████████████████████████████████████████████████████████████████████████████| 6/6 [00:00<00:00,  9.84it/s]\n"
     ]
    },
    {
     "name": "stdout",
     "output_type": "stream",
     "text": [
      "Extracting ../Mesures/train\\spotify20230201_092702.csv.... 17/39\n"
     ]
    },
    {
     "name": "stderr",
     "output_type": "stream",
     "text": [
      "100%|█████████████████████████████████████████████████████████████████████████████| 1750/1750 [00:05<00:00, 330.42it/s]\n"
     ]
    },
    {
     "name": "stdout",
     "output_type": "stream",
     "text": [
      "Extracting ../Mesures/train\\spotify20230203_165507.csv.... 18/39\n"
     ]
    },
    {
     "name": "stderr",
     "output_type": "stream",
     "text": [
      "100%|███████████████████████████████████████████████████████████████████████████████| 522/522 [00:00<00:00, 699.98it/s]\n"
     ]
    },
    {
     "name": "stdout",
     "output_type": "stream",
     "text": [
      "Extracting ../Mesures/train\\spotify20230216_141318.csv.... 19/39\n"
     ]
    },
    {
     "name": "stderr",
     "output_type": "stream",
     "text": [
      "100%|███████████████████████████████████████████████████████████████████████████████| 364/364 [00:00<00:00, 641.58it/s]\n"
     ]
    },
    {
     "name": "stdout",
     "output_type": "stream",
     "text": [
      "Extracting ../Mesures/train\\twitch20221117_113554.csv.... 20/39\n"
     ]
    },
    {
     "name": "stderr",
     "output_type": "stream",
     "text": [
      "100%|█████████████████████████████████████████████████████████████████████████████████| 24/24 [00:00<00:00, 122.51it/s]\n"
     ]
    },
    {
     "name": "stdout",
     "output_type": "stream",
     "text": [
      "Extracting ../Mesures/train\\twitch20221118_075454.csv.... 21/39\n"
     ]
    },
    {
     "name": "stderr",
     "output_type": "stream",
     "text": [
      "100%|██████████████████████████████████████████████████████████████████████████████████| 16/16 [00:00<00:00, 62.44it/s]\n"
     ]
    },
    {
     "name": "stdout",
     "output_type": "stream",
     "text": [
      "Extracting ../Mesures/train\\twitch20221125_133859.csv.... 22/39\n"
     ]
    },
    {
     "name": "stderr",
     "output_type": "stream",
     "text": [
      "100%|████████████████████████████████████████████████████████████████████████████████| 108/108 [00:01<00:00, 76.59it/s]\n"
     ]
    },
    {
     "name": "stdout",
     "output_type": "stream",
     "text": [
      "Extracting ../Mesures/train\\twitch20230110_110215.csv.... 23/39\n"
     ]
    },
    {
     "name": "stderr",
     "output_type": "stream",
     "text": [
      "100%|██████████████████████████████████████████████████████████████████████████████████| 22/22 [00:00<00:00, 99.70it/s]\n"
     ]
    },
    {
     "name": "stdout",
     "output_type": "stream",
     "text": [
      "Extracting ../Mesures/train\\twitch20230110_120513.csv.... 24/39\n"
     ]
    },
    {
     "name": "stderr",
     "output_type": "stream",
     "text": [
      "100%|█████████████████████████████████████████████████████████████████████████████████| 59/59 [00:00<00:00, 255.25it/s]\n"
     ]
    },
    {
     "name": "stdout",
     "output_type": "stream",
     "text": [
      "Extracting ../Mesures/train\\twitch20230110_130648.csv.... 25/39\n"
     ]
    },
    {
     "name": "stderr",
     "output_type": "stream",
     "text": [
      "100%|███████████████████████████████████████████████████████████████████████████████| 426/426 [00:00<00:00, 527.56it/s]\n",
      "100%|█████████████████████████████████████████████████████████████████████████████████| 11/11 [00:00<00:00, 445.51it/s]\n"
     ]
    },
    {
     "name": "stdout",
     "output_type": "stream",
     "text": [
      "Extracting ../Mesures/train\\youtube20221108_165214.csv.... 26/39\n",
      "Extracting ../Mesures/train\\youtube20221108_182416.csv.... 27/39\n"
     ]
    },
    {
     "name": "stderr",
     "output_type": "stream",
     "text": [
      "100%|███████████████████████████████████████████████████████████████████████████████████| 4/4 [00:00<00:00, 286.51it/s]\n"
     ]
    },
    {
     "name": "stdout",
     "output_type": "stream",
     "text": [
      "Extracting ../Mesures/train\\youtube20221124_125524.csv.... 28/39\n"
     ]
    },
    {
     "name": "stderr",
     "output_type": "stream",
     "text": [
      "100%|███████████████████████████████████████████████████████████████████████████████| 186/186 [00:00<00:00, 763.14it/s]\n"
     ]
    },
    {
     "name": "stdout",
     "output_type": "stream",
     "text": [
      "Extracting ../Mesures/train\\youtube20221124_154037.csv.... 29/39\n"
     ]
    },
    {
     "name": "stderr",
     "output_type": "stream",
     "text": [
      "100%|█████████████████████████████████████████████████████████████████████████████████| 92/92 [00:00<00:00, 683.00it/s]\n"
     ]
    },
    {
     "name": "stdout",
     "output_type": "stream",
     "text": [
      "Extracting ../Mesures/train\\youtube20221130_103723.csv.... 30/39\n"
     ]
    },
    {
     "name": "stderr",
     "output_type": "stream",
     "text": [
      "100%|█████████████████████████████████████████████████████████████████████████████████| 91/91 [00:00<00:00, 694.77it/s]\n",
      "  0%|                                                                                           | 0/94 [00:00<?, ?it/s]"
     ]
    },
    {
     "name": "stdout",
     "output_type": "stream",
     "text": [
      "Extracting ../Mesures/train\\youtube20230110_145404.csv.... 31/39\n"
     ]
    },
    {
     "name": "stderr",
     "output_type": "stream",
     "text": [
      "100%|█████████████████████████████████████████████████████████████████████████████████| 94/94 [00:00<00:00, 707.95it/s]\n"
     ]
    },
    {
     "name": "stdout",
     "output_type": "stream",
     "text": [
      "Extracting ../Mesures/train\\youtube20230110_161955.csv.... 32/39\n"
     ]
    },
    {
     "name": "stderr",
     "output_type": "stream",
     "text": [
      "100%|█████████████████████████████████████████████████████████████████████████████████| 90/90 [00:00<00:00, 700.33it/s]\n"
     ]
    },
    {
     "name": "stdout",
     "output_type": "stream",
     "text": [
      "Extracting ../Mesures/train\\youtube20230112_125508.csv.... 33/39\n"
     ]
    },
    {
     "name": "stderr",
     "output_type": "stream",
     "text": [
      "100%|███████████████████████████████████████████████████████████████████████████████| 108/108 [00:00<00:00, 455.91it/s]\n"
     ]
    },
    {
     "name": "stdout",
     "output_type": "stream",
     "text": [
      "Extracting ../Mesures/train\\youtube20230112_151029.csv.... 34/39\n"
     ]
    },
    {
     "name": "stderr",
     "output_type": "stream",
     "text": [
      "100%|█████████████████████████████████████████████████████████████████████████████████| 29/29 [00:00<00:00, 549.08it/s]\n"
     ]
    },
    {
     "name": "stdout",
     "output_type": "stream",
     "text": [
      "Extracting ../Mesures/train\\youtube20230112_154749.csv.... 35/39\n"
     ]
    },
    {
     "name": "stderr",
     "output_type": "stream",
     "text": [
      "100%|█████████████████████████████████████████████████████████████████████████████████| 32/32 [00:00<00:00, 472.07it/s]\n"
     ]
    },
    {
     "name": "stdout",
     "output_type": "stream",
     "text": [
      "Extracting ../Mesures/train\\youtube20230112_163634.csv.... 36/39\n"
     ]
    },
    {
     "name": "stderr",
     "output_type": "stream",
     "text": [
      "100%|█████████████████████████████████████████████████████████████████████████████████| 65/65 [00:00<00:00, 596.40it/s]\n"
     ]
    },
    {
     "name": "stdout",
     "output_type": "stream",
     "text": [
      "Extracting ../Mesures/train\\youtube20230117_095221.csv.... 37/39\n"
     ]
    },
    {
     "name": "stderr",
     "output_type": "stream",
     "text": [
      "100%|███████████████████████████████████████████████████████████████████████████████| 140/140 [00:00<00:00, 278.95it/s]\n"
     ]
    },
    {
     "name": "stdout",
     "output_type": "stream",
     "text": [
      "Extracting ../Mesures/train\\youtube20230118_134041.csv.... 38/39\n"
     ]
    },
    {
     "name": "stderr",
     "output_type": "stream",
     "text": [
      "100%|███████████████████████████████████████████████████████████████████████████████| 212/212 [00:00<00:00, 230.16it/s]\n"
     ]
    },
    {
     "name": "stdout",
     "output_type": "stream",
     "text": [
      "Extracting ../Mesures/train\\youtube20230124_124323.csv.... 39/39\n"
     ]
    },
    {
     "name": "stderr",
     "output_type": "stream",
     "text": [
      "100%|███████████████████████████████████████████████████████████████████████████████| 163/163 [00:00<00:00, 215.65it/s]\n",
      "  0%|                                                                                         | 0/5593 [00:00<?, ?it/s]"
     ]
    },
    {
     "name": "stdout",
     "output_type": "stream",
     "text": [
      "Reformat...\n"
     ]
    },
    {
     "name": "stderr",
     "output_type": "stream",
     "text": [
      "100%|█████████████████████████████████████████████████████████████████████████████| 5593/5593 [00:52<00:00, 105.74it/s]\n"
     ]
    },
    {
     "name": "stdout",
     "output_type": "stream",
     "text": [
      "Load datasets...\n",
      "Extracting ../Mesures/test\\messenger20221124_151137.csv.... 1/7\n"
     ]
    },
    {
     "name": "stderr",
     "output_type": "stream",
     "text": [
      "100%|████████████████████████████████████████████████████████████████████████████████████| 5/5 [00:00<00:00, 15.36it/s]\n"
     ]
    },
    {
     "name": "stdout",
     "output_type": "stream",
     "text": [
      "Extracting ../Mesures/test\\messenger20230208_132747.csv.... 2/7\n"
     ]
    },
    {
     "name": "stderr",
     "output_type": "stream",
     "text": [
      "100%|██████████████████████████████████████████████████████████████████████████████████| 27/27 [00:09<00:00,  2.82it/s]\n"
     ]
    },
    {
     "name": "stdout",
     "output_type": "stream",
     "text": [
      "Extracting ../Mesures/test\\skype20221206_150902.csv.... 3/7\n"
     ]
    },
    {
     "name": "stderr",
     "output_type": "stream",
     "text": [
      "100%|████████████████████████████████████████████████████████████████████████████████████| 3/3 [00:01<00:00,  2.71it/s]\n"
     ]
    },
    {
     "name": "stdout",
     "output_type": "stream",
     "text": [
      "Extracting ../Mesures/test\\spotify20230127_134348.csv.... 4/7\n"
     ]
    },
    {
     "name": "stderr",
     "output_type": "stream",
     "text": [
      "100%|███████████████████████████████████████████████████████████████████████████████| 240/240 [00:01<00:00, 136.52it/s]\n"
     ]
    },
    {
     "name": "stdout",
     "output_type": "stream",
     "text": [
      "Extracting ../Mesures/test\\twitch20221124_163054.csv.... 5/7\n"
     ]
    },
    {
     "name": "stderr",
     "output_type": "stream",
     "text": [
      "100%|██████████████████████████████████████████████████████████████████████████████████| 12/12 [00:00<00:00, 20.07it/s]\n"
     ]
    },
    {
     "name": "stdout",
     "output_type": "stream",
     "text": [
      "Extracting ../Mesures/test\\youtube20221118_104205.csv.... 6/7\n"
     ]
    },
    {
     "name": "stderr",
     "output_type": "stream",
     "text": [
      "100%|████████████████████████████████████████████████████████████████████████████████| 218/218 [00:02<00:00, 92.83it/s]\n"
     ]
    },
    {
     "name": "stdout",
     "output_type": "stream",
     "text": [
      "Extracting ../Mesures/test\\youtube20230117_121925.csv.... 7/7\n"
     ]
    },
    {
     "name": "stderr",
     "output_type": "stream",
     "text": [
      "100%|███████████████████████████████████████████████████████████████████████████████| 260/260 [00:01<00:00, 162.57it/s]\n",
      "  0%|                                                                                          | 0/765 [00:00<?, ?it/s]"
     ]
    },
    {
     "name": "stdout",
     "output_type": "stream",
     "text": [
      "Reformat...\n"
     ]
    },
    {
     "name": "stderr",
     "output_type": "stream",
     "text": [
      "100%|████████████████████████████████████████████████████████████████████████████████| 765/765 [00:25<00:00, 30.31it/s]\n"
     ]
    }
   ],
   "source": [
    "df_train = load_and_preprocess_agg_window(\"../Mesures/train\", length_value = DEFAULT_LENGTH_Value, step = STEP)\n",
    "df_test = load_and_preprocess_agg_window(\"../Mesures/test\", length_value = DEFAULT_LENGTH_Value, step = STEP)\n"
   ]
  },
  {
   "cell_type": "code",
   "execution_count": 5,
   "id": "c369f256",
   "metadata": {},
   "outputs": [
    {
     "data": {
      "text/html": [
       "<div>\n",
       "<style scoped>\n",
       "    .dataframe tbody tr th:only-of-type {\n",
       "        vertical-align: middle;\n",
       "    }\n",
       "\n",
       "    .dataframe tbody tr th {\n",
       "        vertical-align: top;\n",
       "    }\n",
       "\n",
       "    .dataframe thead th {\n",
       "        text-align: right;\n",
       "    }\n",
       "</style>\n",
       "<table border=\"1\" class=\"dataframe\">\n",
       "  <thead>\n",
       "    <tr style=\"text-align: right;\">\n",
       "      <th></th>\n",
       "      <th>0</th>\n",
       "      <th>1</th>\n",
       "      <th>2</th>\n",
       "      <th>3</th>\n",
       "      <th>4</th>\n",
       "      <th>5</th>\n",
       "      <th>6</th>\n",
       "      <th>7</th>\n",
       "      <th>8</th>\n",
       "      <th>9</th>\n",
       "      <th>...</th>\n",
       "      <th>111</th>\n",
       "      <th>112</th>\n",
       "      <th>113</th>\n",
       "      <th>114</th>\n",
       "      <th>115</th>\n",
       "      <th>116</th>\n",
       "      <th>117</th>\n",
       "      <th>118</th>\n",
       "      <th>119</th>\n",
       "      <th>label</th>\n",
       "    </tr>\n",
       "  </thead>\n",
       "  <tbody>\n",
       "    <tr>\n",
       "      <th>20221117_125310_4_0</th>\n",
       "      <td>320.0</td>\n",
       "      <td>914.730159</td>\n",
       "      <td>1509.460317</td>\n",
       "      <td>1245.169231</td>\n",
       "      <td>1546.434783</td>\n",
       "      <td>1308.988235</td>\n",
       "      <td>258.666667</td>\n",
       "      <td>355.060606</td>\n",
       "      <td>451.454545</td>\n",
       "      <td>547.848485</td>\n",
       "      <td>...</td>\n",
       "      <td>0.0</td>\n",
       "      <td>0.0</td>\n",
       "      <td>0.0</td>\n",
       "      <td>0.0</td>\n",
       "      <td>0.0</td>\n",
       "      <td>0.0</td>\n",
       "      <td>0.0</td>\n",
       "      <td>0.0</td>\n",
       "      <td>0.0</td>\n",
       "      <td>messenger</td>\n",
       "    </tr>\n",
       "    <tr>\n",
       "      <th>20221117_125310_4_15</th>\n",
       "      <td>849.363636</td>\n",
       "      <td>668.909091</td>\n",
       "      <td>488.454545</td>\n",
       "      <td>308.0</td>\n",
       "      <td>258.0</td>\n",
       "      <td>318.823529</td>\n",
       "      <td>374.048588</td>\n",
       "      <td>429.273647</td>\n",
       "      <td>484.498705</td>\n",
       "      <td>539.723764</td>\n",
       "      <td>...</td>\n",
       "      <td>0.0</td>\n",
       "      <td>0.0</td>\n",
       "      <td>0.0</td>\n",
       "      <td>0.0</td>\n",
       "      <td>0.0</td>\n",
       "      <td>0.0</td>\n",
       "      <td>0.0</td>\n",
       "      <td>0.0</td>\n",
       "      <td>0.0</td>\n",
       "      <td>messenger</td>\n",
       "    </tr>\n",
       "    <tr>\n",
       "      <th>20221117_125310_4_30</th>\n",
       "      <td>1876.837209</td>\n",
       "      <td>701.0</td>\n",
       "      <td>523.5</td>\n",
       "      <td>290.0</td>\n",
       "      <td>328.0</td>\n",
       "      <td>324.903226</td>\n",
       "      <td>459.450635</td>\n",
       "      <td>593.998045</td>\n",
       "      <td>728.545455</td>\n",
       "      <td>730.666667</td>\n",
       "      <td>...</td>\n",
       "      <td>0.0</td>\n",
       "      <td>0.0</td>\n",
       "      <td>0.0</td>\n",
       "      <td>0.0</td>\n",
       "      <td>0.0</td>\n",
       "      <td>0.0</td>\n",
       "      <td>0.0</td>\n",
       "      <td>0.0</td>\n",
       "      <td>0.0</td>\n",
       "      <td>messenger</td>\n",
       "    </tr>\n",
       "    <tr>\n",
       "      <th>20221117_125310_4_45</th>\n",
       "      <td>291.333333</td>\n",
       "      <td>275.666667</td>\n",
       "      <td>260.0</td>\n",
       "      <td>490.0</td>\n",
       "      <td>720.0</td>\n",
       "      <td>372.0</td>\n",
       "      <td>364.8</td>\n",
       "      <td>357.6</td>\n",
       "      <td>350.4</td>\n",
       "      <td>343.2</td>\n",
       "      <td>...</td>\n",
       "      <td>0.0</td>\n",
       "      <td>0.0</td>\n",
       "      <td>0.0</td>\n",
       "      <td>0.0</td>\n",
       "      <td>0.0</td>\n",
       "      <td>0.0</td>\n",
       "      <td>0.0</td>\n",
       "      <td>0.0</td>\n",
       "      <td>0.0</td>\n",
       "      <td>messenger</td>\n",
       "    </tr>\n",
       "    <tr>\n",
       "      <th>20221117_125310_4_60</th>\n",
       "      <td>300.0</td>\n",
       "      <td>300.933333</td>\n",
       "      <td>301.866667</td>\n",
       "      <td>302.8</td>\n",
       "      <td>310.4</td>\n",
       "      <td>390.25</td>\n",
       "      <td>464.150568</td>\n",
       "      <td>538.051136</td>\n",
       "      <td>611.951705</td>\n",
       "      <td>685.852273</td>\n",
       "      <td>...</td>\n",
       "      <td>0.0</td>\n",
       "      <td>0.0</td>\n",
       "      <td>0.0</td>\n",
       "      <td>0.0</td>\n",
       "      <td>0.0</td>\n",
       "      <td>0.0</td>\n",
       "      <td>0.0</td>\n",
       "      <td>0.0</td>\n",
       "      <td>0.0</td>\n",
       "      <td>messenger</td>\n",
       "    </tr>\n",
       "    <tr>\n",
       "      <th>...</th>\n",
       "      <td>...</td>\n",
       "      <td>...</td>\n",
       "      <td>...</td>\n",
       "      <td>...</td>\n",
       "      <td>...</td>\n",
       "      <td>...</td>\n",
       "      <td>...</td>\n",
       "      <td>...</td>\n",
       "      <td>...</td>\n",
       "      <td>...</td>\n",
       "      <td>...</td>\n",
       "      <td>...</td>\n",
       "      <td>...</td>\n",
       "      <td>...</td>\n",
       "      <td>...</td>\n",
       "      <td>...</td>\n",
       "      <td>...</td>\n",
       "      <td>...</td>\n",
       "      <td>...</td>\n",
       "      <td>...</td>\n",
       "      <td>...</td>\n",
       "    </tr>\n",
       "    <tr>\n",
       "      <th>20230124_124323_161_150</th>\n",
       "      <td>427.333333</td>\n",
       "      <td>1000.563654</td>\n",
       "      <td>1573.793975</td>\n",
       "      <td>2147.024295</td>\n",
       "      <td>2720.254616</td>\n",
       "      <td>3293.484937</td>\n",
       "      <td>3866.715258</td>\n",
       "      <td>4439.945578</td>\n",
       "      <td>3762.0</td>\n",
       "      <td>3435.111111</td>\n",
       "      <td>...</td>\n",
       "      <td>0.0</td>\n",
       "      <td>0.0</td>\n",
       "      <td>0.0</td>\n",
       "      <td>0.0</td>\n",
       "      <td>0.0</td>\n",
       "      <td>0.0</td>\n",
       "      <td>0.0</td>\n",
       "      <td>0.0</td>\n",
       "      <td>0.0</td>\n",
       "      <td>youtube</td>\n",
       "    </tr>\n",
       "    <tr>\n",
       "      <th>20230124_124323_166_0</th>\n",
       "      <td>291.877966</td>\n",
       "      <td>264.320802</td>\n",
       "      <td>842.880535</td>\n",
       "      <td>1421.440267</td>\n",
       "      <td>2000.0</td>\n",
       "      <td>1693.485714</td>\n",
       "      <td>1386.971429</td>\n",
       "      <td>1080.457143</td>\n",
       "      <td>773.942857</td>\n",
       "      <td>467.428571</td>\n",
       "      <td>...</td>\n",
       "      <td>0.0</td>\n",
       "      <td>0.0</td>\n",
       "      <td>0.0</td>\n",
       "      <td>0.0</td>\n",
       "      <td>0.0</td>\n",
       "      <td>0.0</td>\n",
       "      <td>0.0</td>\n",
       "      <td>0.0</td>\n",
       "      <td>0.0</td>\n",
       "      <td>youtube</td>\n",
       "    </tr>\n",
       "    <tr>\n",
       "      <th>20230124_124323_166_15</th>\n",
       "      <td>1294.42957</td>\n",
       "      <td>1271.768232</td>\n",
       "      <td>1249.106893</td>\n",
       "      <td>1226.445554</td>\n",
       "      <td>1203.784216</td>\n",
       "      <td>1181.122877</td>\n",
       "      <td>1158.461538</td>\n",
       "      <td>734.688525</td>\n",
       "      <td>685.501944</td>\n",
       "      <td>636.315363</td>\n",
       "      <td>...</td>\n",
       "      <td>0.0</td>\n",
       "      <td>0.0</td>\n",
       "      <td>0.0</td>\n",
       "      <td>0.0</td>\n",
       "      <td>0.0</td>\n",
       "      <td>0.0</td>\n",
       "      <td>0.0</td>\n",
       "      <td>0.0</td>\n",
       "      <td>0.0</td>\n",
       "      <td>youtube</td>\n",
       "    </tr>\n",
       "    <tr>\n",
       "      <th>20230124_124323_166_30</th>\n",
       "      <td>341.195876</td>\n",
       "      <td>2458.325333</td>\n",
       "      <td>2424.260267</td>\n",
       "      <td>2390.1952</td>\n",
       "      <td>2356.130133</td>\n",
       "      <td>2322.065067</td>\n",
       "      <td>2288.0</td>\n",
       "      <td>1816.727273</td>\n",
       "      <td>1345.454545</td>\n",
       "      <td>874.181818</td>\n",
       "      <td>...</td>\n",
       "      <td>0.0</td>\n",
       "      <td>0.0</td>\n",
       "      <td>0.0</td>\n",
       "      <td>0.0</td>\n",
       "      <td>0.0</td>\n",
       "      <td>0.0</td>\n",
       "      <td>0.0</td>\n",
       "      <td>0.0</td>\n",
       "      <td>0.0</td>\n",
       "      <td>youtube</td>\n",
       "    </tr>\n",
       "    <tr>\n",
       "      <th>20230124_124323_166_45</th>\n",
       "      <td>1329.99413</td>\n",
       "      <td>1138.457862</td>\n",
       "      <td>946.921593</td>\n",
       "      <td>755.385325</td>\n",
       "      <td>563.849057</td>\n",
       "      <td>708.165289</td>\n",
       "      <td>732.261136</td>\n",
       "      <td>756.356983</td>\n",
       "      <td>780.45283</td>\n",
       "      <td>743.585185</td>\n",
       "      <td>...</td>\n",
       "      <td>0.0</td>\n",
       "      <td>0.0</td>\n",
       "      <td>0.0</td>\n",
       "      <td>0.0</td>\n",
       "      <td>0.0</td>\n",
       "      <td>0.0</td>\n",
       "      <td>0.0</td>\n",
       "      <td>0.0</td>\n",
       "      <td>0.0</td>\n",
       "      <td>youtube</td>\n",
       "    </tr>\n",
       "  </tbody>\n",
       "</table>\n",
       "<p>23772 rows × 121 columns</p>\n",
       "</div>"
      ],
      "text/plain": [
       "                                   0            1            2            3  \\\n",
       "20221117_125310_4_0            320.0   914.730159  1509.460317  1245.169231   \n",
       "20221117_125310_4_15      849.363636   668.909091   488.454545        308.0   \n",
       "20221117_125310_4_30     1876.837209        701.0        523.5        290.0   \n",
       "20221117_125310_4_45      291.333333   275.666667        260.0        490.0   \n",
       "20221117_125310_4_60           300.0   300.933333   301.866667        302.8   \n",
       "...                              ...          ...          ...          ...   \n",
       "20230124_124323_161_150   427.333333  1000.563654  1573.793975  2147.024295   \n",
       "20230124_124323_166_0     291.877966   264.320802   842.880535  1421.440267   \n",
       "20230124_124323_166_15    1294.42957  1271.768232  1249.106893  1226.445554   \n",
       "20230124_124323_166_30    341.195876  2458.325333  2424.260267    2390.1952   \n",
       "20230124_124323_166_45    1329.99413  1138.457862   946.921593   755.385325   \n",
       "\n",
       "                                   4            5            6            7  \\\n",
       "20221117_125310_4_0      1546.434783  1308.988235   258.666667   355.060606   \n",
       "20221117_125310_4_15           258.0   318.823529   374.048588   429.273647   \n",
       "20221117_125310_4_30           328.0   324.903226   459.450635   593.998045   \n",
       "20221117_125310_4_45           720.0        372.0        364.8        357.6   \n",
       "20221117_125310_4_60           310.4       390.25   464.150568   538.051136   \n",
       "...                              ...          ...          ...          ...   \n",
       "20230124_124323_161_150  2720.254616  3293.484937  3866.715258  4439.945578   \n",
       "20230124_124323_166_0         2000.0  1693.485714  1386.971429  1080.457143   \n",
       "20230124_124323_166_15   1203.784216  1181.122877  1158.461538   734.688525   \n",
       "20230124_124323_166_30   2356.130133  2322.065067       2288.0  1816.727273   \n",
       "20230124_124323_166_45    563.849057   708.165289   732.261136   756.356983   \n",
       "\n",
       "                                   8            9  ...  111  112  113  114  \\\n",
       "20221117_125310_4_0       451.454545   547.848485  ...  0.0  0.0  0.0  0.0   \n",
       "20221117_125310_4_15      484.498705   539.723764  ...  0.0  0.0  0.0  0.0   \n",
       "20221117_125310_4_30      728.545455   730.666667  ...  0.0  0.0  0.0  0.0   \n",
       "20221117_125310_4_45           350.4        343.2  ...  0.0  0.0  0.0  0.0   \n",
       "20221117_125310_4_60      611.951705   685.852273  ...  0.0  0.0  0.0  0.0   \n",
       "...                              ...          ...  ...  ...  ...  ...  ...   \n",
       "20230124_124323_161_150       3762.0  3435.111111  ...  0.0  0.0  0.0  0.0   \n",
       "20230124_124323_166_0     773.942857   467.428571  ...  0.0  0.0  0.0  0.0   \n",
       "20230124_124323_166_15    685.501944   636.315363  ...  0.0  0.0  0.0  0.0   \n",
       "20230124_124323_166_30   1345.454545   874.181818  ...  0.0  0.0  0.0  0.0   \n",
       "20230124_124323_166_45     780.45283   743.585185  ...  0.0  0.0  0.0  0.0   \n",
       "\n",
       "                         115  116  117  118  119      label  \n",
       "20221117_125310_4_0      0.0  0.0  0.0  0.0  0.0  messenger  \n",
       "20221117_125310_4_15     0.0  0.0  0.0  0.0  0.0  messenger  \n",
       "20221117_125310_4_30     0.0  0.0  0.0  0.0  0.0  messenger  \n",
       "20221117_125310_4_45     0.0  0.0  0.0  0.0  0.0  messenger  \n",
       "20221117_125310_4_60     0.0  0.0  0.0  0.0  0.0  messenger  \n",
       "...                      ...  ...  ...  ...  ...        ...  \n",
       "20230124_124323_161_150  0.0  0.0  0.0  0.0  0.0    youtube  \n",
       "20230124_124323_166_0    0.0  0.0  0.0  0.0  0.0    youtube  \n",
       "20230124_124323_166_15   0.0  0.0  0.0  0.0  0.0    youtube  \n",
       "20230124_124323_166_30   0.0  0.0  0.0  0.0  0.0    youtube  \n",
       "20230124_124323_166_45   0.0  0.0  0.0  0.0  0.0    youtube  \n",
       "\n",
       "[23772 rows x 121 columns]"
      ]
     },
     "execution_count": 5,
     "metadata": {},
     "output_type": "execute_result"
    }
   ],
   "source": [
    "df_train"
   ]
  },
  {
   "cell_type": "code",
   "execution_count": null,
   "id": "4a576840",
   "metadata": {
    "scrolled": true
   },
   "outputs": [],
   "source": []
  },
  {
   "cell_type": "code",
   "execution_count": 6,
   "id": "bf3fd682",
   "metadata": {},
   "outputs": [
    {
     "name": "stdout",
     "output_type": "stream",
     "text": [
      "20221124_151137_4_0       messenger\n",
      "20221124_151137_4_15      messenger\n",
      "20221124_151137_4_30      messenger\n",
      "20221124_151137_4_45      messenger\n",
      "20221124_151137_4_60      messenger\n",
      "                            ...    \n",
      "20230117_121925_262_45      youtube\n",
      "20230117_121925_263_0       youtube\n",
      "20230117_121925_263_15      youtube\n",
      "20230117_121925_263_30      youtube\n",
      "20230117_121925_263_45      youtube\n",
      "Name: label, Length: 10078, dtype: object\n"
     ]
    },
    {
     "data": {
      "text/html": [
       "<div>\n",
       "<style scoped>\n",
       "    .dataframe tbody tr th:only-of-type {\n",
       "        vertical-align: middle;\n",
       "    }\n",
       "\n",
       "    .dataframe tbody tr th {\n",
       "        vertical-align: top;\n",
       "    }\n",
       "\n",
       "    .dataframe thead th {\n",
       "        text-align: right;\n",
       "    }\n",
       "</style>\n",
       "<table border=\"1\" class=\"dataframe\">\n",
       "  <thead>\n",
       "    <tr style=\"text-align: right;\">\n",
       "      <th></th>\n",
       "      <th>0</th>\n",
       "      <th>1</th>\n",
       "      <th>2</th>\n",
       "      <th>3</th>\n",
       "      <th>4</th>\n",
       "      <th>5</th>\n",
       "      <th>6</th>\n",
       "      <th>7</th>\n",
       "      <th>8</th>\n",
       "      <th>9</th>\n",
       "      <th>...</th>\n",
       "      <th>111</th>\n",
       "      <th>112</th>\n",
       "      <th>113</th>\n",
       "      <th>114</th>\n",
       "      <th>115</th>\n",
       "      <th>116</th>\n",
       "      <th>117</th>\n",
       "      <th>118</th>\n",
       "      <th>119</th>\n",
       "      <th>label</th>\n",
       "    </tr>\n",
       "    <tr>\n",
       "      <th>id</th>\n",
       "      <th></th>\n",
       "      <th></th>\n",
       "      <th></th>\n",
       "      <th></th>\n",
       "      <th></th>\n",
       "      <th></th>\n",
       "      <th></th>\n",
       "      <th></th>\n",
       "      <th></th>\n",
       "      <th></th>\n",
       "      <th></th>\n",
       "      <th></th>\n",
       "      <th></th>\n",
       "      <th></th>\n",
       "      <th></th>\n",
       "      <th></th>\n",
       "      <th></th>\n",
       "      <th></th>\n",
       "      <th></th>\n",
       "      <th></th>\n",
       "      <th></th>\n",
       "    </tr>\n",
       "  </thead>\n",
       "  <tbody>\n",
       "    <tr>\n",
       "      <th>20221117_125310_4_0</th>\n",
       "      <td>-1.710771</td>\n",
       "      <td>-1.322731</td>\n",
       "      <td>-0.900294</td>\n",
       "      <td>-1.089258</td>\n",
       "      <td>-0.882544</td>\n",
       "      <td>-1.019323</td>\n",
       "      <td>-1.766478</td>\n",
       "      <td>-1.672280</td>\n",
       "      <td>-1.612701</td>\n",
       "      <td>-1.548966</td>\n",
       "      <td>...</td>\n",
       "      <td>-0.034104</td>\n",
       "      <td>-0.033999</td>\n",
       "      <td>-0.033402</td>\n",
       "      <td>-0.03427</td>\n",
       "      <td>-0.033885</td>\n",
       "      <td>-0.032043</td>\n",
       "      <td>-0.03529</td>\n",
       "      <td>-0.034987</td>\n",
       "      <td>-0.035087</td>\n",
       "      <td>messenger</td>\n",
       "    </tr>\n",
       "    <tr>\n",
       "      <th>20221117_125310_4_15</th>\n",
       "      <td>-1.336968</td>\n",
       "      <td>-1.499654</td>\n",
       "      <td>-1.633905</td>\n",
       "      <td>-1.763269</td>\n",
       "      <td>-1.824246</td>\n",
       "      <td>-1.716159</td>\n",
       "      <td>-1.685009</td>\n",
       "      <td>-1.620764</td>\n",
       "      <td>-1.589686</td>\n",
       "      <td>-1.554624</td>\n",
       "      <td>...</td>\n",
       "      <td>-0.034104</td>\n",
       "      <td>-0.033999</td>\n",
       "      <td>-0.033402</td>\n",
       "      <td>-0.03427</td>\n",
       "      <td>-0.033885</td>\n",
       "      <td>-0.032043</td>\n",
       "      <td>-0.03529</td>\n",
       "      <td>-0.034987</td>\n",
       "      <td>-0.035087</td>\n",
       "      <td>messenger</td>\n",
       "    </tr>\n",
       "    <tr>\n",
       "      <th>20221117_125310_4_30</th>\n",
       "      <td>-0.611432</td>\n",
       "      <td>-1.476557</td>\n",
       "      <td>-1.608724</td>\n",
       "      <td>-1.776215</td>\n",
       "      <td>-1.773084</td>\n",
       "      <td>-1.711880</td>\n",
       "      <td>-1.624708</td>\n",
       "      <td>-1.506420</td>\n",
       "      <td>-1.419712</td>\n",
       "      <td>-1.421638</td>\n",
       "      <td>...</td>\n",
       "      <td>-0.034104</td>\n",
       "      <td>-0.033999</td>\n",
       "      <td>-0.033402</td>\n",
       "      <td>-0.03427</td>\n",
       "      <td>-0.033885</td>\n",
       "      <td>-0.032043</td>\n",
       "      <td>-0.03529</td>\n",
       "      <td>-0.034987</td>\n",
       "      <td>-0.035087</td>\n",
       "      <td>messenger</td>\n",
       "    </tr>\n",
       "    <tr>\n",
       "      <th>20221117_125310_4_45</th>\n",
       "      <td>-1.731013</td>\n",
       "      <td>-1.782678</td>\n",
       "      <td>-1.798054</td>\n",
       "      <td>-1.632375</td>\n",
       "      <td>-1.486576</td>\n",
       "      <td>-1.678736</td>\n",
       "      <td>-1.691539</td>\n",
       "      <td>-1.670517</td>\n",
       "      <td>-1.683084</td>\n",
       "      <td>-1.691498</td>\n",
       "      <td>...</td>\n",
       "      <td>-0.034104</td>\n",
       "      <td>-0.033999</td>\n",
       "      <td>-0.033402</td>\n",
       "      <td>-0.03427</td>\n",
       "      <td>-0.033885</td>\n",
       "      <td>-0.032043</td>\n",
       "      <td>-0.03529</td>\n",
       "      <td>-0.034987</td>\n",
       "      <td>-0.035087</td>\n",
       "      <td>messenger</td>\n",
       "    </tr>\n",
       "    <tr>\n",
       "      <th>20221117_125310_4_60</th>\n",
       "      <td>-1.724893</td>\n",
       "      <td>-1.764493</td>\n",
       "      <td>-1.767972</td>\n",
       "      <td>-1.767009</td>\n",
       "      <td>-1.785948</td>\n",
       "      <td>-1.665892</td>\n",
       "      <td>-1.621390</td>\n",
       "      <td>-1.545256</td>\n",
       "      <td>-1.500917</td>\n",
       "      <td>-1.452850</td>\n",
       "      <td>...</td>\n",
       "      <td>-0.034104</td>\n",
       "      <td>-0.033999</td>\n",
       "      <td>-0.033402</td>\n",
       "      <td>-0.03427</td>\n",
       "      <td>-0.033885</td>\n",
       "      <td>-0.032043</td>\n",
       "      <td>-0.03529</td>\n",
       "      <td>-0.034987</td>\n",
       "      <td>-0.035087</td>\n",
       "      <td>messenger</td>\n",
       "    </tr>\n",
       "    <tr>\n",
       "      <th>...</th>\n",
       "      <td>...</td>\n",
       "      <td>...</td>\n",
       "      <td>...</td>\n",
       "      <td>...</td>\n",
       "      <td>...</td>\n",
       "      <td>...</td>\n",
       "      <td>...</td>\n",
       "      <td>...</td>\n",
       "      <td>...</td>\n",
       "      <td>...</td>\n",
       "      <td>...</td>\n",
       "      <td>...</td>\n",
       "      <td>...</td>\n",
       "      <td>...</td>\n",
       "      <td>...</td>\n",
       "      <td>...</td>\n",
       "      <td>...</td>\n",
       "      <td>...</td>\n",
       "      <td>...</td>\n",
       "      <td>...</td>\n",
       "      <td>...</td>\n",
       "    </tr>\n",
       "    <tr>\n",
       "      <th>20230124_124323_161_150</th>\n",
       "      <td>-1.634979</td>\n",
       "      <td>-1.260955</td>\n",
       "      <td>-0.854069</td>\n",
       "      <td>-0.440644</td>\n",
       "      <td>-0.024613</td>\n",
       "      <td>0.377281</td>\n",
       "      <td>0.781103</td>\n",
       "      <td>1.163259</td>\n",
       "      <td>0.693039</td>\n",
       "      <td>0.461937</td>\n",
       "      <td>...</td>\n",
       "      <td>-0.034104</td>\n",
       "      <td>-0.033999</td>\n",
       "      <td>-0.033402</td>\n",
       "      <td>-0.03427</td>\n",
       "      <td>-0.033885</td>\n",
       "      <td>-0.032043</td>\n",
       "      <td>-0.03529</td>\n",
       "      <td>-0.034987</td>\n",
       "      <td>-0.035087</td>\n",
       "      <td>youtube</td>\n",
       "    </tr>\n",
       "    <tr>\n",
       "      <th>20230124_124323_166_0</th>\n",
       "      <td>-1.730629</td>\n",
       "      <td>-1.790844</td>\n",
       "      <td>-1.379243</td>\n",
       "      <td>-0.962484</td>\n",
       "      <td>-0.551039</td>\n",
       "      <td>-0.748730</td>\n",
       "      <td>-0.969802</td>\n",
       "      <td>-1.168743</td>\n",
       "      <td>-1.388093</td>\n",
       "      <td>-1.604976</td>\n",
       "      <td>...</td>\n",
       "      <td>-0.034104</td>\n",
       "      <td>-0.033999</td>\n",
       "      <td>-0.033402</td>\n",
       "      <td>-0.03427</td>\n",
       "      <td>-0.033885</td>\n",
       "      <td>-0.032043</td>\n",
       "      <td>-0.03529</td>\n",
       "      <td>-0.034987</td>\n",
       "      <td>-0.035087</td>\n",
       "      <td>youtube</td>\n",
       "    </tr>\n",
       "    <tr>\n",
       "      <th>20230124_124323_166_15</th>\n",
       "      <td>-1.022691</td>\n",
       "      <td>-1.065764</td>\n",
       "      <td>-1.087363</td>\n",
       "      <td>-1.102724</td>\n",
       "      <td>-1.132984</td>\n",
       "      <td>-1.109310</td>\n",
       "      <td>-1.131148</td>\n",
       "      <td>-1.408759</td>\n",
       "      <td>-1.449691</td>\n",
       "      <td>-1.487351</td>\n",
       "      <td>...</td>\n",
       "      <td>-0.034104</td>\n",
       "      <td>-0.033999</td>\n",
       "      <td>-0.033402</td>\n",
       "      <td>-0.03427</td>\n",
       "      <td>-0.033885</td>\n",
       "      <td>-0.032043</td>\n",
       "      <td>-0.03529</td>\n",
       "      <td>-0.034987</td>\n",
       "      <td>-0.035087</td>\n",
       "      <td>youtube</td>\n",
       "    </tr>\n",
       "    <tr>\n",
       "      <th>20230124_124323_166_30</th>\n",
       "      <td>-1.695803</td>\n",
       "      <td>-0.211774</td>\n",
       "      <td>-0.242994</td>\n",
       "      <td>-0.265756</td>\n",
       "      <td>-0.290747</td>\n",
       "      <td>-0.306363</td>\n",
       "      <td>-0.333601</td>\n",
       "      <td>-0.657658</td>\n",
       "      <td>-0.990045</td>\n",
       "      <td>-1.321683</td>\n",
       "      <td>...</td>\n",
       "      <td>-0.034104</td>\n",
       "      <td>-0.033999</td>\n",
       "      <td>-0.033402</td>\n",
       "      <td>-0.03427</td>\n",
       "      <td>-0.033885</td>\n",
       "      <td>-0.032043</td>\n",
       "      <td>-0.03529</td>\n",
       "      <td>-0.034987</td>\n",
       "      <td>-0.035087</td>\n",
       "      <td>youtube</td>\n",
       "    </tr>\n",
       "    <tr>\n",
       "      <th>20230124_124323_166_45</th>\n",
       "      <td>-0.997578</td>\n",
       "      <td>-1.161710</td>\n",
       "      <td>-1.304488</td>\n",
       "      <td>-1.441510</td>\n",
       "      <td>-1.600705</td>\n",
       "      <td>-1.442157</td>\n",
       "      <td>-1.432081</td>\n",
       "      <td>-1.393718</td>\n",
       "      <td>-1.383559</td>\n",
       "      <td>-1.412640</td>\n",
       "      <td>...</td>\n",
       "      <td>-0.034104</td>\n",
       "      <td>-0.033999</td>\n",
       "      <td>-0.033402</td>\n",
       "      <td>-0.03427</td>\n",
       "      <td>-0.033885</td>\n",
       "      <td>-0.032043</td>\n",
       "      <td>-0.03529</td>\n",
       "      <td>-0.034987</td>\n",
       "      <td>-0.035087</td>\n",
       "      <td>youtube</td>\n",
       "    </tr>\n",
       "  </tbody>\n",
       "</table>\n",
       "<p>23772 rows × 121 columns</p>\n",
       "</div>"
      ],
      "text/plain": [
       "                                0         1         2         3         4  \\\n",
       "id                                                                          \n",
       "20221117_125310_4_0     -1.710771 -1.322731 -0.900294 -1.089258 -0.882544   \n",
       "20221117_125310_4_15    -1.336968 -1.499654 -1.633905 -1.763269 -1.824246   \n",
       "20221117_125310_4_30    -0.611432 -1.476557 -1.608724 -1.776215 -1.773084   \n",
       "20221117_125310_4_45    -1.731013 -1.782678 -1.798054 -1.632375 -1.486576   \n",
       "20221117_125310_4_60    -1.724893 -1.764493 -1.767972 -1.767009 -1.785948   \n",
       "...                           ...       ...       ...       ...       ...   \n",
       "20230124_124323_161_150 -1.634979 -1.260955 -0.854069 -0.440644 -0.024613   \n",
       "20230124_124323_166_0   -1.730629 -1.790844 -1.379243 -0.962484 -0.551039   \n",
       "20230124_124323_166_15  -1.022691 -1.065764 -1.087363 -1.102724 -1.132984   \n",
       "20230124_124323_166_30  -1.695803 -0.211774 -0.242994 -0.265756 -0.290747   \n",
       "20230124_124323_166_45  -0.997578 -1.161710 -1.304488 -1.441510 -1.600705   \n",
       "\n",
       "                                5         6         7         8         9  \\\n",
       "id                                                                          \n",
       "20221117_125310_4_0     -1.019323 -1.766478 -1.672280 -1.612701 -1.548966   \n",
       "20221117_125310_4_15    -1.716159 -1.685009 -1.620764 -1.589686 -1.554624   \n",
       "20221117_125310_4_30    -1.711880 -1.624708 -1.506420 -1.419712 -1.421638   \n",
       "20221117_125310_4_45    -1.678736 -1.691539 -1.670517 -1.683084 -1.691498   \n",
       "20221117_125310_4_60    -1.665892 -1.621390 -1.545256 -1.500917 -1.452850   \n",
       "...                           ...       ...       ...       ...       ...   \n",
       "20230124_124323_161_150  0.377281  0.781103  1.163259  0.693039  0.461937   \n",
       "20230124_124323_166_0   -0.748730 -0.969802 -1.168743 -1.388093 -1.604976   \n",
       "20230124_124323_166_15  -1.109310 -1.131148 -1.408759 -1.449691 -1.487351   \n",
       "20230124_124323_166_30  -0.306363 -0.333601 -0.657658 -0.990045 -1.321683   \n",
       "20230124_124323_166_45  -1.442157 -1.432081 -1.393718 -1.383559 -1.412640   \n",
       "\n",
       "                         ...       111       112       113      114       115  \\\n",
       "id                       ...                                                    \n",
       "20221117_125310_4_0      ... -0.034104 -0.033999 -0.033402 -0.03427 -0.033885   \n",
       "20221117_125310_4_15     ... -0.034104 -0.033999 -0.033402 -0.03427 -0.033885   \n",
       "20221117_125310_4_30     ... -0.034104 -0.033999 -0.033402 -0.03427 -0.033885   \n",
       "20221117_125310_4_45     ... -0.034104 -0.033999 -0.033402 -0.03427 -0.033885   \n",
       "20221117_125310_4_60     ... -0.034104 -0.033999 -0.033402 -0.03427 -0.033885   \n",
       "...                      ...       ...       ...       ...      ...       ...   \n",
       "20230124_124323_161_150  ... -0.034104 -0.033999 -0.033402 -0.03427 -0.033885   \n",
       "20230124_124323_166_0    ... -0.034104 -0.033999 -0.033402 -0.03427 -0.033885   \n",
       "20230124_124323_166_15   ... -0.034104 -0.033999 -0.033402 -0.03427 -0.033885   \n",
       "20230124_124323_166_30   ... -0.034104 -0.033999 -0.033402 -0.03427 -0.033885   \n",
       "20230124_124323_166_45   ... -0.034104 -0.033999 -0.033402 -0.03427 -0.033885   \n",
       "\n",
       "                              116      117       118       119      label  \n",
       "id                                                                         \n",
       "20221117_125310_4_0     -0.032043 -0.03529 -0.034987 -0.035087  messenger  \n",
       "20221117_125310_4_15    -0.032043 -0.03529 -0.034987 -0.035087  messenger  \n",
       "20221117_125310_4_30    -0.032043 -0.03529 -0.034987 -0.035087  messenger  \n",
       "20221117_125310_4_45    -0.032043 -0.03529 -0.034987 -0.035087  messenger  \n",
       "20221117_125310_4_60    -0.032043 -0.03529 -0.034987 -0.035087  messenger  \n",
       "...                           ...      ...       ...       ...        ...  \n",
       "20230124_124323_161_150 -0.032043 -0.03529 -0.034987 -0.035087    youtube  \n",
       "20230124_124323_166_0   -0.032043 -0.03529 -0.034987 -0.035087    youtube  \n",
       "20230124_124323_166_15  -0.032043 -0.03529 -0.034987 -0.035087    youtube  \n",
       "20230124_124323_166_30  -0.032043 -0.03529 -0.034987 -0.035087    youtube  \n",
       "20230124_124323_166_45  -0.032043 -0.03529 -0.034987 -0.035087    youtube  \n",
       "\n",
       "[23772 rows x 121 columns]"
      ]
     },
     "execution_count": 6,
     "metadata": {},
     "output_type": "execute_result"
    }
   ],
   "source": [
    "scaler = Scaler_Metrics()\n",
    "training_data = scaler.fit_transform(df_train)\n",
    "testing_data = scaler.transform(df_test)\n",
    "training_data"
   ]
  },
  {
   "cell_type": "code",
   "execution_count": 7,
   "id": "f11a95df",
   "metadata": {},
   "outputs": [],
   "source": [
    "training_data = training_data[training_data .label!=\"noise\"]\n",
    "testing_data = testing_data[testing_data .label!=\"noise\"]"
   ]
  },
  {
   "cell_type": "code",
   "execution_count": 8,
   "id": "f9ef54a7",
   "metadata": {},
   "outputs": [],
   "source": [
    "# Train + Evaluate"
   ]
  },
  {
   "cell_type": "code",
   "execution_count": null,
   "id": "5a9f5735",
   "metadata": {},
   "outputs": [],
   "source": []
  },
  {
   "cell_type": "code",
   "execution_count": 9,
   "id": "2cfd1779",
   "metadata": {},
   "outputs": [
    {
     "name": "stdout",
     "output_type": "stream",
     "text": [
      "Training Duration : 23.0899298 s for a dataset length of 23565\n"
     ]
    }
   ],
   "source": [
    "time_counter = time.time_ns()\n",
    "\n",
    "model = RandomForestClassifier(class_weight = \"balanced\")\n",
    "model.fit(training_data[training_data.columns[:-1]], training_data.label)\n",
    "\n",
    "training_duration = (time.time_ns() - time_counter)/(10**9)\n",
    "print(f\"Training Duration : {training_duration} s for a dataset length of {len(training_data.label)}\")"
   ]
  },
  {
   "cell_type": "code",
   "execution_count": 10,
   "id": "2a85b365",
   "metadata": {},
   "outputs": [
    {
     "name": "stdout",
     "output_type": "stream",
     "text": [
      "Testing Duration : 0.2588815 s for a dataset length of 10068\n",
      "Testing Duration per data : 0.02571329956297179 ms\n"
     ]
    }
   ],
   "source": [
    "# mesure efficiency\n",
    "time_counter = time.time_ns()\n",
    "\n",
    "preds_labels =  model.predict(testing_data[testing_data.columns[:-1]])\n",
    "true_labels = testing_data.label\n",
    "\n",
    "testing_duration = (time.time_ns() - time_counter)/(10**9)\n",
    "print(f\"Testing Duration : {testing_duration} s for a dataset length of {len(testing_data.label)}\")\n",
    "testing_duration_per_item = testing_duration*(10**3)/len(testing_data.label)\n",
    "print(f\"Testing Duration per data : {testing_duration_per_item} ms\")"
   ]
  },
  {
   "cell_type": "code",
   "execution_count": 11,
   "id": "28e260ea",
   "metadata": {},
   "outputs": [
    {
     "name": "stdout",
     "output_type": "stream",
     "text": [
      "normalized confusion matrix\n"
     ]
    },
    {
     "data": {
      "image/png": "[encoded data removed]",
      "text/plain": [
       "<Figure size 432x432 with 2 Axes>"
      ]
     },
     "metadata": {
      "needs_background": "light"
     },
     "output_type": "display_data"
    }
   ],
   "source": [
    "plot_confusion_matrix(true_labels,preds_labels)"
   ]
  },
  {
   "cell_type": "code",
   "execution_count": 12,
   "id": "aaebe96d",
   "metadata": {},
   "outputs": [
    {
     "data": {
      "text/plain": [
       "{'Accuracy': 0.7454713322067378,\n",
       " 'Precision': 0.8468723410869977,\n",
       " 'Recall': 0.4640444974175606,\n",
       " 'F1_Score': 0.4817432729557786,\n",
       " 'support': None}"
      ]
     },
     "execution_count": 12,
     "metadata": {},
     "output_type": "execute_result"
    }
   ],
   "source": [
    "get_scores(true_labels,preds_labels)"
   ]
  },
  {
   "cell_type": "code",
   "execution_count": 13,
   "id": "80392176",
   "metadata": {},
   "outputs": [
    {
     "data": {
      "image/png": "[encoded data removed]",
      "text/plain": [
       "<Figure size 432x288 with 1 Axes>"
      ]
     },
     "metadata": {
      "needs_background": "light"
     },
     "output_type": "display_data"
    }
   ],
   "source": [
    "plot_feature_importance(model, training_data.columns[:-1])"
   ]
  },
  {
   "cell_type": "code",
   "execution_count": null,
   "id": "a5f02e81",
   "metadata": {},
   "outputs": [],
   "source": []
  },
  {
   "cell_type": "code",
   "execution_count": null,
   "id": "1261f57b",
   "metadata": {},
   "outputs": [],
   "source": []
  },
  {
   "cell_type": "code",
   "execution_count": null,
   "id": "d8abbb5a",
   "metadata": {},
   "outputs": [],
   "source": []
  }
 ],
 "metadata": {
  "kernelspec": {
   "display_name": "Python 3",
   "language": "python",
   "name": "python3"
  },
  "language_info": {
   "codemirror_mode": {
    "name": "ipython",
    "version": 3
   },
   "file_extension": ".py",
   "mimetype": "text/x-python",
   "name": "python",
   "nbconvert_exporter": "python",
   "pygments_lexer": "ipython3",
   "version": "3.8.8"
  }
 },
 "nbformat": 4,
 "nbformat_minor": 5
}
