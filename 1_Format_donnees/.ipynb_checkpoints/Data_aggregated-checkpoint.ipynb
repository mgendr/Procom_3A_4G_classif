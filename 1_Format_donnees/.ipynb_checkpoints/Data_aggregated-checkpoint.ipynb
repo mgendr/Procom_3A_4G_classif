{
 "cells": [
  {
   "cell_type": "code",
   "execution_count": 1,
   "id": "4c53af1c",
   "metadata": {},
   "outputs": [],
   "source": [
    "import os\n",
    "import pandas as pd\n",
    "import warnings\n",
    "#import matplotlib.pyplot as plt\n",
    "import sys\n",
    "import numpy as np\n",
    "#import seaborn as sns\n",
    "\n",
    "from tqdm import tqdm\n",
    "#from random import randint\n",
    "#from sklearn.model_selection import train_test_split\n",
    "\n",
    "#import itertools\n",
    "\n",
    "from sklearn.preprocessing import StandardScaler\n",
    "from sklearn.ensemble import RandomForestClassifier\n",
    "\n",
    "from aggregation import load_and_preprocess_agg_window\n",
    "sys.path.append(\"../\")\n",
    "\n",
    "from evaluate import plot_confusion_matrix"
   ]
  },
  {
   "cell_type": "code",
   "execution_count": 2,
   "id": "b66b2e91",
   "metadata": {},
   "outputs": [],
   "source": [
    "DEFAULT_LENGTH_Value = 60"
   ]
  },
  {
   "cell_type": "code",
   "execution_count": 3,
   "id": "da843876",
   "metadata": {},
   "outputs": [],
   "source": [
    "\n",
    "\n",
    "# key : value\n",
    "# uniq_id : [60 values, label]"
   ]
  },
  {
   "cell_type": "code",
   "execution_count": 4,
   "id": "10351bbc",
   "metadata": {},
   "outputs": [
    {
     "name": "stdout",
     "output_type": "stream",
     "text": [
      "Extracting ../Mesures/train\\messenger20221117_125310.csv.... 1/39\n"
     ]
    },
    {
     "name": "stderr",
     "output_type": "stream",
     "text": [
      "100%|██████████████████████████████████████████████████████████████████████████████████| 15/15 [00:00<00:00, 80.24it/s]\n"
     ]
    },
    {
     "name": "stdout",
     "output_type": "stream",
     "text": [
      "Extracting ../Mesures/train\\messenger20221124_143112.csv.... 2/39\n"
     ]
    },
    {
     "name": "stderr",
     "output_type": "stream",
     "text": [
      "100%|██████████████████████████████████████████████████████████████████████████████████| 11/11 [00:00<00:00, 52.26it/s]\n"
     ]
    },
    {
     "name": "stdout",
     "output_type": "stream",
     "text": [
      "Extracting ../Mesures/train\\messenger20221125_130559.csv.... 3/39\n"
     ]
    },
    {
     "name": "stderr",
     "output_type": "stream",
     "text": [
      "100%|█████████████████████████████████████████████████████████████████████████████████| 38/38 [00:00<00:00, 123.12it/s]\n"
     ]
    },
    {
     "name": "stdout",
     "output_type": "stream",
     "text": [
      "Extracting ../Mesures/train\\messenger20221129_131204.csv.... 4/39\n"
     ]
    },
    {
     "name": "stderr",
     "output_type": "stream",
     "text": [
      "100%|██████████████████████████████████████████████████████████████████████████████████| 14/14 [00:00<00:00, 14.59it/s]\n"
     ]
    },
    {
     "name": "stdout",
     "output_type": "stream",
     "text": [
      "Extracting ../Mesures/train\\messenger20221129_151124.csv.... 5/39\n"
     ]
    },
    {
     "name": "stderr",
     "output_type": "stream",
     "text": [
      "100%|████████████████████████████████████████████████████████████████████████████████████| 5/5 [00:00<00:00,  9.32it/s]\n"
     ]
    },
    {
     "name": "stdout",
     "output_type": "stream",
     "text": [
      "Extracting ../Mesures/train\\messenger20230207_133921.csv.... 6/39\n"
     ]
    },
    {
     "name": "stderr",
     "output_type": "stream",
     "text": [
      "100%|████████████████████████████████████████████████████████████████████████████████████| 2/2 [00:00<00:00,  3.53it/s]\n"
     ]
    },
    {
     "name": "stdout",
     "output_type": "stream",
     "text": [
      "Extracting ../Mesures/train\\messenger20230209_083453.csv.... 7/39\n"
     ]
    },
    {
     "name": "stderr",
     "output_type": "stream",
     "text": [
      "100%|████████████████████████████████████████████████████████████████████████████████████| 5/5 [00:00<00:00,  6.79it/s]\n"
     ]
    },
    {
     "name": "stdout",
     "output_type": "stream",
     "text": [
      "Extracting ../Mesures/train\\pure_noise20230106_132210.csv.... 8/39\n"
     ]
    },
    {
     "name": "stderr",
     "output_type": "stream",
     "text": [
      "100%|███████████████████████████████████████████████████████████████████████████████| 805/805 [00:01<00:00, 796.32it/s]\n"
     ]
    },
    {
     "name": "stdout",
     "output_type": "stream",
     "text": [
      "Extracting ../Mesures/train\\skype20221129_164105.csv.... 9/39\n"
     ]
    },
    {
     "name": "stderr",
     "output_type": "stream",
     "text": [
      "100%|████████████████████████████████████████████████████████████████████████████████████| 5/5 [00:00<00:00, 18.09it/s]\n"
     ]
    },
    {
     "name": "stdout",
     "output_type": "stream",
     "text": [
      "Extracting ../Mesures/train\\skype20221206_125510.csv.... 10/39\n"
     ]
    },
    {
     "name": "stderr",
     "output_type": "stream",
     "text": [
      "100%|██████████████████████████████████████████████████████████████████████████████████| 19/19 [00:00<00:00, 43.52it/s]\n"
     ]
    },
    {
     "name": "stdout",
     "output_type": "stream",
     "text": [
      "Extracting ../Mesures/train\\skype20221208_104403.csv.... 11/39\n"
     ]
    },
    {
     "name": "stderr",
     "output_type": "stream",
     "text": [
      "100%|████████████████████████████████████████████████████████████████████████████████████| 7/7 [00:01<00:00,  4.63it/s]\n"
     ]
    },
    {
     "name": "stdout",
     "output_type": "stream",
     "text": [
      "Extracting ../Mesures/train\\skype20221208_124925.csv.... 12/39\n"
     ]
    },
    {
     "name": "stderr",
     "output_type": "stream",
     "text": [
      "100%|████████████████████████████████████████████████████████████████████████████████████| 6/6 [00:02<00:00,  2.33it/s]\n"
     ]
    },
    {
     "name": "stdout",
     "output_type": "stream",
     "text": [
      "Extracting ../Mesures/train\\skype20221215_151512.csv.... 13/39\n"
     ]
    },
    {
     "name": "stderr",
     "output_type": "stream",
     "text": [
      "100%|██████████████████████████████████████████████████████████████████████████████████| 23/23 [00:00<00:00, 58.91it/s]\n"
     ]
    },
    {
     "name": "stdout",
     "output_type": "stream",
     "text": [
      "Extracting ../Mesures/train\\skype20221215_155618.csv.... 14/39\n"
     ]
    },
    {
     "name": "stderr",
     "output_type": "stream",
     "text": [
      "100%|██████████████████████████████████████████████████████████████████████████████████| 19/19 [00:01<00:00, 11.44it/s]\n"
     ]
    },
    {
     "name": "stdout",
     "output_type": "stream",
     "text": [
      "Extracting ../Mesures/train\\skype20221215_164208.csv.... 15/39\n"
     ]
    },
    {
     "name": "stderr",
     "output_type": "stream",
     "text": [
      "100%|████████████████████████████████████████████████████████████████████████████████████| 5/5 [00:00<00:00,  8.27it/s]\n"
     ]
    },
    {
     "name": "stdout",
     "output_type": "stream",
     "text": [
      "Extracting ../Mesures/train\\skype20221215_174819.csv.... 16/39\n"
     ]
    },
    {
     "name": "stderr",
     "output_type": "stream",
     "text": [
      "100%|████████████████████████████████████████████████████████████████████████████████████| 6/6 [00:00<00:00, 12.96it/s]\n"
     ]
    },
    {
     "name": "stdout",
     "output_type": "stream",
     "text": [
      "Extracting ../Mesures/train\\spotify20230201_092702.csv.... 17/39\n"
     ]
    },
    {
     "name": "stderr",
     "output_type": "stream",
     "text": [
      "100%|█████████████████████████████████████████████████████████████████████████████| 1750/1750 [00:02<00:00, 736.42it/s]\n"
     ]
    },
    {
     "name": "stdout",
     "output_type": "stream",
     "text": [
      "Extracting ../Mesures/train\\spotify20230203_165507.csv.... 18/39\n"
     ]
    },
    {
     "name": "stderr",
     "output_type": "stream",
     "text": [
      "100%|███████████████████████████████████████████████████████████████████████████████| 522/522 [00:00<00:00, 842.45it/s]\n"
     ]
    },
    {
     "name": "stdout",
     "output_type": "stream",
     "text": [
      "Extracting ../Mesures/train\\spotify20230216_141318.csv.... 19/39\n"
     ]
    },
    {
     "name": "stderr",
     "output_type": "stream",
     "text": [
      "100%|███████████████████████████████████████████████████████████████████████████████| 364/364 [00:00<00:00, 755.43it/s]\n"
     ]
    },
    {
     "name": "stdout",
     "output_type": "stream",
     "text": [
      "Extracting ../Mesures/train\\twitch20221117_113554.csv.... 20/39\n"
     ]
    },
    {
     "name": "stderr",
     "output_type": "stream",
     "text": [
      "100%|█████████████████████████████████████████████████████████████████████████████████| 24/24 [00:00<00:00, 136.03it/s]\n"
     ]
    },
    {
     "name": "stdout",
     "output_type": "stream",
     "text": [
      "Extracting ../Mesures/train\\twitch20221118_075454.csv.... 21/39\n"
     ]
    },
    {
     "name": "stderr",
     "output_type": "stream",
     "text": [
      "100%|██████████████████████████████████████████████████████████████████████████████████| 16/16 [00:00<00:00, 68.21it/s]\n"
     ]
    },
    {
     "name": "stdout",
     "output_type": "stream",
     "text": [
      "Extracting ../Mesures/train\\twitch20221125_133859.csv.... 22/39\n"
     ]
    },
    {
     "name": "stderr",
     "output_type": "stream",
     "text": [
      "100%|████████████████████████████████████████████████████████████████████████████████| 108/108 [00:01<00:00, 80.43it/s]\n"
     ]
    },
    {
     "name": "stdout",
     "output_type": "stream",
     "text": [
      "Extracting ../Mesures/train\\twitch20230110_110215.csv.... 23/39\n"
     ]
    },
    {
     "name": "stderr",
     "output_type": "stream",
     "text": [
      "100%|█████████████████████████████████████████████████████████████████████████████████| 22/22 [00:00<00:00, 134.63it/s]\n"
     ]
    },
    {
     "name": "stdout",
     "output_type": "stream",
     "text": [
      "Extracting ../Mesures/train\\twitch20230110_120513.csv.... 24/39\n"
     ]
    },
    {
     "name": "stderr",
     "output_type": "stream",
     "text": [
      "100%|█████████████████████████████████████████████████████████████████████████████████| 59/59 [00:00<00:00, 328.54it/s]\n"
     ]
    },
    {
     "name": "stdout",
     "output_type": "stream",
     "text": [
      "Extracting ../Mesures/train\\twitch20230110_130648.csv.... 25/39\n"
     ]
    },
    {
     "name": "stderr",
     "output_type": "stream",
     "text": [
      "100%|███████████████████████████████████████████████████████████████████████████████| 426/426 [00:00<00:00, 620.36it/s]\n",
      "100%|█████████████████████████████████████████████████████████████████████████████████| 11/11 [00:00<00:00, 575.60it/s]\n"
     ]
    },
    {
     "name": "stdout",
     "output_type": "stream",
     "text": [
      "Extracting ../Mesures/train\\youtube20221108_165214.csv.... 26/39\n",
      "Extracting ../Mesures/train\\youtube20221108_182416.csv.... 27/39\n"
     ]
    },
    {
     "name": "stderr",
     "output_type": "stream",
     "text": [
      "100%|███████████████████████████████████████████████████████████████████████████████████| 4/4 [00:00<00:00, 376.88it/s]\n"
     ]
    },
    {
     "name": "stdout",
     "output_type": "stream",
     "text": [
      "Extracting ../Mesures/train\\youtube20221124_125524.csv.... 28/39\n"
     ]
    },
    {
     "name": "stderr",
     "output_type": "stream",
     "text": [
      "100%|███████████████████████████████████████████████████████████████████████████████| 186/186 [00:00<00:00, 733.38it/s]\n"
     ]
    },
    {
     "name": "stdout",
     "output_type": "stream",
     "text": [
      "Extracting ../Mesures/train\\youtube20221124_154037.csv.... 29/39\n"
     ]
    },
    {
     "name": "stderr",
     "output_type": "stream",
     "text": [
      "100%|█████████████████████████████████████████████████████████████████████████████████| 92/92 [00:00<00:00, 774.25it/s]\n"
     ]
    },
    {
     "name": "stdout",
     "output_type": "stream",
     "text": [
      "Extracting ../Mesures/train\\youtube20221130_103723.csv.... 30/39\n"
     ]
    },
    {
     "name": "stderr",
     "output_type": "stream",
     "text": [
      "100%|█████████████████████████████████████████████████████████████████████████████████| 91/91 [00:00<00:00, 718.41it/s]\n",
      "  0%|                                                                                           | 0/94 [00:00<?, ?it/s]"
     ]
    },
    {
     "name": "stdout",
     "output_type": "stream",
     "text": [
      "Extracting ../Mesures/train\\youtube20230110_145404.csv.... 31/39\n"
     ]
    },
    {
     "name": "stderr",
     "output_type": "stream",
     "text": [
      "100%|█████████████████████████████████████████████████████████████████████████████████| 94/94 [00:00<00:00, 850.30it/s]\n"
     ]
    },
    {
     "name": "stdout",
     "output_type": "stream",
     "text": [
      "Extracting ../Mesures/train\\youtube20230110_161955.csv.... 32/39\n"
     ]
    },
    {
     "name": "stderr",
     "output_type": "stream",
     "text": [
      "100%|█████████████████████████████████████████████████████████████████████████████████| 90/90 [00:00<00:00, 755.27it/s]\n"
     ]
    },
    {
     "name": "stdout",
     "output_type": "stream",
     "text": [
      "Extracting ../Mesures/train\\youtube20230112_125508.csv.... 33/39\n"
     ]
    },
    {
     "name": "stderr",
     "output_type": "stream",
     "text": [
      "100%|███████████████████████████████████████████████████████████████████████████████| 108/108 [00:00<00:00, 542.51it/s]\n"
     ]
    },
    {
     "name": "stdout",
     "output_type": "stream",
     "text": [
      "Extracting ../Mesures/train\\youtube20230112_151029.csv.... 34/39\n"
     ]
    },
    {
     "name": "stderr",
     "output_type": "stream",
     "text": [
      "100%|█████████████████████████████████████████████████████████████████████████████████| 29/29 [00:00<00:00, 595.43it/s]\n"
     ]
    },
    {
     "name": "stdout",
     "output_type": "stream",
     "text": [
      "Extracting ../Mesures/train\\youtube20230112_154749.csv.... 35/39\n"
     ]
    },
    {
     "name": "stderr",
     "output_type": "stream",
     "text": [
      "100%|█████████████████████████████████████████████████████████████████████████████████| 32/32 [00:00<00:00, 518.94it/s]\n"
     ]
    },
    {
     "name": "stdout",
     "output_type": "stream",
     "text": [
      "Extracting ../Mesures/train\\youtube20230112_163634.csv.... 36/39\n"
     ]
    },
    {
     "name": "stderr",
     "output_type": "stream",
     "text": [
      "100%|█████████████████████████████████████████████████████████████████████████████████| 65/65 [00:00<00:00, 553.65it/s]\n"
     ]
    },
    {
     "name": "stdout",
     "output_type": "stream",
     "text": [
      "Extracting ../Mesures/train\\youtube20230117_095221.csv.... 37/39\n"
     ]
    },
    {
     "name": "stderr",
     "output_type": "stream",
     "text": [
      "100%|███████████████████████████████████████████████████████████████████████████████| 140/140 [00:00<00:00, 356.78it/s]\n"
     ]
    },
    {
     "name": "stdout",
     "output_type": "stream",
     "text": [
      "Extracting ../Mesures/train\\youtube20230118_134041.csv.... 38/39\n"
     ]
    },
    {
     "name": "stderr",
     "output_type": "stream",
     "text": [
      "100%|███████████████████████████████████████████████████████████████████████████████| 212/212 [00:00<00:00, 285.36it/s]\n"
     ]
    },
    {
     "name": "stdout",
     "output_type": "stream",
     "text": [
      "Extracting ../Mesures/train\\youtube20230124_124323.csv.... 39/39\n"
     ]
    },
    {
     "name": "stderr",
     "output_type": "stream",
     "text": [
      "100%|███████████████████████████████████████████████████████████████████████████████| 163/163 [00:00<00:00, 277.98it/s]\n",
      "100%|██████████████████████████████████████████████████████████████████████████████| 5593/5593 [01:22<00:00, 67.64it/s]\n"
     ]
    }
   ],
   "source": [
    "training_data = load_and_preprocess_agg_window(\"../Mesures/train\")"
   ]
  },
  {
   "cell_type": "code",
   "execution_count": 5,
   "id": "4a576840",
   "metadata": {
    "scrolled": true
   },
   "outputs": [
    {
     "name": "stdout",
     "output_type": "stream",
     "text": [
      "Extracting ../Mesures/test\\messenger20221124_151137.csv.... 1/7\n"
     ]
    },
    {
     "name": "stderr",
     "output_type": "stream",
     "text": [
      "100%|████████████████████████████████████████████████████████████████████████████████████| 5/5 [00:00<00:00, 13.95it/s]\n"
     ]
    },
    {
     "name": "stdout",
     "output_type": "stream",
     "text": [
      "Extracting ../Mesures/test\\messenger20230208_132747.csv.... 2/7\n"
     ]
    },
    {
     "name": "stderr",
     "output_type": "stream",
     "text": [
      "100%|██████████████████████████████████████████████████████████████████████████████████| 27/27 [00:04<00:00,  6.67it/s]\n"
     ]
    },
    {
     "name": "stdout",
     "output_type": "stream",
     "text": [
      "Extracting ../Mesures/test\\skype20221206_150902.csv.... 3/7\n"
     ]
    },
    {
     "name": "stderr",
     "output_type": "stream",
     "text": [
      "100%|████████████████████████████████████████████████████████████████████████████████████| 3/3 [00:00<00:00,  3.92it/s]\n"
     ]
    },
    {
     "name": "stdout",
     "output_type": "stream",
     "text": [
      "Extracting ../Mesures/test\\spotify20230127_134348.csv.... 4/7\n"
     ]
    },
    {
     "name": "stderr",
     "output_type": "stream",
     "text": [
      "100%|███████████████████████████████████████████████████████████████████████████████| 240/240 [00:01<00:00, 153.33it/s]\n"
     ]
    },
    {
     "name": "stdout",
     "output_type": "stream",
     "text": [
      "Extracting ../Mesures/test\\twitch20221124_163054.csv.... 5/7\n"
     ]
    },
    {
     "name": "stderr",
     "output_type": "stream",
     "text": [
      "100%|██████████████████████████████████████████████████████████████████████████████████| 12/12 [00:00<00:00, 27.82it/s]\n"
     ]
    },
    {
     "name": "stdout",
     "output_type": "stream",
     "text": [
      "Extracting ../Mesures/test\\youtube20221118_104205.csv.... 6/7\n"
     ]
    },
    {
     "name": "stderr",
     "output_type": "stream",
     "text": [
      "100%|███████████████████████████████████████████████████████████████████████████████| 218/218 [00:00<00:00, 248.01it/s]\n"
     ]
    },
    {
     "name": "stdout",
     "output_type": "stream",
     "text": [
      "Extracting ../Mesures/test\\youtube20230117_121925.csv.... 7/7\n"
     ]
    },
    {
     "name": "stderr",
     "output_type": "stream",
     "text": [
      "100%|███████████████████████████████████████████████████████████████████████████████| 260/260 [00:01<00:00, 209.94it/s]\n",
      "100%|████████████████████████████████████████████████████████████████████████████████| 765/765 [00:50<00:00, 15.02it/s]\n"
     ]
    },
    {
     "data": {
      "text/html": [
       "<div>\n",
       "<style scoped>\n",
       "    .dataframe tbody tr th:only-of-type {\n",
       "        vertical-align: middle;\n",
       "    }\n",
       "\n",
       "    .dataframe tbody tr th {\n",
       "        vertical-align: top;\n",
       "    }\n",
       "\n",
       "    .dataframe thead th {\n",
       "        text-align: right;\n",
       "    }\n",
       "</style>\n",
       "<table border=\"1\" class=\"dataframe\">\n",
       "  <thead>\n",
       "    <tr style=\"text-align: right;\">\n",
       "      <th></th>\n",
       "      <th>0</th>\n",
       "      <th>1</th>\n",
       "      <th>2</th>\n",
       "      <th>3</th>\n",
       "      <th>4</th>\n",
       "      <th>5</th>\n",
       "      <th>6</th>\n",
       "      <th>7</th>\n",
       "      <th>8</th>\n",
       "      <th>9</th>\n",
       "      <th>...</th>\n",
       "      <th>111</th>\n",
       "      <th>112</th>\n",
       "      <th>113</th>\n",
       "      <th>114</th>\n",
       "      <th>115</th>\n",
       "      <th>116</th>\n",
       "      <th>117</th>\n",
       "      <th>118</th>\n",
       "      <th>119</th>\n",
       "      <th>label</th>\n",
       "    </tr>\n",
       "  </thead>\n",
       "  <tbody>\n",
       "    <tr>\n",
       "      <th>20221124_151137_4_0</th>\n",
       "      <td>308.521739</td>\n",
       "      <td>687.88587</td>\n",
       "      <td>1067.25</td>\n",
       "      <td>1013.396825</td>\n",
       "      <td>1496.222222</td>\n",
       "      <td>713.52381</td>\n",
       "      <td>1561.5</td>\n",
       "      <td>899.897436</td>\n",
       "      <td>1168.0</td>\n",
       "      <td>972.756757</td>\n",
       "      <td>...</td>\n",
       "      <td>0.0</td>\n",
       "      <td>0.0</td>\n",
       "      <td>0.0</td>\n",
       "      <td>0.0</td>\n",
       "      <td>0.0</td>\n",
       "      <td>0.0</td>\n",
       "      <td>0.0</td>\n",
       "      <td>0.0</td>\n",
       "      <td>0.0</td>\n",
       "      <td>messenger</td>\n",
       "    </tr>\n",
       "    <tr>\n",
       "      <th>20221124_151137_4_1</th>\n",
       "      <td>687.88587</td>\n",
       "      <td>1067.25</td>\n",
       "      <td>1013.396825</td>\n",
       "      <td>1496.222222</td>\n",
       "      <td>713.52381</td>\n",
       "      <td>1561.5</td>\n",
       "      <td>899.897436</td>\n",
       "      <td>1168.0</td>\n",
       "      <td>972.756757</td>\n",
       "      <td>1713.333333</td>\n",
       "      <td>...</td>\n",
       "      <td>0.0</td>\n",
       "      <td>0.0</td>\n",
       "      <td>0.0</td>\n",
       "      <td>0.0</td>\n",
       "      <td>0.0</td>\n",
       "      <td>0.0</td>\n",
       "      <td>0.0</td>\n",
       "      <td>0.0</td>\n",
       "      <td>0.0</td>\n",
       "      <td>messenger</td>\n",
       "    </tr>\n",
       "    <tr>\n",
       "      <th>20221124_151137_4_2</th>\n",
       "      <td>1067.25</td>\n",
       "      <td>1013.396825</td>\n",
       "      <td>1496.222222</td>\n",
       "      <td>713.52381</td>\n",
       "      <td>1561.5</td>\n",
       "      <td>899.897436</td>\n",
       "      <td>1168.0</td>\n",
       "      <td>972.756757</td>\n",
       "      <td>1713.333333</td>\n",
       "      <td>630.967742</td>\n",
       "      <td>...</td>\n",
       "      <td>0.0</td>\n",
       "      <td>0.0</td>\n",
       "      <td>0.0</td>\n",
       "      <td>0.0</td>\n",
       "      <td>0.0</td>\n",
       "      <td>0.0</td>\n",
       "      <td>0.0</td>\n",
       "      <td>0.0</td>\n",
       "      <td>0.0</td>\n",
       "      <td>messenger</td>\n",
       "    </tr>\n",
       "    <tr>\n",
       "      <th>20221124_151137_4_3</th>\n",
       "      <td>1013.396825</td>\n",
       "      <td>1496.222222</td>\n",
       "      <td>713.52381</td>\n",
       "      <td>1561.5</td>\n",
       "      <td>899.897436</td>\n",
       "      <td>1168.0</td>\n",
       "      <td>972.756757</td>\n",
       "      <td>1713.333333</td>\n",
       "      <td>630.967742</td>\n",
       "      <td>874.037351</td>\n",
       "      <td>...</td>\n",
       "      <td>0.0</td>\n",
       "      <td>0.0</td>\n",
       "      <td>0.0</td>\n",
       "      <td>0.0</td>\n",
       "      <td>0.0</td>\n",
       "      <td>0.0</td>\n",
       "      <td>0.0</td>\n",
       "      <td>0.0</td>\n",
       "      <td>0.0</td>\n",
       "      <td>messenger</td>\n",
       "    </tr>\n",
       "    <tr>\n",
       "      <th>20221124_151137_4_4</th>\n",
       "      <td>1496.222222</td>\n",
       "      <td>713.52381</td>\n",
       "      <td>1561.5</td>\n",
       "      <td>899.897436</td>\n",
       "      <td>1168.0</td>\n",
       "      <td>972.756757</td>\n",
       "      <td>1713.333333</td>\n",
       "      <td>630.967742</td>\n",
       "      <td>874.037351</td>\n",
       "      <td>1117.106961</td>\n",
       "      <td>...</td>\n",
       "      <td>0.0</td>\n",
       "      <td>0.0</td>\n",
       "      <td>0.0</td>\n",
       "      <td>0.0</td>\n",
       "      <td>0.0</td>\n",
       "      <td>0.0</td>\n",
       "      <td>0.0</td>\n",
       "      <td>0.0</td>\n",
       "      <td>0.0</td>\n",
       "      <td>messenger</td>\n",
       "    </tr>\n",
       "    <tr>\n",
       "      <th>...</th>\n",
       "      <td>...</td>\n",
       "      <td>...</td>\n",
       "      <td>...</td>\n",
       "      <td>...</td>\n",
       "      <td>...</td>\n",
       "      <td>...</td>\n",
       "      <td>...</td>\n",
       "      <td>...</td>\n",
       "      <td>...</td>\n",
       "      <td>...</td>\n",
       "      <td>...</td>\n",
       "      <td>...</td>\n",
       "      <td>...</td>\n",
       "      <td>...</td>\n",
       "      <td>...</td>\n",
       "      <td>...</td>\n",
       "      <td>...</td>\n",
       "      <td>...</td>\n",
       "      <td>...</td>\n",
       "      <td>...</td>\n",
       "      <td>...</td>\n",
       "    </tr>\n",
       "    <tr>\n",
       "      <th>20230117_121925_263_43</th>\n",
       "      <td>355.158974</td>\n",
       "      <td>457.517949</td>\n",
       "      <td>559.876923</td>\n",
       "      <td>662.235897</td>\n",
       "      <td>764.594872</td>\n",
       "      <td>866.953846</td>\n",
       "      <td>969.312821</td>\n",
       "      <td>1071.671795</td>\n",
       "      <td>1174.030769</td>\n",
       "      <td>1003.989744</td>\n",
       "      <td>...</td>\n",
       "      <td>0.0</td>\n",
       "      <td>0.0</td>\n",
       "      <td>0.0</td>\n",
       "      <td>0.0</td>\n",
       "      <td>0.0</td>\n",
       "      <td>0.0</td>\n",
       "      <td>0.0</td>\n",
       "      <td>0.0</td>\n",
       "      <td>0.0</td>\n",
       "      <td>youtube</td>\n",
       "    </tr>\n",
       "    <tr>\n",
       "      <th>20230117_121925_263_44</th>\n",
       "      <td>457.517949</td>\n",
       "      <td>559.876923</td>\n",
       "      <td>662.235897</td>\n",
       "      <td>764.594872</td>\n",
       "      <td>866.953846</td>\n",
       "      <td>969.312821</td>\n",
       "      <td>1071.671795</td>\n",
       "      <td>1174.030769</td>\n",
       "      <td>1003.989744</td>\n",
       "      <td>833.948718</td>\n",
       "      <td>...</td>\n",
       "      <td>0.0</td>\n",
       "      <td>0.0</td>\n",
       "      <td>0.0</td>\n",
       "      <td>0.0</td>\n",
       "      <td>0.0</td>\n",
       "      <td>0.0</td>\n",
       "      <td>0.0</td>\n",
       "      <td>0.0</td>\n",
       "      <td>0.0</td>\n",
       "      <td>youtube</td>\n",
       "    </tr>\n",
       "    <tr>\n",
       "      <th>20230117_121925_263_45</th>\n",
       "      <td>559.876923</td>\n",
       "      <td>662.235897</td>\n",
       "      <td>764.594872</td>\n",
       "      <td>866.953846</td>\n",
       "      <td>969.312821</td>\n",
       "      <td>1071.671795</td>\n",
       "      <td>1174.030769</td>\n",
       "      <td>1003.989744</td>\n",
       "      <td>833.948718</td>\n",
       "      <td>663.907692</td>\n",
       "      <td>...</td>\n",
       "      <td>0.0</td>\n",
       "      <td>0.0</td>\n",
       "      <td>0.0</td>\n",
       "      <td>0.0</td>\n",
       "      <td>0.0</td>\n",
       "      <td>0.0</td>\n",
       "      <td>0.0</td>\n",
       "      <td>0.0</td>\n",
       "      <td>0.0</td>\n",
       "      <td>youtube</td>\n",
       "    </tr>\n",
       "    <tr>\n",
       "      <th>20230117_121925_263_46</th>\n",
       "      <td>662.235897</td>\n",
       "      <td>764.594872</td>\n",
       "      <td>866.953846</td>\n",
       "      <td>969.312821</td>\n",
       "      <td>1071.671795</td>\n",
       "      <td>1174.030769</td>\n",
       "      <td>1003.989744</td>\n",
       "      <td>833.948718</td>\n",
       "      <td>663.907692</td>\n",
       "      <td>493.866667</td>\n",
       "      <td>...</td>\n",
       "      <td>0.0</td>\n",
       "      <td>0.0</td>\n",
       "      <td>0.0</td>\n",
       "      <td>0.0</td>\n",
       "      <td>0.0</td>\n",
       "      <td>0.0</td>\n",
       "      <td>0.0</td>\n",
       "      <td>0.0</td>\n",
       "      <td>0.0</td>\n",
       "      <td>youtube</td>\n",
       "    </tr>\n",
       "    <tr>\n",
       "      <th>20230117_121925_263_47</th>\n",
       "      <td>764.594872</td>\n",
       "      <td>866.953846</td>\n",
       "      <td>969.312821</td>\n",
       "      <td>1071.671795</td>\n",
       "      <td>1174.030769</td>\n",
       "      <td>1003.989744</td>\n",
       "      <td>833.948718</td>\n",
       "      <td>663.907692</td>\n",
       "      <td>493.866667</td>\n",
       "      <td>498.555556</td>\n",
       "      <td>...</td>\n",
       "      <td>0.0</td>\n",
       "      <td>0.0</td>\n",
       "      <td>0.0</td>\n",
       "      <td>0.0</td>\n",
       "      <td>0.0</td>\n",
       "      <td>0.0</td>\n",
       "      <td>0.0</td>\n",
       "      <td>0.0</td>\n",
       "      <td>0.0</td>\n",
       "      <td>youtube</td>\n",
       "    </tr>\n",
       "  </tbody>\n",
       "</table>\n",
       "<p>149626 rows × 121 columns</p>\n",
       "</div>"
      ],
      "text/plain": [
       "                                  0            1            2            3  \\\n",
       "20221124_151137_4_0      308.521739    687.88587      1067.25  1013.396825   \n",
       "20221124_151137_4_1       687.88587      1067.25  1013.396825  1496.222222   \n",
       "20221124_151137_4_2         1067.25  1013.396825  1496.222222    713.52381   \n",
       "20221124_151137_4_3     1013.396825  1496.222222    713.52381       1561.5   \n",
       "20221124_151137_4_4     1496.222222    713.52381       1561.5   899.897436   \n",
       "...                             ...          ...          ...          ...   \n",
       "20230117_121925_263_43   355.158974   457.517949   559.876923   662.235897   \n",
       "20230117_121925_263_44   457.517949   559.876923   662.235897   764.594872   \n",
       "20230117_121925_263_45   559.876923   662.235897   764.594872   866.953846   \n",
       "20230117_121925_263_46   662.235897   764.594872   866.953846   969.312821   \n",
       "20230117_121925_263_47   764.594872   866.953846   969.312821  1071.671795   \n",
       "\n",
       "                                  4            5            6            7  \\\n",
       "20221124_151137_4_0     1496.222222    713.52381       1561.5   899.897436   \n",
       "20221124_151137_4_1       713.52381       1561.5   899.897436       1168.0   \n",
       "20221124_151137_4_2          1561.5   899.897436       1168.0   972.756757   \n",
       "20221124_151137_4_3      899.897436       1168.0   972.756757  1713.333333   \n",
       "20221124_151137_4_4          1168.0   972.756757  1713.333333   630.967742   \n",
       "...                             ...          ...          ...          ...   \n",
       "20230117_121925_263_43   764.594872   866.953846   969.312821  1071.671795   \n",
       "20230117_121925_263_44   866.953846   969.312821  1071.671795  1174.030769   \n",
       "20230117_121925_263_45   969.312821  1071.671795  1174.030769  1003.989744   \n",
       "20230117_121925_263_46  1071.671795  1174.030769  1003.989744   833.948718   \n",
       "20230117_121925_263_47  1174.030769  1003.989744   833.948718   663.907692   \n",
       "\n",
       "                                  8            9  ...  111  112  113  114  \\\n",
       "20221124_151137_4_0          1168.0   972.756757  ...  0.0  0.0  0.0  0.0   \n",
       "20221124_151137_4_1      972.756757  1713.333333  ...  0.0  0.0  0.0  0.0   \n",
       "20221124_151137_4_2     1713.333333   630.967742  ...  0.0  0.0  0.0  0.0   \n",
       "20221124_151137_4_3      630.967742   874.037351  ...  0.0  0.0  0.0  0.0   \n",
       "20221124_151137_4_4      874.037351  1117.106961  ...  0.0  0.0  0.0  0.0   \n",
       "...                             ...          ...  ...  ...  ...  ...  ...   \n",
       "20230117_121925_263_43  1174.030769  1003.989744  ...  0.0  0.0  0.0  0.0   \n",
       "20230117_121925_263_44  1003.989744   833.948718  ...  0.0  0.0  0.0  0.0   \n",
       "20230117_121925_263_45   833.948718   663.907692  ...  0.0  0.0  0.0  0.0   \n",
       "20230117_121925_263_46   663.907692   493.866667  ...  0.0  0.0  0.0  0.0   \n",
       "20230117_121925_263_47   493.866667   498.555556  ...  0.0  0.0  0.0  0.0   \n",
       "\n",
       "                        115  116  117  118  119      label  \n",
       "20221124_151137_4_0     0.0  0.0  0.0  0.0  0.0  messenger  \n",
       "20221124_151137_4_1     0.0  0.0  0.0  0.0  0.0  messenger  \n",
       "20221124_151137_4_2     0.0  0.0  0.0  0.0  0.0  messenger  \n",
       "20221124_151137_4_3     0.0  0.0  0.0  0.0  0.0  messenger  \n",
       "20221124_151137_4_4     0.0  0.0  0.0  0.0  0.0  messenger  \n",
       "...                     ...  ...  ...  ...  ...        ...  \n",
       "20230117_121925_263_43  0.0  0.0  0.0  0.0  0.0    youtube  \n",
       "20230117_121925_263_44  0.0  0.0  0.0  0.0  0.0    youtube  \n",
       "20230117_121925_263_45  0.0  0.0  0.0  0.0  0.0    youtube  \n",
       "20230117_121925_263_46  0.0  0.0  0.0  0.0  0.0    youtube  \n",
       "20230117_121925_263_47  0.0  0.0  0.0  0.0  0.0    youtube  \n",
       "\n",
       "[149626 rows x 121 columns]"
      ]
     },
     "execution_count": 5,
     "metadata": {},
     "output_type": "execute_result"
    }
   ],
   "source": [
    "testing_data = load_and_preprocess_agg_window(\"../Mesures/test\")\n",
    "testing_data"
   ]
  },
  {
   "cell_type": "code",
   "execution_count": 6,
   "id": "f9ef54a7",
   "metadata": {},
   "outputs": [],
   "source": [
    "# Train + Evaluate"
   ]
  },
  {
   "cell_type": "code",
   "execution_count": 7,
   "id": "2cfd1779",
   "metadata": {},
   "outputs": [
    {
     "data": {
      "text/plain": [
       "RandomForestClassifier()"
      ]
     },
     "execution_count": 7,
     "metadata": {},
     "output_type": "execute_result"
    }
   ],
   "source": [
    "model = RandomForestClassifier()\n",
    "model.fit(training_data[training_data.columns[:-1]], training_data.label)"
   ]
  },
  {
   "cell_type": "code",
   "execution_count": 8,
   "id": "2a85b365",
   "metadata": {},
   "outputs": [],
   "source": [
    "# mesure efficiency\n",
    "preds_labels =  model.predict(testing_data[testing_data.columns[:-1]])\n",
    "true_labels = testing_data.label"
   ]
  },
  {
   "cell_type": "code",
   "execution_count": 9,
   "id": "28e260ea",
   "metadata": {},
   "outputs": [
    {
     "name": "stdout",
     "output_type": "stream",
     "text": [
      "normalized confusion matrix\n"
     ]
    },
    {
     "data": {
      "image/png": "[encoded data removed]",
      "text/plain": [
       "<Figure size 432x432 with 2 Axes>"
      ]
     },
     "metadata": {
      "needs_background": "light"
     },
     "output_type": "display_data"
    }
   ],
   "source": [
    "plot_confusion_matrix(true_labels,preds_labels)"
   ]
  },
  {
   "cell_type": "code",
   "execution_count": null,
   "id": "aaebe96d",
   "metadata": {},
   "outputs": [],
   "source": []
  },
  {
   "cell_type": "code",
   "execution_count": null,
   "id": "80392176",
   "metadata": {},
   "outputs": [],
   "source": []
  },
  {
   "cell_type": "code",
   "execution_count": null,
   "id": "a5f02e81",
   "metadata": {},
   "outputs": [],
   "source": []
  },
  {
   "cell_type": "code",
   "execution_count": null,
   "id": "da97612f",
   "metadata": {},
   "outputs": [],
   "source": []
  },
  {
   "cell_type": "code",
   "execution_count": 13,
   "id": "0ccad53e",
   "metadata": {},
   "outputs": [
    {
     "data": {
      "text/plain": [
       "array([[ 2953,    32,     0,  2564,    69,     0],\n",
       "       [    1,  8612,     0,   209,   418,     0],\n",
       "       [    0,     4,     0,     0,   103,     0],\n",
       "       [    0,    58,     0, 19792,     0,     0],\n",
       "       [    0,    64,     0,     0,  4192,     0],\n",
       "       [    0,  1984,     0,     1,  8955,   103]], dtype=int64)"
      ]
     },
     "execution_count": 13,
     "metadata": {},
     "output_type": "execute_result"
    }
   ],
   "source": [
    "from sklearn.metrics import confusion_matrix\n",
    "labels_names = list(set(np.unique(preds_labels)).union(set(np.unique(true_labels))))\n",
    "cnf_matrix = confusion_matrix(true_labels,preds_labels, labels =labels_names )\n",
    "cnf_matrix\n"
   ]
  },
  {
   "cell_type": "code",
   "execution_count": null,
   "id": "1261f57b",
   "metadata": {},
   "outputs": [],
   "source": []
  },
  {
   "cell_type": "code",
   "execution_count": null,
   "id": "d8abbb5a",
   "metadata": {},
   "outputs": [],
   "source": []
  },
  {
   "cell_type": "code",
   "execution_count": null,
   "id": "d4f3469e",
   "metadata": {},
   "outputs": [],
   "source": []
  },
  {
   "cell_type": "code",
   "execution_count": null,
   "id": "7816790f",
   "metadata": {},
   "outputs": [],
   "source": []
  },
  {
   "cell_type": "code",
   "execution_count": null,
   "id": "48542039",
   "metadata": {},
   "outputs": [],
   "source": []
  },
  {
   "cell_type": "code",
   "execution_count": null,
   "id": "9c3532e7",
   "metadata": {},
   "outputs": [],
   "source": []
  },
  {
   "cell_type": "code",
   "execution_count": null,
   "id": "4ab31ff4",
   "metadata": {},
   "outputs": [],
   "source": []
  },
  {
   "cell_type": "code",
   "execution_count": null,
   "id": "89dbbf01",
   "metadata": {},
   "outputs": [],
   "source": []
  },
  {
   "cell_type": "code",
   "execution_count": null,
   "id": "5e6fbdc7",
   "metadata": {},
   "outputs": [],
   "source": []
  },
  {
   "cell_type": "code",
   "execution_count": 8,
   "id": "7e7848e6",
   "metadata": {},
   "outputs": [
    {
     "data": {
      "text/plain": [
       "{'youtube': 10512,\n",
       " 'twitch': 40181,\n",
       " 'messenger': 89526,\n",
       " 'noise': 8808,\n",
       " 'skype': 161624}"
      ]
     },
     "execution_count": 8,
     "metadata": {},
     "output_type": "execute_result"
    }
   ],
   "source": [
    "list_labels = [i[2] for i in global_data.values()]\n",
    "distrib = dict((x,list_labels.count(x)) for x in set(list_labels))\n",
    "distrib"
   ]
  },
  {
   "cell_type": "code",
   "execution_count": 116,
   "id": "f75fcb86",
   "metadata": {},
   "outputs": [
    {
     "data": {
      "text/plain": [
       "array(['messenger', 'messenger', 'messenger', ..., 'youtube', 'youtube',\n",
       "       'youtube'], dtype='<U9')"
      ]
     },
     "execution_count": 116,
     "metadata": {},
     "output_type": "execute_result"
    }
   ],
   "source": [
    "labels_glob"
   ]
  },
  {
   "cell_type": "code",
   "execution_count": 119,
   "id": "98c067fa",
   "metadata": {},
   "outputs": [
    {
     "data": {
      "text/plain": [
       "array([[1, 0, 0, 0, 0],\n",
       "       [1, 0, 0, 0, 0],\n",
       "       [1, 0, 0, 0, 0],\n",
       "       ...,\n",
       "       [0, 0, 0, 0, 1],\n",
       "       [0, 0, 0, 0, 1],\n",
       "       [0, 0, 0, 0, 1]])"
      ]
     },
     "execution_count": 119,
     "metadata": {},
     "output_type": "execute_result"
    }
   ],
   "source": [
    "\n",
    "labels_glob = np.array(list_labels)\n",
    "import sklearn.preprocessing\n",
    "import numpy as np\n",
    "label_binarizer = sklearn.preprocessing.LabelBinarizer()\n",
    "label_one_hot_encoded = label_binarizer.fit_transform(labels_glob)\n",
    "\n",
    "label_one_hot_encoded"
   ]
  },
  {
   "cell_type": "code",
   "execution_count": 120,
   "id": "d8dfbd12",
   "metadata": {},
   "outputs": [
    {
     "data": {
      "text/plain": [
       "(310651, 60, 2)"
      ]
     },
     "execution_count": 120,
     "metadata": {},
     "output_type": "execute_result"
    }
   ],
   "source": [
    "TBS_values = np.array([np.transpose([i[0].values,i[1].values]) for i in  global_data.values()])\n",
    "TBS_values.shape"
   ]
  },
  {
   "cell_type": "code",
   "execution_count": 121,
   "id": "462dd29b",
   "metadata": {},
   "outputs": [],
   "source": [
    "X_train_val, X_test, y_train_val, y_test = train_test_split(TBS_values, label_one_hot_encoded, test_size=0.15, random_state=42)\n",
    "X_train, X_val, y_train, y_val = train_test_split(X_train_val, y_train_val, test_size=0.2, random_state=42)"
   ]
  },
  {
   "cell_type": "code",
   "execution_count": 122,
   "id": "f612323c",
   "metadata": {},
   "outputs": [],
   "source": [
    "#images_train, _ = tuple(zip(*train))\n",
    "#images_train = np.concatenate(images_train)\n",
    "#images_train.shape"
   ]
  },
  {
   "cell_type": "code",
   "execution_count": 184,
   "id": "7437196e",
   "metadata": {},
   "outputs": [],
   "source": [
    "train_labels_not_encoded = label_binarizer.inverse_transform(y_train)\n",
    "class_weights = class_weight.compute_class_weight(class_weight ='balanced',\n",
    "                                                  classes =np.unique(train_labels_not_encoded), y =train_labels_not_encoded)\n",
    "class_weights = dict(zip(np.unique(np.argmax(y_train,axis=1)), class_weight.compute_class_weight(class_weight ='balanced',\n",
    "                                                  classes =np.unique(train_labels_not_encoded),\n",
    "                                                               y =train_labels_not_encoded)))\n",
    "\n",
    "layer_normalization = tf.keras.layers.Normalization(axis=None, input_shape=(length_values,2))\n",
    "layer_normalization.adapt(X_train)\n"
   ]
  },
  {
   "cell_type": "code",
   "execution_count": 185,
   "id": "8ab55eee",
   "metadata": {},
   "outputs": [
    {
     "data": {
      "text/plain": [
       "{0: 0.6930966598858193,\n",
       " 1: 7.015675855197609,\n",
       " 2: 0.38506001695239656,\n",
       " 3: 1.5437716958380532,\n",
       " 4: 5.885817776539426}"
      ]
     },
     "execution_count": 185,
     "metadata": {},
     "output_type": "execute_result"
    }
   ],
   "source": [
    "a"
   ]
  },
  {
   "cell_type": "code",
   "execution_count": 186,
   "id": "35a00971",
   "metadata": {},
   "outputs": [
    {
     "data": {
      "text/plain": [
       "{0: 0.6930966598858193,\n",
       " 1: 7.015675855197609,\n",
       " 2: 0.38506001695239656,\n",
       " 3: 1.5437716958380532,\n",
       " 4: 5.885817776539426}"
      ]
     },
     "execution_count": 186,
     "metadata": {},
     "output_type": "execute_result"
    }
   ],
   "source": [
    "class_weights"
   ]
  },
  {
   "cell_type": "code",
   "execution_count": 187,
   "id": "0922c1dd",
   "metadata": {},
   "outputs": [],
   "source": [
    "#X_train = tf.convert_to_tensor(X_train, dtype=tf.float32)"
   ]
  },
  {
   "cell_type": "code",
   "execution_count": 193,
   "id": "6adbcb01",
   "metadata": {},
   "outputs": [],
   "source": [
    "model = Sequential()\n",
    "model.add(layer_normalization)\n",
    "model.add(Conv1D(32, 5, activation='relu'))\n",
    "model.add(MaxPool1D()) #Adding a convultion layer\n",
    "\n",
    "model.add(Conv1D(64, 5, activation='relu'))\n",
    "model.add(MaxPool1D()) #\n",
    "\n",
    "model.add(Conv1D(32, 5, activation='relu'))\n",
    "model.add(MaxPool1D())\n",
    "\n",
    "model.add(Flatten())\n",
    "model.add(Dense(128, activation='relu'))\n",
    "model.add(Dense(len(distrib.keys()), activation='sigmoid'))\n",
    "\n",
    "\n"
   ]
  },
  {
   "cell_type": "code",
   "execution_count": 194,
   "id": "9bb52ecf",
   "metadata": {},
   "outputs": [
    {
     "name": "stdout",
     "output_type": "stream",
     "text": [
      "Model: \"sequential_12\"\n",
      "_________________________________________________________________\n",
      " Layer (type)                Output Shape              Param #   \n",
      "=================================================================\n",
      " normalization_7 (Normalizat  (None, 60, 2)            3         \n",
      " ion)                                                            \n",
      "                                                                 \n",
      " conv1d_31 (Conv1D)          (None, 56, 32)            352       \n",
      "                                                                 \n",
      " max_pooling1d_30 (MaxPoolin  (None, 28, 32)           0         \n",
      " g1D)                                                            \n",
      "                                                                 \n",
      " conv1d_32 (Conv1D)          (None, 24, 64)            10304     \n",
      "                                                                 \n",
      " max_pooling1d_31 (MaxPoolin  (None, 12, 64)           0         \n",
      " g1D)                                                            \n",
      "                                                                 \n",
      " conv1d_33 (Conv1D)          (None, 8, 32)             10272     \n",
      "                                                                 \n",
      " max_pooling1d_32 (MaxPoolin  (None, 4, 32)            0         \n",
      " g1D)                                                            \n",
      "                                                                 \n",
      " flatten_10 (Flatten)        (None, 128)               0         \n",
      "                                                                 \n",
      " dense_20 (Dense)            (None, 128)               16512     \n",
      "                                                                 \n",
      " dense_21 (Dense)            (None, 5)                 645       \n",
      "                                                                 \n",
      "=================================================================\n",
      "Total params: 38,088\n",
      "Trainable params: 38,085\n",
      "Non-trainable params: 3\n",
      "_________________________________________________________________\n"
     ]
    }
   ],
   "source": [
    "#Conv 1 : output_shape= (None, length_values-5+1,32)    (None, 56,32)\n",
    "model.compile('adam', loss = tf.losses.BinaryCrossentropy(), metrics =['accuracy'])\n",
    "model.summary()"
   ]
  },
  {
   "cell_type": "code",
   "execution_count": 196,
   "id": "2b445e07",
   "metadata": {},
   "outputs": [
    {
     "name": "stdout",
     "output_type": "stream",
     "text": [
      "Epoch 1/20\n",
      "6602/6602 [==============================] - 62s 9ms/step - loss: 0.1597 - accuracy: 0.7674 - val_loss: 0.1714 - val_accuracy: 0.7925\n",
      "Epoch 2/20\n",
      "6602/6602 [==============================] - 67s 10ms/step - loss: 0.1370 - accuracy: 0.7834 - val_loss: 0.1704 - val_accuracy: 0.8044\n",
      "Epoch 3/20\n",
      "6602/6602 [==============================] - 62s 9ms/step - loss: 0.1232 - accuracy: 0.7944 - val_loss: 0.1668 - val_accuracy: 0.8065\n",
      "Epoch 4/20\n",
      "6602/6602 [==============================] - 62s 9ms/step - loss: 0.1125 - accuracy: 0.8041 - val_loss: 0.1599 - val_accuracy: 0.8179\n",
      "Epoch 5/20\n",
      "6602/6602 [==============================] - 63s 10ms/step - loss: 0.1032 - accuracy: 0.8138 - val_loss: 0.1696 - val_accuracy: 0.8021\n",
      "Epoch 6/20\n",
      "6602/6602 [==============================] - 61s 9ms/step - loss: 0.0990 - accuracy: 0.8170 - val_loss: 0.1615 - val_accuracy: 0.8094\n",
      "Epoch 7/20\n",
      "6602/6602 [==============================] - 61s 9ms/step - loss: 0.0938 - accuracy: 0.8240 - val_loss: 0.1451 - val_accuracy: 0.8333\n",
      "Epoch 8/20\n",
      "6602/6602 [==============================] - 62s 9ms/step - loss: 0.0908 - accuracy: 0.8287 - val_loss: 0.1648 - val_accuracy: 0.8056\n",
      "Epoch 9/20\n",
      "6602/6602 [==============================] - 62s 9ms/step - loss: 0.0878 - accuracy: 0.8326 - val_loss: 0.1678 - val_accuracy: 0.8022\n",
      "Epoch 10/20\n",
      "6602/6602 [==============================] - 62s 9ms/step - loss: 0.0816 - accuracy: 0.8381 - val_loss: 0.1705 - val_accuracy: 0.8013\n"
     ]
    },
    {
     "data": {
      "text/plain": [
       "<tensorflow.python.checkpoint.checkpoint.CheckpointLoadStatus at 0x1b1487338e0>"
      ]
     },
     "execution_count": 196,
     "metadata": {},
     "output_type": "execute_result"
    }
   ],
   "source": [
    "\n",
    "checkpoint_filepath = '/tmp/checkpoint/best_model'\n",
    "logs_dir = 'tmp/logs'\n",
    "\n",
    "tensorboard_callback = tf.keras.callbacks.TensorBoard(log_dir=logs_dir)\n",
    "model_checkpoint_callback = tf.keras.callbacks.ModelCheckpoint(\n",
    "    filepath=checkpoint_filepath, save_weights_only=True, monitor='val_accuracy',  mode='max',save_best_only=True)\n",
    "\n",
    "early_stop = tf.keras.callbacks.EarlyStopping(monitor='val_loss', patience=3)\n",
    "hist = model.fit(X_train,y_train, epochs =20, \n",
    "                 validation_data = (X_val,y_val),\n",
    "                 callbacks =[tensorboard_callback, early_stop,model_checkpoint_callback],\n",
    "                class_weight=class_weights\n",
    "                )\n",
    "\n",
    "model.load_weights(checkpoint_filepath)"
   ]
  },
  {
   "cell_type": "code",
   "execution_count": 197,
   "id": "1f3d54bd",
   "metadata": {},
   "outputs": [
    {
     "data": {
      "image/png": "[encoded data removed]",
      "text/plain": [
       "<Figure size 432x288 with 1 Axes>"
      ]
     },
     "metadata": {
      "needs_background": "light"
     },
     "output_type": "display_data"
    }
   ],
   "source": [
    "fig =plt.figure()\n",
    "plt.plot(hist.history['loss'], color ='teal', label ='train_loss')\n",
    "plt.plot(hist.history['val_loss'], color ='red', label ='val_loss')\n",
    "#plt.plot(hist.history['val_loss'], color= 'orange', label = 'val_loss')\n",
    "fig.suptitle('Loss', fontsize =20)\n",
    "plt.legend(loc =\"upper left\")\n",
    "plt.show()"
   ]
  },
  {
   "cell_type": "markdown",
   "id": "3dbbba8d",
   "metadata": {},
   "source": [
    "# Evaluate on the test dataset"
   ]
  },
  {
   "cell_type": "code",
   "execution_count": 198,
   "id": "6cd2be62",
   "metadata": {},
   "outputs": [],
   "source": [
    "class_names= label_binarizer.inverse_transform(np.identity(5))\n",
    "\n",
    "def plot_confusion_matrix(cm, classes, normalize=False, title='confusion matrix', cmap=plt.cm.Blues):\n",
    "    # This function prints and plots the confusion matrix. Normalization can be applied by setting `normalize=True`\n",
    "    if normalize:\n",
    "        cm = cm.astype('float') / cm.sum(axis=1)[:, np.newaxis]\n",
    "        print(\"normalized confusion matrix\")\n",
    "    else:\n",
    "        print('confusion matrix, without normalization')\n",
    "    plt.imshow(cm, interpolation='nearest', cmap=cmap)\n",
    "    plt.title(title)\n",
    "    plt.colorbar()\n",
    "    tick_marks = np.arange(len(classes))\n",
    "    plt.xticks(tick_marks, classes, rotation=45)\n",
    "    plt.yticks(tick_marks, classes)\n",
    "\n",
    "    fmt = '.2f' if normalize else 'd'\n",
    "    thresh = cm.max() / 2.\n",
    "    for i, j in itertools.product(range(cm.shape[0]), range(cm.shape[1])):\n",
    "        plt.text(j, i, format(cm[i, j], fmt),\n",
    "                 horizontalalignment=\"center\",\n",
    "                 color=\"white\" if cm[i, j] > thresh else \"black\")\n",
    "    plt.tight_layout()\n",
    "    plt.ylabel('true label')\n",
    "    plt.xlabel('predicted label')"
   ]
  },
  {
   "cell_type": "code",
   "execution_count": 199,
   "id": "1c7e60f5",
   "metadata": {},
   "outputs": [
    {
     "name": "stdout",
     "output_type": "stream",
     "text": [
      "1457/1457 [==============================] - 6s 4ms/step\n"
     ]
    }
   ],
   "source": [
    "# mesure efficiency\n",
    "preds_labels =  model.predict(X_test)\n",
    "preds_labels = label_binarizer.inverse_transform(preds_labels)"
   ]
  },
  {
   "cell_type": "code",
   "execution_count": 200,
   "id": "bc4f6de1",
   "metadata": {},
   "outputs": [],
   "source": [
    "true_labels = label_binarizer.inverse_transform(y_test)\n"
   ]
  },
  {
   "cell_type": "code",
   "execution_count": 201,
   "id": "75428412",
   "metadata": {},
   "outputs": [
    {
     "name": "stdout",
     "output_type": "stream",
     "text": [
      "normalized confusion matrix\n"
     ]
    },
    {
     "data": {
      "image/png": "[encoded data removed]",
      "text/plain": [
       "<Figure size 432x432 with 2 Axes>"
      ]
     },
     "metadata": {
      "needs_background": "light"
     },
     "output_type": "display_data"
    }
   ],
   "source": [
    " \n",
    "\n",
    "\n",
    "# compute confusion matrix\n",
    "cnf_matrix = confusion_matrix(true_labels,preds_labels)\n",
    "np.set_printoptions(precision=2)\n",
    "\n",
    "# plot normalized confusion matrix\n",
    "plt.figure(figsize=(6, 6))\n",
    "plot_confusion_matrix(cnf_matrix, classes=class_names, normalize=True, title='normalized confusion matrix')\n",
    "\n",
    "plt.show()"
   ]
  },
  {
   "cell_type": "markdown",
   "id": "f38853b7",
   "metadata": {},
   "source": [
    "# Evaluate on the whole dataset"
   ]
  },
  {
   "cell_type": "code",
   "execution_count": 202,
   "id": "1daae08b",
   "metadata": {
    "scrolled": true
   },
   "outputs": [
    {
     "name": "stdout",
     "output_type": "stream",
     "text": [
      "9708/9708 [==============================] - 10848s 1s/step\n"
     ]
    }
   ],
   "source": [
    "# mesure efficiency\n",
    "preds_labels =  model.predict(TBS_values)\n",
    "preds_labels = label_binarizer.inverse_transform(preds_labels)"
   ]
  },
  {
   "cell_type": "code",
   "execution_count": 203,
   "id": "22494dc3",
   "metadata": {},
   "outputs": [],
   "source": [
    "\n",
    "true_labels = label_binarizer.inverse_transform(label_one_hot_encoded)\n"
   ]
  },
  {
   "cell_type": "code",
   "execution_count": 204,
   "id": "3cb9f74c",
   "metadata": {},
   "outputs": [
    {
     "name": "stdout",
     "output_type": "stream",
     "text": [
      "normalized confusion matrix\n"
     ]
    },
    {
     "data": {
      "image/png": "[encoded data removed]",
      "text/plain": [
       "<Figure size 432x432 with 2 Axes>"
      ]
     },
     "metadata": {
      "needs_background": "light"
     },
     "output_type": "display_data"
    }
   ],
   "source": [
    "# compute confusion matrix\n",
    "cnf_matrix = confusion_matrix(true_labels,preds_labels)\n",
    "np.set_printoptions(precision=2)\n",
    "\n",
    "# plot normalized confusion matrix\n",
    "plt.figure(figsize=(6, 6))\n",
    "plot_confusion_matrix(cnf_matrix, classes=class_names, normalize=True, title='normalized confusion matrix')\n",
    "\n",
    "plt.show()"
   ]
  },
  {
   "cell_type": "code",
   "execution_count": null,
   "id": "fcaf2e9a",
   "metadata": {},
   "outputs": [],
   "source": []
  },
  {
   "cell_type": "code",
   "execution_count": null,
   "id": "8e97b2c8",
   "metadata": {},
   "outputs": [],
   "source": []
  },
  {
   "cell_type": "code",
   "execution_count": null,
   "id": "35aa4acc",
   "metadata": {},
   "outputs": [],
   "source": []
  }
 ],
 "metadata": {
  "kernelspec": {
   "display_name": "Python 3",
   "language": "python",
   "name": "python3"
  },
  "language_info": {
   "codemirror_mode": {
    "name": "ipython",
    "version": 3
   },
   "file_extension": ".py",
   "mimetype": "text/x-python",
   "name": "python",
   "nbconvert_exporter": "python",
   "pygments_lexer": "ipython3",
   "version": "3.8.8"
  }
 },
 "nbformat": 4,
 "nbformat_minor": 5
}
