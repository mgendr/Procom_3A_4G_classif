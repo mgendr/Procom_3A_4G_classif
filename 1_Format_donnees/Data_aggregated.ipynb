{
 "cells": [
  {
   "cell_type": "code",
   "execution_count": 1,
   "id": "4c53af1c",
   "metadata": {},
   "outputs": [],
   "source": [
    "import os\n",
    "import pandas as pd\n",
    "import warnings\n",
    "import matplotlib.pyplot as plt\n",
    "\n",
    "import numpy as np\n",
    "import seaborn as sns\n",
    "\n",
    "from tqdm import tqdm\n",
    "from random import randint\n",
    "from sklearn.model_selection import train_test_split\n",
    "\n",
    "import itertools\n"
   ]
  },
  {
   "cell_type": "code",
   "execution_count": 2,
   "id": "b66b2e91",
   "metadata": {},
   "outputs": [],
   "source": [
    "DEFAULT_LENGTH_Value = 60"
   ]
  },
  {
   "cell_type": "code",
   "execution_count": 3,
   "id": "da843876",
   "metadata": {},
   "outputs": [],
   "source": [
    "\n",
    "\n",
    "# key : value\n",
    "# uniq_id : [60 values, label]"
   ]
  },
  {
   "cell_type": "code",
   "execution_count": null,
   "id": "27507fe6",
   "metadata": {},
   "outputs": [],
   "source": [
    "\n",
    "        \n"
   ]
  },
  {
   "cell_type": "code",
   "execution_count": 4,
   "id": "669a7a48",
   "metadata": {},
   "outputs": [],
   "source": [
    "def format_data(filename, global_data):\n",
    "    data = pd.read_csv(filename)\n",
    "    data[\"TBS_2\"] = data[\"TBS_2\"].replace(to_replace = -2, value = 0)\n",
    "    data[\"label\"] = data[\"label\"].replace(to_replace = \"pure_noise\", value = \"noise\")\n",
    "    data.set_index(pd.to_datetime(data.Time), inplace=True)\n",
    "    \n",
    "    id_acquis = data.id_acquisition.iloc[0] # unique for each file\n",
    "    \n",
    "    for val in tqdm(data.connection_id.unique()): # for each unique RNTI \n",
    "        current_data = data[data.connection_id==val] # We only keep the corresponding values\n",
    "        label = current_data.label.value_counts(sort = True, ascending =False).index[0]# The label is the most frequent label\n",
    "        global_data[f\"{id_acquis}_{val}\"]=(current_data.TBS_1, current_data.TBS_2,label) # We save TBS1, TBS2 and the label\n",
    "        # With the key id_file + id_RNTI\n",
    "    \n",
    "    return global_data\n",
    "\n",
    "def load_merge_datasets(path_directory) :\n",
    "    datasets = [i for i in os.listdir(path_directory) if i.endswith(\".csv\") ]\n",
    "    global_data = {}\n",
    "    for i, data in enumerate(datasets) :\n",
    "        file = os.path.join(path_directory,data)\n",
    "        print(f\"Extracting {file}.... {i+1}/{len(datasets)}\")\n",
    "        global_data = format_data(file, global_data)\n",
    "         \n",
    "    return global_data\n",
    "    "
   ]
  },
  {
   "cell_type": "code",
   "execution_count": 5,
   "id": "10351bbc",
   "metadata": {},
   "outputs": [
    {
     "name": "stdout",
     "output_type": "stream",
     "text": [
      "Extracting ../Mesures/train\\messenger20221117_125310.csv.... 1/33\n"
     ]
    },
    {
     "name": "stderr",
     "output_type": "stream",
     "text": [
      "100%|██████████████████████████████████████████████████████████████████████████████████| 15/15 [00:00<00:00, 62.43it/s]\n"
     ]
    },
    {
     "name": "stdout",
     "output_type": "stream",
     "text": [
      "Extracting ../Mesures/train\\messenger20221124_143112.csv.... 2/33\n"
     ]
    },
    {
     "name": "stderr",
     "output_type": "stream",
     "text": [
      "100%|██████████████████████████████████████████████████████████████████████████████████| 11/11 [00:00<00:00, 19.12it/s]\n"
     ]
    },
    {
     "name": "stdout",
     "output_type": "stream",
     "text": [
      "Extracting ../Mesures/train\\messenger20221124_151137.csv.... 3/33\n"
     ]
    },
    {
     "name": "stderr",
     "output_type": "stream",
     "text": [
      "100%|████████████████████████████████████████████████████████████████████████████████████| 5/5 [00:00<00:00,  9.77it/s]\n"
     ]
    },
    {
     "name": "stdout",
     "output_type": "stream",
     "text": [
      "Extracting ../Mesures/train\\messenger20221125_130559.csv.... 4/33\n"
     ]
    },
    {
     "name": "stderr",
     "output_type": "stream",
     "text": [
      "100%|██████████████████████████████████████████████████████████████████████████████████| 39/39 [00:00<00:00, 46.21it/s]\n"
     ]
    },
    {
     "name": "stdout",
     "output_type": "stream",
     "text": [
      "Extracting ../Mesures/train\\messenger20221125_150706.csv.... 5/33\n"
     ]
    },
    {
     "name": "stderr",
     "output_type": "stream",
     "text": [
      "100%|████████████████████████████████████████████████████████████████████████████████| 335/335 [00:06<00:00, 50.38it/s]\n"
     ]
    },
    {
     "name": "stdout",
     "output_type": "stream",
     "text": [
      "Extracting ../Mesures/train\\messenger20221129_131204.csv.... 6/33\n"
     ]
    },
    {
     "name": "stderr",
     "output_type": "stream",
     "text": [
      "100%|██████████████████████████████████████████████████████████████████████████████████| 14/14 [00:02<00:00,  6.79it/s]\n"
     ]
    },
    {
     "name": "stdout",
     "output_type": "stream",
     "text": [
      "Extracting ../Mesures/train\\pure_noise20230106_132210.csv.... 7/33\n"
     ]
    },
    {
     "name": "stderr",
     "output_type": "stream",
     "text": [
      "100%|███████████████████████████████████████████████████████████████████████████████| 839/839 [00:02<00:00, 406.83it/s]\n"
     ]
    },
    {
     "name": "stdout",
     "output_type": "stream",
     "text": [
      "Extracting ../Mesures/train\\skype20221129_164105.csv.... 8/33\n"
     ]
    },
    {
     "name": "stderr",
     "output_type": "stream",
     "text": [
      "100%|████████████████████████████████████████████████████████████████████████████████████| 5/5 [00:00<00:00,  6.82it/s]\n"
     ]
    },
    {
     "name": "stdout",
     "output_type": "stream",
     "text": [
      "Extracting ../Mesures/train\\skype20221206_125510.csv.... 9/33\n"
     ]
    },
    {
     "name": "stderr",
     "output_type": "stream",
     "text": [
      "100%|██████████████████████████████████████████████████████████████████████████████████| 19/19 [00:01<00:00, 18.49it/s]\n"
     ]
    },
    {
     "name": "stdout",
     "output_type": "stream",
     "text": [
      "Extracting ../Mesures/train\\skype20221208_104403.csv.... 10/33\n"
     ]
    },
    {
     "name": "stderr",
     "output_type": "stream",
     "text": [
      "100%|████████████████████████████████████████████████████████████████████████████████████| 7/7 [00:03<00:00,  2.23it/s]\n"
     ]
    },
    {
     "name": "stdout",
     "output_type": "stream",
     "text": [
      "Extracting ../Mesures/train\\skype20221208_124925.csv.... 11/33\n"
     ]
    },
    {
     "name": "stderr",
     "output_type": "stream",
     "text": [
      "100%|████████████████████████████████████████████████████████████████████████████████████| 6/6 [00:04<00:00,  1.44it/s]\n"
     ]
    },
    {
     "name": "stdout",
     "output_type": "stream",
     "text": [
      "Extracting ../Mesures/train\\skype20221215_151512.csv.... 12/33\n"
     ]
    },
    {
     "name": "stderr",
     "output_type": "stream",
     "text": [
      "100%|██████████████████████████████████████████████████████████████████████████████████| 23/23 [00:01<00:00, 21.35it/s]\n"
     ]
    },
    {
     "name": "stdout",
     "output_type": "stream",
     "text": [
      "Extracting ../Mesures/train\\skype20221215_155618.csv.... 13/33\n"
     ]
    },
    {
     "name": "stderr",
     "output_type": "stream",
     "text": [
      "100%|██████████████████████████████████████████████████████████████████████████████████| 19/19 [00:01<00:00, 14.36it/s]\n"
     ]
    },
    {
     "name": "stdout",
     "output_type": "stream",
     "text": [
      "Extracting ../Mesures/train\\skype20221215_164208.csv.... 14/33\n"
     ]
    },
    {
     "name": "stderr",
     "output_type": "stream",
     "text": [
      "100%|████████████████████████████████████████████████████████████████████████████████████| 5/5 [00:01<00:00,  3.08it/s]\n"
     ]
    },
    {
     "name": "stdout",
     "output_type": "stream",
     "text": [
      "Extracting ../Mesures/train\\skype20221215_174819.csv.... 15/33\n"
     ]
    },
    {
     "name": "stderr",
     "output_type": "stream",
     "text": [
      "100%|████████████████████████████████████████████████████████████████████████████████████| 6/6 [00:01<00:00,  5.05it/s]\n"
     ]
    },
    {
     "name": "stdout",
     "output_type": "stream",
     "text": [
      "Extracting ../Mesures/train\\twitch20221117_113554.csv.... 16/33\n"
     ]
    },
    {
     "name": "stderr",
     "output_type": "stream",
     "text": [
      "100%|██████████████████████████████████████████████████████████████████████████████████| 29/29 [00:00<00:00, 55.51it/s]\n"
     ]
    },
    {
     "name": "stdout",
     "output_type": "stream",
     "text": [
      "Extracting ../Mesures/train\\twitch20221118_075454.csv.... 17/33\n"
     ]
    },
    {
     "name": "stderr",
     "output_type": "stream",
     "text": [
      "100%|██████████████████████████████████████████████████████████████████████████████████| 16/16 [00:00<00:00, 27.69it/s]\n"
     ]
    },
    {
     "name": "stdout",
     "output_type": "stream",
     "text": [
      "Extracting ../Mesures/train\\twitch20221125_133859.csv.... 18/33\n"
     ]
    },
    {
     "name": "stderr",
     "output_type": "stream",
     "text": [
      "100%|████████████████████████████████████████████████████████████████████████████████| 109/109 [00:02<00:00, 37.83it/s]\n"
     ]
    },
    {
     "name": "stdout",
     "output_type": "stream",
     "text": [
      "Extracting ../Mesures/train\\twitch20230110_110215.csv.... 19/33\n"
     ]
    },
    {
     "name": "stderr",
     "output_type": "stream",
     "text": [
      "100%|██████████████████████████████████████████████████████████████████████████████████| 22/22 [00:00<00:00, 47.67it/s]\n"
     ]
    },
    {
     "name": "stdout",
     "output_type": "stream",
     "text": [
      "Extracting ../Mesures/train\\twitch20230110_120513.csv.... 20/33\n"
     ]
    },
    {
     "name": "stderr",
     "output_type": "stream",
     "text": [
      "100%|██████████████████████████████████████████████████████████████████████████████████| 61/61 [00:00<00:00, 96.28it/s]\n"
     ]
    },
    {
     "name": "stdout",
     "output_type": "stream",
     "text": [
      "Extracting ../Mesures/train\\twitch20230110_130648.csv.... 21/33\n"
     ]
    },
    {
     "name": "stderr",
     "output_type": "stream",
     "text": [
      "100%|███████████████████████████████████████████████████████████████████████████████| 427/427 [00:01<00:00, 275.92it/s]\n"
     ]
    },
    {
     "name": "stdout",
     "output_type": "stream",
     "text": [
      "Extracting ../Mesures/train\\youtube20221108_165214.csv.... 22/33\n"
     ]
    },
    {
     "name": "stderr",
     "output_type": "stream",
     "text": [
      "100%|█████████████████████████████████████████████████████████████████████████████████| 12/12 [00:00<00:00, 247.23it/s]\n"
     ]
    },
    {
     "name": "stdout",
     "output_type": "stream",
     "text": [
      "Extracting ../Mesures/train\\youtube20221108_182416.csv.... 23/33\n"
     ]
    },
    {
     "name": "stderr",
     "output_type": "stream",
     "text": [
      "100%|███████████████████████████████████████████████████████████████████████████████████| 4/4 [00:00<00:00, 123.02it/s]\n"
     ]
    },
    {
     "name": "stdout",
     "output_type": "stream",
     "text": [
      "Extracting ../Mesures/train\\youtube20221124_125524.csv.... 24/33\n"
     ]
    },
    {
     "name": "stderr",
     "output_type": "stream",
     "text": [
      "100%|███████████████████████████████████████████████████████████████████████████████| 188/188 [00:00<00:00, 459.30it/s]\n"
     ]
    },
    {
     "name": "stdout",
     "output_type": "stream",
     "text": [
      "Extracting ../Mesures/train\\youtube20221124_154037.csv.... 25/33\n"
     ]
    },
    {
     "name": "stderr",
     "output_type": "stream",
     "text": [
      "100%|█████████████████████████████████████████████████████████████████████████████████| 92/92 [00:00<00:00, 498.74it/s]\n"
     ]
    },
    {
     "name": "stdout",
     "output_type": "stream",
     "text": [
      "Extracting ../Mesures/train\\youtube20221130_103723.csv.... 26/33\n"
     ]
    },
    {
     "name": "stderr",
     "output_type": "stream",
     "text": [
      "100%|█████████████████████████████████████████████████████████████████████████████████| 91/91 [00:00<00:00, 471.65it/s]\n"
     ]
    },
    {
     "name": "stdout",
     "output_type": "stream",
     "text": [
      "Extracting ../Mesures/train\\youtube20230110_145404.csv.... 27/33\n"
     ]
    },
    {
     "name": "stderr",
     "output_type": "stream",
     "text": [
      "100%|█████████████████████████████████████████████████████████████████████████████████| 95/95 [00:00<00:00, 515.47it/s]\n"
     ]
    },
    {
     "name": "stdout",
     "output_type": "stream",
     "text": [
      "Extracting ../Mesures/train\\youtube20230110_161955.csv.... 28/33\n"
     ]
    },
    {
     "name": "stderr",
     "output_type": "stream",
     "text": [
      "100%|█████████████████████████████████████████████████████████████████████████████████| 90/90 [00:00<00:00, 466.49it/s]\n"
     ]
    },
    {
     "name": "stdout",
     "output_type": "stream",
     "text": [
      "Extracting ../Mesures/train\\youtube20230112_125508.csv.... 29/33\n"
     ]
    },
    {
     "name": "stderr",
     "output_type": "stream",
     "text": [
      "100%|███████████████████████████████████████████████████████████████████████████████| 108/108 [00:00<00:00, 210.66it/s]\n"
     ]
    },
    {
     "name": "stdout",
     "output_type": "stream",
     "text": [
      "Extracting ../Mesures/train\\youtube20230112_151029.csv.... 30/33\n"
     ]
    },
    {
     "name": "stderr",
     "output_type": "stream",
     "text": [
      "100%|█████████████████████████████████████████████████████████████████████████████████| 29/29 [00:00<00:00, 240.71it/s]\n"
     ]
    },
    {
     "name": "stdout",
     "output_type": "stream",
     "text": [
      "Extracting ../Mesures/train\\youtube20230112_154749.csv.... 31/33\n"
     ]
    },
    {
     "name": "stderr",
     "output_type": "stream",
     "text": [
      "100%|█████████████████████████████████████████████████████████████████████████████████| 32/32 [00:00<00:00, 266.02it/s]\n"
     ]
    },
    {
     "name": "stdout",
     "output_type": "stream",
     "text": [
      "Extracting ../Mesures/train\\youtube20230112_163634.csv.... 32/33\n"
     ]
    },
    {
     "name": "stderr",
     "output_type": "stream",
     "text": [
      "100%|█████████████████████████████████████████████████████████████████████████████████| 65/65 [00:00<00:00, 352.71it/s]\n"
     ]
    },
    {
     "name": "stdout",
     "output_type": "stream",
     "text": [
      "Extracting ../Mesures/train\\youtube20230117_095221.csv.... 33/33\n"
     ]
    },
    {
     "name": "stderr",
     "output_type": "stream",
     "text": [
      "100%|███████████████████████████████████████████████████████████████████████████████| 140/140 [00:01<00:00, 137.18it/s]\n"
     ]
    }
   ],
   "source": [
    "directory_data = \"../Mesures/train\"\n",
    "\n",
    "\n",
    "data = load_merge_datasets(directory_data)"
   ]
  },
  {
   "cell_type": "code",
   "execution_count": 8,
   "id": "f2b61ac6",
   "metadata": {},
   "outputs": [],
   "source": [
    "def reformat_data(global_data) :\n",
    "    reformated_data = {}\n",
    "\n",
    "    for key, value in tqdm(global_data.items()) :\n",
    "        TBS_1, TBS_2, label = value\n",
    "       \n",
    "        current_data = pd.concat([TBS_1, TBS_2],axis=1)\n",
    " \n",
    "        current_data = current_data.resample('s').mean().interpolate()\n",
    "        if len(current_data)>=DEFAULT_LENGTH_Value :\n",
    "            \n",
    "            for i in range(len(current_data)-DEFAULT_LENGTH_Value+1) :\n",
    "                    current_window = current_data.iloc[i:i+DEFAULT_LENGTH_Value]\n",
    "                    \n",
    "                    reformated_data[f\"{key}_{i}\"]=(current_window.TBS_1, current_window.TBS_2,label)\n",
    "                    \n",
    "    \n",
    "\n",
    "    return reformated_data"
   ]
  },
  {
   "cell_type": "code",
   "execution_count": 9,
   "id": "fd92d78f",
   "metadata": {},
   "outputs": [
    {
     "name": "stderr",
     "output_type": "stream",
     "text": [
      "100%|██████████████████████████████████████████████████████████████████████████████| 2958/2958 [02:15<00:00, 21.80it/s]\n"
     ]
    }
   ],
   "source": [
    "reformated_training = reformat_data(data)"
   ]
  },
  {
   "cell_type": "code",
   "execution_count": 10,
   "id": "8f0ca62f",
   "metadata": {},
   "outputs": [],
   "source": [
    "def adapt_to_dataframe(data) :\n",
    "\n",
    "    futur_df = dict([(key,list(value[0].values)+list(value[1].values) + [value[2]]) for key, value in data.items()])\n",
    "    futur_df = pd.DataFrame(futur_df).T\n",
    "    \n",
    "    futur_df.columns = list(futur_df.columns[:-1])+[\"label\"]\n",
    "    \n",
    "    return futur_df"
   ]
  },
  {
   "cell_type": "code",
   "execution_count": 11,
   "id": "a6be36c7",
   "metadata": {},
   "outputs": [
    {
     "data": {
      "text/html": [
       "<div>\n",
       "<style scoped>\n",
       "    .dataframe tbody tr th:only-of-type {\n",
       "        vertical-align: middle;\n",
       "    }\n",
       "\n",
       "    .dataframe tbody tr th {\n",
       "        vertical-align: top;\n",
       "    }\n",
       "\n",
       "    .dataframe thead th {\n",
       "        text-align: right;\n",
       "    }\n",
       "</style>\n",
       "<table border=\"1\" class=\"dataframe\">\n",
       "  <thead>\n",
       "    <tr style=\"text-align: right;\">\n",
       "      <th></th>\n",
       "      <th>0</th>\n",
       "      <th>1</th>\n",
       "      <th>2</th>\n",
       "      <th>3</th>\n",
       "      <th>4</th>\n",
       "      <th>5</th>\n",
       "      <th>6</th>\n",
       "      <th>7</th>\n",
       "      <th>8</th>\n",
       "      <th>9</th>\n",
       "      <th>...</th>\n",
       "      <th>111</th>\n",
       "      <th>112</th>\n",
       "      <th>113</th>\n",
       "      <th>114</th>\n",
       "      <th>115</th>\n",
       "      <th>116</th>\n",
       "      <th>117</th>\n",
       "      <th>118</th>\n",
       "      <th>119</th>\n",
       "      <th>label</th>\n",
       "    </tr>\n",
       "  </thead>\n",
       "  <tbody>\n",
       "    <tr>\n",
       "      <th>20221117_125310_4_0</th>\n",
       "      <td>320.0</td>\n",
       "      <td>914.730159</td>\n",
       "      <td>1509.460317</td>\n",
       "      <td>1245.169231</td>\n",
       "      <td>1546.434783</td>\n",
       "      <td>1308.988235</td>\n",
       "      <td>258.666667</td>\n",
       "      <td>355.060606</td>\n",
       "      <td>451.454545</td>\n",
       "      <td>547.848485</td>\n",
       "      <td>...</td>\n",
       "      <td>0.0</td>\n",
       "      <td>0.0</td>\n",
       "      <td>0.0</td>\n",
       "      <td>0.0</td>\n",
       "      <td>0.0</td>\n",
       "      <td>0.0</td>\n",
       "      <td>0.0</td>\n",
       "      <td>0.0</td>\n",
       "      <td>0.0</td>\n",
       "      <td>messenger</td>\n",
       "    </tr>\n",
       "    <tr>\n",
       "      <th>20221117_125310_4_1</th>\n",
       "      <td>914.730159</td>\n",
       "      <td>1509.460317</td>\n",
       "      <td>1245.169231</td>\n",
       "      <td>1546.434783</td>\n",
       "      <td>1308.988235</td>\n",
       "      <td>258.666667</td>\n",
       "      <td>355.060606</td>\n",
       "      <td>451.454545</td>\n",
       "      <td>547.848485</td>\n",
       "      <td>644.242424</td>\n",
       "      <td>...</td>\n",
       "      <td>0.0</td>\n",
       "      <td>0.0</td>\n",
       "      <td>0.0</td>\n",
       "      <td>0.0</td>\n",
       "      <td>0.0</td>\n",
       "      <td>0.0</td>\n",
       "      <td>0.0</td>\n",
       "      <td>0.0</td>\n",
       "      <td>0.0</td>\n",
       "      <td>messenger</td>\n",
       "    </tr>\n",
       "    <tr>\n",
       "      <th>20221117_125310_4_2</th>\n",
       "      <td>1509.460317</td>\n",
       "      <td>1245.169231</td>\n",
       "      <td>1546.434783</td>\n",
       "      <td>1308.988235</td>\n",
       "      <td>258.666667</td>\n",
       "      <td>355.060606</td>\n",
       "      <td>451.454545</td>\n",
       "      <td>547.848485</td>\n",
       "      <td>644.242424</td>\n",
       "      <td>740.636364</td>\n",
       "      <td>...</td>\n",
       "      <td>0.0</td>\n",
       "      <td>0.0</td>\n",
       "      <td>0.0</td>\n",
       "      <td>0.0</td>\n",
       "      <td>0.0</td>\n",
       "      <td>0.0</td>\n",
       "      <td>0.0</td>\n",
       "      <td>0.0</td>\n",
       "      <td>0.0</td>\n",
       "      <td>messenger</td>\n",
       "    </tr>\n",
       "    <tr>\n",
       "      <th>20221117_125310_4_3</th>\n",
       "      <td>1245.169231</td>\n",
       "      <td>1546.434783</td>\n",
       "      <td>1308.988235</td>\n",
       "      <td>258.666667</td>\n",
       "      <td>355.060606</td>\n",
       "      <td>451.454545</td>\n",
       "      <td>547.848485</td>\n",
       "      <td>644.242424</td>\n",
       "      <td>740.636364</td>\n",
       "      <td>837.030303</td>\n",
       "      <td>...</td>\n",
       "      <td>0.0</td>\n",
       "      <td>0.0</td>\n",
       "      <td>0.0</td>\n",
       "      <td>0.0</td>\n",
       "      <td>0.0</td>\n",
       "      <td>0.0</td>\n",
       "      <td>0.0</td>\n",
       "      <td>0.0</td>\n",
       "      <td>0.0</td>\n",
       "      <td>messenger</td>\n",
       "    </tr>\n",
       "    <tr>\n",
       "      <th>20221117_125310_4_4</th>\n",
       "      <td>1546.434783</td>\n",
       "      <td>1308.988235</td>\n",
       "      <td>258.666667</td>\n",
       "      <td>355.060606</td>\n",
       "      <td>451.454545</td>\n",
       "      <td>547.848485</td>\n",
       "      <td>644.242424</td>\n",
       "      <td>740.636364</td>\n",
       "      <td>837.030303</td>\n",
       "      <td>933.424242</td>\n",
       "      <td>...</td>\n",
       "      <td>0.0</td>\n",
       "      <td>0.0</td>\n",
       "      <td>0.0</td>\n",
       "      <td>0.0</td>\n",
       "      <td>0.0</td>\n",
       "      <td>0.0</td>\n",
       "      <td>0.0</td>\n",
       "      <td>0.0</td>\n",
       "      <td>0.0</td>\n",
       "      <td>messenger</td>\n",
       "    </tr>\n",
       "    <tr>\n",
       "      <th>...</th>\n",
       "      <td>...</td>\n",
       "      <td>...</td>\n",
       "      <td>...</td>\n",
       "      <td>...</td>\n",
       "      <td>...</td>\n",
       "      <td>...</td>\n",
       "      <td>...</td>\n",
       "      <td>...</td>\n",
       "      <td>...</td>\n",
       "      <td>...</td>\n",
       "      <td>...</td>\n",
       "      <td>...</td>\n",
       "      <td>...</td>\n",
       "      <td>...</td>\n",
       "      <td>...</td>\n",
       "      <td>...</td>\n",
       "      <td>...</td>\n",
       "      <td>...</td>\n",
       "      <td>...</td>\n",
       "      <td>...</td>\n",
       "      <td>...</td>\n",
       "    </tr>\n",
       "    <tr>\n",
       "      <th>20230117_095221_143_13</th>\n",
       "      <td>2628.0</td>\n",
       "      <td>2405.034268</td>\n",
       "      <td>2182.068536</td>\n",
       "      <td>1959.102804</td>\n",
       "      <td>1932.158311</td>\n",
       "      <td>1820.456704</td>\n",
       "      <td>1708.755097</td>\n",
       "      <td>1597.05349</td>\n",
       "      <td>1485.351883</td>\n",
       "      <td>1373.650276</td>\n",
       "      <td>...</td>\n",
       "      <td>0.0</td>\n",
       "      <td>0.0</td>\n",
       "      <td>0.0</td>\n",
       "      <td>0.0</td>\n",
       "      <td>0.0</td>\n",
       "      <td>0.0</td>\n",
       "      <td>0.0</td>\n",
       "      <td>0.0</td>\n",
       "      <td>0.0</td>\n",
       "      <td>youtube</td>\n",
       "    </tr>\n",
       "    <tr>\n",
       "      <th>20230117_095221_143_14</th>\n",
       "      <td>2405.034268</td>\n",
       "      <td>2182.068536</td>\n",
       "      <td>1959.102804</td>\n",
       "      <td>1932.158311</td>\n",
       "      <td>1820.456704</td>\n",
       "      <td>1708.755097</td>\n",
       "      <td>1597.05349</td>\n",
       "      <td>1485.351883</td>\n",
       "      <td>1373.650276</td>\n",
       "      <td>1261.948669</td>\n",
       "      <td>...</td>\n",
       "      <td>0.0</td>\n",
       "      <td>0.0</td>\n",
       "      <td>0.0</td>\n",
       "      <td>0.0</td>\n",
       "      <td>0.0</td>\n",
       "      <td>0.0</td>\n",
       "      <td>0.0</td>\n",
       "      <td>0.0</td>\n",
       "      <td>0.0</td>\n",
       "      <td>youtube</td>\n",
       "    </tr>\n",
       "    <tr>\n",
       "      <th>20230117_095221_143_15</th>\n",
       "      <td>2182.068536</td>\n",
       "      <td>1959.102804</td>\n",
       "      <td>1932.158311</td>\n",
       "      <td>1820.456704</td>\n",
       "      <td>1708.755097</td>\n",
       "      <td>1597.05349</td>\n",
       "      <td>1485.351883</td>\n",
       "      <td>1373.650276</td>\n",
       "      <td>1261.948669</td>\n",
       "      <td>1150.247062</td>\n",
       "      <td>...</td>\n",
       "      <td>0.0</td>\n",
       "      <td>0.0</td>\n",
       "      <td>0.0</td>\n",
       "      <td>0.0</td>\n",
       "      <td>0.0</td>\n",
       "      <td>0.0</td>\n",
       "      <td>0.0</td>\n",
       "      <td>0.0</td>\n",
       "      <td>0.0</td>\n",
       "      <td>youtube</td>\n",
       "    </tr>\n",
       "    <tr>\n",
       "      <th>20230117_095221_143_16</th>\n",
       "      <td>1959.102804</td>\n",
       "      <td>1932.158311</td>\n",
       "      <td>1820.456704</td>\n",
       "      <td>1708.755097</td>\n",
       "      <td>1597.05349</td>\n",
       "      <td>1485.351883</td>\n",
       "      <td>1373.650276</td>\n",
       "      <td>1261.948669</td>\n",
       "      <td>1150.247062</td>\n",
       "      <td>1038.545455</td>\n",
       "      <td>...</td>\n",
       "      <td>0.0</td>\n",
       "      <td>0.0</td>\n",
       "      <td>0.0</td>\n",
       "      <td>0.0</td>\n",
       "      <td>0.0</td>\n",
       "      <td>0.0</td>\n",
       "      <td>0.0</td>\n",
       "      <td>0.0</td>\n",
       "      <td>0.0</td>\n",
       "      <td>youtube</td>\n",
       "    </tr>\n",
       "    <tr>\n",
       "      <th>20230117_095221_143_17</th>\n",
       "      <td>1932.158311</td>\n",
       "      <td>1820.456704</td>\n",
       "      <td>1708.755097</td>\n",
       "      <td>1597.05349</td>\n",
       "      <td>1485.351883</td>\n",
       "      <td>1373.650276</td>\n",
       "      <td>1261.948669</td>\n",
       "      <td>1150.247062</td>\n",
       "      <td>1038.545455</td>\n",
       "      <td>607.272727</td>\n",
       "      <td>...</td>\n",
       "      <td>0.0</td>\n",
       "      <td>0.0</td>\n",
       "      <td>0.0</td>\n",
       "      <td>0.0</td>\n",
       "      <td>0.0</td>\n",
       "      <td>0.0</td>\n",
       "      <td>0.0</td>\n",
       "      <td>0.0</td>\n",
       "      <td>0.0</td>\n",
       "      <td>youtube</td>\n",
       "    </tr>\n",
       "  </tbody>\n",
       "</table>\n",
       "<p>307573 rows × 121 columns</p>\n",
       "</div>"
      ],
      "text/plain": [
       "                                  0            1            2            3  \\\n",
       "20221117_125310_4_0           320.0   914.730159  1509.460317  1245.169231   \n",
       "20221117_125310_4_1      914.730159  1509.460317  1245.169231  1546.434783   \n",
       "20221117_125310_4_2     1509.460317  1245.169231  1546.434783  1308.988235   \n",
       "20221117_125310_4_3     1245.169231  1546.434783  1308.988235   258.666667   \n",
       "20221117_125310_4_4     1546.434783  1308.988235   258.666667   355.060606   \n",
       "...                             ...          ...          ...          ...   \n",
       "20230117_095221_143_13       2628.0  2405.034268  2182.068536  1959.102804   \n",
       "20230117_095221_143_14  2405.034268  2182.068536  1959.102804  1932.158311   \n",
       "20230117_095221_143_15  2182.068536  1959.102804  1932.158311  1820.456704   \n",
       "20230117_095221_143_16  1959.102804  1932.158311  1820.456704  1708.755097   \n",
       "20230117_095221_143_17  1932.158311  1820.456704  1708.755097   1597.05349   \n",
       "\n",
       "                                  4            5            6            7  \\\n",
       "20221117_125310_4_0     1546.434783  1308.988235   258.666667   355.060606   \n",
       "20221117_125310_4_1     1308.988235   258.666667   355.060606   451.454545   \n",
       "20221117_125310_4_2      258.666667   355.060606   451.454545   547.848485   \n",
       "20221117_125310_4_3      355.060606   451.454545   547.848485   644.242424   \n",
       "20221117_125310_4_4      451.454545   547.848485   644.242424   740.636364   \n",
       "...                             ...          ...          ...          ...   \n",
       "20230117_095221_143_13  1932.158311  1820.456704  1708.755097   1597.05349   \n",
       "20230117_095221_143_14  1820.456704  1708.755097   1597.05349  1485.351883   \n",
       "20230117_095221_143_15  1708.755097   1597.05349  1485.351883  1373.650276   \n",
       "20230117_095221_143_16   1597.05349  1485.351883  1373.650276  1261.948669   \n",
       "20230117_095221_143_17  1485.351883  1373.650276  1261.948669  1150.247062   \n",
       "\n",
       "                                  8            9  ...  111  112  113  114  \\\n",
       "20221117_125310_4_0      451.454545   547.848485  ...  0.0  0.0  0.0  0.0   \n",
       "20221117_125310_4_1      547.848485   644.242424  ...  0.0  0.0  0.0  0.0   \n",
       "20221117_125310_4_2      644.242424   740.636364  ...  0.0  0.0  0.0  0.0   \n",
       "20221117_125310_4_3      740.636364   837.030303  ...  0.0  0.0  0.0  0.0   \n",
       "20221117_125310_4_4      837.030303   933.424242  ...  0.0  0.0  0.0  0.0   \n",
       "...                             ...          ...  ...  ...  ...  ...  ...   \n",
       "20230117_095221_143_13  1485.351883  1373.650276  ...  0.0  0.0  0.0  0.0   \n",
       "20230117_095221_143_14  1373.650276  1261.948669  ...  0.0  0.0  0.0  0.0   \n",
       "20230117_095221_143_15  1261.948669  1150.247062  ...  0.0  0.0  0.0  0.0   \n",
       "20230117_095221_143_16  1150.247062  1038.545455  ...  0.0  0.0  0.0  0.0   \n",
       "20230117_095221_143_17  1038.545455   607.272727  ...  0.0  0.0  0.0  0.0   \n",
       "\n",
       "                        115  116  117  118  119      label  \n",
       "20221117_125310_4_0     0.0  0.0  0.0  0.0  0.0  messenger  \n",
       "20221117_125310_4_1     0.0  0.0  0.0  0.0  0.0  messenger  \n",
       "20221117_125310_4_2     0.0  0.0  0.0  0.0  0.0  messenger  \n",
       "20221117_125310_4_3     0.0  0.0  0.0  0.0  0.0  messenger  \n",
       "20221117_125310_4_4     0.0  0.0  0.0  0.0  0.0  messenger  \n",
       "...                     ...  ...  ...  ...  ...        ...  \n",
       "20230117_095221_143_13  0.0  0.0  0.0  0.0  0.0    youtube  \n",
       "20230117_095221_143_14  0.0  0.0  0.0  0.0  0.0    youtube  \n",
       "20230117_095221_143_15  0.0  0.0  0.0  0.0  0.0    youtube  \n",
       "20230117_095221_143_16  0.0  0.0  0.0  0.0  0.0    youtube  \n",
       "20230117_095221_143_17  0.0  0.0  0.0  0.0  0.0    youtube  \n",
       "\n",
       "[307573 rows x 121 columns]"
      ]
     },
     "execution_count": 11,
     "metadata": {},
     "output_type": "execute_result"
    }
   ],
   "source": [
    "training_data = adapt_to_dataframe(reformated_training)\n",
    "training_data "
   ]
  },
  {
   "cell_type": "code",
   "execution_count": null,
   "id": "11227c8e",
   "metadata": {},
   "outputs": [],
   "source": []
  },
  {
   "cell_type": "code",
   "execution_count": null,
   "id": "36f8b8b9",
   "metadata": {},
   "outputs": [],
   "source": []
  },
  {
   "cell_type": "code",
   "execution_count": 12,
   "id": "4a576840",
   "metadata": {
    "scrolled": true
   },
   "outputs": [
    {
     "name": "stdout",
     "output_type": "stream",
     "text": [
      "Extracting ../Mesures/test\\messenger20221129_151124.csv.... 1/5\n"
     ]
    },
    {
     "name": "stderr",
     "output_type": "stream",
     "text": [
      "100%|████████████████████████████████████████████████████████████████████████████████████| 5/5 [00:01<00:00,  3.08it/s]\n"
     ]
    },
    {
     "name": "stdout",
     "output_type": "stream",
     "text": [
      "Extracting ../Mesures/test\\skype20221206_150902.csv.... 2/5\n"
     ]
    },
    {
     "name": "stderr",
     "output_type": "stream",
     "text": [
      "100%|████████████████████████████████████████████████████████████████████████████████████| 3/3 [00:02<00:00,  1.36it/s]\n"
     ]
    },
    {
     "name": "stdout",
     "output_type": "stream",
     "text": [
      "Extracting ../Mesures/test\\twitch20221124_163054.csv.... 3/5\n"
     ]
    },
    {
     "name": "stderr",
     "output_type": "stream",
     "text": [
      "100%|██████████████████████████████████████████████████████████████████████████████████| 12/12 [00:01<00:00, 10.77it/s]\n"
     ]
    },
    {
     "name": "stdout",
     "output_type": "stream",
     "text": [
      "Extracting ../Mesures/test\\youtube20221118_104205.csv.... 4/5\n"
     ]
    },
    {
     "name": "stderr",
     "output_type": "stream",
     "text": [
      "100%|███████████████████████████████████████████████████████████████████████████████| 218/218 [00:00<00:00, 480.57it/s]\n"
     ]
    },
    {
     "name": "stdout",
     "output_type": "stream",
     "text": [
      "Extracting ../Mesures/test\\youtube20230117_121925.csv.... 5/5\n"
     ]
    },
    {
     "name": "stderr",
     "output_type": "stream",
     "text": [
      "100%|███████████████████████████████████████████████████████████████████████████████| 260/260 [00:01<00:00, 150.28it/s]\n",
      "100%|████████████████████████████████████████████████████████████████████████████████| 498/498 [00:23<00:00, 20.93it/s]\n"
     ]
    },
    {
     "data": {
      "text/html": [
       "<div>\n",
       "<style scoped>\n",
       "    .dataframe tbody tr th:only-of-type {\n",
       "        vertical-align: middle;\n",
       "    }\n",
       "\n",
       "    .dataframe tbody tr th {\n",
       "        vertical-align: top;\n",
       "    }\n",
       "\n",
       "    .dataframe thead th {\n",
       "        text-align: right;\n",
       "    }\n",
       "</style>\n",
       "<table border=\"1\" class=\"dataframe\">\n",
       "  <thead>\n",
       "    <tr style=\"text-align: right;\">\n",
       "      <th></th>\n",
       "      <th>0</th>\n",
       "      <th>1</th>\n",
       "      <th>2</th>\n",
       "      <th>3</th>\n",
       "      <th>4</th>\n",
       "      <th>5</th>\n",
       "      <th>6</th>\n",
       "      <th>7</th>\n",
       "      <th>8</th>\n",
       "      <th>9</th>\n",
       "      <th>...</th>\n",
       "      <th>111</th>\n",
       "      <th>112</th>\n",
       "      <th>113</th>\n",
       "      <th>114</th>\n",
       "      <th>115</th>\n",
       "      <th>116</th>\n",
       "      <th>117</th>\n",
       "      <th>118</th>\n",
       "      <th>119</th>\n",
       "      <th>label</th>\n",
       "    </tr>\n",
       "  </thead>\n",
       "  <tbody>\n",
       "    <tr>\n",
       "      <th>20221129_151124_4_0</th>\n",
       "      <td>366.285714</td>\n",
       "      <td>379.428571</td>\n",
       "      <td>1533.387755</td>\n",
       "      <td>926.877193</td>\n",
       "      <td>862.140351</td>\n",
       "      <td>797.403509</td>\n",
       "      <td>732.666667</td>\n",
       "      <td>617.5</td>\n",
       "      <td>502.333333</td>\n",
       "      <td>387.166667</td>\n",
       "      <td>...</td>\n",
       "      <td>0.0</td>\n",
       "      <td>0.0</td>\n",
       "      <td>0.0</td>\n",
       "      <td>0.0</td>\n",
       "      <td>0.0</td>\n",
       "      <td>0.0</td>\n",
       "      <td>0.0</td>\n",
       "      <td>0.0</td>\n",
       "      <td>0.0</td>\n",
       "      <td>messenger</td>\n",
       "    </tr>\n",
       "    <tr>\n",
       "      <th>20221129_151124_4_1</th>\n",
       "      <td>379.428571</td>\n",
       "      <td>1533.387755</td>\n",
       "      <td>926.877193</td>\n",
       "      <td>862.140351</td>\n",
       "      <td>797.403509</td>\n",
       "      <td>732.666667</td>\n",
       "      <td>617.5</td>\n",
       "      <td>502.333333</td>\n",
       "      <td>387.166667</td>\n",
       "      <td>272.0</td>\n",
       "      <td>...</td>\n",
       "      <td>0.0</td>\n",
       "      <td>0.0</td>\n",
       "      <td>0.0</td>\n",
       "      <td>0.0</td>\n",
       "      <td>0.0</td>\n",
       "      <td>0.0</td>\n",
       "      <td>0.0</td>\n",
       "      <td>0.0</td>\n",
       "      <td>0.0</td>\n",
       "      <td>messenger</td>\n",
       "    </tr>\n",
       "    <tr>\n",
       "      <th>20221129_151124_4_2</th>\n",
       "      <td>1533.387755</td>\n",
       "      <td>926.877193</td>\n",
       "      <td>862.140351</td>\n",
       "      <td>797.403509</td>\n",
       "      <td>732.666667</td>\n",
       "      <td>617.5</td>\n",
       "      <td>502.333333</td>\n",
       "      <td>387.166667</td>\n",
       "      <td>272.0</td>\n",
       "      <td>321.481481</td>\n",
       "      <td>...</td>\n",
       "      <td>0.0</td>\n",
       "      <td>0.0</td>\n",
       "      <td>0.0</td>\n",
       "      <td>0.0</td>\n",
       "      <td>0.0</td>\n",
       "      <td>0.0</td>\n",
       "      <td>0.0</td>\n",
       "      <td>0.0</td>\n",
       "      <td>0.0</td>\n",
       "      <td>messenger</td>\n",
       "    </tr>\n",
       "    <tr>\n",
       "      <th>20221129_151124_4_3</th>\n",
       "      <td>926.877193</td>\n",
       "      <td>862.140351</td>\n",
       "      <td>797.403509</td>\n",
       "      <td>732.666667</td>\n",
       "      <td>617.5</td>\n",
       "      <td>502.333333</td>\n",
       "      <td>387.166667</td>\n",
       "      <td>272.0</td>\n",
       "      <td>321.481481</td>\n",
       "      <td>370.962963</td>\n",
       "      <td>...</td>\n",
       "      <td>0.0</td>\n",
       "      <td>0.0</td>\n",
       "      <td>0.0</td>\n",
       "      <td>0.0</td>\n",
       "      <td>0.0</td>\n",
       "      <td>0.0</td>\n",
       "      <td>0.0</td>\n",
       "      <td>0.0</td>\n",
       "      <td>0.0</td>\n",
       "      <td>messenger</td>\n",
       "    </tr>\n",
       "    <tr>\n",
       "      <th>20221129_151124_4_4</th>\n",
       "      <td>862.140351</td>\n",
       "      <td>797.403509</td>\n",
       "      <td>732.666667</td>\n",
       "      <td>617.5</td>\n",
       "      <td>502.333333</td>\n",
       "      <td>387.166667</td>\n",
       "      <td>272.0</td>\n",
       "      <td>321.481481</td>\n",
       "      <td>370.962963</td>\n",
       "      <td>420.444444</td>\n",
       "      <td>...</td>\n",
       "      <td>0.0</td>\n",
       "      <td>0.0</td>\n",
       "      <td>0.0</td>\n",
       "      <td>0.0</td>\n",
       "      <td>0.0</td>\n",
       "      <td>0.0</td>\n",
       "      <td>0.0</td>\n",
       "      <td>0.0</td>\n",
       "      <td>0.0</td>\n",
       "      <td>messenger</td>\n",
       "    </tr>\n",
       "    <tr>\n",
       "      <th>...</th>\n",
       "      <td>...</td>\n",
       "      <td>...</td>\n",
       "      <td>...</td>\n",
       "      <td>...</td>\n",
       "      <td>...</td>\n",
       "      <td>...</td>\n",
       "      <td>...</td>\n",
       "      <td>...</td>\n",
       "      <td>...</td>\n",
       "      <td>...</td>\n",
       "      <td>...</td>\n",
       "      <td>...</td>\n",
       "      <td>...</td>\n",
       "      <td>...</td>\n",
       "      <td>...</td>\n",
       "      <td>...</td>\n",
       "      <td>...</td>\n",
       "      <td>...</td>\n",
       "      <td>...</td>\n",
       "      <td>...</td>\n",
       "      <td>...</td>\n",
       "    </tr>\n",
       "    <tr>\n",
       "      <th>20230117_121925_263_43</th>\n",
       "      <td>355.158974</td>\n",
       "      <td>457.517949</td>\n",
       "      <td>559.876923</td>\n",
       "      <td>662.235897</td>\n",
       "      <td>764.594872</td>\n",
       "      <td>866.953846</td>\n",
       "      <td>969.312821</td>\n",
       "      <td>1071.671795</td>\n",
       "      <td>1174.030769</td>\n",
       "      <td>1003.989744</td>\n",
       "      <td>...</td>\n",
       "      <td>0.0</td>\n",
       "      <td>0.0</td>\n",
       "      <td>0.0</td>\n",
       "      <td>0.0</td>\n",
       "      <td>0.0</td>\n",
       "      <td>0.0</td>\n",
       "      <td>0.0</td>\n",
       "      <td>0.0</td>\n",
       "      <td>0.0</td>\n",
       "      <td>youtube</td>\n",
       "    </tr>\n",
       "    <tr>\n",
       "      <th>20230117_121925_263_44</th>\n",
       "      <td>457.517949</td>\n",
       "      <td>559.876923</td>\n",
       "      <td>662.235897</td>\n",
       "      <td>764.594872</td>\n",
       "      <td>866.953846</td>\n",
       "      <td>969.312821</td>\n",
       "      <td>1071.671795</td>\n",
       "      <td>1174.030769</td>\n",
       "      <td>1003.989744</td>\n",
       "      <td>833.948718</td>\n",
       "      <td>...</td>\n",
       "      <td>0.0</td>\n",
       "      <td>0.0</td>\n",
       "      <td>0.0</td>\n",
       "      <td>0.0</td>\n",
       "      <td>0.0</td>\n",
       "      <td>0.0</td>\n",
       "      <td>0.0</td>\n",
       "      <td>0.0</td>\n",
       "      <td>0.0</td>\n",
       "      <td>youtube</td>\n",
       "    </tr>\n",
       "    <tr>\n",
       "      <th>20230117_121925_263_45</th>\n",
       "      <td>559.876923</td>\n",
       "      <td>662.235897</td>\n",
       "      <td>764.594872</td>\n",
       "      <td>866.953846</td>\n",
       "      <td>969.312821</td>\n",
       "      <td>1071.671795</td>\n",
       "      <td>1174.030769</td>\n",
       "      <td>1003.989744</td>\n",
       "      <td>833.948718</td>\n",
       "      <td>663.907692</td>\n",
       "      <td>...</td>\n",
       "      <td>0.0</td>\n",
       "      <td>0.0</td>\n",
       "      <td>0.0</td>\n",
       "      <td>0.0</td>\n",
       "      <td>0.0</td>\n",
       "      <td>0.0</td>\n",
       "      <td>0.0</td>\n",
       "      <td>0.0</td>\n",
       "      <td>0.0</td>\n",
       "      <td>youtube</td>\n",
       "    </tr>\n",
       "    <tr>\n",
       "      <th>20230117_121925_263_46</th>\n",
       "      <td>662.235897</td>\n",
       "      <td>764.594872</td>\n",
       "      <td>866.953846</td>\n",
       "      <td>969.312821</td>\n",
       "      <td>1071.671795</td>\n",
       "      <td>1174.030769</td>\n",
       "      <td>1003.989744</td>\n",
       "      <td>833.948718</td>\n",
       "      <td>663.907692</td>\n",
       "      <td>493.866667</td>\n",
       "      <td>...</td>\n",
       "      <td>0.0</td>\n",
       "      <td>0.0</td>\n",
       "      <td>0.0</td>\n",
       "      <td>0.0</td>\n",
       "      <td>0.0</td>\n",
       "      <td>0.0</td>\n",
       "      <td>0.0</td>\n",
       "      <td>0.0</td>\n",
       "      <td>0.0</td>\n",
       "      <td>youtube</td>\n",
       "    </tr>\n",
       "    <tr>\n",
       "      <th>20230117_121925_263_47</th>\n",
       "      <td>764.594872</td>\n",
       "      <td>866.953846</td>\n",
       "      <td>969.312821</td>\n",
       "      <td>1071.671795</td>\n",
       "      <td>1174.030769</td>\n",
       "      <td>1003.989744</td>\n",
       "      <td>833.948718</td>\n",
       "      <td>663.907692</td>\n",
       "      <td>493.866667</td>\n",
       "      <td>498.555556</td>\n",
       "      <td>...</td>\n",
       "      <td>0.0</td>\n",
       "      <td>0.0</td>\n",
       "      <td>0.0</td>\n",
       "      <td>0.0</td>\n",
       "      <td>0.0</td>\n",
       "      <td>0.0</td>\n",
       "      <td>0.0</td>\n",
       "      <td>0.0</td>\n",
       "      <td>0.0</td>\n",
       "      <td>youtube</td>\n",
       "    </tr>\n",
       "  </tbody>\n",
       "</table>\n",
       "<p>54220 rows × 121 columns</p>\n",
       "</div>"
      ],
      "text/plain": [
       "                                  0            1            2            3  \\\n",
       "20221129_151124_4_0      366.285714   379.428571  1533.387755   926.877193   \n",
       "20221129_151124_4_1      379.428571  1533.387755   926.877193   862.140351   \n",
       "20221129_151124_4_2     1533.387755   926.877193   862.140351   797.403509   \n",
       "20221129_151124_4_3      926.877193   862.140351   797.403509   732.666667   \n",
       "20221129_151124_4_4      862.140351   797.403509   732.666667        617.5   \n",
       "...                             ...          ...          ...          ...   \n",
       "20230117_121925_263_43   355.158974   457.517949   559.876923   662.235897   \n",
       "20230117_121925_263_44   457.517949   559.876923   662.235897   764.594872   \n",
       "20230117_121925_263_45   559.876923   662.235897   764.594872   866.953846   \n",
       "20230117_121925_263_46   662.235897   764.594872   866.953846   969.312821   \n",
       "20230117_121925_263_47   764.594872   866.953846   969.312821  1071.671795   \n",
       "\n",
       "                                  4            5            6            7  \\\n",
       "20221129_151124_4_0      862.140351   797.403509   732.666667        617.5   \n",
       "20221129_151124_4_1      797.403509   732.666667        617.5   502.333333   \n",
       "20221129_151124_4_2      732.666667        617.5   502.333333   387.166667   \n",
       "20221129_151124_4_3           617.5   502.333333   387.166667        272.0   \n",
       "20221129_151124_4_4      502.333333   387.166667        272.0   321.481481   \n",
       "...                             ...          ...          ...          ...   \n",
       "20230117_121925_263_43   764.594872   866.953846   969.312821  1071.671795   \n",
       "20230117_121925_263_44   866.953846   969.312821  1071.671795  1174.030769   \n",
       "20230117_121925_263_45   969.312821  1071.671795  1174.030769  1003.989744   \n",
       "20230117_121925_263_46  1071.671795  1174.030769  1003.989744   833.948718   \n",
       "20230117_121925_263_47  1174.030769  1003.989744   833.948718   663.907692   \n",
       "\n",
       "                                  8            9  ...  111  112  113  114  \\\n",
       "20221129_151124_4_0      502.333333   387.166667  ...  0.0  0.0  0.0  0.0   \n",
       "20221129_151124_4_1      387.166667        272.0  ...  0.0  0.0  0.0  0.0   \n",
       "20221129_151124_4_2           272.0   321.481481  ...  0.0  0.0  0.0  0.0   \n",
       "20221129_151124_4_3      321.481481   370.962963  ...  0.0  0.0  0.0  0.0   \n",
       "20221129_151124_4_4      370.962963   420.444444  ...  0.0  0.0  0.0  0.0   \n",
       "...                             ...          ...  ...  ...  ...  ...  ...   \n",
       "20230117_121925_263_43  1174.030769  1003.989744  ...  0.0  0.0  0.0  0.0   \n",
       "20230117_121925_263_44  1003.989744   833.948718  ...  0.0  0.0  0.0  0.0   \n",
       "20230117_121925_263_45   833.948718   663.907692  ...  0.0  0.0  0.0  0.0   \n",
       "20230117_121925_263_46   663.907692   493.866667  ...  0.0  0.0  0.0  0.0   \n",
       "20230117_121925_263_47   493.866667   498.555556  ...  0.0  0.0  0.0  0.0   \n",
       "\n",
       "                        115  116  117  118  119      label  \n",
       "20221129_151124_4_0     0.0  0.0  0.0  0.0  0.0  messenger  \n",
       "20221129_151124_4_1     0.0  0.0  0.0  0.0  0.0  messenger  \n",
       "20221129_151124_4_2     0.0  0.0  0.0  0.0  0.0  messenger  \n",
       "20221129_151124_4_3     0.0  0.0  0.0  0.0  0.0  messenger  \n",
       "20221129_151124_4_4     0.0  0.0  0.0  0.0  0.0  messenger  \n",
       "...                     ...  ...  ...  ...  ...        ...  \n",
       "20230117_121925_263_43  0.0  0.0  0.0  0.0  0.0    youtube  \n",
       "20230117_121925_263_44  0.0  0.0  0.0  0.0  0.0    youtube  \n",
       "20230117_121925_263_45  0.0  0.0  0.0  0.0  0.0    youtube  \n",
       "20230117_121925_263_46  0.0  0.0  0.0  0.0  0.0    youtube  \n",
       "20230117_121925_263_47  0.0  0.0  0.0  0.0  0.0    youtube  \n",
       "\n",
       "[54220 rows x 121 columns]"
      ]
     },
     "execution_count": 12,
     "metadata": {},
     "output_type": "execute_result"
    }
   ],
   "source": [
    "directory_data_test = \"../Mesures/test\"\n",
    "\n",
    "testing_data = adapt_to_dataframe(reformat_data(load_merge_datasets(directory_data_test)))\n",
    "testing_data"
   ]
  },
  {
   "cell_type": "code",
   "execution_count": null,
   "id": "d2cf9efb",
   "metadata": {},
   "outputs": [],
   "source": []
  },
  {
   "cell_type": "code",
   "execution_count": 13,
   "id": "f9ef54a7",
   "metadata": {},
   "outputs": [],
   "source": [
    "# Train + Evaluate"
   ]
  },
  {
   "cell_type": "code",
   "execution_count": 14,
   "id": "65cfb872",
   "metadata": {},
   "outputs": [],
   "source": [
    "from sklearn.preprocessing import StandardScaler\n",
    "from sklearn.ensemble import RandomForestClassifier"
   ]
  },
  {
   "cell_type": "code",
   "execution_count": 15,
   "id": "2cfd1779",
   "metadata": {},
   "outputs": [
    {
     "data": {
      "text/plain": [
       "RandomForestClassifier()"
      ]
     },
     "execution_count": 15,
     "metadata": {},
     "output_type": "execute_result"
    }
   ],
   "source": [
    "model = RandomForestClassifier()\n",
    "model.fit(training_data[training_data.columns[:-1]], training_data.label)"
   ]
  },
  {
   "cell_type": "code",
   "execution_count": 16,
   "id": "2a85b365",
   "metadata": {},
   "outputs": [],
   "source": [
    "# mesure efficiency\n",
    "preds_labels =  model.predict(testing_data[testing_data.columns[:-1]])\n",
    "true_labels = testing_data.label"
   ]
  },
  {
   "cell_type": "code",
   "execution_count": 17,
   "id": "93237c3b",
   "metadata": {},
   "outputs": [],
   "source": [
    "from sklearn.metrics import confusion_matrix"
   ]
  },
  {
   "cell_type": "code",
   "execution_count": 18,
   "id": "1e53f805",
   "metadata": {},
   "outputs": [],
   "source": [
    "def plot_confusion_matrix(cm, classes, normalize=False, title='confusion matrix', cmap=plt.cm.Blues):\n",
    "    # This function prints and plots the confusion matrix. Normalization can be applied by setting `normalize=True`\n",
    "    if normalize:\n",
    "        cm = cm.astype('float') / cm.sum(axis=1)[:, np.newaxis]\n",
    "        print(\"normalized confusion matrix\")\n",
    "    else:\n",
    "        print('confusion matrix, without normalization')\n",
    "    plt.imshow(cm, interpolation='nearest', cmap=cmap)\n",
    "    plt.title(title)\n",
    "    plt.colorbar()\n",
    "    tick_marks = np.arange(len(classes))\n",
    "    plt.xticks(tick_marks, classes, rotation=45)\n",
    "    plt.yticks(tick_marks, classes)\n",
    "\n",
    "    fmt = '.2f' if normalize else 'd'\n",
    "    thresh = cm.max() / 2.\n",
    "    for i, j in itertools.product(range(cm.shape[0]), range(cm.shape[1])):\n",
    "        plt.text(j, i, format(cm[i, j], fmt),\n",
    "                 horizontalalignment=\"center\",\n",
    "                 color=\"white\" if cm[i, j] > thresh else \"black\")\n",
    "    plt.tight_layout()\n",
    "    plt.ylabel('true label')\n",
    "    plt.xlabel('predicted label')"
   ]
  },
  {
   "cell_type": "code",
   "execution_count": 19,
   "id": "0ccad53e",
   "metadata": {},
   "outputs": [
    {
     "data": {
      "text/plain": [
       "array([[   67,    68, 13582,   221,    42],\n",
       "       [    0,    34,     0,     2,    71],\n",
       "       [  133,     0, 19687,    30,     0],\n",
       "       [    6,    70,     0,  9058,   106],\n",
       "       [  193,  1898,     2,   988,  7962]], dtype=int64)"
      ]
     },
     "execution_count": 19,
     "metadata": {},
     "output_type": "execute_result"
    }
   ],
   "source": [
    "# compute confusion matrix\n",
    "cnf_matrix = confusion_matrix(true_labels,preds_labels)\n",
    "np.set_printoptions(precision=2)\n",
    "cnf_matrix\n"
   ]
  },
  {
   "cell_type": "code",
   "execution_count": 23,
   "id": "290e8073",
   "metadata": {},
   "outputs": [
    {
     "data": {
      "text/plain": [
       "20221129_151124_4_0       messenger\n",
       "20221129_151124_4_1       messenger\n",
       "20221129_151124_4_2       messenger\n",
       "20221129_151124_4_3       messenger\n",
       "20221129_151124_4_4       messenger\n",
       "                            ...    \n",
       "20230117_121925_263_43      youtube\n",
       "20230117_121925_263_44      youtube\n",
       "20230117_121925_263_45      youtube\n",
       "20230117_121925_263_46      youtube\n",
       "20230117_121925_263_47      youtube\n",
       "Name: label, Length: 54220, dtype: object"
      ]
     },
     "execution_count": 23,
     "metadata": {},
     "output_type": "execute_result"
    }
   ],
   "source": [
    "true_labels"
   ]
  },
  {
   "cell_type": "code",
   "execution_count": 24,
   "id": "507ac4fd",
   "metadata": {},
   "outputs": [
    {
     "data": {
      "text/plain": [
       "array(['skype', 'skype', 'messenger', ..., 'youtube', 'youtube',\n",
       "       'messenger'], dtype=object)"
      ]
     },
     "execution_count": 24,
     "metadata": {},
     "output_type": "execute_result"
    }
   ],
   "source": [
    "preds_labels"
   ]
  },
  {
   "cell_type": "code",
   "execution_count": 20,
   "id": "ffba4c4a",
   "metadata": {},
   "outputs": [
    {
     "data": {
      "text/plain": [
       "['messenger', 'skype', 'twitch', 'youtube', 'noise']"
      ]
     },
     "execution_count": 20,
     "metadata": {},
     "output_type": "execute_result"
    }
   ],
   "source": [
    "list(true_labels.unique())\n"
   ]
  },
  {
   "cell_type": "code",
   "execution_count": 21,
   "id": "af28f5d8",
   "metadata": {},
   "outputs": [
    {
     "data": {
      "text/plain": [
       "['messenger', 'noise', 'skype', 'twitch', 'youtube']"
      ]
     },
     "execution_count": 21,
     "metadata": {},
     "output_type": "execute_result"
    }
   ],
   "source": [
    "list(training_data.label.unique())"
   ]
  },
  {
   "cell_type": "code",
   "execution_count": 22,
   "id": "c21f2d0a",
   "metadata": {},
   "outputs": [
    {
     "name": "stdout",
     "output_type": "stream",
     "text": [
      "normalized confusion matrix\n"
     ]
    },
    {
     "data": {
      "image/png": "[encoded data removed]",
      "text/plain": [
       "<Figure size 432x432 with 2 Axes>"
      ]
     },
     "metadata": {
      "needs_background": "light"
     },
     "output_type": "display_data"
    }
   ],
   "source": [
    "# plot normalized confusion matrix\n",
    "plt.figure(figsize=(6, 6))\n",
    "class_names = list(true_labels.unique())\n",
    "plot_confusion_matrix(cnf_matrix, classes=class_names, normalize=True, title='normalized confusion matrix')\n",
    "\n",
    "plt.show()"
   ]
  },
  {
   "cell_type": "code",
   "execution_count": null,
   "id": "65a7499a",
   "metadata": {},
   "outputs": [],
   "source": []
  },
  {
   "cell_type": "code",
   "execution_count": null,
   "id": "2e408856",
   "metadata": {},
   "outputs": [],
   "source": []
  },
  {
   "cell_type": "code",
   "execution_count": null,
   "id": "87b76fea",
   "metadata": {},
   "outputs": [],
   "source": []
  },
  {
   "cell_type": "code",
   "execution_count": null,
   "id": "2ec1726a",
   "metadata": {},
   "outputs": [],
   "source": []
  },
  {
   "cell_type": "code",
   "execution_count": null,
   "id": "3b22f31a",
   "metadata": {},
   "outputs": [],
   "source": []
  },
  {
   "cell_type": "code",
   "execution_count": null,
   "id": "d4f3469e",
   "metadata": {},
   "outputs": [],
   "source": []
  },
  {
   "cell_type": "code",
   "execution_count": null,
   "id": "7816790f",
   "metadata": {},
   "outputs": [],
   "source": []
  },
  {
   "cell_type": "code",
   "execution_count": null,
   "id": "48542039",
   "metadata": {},
   "outputs": [],
   "source": []
  },
  {
   "cell_type": "code",
   "execution_count": null,
   "id": "9c3532e7",
   "metadata": {},
   "outputs": [],
   "source": []
  },
  {
   "cell_type": "code",
   "execution_count": null,
   "id": "4ab31ff4",
   "metadata": {},
   "outputs": [],
   "source": []
  },
  {
   "cell_type": "code",
   "execution_count": null,
   "id": "89dbbf01",
   "metadata": {},
   "outputs": [],
   "source": []
  },
  {
   "cell_type": "code",
   "execution_count": null,
   "id": "5e6fbdc7",
   "metadata": {},
   "outputs": [],
   "source": []
  },
  {
   "cell_type": "code",
   "execution_count": 8,
   "id": "7e7848e6",
   "metadata": {},
   "outputs": [
    {
     "data": {
      "text/plain": [
       "{'youtube': 10512,\n",
       " 'twitch': 40181,\n",
       " 'messenger': 89526,\n",
       " 'noise': 8808,\n",
       " 'skype': 161624}"
      ]
     },
     "execution_count": 8,
     "metadata": {},
     "output_type": "execute_result"
    }
   ],
   "source": [
    "list_labels = [i[2] for i in global_data.values()]\n",
    "distrib = dict((x,list_labels.count(x)) for x in set(list_labels))\n",
    "distrib"
   ]
  },
  {
   "cell_type": "code",
   "execution_count": 116,
   "id": "f75fcb86",
   "metadata": {},
   "outputs": [
    {
     "data": {
      "text/plain": [
       "array(['messenger', 'messenger', 'messenger', ..., 'youtube', 'youtube',\n",
       "       'youtube'], dtype='<U9')"
      ]
     },
     "execution_count": 116,
     "metadata": {},
     "output_type": "execute_result"
    }
   ],
   "source": [
    "labels_glob"
   ]
  },
  {
   "cell_type": "code",
   "execution_count": 119,
   "id": "98c067fa",
   "metadata": {},
   "outputs": [
    {
     "data": {
      "text/plain": [
       "array([[1, 0, 0, 0, 0],\n",
       "       [1, 0, 0, 0, 0],\n",
       "       [1, 0, 0, 0, 0],\n",
       "       ...,\n",
       "       [0, 0, 0, 0, 1],\n",
       "       [0, 0, 0, 0, 1],\n",
       "       [0, 0, 0, 0, 1]])"
      ]
     },
     "execution_count": 119,
     "metadata": {},
     "output_type": "execute_result"
    }
   ],
   "source": [
    "\n",
    "labels_glob = np.array(list_labels)\n",
    "import sklearn.preprocessing\n",
    "import numpy as np\n",
    "label_binarizer = sklearn.preprocessing.LabelBinarizer()\n",
    "label_one_hot_encoded = label_binarizer.fit_transform(labels_glob)\n",
    "\n",
    "label_one_hot_encoded"
   ]
  },
  {
   "cell_type": "code",
   "execution_count": 120,
   "id": "d8dfbd12",
   "metadata": {},
   "outputs": [
    {
     "data": {
      "text/plain": [
       "(310651, 60, 2)"
      ]
     },
     "execution_count": 120,
     "metadata": {},
     "output_type": "execute_result"
    }
   ],
   "source": [
    "TBS_values = np.array([np.transpose([i[0].values,i[1].values]) for i in  global_data.values()])\n",
    "TBS_values.shape"
   ]
  },
  {
   "cell_type": "code",
   "execution_count": 121,
   "id": "462dd29b",
   "metadata": {},
   "outputs": [],
   "source": [
    "X_train_val, X_test, y_train_val, y_test = train_test_split(TBS_values, label_one_hot_encoded, test_size=0.15, random_state=42)\n",
    "X_train, X_val, y_train, y_val = train_test_split(X_train_val, y_train_val, test_size=0.2, random_state=42)"
   ]
  },
  {
   "cell_type": "code",
   "execution_count": 122,
   "id": "f612323c",
   "metadata": {},
   "outputs": [],
   "source": [
    "#images_train, _ = tuple(zip(*train))\n",
    "#images_train = np.concatenate(images_train)\n",
    "#images_train.shape"
   ]
  },
  {
   "cell_type": "code",
   "execution_count": 184,
   "id": "7437196e",
   "metadata": {},
   "outputs": [],
   "source": [
    "train_labels_not_encoded = label_binarizer.inverse_transform(y_train)\n",
    "class_weights = class_weight.compute_class_weight(class_weight ='balanced',\n",
    "                                                  classes =np.unique(train_labels_not_encoded), y =train_labels_not_encoded)\n",
    "class_weights = dict(zip(np.unique(np.argmax(y_train,axis=1)), class_weight.compute_class_weight(class_weight ='balanced',\n",
    "                                                  classes =np.unique(train_labels_not_encoded),\n",
    "                                                               y =train_labels_not_encoded)))\n",
    "\n",
    "layer_normalization = tf.keras.layers.Normalization(axis=None, input_shape=(length_values,2))\n",
    "layer_normalization.adapt(X_train)\n"
   ]
  },
  {
   "cell_type": "code",
   "execution_count": 185,
   "id": "8ab55eee",
   "metadata": {},
   "outputs": [
    {
     "data": {
      "text/plain": [
       "{0: 0.6930966598858193,\n",
       " 1: 7.015675855197609,\n",
       " 2: 0.38506001695239656,\n",
       " 3: 1.5437716958380532,\n",
       " 4: 5.885817776539426}"
      ]
     },
     "execution_count": 185,
     "metadata": {},
     "output_type": "execute_result"
    }
   ],
   "source": [
    "a"
   ]
  },
  {
   "cell_type": "code",
   "execution_count": 186,
   "id": "35a00971",
   "metadata": {},
   "outputs": [
    {
     "data": {
      "text/plain": [
       "{0: 0.6930966598858193,\n",
       " 1: 7.015675855197609,\n",
       " 2: 0.38506001695239656,\n",
       " 3: 1.5437716958380532,\n",
       " 4: 5.885817776539426}"
      ]
     },
     "execution_count": 186,
     "metadata": {},
     "output_type": "execute_result"
    }
   ],
   "source": [
    "class_weights"
   ]
  },
  {
   "cell_type": "code",
   "execution_count": 187,
   "id": "0922c1dd",
   "metadata": {},
   "outputs": [],
   "source": [
    "#X_train = tf.convert_to_tensor(X_train, dtype=tf.float32)"
   ]
  },
  {
   "cell_type": "code",
   "execution_count": 193,
   "id": "6adbcb01",
   "metadata": {},
   "outputs": [],
   "source": [
    "model = Sequential()\n",
    "model.add(layer_normalization)\n",
    "model.add(Conv1D(32, 5, activation='relu'))\n",
    "model.add(MaxPool1D()) #Adding a convultion layer\n",
    "\n",
    "model.add(Conv1D(64, 5, activation='relu'))\n",
    "model.add(MaxPool1D()) #\n",
    "\n",
    "model.add(Conv1D(32, 5, activation='relu'))\n",
    "model.add(MaxPool1D())\n",
    "\n",
    "model.add(Flatten())\n",
    "model.add(Dense(128, activation='relu'))\n",
    "model.add(Dense(len(distrib.keys()), activation='sigmoid'))\n",
    "\n",
    "\n"
   ]
  },
  {
   "cell_type": "code",
   "execution_count": 194,
   "id": "9bb52ecf",
   "metadata": {},
   "outputs": [
    {
     "name": "stdout",
     "output_type": "stream",
     "text": [
      "Model: \"sequential_12\"\n",
      "_________________________________________________________________\n",
      " Layer (type)                Output Shape              Param #   \n",
      "=================================================================\n",
      " normalization_7 (Normalizat  (None, 60, 2)            3         \n",
      " ion)                                                            \n",
      "                                                                 \n",
      " conv1d_31 (Conv1D)          (None, 56, 32)            352       \n",
      "                                                                 \n",
      " max_pooling1d_30 (MaxPoolin  (None, 28, 32)           0         \n",
      " g1D)                                                            \n",
      "                                                                 \n",
      " conv1d_32 (Conv1D)          (None, 24, 64)            10304     \n",
      "                                                                 \n",
      " max_pooling1d_31 (MaxPoolin  (None, 12, 64)           0         \n",
      " g1D)                                                            \n",
      "                                                                 \n",
      " conv1d_33 (Conv1D)          (None, 8, 32)             10272     \n",
      "                                                                 \n",
      " max_pooling1d_32 (MaxPoolin  (None, 4, 32)            0         \n",
      " g1D)                                                            \n",
      "                                                                 \n",
      " flatten_10 (Flatten)        (None, 128)               0         \n",
      "                                                                 \n",
      " dense_20 (Dense)            (None, 128)               16512     \n",
      "                                                                 \n",
      " dense_21 (Dense)            (None, 5)                 645       \n",
      "                                                                 \n",
      "=================================================================\n",
      "Total params: 38,088\n",
      "Trainable params: 38,085\n",
      "Non-trainable params: 3\n",
      "_________________________________________________________________\n"
     ]
    }
   ],
   "source": [
    "#Conv 1 : output_shape= (None, length_values-5+1,32)    (None, 56,32)\n",
    "model.compile('adam', loss = tf.losses.BinaryCrossentropy(), metrics =['accuracy'])\n",
    "model.summary()"
   ]
  },
  {
   "cell_type": "code",
   "execution_count": 196,
   "id": "2b445e07",
   "metadata": {},
   "outputs": [
    {
     "name": "stdout",
     "output_type": "stream",
     "text": [
      "Epoch 1/20\n",
      "6602/6602 [==============================] - 62s 9ms/step - loss: 0.1597 - accuracy: 0.7674 - val_loss: 0.1714 - val_accuracy: 0.7925\n",
      "Epoch 2/20\n",
      "6602/6602 [==============================] - 67s 10ms/step - loss: 0.1370 - accuracy: 0.7834 - val_loss: 0.1704 - val_accuracy: 0.8044\n",
      "Epoch 3/20\n",
      "6602/6602 [==============================] - 62s 9ms/step - loss: 0.1232 - accuracy: 0.7944 - val_loss: 0.1668 - val_accuracy: 0.8065\n",
      "Epoch 4/20\n",
      "6602/6602 [==============================] - 62s 9ms/step - loss: 0.1125 - accuracy: 0.8041 - val_loss: 0.1599 - val_accuracy: 0.8179\n",
      "Epoch 5/20\n",
      "6602/6602 [==============================] - 63s 10ms/step - loss: 0.1032 - accuracy: 0.8138 - val_loss: 0.1696 - val_accuracy: 0.8021\n",
      "Epoch 6/20\n",
      "6602/6602 [==============================] - 61s 9ms/step - loss: 0.0990 - accuracy: 0.8170 - val_loss: 0.1615 - val_accuracy: 0.8094\n",
      "Epoch 7/20\n",
      "6602/6602 [==============================] - 61s 9ms/step - loss: 0.0938 - accuracy: 0.8240 - val_loss: 0.1451 - val_accuracy: 0.8333\n",
      "Epoch 8/20\n",
      "6602/6602 [==============================] - 62s 9ms/step - loss: 0.0908 - accuracy: 0.8287 - val_loss: 0.1648 - val_accuracy: 0.8056\n",
      "Epoch 9/20\n",
      "6602/6602 [==============================] - 62s 9ms/step - loss: 0.0878 - accuracy: 0.8326 - val_loss: 0.1678 - val_accuracy: 0.8022\n",
      "Epoch 10/20\n",
      "6602/6602 [==============================] - 62s 9ms/step - loss: 0.0816 - accuracy: 0.8381 - val_loss: 0.1705 - val_accuracy: 0.8013\n"
     ]
    },
    {
     "data": {
      "text/plain": [
       "<tensorflow.python.checkpoint.checkpoint.CheckpointLoadStatus at 0x1b1487338e0>"
      ]
     },
     "execution_count": 196,
     "metadata": {},
     "output_type": "execute_result"
    }
   ],
   "source": [
    "\n",
    "checkpoint_filepath = '/tmp/checkpoint/best_model'\n",
    "logs_dir = 'tmp/logs'\n",
    "\n",
    "tensorboard_callback = tf.keras.callbacks.TensorBoard(log_dir=logs_dir)\n",
    "model_checkpoint_callback = tf.keras.callbacks.ModelCheckpoint(\n",
    "    filepath=checkpoint_filepath, save_weights_only=True, monitor='val_accuracy',  mode='max',save_best_only=True)\n",
    "\n",
    "early_stop = tf.keras.callbacks.EarlyStopping(monitor='val_loss', patience=3)\n",
    "hist = model.fit(X_train,y_train, epochs =20, \n",
    "                 validation_data = (X_val,y_val),\n",
    "                 callbacks =[tensorboard_callback, early_stop,model_checkpoint_callback],\n",
    "                class_weight=class_weights\n",
    "                )\n",
    "\n",
    "model.load_weights(checkpoint_filepath)"
   ]
  },
  {
   "cell_type": "code",
   "execution_count": 197,
   "id": "1f3d54bd",
   "metadata": {},
   "outputs": [
    {
     "data": {
      "image/png": "[encoded data removed]",
      "text/plain": [
       "<Figure size 432x288 with 1 Axes>"
      ]
     },
     "metadata": {
      "needs_background": "light"
     },
     "output_type": "display_data"
    }
   ],
   "source": [
    "fig =plt.figure()\n",
    "plt.plot(hist.history['loss'], color ='teal', label ='train_loss')\n",
    "plt.plot(hist.history['val_loss'], color ='red', label ='val_loss')\n",
    "#plt.plot(hist.history['val_loss'], color= 'orange', label = 'val_loss')\n",
    "fig.suptitle('Loss', fontsize =20)\n",
    "plt.legend(loc =\"upper left\")\n",
    "plt.show()"
   ]
  },
  {
   "cell_type": "markdown",
   "id": "3dbbba8d",
   "metadata": {},
   "source": [
    "# Evaluate on the test dataset"
   ]
  },
  {
   "cell_type": "code",
   "execution_count": 198,
   "id": "6cd2be62",
   "metadata": {},
   "outputs": [],
   "source": [
    "class_names= label_binarizer.inverse_transform(np.identity(5))\n",
    "\n",
    "def plot_confusion_matrix(cm, classes, normalize=False, title='confusion matrix', cmap=plt.cm.Blues):\n",
    "    # This function prints and plots the confusion matrix. Normalization can be applied by setting `normalize=True`\n",
    "    if normalize:\n",
    "        cm = cm.astype('float') / cm.sum(axis=1)[:, np.newaxis]\n",
    "        print(\"normalized confusion matrix\")\n",
    "    else:\n",
    "        print('confusion matrix, without normalization')\n",
    "    plt.imshow(cm, interpolation='nearest', cmap=cmap)\n",
    "    plt.title(title)\n",
    "    plt.colorbar()\n",
    "    tick_marks = np.arange(len(classes))\n",
    "    plt.xticks(tick_marks, classes, rotation=45)\n",
    "    plt.yticks(tick_marks, classes)\n",
    "\n",
    "    fmt = '.2f' if normalize else 'd'\n",
    "    thresh = cm.max() / 2.\n",
    "    for i, j in itertools.product(range(cm.shape[0]), range(cm.shape[1])):\n",
    "        plt.text(j, i, format(cm[i, j], fmt),\n",
    "                 horizontalalignment=\"center\",\n",
    "                 color=\"white\" if cm[i, j] > thresh else \"black\")\n",
    "    plt.tight_layout()\n",
    "    plt.ylabel('true label')\n",
    "    plt.xlabel('predicted label')"
   ]
  },
  {
   "cell_type": "code",
   "execution_count": 199,
   "id": "1c7e60f5",
   "metadata": {},
   "outputs": [
    {
     "name": "stdout",
     "output_type": "stream",
     "text": [
      "1457/1457 [==============================] - 6s 4ms/step\n"
     ]
    }
   ],
   "source": [
    "# mesure efficiency\n",
    "preds_labels =  model.predict(X_test)\n",
    "preds_labels = label_binarizer.inverse_transform(preds_labels)"
   ]
  },
  {
   "cell_type": "code",
   "execution_count": 200,
   "id": "bc4f6de1",
   "metadata": {},
   "outputs": [],
   "source": [
    "true_labels = label_binarizer.inverse_transform(y_test)\n"
   ]
  },
  {
   "cell_type": "code",
   "execution_count": 201,
   "id": "75428412",
   "metadata": {},
   "outputs": [
    {
     "name": "stdout",
     "output_type": "stream",
     "text": [
      "normalized confusion matrix\n"
     ]
    },
    {
     "data": {
      "image/png": "[encoded data removed]",
      "text/plain": [
       "<Figure size 432x432 with 2 Axes>"
      ]
     },
     "metadata": {
      "needs_background": "light"
     },
     "output_type": "display_data"
    }
   ],
   "source": [
    " \n",
    "\n",
    "\n",
    "# compute confusion matrix\n",
    "cnf_matrix = confusion_matrix(true_labels,preds_labels)\n",
    "np.set_printoptions(precision=2)\n",
    "\n",
    "# plot normalized confusion matrix\n",
    "plt.figure(figsize=(6, 6))\n",
    "plot_confusion_matrix(cnf_matrix, classes=class_names, normalize=True, title='normalized confusion matrix')\n",
    "\n",
    "plt.show()"
   ]
  },
  {
   "cell_type": "markdown",
   "id": "f38853b7",
   "metadata": {},
   "source": [
    "# Evaluate on the whole dataset"
   ]
  },
  {
   "cell_type": "code",
   "execution_count": 202,
   "id": "1daae08b",
   "metadata": {
    "scrolled": true
   },
   "outputs": [
    {
     "name": "stdout",
     "output_type": "stream",
     "text": [
      "9708/9708 [==============================] - 10848s 1s/step\n"
     ]
    }
   ],
   "source": [
    "# mesure efficiency\n",
    "preds_labels =  model.predict(TBS_values)\n",
    "preds_labels = label_binarizer.inverse_transform(preds_labels)"
   ]
  },
  {
   "cell_type": "code",
   "execution_count": 203,
   "id": "22494dc3",
   "metadata": {},
   "outputs": [],
   "source": [
    "\n",
    "true_labels = label_binarizer.inverse_transform(label_one_hot_encoded)\n"
   ]
  },
  {
   "cell_type": "code",
   "execution_count": 204,
   "id": "3cb9f74c",
   "metadata": {},
   "outputs": [
    {
     "name": "stdout",
     "output_type": "stream",
     "text": [
      "normalized confusion matrix\n"
     ]
    },
    {
     "data": {
      "image/png": "[encoded data removed]",
      "text/plain": [
       "<Figure size 432x432 with 2 Axes>"
      ]
     },
     "metadata": {
      "needs_background": "light"
     },
     "output_type": "display_data"
    }
   ],
   "source": [
    "# compute confusion matrix\n",
    "cnf_matrix = confusion_matrix(true_labels,preds_labels)\n",
    "np.set_printoptions(precision=2)\n",
    "\n",
    "# plot normalized confusion matrix\n",
    "plt.figure(figsize=(6, 6))\n",
    "plot_confusion_matrix(cnf_matrix, classes=class_names, normalize=True, title='normalized confusion matrix')\n",
    "\n",
    "plt.show()"
   ]
  },
  {
   "cell_type": "code",
   "execution_count": null,
   "id": "fcaf2e9a",
   "metadata": {},
   "outputs": [],
   "source": []
  },
  {
   "cell_type": "code",
   "execution_count": null,
   "id": "8e97b2c8",
   "metadata": {},
   "outputs": [],
   "source": []
  },
  {
   "cell_type": "code",
   "execution_count": null,
   "id": "35aa4acc",
   "metadata": {},
   "outputs": [],
   "source": []
  }
 ],
 "metadata": {
  "kernelspec": {
   "display_name": "Python 3",
   "language": "python",
   "name": "python3"
  },
  "language_info": {
   "codemirror_mode": {
    "name": "ipython",
    "version": 3
   },
   "file_extension": ".py",
   "mimetype": "text/x-python",
   "name": "python",
   "nbconvert_exporter": "python",
   "pygments_lexer": "ipython3",
   "version": "3.8.8"
  }
 },
 "nbformat": 4,
 "nbformat_minor": 5
}
