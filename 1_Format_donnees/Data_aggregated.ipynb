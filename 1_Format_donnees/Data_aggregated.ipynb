{
 "cells": [
  {
   "cell_type": "code",
   "execution_count": 1,
   "id": "4c53af1c",
   "metadata": {},
   "outputs": [],
   "source": [
    "import os\n",
    "import pandas as pd\n",
    "import warnings\n",
    "#import matplotlib.pyplot as plt\n",
    "import sys\n",
    "import numpy as np\n",
    "#import seaborn as sns\n",
    "\n",
    "from tqdm import tqdm\n",
    "#from random import randint\n",
    "#from sklearn.model_selection import train_test_split\n",
    "import time\n",
    "#import itertools\n",
    "\n",
    "from sklearn.preprocessing import StandardScaler\n",
    "from sklearn.ensemble import RandomForestClassifier\n",
    "\n",
    "from aggregation import load_and_preprocess_agg_window, Scaler_Metrics\n",
    "sys.path.append(\"../\")\n",
    "\n",
    "from evaluate import plot_confusion_matrix, get_scores, plot_feature_importance"
   ]
  },
  {
   "cell_type": "code",
   "execution_count": 2,
   "id": "b66b2e91",
   "metadata": {},
   "outputs": [],
   "source": [
    "DEFAULT_LENGTH_Value = 60\n",
    "STEP = 15"
   ]
  },
  {
   "cell_type": "code",
   "execution_count": 3,
   "id": "10351bbc",
   "metadata": {
    "scrolled": true
   },
   "outputs": [
    {
     "name": "stdout",
     "output_type": "stream",
     "text": [
      "Load datasets...\n",
      "Extracting ../Mesures/test\\messenger20221124_151137.csv.... 1/7\n"
     ]
    },
    {
     "name": "stderr",
     "output_type": "stream",
     "text": [
      "100%|████████████████████████████████████████████████████████████████████████████████████| 5/5 [00:00<00:00, 15.92it/s]\n"
     ]
    },
    {
     "name": "stdout",
     "output_type": "stream",
     "text": [
      "Extracting ../Mesures/test\\messenger20230208_132747.csv.... 2/7\n"
     ]
    },
    {
     "name": "stderr",
     "output_type": "stream",
     "text": [
      "100%|██████████████████████████████████████████████████████████████████████████████████| 27/27 [00:03<00:00,  6.94it/s]\n"
     ]
    },
    {
     "name": "stdout",
     "output_type": "stream",
     "text": [
      "Extracting ../Mesures/test\\skype20221206_150902.csv.... 3/7\n"
     ]
    },
    {
     "name": "stderr",
     "output_type": "stream",
     "text": [
      "100%|████████████████████████████████████████████████████████████████████████████████████| 3/3 [00:01<00:00,  2.86it/s]\n"
     ]
    },
    {
     "name": "stdout",
     "output_type": "stream",
     "text": [
      "Extracting ../Mesures/test\\spotify20230127_134348.csv.... 4/7\n"
     ]
    },
    {
     "name": "stderr",
     "output_type": "stream",
     "text": [
      "100%|███████████████████████████████████████████████████████████████████████████████| 240/240 [00:00<00:00, 838.11it/s]\n"
     ]
    },
    {
     "name": "stdout",
     "output_type": "stream",
     "text": [
      "Extracting ../Mesures/test\\twitch20221124_163054.csv.... 5/7\n"
     ]
    },
    {
     "name": "stderr",
     "output_type": "stream",
     "text": [
      "100%|██████████████████████████████████████████████████████████████████████████████████| 12/12 [00:00<00:00, 18.98it/s]\n"
     ]
    },
    {
     "name": "stdout",
     "output_type": "stream",
     "text": [
      "Extracting ../Mesures/test\\youtube20221118_104205.csv.... 6/7\n"
     ]
    },
    {
     "name": "stderr",
     "output_type": "stream",
     "text": [
      "100%|███████████████████████████████████████████████████████████████████████████████| 218/218 [00:00<00:00, 822.96it/s]\n"
     ]
    },
    {
     "name": "stdout",
     "output_type": "stream",
     "text": [
      "Extracting ../Mesures/test\\youtube20230117_121925.csv.... 7/7\n"
     ]
    },
    {
     "name": "stderr",
     "output_type": "stream",
     "text": [
      "100%|███████████████████████████████████████████████████████████████████████████████| 260/260 [00:00<00:00, 531.30it/s]\n"
     ]
    },
    {
     "name": "stdout",
     "output_type": "stream",
     "text": [
      "Reformat...\n"
     ]
    },
    {
     "name": "stderr",
     "output_type": "stream",
     "text": [
      "100%|███████████████████████████████████████████████████████████████████████████████| 765/765 [00:03<00:00, 219.94it/s]\n"
     ]
    },
    {
     "name": "stdout",
     "output_type": "stream",
     "text": [
      "Load datasets...\n",
      "Extracting ../Mesures/train\\messenger20221117_125310.csv.... 1/39\n"
     ]
    },
    {
     "name": "stderr",
     "output_type": "stream",
     "text": [
      "100%|█████████████████████████████████████████████████████████████████████████████████| 15/15 [00:00<00:00, 120.10it/s]\n"
     ]
    },
    {
     "name": "stdout",
     "output_type": "stream",
     "text": [
      "Extracting ../Mesures/train\\messenger20221124_143112.csv.... 2/39\n"
     ]
    },
    {
     "name": "stderr",
     "output_type": "stream",
     "text": [
      "100%|██████████████████████████████████████████████████████████████████████████████████| 11/11 [00:00<00:00, 39.31it/s]\n"
     ]
    },
    {
     "name": "stdout",
     "output_type": "stream",
     "text": [
      "Extracting ../Mesures/train\\messenger20221125_130559.csv.... 3/39\n"
     ]
    },
    {
     "name": "stderr",
     "output_type": "stream",
     "text": [
      "100%|██████████████████████████████████████████████████████████████████████████████████| 38/38 [00:00<00:00, 96.10it/s]\n"
     ]
    },
    {
     "name": "stdout",
     "output_type": "stream",
     "text": [
      "Extracting ../Mesures/train\\messenger20221129_131204.csv.... 4/39\n"
     ]
    },
    {
     "name": "stderr",
     "output_type": "stream",
     "text": [
      "100%|██████████████████████████████████████████████████████████████████████████████████| 14/14 [00:01<00:00, 10.89it/s]\n"
     ]
    },
    {
     "name": "stdout",
     "output_type": "stream",
     "text": [
      "Extracting ../Mesures/train\\messenger20221129_151124.csv.... 5/39\n"
     ]
    },
    {
     "name": "stderr",
     "output_type": "stream",
     "text": [
      "100%|████████████████████████████████████████████████████████████████████████████████████| 5/5 [00:00<00:00,  6.16it/s]\n"
     ]
    },
    {
     "name": "stdout",
     "output_type": "stream",
     "text": [
      "Extracting ../Mesures/train\\messenger20230207_133921.csv.... 6/39\n"
     ]
    },
    {
     "name": "stderr",
     "output_type": "stream",
     "text": [
      "100%|████████████████████████████████████████████████████████████████████████████████████| 2/2 [00:00<00:00,  2.19it/s]\n"
     ]
    },
    {
     "name": "stdout",
     "output_type": "stream",
     "text": [
      "Extracting ../Mesures/train\\messenger20230209_083453.csv.... 7/39\n"
     ]
    },
    {
     "name": "stderr",
     "output_type": "stream",
     "text": [
      "100%|████████████████████████████████████████████████████████████████████████████████████| 5/5 [00:01<00:00,  4.43it/s]\n"
     ]
    },
    {
     "name": "stdout",
     "output_type": "stream",
     "text": [
      "Extracting ../Mesures/train\\pure_noise20230106_132210.csv.... 8/39\n"
     ]
    },
    {
     "name": "stderr",
     "output_type": "stream",
     "text": [
      "100%|███████████████████████████████████████████████████████████████████████████████| 805/805 [00:00<00:00, 992.61it/s]\n"
     ]
    },
    {
     "name": "stdout",
     "output_type": "stream",
     "text": [
      "Extracting ../Mesures/train\\skype20221129_164105.csv.... 9/39\n"
     ]
    },
    {
     "name": "stderr",
     "output_type": "stream",
     "text": [
      "100%|████████████████████████████████████████████████████████████████████████████████████| 5/5 [00:00<00:00, 12.06it/s]\n"
     ]
    },
    {
     "name": "stdout",
     "output_type": "stream",
     "text": [
      "Extracting ../Mesures/train\\skype20221206_125510.csv.... 10/39\n"
     ]
    },
    {
     "name": "stderr",
     "output_type": "stream",
     "text": [
      "100%|██████████████████████████████████████████████████████████████████████████████████| 19/19 [00:00<00:00, 32.18it/s]\n"
     ]
    },
    {
     "name": "stdout",
     "output_type": "stream",
     "text": [
      "Extracting ../Mesures/train\\skype20221208_104403.csv.... 11/39\n"
     ]
    },
    {
     "name": "stderr",
     "output_type": "stream",
     "text": [
      "100%|████████████████████████████████████████████████████████████████████████████████████| 7/7 [00:01<00:00,  3.66it/s]\n"
     ]
    },
    {
     "name": "stdout",
     "output_type": "stream",
     "text": [
      "Extracting ../Mesures/train\\skype20221208_124925.csv.... 12/39\n"
     ]
    },
    {
     "name": "stderr",
     "output_type": "stream",
     "text": [
      "100%|████████████████████████████████████████████████████████████████████████████████████| 6/6 [00:02<00:00,  2.43it/s]\n"
     ]
    },
    {
     "name": "stdout",
     "output_type": "stream",
     "text": [
      "Extracting ../Mesures/train\\skype20221215_151512.csv.... 13/39\n"
     ]
    },
    {
     "name": "stderr",
     "output_type": "stream",
     "text": [
      "100%|██████████████████████████████████████████████████████████████████████████████████| 23/23 [00:00<00:00, 40.31it/s]\n"
     ]
    },
    {
     "name": "stdout",
     "output_type": "stream",
     "text": [
      "Extracting ../Mesures/train\\skype20221215_155618.csv.... 14/39\n"
     ]
    },
    {
     "name": "stderr",
     "output_type": "stream",
     "text": [
      "100%|██████████████████████████████████████████████████████████████████████████████████| 19/19 [00:00<00:00, 28.60it/s]\n"
     ]
    },
    {
     "name": "stdout",
     "output_type": "stream",
     "text": [
      "Extracting ../Mesures/train\\skype20221215_164208.csv.... 15/39\n"
     ]
    },
    {
     "name": "stderr",
     "output_type": "stream",
     "text": [
      "100%|████████████████████████████████████████████████████████████████████████████████████| 5/5 [00:00<00:00,  5.85it/s]\n"
     ]
    },
    {
     "name": "stdout",
     "output_type": "stream",
     "text": [
      "Extracting ../Mesures/train\\skype20221215_174819.csv.... 16/39\n"
     ]
    },
    {
     "name": "stderr",
     "output_type": "stream",
     "text": [
      "100%|████████████████████████████████████████████████████████████████████████████████████| 6/6 [00:00<00:00,  8.80it/s]\n"
     ]
    },
    {
     "name": "stdout",
     "output_type": "stream",
     "text": [
      "Extracting ../Mesures/train\\spotify20230201_092702.csv.... 17/39\n"
     ]
    },
    {
     "name": "stderr",
     "output_type": "stream",
     "text": [
      "100%|█████████████████████████████████████████████████████████████████████████████| 1750/1750 [00:01<00:00, 889.29it/s]\n"
     ]
    },
    {
     "name": "stdout",
     "output_type": "stream",
     "text": [
      "Extracting ../Mesures/train\\spotify20230203_165507.csv.... 18/39\n"
     ]
    },
    {
     "name": "stderr",
     "output_type": "stream",
     "text": [
      "100%|███████████████████████████████████████████████████████████████████████████████| 522/522 [00:00<00:00, 979.25it/s]\n"
     ]
    },
    {
     "name": "stdout",
     "output_type": "stream",
     "text": [
      "Extracting ../Mesures/train\\spotify20230216_141318.csv.... 19/39\n"
     ]
    },
    {
     "name": "stderr",
     "output_type": "stream",
     "text": [
      "100%|███████████████████████████████████████████████████████████████████████████████| 364/364 [00:00<00:00, 868.29it/s]\n"
     ]
    },
    {
     "name": "stdout",
     "output_type": "stream",
     "text": [
      "Extracting ../Mesures/train\\twitch20221117_113554.csv.... 20/39\n"
     ]
    },
    {
     "name": "stderr",
     "output_type": "stream",
     "text": [
      "100%|██████████████████████████████████████████████████████████████████████████████████| 24/24 [00:00<00:00, 99.31it/s]\n"
     ]
    },
    {
     "name": "stdout",
     "output_type": "stream",
     "text": [
      "Extracting ../Mesures/train\\twitch20221118_075454.csv.... 21/39\n"
     ]
    },
    {
     "name": "stderr",
     "output_type": "stream",
     "text": [
      "100%|██████████████████████████████████████████████████████████████████████████████████| 16/16 [00:00<00:00, 51.82it/s]\n"
     ]
    },
    {
     "name": "stdout",
     "output_type": "stream",
     "text": [
      "Extracting ../Mesures/train\\twitch20221125_133859.csv.... 22/39\n"
     ]
    },
    {
     "name": "stderr",
     "output_type": "stream",
     "text": [
      "100%|████████████████████████████████████████████████████████████████████████████████| 108/108 [00:01<00:00, 77.83it/s]\n"
     ]
    },
    {
     "name": "stdout",
     "output_type": "stream",
     "text": [
      "Extracting ../Mesures/train\\twitch20230110_110215.csv.... 23/39\n"
     ]
    },
    {
     "name": "stderr",
     "output_type": "stream",
     "text": [
      "100%|█████████████████████████████████████████████████████████████████████████████████| 22/22 [00:00<00:00, 101.17it/s]\n"
     ]
    },
    {
     "name": "stdout",
     "output_type": "stream",
     "text": [
      "Extracting ../Mesures/train\\twitch20230110_120513.csv.... 24/39\n"
     ]
    },
    {
     "name": "stderr",
     "output_type": "stream",
     "text": [
      "100%|█████████████████████████████████████████████████████████████████████████████████| 59/59 [00:00<00:00, 294.41it/s]\n"
     ]
    },
    {
     "name": "stdout",
     "output_type": "stream",
     "text": [
      "Extracting ../Mesures/train\\twitch20230110_130648.csv.... 25/39\n"
     ]
    },
    {
     "name": "stderr",
     "output_type": "stream",
     "text": [
      "100%|███████████████████████████████████████████████████████████████████████████████| 426/426 [00:00<00:00, 702.09it/s]\n"
     ]
    },
    {
     "name": "stdout",
     "output_type": "stream",
     "text": [
      "Extracting ../Mesures/train\\youtube20221108_165214.csv.... 26/39\n"
     ]
    },
    {
     "name": "stderr",
     "output_type": "stream",
     "text": [
      "100%|█████████████████████████████████████████████████████████████████████████████████| 11/11 [00:00<00:00, 509.17it/s]\n"
     ]
    },
    {
     "name": "stdout",
     "output_type": "stream",
     "text": [
      "Extracting ../Mesures/train\\youtube20221108_182416.csv.... 27/39\n"
     ]
    },
    {
     "name": "stderr",
     "output_type": "stream",
     "text": [
      "100%|███████████████████████████████████████████████████████████████████████████████████| 4/4 [00:00<00:00, 306.21it/s]\n"
     ]
    },
    {
     "name": "stdout",
     "output_type": "stream",
     "text": [
      "Extracting ../Mesures/train\\youtube20221124_125524.csv.... 28/39\n"
     ]
    },
    {
     "name": "stderr",
     "output_type": "stream",
     "text": [
      "100%|███████████████████████████████████████████████████████████████████████████████| 186/186 [00:00<00:00, 882.96it/s]\n"
     ]
    },
    {
     "name": "stdout",
     "output_type": "stream",
     "text": [
      "Extracting ../Mesures/train\\youtube20221124_154037.csv.... 29/39\n"
     ]
    },
    {
     "name": "stderr",
     "output_type": "stream",
     "text": [
      "100%|█████████████████████████████████████████████████████████████████████████████████| 92/92 [00:00<00:00, 836.45it/s]\n"
     ]
    },
    {
     "name": "stdout",
     "output_type": "stream",
     "text": [
      "Extracting ../Mesures/train\\youtube20221130_103723.csv.... 30/39\n"
     ]
    },
    {
     "name": "stderr",
     "output_type": "stream",
     "text": [
      "100%|█████████████████████████████████████████████████████████████████████████████████| 91/91 [00:00<00:00, 825.06it/s]\n"
     ]
    },
    {
     "name": "stdout",
     "output_type": "stream",
     "text": [
      "Extracting ../Mesures/train\\youtube20230110_145404.csv.... 31/39\n"
     ]
    },
    {
     "name": "stderr",
     "output_type": "stream",
     "text": [
      "100%|█████████████████████████████████████████████████████████████████████████████████| 94/94 [00:00<00:00, 996.08it/s]\n"
     ]
    },
    {
     "name": "stdout",
     "output_type": "stream",
     "text": [
      "Extracting ../Mesures/train\\youtube20230110_161955.csv.... 32/39\n"
     ]
    },
    {
     "name": "stderr",
     "output_type": "stream",
     "text": [
      "100%|█████████████████████████████████████████████████████████████████████████████████| 90/90 [00:00<00:00, 843.67it/s]\n"
     ]
    },
    {
     "name": "stdout",
     "output_type": "stream",
     "text": [
      "Extracting ../Mesures/train\\youtube20230112_125508.csv.... 33/39\n"
     ]
    },
    {
     "name": "stderr",
     "output_type": "stream",
     "text": [
      "100%|███████████████████████████████████████████████████████████████████████████████| 108/108 [00:00<00:00, 518.40it/s]\n"
     ]
    },
    {
     "name": "stdout",
     "output_type": "stream",
     "text": [
      "Extracting ../Mesures/train\\youtube20230112_151029.csv.... 34/39\n"
     ]
    },
    {
     "name": "stderr",
     "output_type": "stream",
     "text": [
      "100%|█████████████████████████████████████████████████████████████████████████████████| 29/29 [00:00<00:00, 611.31it/s]\n"
     ]
    },
    {
     "name": "stdout",
     "output_type": "stream",
     "text": [
      "Extracting ../Mesures/train\\youtube20230112_154749.csv.... 35/39\n"
     ]
    },
    {
     "name": "stderr",
     "output_type": "stream",
     "text": [
      "100%|█████████████████████████████████████████████████████████████████████████████████| 32/32 [00:00<00:00, 543.04it/s]\n"
     ]
    },
    {
     "name": "stdout",
     "output_type": "stream",
     "text": [
      "Extracting ../Mesures/train\\youtube20230112_163634.csv.... 36/39\n"
     ]
    },
    {
     "name": "stderr",
     "output_type": "stream",
     "text": [
      "100%|█████████████████████████████████████████████████████████████████████████████████| 65/65 [00:00<00:00, 670.40it/s]\n"
     ]
    },
    {
     "name": "stdout",
     "output_type": "stream",
     "text": [
      "Extracting ../Mesures/train\\youtube20230117_095221.csv.... 37/39\n"
     ]
    },
    {
     "name": "stderr",
     "output_type": "stream",
     "text": [
      "100%|███████████████████████████████████████████████████████████████████████████████| 140/140 [00:00<00:00, 288.83it/s]\n"
     ]
    },
    {
     "name": "stdout",
     "output_type": "stream",
     "text": [
      "Extracting ../Mesures/train\\youtube20230118_134041.csv.... 38/39\n"
     ]
    },
    {
     "name": "stderr",
     "output_type": "stream",
     "text": [
      "100%|███████████████████████████████████████████████████████████████████████████████| 212/212 [00:00<00:00, 262.70it/s]\n"
     ]
    },
    {
     "name": "stdout",
     "output_type": "stream",
     "text": [
      "Extracting ../Mesures/train\\youtube20230124_124323.csv.... 39/39\n"
     ]
    },
    {
     "name": "stderr",
     "output_type": "stream",
     "text": [
      "100%|███████████████████████████████████████████████████████████████████████████████| 163/163 [00:00<00:00, 258.42it/s]\n"
     ]
    },
    {
     "name": "stdout",
     "output_type": "stream",
     "text": [
      "Reformat...\n"
     ]
    },
    {
     "name": "stderr",
     "output_type": "stream",
     "text": [
      "100%|█████████████████████████████████████████████████████████████████████████████| 5593/5593 [00:10<00:00, 538.25it/s]\n"
     ]
    },
    {
     "name": "stdout",
     "output_type": "stream",
     "text": [
      "Dataset generation took : 247.0618177 s\n"
     ]
    }
   ],
   "source": [
    "time_counter = time.time_ns()\n",
    "\n",
    "df_test = load_and_preprocess_agg_window(\"../Mesures/test\", length_value = DEFAULT_LENGTH_Value, step = STEP)\n",
    "df_train = load_and_preprocess_agg_window(\"../Mesures/train\", length_value = DEFAULT_LENGTH_Value, step = STEP)\n",
    "\n",
    "\n",
    "process_duration = (time.time_ns() - time_counter)/(10**9)\n",
    "print(f\"Dataset generation took : {process_duration} s\")"
   ]
  },
  {
   "cell_type": "code",
   "execution_count": 4,
   "id": "c369f256",
   "metadata": {},
   "outputs": [
    {
     "data": {
      "text/html": [
       "<div>\n",
       "<style scoped>\n",
       "    .dataframe tbody tr th:only-of-type {\n",
       "        vertical-align: middle;\n",
       "    }\n",
       "\n",
       "    .dataframe tbody tr th {\n",
       "        vertical-align: top;\n",
       "    }\n",
       "\n",
       "    .dataframe thead th {\n",
       "        text-align: right;\n",
       "    }\n",
       "</style>\n",
       "<table border=\"1\" class=\"dataframe\">\n",
       "  <thead>\n",
       "    <tr style=\"text-align: right;\">\n",
       "      <th></th>\n",
       "      <th>0</th>\n",
       "      <th>1</th>\n",
       "      <th>2</th>\n",
       "      <th>3</th>\n",
       "      <th>4</th>\n",
       "      <th>5</th>\n",
       "      <th>6</th>\n",
       "      <th>7</th>\n",
       "      <th>8</th>\n",
       "      <th>9</th>\n",
       "      <th>...</th>\n",
       "      <th>111</th>\n",
       "      <th>112</th>\n",
       "      <th>113</th>\n",
       "      <th>114</th>\n",
       "      <th>115</th>\n",
       "      <th>116</th>\n",
       "      <th>117</th>\n",
       "      <th>118</th>\n",
       "      <th>119</th>\n",
       "      <th>label</th>\n",
       "    </tr>\n",
       "  </thead>\n",
       "  <tbody>\n",
       "    <tr>\n",
       "      <th>20221117_125310_4_0</th>\n",
       "      <td>2592</td>\n",
       "      <td>0</td>\n",
       "      <td>52176</td>\n",
       "      <td>40096</td>\n",
       "      <td>80224</td>\n",
       "      <td>80112</td>\n",
       "      <td>328</td>\n",
       "      <td>0</td>\n",
       "      <td>0</td>\n",
       "      <td>0</td>\n",
       "      <td>...</td>\n",
       "      <td>0</td>\n",
       "      <td>0</td>\n",
       "      <td>0</td>\n",
       "      <td>0</td>\n",
       "      <td>0</td>\n",
       "      <td>0</td>\n",
       "      <td>0</td>\n",
       "      <td>0</td>\n",
       "      <td>0</td>\n",
       "      <td>messenger</td>\n",
       "    </tr>\n",
       "    <tr>\n",
       "      <th>20221117_125310_4_15</th>\n",
       "      <td>0</td>\n",
       "      <td>0</td>\n",
       "      <td>0</td>\n",
       "      <td>392</td>\n",
       "      <td>584</td>\n",
       "      <td>5712</td>\n",
       "      <td>0</td>\n",
       "      <td>0</td>\n",
       "      <td>0</td>\n",
       "      <td>0</td>\n",
       "      <td>...</td>\n",
       "      <td>0</td>\n",
       "      <td>0</td>\n",
       "      <td>0</td>\n",
       "      <td>0</td>\n",
       "      <td>0</td>\n",
       "      <td>0</td>\n",
       "      <td>0</td>\n",
       "      <td>33688</td>\n",
       "      <td>0</td>\n",
       "      <td>messenger</td>\n",
       "    </tr>\n",
       "    <tr>\n",
       "      <th>20221117_125310_4_30</th>\n",
       "      <td>27912</td>\n",
       "      <td>8168</td>\n",
       "      <td>2752</td>\n",
       "      <td>2136</td>\n",
       "      <td>704</td>\n",
       "      <td>4984</td>\n",
       "      <td>0</td>\n",
       "      <td>0</td>\n",
       "      <td>24680</td>\n",
       "      <td>712</td>\n",
       "      <td>...</td>\n",
       "      <td>37808</td>\n",
       "      <td>103528</td>\n",
       "      <td>12848</td>\n",
       "      <td>77000</td>\n",
       "      <td>98288</td>\n",
       "      <td>81672</td>\n",
       "      <td>114152</td>\n",
       "      <td>74864</td>\n",
       "      <td>88160</td>\n",
       "      <td>messenger</td>\n",
       "    </tr>\n",
       "    <tr>\n",
       "      <th>20221117_125310_4_45</th>\n",
       "      <td>0</td>\n",
       "      <td>0</td>\n",
       "      <td>296</td>\n",
       "      <td>0</td>\n",
       "      <td>2928</td>\n",
       "      <td>7048</td>\n",
       "      <td>0</td>\n",
       "      <td>0</td>\n",
       "      <td>0</td>\n",
       "      <td>0</td>\n",
       "      <td>...</td>\n",
       "      <td>103776</td>\n",
       "      <td>141800</td>\n",
       "      <td>136000</td>\n",
       "      <td>116848</td>\n",
       "      <td>166688</td>\n",
       "      <td>188968</td>\n",
       "      <td>160760</td>\n",
       "      <td>231240</td>\n",
       "      <td>159472</td>\n",
       "      <td>messenger</td>\n",
       "    </tr>\n",
       "    <tr>\n",
       "      <th>20221117_125310_4_60</th>\n",
       "      <td>752</td>\n",
       "      <td>0</td>\n",
       "      <td>0</td>\n",
       "      <td>3368</td>\n",
       "      <td>880</td>\n",
       "      <td>7888</td>\n",
       "      <td>0</td>\n",
       "      <td>0</td>\n",
       "      <td>0</td>\n",
       "      <td>0</td>\n",
       "      <td>...</td>\n",
       "      <td>126152</td>\n",
       "      <td>129480</td>\n",
       "      <td>122120</td>\n",
       "      <td>104160</td>\n",
       "      <td>152944</td>\n",
       "      <td>171560</td>\n",
       "      <td>162064</td>\n",
       "      <td>160912</td>\n",
       "      <td>139248</td>\n",
       "      <td>messenger</td>\n",
       "    </tr>\n",
       "    <tr>\n",
       "      <th>...</th>\n",
       "      <td>...</td>\n",
       "      <td>...</td>\n",
       "      <td>...</td>\n",
       "      <td>...</td>\n",
       "      <td>...</td>\n",
       "      <td>...</td>\n",
       "      <td>...</td>\n",
       "      <td>...</td>\n",
       "      <td>...</td>\n",
       "      <td>...</td>\n",
       "      <td>...</td>\n",
       "      <td>...</td>\n",
       "      <td>...</td>\n",
       "      <td>...</td>\n",
       "      <td>...</td>\n",
       "      <td>...</td>\n",
       "      <td>...</td>\n",
       "      <td>...</td>\n",
       "      <td>...</td>\n",
       "      <td>...</td>\n",
       "      <td>...</td>\n",
       "    </tr>\n",
       "    <tr>\n",
       "      <th>20230124_124323_161_150</th>\n",
       "      <td>64944</td>\n",
       "      <td>0</td>\n",
       "      <td>0</td>\n",
       "      <td>0</td>\n",
       "      <td>0</td>\n",
       "      <td>0</td>\n",
       "      <td>0</td>\n",
       "      <td>45912</td>\n",
       "      <td>8592</td>\n",
       "      <td>0</td>\n",
       "      <td>...</td>\n",
       "      <td>41840</td>\n",
       "      <td>0</td>\n",
       "      <td>0</td>\n",
       "      <td>0</td>\n",
       "      <td>0</td>\n",
       "      <td>0</td>\n",
       "      <td>0</td>\n",
       "      <td>0</td>\n",
       "      <td>0</td>\n",
       "      <td>youtube</td>\n",
       "    </tr>\n",
       "    <tr>\n",
       "      <th>20230124_124323_166_0</th>\n",
       "      <td>50648</td>\n",
       "      <td>24152</td>\n",
       "      <td>0</td>\n",
       "      <td>0</td>\n",
       "      <td>7552</td>\n",
       "      <td>0</td>\n",
       "      <td>0</td>\n",
       "      <td>0</td>\n",
       "      <td>0</td>\n",
       "      <td>2376</td>\n",
       "      <td>...</td>\n",
       "      <td>0</td>\n",
       "      <td>0</td>\n",
       "      <td>211000</td>\n",
       "      <td>87496</td>\n",
       "      <td>0</td>\n",
       "      <td>0</td>\n",
       "      <td>0</td>\n",
       "      <td>880152</td>\n",
       "      <td>0</td>\n",
       "      <td>youtube</td>\n",
       "    </tr>\n",
       "    <tr>\n",
       "      <th>20230124_124323_166_15</th>\n",
       "      <td>0</td>\n",
       "      <td>0</td>\n",
       "      <td>0</td>\n",
       "      <td>0</td>\n",
       "      <td>0</td>\n",
       "      <td>0</td>\n",
       "      <td>41896</td>\n",
       "      <td>51864</td>\n",
       "      <td>0</td>\n",
       "      <td>0</td>\n",
       "      <td>...</td>\n",
       "      <td>4496</td>\n",
       "      <td>64776</td>\n",
       "      <td>143632</td>\n",
       "      <td>0</td>\n",
       "      <td>0</td>\n",
       "      <td>0</td>\n",
       "      <td>0</td>\n",
       "      <td>0</td>\n",
       "      <td>177632</td>\n",
       "      <td>youtube</td>\n",
       "    </tr>\n",
       "    <tr>\n",
       "      <th>20230124_124323_166_30</th>\n",
       "      <td>26952</td>\n",
       "      <td>58424</td>\n",
       "      <td>0</td>\n",
       "      <td>0</td>\n",
       "      <td>0</td>\n",
       "      <td>0</td>\n",
       "      <td>8704</td>\n",
       "      <td>0</td>\n",
       "      <td>0</td>\n",
       "      <td>7744</td>\n",
       "      <td>...</td>\n",
       "      <td>448</td>\n",
       "      <td>0</td>\n",
       "      <td>3696</td>\n",
       "      <td>2152</td>\n",
       "      <td>896</td>\n",
       "      <td>200032</td>\n",
       "      <td>0</td>\n",
       "      <td>0</td>\n",
       "      <td>7440</td>\n",
       "      <td>youtube</td>\n",
       "    </tr>\n",
       "    <tr>\n",
       "      <th>20230124_124323_166_45</th>\n",
       "      <td>0</td>\n",
       "      <td>0</td>\n",
       "      <td>0</td>\n",
       "      <td>0</td>\n",
       "      <td>27344</td>\n",
       "      <td>55096</td>\n",
       "      <td>0</td>\n",
       "      <td>0</td>\n",
       "      <td>37184</td>\n",
       "      <td>12888</td>\n",
       "      <td>...</td>\n",
       "      <td>1914104</td>\n",
       "      <td>323552</td>\n",
       "      <td>2152</td>\n",
       "      <td>6872</td>\n",
       "      <td>9248</td>\n",
       "      <td>1384</td>\n",
       "      <td>0</td>\n",
       "      <td>0</td>\n",
       "      <td>4296</td>\n",
       "      <td>youtube</td>\n",
       "    </tr>\n",
       "  </tbody>\n",
       "</table>\n",
       "<p>23772 rows × 121 columns</p>\n",
       "</div>"
      ],
      "text/plain": [
       "                             0      1      2      3      4      5      6  \\\n",
       "20221117_125310_4_0       2592      0  52176  40096  80224  80112    328   \n",
       "20221117_125310_4_15         0      0      0    392    584   5712      0   \n",
       "20221117_125310_4_30     27912   8168   2752   2136    704   4984      0   \n",
       "20221117_125310_4_45         0      0    296      0   2928   7048      0   \n",
       "20221117_125310_4_60       752      0      0   3368    880   7888      0   \n",
       "...                        ...    ...    ...    ...    ...    ...    ...   \n",
       "20230124_124323_161_150  64944      0      0      0      0      0      0   \n",
       "20230124_124323_166_0    50648  24152      0      0   7552      0      0   \n",
       "20230124_124323_166_15       0      0      0      0      0      0  41896   \n",
       "20230124_124323_166_30   26952  58424      0      0      0      0   8704   \n",
       "20230124_124323_166_45       0      0      0      0  27344  55096      0   \n",
       "\n",
       "                             7      8      9  ...      111     112     113  \\\n",
       "20221117_125310_4_0          0      0      0  ...        0       0       0   \n",
       "20221117_125310_4_15         0      0      0  ...        0       0       0   \n",
       "20221117_125310_4_30         0  24680    712  ...    37808  103528   12848   \n",
       "20221117_125310_4_45         0      0      0  ...   103776  141800  136000   \n",
       "20221117_125310_4_60         0      0      0  ...   126152  129480  122120   \n",
       "...                        ...    ...    ...  ...      ...     ...     ...   \n",
       "20230124_124323_161_150  45912   8592      0  ...    41840       0       0   \n",
       "20230124_124323_166_0        0      0   2376  ...        0       0  211000   \n",
       "20230124_124323_166_15   51864      0      0  ...     4496   64776  143632   \n",
       "20230124_124323_166_30       0      0   7744  ...      448       0    3696   \n",
       "20230124_124323_166_45       0  37184  12888  ...  1914104  323552    2152   \n",
       "\n",
       "                            114     115     116     117     118     119  \\\n",
       "20221117_125310_4_0           0       0       0       0       0       0   \n",
       "20221117_125310_4_15          0       0       0       0   33688       0   \n",
       "20221117_125310_4_30      77000   98288   81672  114152   74864   88160   \n",
       "20221117_125310_4_45     116848  166688  188968  160760  231240  159472   \n",
       "20221117_125310_4_60     104160  152944  171560  162064  160912  139248   \n",
       "...                         ...     ...     ...     ...     ...     ...   \n",
       "20230124_124323_161_150       0       0       0       0       0       0   \n",
       "20230124_124323_166_0     87496       0       0       0  880152       0   \n",
       "20230124_124323_166_15        0       0       0       0       0  177632   \n",
       "20230124_124323_166_30     2152     896  200032       0       0    7440   \n",
       "20230124_124323_166_45     6872    9248    1384       0       0    4296   \n",
       "\n",
       "                             label  \n",
       "20221117_125310_4_0      messenger  \n",
       "20221117_125310_4_15     messenger  \n",
       "20221117_125310_4_30     messenger  \n",
       "20221117_125310_4_45     messenger  \n",
       "20221117_125310_4_60     messenger  \n",
       "...                            ...  \n",
       "20230124_124323_161_150    youtube  \n",
       "20230124_124323_166_0      youtube  \n",
       "20230124_124323_166_15     youtube  \n",
       "20230124_124323_166_30     youtube  \n",
       "20230124_124323_166_45     youtube  \n",
       "\n",
       "[23772 rows x 121 columns]"
      ]
     },
     "execution_count": 4,
     "metadata": {},
     "output_type": "execute_result"
    }
   ],
   "source": [
    "df_train"
   ]
  },
  {
   "cell_type": "code",
   "execution_count": null,
   "id": "4a576840",
   "metadata": {
    "scrolled": true
   },
   "outputs": [],
   "source": []
  },
  {
   "cell_type": "code",
   "execution_count": 5,
   "id": "bf3fd682",
   "metadata": {},
   "outputs": [
    {
     "data": {
      "text/html": [
       "<div>\n",
       "<style scoped>\n",
       "    .dataframe tbody tr th:only-of-type {\n",
       "        vertical-align: middle;\n",
       "    }\n",
       "\n",
       "    .dataframe tbody tr th {\n",
       "        vertical-align: top;\n",
       "    }\n",
       "\n",
       "    .dataframe thead th {\n",
       "        text-align: right;\n",
       "    }\n",
       "</style>\n",
       "<table border=\"1\" class=\"dataframe\">\n",
       "  <thead>\n",
       "    <tr style=\"text-align: right;\">\n",
       "      <th></th>\n",
       "      <th>0</th>\n",
       "      <th>1</th>\n",
       "      <th>2</th>\n",
       "      <th>3</th>\n",
       "      <th>4</th>\n",
       "      <th>5</th>\n",
       "      <th>6</th>\n",
       "      <th>7</th>\n",
       "      <th>8</th>\n",
       "      <th>9</th>\n",
       "      <th>...</th>\n",
       "      <th>111</th>\n",
       "      <th>112</th>\n",
       "      <th>113</th>\n",
       "      <th>114</th>\n",
       "      <th>115</th>\n",
       "      <th>116</th>\n",
       "      <th>117</th>\n",
       "      <th>118</th>\n",
       "      <th>119</th>\n",
       "      <th>label</th>\n",
       "    </tr>\n",
       "    <tr>\n",
       "      <th>id</th>\n",
       "      <th></th>\n",
       "      <th></th>\n",
       "      <th></th>\n",
       "      <th></th>\n",
       "      <th></th>\n",
       "      <th></th>\n",
       "      <th></th>\n",
       "      <th></th>\n",
       "      <th></th>\n",
       "      <th></th>\n",
       "      <th></th>\n",
       "      <th></th>\n",
       "      <th></th>\n",
       "      <th></th>\n",
       "      <th></th>\n",
       "      <th></th>\n",
       "      <th></th>\n",
       "      <th></th>\n",
       "      <th></th>\n",
       "      <th></th>\n",
       "      <th></th>\n",
       "    </tr>\n",
       "  </thead>\n",
       "  <tbody>\n",
       "    <tr>\n",
       "      <th>20221117_125310_4_0</th>\n",
       "      <td>-1.440219</td>\n",
       "      <td>-1.464162</td>\n",
       "      <td>-1.027412</td>\n",
       "      <td>-1.132250</td>\n",
       "      <td>-0.798491</td>\n",
       "      <td>-0.796031</td>\n",
       "      <td>-1.453737</td>\n",
       "      <td>-1.462331</td>\n",
       "      <td>-1.460802</td>\n",
       "      <td>-1.454915</td>\n",
       "      <td>...</td>\n",
       "      <td>-0.757158</td>\n",
       "      <td>-0.775148</td>\n",
       "      <td>-0.808439</td>\n",
       "      <td>-0.794229</td>\n",
       "      <td>-0.725009</td>\n",
       "      <td>-0.766878</td>\n",
       "      <td>-0.794605</td>\n",
       "      <td>-0.840514</td>\n",
       "      <td>-0.823655</td>\n",
       "      <td>messenger</td>\n",
       "    </tr>\n",
       "    <tr>\n",
       "      <th>20221117_125310_4_15</th>\n",
       "      <td>-1.461623</td>\n",
       "      <td>-1.464162</td>\n",
       "      <td>-1.459074</td>\n",
       "      <td>-1.460388</td>\n",
       "      <td>-1.456448</td>\n",
       "      <td>-1.407449</td>\n",
       "      <td>-1.456438</td>\n",
       "      <td>-1.462331</td>\n",
       "      <td>-1.460802</td>\n",
       "      <td>-1.454915</td>\n",
       "      <td>...</td>\n",
       "      <td>-0.757158</td>\n",
       "      <td>-0.775148</td>\n",
       "      <td>-0.808439</td>\n",
       "      <td>-0.794229</td>\n",
       "      <td>-0.725009</td>\n",
       "      <td>-0.766878</td>\n",
       "      <td>-0.794605</td>\n",
       "      <td>-0.720319</td>\n",
       "      <td>-0.823655</td>\n",
       "      <td>messenger</td>\n",
       "    </tr>\n",
       "    <tr>\n",
       "      <th>20221117_125310_4_30</th>\n",
       "      <td>-1.231125</td>\n",
       "      <td>-1.396584</td>\n",
       "      <td>-1.436306</td>\n",
       "      <td>-1.445975</td>\n",
       "      <td>-1.455456</td>\n",
       "      <td>-1.413432</td>\n",
       "      <td>-1.456438</td>\n",
       "      <td>-1.462331</td>\n",
       "      <td>-1.257041</td>\n",
       "      <td>-1.449058</td>\n",
       "      <td>...</td>\n",
       "      <td>-0.638895</td>\n",
       "      <td>-0.441109</td>\n",
       "      <td>-0.764811</td>\n",
       "      <td>-0.539917</td>\n",
       "      <td>-0.427175</td>\n",
       "      <td>-0.508504</td>\n",
       "      <td>-0.416049</td>\n",
       "      <td>-0.573408</td>\n",
       "      <td>-0.515073</td>\n",
       "      <td>messenger</td>\n",
       "    </tr>\n",
       "    <tr>\n",
       "      <th>20221117_125310_4_45</th>\n",
       "      <td>-1.461623</td>\n",
       "      <td>-1.464162</td>\n",
       "      <td>-1.456625</td>\n",
       "      <td>-1.463628</td>\n",
       "      <td>-1.437082</td>\n",
       "      <td>-1.396470</td>\n",
       "      <td>-1.456438</td>\n",
       "      <td>-1.462331</td>\n",
       "      <td>-1.460802</td>\n",
       "      <td>-1.454915</td>\n",
       "      <td>...</td>\n",
       "      <td>-0.432550</td>\n",
       "      <td>-0.317622</td>\n",
       "      <td>-0.346621</td>\n",
       "      <td>-0.408309</td>\n",
       "      <td>-0.219908</td>\n",
       "      <td>-0.169066</td>\n",
       "      <td>-0.261486</td>\n",
       "      <td>-0.015478</td>\n",
       "      <td>-0.265463</td>\n",
       "      <td>messenger</td>\n",
       "    </tr>\n",
       "    <tr>\n",
       "      <th>20221117_125310_4_60</th>\n",
       "      <td>-1.455413</td>\n",
       "      <td>-1.464162</td>\n",
       "      <td>-1.459074</td>\n",
       "      <td>-1.435793</td>\n",
       "      <td>-1.454002</td>\n",
       "      <td>-1.389567</td>\n",
       "      <td>-1.456438</td>\n",
       "      <td>-1.462331</td>\n",
       "      <td>-1.460802</td>\n",
       "      <td>-1.454915</td>\n",
       "      <td>...</td>\n",
       "      <td>-0.362558</td>\n",
       "      <td>-0.357373</td>\n",
       "      <td>-0.393754</td>\n",
       "      <td>-0.450215</td>\n",
       "      <td>-0.261556</td>\n",
       "      <td>-0.224138</td>\n",
       "      <td>-0.257161</td>\n",
       "      <td>-0.266400</td>\n",
       "      <td>-0.336252</td>\n",
       "      <td>messenger</td>\n",
       "    </tr>\n",
       "    <tr>\n",
       "      <th>...</th>\n",
       "      <td>...</td>\n",
       "      <td>...</td>\n",
       "      <td>...</td>\n",
       "      <td>...</td>\n",
       "      <td>...</td>\n",
       "      <td>...</td>\n",
       "      <td>...</td>\n",
       "      <td>...</td>\n",
       "      <td>...</td>\n",
       "      <td>...</td>\n",
       "      <td>...</td>\n",
       "      <td>...</td>\n",
       "      <td>...</td>\n",
       "      <td>...</td>\n",
       "      <td>...</td>\n",
       "      <td>...</td>\n",
       "      <td>...</td>\n",
       "      <td>...</td>\n",
       "      <td>...</td>\n",
       "      <td>...</td>\n",
       "      <td>...</td>\n",
       "    </tr>\n",
       "    <tr>\n",
       "      <th>20230124_124323_161_150</th>\n",
       "      <td>-0.925314</td>\n",
       "      <td>-1.464162</td>\n",
       "      <td>-1.459074</td>\n",
       "      <td>-1.463628</td>\n",
       "      <td>-1.461272</td>\n",
       "      <td>-1.454390</td>\n",
       "      <td>-1.456438</td>\n",
       "      <td>-1.082581</td>\n",
       "      <td>-1.389865</td>\n",
       "      <td>-1.454915</td>\n",
       "      <td>...</td>\n",
       "      <td>-0.626283</td>\n",
       "      <td>-0.775148</td>\n",
       "      <td>-0.808439</td>\n",
       "      <td>-0.794229</td>\n",
       "      <td>-0.725009</td>\n",
       "      <td>-0.766878</td>\n",
       "      <td>-0.794605</td>\n",
       "      <td>-0.840514</td>\n",
       "      <td>-0.823655</td>\n",
       "      <td>youtube</td>\n",
       "    </tr>\n",
       "    <tr>\n",
       "      <th>20230124_124323_166_0</th>\n",
       "      <td>-1.043371</td>\n",
       "      <td>-1.264340</td>\n",
       "      <td>-1.459074</td>\n",
       "      <td>-1.463628</td>\n",
       "      <td>-1.398881</td>\n",
       "      <td>-1.454390</td>\n",
       "      <td>-1.456438</td>\n",
       "      <td>-1.462331</td>\n",
       "      <td>-1.460802</td>\n",
       "      <td>-1.435371</td>\n",
       "      <td>...</td>\n",
       "      <td>-0.757158</td>\n",
       "      <td>-0.775148</td>\n",
       "      <td>-0.091942</td>\n",
       "      <td>-0.505252</td>\n",
       "      <td>-0.725009</td>\n",
       "      <td>-0.766878</td>\n",
       "      <td>-0.794605</td>\n",
       "      <td>2.299760</td>\n",
       "      <td>-0.823655</td>\n",
       "      <td>youtube</td>\n",
       "    </tr>\n",
       "    <tr>\n",
       "      <th>20230124_124323_166_15</th>\n",
       "      <td>-1.461623</td>\n",
       "      <td>-1.464162</td>\n",
       "      <td>-1.459074</td>\n",
       "      <td>-1.463628</td>\n",
       "      <td>-1.461272</td>\n",
       "      <td>-1.454390</td>\n",
       "      <td>-1.111494</td>\n",
       "      <td>-1.033350</td>\n",
       "      <td>-1.460802</td>\n",
       "      <td>-1.454915</td>\n",
       "      <td>...</td>\n",
       "      <td>-0.743094</td>\n",
       "      <td>-0.566144</td>\n",
       "      <td>-0.320705</td>\n",
       "      <td>-0.794229</td>\n",
       "      <td>-0.725009</td>\n",
       "      <td>-0.766878</td>\n",
       "      <td>-0.794605</td>\n",
       "      <td>-0.840514</td>\n",
       "      <td>-0.201898</td>\n",
       "      <td>youtube</td>\n",
       "    </tr>\n",
       "    <tr>\n",
       "      <th>20230124_124323_166_30</th>\n",
       "      <td>-1.239053</td>\n",
       "      <td>-0.980790</td>\n",
       "      <td>-1.459074</td>\n",
       "      <td>-1.463628</td>\n",
       "      <td>-1.461272</td>\n",
       "      <td>-1.454390</td>\n",
       "      <td>-1.384775</td>\n",
       "      <td>-1.462331</td>\n",
       "      <td>-1.460802</td>\n",
       "      <td>-1.391216</td>\n",
       "      <td>...</td>\n",
       "      <td>-0.755756</td>\n",
       "      <td>-0.775148</td>\n",
       "      <td>-0.795889</td>\n",
       "      <td>-0.787122</td>\n",
       "      <td>-0.722294</td>\n",
       "      <td>-0.134065</td>\n",
       "      <td>-0.794605</td>\n",
       "      <td>-0.840514</td>\n",
       "      <td>-0.797613</td>\n",
       "      <td>youtube</td>\n",
       "    </tr>\n",
       "    <tr>\n",
       "      <th>20230124_124323_166_45</th>\n",
       "      <td>-1.461623</td>\n",
       "      <td>-1.464162</td>\n",
       "      <td>-1.459074</td>\n",
       "      <td>-1.463628</td>\n",
       "      <td>-1.235366</td>\n",
       "      <td>-1.001612</td>\n",
       "      <td>-1.456438</td>\n",
       "      <td>-1.462331</td>\n",
       "      <td>-1.153806</td>\n",
       "      <td>-1.348904</td>\n",
       "      <td>...</td>\n",
       "      <td>5.230101</td>\n",
       "      <td>0.268812</td>\n",
       "      <td>-0.801131</td>\n",
       "      <td>-0.771533</td>\n",
       "      <td>-0.696986</td>\n",
       "      <td>-0.762500</td>\n",
       "      <td>-0.794605</td>\n",
       "      <td>-0.840514</td>\n",
       "      <td>-0.808618</td>\n",
       "      <td>youtube</td>\n",
       "    </tr>\n",
       "  </tbody>\n",
       "</table>\n",
       "<p>23772 rows × 121 columns</p>\n",
       "</div>"
      ],
      "text/plain": [
       "                                0         1         2         3         4  \\\n",
       "id                                                                          \n",
       "20221117_125310_4_0     -1.440219 -1.464162 -1.027412 -1.132250 -0.798491   \n",
       "20221117_125310_4_15    -1.461623 -1.464162 -1.459074 -1.460388 -1.456448   \n",
       "20221117_125310_4_30    -1.231125 -1.396584 -1.436306 -1.445975 -1.455456   \n",
       "20221117_125310_4_45    -1.461623 -1.464162 -1.456625 -1.463628 -1.437082   \n",
       "20221117_125310_4_60    -1.455413 -1.464162 -1.459074 -1.435793 -1.454002   \n",
       "...                           ...       ...       ...       ...       ...   \n",
       "20230124_124323_161_150 -0.925314 -1.464162 -1.459074 -1.463628 -1.461272   \n",
       "20230124_124323_166_0   -1.043371 -1.264340 -1.459074 -1.463628 -1.398881   \n",
       "20230124_124323_166_15  -1.461623 -1.464162 -1.459074 -1.463628 -1.461272   \n",
       "20230124_124323_166_30  -1.239053 -0.980790 -1.459074 -1.463628 -1.461272   \n",
       "20230124_124323_166_45  -1.461623 -1.464162 -1.459074 -1.463628 -1.235366   \n",
       "\n",
       "                                5         6         7         8         9  \\\n",
       "id                                                                          \n",
       "20221117_125310_4_0     -0.796031 -1.453737 -1.462331 -1.460802 -1.454915   \n",
       "20221117_125310_4_15    -1.407449 -1.456438 -1.462331 -1.460802 -1.454915   \n",
       "20221117_125310_4_30    -1.413432 -1.456438 -1.462331 -1.257041 -1.449058   \n",
       "20221117_125310_4_45    -1.396470 -1.456438 -1.462331 -1.460802 -1.454915   \n",
       "20221117_125310_4_60    -1.389567 -1.456438 -1.462331 -1.460802 -1.454915   \n",
       "...                           ...       ...       ...       ...       ...   \n",
       "20230124_124323_161_150 -1.454390 -1.456438 -1.082581 -1.389865 -1.454915   \n",
       "20230124_124323_166_0   -1.454390 -1.456438 -1.462331 -1.460802 -1.435371   \n",
       "20230124_124323_166_15  -1.454390 -1.111494 -1.033350 -1.460802 -1.454915   \n",
       "20230124_124323_166_30  -1.454390 -1.384775 -1.462331 -1.460802 -1.391216   \n",
       "20230124_124323_166_45  -1.001612 -1.456438 -1.462331 -1.153806 -1.348904   \n",
       "\n",
       "                         ...       111       112       113       114  \\\n",
       "id                       ...                                           \n",
       "20221117_125310_4_0      ... -0.757158 -0.775148 -0.808439 -0.794229   \n",
       "20221117_125310_4_15     ... -0.757158 -0.775148 -0.808439 -0.794229   \n",
       "20221117_125310_4_30     ... -0.638895 -0.441109 -0.764811 -0.539917   \n",
       "20221117_125310_4_45     ... -0.432550 -0.317622 -0.346621 -0.408309   \n",
       "20221117_125310_4_60     ... -0.362558 -0.357373 -0.393754 -0.450215   \n",
       "...                      ...       ...       ...       ...       ...   \n",
       "20230124_124323_161_150  ... -0.626283 -0.775148 -0.808439 -0.794229   \n",
       "20230124_124323_166_0    ... -0.757158 -0.775148 -0.091942 -0.505252   \n",
       "20230124_124323_166_15   ... -0.743094 -0.566144 -0.320705 -0.794229   \n",
       "20230124_124323_166_30   ... -0.755756 -0.775148 -0.795889 -0.787122   \n",
       "20230124_124323_166_45   ...  5.230101  0.268812 -0.801131 -0.771533   \n",
       "\n",
       "                              115       116       117       118       119  \\\n",
       "id                                                                          \n",
       "20221117_125310_4_0     -0.725009 -0.766878 -0.794605 -0.840514 -0.823655   \n",
       "20221117_125310_4_15    -0.725009 -0.766878 -0.794605 -0.720319 -0.823655   \n",
       "20221117_125310_4_30    -0.427175 -0.508504 -0.416049 -0.573408 -0.515073   \n",
       "20221117_125310_4_45    -0.219908 -0.169066 -0.261486 -0.015478 -0.265463   \n",
       "20221117_125310_4_60    -0.261556 -0.224138 -0.257161 -0.266400 -0.336252   \n",
       "...                           ...       ...       ...       ...       ...   \n",
       "20230124_124323_161_150 -0.725009 -0.766878 -0.794605 -0.840514 -0.823655   \n",
       "20230124_124323_166_0   -0.725009 -0.766878 -0.794605  2.299760 -0.823655   \n",
       "20230124_124323_166_15  -0.725009 -0.766878 -0.794605 -0.840514 -0.201898   \n",
       "20230124_124323_166_30  -0.722294 -0.134065 -0.794605 -0.840514 -0.797613   \n",
       "20230124_124323_166_45  -0.696986 -0.762500 -0.794605 -0.840514 -0.808618   \n",
       "\n",
       "                             label  \n",
       "id                                  \n",
       "20221117_125310_4_0      messenger  \n",
       "20221117_125310_4_15     messenger  \n",
       "20221117_125310_4_30     messenger  \n",
       "20221117_125310_4_45     messenger  \n",
       "20221117_125310_4_60     messenger  \n",
       "...                            ...  \n",
       "20230124_124323_161_150    youtube  \n",
       "20230124_124323_166_0      youtube  \n",
       "20230124_124323_166_15     youtube  \n",
       "20230124_124323_166_30     youtube  \n",
       "20230124_124323_166_45     youtube  \n",
       "\n",
       "[23772 rows x 121 columns]"
      ]
     },
     "execution_count": 5,
     "metadata": {},
     "output_type": "execute_result"
    }
   ],
   "source": [
    "scaler = Scaler_Metrics()\n",
    "training_data = scaler.fit_transform(df_train)\n",
    "testing_data = scaler.transform(df_test)\n",
    "training_data"
   ]
  },
  {
   "cell_type": "code",
   "execution_count": 6,
   "id": "f11a95df",
   "metadata": {},
   "outputs": [],
   "source": [
    "training_data = training_data[training_data .label!=\"noise\"]\n",
    "testing_data = testing_data[testing_data .label!=\"noise\"]"
   ]
  },
  {
   "cell_type": "code",
   "execution_count": 7,
   "id": "f9ef54a7",
   "metadata": {},
   "outputs": [],
   "source": [
    "# Train + Evaluate"
   ]
  },
  {
   "cell_type": "code",
   "execution_count": null,
   "id": "5a9f5735",
   "metadata": {},
   "outputs": [],
   "source": []
  },
  {
   "cell_type": "code",
   "execution_count": 8,
   "id": "2cfd1779",
   "metadata": {},
   "outputs": [
    {
     "name": "stdout",
     "output_type": "stream",
     "text": [
      "Training Duration : 32.766091 s for a dataset length of 23565\n"
     ]
    }
   ],
   "source": [
    "time_counter = time.time_ns()\n",
    "\n",
    "model = RandomForestClassifier(class_weight = \"balanced\")\n",
    "model.fit(training_data[training_data.columns[:-1]], training_data.label)\n",
    "\n",
    "training_duration = (time.time_ns() - time_counter)/(10**9)\n",
    "print(f\"Training Duration : {training_duration} s for a dataset length of {len(training_data.label)}\")"
   ]
  },
  {
   "cell_type": "code",
   "execution_count": 9,
   "id": "2a85b365",
   "metadata": {},
   "outputs": [
    {
     "name": "stdout",
     "output_type": "stream",
     "text": [
      "Testing Duration : 0.2454806 s for a dataset length of 10068\n",
      "Testing Duration per data : 0.024382260627731425 ms\n"
     ]
    }
   ],
   "source": [
    "# mesure efficiency\n",
    "time_counter = time.time_ns()\n",
    "\n",
    "preds_labels =  model.predict(testing_data[testing_data.columns[:-1]])\n",
    "true_labels = testing_data.label\n",
    "\n",
    "testing_duration = (time.time_ns() - time_counter)/(10**9)\n",
    "print(f\"Testing Duration : {testing_duration} s for a dataset length of {len(testing_data.label)}\")\n",
    "testing_duration_per_item = testing_duration*(10**3)/len(testing_data.label)\n",
    "print(f\"Testing Duration per data : {testing_duration_per_item} ms\")"
   ]
  },
  {
   "cell_type": "code",
   "execution_count": 10,
   "id": "28e260ea",
   "metadata": {},
   "outputs": [
    {
     "name": "stdout",
     "output_type": "stream",
     "text": [
      "normalized confusion matrix\n"
     ]
    },
    {
     "data": {
      "image/png": "[encoded data removed]",
      "text/plain": [
       "<Figure size 600x600 with 2 Axes>"
      ]
     },
     "metadata": {},
     "output_type": "display_data"
    }
   ],
   "source": [
    "plot_confusion_matrix(true_labels,preds_labels)"
   ]
  },
  {
   "cell_type": "code",
   "execution_count": 11,
   "id": "aaebe96d",
   "metadata": {},
   "outputs": [
    {
     "data": {
      "text/plain": [
       "{'Accuracy': 0.9021908571876341,\n",
       " 'Precision': 0.9138451357655423,\n",
       " 'Recall': 0.844259038537942,\n",
       " 'F1_Score': 0.8598957239845085,\n",
       " 'support': None}"
      ]
     },
     "execution_count": 11,
     "metadata": {},
     "output_type": "execute_result"
    }
   ],
   "source": [
    "get_scores(true_labels,preds_labels)"
   ]
  },
  {
   "cell_type": "code",
   "execution_count": 12,
   "id": "80392176",
   "metadata": {},
   "outputs": [
    {
     "data": {
      "image/png": "[encoded data removed]",
      "text/plain": [
       "<Figure size 640x480 with 1 Axes>"
      ]
     },
     "metadata": {},
     "output_type": "display_data"
    }
   ],
   "source": [
    "plot_feature_importance(model, training_data.columns[:-1])"
   ]
  },
  {
   "cell_type": "code",
   "execution_count": null,
   "id": "a5f02e81",
   "metadata": {},
   "outputs": [],
   "source": []
  },
  {
   "cell_type": "code",
   "execution_count": null,
   "id": "1261f57b",
   "metadata": {},
   "outputs": [],
   "source": []
  },
  {
   "cell_type": "code",
   "execution_count": null,
   "id": "d8abbb5a",
   "metadata": {},
   "outputs": [],
   "source": []
  },
  {
   "cell_type": "code",
   "execution_count": null,
   "id": "e0412bfa",
   "metadata": {},
   "outputs": [],
   "source": []
  }
 ],
 "metadata": {
  "kernelspec": {
   "display_name": "Python 3 (ipykernel)",
   "language": "python",
   "name": "python3"
  },
  "language_info": {
   "codemirror_mode": {
    "name": "ipython",
    "version": 3
   },
   "file_extension": ".py",
   "mimetype": "text/x-python",
   "name": "python",
   "nbconvert_exporter": "python",
   "pygments_lexer": "ipython3",
   "version": "3.9.15"
  }
 },
 "nbformat": 4,
 "nbformat_minor": 5
}
