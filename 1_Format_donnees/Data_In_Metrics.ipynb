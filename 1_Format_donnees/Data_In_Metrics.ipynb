{
 "cells": [
  {
   "cell_type": "code",
   "execution_count": 1,
   "id": "64d67bad",
   "metadata": {},
   "outputs": [],
   "source": [
    "import os\n",
    "import pandas as pd\n",
    "import warnings\n",
    "import matplotlib.pyplot as plt\n",
    "\n",
    "import numpy as np\n",
    "import seaborn as sns\n",
    "import sys\n",
    "\n",
    "from sklearn.ensemble import RandomForestClassifier\n",
    "from tqdm import tqdm\n",
    "import time\n",
    "\n",
    "\n",
    "plt.rcParams[\"figure.figsize\"] = (12, 9)\n",
    "warnings.simplefilter(\"ignore\")\n",
    "\n",
    "sys.path.append(\"../1_Format_donnees/\")\n",
    "from aggregation import load_and_preprocess_agg_metrics, Scaler_Metrics\n",
    "sys.path.append(\"../\")\n",
    "\n",
    "from evaluate import plot_confusion_matrix, get_scores, plot_feature_importance\n",
    "\n",
    "### <8 mbits en cumsum = bruit "
   ]
  },
  {
   "cell_type": "code",
   "execution_count": 2,
   "id": "675f0647",
   "metadata": {
    "scrolled": true
   },
   "outputs": [
    {
     "name": "stdout",
     "output_type": "stream",
     "text": [
      "Load datasets...\n",
      "Extracting ../Mesures/test\\messenger20221124_151137.csv.... 1/7\n"
     ]
    },
    {
     "name": "stderr",
     "output_type": "stream",
     "text": [
      "100%|████████████████████████████████████████████████████████████████████████████████████| 5/5 [00:00<00:00, 18.15it/s]\n"
     ]
    },
    {
     "name": "stdout",
     "output_type": "stream",
     "text": [
      "Extracting ../Mesures/test\\messenger20230208_132747.csv.... 2/7\n"
     ]
    },
    {
     "name": "stderr",
     "output_type": "stream",
     "text": [
      "100%|██████████████████████████████████████████████████████████████████████████████████| 27/27 [00:04<00:00,  6.26it/s]\n"
     ]
    },
    {
     "name": "stdout",
     "output_type": "stream",
     "text": [
      "Extracting ../Mesures/test\\skype20221206_150902.csv.... 3/7\n"
     ]
    },
    {
     "name": "stderr",
     "output_type": "stream",
     "text": [
      "100%|████████████████████████████████████████████████████████████████████████████████████| 3/3 [00:01<00:00,  2.93it/s]\n"
     ]
    },
    {
     "name": "stdout",
     "output_type": "stream",
     "text": [
      "Extracting ../Mesures/test\\spotify20230127_134348.csv.... 4/7\n"
     ]
    },
    {
     "name": "stderr",
     "output_type": "stream",
     "text": [
      "100%|███████████████████████████████████████████████████████████████████████████████| 240/240 [00:00<00:00, 870.89it/s]\n"
     ]
    },
    {
     "name": "stdout",
     "output_type": "stream",
     "text": [
      "Extracting ../Mesures/test\\twitch20221124_163054.csv.... 5/7\n"
     ]
    },
    {
     "name": "stderr",
     "output_type": "stream",
     "text": [
      "100%|██████████████████████████████████████████████████████████████████████████████████| 12/12 [00:00<00:00, 18.89it/s]\n"
     ]
    },
    {
     "name": "stdout",
     "output_type": "stream",
     "text": [
      "Extracting ../Mesures/test\\youtube20221118_104205.csv.... 6/7\n"
     ]
    },
    {
     "name": "stderr",
     "output_type": "stream",
     "text": [
      "100%|███████████████████████████████████████████████████████████████████████████████| 218/218 [00:00<00:00, 829.71it/s]\n"
     ]
    },
    {
     "name": "stdout",
     "output_type": "stream",
     "text": [
      "Extracting ../Mesures/test\\youtube20230117_121925.csv.... 7/7\n"
     ]
    },
    {
     "name": "stderr",
     "output_type": "stream",
     "text": [
      "100%|███████████████████████████████████████████████████████████████████████████████| 260/260 [00:00<00:00, 565.36it/s]\n"
     ]
    },
    {
     "name": "stdout",
     "output_type": "stream",
     "text": [
      "Computing metrics and statistics...\n"
     ]
    },
    {
     "name": "stderr",
     "output_type": "stream",
     "text": [
      "100%|████████████████████████████████████████████████████████████████████████████████| 765/765 [00:13<00:00, 58.00it/s]\n"
     ]
    },
    {
     "name": "stdout",
     "output_type": "stream",
     "text": [
      "Load datasets...\n",
      "Extracting ../Mesures/train\\messenger20221117_125310.csv.... 1/39\n"
     ]
    },
    {
     "name": "stderr",
     "output_type": "stream",
     "text": [
      "100%|█████████████████████████████████████████████████████████████████████████████████| 15/15 [00:00<00:00, 122.28it/s]\n"
     ]
    },
    {
     "name": "stdout",
     "output_type": "stream",
     "text": [
      "Extracting ../Mesures/train\\messenger20221124_143112.csv.... 2/39\n"
     ]
    },
    {
     "name": "stderr",
     "output_type": "stream",
     "text": [
      "100%|██████████████████████████████████████████████████████████████████████████████████| 11/11 [00:00<00:00, 36.37it/s]\n"
     ]
    },
    {
     "name": "stdout",
     "output_type": "stream",
     "text": [
      "Extracting ../Mesures/train\\messenger20221125_130559.csv.... 3/39\n"
     ]
    },
    {
     "name": "stderr",
     "output_type": "stream",
     "text": [
      "100%|█████████████████████████████████████████████████████████████████████████████████| 38/38 [00:00<00:00, 100.15it/s]\n"
     ]
    },
    {
     "name": "stdout",
     "output_type": "stream",
     "text": [
      "Extracting ../Mesures/train\\messenger20221129_131204.csv.... 4/39\n"
     ]
    },
    {
     "name": "stderr",
     "output_type": "stream",
     "text": [
      "100%|██████████████████████████████████████████████████████████████████████████████████| 14/14 [00:01<00:00, 11.66it/s]\n"
     ]
    },
    {
     "name": "stdout",
     "output_type": "stream",
     "text": [
      "Extracting ../Mesures/train\\messenger20221129_151124.csv.... 5/39\n"
     ]
    },
    {
     "name": "stderr",
     "output_type": "stream",
     "text": [
      "100%|████████████████████████████████████████████████████████████████████████████████████| 5/5 [00:00<00:00,  6.30it/s]\n"
     ]
    },
    {
     "name": "stdout",
     "output_type": "stream",
     "text": [
      "Extracting ../Mesures/train\\messenger20230207_133921.csv.... 6/39\n"
     ]
    },
    {
     "name": "stderr",
     "output_type": "stream",
     "text": [
      "100%|████████████████████████████████████████████████████████████████████████████████████| 2/2 [00:00<00:00,  2.27it/s]\n"
     ]
    },
    {
     "name": "stdout",
     "output_type": "stream",
     "text": [
      "Extracting ../Mesures/train\\messenger20230209_083453.csv.... 7/39\n"
     ]
    },
    {
     "name": "stderr",
     "output_type": "stream",
     "text": [
      "100%|████████████████████████████████████████████████████████████████████████████████████| 5/5 [00:01<00:00,  4.14it/s]\n"
     ]
    },
    {
     "name": "stdout",
     "output_type": "stream",
     "text": [
      "Extracting ../Mesures/train\\pure_noise20230106_132210.csv.... 8/39\n"
     ]
    },
    {
     "name": "stderr",
     "output_type": "stream",
     "text": [
      "100%|███████████████████████████████████████████████████████████████████████████████| 805/805 [00:00<00:00, 993.12it/s]\n"
     ]
    },
    {
     "name": "stdout",
     "output_type": "stream",
     "text": [
      "Extracting ../Mesures/train\\skype20221129_164105.csv.... 9/39\n"
     ]
    },
    {
     "name": "stderr",
     "output_type": "stream",
     "text": [
      "100%|████████████████████████████████████████████████████████████████████████████████████| 5/5 [00:00<00:00, 11.35it/s]\n"
     ]
    },
    {
     "name": "stdout",
     "output_type": "stream",
     "text": [
      "Extracting ../Mesures/train\\skype20221206_125510.csv.... 10/39\n"
     ]
    },
    {
     "name": "stderr",
     "output_type": "stream",
     "text": [
      "100%|██████████████████████████████████████████████████████████████████████████████████| 19/19 [00:00<00:00, 32.08it/s]\n"
     ]
    },
    {
     "name": "stdout",
     "output_type": "stream",
     "text": [
      "Extracting ../Mesures/train\\skype20221208_104403.csv.... 11/39\n"
     ]
    },
    {
     "name": "stderr",
     "output_type": "stream",
     "text": [
      "100%|████████████████████████████████████████████████████████████████████████████████████| 7/7 [00:01<00:00,  3.59it/s]\n"
     ]
    },
    {
     "name": "stdout",
     "output_type": "stream",
     "text": [
      "Extracting ../Mesures/train\\skype20221208_124925.csv.... 12/39\n"
     ]
    },
    {
     "name": "stderr",
     "output_type": "stream",
     "text": [
      "100%|████████████████████████████████████████████████████████████████████████████████████| 6/6 [00:02<00:00,  2.42it/s]\n"
     ]
    },
    {
     "name": "stdout",
     "output_type": "stream",
     "text": [
      "Extracting ../Mesures/train\\skype20221215_151512.csv.... 13/39\n"
     ]
    },
    {
     "name": "stderr",
     "output_type": "stream",
     "text": [
      "100%|██████████████████████████████████████████████████████████████████████████████████| 23/23 [00:00<00:00, 42.60it/s]\n"
     ]
    },
    {
     "name": "stdout",
     "output_type": "stream",
     "text": [
      "Extracting ../Mesures/train\\skype20221215_155618.csv.... 14/39\n"
     ]
    },
    {
     "name": "stderr",
     "output_type": "stream",
     "text": [
      "100%|██████████████████████████████████████████████████████████████████████████████████| 19/19 [00:00<00:00, 29.08it/s]\n"
     ]
    },
    {
     "name": "stdout",
     "output_type": "stream",
     "text": [
      "Extracting ../Mesures/train\\skype20221215_164208.csv.... 15/39\n"
     ]
    },
    {
     "name": "stderr",
     "output_type": "stream",
     "text": [
      "100%|████████████████████████████████████████████████████████████████████████████████████| 5/5 [00:00<00:00,  5.80it/s]\n"
     ]
    },
    {
     "name": "stdout",
     "output_type": "stream",
     "text": [
      "Extracting ../Mesures/train\\skype20221215_174819.csv.... 16/39\n"
     ]
    },
    {
     "name": "stderr",
     "output_type": "stream",
     "text": [
      "100%|████████████████████████████████████████████████████████████████████████████████████| 6/6 [00:00<00:00,  9.06it/s]\n"
     ]
    },
    {
     "name": "stdout",
     "output_type": "stream",
     "text": [
      "Extracting ../Mesures/train\\spotify20230201_092702.csv.... 17/39\n"
     ]
    },
    {
     "name": "stderr",
     "output_type": "stream",
     "text": [
      "100%|█████████████████████████████████████████████████████████████████████████████| 1750/1750 [00:02<00:00, 873.41it/s]\n"
     ]
    },
    {
     "name": "stdout",
     "output_type": "stream",
     "text": [
      "Extracting ../Mesures/train\\spotify20230203_165507.csv.... 18/39\n"
     ]
    },
    {
     "name": "stderr",
     "output_type": "stream",
     "text": [
      "100%|███████████████████████████████████████████████████████████████████████████████| 522/522 [00:00<00:00, 971.56it/s]\n"
     ]
    },
    {
     "name": "stdout",
     "output_type": "stream",
     "text": [
      "Extracting ../Mesures/train\\spotify20230216_141318.csv.... 19/39\n"
     ]
    },
    {
     "name": "stderr",
     "output_type": "stream",
     "text": [
      "100%|██████████████████████████████████████████████████████████████████████████████| 364/364 [00:00<00:00, 1012.49it/s]\n"
     ]
    },
    {
     "name": "stdout",
     "output_type": "stream",
     "text": [
      "Extracting ../Mesures/train\\twitch20221117_113554.csv.... 20/39\n"
     ]
    },
    {
     "name": "stderr",
     "output_type": "stream",
     "text": [
      "100%|█████████████████████████████████████████████████████████████████████████████████| 24/24 [00:00<00:00, 102.43it/s]\n"
     ]
    },
    {
     "name": "stdout",
     "output_type": "stream",
     "text": [
      "Extracting ../Mesures/train\\twitch20221118_075454.csv.... 21/39\n"
     ]
    },
    {
     "name": "stderr",
     "output_type": "stream",
     "text": [
      "100%|██████████████████████████████████████████████████████████████████████████████████| 16/16 [00:00<00:00, 51.63it/s]\n"
     ]
    },
    {
     "name": "stdout",
     "output_type": "stream",
     "text": [
      "Extracting ../Mesures/train\\twitch20221125_133859.csv.... 22/39\n"
     ]
    },
    {
     "name": "stderr",
     "output_type": "stream",
     "text": [
      "100%|████████████████████████████████████████████████████████████████████████████████| 108/108 [00:01<00:00, 79.05it/s]\n"
     ]
    },
    {
     "name": "stdout",
     "output_type": "stream",
     "text": [
      "Extracting ../Mesures/train\\twitch20230110_110215.csv.... 23/39\n"
     ]
    },
    {
     "name": "stderr",
     "output_type": "stream",
     "text": [
      "100%|█████████████████████████████████████████████████████████████████████████████████| 22/22 [00:00<00:00, 103.21it/s]\n"
     ]
    },
    {
     "name": "stdout",
     "output_type": "stream",
     "text": [
      "Extracting ../Mesures/train\\twitch20230110_120513.csv.... 24/39\n"
     ]
    },
    {
     "name": "stderr",
     "output_type": "stream",
     "text": [
      "100%|█████████████████████████████████████████████████████████████████████████████████| 59/59 [00:00<00:00, 301.70it/s]\n"
     ]
    },
    {
     "name": "stdout",
     "output_type": "stream",
     "text": [
      "Extracting ../Mesures/train\\twitch20230110_130648.csv.... 25/39\n"
     ]
    },
    {
     "name": "stderr",
     "output_type": "stream",
     "text": [
      "100%|███████████████████████████████████████████████████████████████████████████████| 426/426 [00:00<00:00, 691.31it/s]\n"
     ]
    },
    {
     "name": "stdout",
     "output_type": "stream",
     "text": [
      "Extracting ../Mesures/train\\youtube20221108_165214.csv.... 26/39\n"
     ]
    },
    {
     "name": "stderr",
     "output_type": "stream",
     "text": [
      "100%|█████████████████████████████████████████████████████████████████████████████████| 11/11 [00:00<00:00, 538.04it/s]\n"
     ]
    },
    {
     "name": "stdout",
     "output_type": "stream",
     "text": [
      "Extracting ../Mesures/train\\youtube20221108_182416.csv.... 27/39\n"
     ]
    },
    {
     "name": "stderr",
     "output_type": "stream",
     "text": [
      "100%|███████████████████████████████████████████████████████████████████████████████████| 4/4 [00:00<00:00, 361.45it/s]\n"
     ]
    },
    {
     "name": "stdout",
     "output_type": "stream",
     "text": [
      "Extracting ../Mesures/train\\youtube20221124_125524.csv.... 28/39\n"
     ]
    },
    {
     "name": "stderr",
     "output_type": "stream",
     "text": [
      "100%|███████████████████████████████████████████████████████████████████████████████| 186/186 [00:00<00:00, 917.97it/s]\n"
     ]
    },
    {
     "name": "stdout",
     "output_type": "stream",
     "text": [
      "Extracting ../Mesures/train\\youtube20221124_154037.csv.... 29/39\n"
     ]
    },
    {
     "name": "stderr",
     "output_type": "stream",
     "text": [
      "100%|█████████████████████████████████████████████████████████████████████████████████| 92/92 [00:00<00:00, 887.74it/s]\n"
     ]
    },
    {
     "name": "stdout",
     "output_type": "stream",
     "text": [
      "Extracting ../Mesures/train\\youtube20221130_103723.csv.... 30/39\n"
     ]
    },
    {
     "name": "stderr",
     "output_type": "stream",
     "text": [
      "100%|█████████████████████████████████████████████████████████████████████████████████| 91/91 [00:00<00:00, 830.62it/s]\n"
     ]
    },
    {
     "name": "stdout",
     "output_type": "stream",
     "text": [
      "Extracting ../Mesures/train\\youtube20230110_145404.csv.... 31/39\n"
     ]
    },
    {
     "name": "stderr",
     "output_type": "stream",
     "text": [
      "100%|█████████████████████████████████████████████████████████████████████████████████| 94/94 [00:00<00:00, 960.61it/s]\n"
     ]
    },
    {
     "name": "stdout",
     "output_type": "stream",
     "text": [
      "Extracting ../Mesures/train\\youtube20230110_161955.csv.... 32/39\n"
     ]
    },
    {
     "name": "stderr",
     "output_type": "stream",
     "text": [
      "100%|█████████████████████████████████████████████████████████████████████████████████| 90/90 [00:00<00:00, 848.67it/s]\n"
     ]
    },
    {
     "name": "stdout",
     "output_type": "stream",
     "text": [
      "Extracting ../Mesures/train\\youtube20230112_125508.csv.... 33/39\n"
     ]
    },
    {
     "name": "stderr",
     "output_type": "stream",
     "text": [
      "100%|███████████████████████████████████████████████████████████████████████████████| 108/108 [00:00<00:00, 524.94it/s]\n"
     ]
    },
    {
     "name": "stdout",
     "output_type": "stream",
     "text": [
      "Extracting ../Mesures/train\\youtube20230112_151029.csv.... 34/39\n"
     ]
    },
    {
     "name": "stderr",
     "output_type": "stream",
     "text": [
      "100%|█████████████████████████████████████████████████████████████████████████████████| 29/29 [00:00<00:00, 647.71it/s]\n"
     ]
    },
    {
     "name": "stdout",
     "output_type": "stream",
     "text": [
      "Extracting ../Mesures/train\\youtube20230112_154749.csv.... 35/39\n"
     ]
    },
    {
     "name": "stderr",
     "output_type": "stream",
     "text": [
      "100%|█████████████████████████████████████████████████████████████████████████████████| 32/32 [00:00<00:00, 539.95it/s]\n"
     ]
    },
    {
     "name": "stdout",
     "output_type": "stream",
     "text": [
      "Extracting ../Mesures/train\\youtube20230112_163634.csv.... 36/39\n"
     ]
    },
    {
     "name": "stderr",
     "output_type": "stream",
     "text": [
      "100%|█████████████████████████████████████████████████████████████████████████████████| 65/65 [00:00<00:00, 729.53it/s]\n"
     ]
    },
    {
     "name": "stdout",
     "output_type": "stream",
     "text": [
      "Extracting ../Mesures/train\\youtube20230117_095221.csv.... 37/39\n"
     ]
    },
    {
     "name": "stderr",
     "output_type": "stream",
     "text": [
      "100%|███████████████████████████████████████████████████████████████████████████████| 140/140 [00:00<00:00, 312.13it/s]\n"
     ]
    },
    {
     "name": "stdout",
     "output_type": "stream",
     "text": [
      "Extracting ../Mesures/train\\youtube20230118_134041.csv.... 38/39\n"
     ]
    },
    {
     "name": "stderr",
     "output_type": "stream",
     "text": [
      "100%|███████████████████████████████████████████████████████████████████████████████| 212/212 [00:00<00:00, 262.75it/s]\n"
     ]
    },
    {
     "name": "stdout",
     "output_type": "stream",
     "text": [
      "Extracting ../Mesures/train\\youtube20230124_124323.csv.... 39/39\n"
     ]
    },
    {
     "name": "stderr",
     "output_type": "stream",
     "text": [
      "100%|███████████████████████████████████████████████████████████████████████████████| 163/163 [00:00<00:00, 227.79it/s]\n"
     ]
    },
    {
     "name": "stdout",
     "output_type": "stream",
     "text": [
      "Computing metrics and statistics...\n"
     ]
    },
    {
     "name": "stderr",
     "output_type": "stream",
     "text": [
      "100%|█████████████████████████████████████████████████████████████████████████████| 5593/5593 [00:48<00:00, 116.01it/s]\n"
     ]
    },
    {
     "name": "stdout",
     "output_type": "stream",
     "text": [
      "Dataset generation took : 270.392517 s\n"
     ]
    }
   ],
   "source": [
    "time_counter = time.time_ns()\n",
    "\n",
    "df_test = load_and_preprocess_agg_metrics(\"../Mesures/test\")\n",
    "df_train = load_and_preprocess_agg_metrics(\"../Mesures/train\")\n",
    "\n",
    "\n",
    "process_duration = (time.time_ns() - time_counter)/(10**9)\n",
    "print(f\"Dataset generation took : {process_duration} s\")"
   ]
  },
  {
   "cell_type": "code",
   "execution_count": null,
   "id": "ea796f28",
   "metadata": {
    "scrolled": true
   },
   "outputs": [],
   "source": []
  },
  {
   "cell_type": "code",
   "execution_count": 3,
   "id": "cd03094d",
   "metadata": {},
   "outputs": [
    {
     "data": {
      "text/html": [
       "<div>\n",
       "<style scoped>\n",
       "    .dataframe tbody tr th:only-of-type {\n",
       "        vertical-align: middle;\n",
       "    }\n",
       "\n",
       "    .dataframe tbody tr th {\n",
       "        vertical-align: top;\n",
       "    }\n",
       "\n",
       "    .dataframe thead th {\n",
       "        text-align: right;\n",
       "    }\n",
       "</style>\n",
       "<table border=\"1\" class=\"dataframe\">\n",
       "  <thead>\n",
       "    <tr style=\"text-align: right;\">\n",
       "      <th></th>\n",
       "      <th>reg_lin_R2_TBS_up</th>\n",
       "      <th>reg_lin_coef_A_TBS_up</th>\n",
       "      <th>p0_TBS_up</th>\n",
       "      <th>p10_TBS_up</th>\n",
       "      <th>p25_TBS_up</th>\n",
       "      <th>p50_TBS_up</th>\n",
       "      <th>p75_TBS_up</th>\n",
       "      <th>p90_TBS_up</th>\n",
       "      <th>p100_TBS_up</th>\n",
       "      <th>mean_TBS_up</th>\n",
       "      <th>...</th>\n",
       "      <th>p0_TBS_down</th>\n",
       "      <th>p10_TBS_down</th>\n",
       "      <th>p25_TBS_down</th>\n",
       "      <th>p50_TBS_down</th>\n",
       "      <th>p75_TBS_down</th>\n",
       "      <th>p90_TBS_down</th>\n",
       "      <th>p100_TBS_down</th>\n",
       "      <th>mean_TBS_down</th>\n",
       "      <th>std_TBS_down</th>\n",
       "      <th>label</th>\n",
       "    </tr>\n",
       "    <tr>\n",
       "      <th>id</th>\n",
       "      <th></th>\n",
       "      <th></th>\n",
       "      <th></th>\n",
       "      <th></th>\n",
       "      <th></th>\n",
       "      <th></th>\n",
       "      <th></th>\n",
       "      <th></th>\n",
       "      <th></th>\n",
       "      <th></th>\n",
       "      <th></th>\n",
       "      <th></th>\n",
       "      <th></th>\n",
       "      <th></th>\n",
       "      <th></th>\n",
       "      <th></th>\n",
       "      <th></th>\n",
       "      <th></th>\n",
       "      <th></th>\n",
       "      <th></th>\n",
       "      <th></th>\n",
       "    </tr>\n",
       "  </thead>\n",
       "  <tbody>\n",
       "    <tr>\n",
       "      <th>20221117_125310_4</th>\n",
       "      <td>1.268925</td>\n",
       "      <td>3.957978</td>\n",
       "      <td>-0.117147</td>\n",
       "      <td>0.037114</td>\n",
       "      <td>-0.043410</td>\n",
       "      <td>-0.007785</td>\n",
       "      <td>1.198798</td>\n",
       "      <td>1.421729</td>\n",
       "      <td>2.458738</td>\n",
       "      <td>1.161802</td>\n",
       "      <td>...</td>\n",
       "      <td>0.831847</td>\n",
       "      <td>-0.028340</td>\n",
       "      <td>-0.217020</td>\n",
       "      <td>-0.337063</td>\n",
       "      <td>-0.054285</td>\n",
       "      <td>-0.133215</td>\n",
       "      <td>1.280066</td>\n",
       "      <td>-0.127465</td>\n",
       "      <td>-0.182687</td>\n",
       "      <td>messenger</td>\n",
       "    </tr>\n",
       "    <tr>\n",
       "      <th>20221117_125310_8</th>\n",
       "      <td>1.249231</td>\n",
       "      <td>3.904872</td>\n",
       "      <td>-0.078368</td>\n",
       "      <td>0.037114</td>\n",
       "      <td>-0.043410</td>\n",
       "      <td>-0.007785</td>\n",
       "      <td>1.341848</td>\n",
       "      <td>1.751197</td>\n",
       "      <td>1.649851</td>\n",
       "      <td>1.173663</td>\n",
       "      <td>...</td>\n",
       "      <td>-0.136666</td>\n",
       "      <td>-0.028340</td>\n",
       "      <td>-0.217020</td>\n",
       "      <td>-0.213639</td>\n",
       "      <td>-0.100444</td>\n",
       "      <td>-0.176051</td>\n",
       "      <td>0.342232</td>\n",
       "      <td>-0.110443</td>\n",
       "      <td>-0.092446</td>\n",
       "      <td>messenger</td>\n",
       "    </tr>\n",
       "    <tr>\n",
       "      <th>20221117_125310_7</th>\n",
       "      <td>1.260810</td>\n",
       "      <td>3.977438</td>\n",
       "      <td>-0.136536</td>\n",
       "      <td>-0.010913</td>\n",
       "      <td>-0.043410</td>\n",
       "      <td>0.568243</td>\n",
       "      <td>1.449134</td>\n",
       "      <td>0.823539</td>\n",
       "      <td>1.469472</td>\n",
       "      <td>0.871035</td>\n",
       "      <td>...</td>\n",
       "      <td>-0.015602</td>\n",
       "      <td>-0.028340</td>\n",
       "      <td>-0.217020</td>\n",
       "      <td>-0.337063</td>\n",
       "      <td>-0.137371</td>\n",
       "      <td>-0.118936</td>\n",
       "      <td>-0.002900</td>\n",
       "      <td>-0.205812</td>\n",
       "      <td>-0.186037</td>\n",
       "      <td>messenger</td>\n",
       "    </tr>\n",
       "    <tr>\n",
       "      <th>20221117_125310_9</th>\n",
       "      <td>1.234740</td>\n",
       "      <td>4.088198</td>\n",
       "      <td>-0.058979</td>\n",
       "      <td>-0.010913</td>\n",
       "      <td>-0.043410</td>\n",
       "      <td>0.712251</td>\n",
       "      <td>1.699471</td>\n",
       "      <td>1.421729</td>\n",
       "      <td>1.469472</td>\n",
       "      <td>1.273181</td>\n",
       "      <td>...</td>\n",
       "      <td>0.589719</td>\n",
       "      <td>-0.028340</td>\n",
       "      <td>-0.217020</td>\n",
       "      <td>-0.213639</td>\n",
       "      <td>-0.100444</td>\n",
       "      <td>-0.076100</td>\n",
       "      <td>-0.205936</td>\n",
       "      <td>-0.116402</td>\n",
       "      <td>-0.189114</td>\n",
       "      <td>messenger</td>\n",
       "    </tr>\n",
       "    <tr>\n",
       "      <th>20221117_125310_10</th>\n",
       "      <td>1.254096</td>\n",
       "      <td>3.414618</td>\n",
       "      <td>-0.117147</td>\n",
       "      <td>0.075535</td>\n",
       "      <td>0.029690</td>\n",
       "      <td>0.712251</td>\n",
       "      <td>1.484897</td>\n",
       "      <td>1.421729</td>\n",
       "      <td>1.469472</td>\n",
       "      <td>1.234488</td>\n",
       "      <td>...</td>\n",
       "      <td>0.145817</td>\n",
       "      <td>-0.028340</td>\n",
       "      <td>-0.217020</td>\n",
       "      <td>-0.250404</td>\n",
       "      <td>0.167275</td>\n",
       "      <td>-0.057062</td>\n",
       "      <td>-0.164625</td>\n",
       "      <td>-0.076968</td>\n",
       "      <td>-0.129752</td>\n",
       "      <td>messenger</td>\n",
       "    </tr>\n",
       "    <tr>\n",
       "      <th>...</th>\n",
       "      <td>...</td>\n",
       "      <td>...</td>\n",
       "      <td>...</td>\n",
       "      <td>...</td>\n",
       "      <td>...</td>\n",
       "      <td>...</td>\n",
       "      <td>...</td>\n",
       "      <td>...</td>\n",
       "      <td>...</td>\n",
       "      <td>...</td>\n",
       "      <td>...</td>\n",
       "      <td>...</td>\n",
       "      <td>...</td>\n",
       "      <td>...</td>\n",
       "      <td>...</td>\n",
       "      <td>...</td>\n",
       "      <td>...</td>\n",
       "      <td>...</td>\n",
       "      <td>...</td>\n",
       "      <td>...</td>\n",
       "      <td>...</td>\n",
       "    </tr>\n",
       "    <tr>\n",
       "      <th>20230124_124323_162</th>\n",
       "      <td>-1.824765</td>\n",
       "      <td>-0.110146</td>\n",
       "      <td>-0.058979</td>\n",
       "      <td>-0.010913</td>\n",
       "      <td>-0.125648</td>\n",
       "      <td>-0.238196</td>\n",
       "      <td>-0.428387</td>\n",
       "      <td>-0.477860</td>\n",
       "      <td>-0.283586</td>\n",
       "      <td>-0.335813</td>\n",
       "      <td>...</td>\n",
       "      <td>-0.177021</td>\n",
       "      <td>0.533787</td>\n",
       "      <td>0.929721</td>\n",
       "      <td>0.096232</td>\n",
       "      <td>-0.243535</td>\n",
       "      <td>-0.387850</td>\n",
       "      <td>-0.164625</td>\n",
       "      <td>-0.261924</td>\n",
       "      <td>-0.442701</td>\n",
       "      <td>youtube</td>\n",
       "    </tr>\n",
       "    <tr>\n",
       "      <th>20230124_124323_163</th>\n",
       "      <td>-0.895592</td>\n",
       "      <td>-0.077243</td>\n",
       "      <td>-0.058979</td>\n",
       "      <td>-0.118494</td>\n",
       "      <td>-0.125648</td>\n",
       "      <td>-0.238196</td>\n",
       "      <td>-0.499911</td>\n",
       "      <td>-0.735257</td>\n",
       "      <td>-0.163333</td>\n",
       "      <td>-0.477584</td>\n",
       "      <td>...</td>\n",
       "      <td>-0.177021</td>\n",
       "      <td>-0.028340</td>\n",
       "      <td>-0.217020</td>\n",
       "      <td>1.960714</td>\n",
       "      <td>0.575778</td>\n",
       "      <td>0.034559</td>\n",
       "      <td>-0.360630</td>\n",
       "      <td>0.444041</td>\n",
       "      <td>-0.083126</td>\n",
       "      <td>youtube</td>\n",
       "    </tr>\n",
       "    <tr>\n",
       "      <th>20230124_124323_164</th>\n",
       "      <td>-1.764258</td>\n",
       "      <td>-0.134535</td>\n",
       "      <td>-0.058979</td>\n",
       "      <td>-0.154994</td>\n",
       "      <td>-0.125648</td>\n",
       "      <td>-0.238196</td>\n",
       "      <td>-0.470854</td>\n",
       "      <td>-0.735257</td>\n",
       "      <td>-0.283586</td>\n",
       "      <td>-0.559828</td>\n",
       "      <td>...</td>\n",
       "      <td>-0.177021</td>\n",
       "      <td>0.533787</td>\n",
       "      <td>0.929721</td>\n",
       "      <td>0.096232</td>\n",
       "      <td>-0.243535</td>\n",
       "      <td>0.034559</td>\n",
       "      <td>-0.164625</td>\n",
       "      <td>-0.115344</td>\n",
       "      <td>-0.237816</td>\n",
       "      <td>youtube</td>\n",
       "    </tr>\n",
       "    <tr>\n",
       "      <th>20230124_124323_165</th>\n",
       "      <td>-0.710141</td>\n",
       "      <td>0.095402</td>\n",
       "      <td>-0.058979</td>\n",
       "      <td>-0.150191</td>\n",
       "      <td>-0.114227</td>\n",
       "      <td>-0.180593</td>\n",
       "      <td>-0.459679</td>\n",
       "      <td>-0.385197</td>\n",
       "      <td>-0.283586</td>\n",
       "      <td>-0.313907</td>\n",
       "      <td>...</td>\n",
       "      <td>-0.177021</td>\n",
       "      <td>-0.028340</td>\n",
       "      <td>-0.217020</td>\n",
       "      <td>-0.337063</td>\n",
       "      <td>-0.433939</td>\n",
       "      <td>-0.486016</td>\n",
       "      <td>-0.457314</td>\n",
       "      <td>-0.513395</td>\n",
       "      <td>-0.545328</td>\n",
       "      <td>youtube</td>\n",
       "    </tr>\n",
       "    <tr>\n",
       "      <th>20230124_124323_166</th>\n",
       "      <td>1.197283</td>\n",
       "      <td>-0.018109</td>\n",
       "      <td>-0.078368</td>\n",
       "      <td>-0.049335</td>\n",
       "      <td>-0.125648</td>\n",
       "      <td>-0.180593</td>\n",
       "      <td>-0.321100</td>\n",
       "      <td>0.073999</td>\n",
       "      <td>1.379282</td>\n",
       "      <td>-0.049809</td>\n",
       "      <td>...</td>\n",
       "      <td>-0.177021</td>\n",
       "      <td>-0.028340</td>\n",
       "      <td>-0.217020</td>\n",
       "      <td>-0.250404</td>\n",
       "      <td>-0.243535</td>\n",
       "      <td>0.015521</td>\n",
       "      <td>-0.023994</td>\n",
       "      <td>-0.247413</td>\n",
       "      <td>-0.191392</td>\n",
       "      <td>youtube</td>\n",
       "    </tr>\n",
       "  </tbody>\n",
       "</table>\n",
       "<p>4639 rows × 23 columns</p>\n",
       "</div>"
      ],
      "text/plain": [
       "                     reg_lin_R2_TBS_up  reg_lin_coef_A_TBS_up  p0_TBS_up  \\\n",
       "id                                                                         \n",
       "20221117_125310_4             1.268925               3.957978  -0.117147   \n",
       "20221117_125310_8             1.249231               3.904872  -0.078368   \n",
       "20221117_125310_7             1.260810               3.977438  -0.136536   \n",
       "20221117_125310_9             1.234740               4.088198  -0.058979   \n",
       "20221117_125310_10            1.254096               3.414618  -0.117147   \n",
       "...                                ...                    ...        ...   \n",
       "20230124_124323_162          -1.824765              -0.110146  -0.058979   \n",
       "20230124_124323_163          -0.895592              -0.077243  -0.058979   \n",
       "20230124_124323_164          -1.764258              -0.134535  -0.058979   \n",
       "20230124_124323_165          -0.710141               0.095402  -0.058979   \n",
       "20230124_124323_166           1.197283              -0.018109  -0.078368   \n",
       "\n",
       "                     p10_TBS_up  p25_TBS_up  p50_TBS_up  p75_TBS_up  \\\n",
       "id                                                                    \n",
       "20221117_125310_4      0.037114   -0.043410   -0.007785    1.198798   \n",
       "20221117_125310_8      0.037114   -0.043410   -0.007785    1.341848   \n",
       "20221117_125310_7     -0.010913   -0.043410    0.568243    1.449134   \n",
       "20221117_125310_9     -0.010913   -0.043410    0.712251    1.699471   \n",
       "20221117_125310_10     0.075535    0.029690    0.712251    1.484897   \n",
       "...                         ...         ...         ...         ...   \n",
       "20230124_124323_162   -0.010913   -0.125648   -0.238196   -0.428387   \n",
       "20230124_124323_163   -0.118494   -0.125648   -0.238196   -0.499911   \n",
       "20230124_124323_164   -0.154994   -0.125648   -0.238196   -0.470854   \n",
       "20230124_124323_165   -0.150191   -0.114227   -0.180593   -0.459679   \n",
       "20230124_124323_166   -0.049335   -0.125648   -0.180593   -0.321100   \n",
       "\n",
       "                     p90_TBS_up  p100_TBS_up  mean_TBS_up  ...  p0_TBS_down  \\\n",
       "id                                                         ...                \n",
       "20221117_125310_4      1.421729     2.458738     1.161802  ...     0.831847   \n",
       "20221117_125310_8      1.751197     1.649851     1.173663  ...    -0.136666   \n",
       "20221117_125310_7      0.823539     1.469472     0.871035  ...    -0.015602   \n",
       "20221117_125310_9      1.421729     1.469472     1.273181  ...     0.589719   \n",
       "20221117_125310_10     1.421729     1.469472     1.234488  ...     0.145817   \n",
       "...                         ...          ...          ...  ...          ...   \n",
       "20230124_124323_162   -0.477860    -0.283586    -0.335813  ...    -0.177021   \n",
       "20230124_124323_163   -0.735257    -0.163333    -0.477584  ...    -0.177021   \n",
       "20230124_124323_164   -0.735257    -0.283586    -0.559828  ...    -0.177021   \n",
       "20230124_124323_165   -0.385197    -0.283586    -0.313907  ...    -0.177021   \n",
       "20230124_124323_166    0.073999     1.379282    -0.049809  ...    -0.177021   \n",
       "\n",
       "                     p10_TBS_down  p25_TBS_down  p50_TBS_down  p75_TBS_down  \\\n",
       "id                                                                            \n",
       "20221117_125310_4       -0.028340     -0.217020     -0.337063     -0.054285   \n",
       "20221117_125310_8       -0.028340     -0.217020     -0.213639     -0.100444   \n",
       "20221117_125310_7       -0.028340     -0.217020     -0.337063     -0.137371   \n",
       "20221117_125310_9       -0.028340     -0.217020     -0.213639     -0.100444   \n",
       "20221117_125310_10      -0.028340     -0.217020     -0.250404      0.167275   \n",
       "...                           ...           ...           ...           ...   \n",
       "20230124_124323_162      0.533787      0.929721      0.096232     -0.243535   \n",
       "20230124_124323_163     -0.028340     -0.217020      1.960714      0.575778   \n",
       "20230124_124323_164      0.533787      0.929721      0.096232     -0.243535   \n",
       "20230124_124323_165     -0.028340     -0.217020     -0.337063     -0.433939   \n",
       "20230124_124323_166     -0.028340     -0.217020     -0.250404     -0.243535   \n",
       "\n",
       "                     p90_TBS_down  p100_TBS_down  mean_TBS_down  std_TBS_down  \\\n",
       "id                                                                              \n",
       "20221117_125310_4       -0.133215       1.280066      -0.127465     -0.182687   \n",
       "20221117_125310_8       -0.176051       0.342232      -0.110443     -0.092446   \n",
       "20221117_125310_7       -0.118936      -0.002900      -0.205812     -0.186037   \n",
       "20221117_125310_9       -0.076100      -0.205936      -0.116402     -0.189114   \n",
       "20221117_125310_10      -0.057062      -0.164625      -0.076968     -0.129752   \n",
       "...                           ...            ...            ...           ...   \n",
       "20230124_124323_162     -0.387850      -0.164625      -0.261924     -0.442701   \n",
       "20230124_124323_163      0.034559      -0.360630       0.444041     -0.083126   \n",
       "20230124_124323_164      0.034559      -0.164625      -0.115344     -0.237816   \n",
       "20230124_124323_165     -0.486016      -0.457314      -0.513395     -0.545328   \n",
       "20230124_124323_166      0.015521      -0.023994      -0.247413     -0.191392   \n",
       "\n",
       "                         label  \n",
       "id                              \n",
       "20221117_125310_4    messenger  \n",
       "20221117_125310_8    messenger  \n",
       "20221117_125310_7    messenger  \n",
       "20221117_125310_9    messenger  \n",
       "20221117_125310_10   messenger  \n",
       "...                        ...  \n",
       "20230124_124323_162    youtube  \n",
       "20230124_124323_163    youtube  \n",
       "20230124_124323_164    youtube  \n",
       "20230124_124323_165    youtube  \n",
       "20230124_124323_166    youtube  \n",
       "\n",
       "[4639 rows x 23 columns]"
      ]
     },
     "execution_count": 3,
     "metadata": {},
     "output_type": "execute_result"
    }
   ],
   "source": [
    "scaler = Scaler_Metrics()\n",
    "training_data = scaler.fit_transform(df_train)\n",
    "testing_data = scaler.transform(df_test)\n",
    "training_data"
   ]
  },
  {
   "cell_type": "code",
   "execution_count": 4,
   "id": "8e5df180",
   "metadata": {},
   "outputs": [
    {
     "data": {
      "text/plain": [
       "reg_lin_R2_TBS_up          0\n",
       "reg_lin_coef_A_TBS_up      0\n",
       "p0_TBS_up                  0\n",
       "p10_TBS_up                 0\n",
       "p25_TBS_up                 0\n",
       "p50_TBS_up                 0\n",
       "p75_TBS_up                 0\n",
       "p90_TBS_up                 0\n",
       "p100_TBS_up                0\n",
       "mean_TBS_up                0\n",
       "std_TBS_up                 0\n",
       "reg_lin_R2_TBS_down        0\n",
       "reg_lin_coef_A_TBS_down    0\n",
       "p0_TBS_down                0\n",
       "p10_TBS_down               0\n",
       "p25_TBS_down               0\n",
       "p50_TBS_down               0\n",
       "p75_TBS_down               0\n",
       "p90_TBS_down               0\n",
       "p100_TBS_down              0\n",
       "mean_TBS_down              0\n",
       "std_TBS_down               0\n",
       "label                      0\n",
       "dtype: int64"
      ]
     },
     "execution_count": 4,
     "metadata": {},
     "output_type": "execute_result"
    }
   ],
   "source": [
    "training_data.isna().sum()"
   ]
  },
  {
   "cell_type": "code",
   "execution_count": 5,
   "id": "e73db52a",
   "metadata": {},
   "outputs": [],
   "source": [
    "training_data = training_data[training_data .label!=\"noise\"]\n",
    "testing_data = testing_data[testing_data .label!=\"noise\"]"
   ]
  },
  {
   "cell_type": "code",
   "execution_count": null,
   "id": "118ea53f",
   "metadata": {},
   "outputs": [],
   "source": []
  },
  {
   "cell_type": "code",
   "execution_count": 6,
   "id": "3b0c06bd",
   "metadata": {},
   "outputs": [
    {
     "name": "stdout",
     "output_type": "stream",
     "text": [
      "Training Duration : 2.0318179 s for a dataset length of 3462\n"
     ]
    }
   ],
   "source": [
    "time_counter = time.time_ns()\n",
    "\n",
    "model = RandomForestClassifier(class_weight = \"balanced\")\n",
    "model.fit(training_data[training_data.columns[:-1]], training_data.label)\n",
    "\n",
    "training_duration = (time.time_ns() - time_counter)/(10**9)\n",
    "print(f\"Training Duration : {training_duration} s for a dataset length of {len(training_data.label)}\")"
   ]
  },
  {
   "cell_type": "code",
   "execution_count": 7,
   "id": "6c2b45c1",
   "metadata": {},
   "outputs": [
    {
     "name": "stdout",
     "output_type": "stream",
     "text": [
      "Testing Duration : 0.043737 s for a dataset length of 651\n",
      "Testing Duration per data : 0.06718433179723501 ms\n"
     ]
    }
   ],
   "source": [
    "# mesure efficiency\n",
    "time_counter = time.time_ns()\n",
    "\n",
    "preds_labels =  model.predict(testing_data[testing_data.columns[:-1]])\n",
    "true_labels = testing_data.label\n",
    "\n",
    "testing_duration = (time.time_ns() - time_counter)/(10**9)\n",
    "print(f\"Testing Duration : {testing_duration} s for a dataset length of {len(testing_data.label)}\")\n",
    "testing_duration_per_item = testing_duration*(10**3)/len(testing_data.label)\n",
    "print(f\"Testing Duration per data : {testing_duration_per_item} ms\")"
   ]
  },
  {
   "cell_type": "code",
   "execution_count": 8,
   "id": "e75fb978",
   "metadata": {},
   "outputs": [
    {
     "name": "stdout",
     "output_type": "stream",
     "text": [
      "normalized confusion matrix\n"
     ]
    },
    {
     "data": {
      "image/png": "[encoded data removed]",
      "text/plain": [
       "<Figure size 600x600 with 2 Axes>"
      ]
     },
     "metadata": {},
     "output_type": "display_data"
    }
   ],
   "source": [
    "plot_confusion_matrix(true_labels,preds_labels)"
   ]
  },
  {
   "cell_type": "code",
   "execution_count": 9,
   "id": "a1ebe613",
   "metadata": {},
   "outputs": [
    {
     "data": {
      "text/plain": [
       "{'Accuracy': 0.8430559094770051,\n",
       " 'Precision': 0.9120638191120155,\n",
       " 'Recall': 0.9078341013824884,\n",
       " 'F1_Score': 0.9082377696856098,\n",
       " 'support': None}"
      ]
     },
     "execution_count": 9,
     "metadata": {},
     "output_type": "execute_result"
    }
   ],
   "source": [
    "get_scores(true_labels,preds_labels)"
   ]
  },
  {
   "cell_type": "code",
   "execution_count": 10,
   "id": "e14f6b32",
   "metadata": {},
   "outputs": [
    {
     "data": {
      "image/png": "[encoded data removed]",
      "text/plain": [
       "<Figure size 1200x900 with 1 Axes>"
      ]
     },
     "metadata": {},
     "output_type": "display_data"
    }
   ],
   "source": [
    "plot_feature_importance(model, training_data.columns[:-1])"
   ]
  }
 ],
 "metadata": {
  "kernelspec": {
   "display_name": "Python 3 (ipykernel)",
   "language": "python",
   "name": "python3"
  },
  "language_info": {
   "codemirror_mode": {
    "name": "ipython",
    "version": 3
   },
   "file_extension": ".py",
   "mimetype": "text/x-python",
   "name": "python",
   "nbconvert_exporter": "python",
   "pygments_lexer": "ipython3",
   "version": "3.9.15"
  }
 },
 "nbformat": 4,
 "nbformat_minor": 5
}
