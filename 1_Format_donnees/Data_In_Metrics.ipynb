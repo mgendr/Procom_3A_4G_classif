{
 "cells": [
  {
   "cell_type": "code",
   "execution_count": 1,
   "id": "64d67bad",
   "metadata": {},
   "outputs": [],
   "source": [
    "import os\n",
    "import pandas as pd\n",
    "import warnings\n",
    "import matplotlib.pyplot as plt\n",
    "\n",
    "import numpy as np\n",
    "import seaborn as sns\n",
    "import sys\n",
    "\n",
    "from sklearn.ensemble import RandomForestClassifier\n",
    "from tqdm import tqdm\n",
    "\n",
    "\n",
    "plt.rcParams[\"figure.figsize\"] = (20, 16)\n",
    "warnings.simplefilter(\"ignore\")\n",
    "\n",
    "sys.path.append(\"../1_Format_donnees/\")\n",
    "from aggregation import load_and_preprocess_agg_metrics, Scaler_Metrics\n",
    "sys.path.append(\"../\")\n",
    "\n",
    "from evaluate import plot_confusion_matrix\n",
    "\n",
    "### <8 mbits en cumsum = bruit "
   ]
  },
  {
   "cell_type": "code",
   "execution_count": 2,
   "id": "675f0647",
   "metadata": {
    "scrolled": true
   },
   "outputs": [
    {
     "name": "stdout",
     "output_type": "stream",
     "text": [
      "Extracting ../Mesures/train\\messenger20221117_125310.csv.... 1/39\n"
     ]
    },
    {
     "name": "stderr",
     "output_type": "stream",
     "text": [
      "100%|██████████████████████████████████████████████████████████████████████████████████| 15/15 [00:00<00:00, 86.64it/s]\n"
     ]
    },
    {
     "name": "stdout",
     "output_type": "stream",
     "text": [
      "Extracting ../Mesures/train\\messenger20221124_143112.csv.... 2/39\n"
     ]
    },
    {
     "name": "stderr",
     "output_type": "stream",
     "text": [
      "100%|██████████████████████████████████████████████████████████████████████████████████| 11/11 [00:00<00:00, 54.53it/s]\n"
     ]
    },
    {
     "name": "stdout",
     "output_type": "stream",
     "text": [
      "Extracting ../Mesures/train\\messenger20221125_130559.csv.... 3/39\n"
     ]
    },
    {
     "name": "stderr",
     "output_type": "stream",
     "text": [
      "100%|█████████████████████████████████████████████████████████████████████████████████| 38/38 [00:00<00:00, 119.90it/s]\n"
     ]
    },
    {
     "name": "stdout",
     "output_type": "stream",
     "text": [
      "Extracting ../Mesures/train\\messenger20221129_131204.csv.... 4/39\n"
     ]
    },
    {
     "name": "stderr",
     "output_type": "stream",
     "text": [
      "100%|██████████████████████████████████████████████████████████████████████████████████| 14/14 [00:00<00:00, 16.31it/s]\n"
     ]
    },
    {
     "name": "stdout",
     "output_type": "stream",
     "text": [
      "Extracting ../Mesures/train\\messenger20221129_151124.csv.... 5/39\n"
     ]
    },
    {
     "name": "stderr",
     "output_type": "stream",
     "text": [
      "100%|████████████████████████████████████████████████████████████████████████████████████| 5/5 [00:00<00:00,  9.43it/s]\n"
     ]
    },
    {
     "name": "stdout",
     "output_type": "stream",
     "text": [
      "Extracting ../Mesures/train\\messenger20230207_133921.csv.... 6/39\n"
     ]
    },
    {
     "name": "stderr",
     "output_type": "stream",
     "text": [
      "100%|████████████████████████████████████████████████████████████████████████████████████| 2/2 [00:00<00:00,  3.26it/s]\n"
     ]
    },
    {
     "name": "stdout",
     "output_type": "stream",
     "text": [
      "Extracting ../Mesures/train\\messenger20230209_083453.csv.... 7/39\n"
     ]
    },
    {
     "name": "stderr",
     "output_type": "stream",
     "text": [
      "100%|████████████████████████████████████████████████████████████████████████████████████| 5/5 [00:00<00:00,  6.32it/s]\n"
     ]
    },
    {
     "name": "stdout",
     "output_type": "stream",
     "text": [
      "Extracting ../Mesures/train\\pure_noise20230106_132210.csv.... 8/39\n"
     ]
    },
    {
     "name": "stderr",
     "output_type": "stream",
     "text": [
      "100%|███████████████████████████████████████████████████████████████████████████████| 805/805 [00:01<00:00, 753.28it/s]\n"
     ]
    },
    {
     "name": "stdout",
     "output_type": "stream",
     "text": [
      "Extracting ../Mesures/train\\skype20221129_164105.csv.... 9/39\n"
     ]
    },
    {
     "name": "stderr",
     "output_type": "stream",
     "text": [
      "100%|████████████████████████████████████████████████████████████████████████████████████| 5/5 [00:00<00:00, 18.56it/s]\n"
     ]
    },
    {
     "name": "stdout",
     "output_type": "stream",
     "text": [
      "Extracting ../Mesures/train\\skype20221206_125510.csv.... 10/39\n"
     ]
    },
    {
     "name": "stderr",
     "output_type": "stream",
     "text": [
      "100%|██████████████████████████████████████████████████████████████████████████████████| 19/19 [00:00<00:00, 40.16it/s]\n"
     ]
    },
    {
     "name": "stdout",
     "output_type": "stream",
     "text": [
      "Extracting ../Mesures/train\\skype20221208_104403.csv.... 11/39\n"
     ]
    },
    {
     "name": "stderr",
     "output_type": "stream",
     "text": [
      "100%|████████████████████████████████████████████████████████████████████████████████████| 7/7 [00:01<00:00,  5.19it/s]\n"
     ]
    },
    {
     "name": "stdout",
     "output_type": "stream",
     "text": [
      "Extracting ../Mesures/train\\skype20221208_124925.csv.... 12/39\n"
     ]
    },
    {
     "name": "stderr",
     "output_type": "stream",
     "text": [
      "100%|████████████████████████████████████████████████████████████████████████████████████| 6/6 [00:01<00:00,  3.45it/s]\n"
     ]
    },
    {
     "name": "stdout",
     "output_type": "stream",
     "text": [
      "Extracting ../Mesures/train\\skype20221215_151512.csv.... 13/39\n"
     ]
    },
    {
     "name": "stderr",
     "output_type": "stream",
     "text": [
      "100%|██████████████████████████████████████████████████████████████████████████████████| 23/23 [00:00<00:00, 51.00it/s]\n"
     ]
    },
    {
     "name": "stdout",
     "output_type": "stream",
     "text": [
      "Extracting ../Mesures/train\\skype20221215_155618.csv.... 14/39\n"
     ]
    },
    {
     "name": "stderr",
     "output_type": "stream",
     "text": [
      "100%|██████████████████████████████████████████████████████████████████████████████████| 19/19 [00:00<00:00, 39.16it/s]\n"
     ]
    },
    {
     "name": "stdout",
     "output_type": "stream",
     "text": [
      "Extracting ../Mesures/train\\skype20221215_164208.csv.... 15/39\n"
     ]
    },
    {
     "name": "stderr",
     "output_type": "stream",
     "text": [
      "100%|████████████████████████████████████████████████████████████████████████████████████| 5/5 [00:00<00:00,  8.58it/s]\n"
     ]
    },
    {
     "name": "stdout",
     "output_type": "stream",
     "text": [
      "Extracting ../Mesures/train\\skype20221215_174819.csv.... 16/39\n"
     ]
    },
    {
     "name": "stderr",
     "output_type": "stream",
     "text": [
      "100%|████████████████████████████████████████████████████████████████████████████████████| 6/6 [00:00<00:00, 12.31it/s]\n"
     ]
    },
    {
     "name": "stdout",
     "output_type": "stream",
     "text": [
      "Extracting ../Mesures/train\\spotify20230201_092702.csv.... 17/39\n"
     ]
    },
    {
     "name": "stderr",
     "output_type": "stream",
     "text": [
      "100%|█████████████████████████████████████████████████████████████████████████████| 1750/1750 [00:02<00:00, 733.07it/s]\n"
     ]
    },
    {
     "name": "stdout",
     "output_type": "stream",
     "text": [
      "Extracting ../Mesures/train\\spotify20230203_165507.csv.... 18/39\n"
     ]
    },
    {
     "name": "stderr",
     "output_type": "stream",
     "text": [
      "100%|███████████████████████████████████████████████████████████████████████████████| 522/522 [00:00<00:00, 810.53it/s]\n"
     ]
    },
    {
     "name": "stdout",
     "output_type": "stream",
     "text": [
      "Extracting ../Mesures/train\\spotify20230216_141318.csv.... 19/39\n"
     ]
    },
    {
     "name": "stderr",
     "output_type": "stream",
     "text": [
      "100%|███████████████████████████████████████████████████████████████████████████████| 364/364 [00:00<00:00, 732.80it/s]\n"
     ]
    },
    {
     "name": "stdout",
     "output_type": "stream",
     "text": [
      "Extracting ../Mesures/train\\twitch20221117_113554.csv.... 20/39\n"
     ]
    },
    {
     "name": "stderr",
     "output_type": "stream",
     "text": [
      "100%|█████████████████████████████████████████████████████████████████████████████████| 24/24 [00:00<00:00, 125.84it/s]\n"
     ]
    },
    {
     "name": "stdout",
     "output_type": "stream",
     "text": [
      "Extracting ../Mesures/train\\twitch20221118_075454.csv.... 21/39\n"
     ]
    },
    {
     "name": "stderr",
     "output_type": "stream",
     "text": [
      "100%|██████████████████████████████████████████████████████████████████████████████████| 16/16 [00:00<00:00, 72.84it/s]\n"
     ]
    },
    {
     "name": "stdout",
     "output_type": "stream",
     "text": [
      "Extracting ../Mesures/train\\twitch20221125_133859.csv.... 22/39\n"
     ]
    },
    {
     "name": "stderr",
     "output_type": "stream",
     "text": [
      "100%|████████████████████████████████████████████████████████████████████████████████| 108/108 [00:01<00:00, 93.98it/s]\n"
     ]
    },
    {
     "name": "stdout",
     "output_type": "stream",
     "text": [
      "Extracting ../Mesures/train\\twitch20230110_110215.csv.... 23/39\n"
     ]
    },
    {
     "name": "stderr",
     "output_type": "stream",
     "text": [
      "100%|█████████████████████████████████████████████████████████████████████████████████| 22/22 [00:00<00:00, 139.08it/s]\n"
     ]
    },
    {
     "name": "stdout",
     "output_type": "stream",
     "text": [
      "Extracting ../Mesures/train\\twitch20230110_120513.csv.... 24/39\n"
     ]
    },
    {
     "name": "stderr",
     "output_type": "stream",
     "text": [
      "100%|█████████████████████████████████████████████████████████████████████████████████| 59/59 [00:00<00:00, 349.72it/s]\n"
     ]
    },
    {
     "name": "stdout",
     "output_type": "stream",
     "text": [
      "Extracting ../Mesures/train\\twitch20230110_130648.csv.... 25/39\n"
     ]
    },
    {
     "name": "stderr",
     "output_type": "stream",
     "text": [
      "100%|███████████████████████████████████████████████████████████████████████████████| 426/426 [00:00<00:00, 607.13it/s]\n",
      "100%|█████████████████████████████████████████████████████████████████████████████████| 11/11 [00:00<00:00, 534.50it/s]\n"
     ]
    },
    {
     "name": "stdout",
     "output_type": "stream",
     "text": [
      "Extracting ../Mesures/train\\youtube20221108_165214.csv.... 26/39\n",
      "Extracting ../Mesures/train\\youtube20221108_182416.csv.... 27/39\n"
     ]
    },
    {
     "name": "stderr",
     "output_type": "stream",
     "text": [
      "100%|███████████████████████████████████████████████████████████████████████████████████| 4/4 [00:00<00:00, 344.59it/s]\n"
     ]
    },
    {
     "name": "stdout",
     "output_type": "stream",
     "text": [
      "Extracting ../Mesures/train\\youtube20221124_125524.csv.... 28/39\n"
     ]
    },
    {
     "name": "stderr",
     "output_type": "stream",
     "text": [
      "100%|███████████████████████████████████████████████████████████████████████████████| 186/186 [00:00<00:00, 766.61it/s]\n",
      "  0%|                                                                                           | 0/92 [00:00<?, ?it/s]"
     ]
    },
    {
     "name": "stdout",
     "output_type": "stream",
     "text": [
      "Extracting ../Mesures/train\\youtube20221124_154037.csv.... 29/39\n"
     ]
    },
    {
     "name": "stderr",
     "output_type": "stream",
     "text": [
      "100%|█████████████████████████████████████████████████████████████████████████████████| 92/92 [00:00<00:00, 746.91it/s]\n"
     ]
    },
    {
     "name": "stdout",
     "output_type": "stream",
     "text": [
      "Extracting ../Mesures/train\\youtube20221130_103723.csv.... 30/39\n"
     ]
    },
    {
     "name": "stderr",
     "output_type": "stream",
     "text": [
      "100%|█████████████████████████████████████████████████████████████████████████████████| 91/91 [00:00<00:00, 698.32it/s]\n",
      "100%|█████████████████████████████████████████████████████████████████████████████████| 94/94 [00:00<00:00, 870.74it/s]"
     ]
    },
    {
     "name": "stdout",
     "output_type": "stream",
     "text": [
      "Extracting ../Mesures/train\\youtube20230110_145404.csv.... 31/39\n"
     ]
    },
    {
     "name": "stderr",
     "output_type": "stream",
     "text": [
      "\n",
      "\r",
      "  0%|                                                                                           | 0/90 [00:00<?, ?it/s]"
     ]
    },
    {
     "name": "stdout",
     "output_type": "stream",
     "text": [
      "Extracting ../Mesures/train\\youtube20230110_161955.csv.... 32/39\n"
     ]
    },
    {
     "name": "stderr",
     "output_type": "stream",
     "text": [
      "100%|█████████████████████████████████████████████████████████████████████████████████| 90/90 [00:00<00:00, 724.75it/s]\n"
     ]
    },
    {
     "name": "stdout",
     "output_type": "stream",
     "text": [
      "Extracting ../Mesures/train\\youtube20230112_125508.csv.... 33/39\n"
     ]
    },
    {
     "name": "stderr",
     "output_type": "stream",
     "text": [
      "100%|███████████████████████████████████████████████████████████████████████████████| 108/108 [00:00<00:00, 480.20it/s]\n"
     ]
    },
    {
     "name": "stdout",
     "output_type": "stream",
     "text": [
      "Extracting ../Mesures/train\\youtube20230112_151029.csv.... 34/39\n"
     ]
    },
    {
     "name": "stderr",
     "output_type": "stream",
     "text": [
      "100%|█████████████████████████████████████████████████████████████████████████████████| 29/29 [00:00<00:00, 556.89it/s]\n"
     ]
    },
    {
     "name": "stdout",
     "output_type": "stream",
     "text": [
      "Extracting ../Mesures/train\\youtube20230112_154749.csv.... 35/39\n"
     ]
    },
    {
     "name": "stderr",
     "output_type": "stream",
     "text": [
      "100%|█████████████████████████████████████████████████████████████████████████████████| 32/32 [00:00<00:00, 473.07it/s]\n"
     ]
    },
    {
     "name": "stdout",
     "output_type": "stream",
     "text": [
      "Extracting ../Mesures/train\\youtube20230112_163634.csv.... 36/39\n"
     ]
    },
    {
     "name": "stderr",
     "output_type": "stream",
     "text": [
      "100%|█████████████████████████████████████████████████████████████████████████████████| 65/65 [00:00<00:00, 580.02it/s]\n"
     ]
    },
    {
     "name": "stdout",
     "output_type": "stream",
     "text": [
      "Extracting ../Mesures/train\\youtube20230117_095221.csv.... 37/39\n"
     ]
    },
    {
     "name": "stderr",
     "output_type": "stream",
     "text": [
      "100%|███████████████████████████████████████████████████████████████████████████████| 140/140 [00:00<00:00, 325.95it/s]\n"
     ]
    },
    {
     "name": "stdout",
     "output_type": "stream",
     "text": [
      "Extracting ../Mesures/train\\youtube20230118_134041.csv.... 38/39\n"
     ]
    },
    {
     "name": "stderr",
     "output_type": "stream",
     "text": [
      "100%|███████████████████████████████████████████████████████████████████████████████| 212/212 [00:00<00:00, 250.53it/s]\n"
     ]
    },
    {
     "name": "stdout",
     "output_type": "stream",
     "text": [
      "Extracting ../Mesures/train\\youtube20230124_124323.csv.... 39/39\n"
     ]
    },
    {
     "name": "stderr",
     "output_type": "stream",
     "text": [
      "100%|███████████████████████████████████████████████████████████████████████████████| 163/163 [00:00<00:00, 285.03it/s]\n",
      "100%|██████████████████████████████████████████████████████████████████████████████| 5593/5593 [01:05<00:00, 85.30it/s]\n"
     ]
    }
   ],
   "source": [
    "df_train = load_and_preprocess_agg_metrics(\"../Mesures/train\")"
   ]
  },
  {
   "cell_type": "code",
   "execution_count": 3,
   "id": "ea796f28",
   "metadata": {},
   "outputs": [
    {
     "name": "stdout",
     "output_type": "stream",
     "text": [
      "Extracting ../Mesures/test\\messenger20221124_151137.csv.... 1/7\n"
     ]
    },
    {
     "name": "stderr",
     "output_type": "stream",
     "text": [
      "100%|████████████████████████████████████████████████████████████████████████████████████| 5/5 [00:00<00:00, 25.62it/s]\n"
     ]
    },
    {
     "name": "stdout",
     "output_type": "stream",
     "text": [
      "Extracting ../Mesures/test\\messenger20230208_132747.csv.... 2/7\n"
     ]
    },
    {
     "name": "stderr",
     "output_type": "stream",
     "text": [
      "100%|██████████████████████████████████████████████████████████████████████████████████| 27/27 [00:03<00:00,  8.97it/s]\n"
     ]
    },
    {
     "name": "stdout",
     "output_type": "stream",
     "text": [
      "Extracting ../Mesures/test\\skype20221206_150902.csv.... 3/7\n"
     ]
    },
    {
     "name": "stderr",
     "output_type": "stream",
     "text": [
      "100%|████████████████████████████████████████████████████████████████████████████████████| 3/3 [00:00<00:00,  4.21it/s]\n"
     ]
    },
    {
     "name": "stdout",
     "output_type": "stream",
     "text": [
      "Extracting ../Mesures/test\\spotify20230127_134348.csv.... 4/7\n"
     ]
    },
    {
     "name": "stderr",
     "output_type": "stream",
     "text": [
      "100%|███████████████████████████████████████████████████████████████████████████████| 240/240 [00:00<00:00, 370.31it/s]\n"
     ]
    },
    {
     "name": "stdout",
     "output_type": "stream",
     "text": [
      "Extracting ../Mesures/test\\twitch20221124_163054.csv.... 5/7\n"
     ]
    },
    {
     "name": "stderr",
     "output_type": "stream",
     "text": [
      "100%|██████████████████████████████████████████████████████████████████████████████████| 12/12 [00:00<00:00, 28.76it/s]\n"
     ]
    },
    {
     "name": "stdout",
     "output_type": "stream",
     "text": [
      "Extracting ../Mesures/test\\youtube20221118_104205.csv.... 6/7\n"
     ]
    },
    {
     "name": "stderr",
     "output_type": "stream",
     "text": [
      "100%|███████████████████████████████████████████████████████████████████████████████| 218/218 [00:00<00:00, 679.90it/s]\n"
     ]
    },
    {
     "name": "stdout",
     "output_type": "stream",
     "text": [
      "Extracting ../Mesures/test\\youtube20230117_121925.csv.... 7/7\n"
     ]
    },
    {
     "name": "stderr",
     "output_type": "stream",
     "text": [
      "100%|███████████████████████████████████████████████████████████████████████████████| 260/260 [00:00<00:00, 471.98it/s]\n",
      "100%|████████████████████████████████████████████████████████████████████████████████| 765/765 [00:15<00:00, 47.96it/s]\n"
     ]
    }
   ],
   "source": [
    "df_test = load_and_preprocess_agg_metrics(\"../Mesures/test\")"
   ]
  },
  {
   "cell_type": "code",
   "execution_count": null,
   "id": "8e5df180",
   "metadata": {},
   "outputs": [],
   "source": []
  },
  {
   "cell_type": "code",
   "execution_count": 9,
   "id": "cd03094d",
   "metadata": {},
   "outputs": [
    {
     "name": "stdout",
     "output_type": "stream",
     "text": [
      "id\n",
      "20221124_151137_4      messenger\n",
      "20221124_151137_5      messenger\n",
      "20221124_151137_6      messenger\n",
      "20221124_151137_7      messenger\n",
      "20221124_151137_8      messenger\n",
      "                         ...    \n",
      "20230117_121925_259      youtube\n",
      "20230117_121925_260      youtube\n",
      "20230117_121925_261      youtube\n",
      "20230117_121925_262      youtube\n",
      "20230117_121925_263      youtube\n",
      "Name: label, Length: 765, dtype: object\n"
     ]
    },
    {
     "data": {
      "text/html": [
       "<div>\n",
       "<style scoped>\n",
       "    .dataframe tbody tr th:only-of-type {\n",
       "        vertical-align: middle;\n",
       "    }\n",
       "\n",
       "    .dataframe tbody tr th {\n",
       "        vertical-align: top;\n",
       "    }\n",
       "\n",
       "    .dataframe thead th {\n",
       "        text-align: right;\n",
       "    }\n",
       "</style>\n",
       "<table border=\"1\" class=\"dataframe\">\n",
       "  <thead>\n",
       "    <tr style=\"text-align: right;\">\n",
       "      <th></th>\n",
       "      <th>reg_lin_R2_TBS_1</th>\n",
       "      <th>reg_lin_coef_A_TBS_1</th>\n",
       "      <th>reg_lin_R2_TBS_2</th>\n",
       "      <th>reg_lin_coef_A_TBS_2</th>\n",
       "      <th>p0_TBS_1</th>\n",
       "      <th>p10_TBS_1</th>\n",
       "      <th>p25_TBS_1</th>\n",
       "      <th>p50_TBS_1</th>\n",
       "      <th>p75_TBS_1</th>\n",
       "      <th>p90_TBS_1</th>\n",
       "      <th>...</th>\n",
       "      <th>p0_TBS_2</th>\n",
       "      <th>p10_TBS_2</th>\n",
       "      <th>p25_TBS_2</th>\n",
       "      <th>p50_TBS_2</th>\n",
       "      <th>p75_TBS_2</th>\n",
       "      <th>p90_TBS_2</th>\n",
       "      <th>p100_TBS_2</th>\n",
       "      <th>mean_TBS_2</th>\n",
       "      <th>std_TBS_2</th>\n",
       "      <th>label</th>\n",
       "    </tr>\n",
       "    <tr>\n",
       "      <th>id</th>\n",
       "      <th></th>\n",
       "      <th></th>\n",
       "      <th></th>\n",
       "      <th></th>\n",
       "      <th></th>\n",
       "      <th></th>\n",
       "      <th></th>\n",
       "      <th></th>\n",
       "      <th></th>\n",
       "      <th></th>\n",
       "      <th></th>\n",
       "      <th></th>\n",
       "      <th></th>\n",
       "      <th></th>\n",
       "      <th></th>\n",
       "      <th></th>\n",
       "      <th></th>\n",
       "      <th></th>\n",
       "      <th></th>\n",
       "      <th></th>\n",
       "      <th></th>\n",
       "    </tr>\n",
       "  </thead>\n",
       "  <tbody>\n",
       "    <tr>\n",
       "      <th>20221117_125310_4</th>\n",
       "      <td>1.409140</td>\n",
       "      <td>1.449940</td>\n",
       "      <td>0.402351</td>\n",
       "      <td>-0.101627</td>\n",
       "      <td>0.138751</td>\n",
       "      <td>0.217813</td>\n",
       "      <td>-0.124111</td>\n",
       "      <td>-0.073277</td>\n",
       "      <td>0.716816</td>\n",
       "      <td>0.662753</td>\n",
       "      <td>...</td>\n",
       "      <td>-0.018159</td>\n",
       "      <td>-0.032123</td>\n",
       "      <td>-0.03801</td>\n",
       "      <td>-0.069157</td>\n",
       "      <td>-0.135426</td>\n",
       "      <td>-0.191794</td>\n",
       "      <td>1.335680</td>\n",
       "      <td>-0.268988</td>\n",
       "      <td>-0.233816</td>\n",
       "      <td>messenger</td>\n",
       "    </tr>\n",
       "    <tr>\n",
       "      <th>20221117_125310_5</th>\n",
       "      <td>1.062412</td>\n",
       "      <td>-0.215354</td>\n",
       "      <td>0.440589</td>\n",
       "      <td>-0.107149</td>\n",
       "      <td>0.067866</td>\n",
       "      <td>-0.375499</td>\n",
       "      <td>-0.228940</td>\n",
       "      <td>-0.238736</td>\n",
       "      <td>-0.415108</td>\n",
       "      <td>-0.586022</td>\n",
       "      <td>...</td>\n",
       "      <td>-0.018159</td>\n",
       "      <td>-0.032123</td>\n",
       "      <td>-0.03801</td>\n",
       "      <td>-0.069157</td>\n",
       "      <td>-0.135426</td>\n",
       "      <td>-0.191794</td>\n",
       "      <td>-0.341449</td>\n",
       "      <td>-0.272448</td>\n",
       "      <td>-0.305047</td>\n",
       "      <td>messenger</td>\n",
       "    </tr>\n",
       "    <tr>\n",
       "      <th>20221117_125310_6</th>\n",
       "      <td>1.057756</td>\n",
       "      <td>-0.037047</td>\n",
       "      <td>0.440589</td>\n",
       "      <td>-0.107149</td>\n",
       "      <td>0.067866</td>\n",
       "      <td>-0.375499</td>\n",
       "      <td>-0.228940</td>\n",
       "      <td>-0.221619</td>\n",
       "      <td>-0.406310</td>\n",
       "      <td>-0.586022</td>\n",
       "      <td>...</td>\n",
       "      <td>-0.018159</td>\n",
       "      <td>-0.032123</td>\n",
       "      <td>-0.03801</td>\n",
       "      <td>-0.069157</td>\n",
       "      <td>-0.135426</td>\n",
       "      <td>-0.191794</td>\n",
       "      <td>-0.341449</td>\n",
       "      <td>-0.272448</td>\n",
       "      <td>-0.305047</td>\n",
       "      <td>messenger</td>\n",
       "    </tr>\n",
       "    <tr>\n",
       "      <th>20221117_125310_8</th>\n",
       "      <td>1.402432</td>\n",
       "      <td>1.438787</td>\n",
       "      <td>0.440589</td>\n",
       "      <td>-0.107149</td>\n",
       "      <td>-0.038462</td>\n",
       "      <td>0.217813</td>\n",
       "      <td>-0.054225</td>\n",
       "      <td>-0.004812</td>\n",
       "      <td>0.763735</td>\n",
       "      <td>0.610035</td>\n",
       "      <td>...</td>\n",
       "      <td>-0.018159</td>\n",
       "      <td>-0.032123</td>\n",
       "      <td>-0.03801</td>\n",
       "      <td>-0.069157</td>\n",
       "      <td>-0.135426</td>\n",
       "      <td>-0.191794</td>\n",
       "      <td>-0.341449</td>\n",
       "      <td>-0.272448</td>\n",
       "      <td>-0.305047</td>\n",
       "      <td>messenger</td>\n",
       "    </tr>\n",
       "    <tr>\n",
       "      <th>20221117_125310_7</th>\n",
       "      <td>1.403831</td>\n",
       "      <td>1.176822</td>\n",
       "      <td>-1.580600</td>\n",
       "      <td>-0.101637</td>\n",
       "      <td>0.067866</td>\n",
       "      <td>0.217813</td>\n",
       "      <td>-0.054225</td>\n",
       "      <td>0.006599</td>\n",
       "      <td>0.411842</td>\n",
       "      <td>0.482851</td>\n",
       "      <td>...</td>\n",
       "      <td>-0.018159</td>\n",
       "      <td>-0.032123</td>\n",
       "      <td>-0.03801</td>\n",
       "      <td>-0.069157</td>\n",
       "      <td>-0.135426</td>\n",
       "      <td>-0.191794</td>\n",
       "      <td>-0.084867</td>\n",
       "      <td>-0.269149</td>\n",
       "      <td>-0.262006</td>\n",
       "      <td>messenger</td>\n",
       "    </tr>\n",
       "    <tr>\n",
       "      <th>...</th>\n",
       "      <td>...</td>\n",
       "      <td>...</td>\n",
       "      <td>...</td>\n",
       "      <td>...</td>\n",
       "      <td>...</td>\n",
       "      <td>...</td>\n",
       "      <td>...</td>\n",
       "      <td>...</td>\n",
       "      <td>...</td>\n",
       "      <td>...</td>\n",
       "      <td>...</td>\n",
       "      <td>...</td>\n",
       "      <td>...</td>\n",
       "      <td>...</td>\n",
       "      <td>...</td>\n",
       "      <td>...</td>\n",
       "      <td>...</td>\n",
       "      <td>...</td>\n",
       "      <td>...</td>\n",
       "      <td>...</td>\n",
       "      <td>...</td>\n",
       "    </tr>\n",
       "    <tr>\n",
       "      <th>20230124_124323_162</th>\n",
       "      <td>-1.932830</td>\n",
       "      <td>0.718301</td>\n",
       "      <td>0.440589</td>\n",
       "      <td>-0.107149</td>\n",
       "      <td>-0.073905</td>\n",
       "      <td>1.150162</td>\n",
       "      <td>0.452448</td>\n",
       "      <td>0.679843</td>\n",
       "      <td>0.048219</td>\n",
       "      <td>-0.348787</td>\n",
       "      <td>...</td>\n",
       "      <td>-0.018159</td>\n",
       "      <td>-0.032123</td>\n",
       "      <td>-0.03801</td>\n",
       "      <td>-0.069157</td>\n",
       "      <td>-0.135426</td>\n",
       "      <td>-0.191794</td>\n",
       "      <td>-0.341449</td>\n",
       "      <td>-0.272448</td>\n",
       "      <td>-0.305047</td>\n",
       "      <td>youtube</td>\n",
       "    </tr>\n",
       "    <tr>\n",
       "      <th>20230124_124323_163</th>\n",
       "      <td>-1.544225</td>\n",
       "      <td>5.412745</td>\n",
       "      <td>0.440589</td>\n",
       "      <td>-0.107149</td>\n",
       "      <td>-0.073905</td>\n",
       "      <td>0.217813</td>\n",
       "      <td>-0.124111</td>\n",
       "      <td>4.730719</td>\n",
       "      <td>2.130255</td>\n",
       "      <td>0.820910</td>\n",
       "      <td>...</td>\n",
       "      <td>-0.018159</td>\n",
       "      <td>-0.032123</td>\n",
       "      <td>-0.03801</td>\n",
       "      <td>-0.069157</td>\n",
       "      <td>-0.135426</td>\n",
       "      <td>-0.191794</td>\n",
       "      <td>-0.341449</td>\n",
       "      <td>-0.272448</td>\n",
       "      <td>-0.305047</td>\n",
       "      <td>youtube</td>\n",
       "    </tr>\n",
       "    <tr>\n",
       "      <th>20230124_124323_164</th>\n",
       "      <td>-1.721674</td>\n",
       "      <td>1.152697</td>\n",
       "      <td>0.440589</td>\n",
       "      <td>-0.107149</td>\n",
       "      <td>-0.073905</td>\n",
       "      <td>1.150162</td>\n",
       "      <td>0.452448</td>\n",
       "      <td>0.679843</td>\n",
       "      <td>0.048219</td>\n",
       "      <td>0.610035</td>\n",
       "      <td>...</td>\n",
       "      <td>-0.018159</td>\n",
       "      <td>-0.032123</td>\n",
       "      <td>-0.03801</td>\n",
       "      <td>-0.069157</td>\n",
       "      <td>-0.135426</td>\n",
       "      <td>-0.191794</td>\n",
       "      <td>-0.341449</td>\n",
       "      <td>-0.272448</td>\n",
       "      <td>-0.305047</td>\n",
       "      <td>youtube</td>\n",
       "    </tr>\n",
       "    <tr>\n",
       "      <th>20230124_124323_165</th>\n",
       "      <td>-1.103370</td>\n",
       "      <td>0.020212</td>\n",
       "      <td>0.440589</td>\n",
       "      <td>-0.107149</td>\n",
       "      <td>-0.073905</td>\n",
       "      <td>0.217813</td>\n",
       "      <td>-0.124111</td>\n",
       "      <td>-0.261557</td>\n",
       "      <td>-0.435635</td>\n",
       "      <td>-0.620618</td>\n",
       "      <td>...</td>\n",
       "      <td>-0.018159</td>\n",
       "      <td>-0.032123</td>\n",
       "      <td>-0.03801</td>\n",
       "      <td>-0.069157</td>\n",
       "      <td>-0.135426</td>\n",
       "      <td>-0.191794</td>\n",
       "      <td>-0.341449</td>\n",
       "      <td>-0.272448</td>\n",
       "      <td>-0.305047</td>\n",
       "      <td>youtube</td>\n",
       "    </tr>\n",
       "    <tr>\n",
       "      <th>20230124_124323_166</th>\n",
       "      <td>1.286032</td>\n",
       "      <td>0.486883</td>\n",
       "      <td>0.440589</td>\n",
       "      <td>-0.107149</td>\n",
       "      <td>-0.073905</td>\n",
       "      <td>0.217813</td>\n",
       "      <td>-0.124111</td>\n",
       "      <td>-0.073277</td>\n",
       "      <td>0.048219</td>\n",
       "      <td>0.768191</td>\n",
       "      <td>...</td>\n",
       "      <td>-0.018159</td>\n",
       "      <td>-0.032123</td>\n",
       "      <td>-0.03801</td>\n",
       "      <td>-0.069157</td>\n",
       "      <td>-0.135426</td>\n",
       "      <td>-0.191794</td>\n",
       "      <td>-0.341449</td>\n",
       "      <td>-0.272448</td>\n",
       "      <td>-0.305047</td>\n",
       "      <td>youtube</td>\n",
       "    </tr>\n",
       "  </tbody>\n",
       "</table>\n",
       "<p>5593 rows × 23 columns</p>\n",
       "</div>"
      ],
      "text/plain": [
       "                     reg_lin_R2_TBS_1  reg_lin_coef_A_TBS_1  reg_lin_R2_TBS_2  \\\n",
       "id                                                                              \n",
       "20221117_125310_4            1.409140              1.449940          0.402351   \n",
       "20221117_125310_5            1.062412             -0.215354          0.440589   \n",
       "20221117_125310_6            1.057756             -0.037047          0.440589   \n",
       "20221117_125310_8            1.402432              1.438787          0.440589   \n",
       "20221117_125310_7            1.403831              1.176822         -1.580600   \n",
       "...                               ...                   ...               ...   \n",
       "20230124_124323_162         -1.932830              0.718301          0.440589   \n",
       "20230124_124323_163         -1.544225              5.412745          0.440589   \n",
       "20230124_124323_164         -1.721674              1.152697          0.440589   \n",
       "20230124_124323_165         -1.103370              0.020212          0.440589   \n",
       "20230124_124323_166          1.286032              0.486883          0.440589   \n",
       "\n",
       "                     reg_lin_coef_A_TBS_2  p0_TBS_1  p10_TBS_1  p25_TBS_1  \\\n",
       "id                                                                          \n",
       "20221117_125310_4               -0.101627  0.138751   0.217813  -0.124111   \n",
       "20221117_125310_5               -0.107149  0.067866  -0.375499  -0.228940   \n",
       "20221117_125310_6               -0.107149  0.067866  -0.375499  -0.228940   \n",
       "20221117_125310_8               -0.107149 -0.038462   0.217813  -0.054225   \n",
       "20221117_125310_7               -0.101637  0.067866   0.217813  -0.054225   \n",
       "...                                   ...       ...        ...        ...   \n",
       "20230124_124323_162             -0.107149 -0.073905   1.150162   0.452448   \n",
       "20230124_124323_163             -0.107149 -0.073905   0.217813  -0.124111   \n",
       "20230124_124323_164             -0.107149 -0.073905   1.150162   0.452448   \n",
       "20230124_124323_165             -0.107149 -0.073905   0.217813  -0.124111   \n",
       "20230124_124323_166             -0.107149 -0.073905   0.217813  -0.124111   \n",
       "\n",
       "                     p50_TBS_1  p75_TBS_1  p90_TBS_1  ...  p0_TBS_2  \\\n",
       "id                                                    ...             \n",
       "20221117_125310_4    -0.073277   0.716816   0.662753  ... -0.018159   \n",
       "20221117_125310_5    -0.238736  -0.415108  -0.586022  ... -0.018159   \n",
       "20221117_125310_6    -0.221619  -0.406310  -0.586022  ... -0.018159   \n",
       "20221117_125310_8    -0.004812   0.763735   0.610035  ... -0.018159   \n",
       "20221117_125310_7     0.006599   0.411842   0.482851  ... -0.018159   \n",
       "...                        ...        ...        ...  ...       ...   \n",
       "20230124_124323_162   0.679843   0.048219  -0.348787  ... -0.018159   \n",
       "20230124_124323_163   4.730719   2.130255   0.820910  ... -0.018159   \n",
       "20230124_124323_164   0.679843   0.048219   0.610035  ... -0.018159   \n",
       "20230124_124323_165  -0.261557  -0.435635  -0.620618  ... -0.018159   \n",
       "20230124_124323_166  -0.073277   0.048219   0.768191  ... -0.018159   \n",
       "\n",
       "                     p10_TBS_2  p25_TBS_2  p50_TBS_2  p75_TBS_2  p90_TBS_2  \\\n",
       "id                                                                           \n",
       "20221117_125310_4    -0.032123   -0.03801  -0.069157  -0.135426  -0.191794   \n",
       "20221117_125310_5    -0.032123   -0.03801  -0.069157  -0.135426  -0.191794   \n",
       "20221117_125310_6    -0.032123   -0.03801  -0.069157  -0.135426  -0.191794   \n",
       "20221117_125310_8    -0.032123   -0.03801  -0.069157  -0.135426  -0.191794   \n",
       "20221117_125310_7    -0.032123   -0.03801  -0.069157  -0.135426  -0.191794   \n",
       "...                        ...        ...        ...        ...        ...   \n",
       "20230124_124323_162  -0.032123   -0.03801  -0.069157  -0.135426  -0.191794   \n",
       "20230124_124323_163  -0.032123   -0.03801  -0.069157  -0.135426  -0.191794   \n",
       "20230124_124323_164  -0.032123   -0.03801  -0.069157  -0.135426  -0.191794   \n",
       "20230124_124323_165  -0.032123   -0.03801  -0.069157  -0.135426  -0.191794   \n",
       "20230124_124323_166  -0.032123   -0.03801  -0.069157  -0.135426  -0.191794   \n",
       "\n",
       "                     p100_TBS_2  mean_TBS_2  std_TBS_2      label  \n",
       "id                                                                 \n",
       "20221117_125310_4      1.335680   -0.268988  -0.233816  messenger  \n",
       "20221117_125310_5     -0.341449   -0.272448  -0.305047  messenger  \n",
       "20221117_125310_6     -0.341449   -0.272448  -0.305047  messenger  \n",
       "20221117_125310_8     -0.341449   -0.272448  -0.305047  messenger  \n",
       "20221117_125310_7     -0.084867   -0.269149  -0.262006  messenger  \n",
       "...                         ...         ...        ...        ...  \n",
       "20230124_124323_162   -0.341449   -0.272448  -0.305047    youtube  \n",
       "20230124_124323_163   -0.341449   -0.272448  -0.305047    youtube  \n",
       "20230124_124323_164   -0.341449   -0.272448  -0.305047    youtube  \n",
       "20230124_124323_165   -0.341449   -0.272448  -0.305047    youtube  \n",
       "20230124_124323_166   -0.341449   -0.272448  -0.305047    youtube  \n",
       "\n",
       "[5593 rows x 23 columns]"
      ]
     },
     "execution_count": 9,
     "metadata": {},
     "output_type": "execute_result"
    }
   ],
   "source": [
    "scaler = Scaler_Metrics()\n",
    "training_data = scaler.fit_transform(df_train)\n",
    "testing_data = scaler.transform(df_test)\n",
    "training_data"
   ]
  },
  {
   "cell_type": "code",
   "execution_count": 10,
   "id": "e73db52a",
   "metadata": {},
   "outputs": [],
   "source": [
    "training_data = training_data[training_data .label!=\"noise\"]\n",
    "testing_data = testing_data[testing_data .label!=\"noise\"]"
   ]
  },
  {
   "cell_type": "code",
   "execution_count": null,
   "id": "118ea53f",
   "metadata": {},
   "outputs": [],
   "source": []
  },
  {
   "cell_type": "code",
   "execution_count": 12,
   "id": "3b0c06bd",
   "metadata": {},
   "outputs": [
    {
     "data": {
      "text/plain": [
       "RandomForestClassifier()"
      ]
     },
     "execution_count": 12,
     "metadata": {},
     "output_type": "execute_result"
    }
   ],
   "source": [
    "model = RandomForestClassifier()\n",
    "model.fit(training_data[training_data.columns[:-1]], training_data.label)"
   ]
  },
  {
   "cell_type": "code",
   "execution_count": 13,
   "id": "6c2b45c1",
   "metadata": {},
   "outputs": [],
   "source": [
    "# mesure efficiency\n",
    "preds_labels =  model.predict(testing_data[testing_data.columns[:-1]])\n",
    "true_labels = testing_data.label"
   ]
  },
  {
   "cell_type": "code",
   "execution_count": 14,
   "id": "e75fb978",
   "metadata": {},
   "outputs": [
    {
     "name": "stdout",
     "output_type": "stream",
     "text": [
      "normalized confusion matrix\n"
     ]
    },
    {
     "data": {
      "image/png": "[encoded data removed]",
      "text/plain": [
       "<Figure size 432x432 with 2 Axes>"
      ]
     },
     "metadata": {
      "needs_background": "light"
     },
     "output_type": "display_data"
    }
   ],
   "source": [
    "plot_confusion_matrix(true_labels,preds_labels)"
   ]
  },
  {
   "cell_type": "code",
   "execution_count": null,
   "id": "4545c4f0",
   "metadata": {},
   "outputs": [],
   "source": []
  },
  {
   "cell_type": "code",
   "execution_count": null,
   "id": "ab150417",
   "metadata": {},
   "outputs": [],
   "source": []
  }
 ],
 "metadata": {
  "kernelspec": {
   "display_name": "Python 3 (ipykernel)",
   "language": "python",
   "name": "python3"
  },
  "language_info": {
   "codemirror_mode": {
    "name": "ipython",
    "version": 3
   },
   "file_extension": ".py",
   "mimetype": "text/x-python",
   "name": "python",
   "nbconvert_exporter": "python",
   "pygments_lexer": "ipython3",
   "version": "3.9.15"
  }
 },
 "nbformat": 4,
 "nbformat_minor": 5
}
