{
 "cells": [
  {
   "cell_type": "code",
   "execution_count": 1,
   "id": "64d67bad",
   "metadata": {},
   "outputs": [],
   "source": [
    "import os\n",
    "import pandas as pd\n",
    "import warnings\n",
    "import matplotlib.pyplot as plt\n",
    "\n",
    "import numpy as np\n",
    "import seaborn as sns\n",
    "import sys\n",
    "\n",
    "from sklearn.ensemble import RandomForestClassifier\n",
    "from tqdm import tqdm\n",
    "import time\n",
    "\n",
    "\n",
    "plt.rcParams[\"figure.figsize\"] = (12, 9)\n",
    "warnings.simplefilter(\"ignore\")\n",
    "\n",
    "sys.path.append(\"../1_Format_donnees/\")\n",
    "from aggregation import load_and_preprocess_agg_metrics, Scaler_Metrics\n",
    "sys.path.append(\"../\")\n",
    "\n",
    "from evaluate import plot_confusion_matrix, get_scores, plot_feature_importance\n",
    "\n",
    "### <8 mbits en cumsum = bruit "
   ]
  },
  {
   "cell_type": "markdown",
   "id": "5fa49671",
   "metadata": {},
   "source": [
    "# Load Data"
   ]
  },
  {
   "cell_type": "code",
   "execution_count": 2,
   "id": "675f0647",
   "metadata": {
    "scrolled": true
   },
   "outputs": [
    {
     "name": "stdout",
     "output_type": "stream",
     "text": [
      "Load datasets...\n",
      "Extracting ../Mesures/test\\messenger20221129_151124.csv.... 1/5\n"
     ]
    },
    {
     "name": "stderr",
     "output_type": "stream",
     "text": [
      "100%|████████████████████████████████████████████████████████████████████████████████████| 5/5 [00:00<00:00,  5.30it/s]\n"
     ]
    },
    {
     "name": "stdout",
     "output_type": "stream",
     "text": [
      "Extracting ../Mesures/test\\skype20221206_150902.csv.... 2/5\n"
     ]
    },
    {
     "name": "stderr",
     "output_type": "stream",
     "text": [
      "100%|████████████████████████████████████████████████████████████████████████████████████| 3/3 [00:01<00:00,  2.18it/s]\n"
     ]
    },
    {
     "name": "stdout",
     "output_type": "stream",
     "text": [
      "Extracting ../Mesures/test\\twitch20221124_163054.csv.... 3/5\n"
     ]
    },
    {
     "name": "stderr",
     "output_type": "stream",
     "text": [
      "100%|██████████████████████████████████████████████████████████████████████████████████| 12/12 [00:00<00:00, 12.32it/s]\n"
     ]
    },
    {
     "name": "stdout",
     "output_type": "stream",
     "text": [
      "Extracting ../Mesures/test\\youtube20221118_104205.csv.... 4/5\n"
     ]
    },
    {
     "name": "stderr",
     "output_type": "stream",
     "text": [
      "100%|███████████████████████████████████████████████████████████████████████████████| 218/218 [00:00<00:00, 500.99it/s]\n"
     ]
    },
    {
     "name": "stdout",
     "output_type": "stream",
     "text": [
      "Extracting ../Mesures/test\\youtube20230117_121925.csv.... 5/5\n"
     ]
    },
    {
     "name": "stderr",
     "output_type": "stream",
     "text": [
      "100%|███████████████████████████████████████████████████████████████████████████████| 260/260 [00:00<00:00, 343.99it/s]\n"
     ]
    },
    {
     "name": "stdout",
     "output_type": "stream",
     "text": [
      "Computing metrics and statistics...\n"
     ]
    },
    {
     "name": "stderr",
     "output_type": "stream",
     "text": [
      "100%|████████████████████████████████████████████████████████████████████████████████| 498/498 [00:11<00:00, 45.08it/s]\n"
     ]
    },
    {
     "name": "stdout",
     "output_type": "stream",
     "text": [
      "Load datasets...\n",
      "Extracting ../Mesures/train\\messenger20221117_125310.csv.... 1/33\n"
     ]
    },
    {
     "name": "stderr",
     "output_type": "stream",
     "text": [
      "100%|██████████████████████████████████████████████████████████████████████████████████| 15/15 [00:00<00:00, 92.34it/s]\n"
     ]
    },
    {
     "name": "stdout",
     "output_type": "stream",
     "text": [
      "Extracting ../Mesures/train\\messenger20221124_143112.csv.... 2/33\n"
     ]
    },
    {
     "name": "stderr",
     "output_type": "stream",
     "text": [
      "100%|██████████████████████████████████████████████████████████████████████████████████| 11/11 [00:00<00:00, 31.02it/s]\n"
     ]
    },
    {
     "name": "stdout",
     "output_type": "stream",
     "text": [
      "Extracting ../Mesures/train\\messenger20221124_151137.csv.... 3/33\n"
     ]
    },
    {
     "name": "stderr",
     "output_type": "stream",
     "text": [
      "100%|████████████████████████████████████████████████████████████████████████████████████| 5/5 [00:00<00:00, 14.98it/s]\n"
     ]
    },
    {
     "name": "stdout",
     "output_type": "stream",
     "text": [
      "Extracting ../Mesures/train\\messenger20221125_130559.csv.... 4/33\n"
     ]
    },
    {
     "name": "stderr",
     "output_type": "stream",
     "text": [
      "100%|██████████████████████████████████████████████████████████████████████████████████| 39/39 [00:00<00:00, 71.21it/s]\n"
     ]
    },
    {
     "name": "stdout",
     "output_type": "stream",
     "text": [
      "Extracting ../Mesures/train\\messenger20221125_150706.csv.... 5/33\n"
     ]
    },
    {
     "name": "stderr",
     "output_type": "stream",
     "text": [
      "100%|████████████████████████████████████████████████████████████████████████████████| 335/335 [00:04<00:00, 79.90it/s]\n"
     ]
    },
    {
     "name": "stdout",
     "output_type": "stream",
     "text": [
      "Extracting ../Mesures/train\\messenger20221129_131204.csv.... 6/33\n"
     ]
    },
    {
     "name": "stderr",
     "output_type": "stream",
     "text": [
      "100%|██████████████████████████████████████████████████████████████████████████████████| 14/14 [00:01<00:00,  9.80it/s]\n"
     ]
    },
    {
     "name": "stdout",
     "output_type": "stream",
     "text": [
      "Extracting ../Mesures/train\\pure_noise20230106_132210.csv.... 7/33\n"
     ]
    },
    {
     "name": "stderr",
     "output_type": "stream",
     "text": [
      "100%|███████████████████████████████████████████████████████████████████████████████| 839/839 [00:01<00:00, 459.54it/s]\n"
     ]
    },
    {
     "name": "stdout",
     "output_type": "stream",
     "text": [
      "Extracting ../Mesures/train\\skype20221129_164105.csv.... 8/33\n"
     ]
    },
    {
     "name": "stderr",
     "output_type": "stream",
     "text": [
      "100%|████████████████████████████████████████████████████████████████████████████████████| 5/5 [00:00<00:00,  9.99it/s]\n"
     ]
    },
    {
     "name": "stdout",
     "output_type": "stream",
     "text": [
      "Extracting ../Mesures/train\\skype20221206_125510.csv.... 9/33\n"
     ]
    },
    {
     "name": "stderr",
     "output_type": "stream",
     "text": [
      "100%|██████████████████████████████████████████████████████████████████████████████████| 19/19 [00:00<00:00, 26.35it/s]\n"
     ]
    },
    {
     "name": "stdout",
     "output_type": "stream",
     "text": [
      "Extracting ../Mesures/train\\skype20221208_104403.csv.... 10/33\n"
     ]
    },
    {
     "name": "stderr",
     "output_type": "stream",
     "text": [
      "100%|████████████████████████████████████████████████████████████████████████████████████| 7/7 [00:02<00:00,  2.96it/s]\n"
     ]
    },
    {
     "name": "stdout",
     "output_type": "stream",
     "text": [
      "Extracting ../Mesures/train\\skype20221208_124925.csv.... 11/33\n"
     ]
    },
    {
     "name": "stderr",
     "output_type": "stream",
     "text": [
      "100%|████████████████████████████████████████████████████████████████████████████████████| 6/6 [00:03<00:00,  1.86it/s]\n"
     ]
    },
    {
     "name": "stdout",
     "output_type": "stream",
     "text": [
      "Extracting ../Mesures/train\\skype20221215_151512.csv.... 12/33\n"
     ]
    },
    {
     "name": "stderr",
     "output_type": "stream",
     "text": [
      "100%|██████████████████████████████████████████████████████████████████████████████████| 23/23 [00:00<00:00, 32.65it/s]\n"
     ]
    },
    {
     "name": "stdout",
     "output_type": "stream",
     "text": [
      "Extracting ../Mesures/train\\skype20221215_155618.csv.... 13/33\n"
     ]
    },
    {
     "name": "stderr",
     "output_type": "stream",
     "text": [
      "100%|██████████████████████████████████████████████████████████████████████████████████| 19/19 [00:00<00:00, 21.18it/s]\n"
     ]
    },
    {
     "name": "stdout",
     "output_type": "stream",
     "text": [
      "Extracting ../Mesures/train\\skype20221215_164208.csv.... 14/33\n"
     ]
    },
    {
     "name": "stderr",
     "output_type": "stream",
     "text": [
      "100%|████████████████████████████████████████████████████████████████████████████████████| 5/5 [00:01<00:00,  4.63it/s]\n"
     ]
    },
    {
     "name": "stdout",
     "output_type": "stream",
     "text": [
      "Extracting ../Mesures/train\\skype20221215_174819.csv.... 15/33\n"
     ]
    },
    {
     "name": "stderr",
     "output_type": "stream",
     "text": [
      "100%|████████████████████████████████████████████████████████████████████████████████████| 6/6 [00:00<00:00,  7.71it/s]\n"
     ]
    },
    {
     "name": "stdout",
     "output_type": "stream",
     "text": [
      "Extracting ../Mesures/train\\twitch20221117_113554.csv.... 16/33\n"
     ]
    },
    {
     "name": "stderr",
     "output_type": "stream",
     "text": [
      "100%|██████████████████████████████████████████████████████████████████████████████████| 29/29 [00:00<00:00, 85.66it/s]\n"
     ]
    },
    {
     "name": "stdout",
     "output_type": "stream",
     "text": [
      "Extracting ../Mesures/train\\twitch20221118_075454.csv.... 17/33\n"
     ]
    },
    {
     "name": "stderr",
     "output_type": "stream",
     "text": [
      "100%|██████████████████████████████████████████████████████████████████████████████████| 16/16 [00:00<00:00, 43.26it/s]\n"
     ]
    },
    {
     "name": "stdout",
     "output_type": "stream",
     "text": [
      "Extracting ../Mesures/train\\twitch20221125_133859.csv.... 18/33\n"
     ]
    },
    {
     "name": "stderr",
     "output_type": "stream",
     "text": [
      "100%|████████████████████████████████████████████████████████████████████████████████| 109/109 [00:01<00:00, 58.92it/s]\n"
     ]
    },
    {
     "name": "stdout",
     "output_type": "stream",
     "text": [
      "Extracting ../Mesures/train\\twitch20230110_110215.csv.... 19/33\n"
     ]
    },
    {
     "name": "stderr",
     "output_type": "stream",
     "text": [
      "100%|██████████████████████████████████████████████████████████████████████████████████| 22/22 [00:00<00:00, 77.82it/s]\n"
     ]
    },
    {
     "name": "stdout",
     "output_type": "stream",
     "text": [
      "Extracting ../Mesures/train\\twitch20230110_120513.csv.... 20/33\n"
     ]
    },
    {
     "name": "stderr",
     "output_type": "stream",
     "text": [
      "100%|█████████████████████████████████████████████████████████████████████████████████| 61/61 [00:00<00:00, 149.35it/s]\n"
     ]
    },
    {
     "name": "stdout",
     "output_type": "stream",
     "text": [
      "Extracting ../Mesures/train\\twitch20230110_130648.csv.... 21/33\n"
     ]
    },
    {
     "name": "stderr",
     "output_type": "stream",
     "text": [
      "100%|███████████████████████████████████████████████████████████████████████████████| 427/427 [00:01<00:00, 286.91it/s]\n"
     ]
    },
    {
     "name": "stdout",
     "output_type": "stream",
     "text": [
      "Extracting ../Mesures/train\\youtube20221108_165214.csv.... 22/33\n"
     ]
    },
    {
     "name": "stderr",
     "output_type": "stream",
     "text": [
      "100%|█████████████████████████████████████████████████████████████████████████████████| 12/12 [00:00<00:00, 364.50it/s]"
     ]
    },
    {
     "name": "stdout",
     "output_type": "stream",
     "text": [
      "Extracting ../Mesures/train\\youtube20221108_182416.csv.... 23/33\n"
     ]
    },
    {
     "name": "stderr",
     "output_type": "stream",
     "text": [
      "\n",
      "100%|███████████████████████████████████████████████████████████████████████████████████| 4/4 [00:00<00:00, 253.16it/s]\n"
     ]
    },
    {
     "name": "stdout",
     "output_type": "stream",
     "text": [
      "Extracting ../Mesures/train\\youtube20221124_125524.csv.... 24/33\n"
     ]
    },
    {
     "name": "stderr",
     "output_type": "stream",
     "text": [
      "100%|███████████████████████████████████████████████████████████████████████████████| 188/188 [00:00<00:00, 611.94it/s]\n"
     ]
    },
    {
     "name": "stdout",
     "output_type": "stream",
     "text": [
      "Extracting ../Mesures/train\\youtube20221124_154037.csv.... 25/33\n"
     ]
    },
    {
     "name": "stderr",
     "output_type": "stream",
     "text": [
      "100%|█████████████████████████████████████████████████████████████████████████████████| 92/92 [00:00<00:00, 589.21it/s]\n"
     ]
    },
    {
     "name": "stdout",
     "output_type": "stream",
     "text": [
      "Extracting ../Mesures/train\\youtube20221130_103723.csv.... 26/33\n"
     ]
    },
    {
     "name": "stderr",
     "output_type": "stream",
     "text": [
      "100%|█████████████████████████████████████████████████████████████████████████████████| 91/91 [00:00<00:00, 529.71it/s]\n"
     ]
    },
    {
     "name": "stdout",
     "output_type": "stream",
     "text": [
      "Extracting ../Mesures/train\\youtube20230110_145404.csv.... 27/33\n"
     ]
    },
    {
     "name": "stderr",
     "output_type": "stream",
     "text": [
      "100%|█████████████████████████████████████████████████████████████████████████████████| 95/95 [00:00<00:00, 463.84it/s]\n"
     ]
    },
    {
     "name": "stdout",
     "output_type": "stream",
     "text": [
      "Extracting ../Mesures/train\\youtube20230110_161955.csv.... 28/33\n"
     ]
    },
    {
     "name": "stderr",
     "output_type": "stream",
     "text": [
      "100%|█████████████████████████████████████████████████████████████████████████████████| 90/90 [00:00<00:00, 554.11it/s]\n"
     ]
    },
    {
     "name": "stdout",
     "output_type": "stream",
     "text": [
      "Extracting ../Mesures/train\\youtube20230112_125508.csv.... 29/33\n"
     ]
    },
    {
     "name": "stderr",
     "output_type": "stream",
     "text": [
      "100%|███████████████████████████████████████████████████████████████████████████████| 108/108 [00:00<00:00, 330.31it/s]\n"
     ]
    },
    {
     "name": "stdout",
     "output_type": "stream",
     "text": [
      "Extracting ../Mesures/train\\youtube20230112_151029.csv.... 30/33\n"
     ]
    },
    {
     "name": "stderr",
     "output_type": "stream",
     "text": [
      "100%|█████████████████████████████████████████████████████████████████████████████████| 29/29 [00:00<00:00, 245.90it/s]\n"
     ]
    },
    {
     "name": "stdout",
     "output_type": "stream",
     "text": [
      "Extracting ../Mesures/train\\youtube20230112_154749.csv.... 31/33\n"
     ]
    },
    {
     "name": "stderr",
     "output_type": "stream",
     "text": [
      "100%|█████████████████████████████████████████████████████████████████████████████████| 32/32 [00:00<00:00, 318.10it/s]\n"
     ]
    },
    {
     "name": "stdout",
     "output_type": "stream",
     "text": [
      "Extracting ../Mesures/train\\youtube20230112_163634.csv.... 32/33\n"
     ]
    },
    {
     "name": "stderr",
     "output_type": "stream",
     "text": [
      "100%|█████████████████████████████████████████████████████████████████████████████████| 65/65 [00:00<00:00, 360.62it/s]\n"
     ]
    },
    {
     "name": "stdout",
     "output_type": "stream",
     "text": [
      "Extracting ../Mesures/train\\youtube20230117_095221.csv.... 33/33\n"
     ]
    },
    {
     "name": "stderr",
     "output_type": "stream",
     "text": [
      "100%|███████████████████████████████████████████████████████████████████████████████| 140/140 [00:00<00:00, 213.77it/s]\n"
     ]
    },
    {
     "name": "stdout",
     "output_type": "stream",
     "text": [
      "Computing metrics and statistics...\n"
     ]
    },
    {
     "name": "stderr",
     "output_type": "stream",
     "text": [
      "100%|██████████████████████████████████████████████████████████████████████████████| 2958/2958 [00:58<00:00, 50.43it/s]\n"
     ]
    },
    {
     "name": "stdout",
     "output_type": "stream",
     "text": [
      "Dataset generation took : 267.2942044 s\n"
     ]
    }
   ],
   "source": [
    "time_counter = time.time_ns()\n",
    "\n",
    "df_test = load_and_preprocess_agg_metrics(\"../Mesures/test\")\n",
    "df_train = load_and_preprocess_agg_metrics(\"../Mesures/train\")\n",
    "\n",
    "\n",
    "process_duration = (time.time_ns() - time_counter)/(10**9)\n",
    "print(f\"Dataset generation took : {process_duration} s\")"
   ]
  },
  {
   "cell_type": "markdown",
   "id": "cd5f25a4",
   "metadata": {
    "scrolled": true
   },
   "source": [
    "# Scale"
   ]
  },
  {
   "cell_type": "code",
   "execution_count": 3,
   "id": "cd03094d",
   "metadata": {},
   "outputs": [
    {
     "data": {
      "text/html": [
       "<div>\n",
       "<style scoped>\n",
       "    .dataframe tbody tr th:only-of-type {\n",
       "        vertical-align: middle;\n",
       "    }\n",
       "\n",
       "    .dataframe tbody tr th {\n",
       "        vertical-align: top;\n",
       "    }\n",
       "\n",
       "    .dataframe thead th {\n",
       "        text-align: right;\n",
       "    }\n",
       "</style>\n",
       "<table border=\"1\" class=\"dataframe\">\n",
       "  <thead>\n",
       "    <tr style=\"text-align: right;\">\n",
       "      <th></th>\n",
       "      <th>reg_lin_R2_TBS_up</th>\n",
       "      <th>reg_lin_coef_A_TBS_up</th>\n",
       "      <th>p0_TBS_up</th>\n",
       "      <th>p10_TBS_up</th>\n",
       "      <th>p25_TBS_up</th>\n",
       "      <th>p50_TBS_up</th>\n",
       "      <th>p75_TBS_up</th>\n",
       "      <th>p90_TBS_up</th>\n",
       "      <th>p100_TBS_up</th>\n",
       "      <th>mean_TBS_up</th>\n",
       "      <th>...</th>\n",
       "      <th>p25_TBS_down</th>\n",
       "      <th>p50_TBS_down</th>\n",
       "      <th>p75_TBS_down</th>\n",
       "      <th>p90_TBS_down</th>\n",
       "      <th>p100_TBS_down</th>\n",
       "      <th>mean_TBS_down</th>\n",
       "      <th>std_TBS_down</th>\n",
       "      <th>sum_TBS_down</th>\n",
       "      <th>mean_per_time_TBS_down</th>\n",
       "      <th>label</th>\n",
       "    </tr>\n",
       "    <tr>\n",
       "      <th>id</th>\n",
       "      <th></th>\n",
       "      <th></th>\n",
       "      <th></th>\n",
       "      <th></th>\n",
       "      <th></th>\n",
       "      <th></th>\n",
       "      <th></th>\n",
       "      <th></th>\n",
       "      <th></th>\n",
       "      <th></th>\n",
       "      <th></th>\n",
       "      <th></th>\n",
       "      <th></th>\n",
       "      <th></th>\n",
       "      <th></th>\n",
       "      <th></th>\n",
       "      <th></th>\n",
       "      <th></th>\n",
       "      <th></th>\n",
       "      <th></th>\n",
       "      <th></th>\n",
       "    </tr>\n",
       "  </thead>\n",
       "  <tbody>\n",
       "    <tr>\n",
       "      <th>20221117_125310_4</th>\n",
       "      <td>1.077186</td>\n",
       "      <td>2.694860</td>\n",
       "      <td>-0.081577</td>\n",
       "      <td>0.062428</td>\n",
       "      <td>-0.008143</td>\n",
       "      <td>0.006715</td>\n",
       "      <td>1.315660</td>\n",
       "      <td>1.549406</td>\n",
       "      <td>2.195096</td>\n",
       "      <td>1.281451</td>\n",
       "      <td>...</td>\n",
       "      <td>-0.267103</td>\n",
       "      <td>-0.391628</td>\n",
       "      <td>-0.233581</td>\n",
       "      <td>-0.345754</td>\n",
       "      <td>0.730070</td>\n",
       "      <td>-0.352516</td>\n",
       "      <td>-0.432977</td>\n",
       "      <td>1.458055</td>\n",
       "      <td>0.125823</td>\n",
       "      <td>messenger</td>\n",
       "    </tr>\n",
       "    <tr>\n",
       "      <th>20221117_125310_8</th>\n",
       "      <td>1.057840</td>\n",
       "      <td>2.656602</td>\n",
       "      <td>-0.043356</td>\n",
       "      <td>0.062428</td>\n",
       "      <td>-0.008143</td>\n",
       "      <td>0.006715</td>\n",
       "      <td>1.468836</td>\n",
       "      <td>1.887631</td>\n",
       "      <td>1.445194</td>\n",
       "      <td>1.293917</td>\n",
       "      <td>...</td>\n",
       "      <td>-0.267103</td>\n",
       "      <td>-0.294564</td>\n",
       "      <td>-0.269686</td>\n",
       "      <td>-0.379575</td>\n",
       "      <td>-0.037002</td>\n",
       "      <td>-0.338950</td>\n",
       "      <td>-0.360367</td>\n",
       "      <td>-0.134412</td>\n",
       "      <td>0.173649</td>\n",
       "      <td>messenger</td>\n",
       "    </tr>\n",
       "    <tr>\n",
       "      <th>20221117_125310_7</th>\n",
       "      <td>1.069214</td>\n",
       "      <td>2.708880</td>\n",
       "      <td>-0.100687</td>\n",
       "      <td>0.014769</td>\n",
       "      <td>-0.008143</td>\n",
       "      <td>0.617064</td>\n",
       "      <td>1.583717</td>\n",
       "      <td>0.935317</td>\n",
       "      <td>1.277969</td>\n",
       "      <td>0.975863</td>\n",
       "      <td>...</td>\n",
       "      <td>-0.267103</td>\n",
       "      <td>-0.391628</td>\n",
       "      <td>-0.298570</td>\n",
       "      <td>-0.334480</td>\n",
       "      <td>-0.319292</td>\n",
       "      <td>-0.414956</td>\n",
       "      <td>-0.435672</td>\n",
       "      <td>-0.136610</td>\n",
       "      <td>-0.059457</td>\n",
       "      <td>messenger</td>\n",
       "    </tr>\n",
       "    <tr>\n",
       "      <th>20221117_125310_9</th>\n",
       "      <td>1.043604</td>\n",
       "      <td>2.788673</td>\n",
       "      <td>-0.024246</td>\n",
       "      <td>0.014769</td>\n",
       "      <td>-0.008143</td>\n",
       "      <td>0.769652</td>\n",
       "      <td>1.851775</td>\n",
       "      <td>1.549406</td>\n",
       "      <td>1.277969</td>\n",
       "      <td>1.398507</td>\n",
       "      <td>...</td>\n",
       "      <td>-0.267103</td>\n",
       "      <td>-0.294564</td>\n",
       "      <td>-0.269686</td>\n",
       "      <td>-0.300660</td>\n",
       "      <td>-0.485359</td>\n",
       "      <td>-0.343700</td>\n",
       "      <td>-0.438147</td>\n",
       "      <td>-0.137536</td>\n",
       "      <td>0.078958</td>\n",
       "      <td>messenger</td>\n",
       "    </tr>\n",
       "    <tr>\n",
       "      <th>20221117_125310_10</th>\n",
       "      <td>1.062619</td>\n",
       "      <td>2.303412</td>\n",
       "      <td>-0.081577</td>\n",
       "      <td>0.100556</td>\n",
       "      <td>0.067066</td>\n",
       "      <td>0.769652</td>\n",
       "      <td>1.622011</td>\n",
       "      <td>1.549406</td>\n",
       "      <td>1.277969</td>\n",
       "      <td>1.357842</td>\n",
       "      <td>...</td>\n",
       "      <td>-0.267103</td>\n",
       "      <td>-0.323476</td>\n",
       "      <td>-0.060274</td>\n",
       "      <td>-0.285629</td>\n",
       "      <td>-0.451570</td>\n",
       "      <td>-0.312272</td>\n",
       "      <td>-0.390384</td>\n",
       "      <td>-0.137277</td>\n",
       "      <td>0.217149</td>\n",
       "      <td>messenger</td>\n",
       "    </tr>\n",
       "    <tr>\n",
       "      <th>...</th>\n",
       "      <td>...</td>\n",
       "      <td>...</td>\n",
       "      <td>...</td>\n",
       "      <td>...</td>\n",
       "      <td>...</td>\n",
       "      <td>...</td>\n",
       "      <td>...</td>\n",
       "      <td>...</td>\n",
       "      <td>...</td>\n",
       "      <td>...</td>\n",
       "      <td>...</td>\n",
       "      <td>...</td>\n",
       "      <td>...</td>\n",
       "      <td>...</td>\n",
       "      <td>...</td>\n",
       "      <td>...</td>\n",
       "      <td>...</td>\n",
       "      <td>...</td>\n",
       "      <td>...</td>\n",
       "      <td>...</td>\n",
       "      <td>...</td>\n",
       "    </tr>\n",
       "    <tr>\n",
       "      <th>20230117_095221_139</th>\n",
       "      <td>1.034443</td>\n",
       "      <td>-0.204875</td>\n",
       "      <td>-0.081577</td>\n",
       "      <td>-0.023358</td>\n",
       "      <td>-0.092753</td>\n",
       "      <td>-0.176390</td>\n",
       "      <td>-0.311832</td>\n",
       "      <td>-0.062445</td>\n",
       "      <td>1.194356</td>\n",
       "      <td>-0.072056</td>\n",
       "      <td>...</td>\n",
       "      <td>0.612936</td>\n",
       "      <td>-0.067392</td>\n",
       "      <td>-0.388834</td>\n",
       "      <td>-0.432184</td>\n",
       "      <td>0.270929</td>\n",
       "      <td>-0.373078</td>\n",
       "      <td>-0.483401</td>\n",
       "      <td>-0.034620</td>\n",
       "      <td>0.219263</td>\n",
       "      <td>youtube</td>\n",
       "    </tr>\n",
       "    <tr>\n",
       "      <th>20230117_095221_140</th>\n",
       "      <td>0.885539</td>\n",
       "      <td>-0.204630</td>\n",
       "      <td>-0.043356</td>\n",
       "      <td>0.014769</td>\n",
       "      <td>-0.069250</td>\n",
       "      <td>-0.176390</td>\n",
       "      <td>-0.350126</td>\n",
       "      <td>1.464850</td>\n",
       "      <td>0.716196</td>\n",
       "      <td>0.103111</td>\n",
       "      <td>...</td>\n",
       "      <td>-0.278314</td>\n",
       "      <td>1.283245</td>\n",
       "      <td>0.201490</td>\n",
       "      <td>-0.243353</td>\n",
       "      <td>-0.547424</td>\n",
       "      <td>-0.051994</td>\n",
       "      <td>-0.363461</td>\n",
       "      <td>-0.124688</td>\n",
       "      <td>0.362876</td>\n",
       "      <td>youtube</td>\n",
       "    </tr>\n",
       "    <tr>\n",
       "      <th>20230117_095221_141</th>\n",
       "      <td>0.937766</td>\n",
       "      <td>-0.267343</td>\n",
       "      <td>-0.024246</td>\n",
       "      <td>-0.118677</td>\n",
       "      <td>-0.092753</td>\n",
       "      <td>-0.176390</td>\n",
       "      <td>-0.426714</td>\n",
       "      <td>-0.550756</td>\n",
       "      <td>1.194356</td>\n",
       "      <td>-0.136790</td>\n",
       "      <td>...</td>\n",
       "      <td>0.612936</td>\n",
       "      <td>-0.067392</td>\n",
       "      <td>-0.388834</td>\n",
       "      <td>0.169869</td>\n",
       "      <td>0.190412</td>\n",
       "      <td>0.080498</td>\n",
       "      <td>0.401415</td>\n",
       "      <td>-0.117173</td>\n",
       "      <td>0.565448</td>\n",
       "      <td>youtube</td>\n",
       "    </tr>\n",
       "    <tr>\n",
       "      <th>20230117_095221_142</th>\n",
       "      <td>-1.901599</td>\n",
       "      <td>-0.232009</td>\n",
       "      <td>-0.024246</td>\n",
       "      <td>-0.023358</td>\n",
       "      <td>-0.045747</td>\n",
       "      <td>-0.115355</td>\n",
       "      <td>-0.350126</td>\n",
       "      <td>-0.432378</td>\n",
       "      <td>-0.319382</td>\n",
       "      <td>-0.216183</td>\n",
       "      <td>...</td>\n",
       "      <td>0.612936</td>\n",
       "      <td>-0.067392</td>\n",
       "      <td>-0.388834</td>\n",
       "      <td>-0.550556</td>\n",
       "      <td>0.190412</td>\n",
       "      <td>-0.315558</td>\n",
       "      <td>-0.105314</td>\n",
       "      <td>-0.133780</td>\n",
       "      <td>0.141394</td>\n",
       "      <td>youtube</td>\n",
       "    </tr>\n",
       "    <tr>\n",
       "      <th>20230117_095221_143</th>\n",
       "      <td>0.936285</td>\n",
       "      <td>-0.282541</td>\n",
       "      <td>-0.043356</td>\n",
       "      <td>-0.128209</td>\n",
       "      <td>-0.092753</td>\n",
       "      <td>-0.237425</td>\n",
       "      <td>-0.441074</td>\n",
       "      <td>-0.404897</td>\n",
       "      <td>0.528067</td>\n",
       "      <td>-0.232086</td>\n",
       "      <td>...</td>\n",
       "      <td>0.455986</td>\n",
       "      <td>-0.067392</td>\n",
       "      <td>-0.388834</td>\n",
       "      <td>-0.550556</td>\n",
       "      <td>0.190412</td>\n",
       "      <td>-0.274722</td>\n",
       "      <td>-0.043837</td>\n",
       "      <td>-0.085713</td>\n",
       "      <td>0.262834</td>\n",
       "      <td>youtube</td>\n",
       "    </tr>\n",
       "  </tbody>\n",
       "</table>\n",
       "<p>2512 rows × 27 columns</p>\n",
       "</div>"
      ],
      "text/plain": [
       "                     reg_lin_R2_TBS_up  reg_lin_coef_A_TBS_up  p0_TBS_up  \\\n",
       "id                                                                         \n",
       "20221117_125310_4             1.077186               2.694860  -0.081577   \n",
       "20221117_125310_8             1.057840               2.656602  -0.043356   \n",
       "20221117_125310_7             1.069214               2.708880  -0.100687   \n",
       "20221117_125310_9             1.043604               2.788673  -0.024246   \n",
       "20221117_125310_10            1.062619               2.303412  -0.081577   \n",
       "...                                ...                    ...        ...   \n",
       "20230117_095221_139           1.034443              -0.204875  -0.081577   \n",
       "20230117_095221_140           0.885539              -0.204630  -0.043356   \n",
       "20230117_095221_141           0.937766              -0.267343  -0.024246   \n",
       "20230117_095221_142          -1.901599              -0.232009  -0.024246   \n",
       "20230117_095221_143           0.936285              -0.282541  -0.043356   \n",
       "\n",
       "                     p10_TBS_up  p25_TBS_up  p50_TBS_up  p75_TBS_up  \\\n",
       "id                                                                    \n",
       "20221117_125310_4      0.062428   -0.008143    0.006715    1.315660   \n",
       "20221117_125310_8      0.062428   -0.008143    0.006715    1.468836   \n",
       "20221117_125310_7      0.014769   -0.008143    0.617064    1.583717   \n",
       "20221117_125310_9      0.014769   -0.008143    0.769652    1.851775   \n",
       "20221117_125310_10     0.100556    0.067066    0.769652    1.622011   \n",
       "...                         ...         ...         ...         ...   \n",
       "20230117_095221_139   -0.023358   -0.092753   -0.176390   -0.311832   \n",
       "20230117_095221_140    0.014769   -0.069250   -0.176390   -0.350126   \n",
       "20230117_095221_141   -0.118677   -0.092753   -0.176390   -0.426714   \n",
       "20230117_095221_142   -0.023358   -0.045747   -0.115355   -0.350126   \n",
       "20230117_095221_143   -0.128209   -0.092753   -0.237425   -0.441074   \n",
       "\n",
       "                     p90_TBS_up  p100_TBS_up  mean_TBS_up  ...  p25_TBS_down  \\\n",
       "id                                                         ...                 \n",
       "20221117_125310_4      1.549406     2.195096     1.281451  ...     -0.267103   \n",
       "20221117_125310_8      1.887631     1.445194     1.293917  ...     -0.267103   \n",
       "20221117_125310_7      0.935317     1.277969     0.975863  ...     -0.267103   \n",
       "20221117_125310_9      1.549406     1.277969     1.398507  ...     -0.267103   \n",
       "20221117_125310_10     1.549406     1.277969     1.357842  ...     -0.267103   \n",
       "...                         ...          ...          ...  ...           ...   \n",
       "20230117_095221_139   -0.062445     1.194356    -0.072056  ...      0.612936   \n",
       "20230117_095221_140    1.464850     0.716196     0.103111  ...     -0.278314   \n",
       "20230117_095221_141   -0.550756     1.194356    -0.136790  ...      0.612936   \n",
       "20230117_095221_142   -0.432378    -0.319382    -0.216183  ...      0.612936   \n",
       "20230117_095221_143   -0.404897     0.528067    -0.232086  ...      0.455986   \n",
       "\n",
       "                     p50_TBS_down  p75_TBS_down  p90_TBS_down  p100_TBS_down  \\\n",
       "id                                                                             \n",
       "20221117_125310_4       -0.391628     -0.233581     -0.345754       0.730070   \n",
       "20221117_125310_8       -0.294564     -0.269686     -0.379575      -0.037002   \n",
       "20221117_125310_7       -0.391628     -0.298570     -0.334480      -0.319292   \n",
       "20221117_125310_9       -0.294564     -0.269686     -0.300660      -0.485359   \n",
       "20221117_125310_10      -0.323476     -0.060274     -0.285629      -0.451570   \n",
       "...                           ...           ...           ...            ...   \n",
       "20230117_095221_139     -0.067392     -0.388834     -0.432184       0.270929   \n",
       "20230117_095221_140      1.283245      0.201490     -0.243353      -0.547424   \n",
       "20230117_095221_141     -0.067392     -0.388834      0.169869       0.190412   \n",
       "20230117_095221_142     -0.067392     -0.388834     -0.550556       0.190412   \n",
       "20230117_095221_143     -0.067392     -0.388834     -0.550556       0.190412   \n",
       "\n",
       "                     mean_TBS_down  std_TBS_down  sum_TBS_down  \\\n",
       "id                                                               \n",
       "20221117_125310_4        -0.352516     -0.432977      1.458055   \n",
       "20221117_125310_8        -0.338950     -0.360367     -0.134412   \n",
       "20221117_125310_7        -0.414956     -0.435672     -0.136610   \n",
       "20221117_125310_9        -0.343700     -0.438147     -0.137536   \n",
       "20221117_125310_10       -0.312272     -0.390384     -0.137277   \n",
       "...                            ...           ...           ...   \n",
       "20230117_095221_139      -0.373078     -0.483401     -0.034620   \n",
       "20230117_095221_140      -0.051994     -0.363461     -0.124688   \n",
       "20230117_095221_141       0.080498      0.401415     -0.117173   \n",
       "20230117_095221_142      -0.315558     -0.105314     -0.133780   \n",
       "20230117_095221_143      -0.274722     -0.043837     -0.085713   \n",
       "\n",
       "                     mean_per_time_TBS_down      label  \n",
       "id                                                      \n",
       "20221117_125310_4                  0.125823  messenger  \n",
       "20221117_125310_8                  0.173649  messenger  \n",
       "20221117_125310_7                 -0.059457  messenger  \n",
       "20221117_125310_9                  0.078958  messenger  \n",
       "20221117_125310_10                 0.217149  messenger  \n",
       "...                                     ...        ...  \n",
       "20230117_095221_139                0.219263    youtube  \n",
       "20230117_095221_140                0.362876    youtube  \n",
       "20230117_095221_141                0.565448    youtube  \n",
       "20230117_095221_142                0.141394    youtube  \n",
       "20230117_095221_143                0.262834    youtube  \n",
       "\n",
       "[2512 rows x 27 columns]"
      ]
     },
     "execution_count": 3,
     "metadata": {},
     "output_type": "execute_result"
    }
   ],
   "source": [
    "scaler = Scaler_Metrics()\n",
    "training_data = scaler.fit_transform(df_train)\n",
    "testing_data = scaler.transform(df_test)\n",
    "training_data"
   ]
  },
  {
   "cell_type": "code",
   "execution_count": 4,
   "id": "8e5df180",
   "metadata": {},
   "outputs": [
    {
     "data": {
      "text/plain": [
       "reg_lin_R2_TBS_up          0\n",
       "reg_lin_coef_A_TBS_up      0\n",
       "p0_TBS_up                  0\n",
       "p10_TBS_up                 0\n",
       "p25_TBS_up                 0\n",
       "p50_TBS_up                 0\n",
       "p75_TBS_up                 0\n",
       "p90_TBS_up                 0\n",
       "p100_TBS_up                0\n",
       "mean_TBS_up                0\n",
       "std_TBS_up                 0\n",
       "sum_TBS_up                 0\n",
       "mean_per_time_TBS_up       0\n",
       "reg_lin_R2_TBS_down        0\n",
       "reg_lin_coef_A_TBS_down    0\n",
       "p0_TBS_down                0\n",
       "p10_TBS_down               0\n",
       "p25_TBS_down               0\n",
       "p50_TBS_down               0\n",
       "p75_TBS_down               0\n",
       "p90_TBS_down               0\n",
       "p100_TBS_down              0\n",
       "mean_TBS_down              0\n",
       "std_TBS_down               0\n",
       "sum_TBS_down               0\n",
       "mean_per_time_TBS_down     0\n",
       "label                      0\n",
       "dtype: int64"
      ]
     },
     "execution_count": 4,
     "metadata": {},
     "output_type": "execute_result"
    }
   ],
   "source": [
    "training_data.isna().sum()"
   ]
  },
  {
   "cell_type": "markdown",
   "id": "59d34fe0",
   "metadata": {},
   "source": [
    "# Remove Noise"
   ]
  },
  {
   "cell_type": "code",
   "execution_count": 5,
   "id": "e73db52a",
   "metadata": {},
   "outputs": [],
   "source": [
    "training_data = training_data[training_data .label!=\"noise\"]\n",
    "testing_data = testing_data[testing_data .label!=\"noise\"]"
   ]
  },
  {
   "cell_type": "markdown",
   "id": "f0b08ba3",
   "metadata": {},
   "source": [
    "# Train"
   ]
  },
  {
   "cell_type": "code",
   "execution_count": 6,
   "id": "3b0c06bd",
   "metadata": {},
   "outputs": [
    {
     "name": "stdout",
     "output_type": "stream",
     "text": [
      "Training Duration : 0.4260101 s for a dataset length of 999\n"
     ]
    }
   ],
   "source": [
    "time_counter = time.time_ns()\n",
    "\n",
    "model = RandomForestClassifier(class_weight = \"balanced\")\n",
    "model.fit(training_data[training_data.columns[:-1]], training_data.label)\n",
    "\n",
    "training_duration = (time.time_ns() - time_counter)/(10**9)\n",
    "print(f\"Training Duration : {training_duration} s for a dataset length of {len(training_data.label)}\")"
   ]
  },
  {
   "cell_type": "markdown",
   "id": "8471cbde",
   "metadata": {},
   "source": [
    "# Test"
   ]
  },
  {
   "cell_type": "code",
   "execution_count": 7,
   "id": "6c2b45c1",
   "metadata": {},
   "outputs": [
    {
     "name": "stdout",
     "output_type": "stream",
     "text": [
      "Testing Duration : 0.0247988 s for a dataset length of 421\n",
      "Testing Duration per data : 0.05890451306413302 ms\n"
     ]
    }
   ],
   "source": [
    "# mesure efficiency\n",
    "time_counter = time.time_ns()\n",
    "\n",
    "preds_labels =  model.predict(testing_data[testing_data.columns[:-1]])\n",
    "true_labels = testing_data.label\n",
    "\n",
    "testing_duration = (time.time_ns() - time_counter)/(10**9)\n",
    "print(f\"Testing Duration : {testing_duration} s for a dataset length of {len(testing_data.label)}\")\n",
    "testing_duration_per_item = testing_duration*(10**3)/len(testing_data.label)\n",
    "print(f\"Testing Duration per data : {testing_duration_per_item} ms\")"
   ]
  },
  {
   "cell_type": "code",
   "execution_count": 8,
   "id": "e75fb978",
   "metadata": {},
   "outputs": [
    {
     "name": "stdout",
     "output_type": "stream",
     "text": [
      "normalized confusion matrix\n"
     ]
    },
    {
     "data": {
      "image/png": "[encoded data removed]",
      "text/plain": [
       "<Figure size 432x432 with 2 Axes>"
      ]
     },
     "metadata": {
      "needs_background": "light"
     },
     "output_type": "display_data"
    }
   ],
   "source": [
    "plot_confusion_matrix(true_labels,preds_labels)"
   ]
  },
  {
   "cell_type": "code",
   "execution_count": 9,
   "id": "a1ebe613",
   "metadata": {},
   "outputs": [
    {
     "data": {
      "text/plain": [
       "{'Accuracy': 0.75,\n",
       " 'Precision': 0.9940675370309366,\n",
       " 'Recall': 0.9928741092636579,\n",
       " 'F1_Score': 0.9921968995906985,\n",
       " 'support': None}"
      ]
     },
     "execution_count": 9,
     "metadata": {},
     "output_type": "execute_result"
    }
   ],
   "source": [
    "get_scores(true_labels,preds_labels)"
   ]
  },
  {
   "cell_type": "code",
   "execution_count": 10,
   "id": "e14f6b32",
   "metadata": {},
   "outputs": [
    {
     "data": {
      "image/png": "[encoded data removed]",
      "text/plain": [
       "<Figure size 864x648 with 1 Axes>"
      ]
     },
     "metadata": {
      "needs_background": "light"
     },
     "output_type": "display_data"
    }
   ],
   "source": [
    "plot_feature_importance(model, training_data.columns[:-1])"
   ]
  }
 ],
 "metadata": {
  "kernelspec": {
   "display_name": "Python 3 (ipykernel)",
   "language": "python",
   "name": "python3"
  },
  "language_info": {
   "codemirror_mode": {
    "name": "ipython",
    "version": 3
   },
   "file_extension": ".py",
   "mimetype": "text/x-python",
   "name": "python",
   "nbconvert_exporter": "python",
   "pygments_lexer": "ipython3",
   "version": "3.9.12"
  }
 },
 "nbformat": 4,
 "nbformat_minor": 5
}
