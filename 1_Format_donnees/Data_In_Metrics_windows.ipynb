{
 "cells": [
  {
   "cell_type": "code",
   "execution_count": 15,
   "id": "64d67bad",
   "metadata": {},
   "outputs": [],
   "source": [
    "import os\n",
    "import pandas as pd\n",
    "import warnings\n",
    "import matplotlib.pyplot as plt\n",
    "\n",
    "import numpy as np\n",
    "import seaborn as sns\n",
    "import sys\n",
    "\n",
    "from sklearn.ensemble import RandomForestClassifier\n",
    "from tqdm import tqdm\n",
    "import time\n",
    "\n",
    "\n",
    "plt.rcParams[\"figure.figsize\"] = (9, 6)\n",
    "warnings.simplefilter(\"ignore\")\n",
    "\n",
    "sys.path.append(\"../1_Format_donnees/\")\n",
    "from aggregation import load_and_preprocess_agg_metrics, Scaler_Metrics\n",
    "sys.path.append(\"../\")\n",
    "\n",
    "from evaluate import plot_confusion_matrix, get_scores, plot_feature_importance\n",
    "\n",
    "### <8 mbits en cumsum = bruit "
   ]
  },
  {
   "cell_type": "code",
   "execution_count": 2,
   "id": "5ead135b",
   "metadata": {},
   "outputs": [],
   "source": [
    "WINDOW_SIZE = 60\n",
    "STEP = 15\n",
    "MIN_DURA = 15"
   ]
  },
  {
   "cell_type": "code",
   "execution_count": 3,
   "id": "ea796f28",
   "metadata": {
    "scrolled": true
   },
   "outputs": [
    {
     "name": "stdout",
     "output_type": "stream",
     "text": [
      "Load datasets...\n",
      "Extracting ../Mesures/test\\messenger20221124_151137.csv.... 1/7\n"
     ]
    },
    {
     "name": "stderr",
     "output_type": "stream",
     "text": [
      "100%|████████████████████████████████████████████████████████████████████████████████████| 5/5 [00:00<00:00, 16.47it/s]\n"
     ]
    },
    {
     "name": "stdout",
     "output_type": "stream",
     "text": [
      "Extracting ../Mesures/test\\messenger20230208_132747.csv.... 2/7\n"
     ]
    },
    {
     "name": "stderr",
     "output_type": "stream",
     "text": [
      "100%|██████████████████████████████████████████████████████████████████████████████████| 27/27 [00:02<00:00, 10.44it/s]\n"
     ]
    },
    {
     "name": "stdout",
     "output_type": "stream",
     "text": [
      "Extracting ../Mesures/test\\skype20221206_150902.csv.... 3/7\n"
     ]
    },
    {
     "name": "stderr",
     "output_type": "stream",
     "text": [
      "100%|████████████████████████████████████████████████████████████████████████████████████| 3/3 [00:00<00:00,  4.55it/s]\n"
     ]
    },
    {
     "name": "stdout",
     "output_type": "stream",
     "text": [
      "Extracting ../Mesures/test\\spotify20230127_134348.csv.... 4/7\n"
     ]
    },
    {
     "name": "stderr",
     "output_type": "stream",
     "text": [
      "100%|███████████████████████████████████████████████████████████████████████████████| 240/240 [00:00<00:00, 704.06it/s]\n"
     ]
    },
    {
     "name": "stdout",
     "output_type": "stream",
     "text": [
      "Extracting ../Mesures/test\\twitch20221124_163054.csv.... 5/7\n"
     ]
    },
    {
     "name": "stderr",
     "output_type": "stream",
     "text": [
      "100%|██████████████████████████████████████████████████████████████████████████████████| 12/12 [00:00<00:00, 28.42it/s]\n"
     ]
    },
    {
     "name": "stdout",
     "output_type": "stream",
     "text": [
      "Extracting ../Mesures/test\\youtube20221118_104205.csv.... 6/7\n"
     ]
    },
    {
     "name": "stderr",
     "output_type": "stream",
     "text": [
      "100%|███████████████████████████████████████████████████████████████████████████████| 218/218 [00:00<00:00, 693.61it/s]\n"
     ]
    },
    {
     "name": "stdout",
     "output_type": "stream",
     "text": [
      "Extracting ../Mesures/test\\youtube20230117_121925.csv.... 7/7\n"
     ]
    },
    {
     "name": "stderr",
     "output_type": "stream",
     "text": [
      "100%|███████████████████████████████████████████████████████████████████████████████| 260/260 [00:00<00:00, 516.34it/s]\n",
      "  0%|                                                                                          | 0/765 [00:00<?, ?it/s]"
     ]
    },
    {
     "name": "stdout",
     "output_type": "stream",
     "text": [
      "Splitting the data in windows...\n"
     ]
    },
    {
     "name": "stderr",
     "output_type": "stream",
     "text": [
      "100%|████████████████████████████████████████████████████████████████████████████████| 765/765 [03:03<00:00,  4.18it/s]\n",
      "  0%|                                                                                        | 0/10053 [00:00<?, ?it/s]"
     ]
    },
    {
     "name": "stdout",
     "output_type": "stream",
     "text": [
      "Computing metrics and statistics...\n"
     ]
    },
    {
     "name": "stderr",
     "output_type": "stream",
     "text": [
      "100%|████████████████████████████████████████████████████████████████████████████| 10053/10053 [04:23<00:00, 38.20it/s]\n"
     ]
    }
   ],
   "source": [
    "df_test = load_and_preprocess_agg_metrics(\"../Mesures/test\", window_size = WINDOW_SIZE, step = STEP, min_duration = MIN_DURA )"
   ]
  },
  {
   "cell_type": "code",
   "execution_count": null,
   "id": "6d9bbfcb",
   "metadata": {},
   "outputs": [],
   "source": []
  },
  {
   "cell_type": "code",
   "execution_count": 4,
   "id": "675f0647",
   "metadata": {
    "scrolled": true
   },
   "outputs": [
    {
     "name": "stdout",
     "output_type": "stream",
     "text": [
      "Load datasets...\n",
      "Extracting ../Mesures/train\\messenger20221117_125310.csv.... 1/39\n"
     ]
    },
    {
     "name": "stderr",
     "output_type": "stream",
     "text": [
      "100%|█████████████████████████████████████████████████████████████████████████████████| 15/15 [00:00<00:00, 166.34it/s]\n"
     ]
    },
    {
     "name": "stdout",
     "output_type": "stream",
     "text": [
      "Extracting ../Mesures/train\\messenger20221124_143112.csv.... 2/39\n"
     ]
    },
    {
     "name": "stderr",
     "output_type": "stream",
     "text": [
      "100%|██████████████████████████████████████████████████████████████████████████████████| 11/11 [00:00<00:00, 53.22it/s]\n"
     ]
    },
    {
     "name": "stdout",
     "output_type": "stream",
     "text": [
      "Extracting ../Mesures/train\\messenger20221125_130559.csv.... 3/39\n"
     ]
    },
    {
     "name": "stderr",
     "output_type": "stream",
     "text": [
      "100%|█████████████████████████████████████████████████████████████████████████████████| 38/38 [00:00<00:00, 116.58it/s]\n"
     ]
    },
    {
     "name": "stdout",
     "output_type": "stream",
     "text": [
      "Extracting ../Mesures/train\\messenger20221129_131204.csv.... 4/39\n"
     ]
    },
    {
     "name": "stderr",
     "output_type": "stream",
     "text": [
      "100%|██████████████████████████████████████████████████████████████████████████████████| 14/14 [00:00<00:00, 16.69it/s]\n"
     ]
    },
    {
     "name": "stdout",
     "output_type": "stream",
     "text": [
      "Extracting ../Mesures/train\\messenger20221129_151124.csv.... 5/39\n"
     ]
    },
    {
     "name": "stderr",
     "output_type": "stream",
     "text": [
      "100%|████████████████████████████████████████████████████████████████████████████████████| 5/5 [00:00<00:00,  9.42it/s]\n"
     ]
    },
    {
     "name": "stdout",
     "output_type": "stream",
     "text": [
      "Extracting ../Mesures/train\\messenger20230207_133921.csv.... 6/39\n"
     ]
    },
    {
     "name": "stderr",
     "output_type": "stream",
     "text": [
      "100%|████████████████████████████████████████████████████████████████████████████████████| 2/2 [00:00<00:00,  3.41it/s]\n"
     ]
    },
    {
     "name": "stdout",
     "output_type": "stream",
     "text": [
      "Extracting ../Mesures/train\\messenger20230209_083453.csv.... 7/39\n"
     ]
    },
    {
     "name": "stderr",
     "output_type": "stream",
     "text": [
      "100%|████████████████████████████████████████████████████████████████████████████████████| 5/5 [00:00<00:00,  6.68it/s]\n"
     ]
    },
    {
     "name": "stdout",
     "output_type": "stream",
     "text": [
      "Extracting ../Mesures/train\\pure_noise20230106_132210.csv.... 8/39\n"
     ]
    },
    {
     "name": "stderr",
     "output_type": "stream",
     "text": [
      "100%|███████████████████████████████████████████████████████████████████████████████| 805/805 [00:01<00:00, 588.14it/s]\n"
     ]
    },
    {
     "name": "stdout",
     "output_type": "stream",
     "text": [
      "Extracting ../Mesures/train\\skype20221129_164105.csv.... 9/39\n"
     ]
    },
    {
     "name": "stderr",
     "output_type": "stream",
     "text": [
      "100%|████████████████████████████████████████████████████████████████████████████████████| 5/5 [00:00<00:00, 18.46it/s]\n"
     ]
    },
    {
     "name": "stdout",
     "output_type": "stream",
     "text": [
      "Extracting ../Mesures/train\\skype20221206_125510.csv.... 10/39\n"
     ]
    },
    {
     "name": "stderr",
     "output_type": "stream",
     "text": [
      "100%|██████████████████████████████████████████████████████████████████████████████████| 19/19 [00:00<00:00, 49.02it/s]\n"
     ]
    },
    {
     "name": "stdout",
     "output_type": "stream",
     "text": [
      "Extracting ../Mesures/train\\skype20221208_104403.csv.... 11/39\n"
     ]
    },
    {
     "name": "stderr",
     "output_type": "stream",
     "text": [
      "100%|████████████████████████████████████████████████████████████████████████████████████| 7/7 [00:01<00:00,  5.57it/s]\n"
     ]
    },
    {
     "name": "stdout",
     "output_type": "stream",
     "text": [
      "Extracting ../Mesures/train\\skype20221208_124925.csv.... 12/39\n"
     ]
    },
    {
     "name": "stderr",
     "output_type": "stream",
     "text": [
      "100%|████████████████████████████████████████████████████████████████████████████████████| 6/6 [00:01<00:00,  3.67it/s]\n"
     ]
    },
    {
     "name": "stdout",
     "output_type": "stream",
     "text": [
      "Extracting ../Mesures/train\\skype20221215_151512.csv.... 13/39\n"
     ]
    },
    {
     "name": "stderr",
     "output_type": "stream",
     "text": [
      "100%|██████████████████████████████████████████████████████████████████████████████████| 23/23 [00:00<00:00, 59.04it/s]\n"
     ]
    },
    {
     "name": "stdout",
     "output_type": "stream",
     "text": [
      "Extracting ../Mesures/train\\skype20221215_155618.csv.... 14/39\n"
     ]
    },
    {
     "name": "stderr",
     "output_type": "stream",
     "text": [
      "100%|██████████████████████████████████████████████████████████████████████████████████| 19/19 [00:00<00:00, 39.43it/s]\n"
     ]
    },
    {
     "name": "stdout",
     "output_type": "stream",
     "text": [
      "Extracting ../Mesures/train\\skype20221215_164208.csv.... 15/39\n"
     ]
    },
    {
     "name": "stderr",
     "output_type": "stream",
     "text": [
      "100%|████████████████████████████████████████████████████████████████████████████████████| 5/5 [00:00<00:00,  8.66it/s]\n"
     ]
    },
    {
     "name": "stdout",
     "output_type": "stream",
     "text": [
      "Extracting ../Mesures/train\\skype20221215_174819.csv.... 16/39\n"
     ]
    },
    {
     "name": "stderr",
     "output_type": "stream",
     "text": [
      "100%|████████████████████████████████████████████████████████████████████████████████████| 6/6 [00:00<00:00, 12.98it/s]\n"
     ]
    },
    {
     "name": "stdout",
     "output_type": "stream",
     "text": [
      "Extracting ../Mesures/train\\spotify20230201_092702.csv.... 17/39\n"
     ]
    },
    {
     "name": "stderr",
     "output_type": "stream",
     "text": [
      "100%|█████████████████████████████████████████████████████████████████████████████| 1750/1750 [00:02<00:00, 726.72it/s]\n"
     ]
    },
    {
     "name": "stdout",
     "output_type": "stream",
     "text": [
      "Extracting ../Mesures/train\\spotify20230203_165507.csv.... 18/39\n"
     ]
    },
    {
     "name": "stderr",
     "output_type": "stream",
     "text": [
      "100%|███████████████████████████████████████████████████████████████████████████████| 522/522 [00:00<00:00, 852.61it/s]\n"
     ]
    },
    {
     "name": "stdout",
     "output_type": "stream",
     "text": [
      "Extracting ../Mesures/train\\spotify20230216_141318.csv.... 19/39\n"
     ]
    },
    {
     "name": "stderr",
     "output_type": "stream",
     "text": [
      "100%|███████████████████████████████████████████████████████████████████████████████| 364/364 [00:00<00:00, 856.68it/s]\n"
     ]
    },
    {
     "name": "stdout",
     "output_type": "stream",
     "text": [
      "Extracting ../Mesures/train\\twitch20221117_113554.csv.... 20/39\n"
     ]
    },
    {
     "name": "stderr",
     "output_type": "stream",
     "text": [
      "100%|█████████████████████████████████████████████████████████████████████████████████| 24/24 [00:00<00:00, 133.07it/s]\n"
     ]
    },
    {
     "name": "stdout",
     "output_type": "stream",
     "text": [
      "Extracting ../Mesures/train\\twitch20221118_075454.csv.... 21/39\n"
     ]
    },
    {
     "name": "stderr",
     "output_type": "stream",
     "text": [
      "100%|██████████████████████████████████████████████████████████████████████████████████| 16/16 [00:00<00:00, 72.93it/s]\n"
     ]
    },
    {
     "name": "stdout",
     "output_type": "stream",
     "text": [
      "Extracting ../Mesures/train\\twitch20221125_133859.csv.... 22/39\n"
     ]
    },
    {
     "name": "stderr",
     "output_type": "stream",
     "text": [
      "100%|████████████████████████████████████████████████████████████████████████████████| 108/108 [00:01<00:00, 95.51it/s]\n"
     ]
    },
    {
     "name": "stdout",
     "output_type": "stream",
     "text": [
      "Extracting ../Mesures/train\\twitch20230110_110215.csv.... 23/39\n"
     ]
    },
    {
     "name": "stderr",
     "output_type": "stream",
     "text": [
      "100%|█████████████████████████████████████████████████████████████████████████████████| 22/22 [00:00<00:00, 138.50it/s]\n"
     ]
    },
    {
     "name": "stdout",
     "output_type": "stream",
     "text": [
      "Extracting ../Mesures/train\\twitch20230110_120513.csv.... 24/39\n"
     ]
    },
    {
     "name": "stderr",
     "output_type": "stream",
     "text": [
      "100%|█████████████████████████████████████████████████████████████████████████████████| 59/59 [00:00<00:00, 340.23it/s]\n"
     ]
    },
    {
     "name": "stdout",
     "output_type": "stream",
     "text": [
      "Extracting ../Mesures/train\\twitch20230110_130648.csv.... 25/39\n"
     ]
    },
    {
     "name": "stderr",
     "output_type": "stream",
     "text": [
      "100%|███████████████████████████████████████████████████████████████████████████████| 426/426 [00:00<00:00, 632.09it/s]\n",
      "  0%|                                                                                           | 0/11 [00:00<?, ?it/s]"
     ]
    },
    {
     "name": "stdout",
     "output_type": "stream",
     "text": [
      "Extracting ../Mesures/train\\youtube20221108_165214.csv.... 26/39\n"
     ]
    },
    {
     "name": "stderr",
     "output_type": "stream",
     "text": [
      "100%|█████████████████████████████████████████████████████████████████████████████████| 11/11 [00:00<00:00, 528.13it/s]\n"
     ]
    },
    {
     "name": "stdout",
     "output_type": "stream",
     "text": [
      "Extracting ../Mesures/train\\youtube20221108_182416.csv.... 27/39\n"
     ]
    },
    {
     "name": "stderr",
     "output_type": "stream",
     "text": [
      "100%|███████████████████████████████████████████████████████████████████████████████████| 4/4 [00:00<00:00, 337.81it/s]\n"
     ]
    },
    {
     "name": "stdout",
     "output_type": "stream",
     "text": [
      "Extracting ../Mesures/train\\youtube20221124_125524.csv.... 28/39\n"
     ]
    },
    {
     "name": "stderr",
     "output_type": "stream",
     "text": [
      "100%|███████████████████████████████████████████████████████████████████████████████| 186/186 [00:00<00:00, 780.07it/s]\n"
     ]
    },
    {
     "name": "stdout",
     "output_type": "stream",
     "text": [
      "Extracting ../Mesures/train\\youtube20221124_154037.csv.... 29/39\n"
     ]
    },
    {
     "name": "stderr",
     "output_type": "stream",
     "text": [
      "100%|█████████████████████████████████████████████████████████████████████████████████| 92/92 [00:00<00:00, 767.16it/s]\n"
     ]
    },
    {
     "name": "stdout",
     "output_type": "stream",
     "text": [
      "Extracting ../Mesures/train\\youtube20221130_103723.csv.... 30/39\n"
     ]
    },
    {
     "name": "stderr",
     "output_type": "stream",
     "text": [
      "100%|█████████████████████████████████████████████████████████████████████████████████| 91/91 [00:00<00:00, 681.98it/s]\n",
      "  0%|                                                                                           | 0/94 [00:00<?, ?it/s]"
     ]
    },
    {
     "name": "stdout",
     "output_type": "stream",
     "text": [
      "Extracting ../Mesures/train\\youtube20230110_145404.csv.... 31/39\n"
     ]
    },
    {
     "name": "stderr",
     "output_type": "stream",
     "text": [
      "100%|█████████████████████████████████████████████████████████████████████████████████| 94/94 [00:00<00:00, 810.39it/s]\n"
     ]
    },
    {
     "name": "stdout",
     "output_type": "stream",
     "text": [
      "Extracting ../Mesures/train\\youtube20230110_161955.csv.... 32/39\n"
     ]
    },
    {
     "name": "stderr",
     "output_type": "stream",
     "text": [
      "100%|█████████████████████████████████████████████████████████████████████████████████| 90/90 [00:00<00:00, 733.93it/s]\n"
     ]
    },
    {
     "name": "stdout",
     "output_type": "stream",
     "text": [
      "Extracting ../Mesures/train\\youtube20230112_125508.csv.... 33/39\n"
     ]
    },
    {
     "name": "stderr",
     "output_type": "stream",
     "text": [
      "100%|███████████████████████████████████████████████████████████████████████████████| 108/108 [00:00<00:00, 533.73it/s]\n"
     ]
    },
    {
     "name": "stdout",
     "output_type": "stream",
     "text": [
      "Extracting ../Mesures/train\\youtube20230112_151029.csv.... 34/39\n"
     ]
    },
    {
     "name": "stderr",
     "output_type": "stream",
     "text": [
      "100%|█████████████████████████████████████████████████████████████████████████████████| 29/29 [00:00<00:00, 569.46it/s]\n"
     ]
    },
    {
     "name": "stdout",
     "output_type": "stream",
     "text": [
      "Extracting ../Mesures/train\\youtube20230112_154749.csv.... 35/39\n"
     ]
    },
    {
     "name": "stderr",
     "output_type": "stream",
     "text": [
      "100%|█████████████████████████████████████████████████████████████████████████████████| 32/32 [00:00<00:00, 499.84it/s]\n"
     ]
    },
    {
     "name": "stdout",
     "output_type": "stream",
     "text": [
      "Extracting ../Mesures/train\\youtube20230112_163634.csv.... 36/39\n"
     ]
    },
    {
     "name": "stderr",
     "output_type": "stream",
     "text": [
      "100%|█████████████████████████████████████████████████████████████████████████████████| 65/65 [00:00<00:00, 391.89it/s]\n"
     ]
    },
    {
     "name": "stdout",
     "output_type": "stream",
     "text": [
      "Extracting ../Mesures/train\\youtube20230117_095221.csv.... 37/39\n"
     ]
    },
    {
     "name": "stderr",
     "output_type": "stream",
     "text": [
      "100%|███████████████████████████████████████████████████████████████████████████████| 140/140 [00:00<00:00, 342.00it/s]\n"
     ]
    },
    {
     "name": "stdout",
     "output_type": "stream",
     "text": [
      "Extracting ../Mesures/train\\youtube20230118_134041.csv.... 38/39\n"
     ]
    },
    {
     "name": "stderr",
     "output_type": "stream",
     "text": [
      "100%|███████████████████████████████████████████████████████████████████████████████| 212/212 [00:00<00:00, 269.11it/s]\n"
     ]
    },
    {
     "name": "stdout",
     "output_type": "stream",
     "text": [
      "Extracting ../Mesures/train\\youtube20230124_124323.csv.... 39/39\n"
     ]
    },
    {
     "name": "stderr",
     "output_type": "stream",
     "text": [
      "100%|███████████████████████████████████████████████████████████████████████████████| 163/163 [00:00<00:00, 241.74it/s]\n",
      "  0%|                                                                                         | 0/5593 [00:00<?, ?it/s]"
     ]
    },
    {
     "name": "stdout",
     "output_type": "stream",
     "text": [
      "Splitting the data in windows...\n"
     ]
    },
    {
     "name": "stderr",
     "output_type": "stream",
     "text": [
      "100%|██████████████████████████████████████████████████████████████████████████████| 5593/5593 [03:33<00:00, 26.25it/s]\n",
      "  0%|                                                                                        | 0/23657 [00:00<?, ?it/s]"
     ]
    },
    {
     "name": "stdout",
     "output_type": "stream",
     "text": [
      "Computing metrics and statistics...\n"
     ]
    },
    {
     "name": "stderr",
     "output_type": "stream",
     "text": [
      "100%|████████████████████████████████████████████████████████████████████████████| 23657/23657 [13:08<00:00, 30.00it/s]\n"
     ]
    }
   ],
   "source": [
    "df_train = load_and_preprocess_agg_metrics(\"../Mesures/train\", window_size = WINDOW_SIZE, step = STEP)"
   ]
  },
  {
   "cell_type": "code",
   "execution_count": null,
   "id": "8e5df180",
   "metadata": {},
   "outputs": [],
   "source": []
  },
  {
   "cell_type": "code",
   "execution_count": 5,
   "id": "cd03094d",
   "metadata": {},
   "outputs": [
    {
     "name": "stdout",
     "output_type": "stream",
     "text": [
      "id\n",
      "20221124_151137_4_0       messenger\n",
      "20221124_151137_4_15      messenger\n",
      "20221124_151137_4_30      messenger\n",
      "20221124_151137_4_45      messenger\n",
      "20221124_151137_4_60      messenger\n",
      "                            ...    \n",
      "20230117_121925_262_45      youtube\n",
      "20230117_121925_263_0       youtube\n",
      "20230117_121925_263_15      youtube\n",
      "20230117_121925_263_30      youtube\n",
      "20230117_121925_263_45      youtube\n",
      "Name: label, Length: 10053, dtype: object\n"
     ]
    },
    {
     "data": {
      "text/html": [
       "<div>\n",
       "<style scoped>\n",
       "    .dataframe tbody tr th:only-of-type {\n",
       "        vertical-align: middle;\n",
       "    }\n",
       "\n",
       "    .dataframe tbody tr th {\n",
       "        vertical-align: top;\n",
       "    }\n",
       "\n",
       "    .dataframe thead th {\n",
       "        text-align: right;\n",
       "    }\n",
       "</style>\n",
       "<table border=\"1\" class=\"dataframe\">\n",
       "  <thead>\n",
       "    <tr style=\"text-align: right;\">\n",
       "      <th></th>\n",
       "      <th>reg_lin_R2_TBS_1</th>\n",
       "      <th>reg_lin_coef_A_TBS_1</th>\n",
       "      <th>reg_lin_R2_TBS_2</th>\n",
       "      <th>reg_lin_coef_A_TBS_2</th>\n",
       "      <th>p0_TBS_1</th>\n",
       "      <th>p10_TBS_1</th>\n",
       "      <th>p25_TBS_1</th>\n",
       "      <th>p50_TBS_1</th>\n",
       "      <th>p75_TBS_1</th>\n",
       "      <th>p90_TBS_1</th>\n",
       "      <th>...</th>\n",
       "      <th>p0_TBS_2</th>\n",
       "      <th>p10_TBS_2</th>\n",
       "      <th>p25_TBS_2</th>\n",
       "      <th>p50_TBS_2</th>\n",
       "      <th>p75_TBS_2</th>\n",
       "      <th>p90_TBS_2</th>\n",
       "      <th>p100_TBS_2</th>\n",
       "      <th>mean_TBS_2</th>\n",
       "      <th>std_TBS_2</th>\n",
       "      <th>label</th>\n",
       "    </tr>\n",
       "    <tr>\n",
       "      <th>id</th>\n",
       "      <th></th>\n",
       "      <th></th>\n",
       "      <th></th>\n",
       "      <th></th>\n",
       "      <th></th>\n",
       "      <th></th>\n",
       "      <th></th>\n",
       "      <th></th>\n",
       "      <th></th>\n",
       "      <th></th>\n",
       "      <th></th>\n",
       "      <th></th>\n",
       "      <th></th>\n",
       "      <th></th>\n",
       "      <th></th>\n",
       "      <th></th>\n",
       "      <th></th>\n",
       "      <th></th>\n",
       "      <th></th>\n",
       "      <th></th>\n",
       "      <th></th>\n",
       "    </tr>\n",
       "  </thead>\n",
       "  <tbody>\n",
       "    <tr>\n",
       "      <th>20221117_125310_4_0</th>\n",
       "      <td>-1.560050</td>\n",
       "      <td>-1.812626</td>\n",
       "      <td>-1.283716</td>\n",
       "      <td>0.078312</td>\n",
       "      <td>0.950764</td>\n",
       "      <td>0.019189</td>\n",
       "      <td>-0.598191</td>\n",
       "      <td>-0.793162</td>\n",
       "      <td>-1.318202</td>\n",
       "      <td>-1.700821</td>\n",
       "      <td>...</td>\n",
       "      <td>-0.021748</td>\n",
       "      <td>-0.023254</td>\n",
       "      <td>-0.023254</td>\n",
       "      <td>-0.023806</td>\n",
       "      <td>-0.023806</td>\n",
       "      <td>-0.024347</td>\n",
       "      <td>0.551143</td>\n",
       "      <td>0.051724</td>\n",
       "      <td>2.484473</td>\n",
       "      <td>messenger</td>\n",
       "    </tr>\n",
       "    <tr>\n",
       "      <th>20221117_125310_4_15</th>\n",
       "      <td>-1.695143</td>\n",
       "      <td>-1.848090</td>\n",
       "      <td>0.848813</td>\n",
       "      <td>-0.494964</td>\n",
       "      <td>1.355171</td>\n",
       "      <td>0.019189</td>\n",
       "      <td>-0.598191</td>\n",
       "      <td>-0.819306</td>\n",
       "      <td>-1.328732</td>\n",
       "      <td>-1.850915</td>\n",
       "      <td>...</td>\n",
       "      <td>-0.021748</td>\n",
       "      <td>-0.023254</td>\n",
       "      <td>-0.023254</td>\n",
       "      <td>-0.023806</td>\n",
       "      <td>-0.023806</td>\n",
       "      <td>-0.024347</td>\n",
       "      <td>-0.703809</td>\n",
       "      <td>-0.032369</td>\n",
       "      <td>-0.627559</td>\n",
       "      <td>messenger</td>\n",
       "    </tr>\n",
       "    <tr>\n",
       "      <th>20221117_125310_4_30</th>\n",
       "      <td>-5.191894</td>\n",
       "      <td>-1.742466</td>\n",
       "      <td>-0.766425</td>\n",
       "      <td>0.156676</td>\n",
       "      <td>1.355171</td>\n",
       "      <td>0.019189</td>\n",
       "      <td>-0.598191</td>\n",
       "      <td>-0.772248</td>\n",
       "      <td>-1.276081</td>\n",
       "      <td>-0.981053</td>\n",
       "      <td>...</td>\n",
       "      <td>-0.021748</td>\n",
       "      <td>-0.023254</td>\n",
       "      <td>-0.023254</td>\n",
       "      <td>-0.023806</td>\n",
       "      <td>-0.023806</td>\n",
       "      <td>-0.024347</td>\n",
       "      <td>0.551143</td>\n",
       "      <td>0.005889</td>\n",
       "      <td>1.471505</td>\n",
       "      <td>messenger</td>\n",
       "    </tr>\n",
       "    <tr>\n",
       "      <th>20221117_125310_4_45</th>\n",
       "      <td>-1.577267</td>\n",
       "      <td>-0.958526</td>\n",
       "      <td>-1.220773</td>\n",
       "      <td>0.101800</td>\n",
       "      <td>1.355171</td>\n",
       "      <td>0.019189</td>\n",
       "      <td>-0.598191</td>\n",
       "      <td>-0.688590</td>\n",
       "      <td>-0.728518</td>\n",
       "      <td>-0.520538</td>\n",
       "      <td>...</td>\n",
       "      <td>-0.021748</td>\n",
       "      <td>-0.023254</td>\n",
       "      <td>-0.023254</td>\n",
       "      <td>-0.023806</td>\n",
       "      <td>-0.023806</td>\n",
       "      <td>-0.024347</td>\n",
       "      <td>0.551143</td>\n",
       "      <td>-0.014928</td>\n",
       "      <td>0.789716</td>\n",
       "      <td>messenger</td>\n",
       "    </tr>\n",
       "    <tr>\n",
       "      <th>20221117_125310_4_60</th>\n",
       "      <td>-0.033354</td>\n",
       "      <td>-0.528633</td>\n",
       "      <td>-2.099111</td>\n",
       "      <td>-0.236088</td>\n",
       "      <td>1.355171</td>\n",
       "      <td>0.019189</td>\n",
       "      <td>-0.598191</td>\n",
       "      <td>-0.688590</td>\n",
       "      <td>-0.728518</td>\n",
       "      <td>-0.452313</td>\n",
       "      <td>...</td>\n",
       "      <td>-0.021748</td>\n",
       "      <td>-0.023254</td>\n",
       "      <td>-0.023254</td>\n",
       "      <td>-0.023806</td>\n",
       "      <td>-0.023806</td>\n",
       "      <td>-0.024347</td>\n",
       "      <td>0.551143</td>\n",
       "      <td>-0.021354</td>\n",
       "      <td>0.498734</td>\n",
       "      <td>messenger</td>\n",
       "    </tr>\n",
       "    <tr>\n",
       "      <th>...</th>\n",
       "      <td>...</td>\n",
       "      <td>...</td>\n",
       "      <td>...</td>\n",
       "      <td>...</td>\n",
       "      <td>...</td>\n",
       "      <td>...</td>\n",
       "      <td>...</td>\n",
       "      <td>...</td>\n",
       "      <td>...</td>\n",
       "      <td>...</td>\n",
       "      <td>...</td>\n",
       "      <td>...</td>\n",
       "      <td>...</td>\n",
       "      <td>...</td>\n",
       "      <td>...</td>\n",
       "      <td>...</td>\n",
       "      <td>...</td>\n",
       "      <td>...</td>\n",
       "      <td>...</td>\n",
       "      <td>...</td>\n",
       "      <td>...</td>\n",
       "    </tr>\n",
       "    <tr>\n",
       "      <th>20230124_124323_161_135</th>\n",
       "      <td>-0.924432</td>\n",
       "      <td>-1.342846</td>\n",
       "      <td>0.848813</td>\n",
       "      <td>-0.494964</td>\n",
       "      <td>0.141951</td>\n",
       "      <td>0.019189</td>\n",
       "      <td>-0.598191</td>\n",
       "      <td>-0.840220</td>\n",
       "      <td>-1.318202</td>\n",
       "      <td>-0.123983</td>\n",
       "      <td>...</td>\n",
       "      <td>-0.021748</td>\n",
       "      <td>-0.023254</td>\n",
       "      <td>-0.023254</td>\n",
       "      <td>-0.023806</td>\n",
       "      <td>-0.023806</td>\n",
       "      <td>-0.024347</td>\n",
       "      <td>-0.703809</td>\n",
       "      <td>-0.032369</td>\n",
       "      <td>-0.627559</td>\n",
       "      <td>youtube</td>\n",
       "    </tr>\n",
       "    <tr>\n",
       "      <th>20230124_124323_161_150</th>\n",
       "      <td>-1.867045</td>\n",
       "      <td>-1.444788</td>\n",
       "      <td>0.848813</td>\n",
       "      <td>-0.494964</td>\n",
       "      <td>0.141951</td>\n",
       "      <td>0.019189</td>\n",
       "      <td>-0.598191</td>\n",
       "      <td>-0.840220</td>\n",
       "      <td>-1.318202</td>\n",
       "      <td>-0.123983</td>\n",
       "      <td>...</td>\n",
       "      <td>-0.021748</td>\n",
       "      <td>-0.023254</td>\n",
       "      <td>-0.023254</td>\n",
       "      <td>-0.023806</td>\n",
       "      <td>-0.023806</td>\n",
       "      <td>-0.024347</td>\n",
       "      <td>-0.703809</td>\n",
       "      <td>-0.032369</td>\n",
       "      <td>-0.627559</td>\n",
       "      <td>youtube</td>\n",
       "    </tr>\n",
       "    <tr>\n",
       "      <th>20230124_124323_166_0</th>\n",
       "      <td>-0.050417</td>\n",
       "      <td>-1.282857</td>\n",
       "      <td>0.848813</td>\n",
       "      <td>-0.494964</td>\n",
       "      <td>-1.071268</td>\n",
       "      <td>0.019189</td>\n",
       "      <td>-0.598191</td>\n",
       "      <td>-0.667675</td>\n",
       "      <td>-1.233961</td>\n",
       "      <td>-1.288063</td>\n",
       "      <td>...</td>\n",
       "      <td>-0.021748</td>\n",
       "      <td>-0.023254</td>\n",
       "      <td>-0.023254</td>\n",
       "      <td>-0.023806</td>\n",
       "      <td>-0.023806</td>\n",
       "      <td>-0.024347</td>\n",
       "      <td>-0.703809</td>\n",
       "      <td>-0.032369</td>\n",
       "      <td>-0.627559</td>\n",
       "      <td>youtube</td>\n",
       "    </tr>\n",
       "    <tr>\n",
       "      <th>20230124_124323_166_15</th>\n",
       "      <td>-0.305694</td>\n",
       "      <td>-1.056194</td>\n",
       "      <td>0.848813</td>\n",
       "      <td>-0.494964</td>\n",
       "      <td>0.950764</td>\n",
       "      <td>0.019189</td>\n",
       "      <td>-0.598191</td>\n",
       "      <td>-0.667675</td>\n",
       "      <td>-1.023360</td>\n",
       "      <td>-0.192208</td>\n",
       "      <td>...</td>\n",
       "      <td>-0.021748</td>\n",
       "      <td>-0.023254</td>\n",
       "      <td>-0.023254</td>\n",
       "      <td>-0.023806</td>\n",
       "      <td>-0.023806</td>\n",
       "      <td>-0.024347</td>\n",
       "      <td>-0.703809</td>\n",
       "      <td>-0.032369</td>\n",
       "      <td>-0.627559</td>\n",
       "      <td>youtube</td>\n",
       "    </tr>\n",
       "    <tr>\n",
       "      <th>20230124_124323_166_30</th>\n",
       "      <td>-0.386504</td>\n",
       "      <td>-1.091948</td>\n",
       "      <td>0.848813</td>\n",
       "      <td>-0.494964</td>\n",
       "      <td>0.950764</td>\n",
       "      <td>0.019189</td>\n",
       "      <td>-0.598191</td>\n",
       "      <td>-0.688590</td>\n",
       "      <td>-1.023360</td>\n",
       "      <td>-0.192208</td>\n",
       "      <td>...</td>\n",
       "      <td>-0.021748</td>\n",
       "      <td>-0.023254</td>\n",
       "      <td>-0.023254</td>\n",
       "      <td>-0.023806</td>\n",
       "      <td>-0.023806</td>\n",
       "      <td>-0.024347</td>\n",
       "      <td>-0.703809</td>\n",
       "      <td>-0.032369</td>\n",
       "      <td>-0.627559</td>\n",
       "      <td>youtube</td>\n",
       "    </tr>\n",
       "  </tbody>\n",
       "</table>\n",
       "<p>23657 rows × 23 columns</p>\n",
       "</div>"
      ],
      "text/plain": [
       "                         reg_lin_R2_TBS_1  reg_lin_coef_A_TBS_1  \\\n",
       "id                                                                \n",
       "20221117_125310_4_0             -1.560050             -1.812626   \n",
       "20221117_125310_4_15            -1.695143             -1.848090   \n",
       "20221117_125310_4_30            -5.191894             -1.742466   \n",
       "20221117_125310_4_45            -1.577267             -0.958526   \n",
       "20221117_125310_4_60            -0.033354             -0.528633   \n",
       "...                                   ...                   ...   \n",
       "20230124_124323_161_135         -0.924432             -1.342846   \n",
       "20230124_124323_161_150         -1.867045             -1.444788   \n",
       "20230124_124323_166_0           -0.050417             -1.282857   \n",
       "20230124_124323_166_15          -0.305694             -1.056194   \n",
       "20230124_124323_166_30          -0.386504             -1.091948   \n",
       "\n",
       "                         reg_lin_R2_TBS_2  reg_lin_coef_A_TBS_2  p0_TBS_1  \\\n",
       "id                                                                          \n",
       "20221117_125310_4_0             -1.283716              0.078312  0.950764   \n",
       "20221117_125310_4_15             0.848813             -0.494964  1.355171   \n",
       "20221117_125310_4_30            -0.766425              0.156676  1.355171   \n",
       "20221117_125310_4_45            -1.220773              0.101800  1.355171   \n",
       "20221117_125310_4_60            -2.099111             -0.236088  1.355171   \n",
       "...                                   ...                   ...       ...   \n",
       "20230124_124323_161_135          0.848813             -0.494964  0.141951   \n",
       "20230124_124323_161_150          0.848813             -0.494964  0.141951   \n",
       "20230124_124323_166_0            0.848813             -0.494964 -1.071268   \n",
       "20230124_124323_166_15           0.848813             -0.494964  0.950764   \n",
       "20230124_124323_166_30           0.848813             -0.494964  0.950764   \n",
       "\n",
       "                         p10_TBS_1  p25_TBS_1  p50_TBS_1  p75_TBS_1  \\\n",
       "id                                                                    \n",
       "20221117_125310_4_0       0.019189  -0.598191  -0.793162  -1.318202   \n",
       "20221117_125310_4_15      0.019189  -0.598191  -0.819306  -1.328732   \n",
       "20221117_125310_4_30      0.019189  -0.598191  -0.772248  -1.276081   \n",
       "20221117_125310_4_45      0.019189  -0.598191  -0.688590  -0.728518   \n",
       "20221117_125310_4_60      0.019189  -0.598191  -0.688590  -0.728518   \n",
       "...                            ...        ...        ...        ...   \n",
       "20230124_124323_161_135   0.019189  -0.598191  -0.840220  -1.318202   \n",
       "20230124_124323_161_150   0.019189  -0.598191  -0.840220  -1.318202   \n",
       "20230124_124323_166_0     0.019189  -0.598191  -0.667675  -1.233961   \n",
       "20230124_124323_166_15    0.019189  -0.598191  -0.667675  -1.023360   \n",
       "20230124_124323_166_30    0.019189  -0.598191  -0.688590  -1.023360   \n",
       "\n",
       "                         p90_TBS_1  ...  p0_TBS_2  p10_TBS_2  p25_TBS_2  \\\n",
       "id                                  ...                                   \n",
       "20221117_125310_4_0      -1.700821  ... -0.021748  -0.023254  -0.023254   \n",
       "20221117_125310_4_15     -1.850915  ... -0.021748  -0.023254  -0.023254   \n",
       "20221117_125310_4_30     -0.981053  ... -0.021748  -0.023254  -0.023254   \n",
       "20221117_125310_4_45     -0.520538  ... -0.021748  -0.023254  -0.023254   \n",
       "20221117_125310_4_60     -0.452313  ... -0.021748  -0.023254  -0.023254   \n",
       "...                            ...  ...       ...        ...        ...   \n",
       "20230124_124323_161_135  -0.123983  ... -0.021748  -0.023254  -0.023254   \n",
       "20230124_124323_161_150  -0.123983  ... -0.021748  -0.023254  -0.023254   \n",
       "20230124_124323_166_0    -1.288063  ... -0.021748  -0.023254  -0.023254   \n",
       "20230124_124323_166_15   -0.192208  ... -0.021748  -0.023254  -0.023254   \n",
       "20230124_124323_166_30   -0.192208  ... -0.021748  -0.023254  -0.023254   \n",
       "\n",
       "                         p50_TBS_2  p75_TBS_2  p90_TBS_2  p100_TBS_2  \\\n",
       "id                                                                     \n",
       "20221117_125310_4_0      -0.023806  -0.023806  -0.024347    0.551143   \n",
       "20221117_125310_4_15     -0.023806  -0.023806  -0.024347   -0.703809   \n",
       "20221117_125310_4_30     -0.023806  -0.023806  -0.024347    0.551143   \n",
       "20221117_125310_4_45     -0.023806  -0.023806  -0.024347    0.551143   \n",
       "20221117_125310_4_60     -0.023806  -0.023806  -0.024347    0.551143   \n",
       "...                            ...        ...        ...         ...   \n",
       "20230124_124323_161_135  -0.023806  -0.023806  -0.024347   -0.703809   \n",
       "20230124_124323_161_150  -0.023806  -0.023806  -0.024347   -0.703809   \n",
       "20230124_124323_166_0    -0.023806  -0.023806  -0.024347   -0.703809   \n",
       "20230124_124323_166_15   -0.023806  -0.023806  -0.024347   -0.703809   \n",
       "20230124_124323_166_30   -0.023806  -0.023806  -0.024347   -0.703809   \n",
       "\n",
       "                         mean_TBS_2  std_TBS_2      label  \n",
       "id                                                         \n",
       "20221117_125310_4_0        0.051724   2.484473  messenger  \n",
       "20221117_125310_4_15      -0.032369  -0.627559  messenger  \n",
       "20221117_125310_4_30       0.005889   1.471505  messenger  \n",
       "20221117_125310_4_45      -0.014928   0.789716  messenger  \n",
       "20221117_125310_4_60      -0.021354   0.498734  messenger  \n",
       "...                             ...        ...        ...  \n",
       "20230124_124323_161_135   -0.032369  -0.627559    youtube  \n",
       "20230124_124323_161_150   -0.032369  -0.627559    youtube  \n",
       "20230124_124323_166_0     -0.032369  -0.627559    youtube  \n",
       "20230124_124323_166_15    -0.032369  -0.627559    youtube  \n",
       "20230124_124323_166_30    -0.032369  -0.627559    youtube  \n",
       "\n",
       "[23657 rows x 23 columns]"
      ]
     },
     "execution_count": 5,
     "metadata": {},
     "output_type": "execute_result"
    }
   ],
   "source": [
    "scaler = Scaler_Metrics()\n",
    "training_data = scaler.fit_transform(df_train)\n",
    "testing_data = scaler.transform(df_test)\n",
    "training_data"
   ]
  },
  {
   "cell_type": "code",
   "execution_count": 6,
   "id": "e73db52a",
   "metadata": {},
   "outputs": [],
   "source": [
    "training_data = training_data[training_data .label!=\"noise\"]\n",
    "testing_data = testing_data[testing_data .label!=\"noise\"]"
   ]
  },
  {
   "cell_type": "code",
   "execution_count": null,
   "id": "118ea53f",
   "metadata": {},
   "outputs": [],
   "source": []
  },
  {
   "cell_type": "code",
   "execution_count": 7,
   "id": "3b0c06bd",
   "metadata": {},
   "outputs": [
    {
     "name": "stdout",
     "output_type": "stream",
     "text": [
      "Training Duration : 3.1543077 s for a dataset length of 23474\n"
     ]
    }
   ],
   "source": [
    "time_counter = time.time_ns()\n",
    "\n",
    "model = RandomForestClassifier(class_weight = \"balanced\")\n",
    "model.fit(training_data[training_data.columns[:-1]], training_data.label)\n",
    "\n",
    "training_duration = (time.time_ns() - time_counter)/(10**9)\n",
    "print(f\"Training Duration : {training_duration} s for a dataset length of {len(training_data.label)}\")"
   ]
  },
  {
   "cell_type": "code",
   "execution_count": 8,
   "id": "6c2b45c1",
   "metadata": {},
   "outputs": [
    {
     "name": "stdout",
     "output_type": "stream",
     "text": [
      "Testing Duration : 0.116053 s for a dataset length of 10044\n",
      "Testing Duration per data : 0.011554460374352846 ms\n"
     ]
    }
   ],
   "source": [
    "# mesure efficiency\n",
    "time_counter = time.time_ns()\n",
    "\n",
    "preds_labels =  model.predict(testing_data[testing_data.columns[:-1]])\n",
    "true_labels = testing_data.label\n",
    "\n",
    "testing_duration = (time.time_ns() - time_counter)/(10**9)\n",
    "print(f\"Testing Duration : {testing_duration} s for a dataset length of {len(testing_data.label)}\")\n",
    "testing_duration_per_item = testing_duration*(10**3)/len(testing_data.label)\n",
    "print(f\"Testing Duration per data : {testing_duration_per_item} ms\")"
   ]
  },
  {
   "cell_type": "code",
   "execution_count": 9,
   "id": "e75fb978",
   "metadata": {},
   "outputs": [
    {
     "name": "stdout",
     "output_type": "stream",
     "text": [
      "normalized confusion matrix\n"
     ]
    },
    {
     "data": {
      "image/png": "[encoded data removed]",
      "text/plain": [
       "<Figure size 432x432 with 2 Axes>"
      ]
     },
     "metadata": {
      "needs_background": "light"
     },
     "output_type": "display_data"
    }
   ],
   "source": [
    "plot_confusion_matrix(true_labels,preds_labels)"
   ]
  },
  {
   "cell_type": "code",
   "execution_count": 10,
   "id": "a1ebe613",
   "metadata": {},
   "outputs": [
    {
     "data": {
      "text/plain": [
       "{'Accuracy': 0.8254585090929769,\n",
       " 'Precision': 0.8716360344716674,\n",
       " 'Recall': 0.6464555953803266,\n",
       " 'F1_Score': 0.6825246730627639,\n",
       " 'support': None}"
      ]
     },
     "execution_count": 10,
     "metadata": {},
     "output_type": "execute_result"
    }
   ],
   "source": [
    "get_scores(true_labels,preds_labels)"
   ]
  },
  {
   "cell_type": "code",
   "execution_count": null,
   "id": "e14f6b32",
   "metadata": {},
   "outputs": [],
   "source": []
  },
  {
   "cell_type": "code",
   "execution_count": 16,
   "id": "a6f2b4ab",
   "metadata": {},
   "outputs": [
    {
     "data": {
      "image/png": "[encoded data removed]",
      "text/plain": [
       "<Figure size 648x432 with 1 Axes>"
      ]
     },
     "metadata": {
      "needs_background": "light"
     },
     "output_type": "display_data"
    }
   ],
   "source": [
    "\n",
    "    \n",
    "plot_feature_importance(model, training_data.columns[:-1])"
   ]
  },
  {
   "cell_type": "code",
   "execution_count": null,
   "id": "a1848d66",
   "metadata": {},
   "outputs": [],
   "source": []
  },
  {
   "cell_type": "code",
   "execution_count": null,
   "id": "3c28c63b",
   "metadata": {},
   "outputs": [],
   "source": []
  },
  {
   "cell_type": "code",
   "execution_count": null,
   "id": "b21fb5b2",
   "metadata": {},
   "outputs": [],
   "source": []
  }
 ],
 "metadata": {
  "kernelspec": {
   "display_name": "Python 3",
   "language": "python",
   "name": "python3"
  },
  "language_info": {
   "codemirror_mode": {
    "name": "ipython",
    "version": 3
   },
   "file_extension": ".py",
   "mimetype": "text/x-python",
   "name": "python",
   "nbconvert_exporter": "python",
   "pygments_lexer": "ipython3",
   "version": "3.8.8"
  }
 },
 "nbformat": 4,
 "nbformat_minor": 5
}
