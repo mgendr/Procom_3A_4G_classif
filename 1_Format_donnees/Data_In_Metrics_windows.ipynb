{
 "cells": [
  {
   "cell_type": "code",
   "execution_count": 1,
   "id": "64d67bad",
   "metadata": {},
   "outputs": [],
   "source": [
    "import os\n",
    "import pandas as pd\n",
    "import warnings\n",
    "import matplotlib.pyplot as plt\n",
    "\n",
    "import numpy as np\n",
    "import seaborn as sns\n",
    "import sys\n",
    "\n",
    "from sklearn.ensemble import RandomForestClassifier\n",
    "from tqdm import tqdm\n",
    "import time\n",
    "\n",
    "\n",
    "plt.rcParams[\"figure.figsize\"] = (9, 6)\n",
    "warnings.simplefilter(\"ignore\")\n",
    "\n",
    "sys.path.append(\"../1_Format_donnees/\")\n",
    "from aggregation import load_and_preprocess_agg_metrics, Scaler_Metrics\n",
    "sys.path.append(\"../\")\n",
    "\n",
    "from evaluate import plot_confusion_matrix, get_scores, plot_feature_importance\n",
    "\n",
    "### <8 mbits en cumsum = bruit "
   ]
  },
  {
   "cell_type": "code",
   "execution_count": 2,
   "id": "5ead135b",
   "metadata": {},
   "outputs": [],
   "source": [
    "WINDOW_SIZE = 60\n",
    "STEP = 15\n",
    "MIN_DURA = 15"
   ]
  },
  {
   "cell_type": "markdown",
   "id": "385c866e",
   "metadata": {},
   "source": [
    "# Load Data"
   ]
  },
  {
   "cell_type": "code",
   "execution_count": 3,
   "id": "ea796f28",
   "metadata": {
    "scrolled": true
   },
   "outputs": [
    {
     "name": "stdout",
     "output_type": "stream",
     "text": [
      "Load datasets...\n",
      "Extracting ../Mesures/test\\messenger20221124_151137.csv.... 1/7\n"
     ]
    },
    {
     "name": "stderr",
     "output_type": "stream",
     "text": [
      "100%|████████████████████████████████████████████████████████████████████████████████████| 5/5 [00:00<00:00, 13.40it/s]\n"
     ]
    },
    {
     "name": "stdout",
     "output_type": "stream",
     "text": [
      "Extracting ../Mesures/test\\messenger20230208_132747.csv.... 2/7\n"
     ]
    },
    {
     "name": "stderr",
     "output_type": "stream",
     "text": [
      "100%|██████████████████████████████████████████████████████████████████████████████████| 27/27 [00:03<00:00,  7.44it/s]\n"
     ]
    },
    {
     "name": "stdout",
     "output_type": "stream",
     "text": [
      "Extracting ../Mesures/test\\skype20221206_150902.csv.... 3/7\n"
     ]
    },
    {
     "name": "stderr",
     "output_type": "stream",
     "text": [
      "100%|████████████████████████████████████████████████████████████████████████████████████| 3/3 [00:00<00:00,  3.12it/s]\n"
     ]
    },
    {
     "name": "stdout",
     "output_type": "stream",
     "text": [
      "Extracting ../Mesures/test\\spotify20230127_134348.csv.... 4/7\n"
     ]
    },
    {
     "name": "stderr",
     "output_type": "stream",
     "text": [
      "100%|███████████████████████████████████████████████████████████████████████████████| 240/240 [00:00<00:00, 551.65it/s]\n"
     ]
    },
    {
     "name": "stdout",
     "output_type": "stream",
     "text": [
      "Extracting ../Mesures/test\\twitch20221124_163054.csv.... 5/7\n"
     ]
    },
    {
     "name": "stderr",
     "output_type": "stream",
     "text": [
      "100%|██████████████████████████████████████████████████████████████████████████████████| 12/12 [00:00<00:00, 20.23it/s]\n"
     ]
    },
    {
     "name": "stdout",
     "output_type": "stream",
     "text": [
      "Extracting ../Mesures/test\\youtube20221118_104205.csv.... 6/7\n"
     ]
    },
    {
     "name": "stderr",
     "output_type": "stream",
     "text": [
      "100%|███████████████████████████████████████████████████████████████████████████████| 218/218 [00:00<00:00, 532.69it/s]\n"
     ]
    },
    {
     "name": "stdout",
     "output_type": "stream",
     "text": [
      "Extracting ../Mesures/test\\youtube20230117_121925.csv.... 7/7\n"
     ]
    },
    {
     "name": "stderr",
     "output_type": "stream",
     "text": [
      "100%|███████████████████████████████████████████████████████████████████████████████| 260/260 [00:00<00:00, 412.47it/s]\n",
      "  0%|                                                                                          | 0/765 [00:00<?, ?it/s]"
     ]
    },
    {
     "name": "stdout",
     "output_type": "stream",
     "text": [
      "Splitting the data in windows...\n"
     ]
    },
    {
     "name": "stderr",
     "output_type": "stream",
     "text": [
      "100%|████████████████████████████████████████████████████████████████████████████████| 765/765 [03:03<00:00,  4.18it/s]\n",
      "  0%|                                                                                        | 0/10053 [00:00<?, ?it/s]"
     ]
    },
    {
     "name": "stdout",
     "output_type": "stream",
     "text": [
      "Computing metrics and statistics...\n"
     ]
    },
    {
     "name": "stderr",
     "output_type": "stream",
     "text": [
      "100%|████████████████████████████████████████████████████████████████████████████| 10053/10053 [04:35<00:00, 36.48it/s]\n"
     ]
    },
    {
     "name": "stdout",
     "output_type": "stream",
     "text": [
      "Load datasets...\n",
      "Extracting ../Mesures/train\\messenger20221117_125310.csv.... 1/39\n"
     ]
    },
    {
     "name": "stderr",
     "output_type": "stream",
     "text": [
      "100%|█████████████████████████████████████████████████████████████████████████████████| 15/15 [00:00<00:00, 113.72it/s]\n"
     ]
    },
    {
     "name": "stdout",
     "output_type": "stream",
     "text": [
      "Extracting ../Mesures/train\\messenger20221124_143112.csv.... 2/39\n"
     ]
    },
    {
     "name": "stderr",
     "output_type": "stream",
     "text": [
      "100%|██████████████████████████████████████████████████████████████████████████████████| 11/11 [00:00<00:00, 40.20it/s]\n"
     ]
    },
    {
     "name": "stdout",
     "output_type": "stream",
     "text": [
      "Extracting ../Mesures/train\\messenger20221125_130559.csv.... 3/39\n"
     ]
    },
    {
     "name": "stderr",
     "output_type": "stream",
     "text": [
      "100%|██████████████████████████████████████████████████████████████████████████████████| 38/38 [00:00<00:00, 93.33it/s]\n"
     ]
    },
    {
     "name": "stdout",
     "output_type": "stream",
     "text": [
      "Extracting ../Mesures/train\\messenger20221129_131204.csv.... 4/39\n"
     ]
    },
    {
     "name": "stderr",
     "output_type": "stream",
     "text": [
      "100%|██████████████████████████████████████████████████████████████████████████████████| 14/14 [00:01<00:00, 11.94it/s]\n"
     ]
    },
    {
     "name": "stdout",
     "output_type": "stream",
     "text": [
      "Extracting ../Mesures/train\\messenger20221129_151124.csv.... 5/39\n"
     ]
    },
    {
     "name": "stderr",
     "output_type": "stream",
     "text": [
      "100%|████████████████████████████████████████████████████████████████████████████████████| 5/5 [00:00<00:00,  6.74it/s]\n"
     ]
    },
    {
     "name": "stdout",
     "output_type": "stream",
     "text": [
      "Extracting ../Mesures/train\\messenger20230207_133921.csv.... 6/39\n"
     ]
    },
    {
     "name": "stderr",
     "output_type": "stream",
     "text": [
      "100%|████████████████████████████████████████████████████████████████████████████████████| 2/2 [00:00<00:00,  2.38it/s]\n"
     ]
    },
    {
     "name": "stdout",
     "output_type": "stream",
     "text": [
      "Extracting ../Mesures/train\\messenger20230209_083453.csv.... 7/39\n"
     ]
    },
    {
     "name": "stderr",
     "output_type": "stream",
     "text": [
      "100%|████████████████████████████████████████████████████████████████████████████████████| 5/5 [00:01<00:00,  4.52it/s]\n"
     ]
    },
    {
     "name": "stdout",
     "output_type": "stream",
     "text": [
      "Extracting ../Mesures/train\\pure_noise20230106_132210.csv.... 8/39\n"
     ]
    },
    {
     "name": "stderr",
     "output_type": "stream",
     "text": [
      "100%|███████████████████████████████████████████████████████████████████████████████| 805/805 [00:01<00:00, 608.75it/s]\n"
     ]
    },
    {
     "name": "stdout",
     "output_type": "stream",
     "text": [
      "Extracting ../Mesures/train\\skype20221129_164105.csv.... 9/39\n"
     ]
    },
    {
     "name": "stderr",
     "output_type": "stream",
     "text": [
      "100%|████████████████████████████████████████████████████████████████████████████████████| 5/5 [00:00<00:00, 11.84it/s]\n"
     ]
    },
    {
     "name": "stdout",
     "output_type": "stream",
     "text": [
      "Extracting ../Mesures/train\\skype20221206_125510.csv.... 10/39\n"
     ]
    },
    {
     "name": "stderr",
     "output_type": "stream",
     "text": [
      "100%|██████████████████████████████████████████████████████████████████████████████████| 19/19 [00:00<00:00, 34.35it/s]\n"
     ]
    },
    {
     "name": "stdout",
     "output_type": "stream",
     "text": [
      "Extracting ../Mesures/train\\skype20221208_104403.csv.... 11/39\n"
     ]
    },
    {
     "name": "stderr",
     "output_type": "stream",
     "text": [
      "100%|████████████████████████████████████████████████████████████████████████████████████| 7/7 [00:01<00:00,  3.71it/s]\n"
     ]
    },
    {
     "name": "stdout",
     "output_type": "stream",
     "text": [
      "Extracting ../Mesures/train\\skype20221208_124925.csv.... 12/39\n"
     ]
    },
    {
     "name": "stderr",
     "output_type": "stream",
     "text": [
      "100%|████████████████████████████████████████████████████████████████████████████████████| 6/6 [00:02<00:00,  2.13it/s]\n"
     ]
    },
    {
     "name": "stdout",
     "output_type": "stream",
     "text": [
      "Extracting ../Mesures/train\\skype20221215_151512.csv.... 13/39\n"
     ]
    },
    {
     "name": "stderr",
     "output_type": "stream",
     "text": [
      "100%|██████████████████████████████████████████████████████████████████████████████████| 23/23 [00:00<00:00, 37.53it/s]\n"
     ]
    },
    {
     "name": "stdout",
     "output_type": "stream",
     "text": [
      "Extracting ../Mesures/train\\skype20221215_155618.csv.... 14/39\n"
     ]
    },
    {
     "name": "stderr",
     "output_type": "stream",
     "text": [
      "100%|██████████████████████████████████████████████████████████████████████████████████| 19/19 [00:00<00:00, 26.91it/s]\n"
     ]
    },
    {
     "name": "stdout",
     "output_type": "stream",
     "text": [
      "Extracting ../Mesures/train\\skype20221215_164208.csv.... 15/39\n"
     ]
    },
    {
     "name": "stderr",
     "output_type": "stream",
     "text": [
      "100%|████████████████████████████████████████████████████████████████████████████████████| 5/5 [00:00<00:00,  6.06it/s]\n"
     ]
    },
    {
     "name": "stdout",
     "output_type": "stream",
     "text": [
      "Extracting ../Mesures/train\\skype20221215_174819.csv.... 16/39\n"
     ]
    },
    {
     "name": "stderr",
     "output_type": "stream",
     "text": [
      "100%|████████████████████████████████████████████████████████████████████████████████████| 6/6 [00:00<00:00,  9.27it/s]\n"
     ]
    },
    {
     "name": "stdout",
     "output_type": "stream",
     "text": [
      "Extracting ../Mesures/train\\spotify20230201_092702.csv.... 17/39\n"
     ]
    },
    {
     "name": "stderr",
     "output_type": "stream",
     "text": [
      "100%|█████████████████████████████████████████████████████████████████████████████| 1750/1750 [00:03<00:00, 574.39it/s]\n"
     ]
    },
    {
     "name": "stdout",
     "output_type": "stream",
     "text": [
      "Extracting ../Mesures/train\\spotify20230203_165507.csv.... 18/39\n"
     ]
    },
    {
     "name": "stderr",
     "output_type": "stream",
     "text": [
      "100%|███████████████████████████████████████████████████████████████████████████████| 522/522 [00:00<00:00, 621.98it/s]\n"
     ]
    },
    {
     "name": "stdout",
     "output_type": "stream",
     "text": [
      "Extracting ../Mesures/train\\spotify20230216_141318.csv.... 19/39\n"
     ]
    },
    {
     "name": "stderr",
     "output_type": "stream",
     "text": [
      "100%|███████████████████████████████████████████████████████████████████████████████| 364/364 [00:00<00:00, 631.08it/s]\n"
     ]
    },
    {
     "name": "stdout",
     "output_type": "stream",
     "text": [
      "Extracting ../Mesures/train\\twitch20221117_113554.csv.... 20/39\n"
     ]
    },
    {
     "name": "stderr",
     "output_type": "stream",
     "text": [
      "100%|██████████████████████████████████████████████████████████████████████████████████| 24/24 [00:00<00:00, 95.91it/s]\n"
     ]
    },
    {
     "name": "stdout",
     "output_type": "stream",
     "text": [
      "Extracting ../Mesures/train\\twitch20221118_075454.csv.... 21/39\n"
     ]
    },
    {
     "name": "stderr",
     "output_type": "stream",
     "text": [
      "100%|██████████████████████████████████████████████████████████████████████████████████| 16/16 [00:00<00:00, 47.25it/s]\n"
     ]
    },
    {
     "name": "stdout",
     "output_type": "stream",
     "text": [
      "Extracting ../Mesures/train\\twitch20221125_133859.csv.... 22/39\n"
     ]
    },
    {
     "name": "stderr",
     "output_type": "stream",
     "text": [
      "100%|████████████████████████████████████████████████████████████████████████████████| 108/108 [00:01<00:00, 75.12it/s]\n"
     ]
    },
    {
     "name": "stdout",
     "output_type": "stream",
     "text": [
      "Extracting ../Mesures/train\\twitch20230110_110215.csv.... 23/39\n"
     ]
    },
    {
     "name": "stderr",
     "output_type": "stream",
     "text": [
      "100%|█████████████████████████████████████████████████████████████████████████████████| 22/22 [00:00<00:00, 103.00it/s]\n"
     ]
    },
    {
     "name": "stdout",
     "output_type": "stream",
     "text": [
      "Extracting ../Mesures/train\\twitch20230110_120513.csv.... 24/39\n"
     ]
    },
    {
     "name": "stderr",
     "output_type": "stream",
     "text": [
      "100%|█████████████████████████████████████████████████████████████████████████████████| 59/59 [00:00<00:00, 264.81it/s]\n"
     ]
    },
    {
     "name": "stdout",
     "output_type": "stream",
     "text": [
      "Extracting ../Mesures/train\\twitch20230110_130648.csv.... 25/39\n"
     ]
    },
    {
     "name": "stderr",
     "output_type": "stream",
     "text": [
      "100%|███████████████████████████████████████████████████████████████████████████████| 426/426 [00:00<00:00, 491.84it/s]\n",
      "100%|█████████████████████████████████████████████████████████████████████████████████| 11/11 [00:00<00:00, 393.16it/s]\n"
     ]
    },
    {
     "name": "stdout",
     "output_type": "stream",
     "text": [
      "Extracting ../Mesures/train\\youtube20221108_165214.csv.... 26/39\n",
      "Extracting ../Mesures/train\\youtube20221108_182416.csv.... 27/39\n"
     ]
    },
    {
     "name": "stderr",
     "output_type": "stream",
     "text": [
      "100%|███████████████████████████████████████████████████████████████████████████████████| 4/4 [00:00<00:00, 282.22it/s]\n"
     ]
    },
    {
     "name": "stdout",
     "output_type": "stream",
     "text": [
      "Extracting ../Mesures/train\\youtube20221124_125524.csv.... 28/39\n"
     ]
    },
    {
     "name": "stderr",
     "output_type": "stream",
     "text": [
      "100%|███████████████████████████████████████████████████████████████████████████████| 186/186 [00:00<00:00, 553.52it/s]\n"
     ]
    },
    {
     "name": "stdout",
     "output_type": "stream",
     "text": [
      "Extracting ../Mesures/train\\youtube20221124_154037.csv.... 29/39\n"
     ]
    },
    {
     "name": "stderr",
     "output_type": "stream",
     "text": [
      "100%|█████████████████████████████████████████████████████████████████████████████████| 92/92 [00:00<00:00, 542.44it/s]\n"
     ]
    },
    {
     "name": "stdout",
     "output_type": "stream",
     "text": [
      "Extracting ../Mesures/train\\youtube20221130_103723.csv.... 30/39\n"
     ]
    },
    {
     "name": "stderr",
     "output_type": "stream",
     "text": [
      "100%|█████████████████████████████████████████████████████████████████████████████████| 91/91 [00:00<00:00, 518.97it/s]\n",
      " 63%|██████████████████████████████████████████████████▊                              | 59/94 [00:00<00:00, 588.83it/s]"
     ]
    },
    {
     "name": "stdout",
     "output_type": "stream",
     "text": [
      "Extracting ../Mesures/train\\youtube20230110_145404.csv.... 31/39\n"
     ]
    },
    {
     "name": "stderr",
     "output_type": "stream",
     "text": [
      "100%|█████████████████████████████████████████████████████████████████████████████████| 94/94 [00:00<00:00, 580.41it/s]\n"
     ]
    },
    {
     "name": "stdout",
     "output_type": "stream",
     "text": [
      "Extracting ../Mesures/train\\youtube20230110_161955.csv.... 32/39\n"
     ]
    },
    {
     "name": "stderr",
     "output_type": "stream",
     "text": [
      "100%|█████████████████████████████████████████████████████████████████████████████████| 90/90 [00:00<00:00, 515.36it/s]\n"
     ]
    },
    {
     "name": "stdout",
     "output_type": "stream",
     "text": [
      "Extracting ../Mesures/train\\youtube20230112_125508.csv.... 33/39\n"
     ]
    },
    {
     "name": "stderr",
     "output_type": "stream",
     "text": [
      "100%|███████████████████████████████████████████████████████████████████████████████| 108/108 [00:00<00:00, 403.14it/s]\n",
      "  0%|                                                                                           | 0/29 [00:00<?, ?it/s]"
     ]
    },
    {
     "name": "stdout",
     "output_type": "stream",
     "text": [
      "Extracting ../Mesures/train\\youtube20230112_151029.csv.... 34/39\n"
     ]
    },
    {
     "name": "stderr",
     "output_type": "stream",
     "text": [
      "100%|█████████████████████████████████████████████████████████████████████████████████| 29/29 [00:00<00:00, 441.63it/s]\n"
     ]
    },
    {
     "name": "stdout",
     "output_type": "stream",
     "text": [
      "Extracting ../Mesures/train\\youtube20230112_154749.csv.... 35/39\n"
     ]
    },
    {
     "name": "stderr",
     "output_type": "stream",
     "text": [
      "100%|█████████████████████████████████████████████████████████████████████████████████| 32/32 [00:00<00:00, 411.84it/s]\n"
     ]
    },
    {
     "name": "stdout",
     "output_type": "stream",
     "text": [
      "Extracting ../Mesures/train\\youtube20230112_163634.csv.... 36/39\n"
     ]
    },
    {
     "name": "stderr",
     "output_type": "stream",
     "text": [
      "100%|█████████████████████████████████████████████████████████████████████████████████| 65/65 [00:00<00:00, 478.27it/s]\n"
     ]
    },
    {
     "name": "stdout",
     "output_type": "stream",
     "text": [
      "Extracting ../Mesures/train\\youtube20230117_095221.csv.... 37/39\n"
     ]
    },
    {
     "name": "stderr",
     "output_type": "stream",
     "text": [
      "100%|███████████████████████████████████████████████████████████████████████████████| 140/140 [00:00<00:00, 268.06it/s]\n"
     ]
    },
    {
     "name": "stdout",
     "output_type": "stream",
     "text": [
      "Extracting ../Mesures/train\\youtube20230118_134041.csv.... 38/39\n"
     ]
    },
    {
     "name": "stderr",
     "output_type": "stream",
     "text": [
      "100%|███████████████████████████████████████████████████████████████████████████████| 212/212 [00:00<00:00, 235.12it/s]\n"
     ]
    },
    {
     "name": "stdout",
     "output_type": "stream",
     "text": [
      "Extracting ../Mesures/train\\youtube20230124_124323.csv.... 39/39\n"
     ]
    },
    {
     "name": "stderr",
     "output_type": "stream",
     "text": [
      "100%|███████████████████████████████████████████████████████████████████████████████| 163/163 [00:00<00:00, 223.42it/s]\n",
      "  0%|                                                                                         | 0/5593 [00:00<?, ?it/s]"
     ]
    },
    {
     "name": "stdout",
     "output_type": "stream",
     "text": [
      "Splitting the data in windows...\n"
     ]
    },
    {
     "name": "stderr",
     "output_type": "stream",
     "text": [
      "100%|██████████████████████████████████████████████████████████████████████████████| 5593/5593 [02:40<00:00, 34.94it/s]\n",
      "  0%|                                                                                        | 0/23657 [00:00<?, ?it/s]"
     ]
    },
    {
     "name": "stdout",
     "output_type": "stream",
     "text": [
      "Computing metrics and statistics...\n"
     ]
    },
    {
     "name": "stderr",
     "output_type": "stream",
     "text": [
      "100%|████████████████████████████████████████████████████████████████████████████| 23657/23657 [12:05<00:00, 32.59it/s]\n"
     ]
    },
    {
     "name": "stdout",
     "output_type": "stream",
     "text": [
      "Dataset generation took : 1548.6787626 s\n"
     ]
    }
   ],
   "source": [
    "time_counter = time.time_ns()\n",
    "\n",
    "df_test = load_and_preprocess_agg_metrics(\"../Mesures/test\", window_size = WINDOW_SIZE, step = STEP, min_duration = MIN_DURA )\n",
    "df_train = load_and_preprocess_agg_metrics(\"../Mesures/train\", window_size = WINDOW_SIZE, step = STEP)\n",
    "\n",
    "process_duration = (time.time_ns() - time_counter)/(10**9)\n",
    "print(f\"Dataset generation took : {process_duration} s\")"
   ]
  },
  {
   "cell_type": "code",
   "execution_count": null,
   "id": "6d9bbfcb",
   "metadata": {},
   "outputs": [],
   "source": []
  },
  {
   "cell_type": "code",
   "execution_count": null,
   "id": "8e5df180",
   "metadata": {},
   "outputs": [],
   "source": []
  },
  {
   "cell_type": "markdown",
   "id": "ea2af1aa",
   "metadata": {
    "scrolled": true
   },
   "source": [
    "# Scale"
   ]
  },
  {
   "cell_type": "code",
   "execution_count": 4,
   "id": "cd03094d",
   "metadata": {},
   "outputs": [
    {
     "data": {
      "text/html": [
       "<div>\n",
       "<style scoped>\n",
       "    .dataframe tbody tr th:only-of-type {\n",
       "        vertical-align: middle;\n",
       "    }\n",
       "\n",
       "    .dataframe tbody tr th {\n",
       "        vertical-align: top;\n",
       "    }\n",
       "\n",
       "    .dataframe thead th {\n",
       "        text-align: right;\n",
       "    }\n",
       "</style>\n",
       "<table border=\"1\" class=\"dataframe\">\n",
       "  <thead>\n",
       "    <tr style=\"text-align: right;\">\n",
       "      <th></th>\n",
       "      <th>reg_lin_R2_TBS_up</th>\n",
       "      <th>reg_lin_coef_A_TBS_up</th>\n",
       "      <th>p0_TBS_up</th>\n",
       "      <th>p10_TBS_up</th>\n",
       "      <th>p25_TBS_up</th>\n",
       "      <th>p50_TBS_up</th>\n",
       "      <th>p75_TBS_up</th>\n",
       "      <th>p90_TBS_up</th>\n",
       "      <th>p100_TBS_up</th>\n",
       "      <th>mean_TBS_up</th>\n",
       "      <th>...</th>\n",
       "      <th>p25_TBS_down</th>\n",
       "      <th>p50_TBS_down</th>\n",
       "      <th>p75_TBS_down</th>\n",
       "      <th>p90_TBS_down</th>\n",
       "      <th>p100_TBS_down</th>\n",
       "      <th>mean_TBS_down</th>\n",
       "      <th>std_TBS_down</th>\n",
       "      <th>sum_TBS_down</th>\n",
       "      <th>mean_per_time_TBS_down</th>\n",
       "      <th>label</th>\n",
       "    </tr>\n",
       "    <tr>\n",
       "      <th>id</th>\n",
       "      <th></th>\n",
       "      <th></th>\n",
       "      <th></th>\n",
       "      <th></th>\n",
       "      <th></th>\n",
       "      <th></th>\n",
       "      <th></th>\n",
       "      <th></th>\n",
       "      <th></th>\n",
       "      <th></th>\n",
       "      <th></th>\n",
       "      <th></th>\n",
       "      <th></th>\n",
       "      <th></th>\n",
       "      <th></th>\n",
       "      <th></th>\n",
       "      <th></th>\n",
       "      <th></th>\n",
       "      <th></th>\n",
       "      <th></th>\n",
       "      <th></th>\n",
       "    </tr>\n",
       "  </thead>\n",
       "  <tbody>\n",
       "    <tr>\n",
       "      <th>20221117_125310_4_0</th>\n",
       "      <td>-2.072057</td>\n",
       "      <td>-1.497056</td>\n",
       "      <td>0.893893</td>\n",
       "      <td>-0.049504</td>\n",
       "      <td>-0.711778</td>\n",
       "      <td>-1.391334</td>\n",
       "      <td>-2.001641</td>\n",
       "      <td>-1.436325</td>\n",
       "      <td>-0.240051</td>\n",
       "      <td>-1.718972</td>\n",
       "      <td>...</td>\n",
       "      <td>-0.22648</td>\n",
       "      <td>-0.736049</td>\n",
       "      <td>-1.269605</td>\n",
       "      <td>-1.470613</td>\n",
       "      <td>-0.919345</td>\n",
       "      <td>-1.178339</td>\n",
       "      <td>-0.777600</td>\n",
       "      <td>-1.475897</td>\n",
       "      <td>-1.481635</td>\n",
       "      <td>messenger</td>\n",
       "    </tr>\n",
       "    <tr>\n",
       "      <th>20221117_125310_4_15</th>\n",
       "      <td>-2.202636</td>\n",
       "      <td>-1.537432</td>\n",
       "      <td>1.322773</td>\n",
       "      <td>-0.049504</td>\n",
       "      <td>-0.711778</td>\n",
       "      <td>-1.391334</td>\n",
       "      <td>-2.001641</td>\n",
       "      <td>-2.404516</td>\n",
       "      <td>-1.991422</td>\n",
       "      <td>-2.337767</td>\n",
       "      <td>...</td>\n",
       "      <td>-0.22648</td>\n",
       "      <td>-0.736049</td>\n",
       "      <td>-1.344185</td>\n",
       "      <td>-1.572322</td>\n",
       "      <td>-1.050957</td>\n",
       "      <td>-1.300843</td>\n",
       "      <td>-1.131288</td>\n",
       "      <td>-1.495820</td>\n",
       "      <td>-1.500675</td>\n",
       "      <td>messenger</td>\n",
       "    </tr>\n",
       "    <tr>\n",
       "      <th>20221117_125310_4_30</th>\n",
       "      <td>-7.570966</td>\n",
       "      <td>-1.415607</td>\n",
       "      <td>1.322773</td>\n",
       "      <td>-0.049504</td>\n",
       "      <td>-0.711778</td>\n",
       "      <td>-1.245331</td>\n",
       "      <td>-1.461120</td>\n",
       "      <td>-0.483501</td>\n",
       "      <td>-0.068663</td>\n",
       "      <td>-1.002338</td>\n",
       "      <td>...</td>\n",
       "      <td>-0.22648</td>\n",
       "      <td>-0.736049</td>\n",
       "      <td>-1.269605</td>\n",
       "      <td>-1.216341</td>\n",
       "      <td>-0.919345</td>\n",
       "      <td>-1.060102</td>\n",
       "      <td>-0.697977</td>\n",
       "      <td>-1.420571</td>\n",
       "      <td>-1.425429</td>\n",
       "      <td>messenger</td>\n",
       "    </tr>\n",
       "    <tr>\n",
       "      <th>20221117_125310_4_45</th>\n",
       "      <td>-2.372697</td>\n",
       "      <td>-0.418386</td>\n",
       "      <td>1.322773</td>\n",
       "      <td>0.588305</td>\n",
       "      <td>-0.343847</td>\n",
       "      <td>-1.245331</td>\n",
       "      <td>-0.596286</td>\n",
       "      <td>0.440122</td>\n",
       "      <td>1.311368</td>\n",
       "      <td>0.186634</td>\n",
       "      <td>...</td>\n",
       "      <td>-0.22648</td>\n",
       "      <td>-0.736049</td>\n",
       "      <td>-0.763364</td>\n",
       "      <td>-0.796793</td>\n",
       "      <td>-0.919345</td>\n",
       "      <td>-0.793833</td>\n",
       "      <td>-0.595417</td>\n",
       "      <td>-1.216219</td>\n",
       "      <td>-1.212737</td>\n",
       "      <td>messenger</td>\n",
       "    </tr>\n",
       "    <tr>\n",
       "      <th>20221117_125310_4_60</th>\n",
       "      <td>-0.211443</td>\n",
       "      <td>0.070454</td>\n",
       "      <td>1.322773</td>\n",
       "      <td>0.588305</td>\n",
       "      <td>-0.343847</td>\n",
       "      <td>-1.026326</td>\n",
       "      <td>-0.380077</td>\n",
       "      <td>0.538478</td>\n",
       "      <td>1.311368</td>\n",
       "      <td>0.343374</td>\n",
       "      <td>...</td>\n",
       "      <td>-0.22648</td>\n",
       "      <td>-0.736049</td>\n",
       "      <td>-0.763364</td>\n",
       "      <td>-0.758653</td>\n",
       "      <td>-0.919345</td>\n",
       "      <td>-0.715909</td>\n",
       "      <td>-0.593749</td>\n",
       "      <td>-0.994094</td>\n",
       "      <td>-0.980286</td>\n",
       "      <td>messenger</td>\n",
       "    </tr>\n",
       "    <tr>\n",
       "      <th>...</th>\n",
       "      <td>...</td>\n",
       "      <td>...</td>\n",
       "      <td>...</td>\n",
       "      <td>...</td>\n",
       "      <td>...</td>\n",
       "      <td>...</td>\n",
       "      <td>...</td>\n",
       "      <td>...</td>\n",
       "      <td>...</td>\n",
       "      <td>...</td>\n",
       "      <td>...</td>\n",
       "      <td>...</td>\n",
       "      <td>...</td>\n",
       "      <td>...</td>\n",
       "      <td>...</td>\n",
       "      <td>...</td>\n",
       "      <td>...</td>\n",
       "      <td>...</td>\n",
       "      <td>...</td>\n",
       "      <td>...</td>\n",
       "      <td>...</td>\n",
       "    </tr>\n",
       "    <tr>\n",
       "      <th>20230124_124323_161_135</th>\n",
       "      <td>-0.010510</td>\n",
       "      <td>-1.488003</td>\n",
       "      <td>0.036131</td>\n",
       "      <td>-0.559751</td>\n",
       "      <td>-1.171692</td>\n",
       "      <td>-1.391334</td>\n",
       "      <td>-1.698949</td>\n",
       "      <td>-2.097154</td>\n",
       "      <td>-1.605799</td>\n",
       "      <td>-1.919325</td>\n",
       "      <td>...</td>\n",
       "      <td>-0.22648</td>\n",
       "      <td>-0.736049</td>\n",
       "      <td>-1.269605</td>\n",
       "      <td>-0.234217</td>\n",
       "      <td>-1.123813</td>\n",
       "      <td>-0.850284</td>\n",
       "      <td>-0.622899</td>\n",
       "      <td>-0.972197</td>\n",
       "      <td>-0.937537</td>\n",
       "      <td>youtube</td>\n",
       "    </tr>\n",
       "    <tr>\n",
       "      <th>20230124_124323_161_150</th>\n",
       "      <td>0.139748</td>\n",
       "      <td>-1.494544</td>\n",
       "      <td>0.036131</td>\n",
       "      <td>-0.559751</td>\n",
       "      <td>-0.757769</td>\n",
       "      <td>-1.391334</td>\n",
       "      <td>-1.871916</td>\n",
       "      <td>-2.226246</td>\n",
       "      <td>-1.862881</td>\n",
       "      <td>-1.994594</td>\n",
       "      <td>...</td>\n",
       "      <td>-0.22648</td>\n",
       "      <td>-0.736049</td>\n",
       "      <td>-1.269605</td>\n",
       "      <td>-0.234217</td>\n",
       "      <td>-1.123813</td>\n",
       "      <td>-0.781947</td>\n",
       "      <td>-0.568068</td>\n",
       "      <td>-0.982007</td>\n",
       "      <td>-0.894764</td>\n",
       "      <td>youtube</td>\n",
       "    </tr>\n",
       "    <tr>\n",
       "      <th>20230124_124323_166_0</th>\n",
       "      <td>0.087067</td>\n",
       "      <td>-1.465728</td>\n",
       "      <td>0.893893</td>\n",
       "      <td>-1.835369</td>\n",
       "      <td>-1.171692</td>\n",
       "      <td>-1.391334</td>\n",
       "      <td>-1.871916</td>\n",
       "      <td>-2.220099</td>\n",
       "      <td>-0.240051</td>\n",
       "      <td>-2.055499</td>\n",
       "      <td>...</td>\n",
       "      <td>-0.22648</td>\n",
       "      <td>-0.637617</td>\n",
       "      <td>-1.197285</td>\n",
       "      <td>-1.101919</td>\n",
       "      <td>-1.050957</td>\n",
       "      <td>-0.992159</td>\n",
       "      <td>-0.865917</td>\n",
       "      <td>-0.776889</td>\n",
       "      <td>-0.764093</td>\n",
       "      <td>youtube</td>\n",
       "    </tr>\n",
       "    <tr>\n",
       "      <th>20230124_124323_166_15</th>\n",
       "      <td>-0.004292</td>\n",
       "      <td>-1.438604</td>\n",
       "      <td>0.893893</td>\n",
       "      <td>-0.559751</td>\n",
       "      <td>-1.171692</td>\n",
       "      <td>-1.391334</td>\n",
       "      <td>-1.871916</td>\n",
       "      <td>-2.004945</td>\n",
       "      <td>-0.240051</td>\n",
       "      <td>-1.942284</td>\n",
       "      <td>...</td>\n",
       "      <td>-0.22648</td>\n",
       "      <td>-0.637617</td>\n",
       "      <td>-0.971284</td>\n",
       "      <td>-0.285072</td>\n",
       "      <td>-1.050957</td>\n",
       "      <td>-0.789865</td>\n",
       "      <td>-0.580559</td>\n",
       "      <td>-0.554843</td>\n",
       "      <td>-0.449563</td>\n",
       "      <td>youtube</td>\n",
       "    </tr>\n",
       "    <tr>\n",
       "      <th>20230124_124323_166_30</th>\n",
       "      <td>0.118057</td>\n",
       "      <td>-1.435194</td>\n",
       "      <td>0.893893</td>\n",
       "      <td>-0.559751</td>\n",
       "      <td>-1.171692</td>\n",
       "      <td>-1.391334</td>\n",
       "      <td>-1.623276</td>\n",
       "      <td>-1.676067</td>\n",
       "      <td>-0.240051</td>\n",
       "      <td>-1.866607</td>\n",
       "      <td>...</td>\n",
       "      <td>-0.22648</td>\n",
       "      <td>-0.637617</td>\n",
       "      <td>-0.971284</td>\n",
       "      <td>-0.285072</td>\n",
       "      <td>-0.674923</td>\n",
       "      <td>-0.835919</td>\n",
       "      <td>-0.569246</td>\n",
       "      <td>-0.601820</td>\n",
       "      <td>-0.604387</td>\n",
       "      <td>youtube</td>\n",
       "    </tr>\n",
       "  </tbody>\n",
       "</table>\n",
       "<p>23657 rows × 27 columns</p>\n",
       "</div>"
      ],
      "text/plain": [
       "                         reg_lin_R2_TBS_up  reg_lin_coef_A_TBS_up  p0_TBS_up  \\\n",
       "id                                                                             \n",
       "20221117_125310_4_0              -2.072057              -1.497056   0.893893   \n",
       "20221117_125310_4_15             -2.202636              -1.537432   1.322773   \n",
       "20221117_125310_4_30             -7.570966              -1.415607   1.322773   \n",
       "20221117_125310_4_45             -2.372697              -0.418386   1.322773   \n",
       "20221117_125310_4_60             -0.211443               0.070454   1.322773   \n",
       "...                                    ...                    ...        ...   \n",
       "20230124_124323_161_135          -0.010510              -1.488003   0.036131   \n",
       "20230124_124323_161_150           0.139748              -1.494544   0.036131   \n",
       "20230124_124323_166_0             0.087067              -1.465728   0.893893   \n",
       "20230124_124323_166_15           -0.004292              -1.438604   0.893893   \n",
       "20230124_124323_166_30            0.118057              -1.435194   0.893893   \n",
       "\n",
       "                         p10_TBS_up  p25_TBS_up  p50_TBS_up  p75_TBS_up  \\\n",
       "id                                                                        \n",
       "20221117_125310_4_0       -0.049504   -0.711778   -1.391334   -2.001641   \n",
       "20221117_125310_4_15      -0.049504   -0.711778   -1.391334   -2.001641   \n",
       "20221117_125310_4_30      -0.049504   -0.711778   -1.245331   -1.461120   \n",
       "20221117_125310_4_45       0.588305   -0.343847   -1.245331   -0.596286   \n",
       "20221117_125310_4_60       0.588305   -0.343847   -1.026326   -0.380077   \n",
       "...                             ...         ...         ...         ...   \n",
       "20230124_124323_161_135   -0.559751   -1.171692   -1.391334   -1.698949   \n",
       "20230124_124323_161_150   -0.559751   -0.757769   -1.391334   -1.871916   \n",
       "20230124_124323_166_0     -1.835369   -1.171692   -1.391334   -1.871916   \n",
       "20230124_124323_166_15    -0.559751   -1.171692   -1.391334   -1.871916   \n",
       "20230124_124323_166_30    -0.559751   -1.171692   -1.391334   -1.623276   \n",
       "\n",
       "                         p90_TBS_up  p100_TBS_up  mean_TBS_up  ...  \\\n",
       "id                                                             ...   \n",
       "20221117_125310_4_0       -1.436325    -0.240051    -1.718972  ...   \n",
       "20221117_125310_4_15      -2.404516    -1.991422    -2.337767  ...   \n",
       "20221117_125310_4_30      -0.483501    -0.068663    -1.002338  ...   \n",
       "20221117_125310_4_45       0.440122     1.311368     0.186634  ...   \n",
       "20221117_125310_4_60       0.538478     1.311368     0.343374  ...   \n",
       "...                             ...          ...          ...  ...   \n",
       "20230124_124323_161_135   -2.097154    -1.605799    -1.919325  ...   \n",
       "20230124_124323_161_150   -2.226246    -1.862881    -1.994594  ...   \n",
       "20230124_124323_166_0     -2.220099    -0.240051    -2.055499  ...   \n",
       "20230124_124323_166_15    -2.004945    -0.240051    -1.942284  ...   \n",
       "20230124_124323_166_30    -1.676067    -0.240051    -1.866607  ...   \n",
       "\n",
       "                         p25_TBS_down  p50_TBS_down  p75_TBS_down  \\\n",
       "id                                                                  \n",
       "20221117_125310_4_0          -0.22648     -0.736049     -1.269605   \n",
       "20221117_125310_4_15         -0.22648     -0.736049     -1.344185   \n",
       "20221117_125310_4_30         -0.22648     -0.736049     -1.269605   \n",
       "20221117_125310_4_45         -0.22648     -0.736049     -0.763364   \n",
       "20221117_125310_4_60         -0.22648     -0.736049     -0.763364   \n",
       "...                               ...           ...           ...   \n",
       "20230124_124323_161_135      -0.22648     -0.736049     -1.269605   \n",
       "20230124_124323_161_150      -0.22648     -0.736049     -1.269605   \n",
       "20230124_124323_166_0        -0.22648     -0.637617     -1.197285   \n",
       "20230124_124323_166_15       -0.22648     -0.637617     -0.971284   \n",
       "20230124_124323_166_30       -0.22648     -0.637617     -0.971284   \n",
       "\n",
       "                         p90_TBS_down  p100_TBS_down  mean_TBS_down  \\\n",
       "id                                                                    \n",
       "20221117_125310_4_0         -1.470613      -0.919345      -1.178339   \n",
       "20221117_125310_4_15        -1.572322      -1.050957      -1.300843   \n",
       "20221117_125310_4_30        -1.216341      -0.919345      -1.060102   \n",
       "20221117_125310_4_45        -0.796793      -0.919345      -0.793833   \n",
       "20221117_125310_4_60        -0.758653      -0.919345      -0.715909   \n",
       "...                               ...            ...            ...   \n",
       "20230124_124323_161_135     -0.234217      -1.123813      -0.850284   \n",
       "20230124_124323_161_150     -0.234217      -1.123813      -0.781947   \n",
       "20230124_124323_166_0       -1.101919      -1.050957      -0.992159   \n",
       "20230124_124323_166_15      -0.285072      -1.050957      -0.789865   \n",
       "20230124_124323_166_30      -0.285072      -0.674923      -0.835919   \n",
       "\n",
       "                         std_TBS_down  sum_TBS_down  mean_per_time_TBS_down  \\\n",
       "id                                                                            \n",
       "20221117_125310_4_0         -0.777600     -1.475897               -1.481635   \n",
       "20221117_125310_4_15        -1.131288     -1.495820               -1.500675   \n",
       "20221117_125310_4_30        -0.697977     -1.420571               -1.425429   \n",
       "20221117_125310_4_45        -0.595417     -1.216219               -1.212737   \n",
       "20221117_125310_4_60        -0.593749     -0.994094               -0.980286   \n",
       "...                               ...           ...                     ...   \n",
       "20230124_124323_161_135     -0.622899     -0.972197               -0.937537   \n",
       "20230124_124323_161_150     -0.568068     -0.982007               -0.894764   \n",
       "20230124_124323_166_0       -0.865917     -0.776889               -0.764093   \n",
       "20230124_124323_166_15      -0.580559     -0.554843               -0.449563   \n",
       "20230124_124323_166_30      -0.569246     -0.601820               -0.604387   \n",
       "\n",
       "                             label  \n",
       "id                                  \n",
       "20221117_125310_4_0      messenger  \n",
       "20221117_125310_4_15     messenger  \n",
       "20221117_125310_4_30     messenger  \n",
       "20221117_125310_4_45     messenger  \n",
       "20221117_125310_4_60     messenger  \n",
       "...                            ...  \n",
       "20230124_124323_161_135    youtube  \n",
       "20230124_124323_161_150    youtube  \n",
       "20230124_124323_166_0      youtube  \n",
       "20230124_124323_166_15     youtube  \n",
       "20230124_124323_166_30     youtube  \n",
       "\n",
       "[23657 rows x 27 columns]"
      ]
     },
     "execution_count": 4,
     "metadata": {},
     "output_type": "execute_result"
    }
   ],
   "source": [
    "scaler = Scaler_Metrics()\n",
    "training_data = scaler.fit_transform(df_train)\n",
    "testing_data = scaler.transform(df_test)\n",
    "training_data"
   ]
  },
  {
   "cell_type": "markdown",
   "id": "38e03cda",
   "metadata": {},
   "source": [
    "# Remove Noise"
   ]
  },
  {
   "cell_type": "code",
   "execution_count": 5,
   "id": "e73db52a",
   "metadata": {},
   "outputs": [],
   "source": [
    "training_data = training_data[training_data .label!=\"noise\"]\n",
    "testing_data = testing_data[testing_data .label!=\"noise\"]"
   ]
  },
  {
   "cell_type": "code",
   "execution_count": null,
   "id": "118ea53f",
   "metadata": {},
   "outputs": [],
   "source": []
  },
  {
   "cell_type": "markdown",
   "id": "a633b31e",
   "metadata": {},
   "source": [
    "# Train"
   ]
  },
  {
   "cell_type": "code",
   "execution_count": 6,
   "id": "3b0c06bd",
   "metadata": {},
   "outputs": [
    {
     "name": "stdout",
     "output_type": "stream",
     "text": [
      "Training Duration : 5.5754607 s for a dataset length of 23474\n"
     ]
    }
   ],
   "source": [
    "time_counter = time.time_ns()\n",
    "\n",
    "model = RandomForestClassifier(class_weight = \"balanced\")\n",
    "model.fit(training_data[training_data.columns[:-1]], training_data.label)\n",
    "\n",
    "training_duration = (time.time_ns() - time_counter)/(10**9)\n",
    "print(f\"Training Duration : {training_duration} s for a dataset length of {len(training_data.label)}\")"
   ]
  },
  {
   "cell_type": "markdown",
   "id": "cf339a45",
   "metadata": {},
   "source": [
    "# Test"
   ]
  },
  {
   "cell_type": "code",
   "execution_count": 7,
   "id": "6c2b45c1",
   "metadata": {},
   "outputs": [
    {
     "name": "stdout",
     "output_type": "stream",
     "text": [
      "Testing Duration : 0.1468223 s for a dataset length of 10044\n",
      "Testing Duration per data : 0.014617911190760651 ms\n"
     ]
    }
   ],
   "source": [
    "# mesure efficiency\n",
    "time_counter = time.time_ns()\n",
    "\n",
    "preds_labels =  model.predict(testing_data[testing_data.columns[:-1]])\n",
    "true_labels = testing_data.label\n",
    "\n",
    "testing_duration = (time.time_ns() - time_counter)/(10**9)\n",
    "print(f\"Testing Duration : {testing_duration} s for a dataset length of {len(testing_data.label)}\")\n",
    "testing_duration_per_item = testing_duration*(10**3)/len(testing_data.label)\n",
    "print(f\"Testing Duration per data : {testing_duration_per_item} ms\")"
   ]
  },
  {
   "cell_type": "code",
   "execution_count": 8,
   "id": "e75fb978",
   "metadata": {},
   "outputs": [
    {
     "name": "stdout",
     "output_type": "stream",
     "text": [
      "normalized confusion matrix\n"
     ]
    },
    {
     "data": {
      "image/png": "[encoded data removed]",
      "text/plain": [
       "<Figure size 432x432 with 2 Axes>"
      ]
     },
     "metadata": {
      "needs_background": "light"
     },
     "output_type": "display_data"
    }
   ],
   "source": [
    "plot_confusion_matrix(true_labels,preds_labels)"
   ]
  },
  {
   "cell_type": "code",
   "execution_count": 9,
   "id": "a1ebe613",
   "metadata": {},
   "outputs": [
    {
     "data": {
      "text/plain": [
       "{'Accuracy': 0.8986758056841022,\n",
       " 'Precision': 0.899527546173484,\n",
       " 'Recall': 0.7772799681401832,\n",
       " 'F1_Score': 0.803688429152173,\n",
       " 'support': None}"
      ]
     },
     "execution_count": 9,
     "metadata": {},
     "output_type": "execute_result"
    }
   ],
   "source": [
    "get_scores(true_labels,preds_labels)"
   ]
  },
  {
   "cell_type": "code",
   "execution_count": null,
   "id": "e14f6b32",
   "metadata": {},
   "outputs": [],
   "source": []
  },
  {
   "cell_type": "code",
   "execution_count": 10,
   "id": "a6f2b4ab",
   "metadata": {},
   "outputs": [
    {
     "data": {
      "image/png": "[encoded data removed]",
      "text/plain": [
       "<Figure size 648x432 with 1 Axes>"
      ]
     },
     "metadata": {
      "needs_background": "light"
     },
     "output_type": "display_data"
    }
   ],
   "source": [
    "\n",
    "    \n",
    "plot_feature_importance(model, training_data.columns[:-1])"
   ]
  },
  {
   "cell_type": "code",
   "execution_count": null,
   "id": "a1848d66",
   "metadata": {},
   "outputs": [],
   "source": []
  },
  {
   "cell_type": "code",
   "execution_count": null,
   "id": "3c28c63b",
   "metadata": {},
   "outputs": [],
   "source": []
  },
  {
   "cell_type": "code",
   "execution_count": null,
   "id": "b21fb5b2",
   "metadata": {},
   "outputs": [],
   "source": []
  }
 ],
 "metadata": {
  "kernelspec": {
   "display_name": "Python 3 (ipykernel)",
   "language": "python",
   "name": "python3"
  },
  "language_info": {
   "codemirror_mode": {
    "name": "ipython",
    "version": 3
   },
   "file_extension": ".py",
   "mimetype": "text/x-python",
   "name": "python",
   "nbconvert_exporter": "python",
   "pygments_lexer": "ipython3",
   "version": "3.9.12"
  }
 },
 "nbformat": 4,
 "nbformat_minor": 5
}
