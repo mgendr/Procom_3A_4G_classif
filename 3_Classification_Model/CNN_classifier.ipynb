{
 "cells": [
  {
   "cell_type": "code",
   "execution_count": 1,
   "id": "4c53af1c",
   "metadata": {},
   "outputs": [],
   "source": [
    "import os\n",
    "import pandas as pd\n",
    "import warnings\n",
    "import matplotlib.pyplot as plt\n",
    "\n",
    "import numpy as np\n",
    "import seaborn as sns\n",
    "\n",
    "from tqdm import tqdm\n",
    "from random import randint\n",
    "from sklearn.model_selection import train_test_split\n",
    "from sklearn.utils.class_weight import compute_class_weight\n",
    "import itertools\n",
    "import sys\n",
    "import sklearn.preprocessing\n",
    "import tensorflow as tf\n",
    "from tensorflow.keras.models import Sequential\n",
    "from tensorflow.keras.layers import Conv1D, MaxPool1D, Dense, Flatten, Dropout\n",
    "import time\n",
    "\n",
    "\n",
    "sys.path.append(\"../1_Format_donnees/\")\n",
    "sys.path.append(\"../\")\n",
    "from aggregation import load_and_preprocess_agg_window, Scaler_Metrics\n",
    "from evaluate import plot_confusion_matrix, get_scores"
   ]
  },
  {
   "cell_type": "code",
   "execution_count": 2,
   "id": "b66b2e91",
   "metadata": {},
   "outputs": [],
   "source": [
    "DEFAULT_LENGTH_Value = 60\n",
    "STEP = 5"
   ]
  },
  {
   "cell_type": "markdown",
   "id": "eaa70e18",
   "metadata": {},
   "source": [
    "# Load Data"
   ]
  },
  {
   "cell_type": "code",
   "execution_count": 3,
   "id": "da843876",
   "metadata": {},
   "outputs": [
    {
     "name": "stdout",
     "output_type": "stream",
     "text": [
      "Load datasets...\n",
      "Extracting ../Mesures/train\\messenger20221117_125310.csv.... 1/39\n"
     ]
    },
    {
     "name": "stderr",
     "output_type": "stream",
     "text": [
      "100%|██████████████████████████████████████████████████████████████████████████████████| 15/15 [00:00<00:00, 84.05it/s]\n"
     ]
    },
    {
     "name": "stdout",
     "output_type": "stream",
     "text": [
      "Extracting ../Mesures/train\\messenger20221124_143112.csv.... 2/39\n"
     ]
    },
    {
     "name": "stderr",
     "output_type": "stream",
     "text": [
      "100%|██████████████████████████████████████████████████████████████████████████████████| 11/11 [00:00<00:00, 34.91it/s]\n"
     ]
    },
    {
     "name": "stdout",
     "output_type": "stream",
     "text": [
      "Extracting ../Mesures/train\\messenger20221125_130559.csv.... 3/39\n"
     ]
    },
    {
     "name": "stderr",
     "output_type": "stream",
     "text": [
      "100%|██████████████████████████████████████████████████████████████████████████████████| 38/38 [00:00<00:00, 92.70it/s]\n"
     ]
    },
    {
     "name": "stdout",
     "output_type": "stream",
     "text": [
      "Extracting ../Mesures/train\\messenger20221129_131204.csv.... 4/39\n"
     ]
    },
    {
     "name": "stderr",
     "output_type": "stream",
     "text": [
      "100%|██████████████████████████████████████████████████████████████████████████████████| 14/14 [00:01<00:00, 10.97it/s]\n"
     ]
    },
    {
     "name": "stdout",
     "output_type": "stream",
     "text": [
      "Extracting ../Mesures/train\\messenger20221129_151124.csv.... 5/39\n"
     ]
    },
    {
     "name": "stderr",
     "output_type": "stream",
     "text": [
      "100%|████████████████████████████████████████████████████████████████████████████████████| 5/5 [00:00<00:00,  6.45it/s]\n"
     ]
    },
    {
     "name": "stdout",
     "output_type": "stream",
     "text": [
      "Extracting ../Mesures/train\\messenger20230207_133921.csv.... 6/39\n"
     ]
    },
    {
     "name": "stderr",
     "output_type": "stream",
     "text": [
      "100%|████████████████████████████████████████████████████████████████████████████████████| 2/2 [00:00<00:00,  2.25it/s]\n"
     ]
    },
    {
     "name": "stdout",
     "output_type": "stream",
     "text": [
      "Extracting ../Mesures/train\\messenger20230209_083453.csv.... 7/39\n"
     ]
    },
    {
     "name": "stderr",
     "output_type": "stream",
     "text": [
      "100%|████████████████████████████████████████████████████████████████████████████████████| 5/5 [00:01<00:00,  4.25it/s]\n"
     ]
    },
    {
     "name": "stdout",
     "output_type": "stream",
     "text": [
      "Extracting ../Mesures/train\\pure_noise20230106_132210.csv.... 8/39\n"
     ]
    },
    {
     "name": "stderr",
     "output_type": "stream",
     "text": [
      "100%|███████████████████████████████████████████████████████████████████████████████| 805/805 [00:00<00:00, 973.85it/s]\n"
     ]
    },
    {
     "name": "stdout",
     "output_type": "stream",
     "text": [
      "Extracting ../Mesures/train\\skype20221129_164105.csv.... 9/39\n"
     ]
    },
    {
     "name": "stderr",
     "output_type": "stream",
     "text": [
      "100%|████████████████████████████████████████████████████████████████████████████████████| 5/5 [00:00<00:00, 12.30it/s]\n"
     ]
    },
    {
     "name": "stdout",
     "output_type": "stream",
     "text": [
      "Extracting ../Mesures/train\\skype20221206_125510.csv.... 10/39\n"
     ]
    },
    {
     "name": "stderr",
     "output_type": "stream",
     "text": [
      "100%|██████████████████████████████████████████████████████████████████████████████████| 19/19 [00:00<00:00, 32.67it/s]\n"
     ]
    },
    {
     "name": "stdout",
     "output_type": "stream",
     "text": [
      "Extracting ../Mesures/train\\skype20221208_104403.csv.... 11/39\n"
     ]
    },
    {
     "name": "stderr",
     "output_type": "stream",
     "text": [
      "100%|████████████████████████████████████████████████████████████████████████████████████| 7/7 [00:01<00:00,  3.59it/s]\n"
     ]
    },
    {
     "name": "stdout",
     "output_type": "stream",
     "text": [
      "Extracting ../Mesures/train\\skype20221208_124925.csv.... 12/39\n"
     ]
    },
    {
     "name": "stderr",
     "output_type": "stream",
     "text": [
      "100%|████████████████████████████████████████████████████████████████████████████████████| 6/6 [00:02<00:00,  2.25it/s]\n"
     ]
    },
    {
     "name": "stdout",
     "output_type": "stream",
     "text": [
      "Extracting ../Mesures/train\\skype20221215_151512.csv.... 13/39\n"
     ]
    },
    {
     "name": "stderr",
     "output_type": "stream",
     "text": [
      "100%|██████████████████████████████████████████████████████████████████████████████████| 23/23 [00:00<00:00, 40.01it/s]\n"
     ]
    },
    {
     "name": "stdout",
     "output_type": "stream",
     "text": [
      "Extracting ../Mesures/train\\skype20221215_155618.csv.... 14/39\n"
     ]
    },
    {
     "name": "stderr",
     "output_type": "stream",
     "text": [
      "100%|██████████████████████████████████████████████████████████████████████████████████| 19/19 [00:00<00:00, 27.18it/s]\n"
     ]
    },
    {
     "name": "stdout",
     "output_type": "stream",
     "text": [
      "Extracting ../Mesures/train\\skype20221215_164208.csv.... 15/39\n"
     ]
    },
    {
     "name": "stderr",
     "output_type": "stream",
     "text": [
      "100%|████████████████████████████████████████████████████████████████████████████████████| 5/5 [00:00<00:00,  5.96it/s]\n"
     ]
    },
    {
     "name": "stdout",
     "output_type": "stream",
     "text": [
      "Extracting ../Mesures/train\\skype20221215_174819.csv.... 16/39\n"
     ]
    },
    {
     "name": "stderr",
     "output_type": "stream",
     "text": [
      "100%|████████████████████████████████████████████████████████████████████████████████████| 6/6 [00:00<00:00,  9.16it/s]\n"
     ]
    },
    {
     "name": "stdout",
     "output_type": "stream",
     "text": [
      "Extracting ../Mesures/train\\spotify20230201_092702.csv.... 17/39\n"
     ]
    },
    {
     "name": "stderr",
     "output_type": "stream",
     "text": [
      "100%|█████████████████████████████████████████████████████████████████████████████| 1750/1750 [00:03<00:00, 559.14it/s]\n"
     ]
    },
    {
     "name": "stdout",
     "output_type": "stream",
     "text": [
      "Extracting ../Mesures/train\\spotify20230203_165507.csv.... 18/39\n"
     ]
    },
    {
     "name": "stderr",
     "output_type": "stream",
     "text": [
      "100%|███████████████████████████████████████████████████████████████████████████████| 522/522 [00:00<00:00, 987.58it/s]\n"
     ]
    },
    {
     "name": "stdout",
     "output_type": "stream",
     "text": [
      "Extracting ../Mesures/train\\spotify20230216_141318.csv.... 19/39\n"
     ]
    },
    {
     "name": "stderr",
     "output_type": "stream",
     "text": [
      "100%|███████████████████████████████████████████████████████████████████████████████| 364/364 [00:00<00:00, 981.66it/s]\n"
     ]
    },
    {
     "name": "stdout",
     "output_type": "stream",
     "text": [
      "Extracting ../Mesures/train\\twitch20221117_113554.csv.... 20/39\n"
     ]
    },
    {
     "name": "stderr",
     "output_type": "stream",
     "text": [
      "100%|██████████████████████████████████████████████████████████████████████████████████| 24/24 [00:00<00:00, 90.47it/s]\n"
     ]
    },
    {
     "name": "stdout",
     "output_type": "stream",
     "text": [
      "Extracting ../Mesures/train\\twitch20221118_075454.csv.... 21/39\n"
     ]
    },
    {
     "name": "stderr",
     "output_type": "stream",
     "text": [
      "100%|██████████████████████████████████████████████████████████████████████████████████| 16/16 [00:00<00:00, 50.95it/s]\n"
     ]
    },
    {
     "name": "stdout",
     "output_type": "stream",
     "text": [
      "Extracting ../Mesures/train\\twitch20221125_133859.csv.... 22/39\n"
     ]
    },
    {
     "name": "stderr",
     "output_type": "stream",
     "text": [
      "100%|████████████████████████████████████████████████████████████████████████████████| 108/108 [00:01<00:00, 78.60it/s]\n"
     ]
    },
    {
     "name": "stdout",
     "output_type": "stream",
     "text": [
      "Extracting ../Mesures/train\\twitch20230110_110215.csv.... 23/39\n"
     ]
    },
    {
     "name": "stderr",
     "output_type": "stream",
     "text": [
      "100%|██████████████████████████████████████████████████████████████████████████████████| 22/22 [00:00<00:00, 91.14it/s]\n"
     ]
    },
    {
     "name": "stdout",
     "output_type": "stream",
     "text": [
      "Extracting ../Mesures/train\\twitch20230110_120513.csv.... 24/39\n"
     ]
    },
    {
     "name": "stderr",
     "output_type": "stream",
     "text": [
      "100%|█████████████████████████████████████████████████████████████████████████████████| 59/59 [00:00<00:00, 292.10it/s]\n"
     ]
    },
    {
     "name": "stdout",
     "output_type": "stream",
     "text": [
      "Extracting ../Mesures/train\\twitch20230110_130648.csv.... 25/39\n"
     ]
    },
    {
     "name": "stderr",
     "output_type": "stream",
     "text": [
      "100%|███████████████████████████████████████████████████████████████████████████████| 426/426 [00:00<00:00, 682.72it/s]\n"
     ]
    },
    {
     "name": "stdout",
     "output_type": "stream",
     "text": [
      "Extracting ../Mesures/train\\youtube20221108_165214.csv.... 26/39\n"
     ]
    },
    {
     "name": "stderr",
     "output_type": "stream",
     "text": [
      "100%|█████████████████████████████████████████████████████████████████████████████████| 11/11 [00:00<00:00, 525.22it/s]\n"
     ]
    },
    {
     "name": "stdout",
     "output_type": "stream",
     "text": [
      "Extracting ../Mesures/train\\youtube20221108_182416.csv.... 27/39\n"
     ]
    },
    {
     "name": "stderr",
     "output_type": "stream",
     "text": [
      "100%|███████████████████████████████████████████████████████████████████████████████████| 4/4 [00:00<00:00, 364.62it/s]\n"
     ]
    },
    {
     "name": "stdout",
     "output_type": "stream",
     "text": [
      "Extracting ../Mesures/train\\youtube20221124_125524.csv.... 28/39\n"
     ]
    },
    {
     "name": "stderr",
     "output_type": "stream",
     "text": [
      "100%|███████████████████████████████████████████████████████████████████████████████| 186/186 [00:00<00:00, 914.21it/s]\n"
     ]
    },
    {
     "name": "stdout",
     "output_type": "stream",
     "text": [
      "Extracting ../Mesures/train\\youtube20221124_154037.csv.... 29/39\n"
     ]
    },
    {
     "name": "stderr",
     "output_type": "stream",
     "text": [
      "100%|█████████████████████████████████████████████████████████████████████████████████| 92/92 [00:00<00:00, 795.00it/s]\n"
     ]
    },
    {
     "name": "stdout",
     "output_type": "stream",
     "text": [
      "Extracting ../Mesures/train\\youtube20221130_103723.csv.... 30/39\n"
     ]
    },
    {
     "name": "stderr",
     "output_type": "stream",
     "text": [
      "100%|█████████████████████████████████████████████████████████████████████████████████| 91/91 [00:00<00:00, 678.73it/s]\n"
     ]
    },
    {
     "name": "stdout",
     "output_type": "stream",
     "text": [
      "Extracting ../Mesures/train\\youtube20230110_145404.csv.... 31/39\n"
     ]
    },
    {
     "name": "stderr",
     "output_type": "stream",
     "text": [
      "100%|████████████████████████████████████████████████████████████████████████████████| 94/94 [00:00<00:00, 1008.27it/s]\n"
     ]
    },
    {
     "name": "stdout",
     "output_type": "stream",
     "text": [
      "Extracting ../Mesures/train\\youtube20230110_161955.csv.... 32/39\n"
     ]
    },
    {
     "name": "stderr",
     "output_type": "stream",
     "text": [
      "100%|█████████████████████████████████████████████████████████████████████████████████| 90/90 [00:00<00:00, 835.19it/s]\n"
     ]
    },
    {
     "name": "stdout",
     "output_type": "stream",
     "text": [
      "Extracting ../Mesures/train\\youtube20230112_125508.csv.... 33/39\n"
     ]
    },
    {
     "name": "stderr",
     "output_type": "stream",
     "text": [
      "100%|███████████████████████████████████████████████████████████████████████████████| 108/108 [00:00<00:00, 546.82it/s]\n"
     ]
    },
    {
     "name": "stdout",
     "output_type": "stream",
     "text": [
      "Extracting ../Mesures/train\\youtube20230112_151029.csv.... 34/39\n"
     ]
    },
    {
     "name": "stderr",
     "output_type": "stream",
     "text": [
      "100%|█████████████████████████████████████████████████████████████████████████████████| 29/29 [00:00<00:00, 538.15it/s]\n"
     ]
    },
    {
     "name": "stdout",
     "output_type": "stream",
     "text": [
      "Extracting ../Mesures/train\\youtube20230112_154749.csv.... 35/39\n"
     ]
    },
    {
     "name": "stderr",
     "output_type": "stream",
     "text": [
      "100%|█████████████████████████████████████████████████████████████████████████████████| 32/32 [00:00<00:00, 534.46it/s]\n"
     ]
    },
    {
     "name": "stdout",
     "output_type": "stream",
     "text": [
      "Extracting ../Mesures/train\\youtube20230112_163634.csv.... 36/39\n"
     ]
    },
    {
     "name": "stderr",
     "output_type": "stream",
     "text": [
      "100%|█████████████████████████████████████████████████████████████████████████████████| 65/65 [00:00<00:00, 723.92it/s]\n"
     ]
    },
    {
     "name": "stdout",
     "output_type": "stream",
     "text": [
      "Extracting ../Mesures/train\\youtube20230117_095221.csv.... 37/39\n"
     ]
    },
    {
     "name": "stderr",
     "output_type": "stream",
     "text": [
      "100%|███████████████████████████████████████████████████████████████████████████████| 140/140 [00:00<00:00, 326.45it/s]\n"
     ]
    },
    {
     "name": "stdout",
     "output_type": "stream",
     "text": [
      "Extracting ../Mesures/train\\youtube20230118_134041.csv.... 38/39\n"
     ]
    },
    {
     "name": "stderr",
     "output_type": "stream",
     "text": [
      "100%|███████████████████████████████████████████████████████████████████████████████| 212/212 [00:00<00:00, 266.75it/s]\n"
     ]
    },
    {
     "name": "stdout",
     "output_type": "stream",
     "text": [
      "Extracting ../Mesures/train\\youtube20230124_124323.csv.... 39/39\n"
     ]
    },
    {
     "name": "stderr",
     "output_type": "stream",
     "text": [
      "100%|███████████████████████████████████████████████████████████████████████████████| 163/163 [00:00<00:00, 259.43it/s]\n"
     ]
    },
    {
     "name": "stdout",
     "output_type": "stream",
     "text": [
      "Reformat...\n"
     ]
    },
    {
     "name": "stderr",
     "output_type": "stream",
     "text": [
      "100%|█████████████████████████████████████████████████████████████████████████████| 5593/5593 [00:12<00:00, 451.80it/s]\n"
     ]
    },
    {
     "name": "stdout",
     "output_type": "stream",
     "text": [
      "Load datasets...\n",
      "Extracting ../Mesures/test\\messenger20221124_151137.csv.... 1/7\n"
     ]
    },
    {
     "name": "stderr",
     "output_type": "stream",
     "text": [
      "100%|████████████████████████████████████████████████████████████████████████████████████| 5/5 [00:00<00:00, 17.11it/s]\n"
     ]
    },
    {
     "name": "stdout",
     "output_type": "stream",
     "text": [
      "Extracting ../Mesures/test\\messenger20230208_132747.csv.... 2/7\n"
     ]
    },
    {
     "name": "stderr",
     "output_type": "stream",
     "text": [
      "100%|██████████████████████████████████████████████████████████████████████████████████| 27/27 [00:03<00:00,  6.80it/s]\n"
     ]
    },
    {
     "name": "stdout",
     "output_type": "stream",
     "text": [
      "Extracting ../Mesures/test\\skype20221206_150902.csv.... 3/7\n"
     ]
    },
    {
     "name": "stderr",
     "output_type": "stream",
     "text": [
      "100%|████████████████████████████████████████████████████████████████████████████████████| 3/3 [00:01<00:00,  2.92it/s]\n"
     ]
    },
    {
     "name": "stdout",
     "output_type": "stream",
     "text": [
      "Extracting ../Mesures/test\\spotify20230127_134348.csv.... 4/7\n"
     ]
    },
    {
     "name": "stderr",
     "output_type": "stream",
     "text": [
      "100%|███████████████████████████████████████████████████████████████████████████████| 240/240 [00:00<00:00, 883.05it/s]\n"
     ]
    },
    {
     "name": "stdout",
     "output_type": "stream",
     "text": [
      "Extracting ../Mesures/test\\twitch20221124_163054.csv.... 5/7\n"
     ]
    },
    {
     "name": "stderr",
     "output_type": "stream",
     "text": [
      "100%|██████████████████████████████████████████████████████████████████████████████████| 12/12 [00:00<00:00, 19.22it/s]\n"
     ]
    },
    {
     "name": "stdout",
     "output_type": "stream",
     "text": [
      "Extracting ../Mesures/test\\youtube20221118_104205.csv.... 6/7\n"
     ]
    },
    {
     "name": "stderr",
     "output_type": "stream",
     "text": [
      "100%|███████████████████████████████████████████████████████████████████████████████| 218/218 [00:00<00:00, 881.37it/s]\n"
     ]
    },
    {
     "name": "stdout",
     "output_type": "stream",
     "text": [
      "Extracting ../Mesures/test\\youtube20230117_121925.csv.... 7/7\n"
     ]
    },
    {
     "name": "stderr",
     "output_type": "stream",
     "text": [
      "100%|███████████████████████████████████████████████████████████████████████████████| 260/260 [00:00<00:00, 552.50it/s]\n"
     ]
    },
    {
     "name": "stdout",
     "output_type": "stream",
     "text": [
      "Reformat...\n"
     ]
    },
    {
     "name": "stderr",
     "output_type": "stream",
     "text": [
      "100%|███████████████████████████████████████████████████████████████████████████████| 765/765 [00:04<00:00, 155.43it/s]\n"
     ]
    },
    {
     "data": {
      "text/html": [
       "<div>\n",
       "<style scoped>\n",
       "    .dataframe tbody tr th:only-of-type {\n",
       "        vertical-align: middle;\n",
       "    }\n",
       "\n",
       "    .dataframe tbody tr th {\n",
       "        vertical-align: top;\n",
       "    }\n",
       "\n",
       "    .dataframe thead th {\n",
       "        text-align: right;\n",
       "    }\n",
       "</style>\n",
       "<table border=\"1\" class=\"dataframe\">\n",
       "  <thead>\n",
       "    <tr style=\"text-align: right;\">\n",
       "      <th></th>\n",
       "      <th>0</th>\n",
       "      <th>1</th>\n",
       "      <th>2</th>\n",
       "      <th>3</th>\n",
       "      <th>4</th>\n",
       "      <th>5</th>\n",
       "      <th>6</th>\n",
       "      <th>7</th>\n",
       "      <th>8</th>\n",
       "      <th>9</th>\n",
       "      <th>...</th>\n",
       "      <th>111</th>\n",
       "      <th>112</th>\n",
       "      <th>113</th>\n",
       "      <th>114</th>\n",
       "      <th>115</th>\n",
       "      <th>116</th>\n",
       "      <th>117</th>\n",
       "      <th>118</th>\n",
       "      <th>119</th>\n",
       "      <th>label</th>\n",
       "    </tr>\n",
       "  </thead>\n",
       "  <tbody>\n",
       "    <tr>\n",
       "      <th>20221124_151137_4_0</th>\n",
       "      <td>4400</td>\n",
       "      <td>0</td>\n",
       "      <td>33008</td>\n",
       "      <td>62944</td>\n",
       "      <td>111664</td>\n",
       "      <td>9960</td>\n",
       "      <td>31672</td>\n",
       "      <td>26296</td>\n",
       "      <td>7896</td>\n",
       "      <td>18736</td>\n",
       "      <td>...</td>\n",
       "      <td>0</td>\n",
       "      <td>0</td>\n",
       "      <td>0</td>\n",
       "      <td>28456</td>\n",
       "      <td>41504</td>\n",
       "      <td>9904</td>\n",
       "      <td>16880</td>\n",
       "      <td>1120</td>\n",
       "      <td>1608</td>\n",
       "      <td>messenger</td>\n",
       "    </tr>\n",
       "    <tr>\n",
       "      <th>20221124_151137_4_5</th>\n",
       "      <td>9960</td>\n",
       "      <td>31672</td>\n",
       "      <td>26296</td>\n",
       "      <td>7896</td>\n",
       "      <td>18736</td>\n",
       "      <td>24376</td>\n",
       "      <td>11032</td>\n",
       "      <td>0</td>\n",
       "      <td>0</td>\n",
       "      <td>0</td>\n",
       "      <td>...</td>\n",
       "      <td>9904</td>\n",
       "      <td>16880</td>\n",
       "      <td>1120</td>\n",
       "      <td>1608</td>\n",
       "      <td>5040</td>\n",
       "      <td>67376</td>\n",
       "      <td>38608</td>\n",
       "      <td>71560</td>\n",
       "      <td>145080</td>\n",
       "      <td>messenger</td>\n",
       "    </tr>\n",
       "    <tr>\n",
       "      <th>20221124_151137_4_10</th>\n",
       "      <td>24376</td>\n",
       "      <td>11032</td>\n",
       "      <td>0</td>\n",
       "      <td>0</td>\n",
       "      <td>0</td>\n",
       "      <td>0</td>\n",
       "      <td>41304</td>\n",
       "      <td>4240</td>\n",
       "      <td>0</td>\n",
       "      <td>8576</td>\n",
       "      <td>...</td>\n",
       "      <td>67376</td>\n",
       "      <td>38608</td>\n",
       "      <td>71560</td>\n",
       "      <td>145080</td>\n",
       "      <td>137560</td>\n",
       "      <td>145440</td>\n",
       "      <td>155472</td>\n",
       "      <td>120328</td>\n",
       "      <td>150624</td>\n",
       "      <td>messenger</td>\n",
       "    </tr>\n",
       "    <tr>\n",
       "      <th>20221124_151137_4_15</th>\n",
       "      <td>0</td>\n",
       "      <td>41304</td>\n",
       "      <td>4240</td>\n",
       "      <td>0</td>\n",
       "      <td>8576</td>\n",
       "      <td>4048</td>\n",
       "      <td>4216</td>\n",
       "      <td>26016</td>\n",
       "      <td>48224</td>\n",
       "      <td>4384</td>\n",
       "      <td>...</td>\n",
       "      <td>145440</td>\n",
       "      <td>155472</td>\n",
       "      <td>120328</td>\n",
       "      <td>150624</td>\n",
       "      <td>194512</td>\n",
       "      <td>196488</td>\n",
       "      <td>168464</td>\n",
       "      <td>113928</td>\n",
       "      <td>144616</td>\n",
       "      <td>messenger</td>\n",
       "    </tr>\n",
       "    <tr>\n",
       "      <th>20221124_151137_4_20</th>\n",
       "      <td>4048</td>\n",
       "      <td>4216</td>\n",
       "      <td>26016</td>\n",
       "      <td>48224</td>\n",
       "      <td>4384</td>\n",
       "      <td>25096</td>\n",
       "      <td>48136</td>\n",
       "      <td>24840</td>\n",
       "      <td>0</td>\n",
       "      <td>0</td>\n",
       "      <td>...</td>\n",
       "      <td>196488</td>\n",
       "      <td>168464</td>\n",
       "      <td>113928</td>\n",
       "      <td>144616</td>\n",
       "      <td>158248</td>\n",
       "      <td>125112</td>\n",
       "      <td>136360</td>\n",
       "      <td>146976</td>\n",
       "      <td>133488</td>\n",
       "      <td>messenger</td>\n",
       "    </tr>\n",
       "    <tr>\n",
       "      <th>...</th>\n",
       "      <td>...</td>\n",
       "      <td>...</td>\n",
       "      <td>...</td>\n",
       "      <td>...</td>\n",
       "      <td>...</td>\n",
       "      <td>...</td>\n",
       "      <td>...</td>\n",
       "      <td>...</td>\n",
       "      <td>...</td>\n",
       "      <td>...</td>\n",
       "      <td>...</td>\n",
       "      <td>...</td>\n",
       "      <td>...</td>\n",
       "      <td>...</td>\n",
       "      <td>...</td>\n",
       "      <td>...</td>\n",
       "      <td>...</td>\n",
       "      <td>...</td>\n",
       "      <td>...</td>\n",
       "      <td>...</td>\n",
       "      <td>...</td>\n",
       "    </tr>\n",
       "    <tr>\n",
       "      <th>20230117_121925_263_25</th>\n",
       "      <td>0</td>\n",
       "      <td>0</td>\n",
       "      <td>0</td>\n",
       "      <td>0</td>\n",
       "      <td>0</td>\n",
       "      <td>28184</td>\n",
       "      <td>0</td>\n",
       "      <td>15480</td>\n",
       "      <td>0</td>\n",
       "      <td>0</td>\n",
       "      <td>...</td>\n",
       "      <td>0</td>\n",
       "      <td>0</td>\n",
       "      <td>0</td>\n",
       "      <td>0</td>\n",
       "      <td>2336</td>\n",
       "      <td>96600</td>\n",
       "      <td>560</td>\n",
       "      <td>1304</td>\n",
       "      <td>0</td>\n",
       "      <td>youtube</td>\n",
       "    </tr>\n",
       "    <tr>\n",
       "      <th>20230117_121925_263_30</th>\n",
       "      <td>28184</td>\n",
       "      <td>0</td>\n",
       "      <td>15480</td>\n",
       "      <td>0</td>\n",
       "      <td>0</td>\n",
       "      <td>0</td>\n",
       "      <td>0</td>\n",
       "      <td>0</td>\n",
       "      <td>0</td>\n",
       "      <td>0</td>\n",
       "      <td>...</td>\n",
       "      <td>96600</td>\n",
       "      <td>560</td>\n",
       "      <td>1304</td>\n",
       "      <td>0</td>\n",
       "      <td>0</td>\n",
       "      <td>0</td>\n",
       "      <td>0</td>\n",
       "      <td>467640</td>\n",
       "      <td>0</td>\n",
       "      <td>youtube</td>\n",
       "    </tr>\n",
       "    <tr>\n",
       "      <th>20230117_121925_263_35</th>\n",
       "      <td>0</td>\n",
       "      <td>0</td>\n",
       "      <td>0</td>\n",
       "      <td>0</td>\n",
       "      <td>0</td>\n",
       "      <td>0</td>\n",
       "      <td>14000</td>\n",
       "      <td>592</td>\n",
       "      <td>0</td>\n",
       "      <td>0</td>\n",
       "      <td>...</td>\n",
       "      <td>0</td>\n",
       "      <td>0</td>\n",
       "      <td>467640</td>\n",
       "      <td>0</td>\n",
       "      <td>0</td>\n",
       "      <td>0</td>\n",
       "      <td>296240</td>\n",
       "      <td>110272</td>\n",
       "      <td>0</td>\n",
       "      <td>youtube</td>\n",
       "    </tr>\n",
       "    <tr>\n",
       "      <th>20230117_121925_263_40</th>\n",
       "      <td>0</td>\n",
       "      <td>14000</td>\n",
       "      <td>592</td>\n",
       "      <td>0</td>\n",
       "      <td>0</td>\n",
       "      <td>0</td>\n",
       "      <td>0</td>\n",
       "      <td>0</td>\n",
       "      <td>0</td>\n",
       "      <td>0</td>\n",
       "      <td>...</td>\n",
       "      <td>0</td>\n",
       "      <td>296240</td>\n",
       "      <td>110272</td>\n",
       "      <td>0</td>\n",
       "      <td>0</td>\n",
       "      <td>0</td>\n",
       "      <td>0</td>\n",
       "      <td>0</td>\n",
       "      <td>0</td>\n",
       "      <td>youtube</td>\n",
       "    </tr>\n",
       "    <tr>\n",
       "      <th>20230117_121925_263_45</th>\n",
       "      <td>0</td>\n",
       "      <td>0</td>\n",
       "      <td>0</td>\n",
       "      <td>0</td>\n",
       "      <td>0</td>\n",
       "      <td>0</td>\n",
       "      <td>19208</td>\n",
       "      <td>0</td>\n",
       "      <td>0</td>\n",
       "      <td>0</td>\n",
       "      <td>...</td>\n",
       "      <td>0</td>\n",
       "      <td>0</td>\n",
       "      <td>0</td>\n",
       "      <td>0</td>\n",
       "      <td>0</td>\n",
       "      <td>648</td>\n",
       "      <td>448</td>\n",
       "      <td>0</td>\n",
       "      <td>0</td>\n",
       "      <td>youtube</td>\n",
       "    </tr>\n",
       "  </tbody>\n",
       "</table>\n",
       "<p>30004 rows × 121 columns</p>\n",
       "</div>"
      ],
      "text/plain": [
       "                            0      1      2      3       4      5      6  \\\n",
       "20221124_151137_4_0      4400      0  33008  62944  111664   9960  31672   \n",
       "20221124_151137_4_5      9960  31672  26296   7896   18736  24376  11032   \n",
       "20221124_151137_4_10    24376  11032      0      0       0      0  41304   \n",
       "20221124_151137_4_15        0  41304   4240      0    8576   4048   4216   \n",
       "20221124_151137_4_20     4048   4216  26016  48224    4384  25096  48136   \n",
       "...                       ...    ...    ...    ...     ...    ...    ...   \n",
       "20230117_121925_263_25      0      0      0      0       0  28184      0   \n",
       "20230117_121925_263_30  28184      0  15480      0       0      0      0   \n",
       "20230117_121925_263_35      0      0      0      0       0      0  14000   \n",
       "20230117_121925_263_40      0  14000    592      0       0      0      0   \n",
       "20230117_121925_263_45      0      0      0      0       0      0  19208   \n",
       "\n",
       "                            7      8      9  ...     111     112     113  \\\n",
       "20221124_151137_4_0     26296   7896  18736  ...       0       0       0   \n",
       "20221124_151137_4_5         0      0      0  ...    9904   16880    1120   \n",
       "20221124_151137_4_10     4240      0   8576  ...   67376   38608   71560   \n",
       "20221124_151137_4_15    26016  48224   4384  ...  145440  155472  120328   \n",
       "20221124_151137_4_20    24840      0      0  ...  196488  168464  113928   \n",
       "...                       ...    ...    ...  ...     ...     ...     ...   \n",
       "20230117_121925_263_25  15480      0      0  ...       0       0       0   \n",
       "20230117_121925_263_30      0      0      0  ...   96600     560    1304   \n",
       "20230117_121925_263_35    592      0      0  ...       0       0  467640   \n",
       "20230117_121925_263_40      0      0      0  ...       0  296240  110272   \n",
       "20230117_121925_263_45      0      0      0  ...       0       0       0   \n",
       "\n",
       "                           114     115     116     117     118     119  \\\n",
       "20221124_151137_4_0      28456   41504    9904   16880    1120    1608   \n",
       "20221124_151137_4_5       1608    5040   67376   38608   71560  145080   \n",
       "20221124_151137_4_10    145080  137560  145440  155472  120328  150624   \n",
       "20221124_151137_4_15    150624  194512  196488  168464  113928  144616   \n",
       "20221124_151137_4_20    144616  158248  125112  136360  146976  133488   \n",
       "...                        ...     ...     ...     ...     ...     ...   \n",
       "20230117_121925_263_25       0    2336   96600     560    1304       0   \n",
       "20230117_121925_263_30       0       0       0       0  467640       0   \n",
       "20230117_121925_263_35       0       0       0  296240  110272       0   \n",
       "20230117_121925_263_40       0       0       0       0       0       0   \n",
       "20230117_121925_263_45       0       0     648     448       0       0   \n",
       "\n",
       "                            label  \n",
       "20221124_151137_4_0     messenger  \n",
       "20221124_151137_4_5     messenger  \n",
       "20221124_151137_4_10    messenger  \n",
       "20221124_151137_4_15    messenger  \n",
       "20221124_151137_4_20    messenger  \n",
       "...                           ...  \n",
       "20230117_121925_263_25    youtube  \n",
       "20230117_121925_263_30    youtube  \n",
       "20230117_121925_263_35    youtube  \n",
       "20230117_121925_263_40    youtube  \n",
       "20230117_121925_263_45    youtube  \n",
       "\n",
       "[30004 rows x 121 columns]"
      ]
     },
     "execution_count": 3,
     "metadata": {},
     "output_type": "execute_result"
    }
   ],
   "source": [
    "df_train = load_and_preprocess_agg_window(\"../Mesures/train\", length_value = DEFAULT_LENGTH_Value, step = STEP)\n",
    "\n",
    "df_test = load_and_preprocess_agg_window(\"../Mesures/test\", length_value = DEFAULT_LENGTH_Value, step = STEP)\n",
    "df_test\n"
   ]
  },
  {
   "cell_type": "markdown",
   "id": "a536a54e",
   "metadata": {},
   "source": [
    "# Noise"
   ]
  },
  {
   "cell_type": "code",
   "execution_count": 4,
   "id": "fb379dc2",
   "metadata": {},
   "outputs": [
    {
     "data": {
      "text/html": [
       "<div>\n",
       "<style scoped>\n",
       "    .dataframe tbody tr th:only-of-type {\n",
       "        vertical-align: middle;\n",
       "    }\n",
       "\n",
       "    .dataframe tbody tr th {\n",
       "        vertical-align: top;\n",
       "    }\n",
       "\n",
       "    .dataframe thead th {\n",
       "        text-align: right;\n",
       "    }\n",
       "</style>\n",
       "<table border=\"1\" class=\"dataframe\">\n",
       "  <thead>\n",
       "    <tr style=\"text-align: right;\">\n",
       "      <th></th>\n",
       "      <th>0</th>\n",
       "      <th>1</th>\n",
       "      <th>2</th>\n",
       "      <th>3</th>\n",
       "      <th>4</th>\n",
       "      <th>5</th>\n",
       "      <th>6</th>\n",
       "      <th>7</th>\n",
       "      <th>8</th>\n",
       "      <th>9</th>\n",
       "      <th>...</th>\n",
       "      <th>111</th>\n",
       "      <th>112</th>\n",
       "      <th>113</th>\n",
       "      <th>114</th>\n",
       "      <th>115</th>\n",
       "      <th>116</th>\n",
       "      <th>117</th>\n",
       "      <th>118</th>\n",
       "      <th>119</th>\n",
       "      <th>label</th>\n",
       "    </tr>\n",
       "  </thead>\n",
       "  <tbody>\n",
       "    <tr>\n",
       "      <th>20221117_125310_4_0</th>\n",
       "      <td>2592</td>\n",
       "      <td>0</td>\n",
       "      <td>52176</td>\n",
       "      <td>40096</td>\n",
       "      <td>80224</td>\n",
       "      <td>80112</td>\n",
       "      <td>328</td>\n",
       "      <td>0</td>\n",
       "      <td>0</td>\n",
       "      <td>0</td>\n",
       "      <td>...</td>\n",
       "      <td>0</td>\n",
       "      <td>0</td>\n",
       "      <td>0</td>\n",
       "      <td>0</td>\n",
       "      <td>0</td>\n",
       "      <td>0</td>\n",
       "      <td>0</td>\n",
       "      <td>0</td>\n",
       "      <td>0</td>\n",
       "      <td>messenger</td>\n",
       "    </tr>\n",
       "    <tr>\n",
       "      <th>20221117_125310_4_5</th>\n",
       "      <td>80112</td>\n",
       "      <td>328</td>\n",
       "      <td>0</td>\n",
       "      <td>0</td>\n",
       "      <td>0</td>\n",
       "      <td>0</td>\n",
       "      <td>0</td>\n",
       "      <td>0</td>\n",
       "      <td>0</td>\n",
       "      <td>21864</td>\n",
       "      <td>...</td>\n",
       "      <td>0</td>\n",
       "      <td>0</td>\n",
       "      <td>0</td>\n",
       "      <td>0</td>\n",
       "      <td>448</td>\n",
       "      <td>0</td>\n",
       "      <td>0</td>\n",
       "      <td>2688</td>\n",
       "      <td>672</td>\n",
       "      <td>messenger</td>\n",
       "    </tr>\n",
       "    <tr>\n",
       "      <th>20221117_125310_4_10</th>\n",
       "      <td>0</td>\n",
       "      <td>0</td>\n",
       "      <td>0</td>\n",
       "      <td>0</td>\n",
       "      <td>21864</td>\n",
       "      <td>0</td>\n",
       "      <td>0</td>\n",
       "      <td>0</td>\n",
       "      <td>392</td>\n",
       "      <td>584</td>\n",
       "      <td>...</td>\n",
       "      <td>0</td>\n",
       "      <td>0</td>\n",
       "      <td>2688</td>\n",
       "      <td>672</td>\n",
       "      <td>4600</td>\n",
       "      <td>0</td>\n",
       "      <td>0</td>\n",
       "      <td>0</td>\n",
       "      <td>0</td>\n",
       "      <td>messenger</td>\n",
       "    </tr>\n",
       "    <tr>\n",
       "      <th>20221117_125310_4_15</th>\n",
       "      <td>0</td>\n",
       "      <td>0</td>\n",
       "      <td>0</td>\n",
       "      <td>392</td>\n",
       "      <td>584</td>\n",
       "      <td>5712</td>\n",
       "      <td>0</td>\n",
       "      <td>0</td>\n",
       "      <td>0</td>\n",
       "      <td>0</td>\n",
       "      <td>...</td>\n",
       "      <td>0</td>\n",
       "      <td>0</td>\n",
       "      <td>0</td>\n",
       "      <td>0</td>\n",
       "      <td>0</td>\n",
       "      <td>0</td>\n",
       "      <td>0</td>\n",
       "      <td>33688</td>\n",
       "      <td>0</td>\n",
       "      <td>messenger</td>\n",
       "    </tr>\n",
       "    <tr>\n",
       "      <th>20221117_125310_4_20</th>\n",
       "      <td>5712</td>\n",
       "      <td>0</td>\n",
       "      <td>0</td>\n",
       "      <td>0</td>\n",
       "      <td>0</td>\n",
       "      <td>0</td>\n",
       "      <td>0</td>\n",
       "      <td>0</td>\n",
       "      <td>0</td>\n",
       "      <td>31624</td>\n",
       "      <td>...</td>\n",
       "      <td>0</td>\n",
       "      <td>0</td>\n",
       "      <td>33688</td>\n",
       "      <td>0</td>\n",
       "      <td>5912</td>\n",
       "      <td>13168</td>\n",
       "      <td>5536</td>\n",
       "      <td>3440</td>\n",
       "      <td>2848</td>\n",
       "      <td>messenger</td>\n",
       "    </tr>\n",
       "    <tr>\n",
       "      <th>...</th>\n",
       "      <td>...</td>\n",
       "      <td>...</td>\n",
       "      <td>...</td>\n",
       "      <td>...</td>\n",
       "      <td>...</td>\n",
       "      <td>...</td>\n",
       "      <td>...</td>\n",
       "      <td>...</td>\n",
       "      <td>...</td>\n",
       "      <td>...</td>\n",
       "      <td>...</td>\n",
       "      <td>...</td>\n",
       "      <td>...</td>\n",
       "      <td>...</td>\n",
       "      <td>...</td>\n",
       "      <td>...</td>\n",
       "      <td>...</td>\n",
       "      <td>...</td>\n",
       "      <td>...</td>\n",
       "      <td>...</td>\n",
       "      <td>...</td>\n",
       "    </tr>\n",
       "    <tr>\n",
       "      <th>20230124_124323_166_25</th>\n",
       "      <td>0</td>\n",
       "      <td>0</td>\n",
       "      <td>0</td>\n",
       "      <td>0</td>\n",
       "      <td>0</td>\n",
       "      <td>26952</td>\n",
       "      <td>58424</td>\n",
       "      <td>0</td>\n",
       "      <td>0</td>\n",
       "      <td>0</td>\n",
       "      <td>...</td>\n",
       "      <td>0</td>\n",
       "      <td>0</td>\n",
       "      <td>0</td>\n",
       "      <td>0</td>\n",
       "      <td>0</td>\n",
       "      <td>448</td>\n",
       "      <td>0</td>\n",
       "      <td>3696</td>\n",
       "      <td>2152</td>\n",
       "      <td>youtube</td>\n",
       "    </tr>\n",
       "    <tr>\n",
       "      <th>20230124_124323_166_30</th>\n",
       "      <td>26952</td>\n",
       "      <td>58424</td>\n",
       "      <td>0</td>\n",
       "      <td>0</td>\n",
       "      <td>0</td>\n",
       "      <td>0</td>\n",
       "      <td>8704</td>\n",
       "      <td>0</td>\n",
       "      <td>0</td>\n",
       "      <td>7744</td>\n",
       "      <td>...</td>\n",
       "      <td>448</td>\n",
       "      <td>0</td>\n",
       "      <td>3696</td>\n",
       "      <td>2152</td>\n",
       "      <td>896</td>\n",
       "      <td>200032</td>\n",
       "      <td>0</td>\n",
       "      <td>0</td>\n",
       "      <td>7440</td>\n",
       "      <td>youtube</td>\n",
       "    </tr>\n",
       "    <tr>\n",
       "      <th>20230124_124323_166_35</th>\n",
       "      <td>0</td>\n",
       "      <td>8704</td>\n",
       "      <td>0</td>\n",
       "      <td>0</td>\n",
       "      <td>7744</td>\n",
       "      <td>53000</td>\n",
       "      <td>22632</td>\n",
       "      <td>0</td>\n",
       "      <td>45472</td>\n",
       "      <td>0</td>\n",
       "      <td>...</td>\n",
       "      <td>200032</td>\n",
       "      <td>0</td>\n",
       "      <td>0</td>\n",
       "      <td>7440</td>\n",
       "      <td>26032</td>\n",
       "      <td>8304</td>\n",
       "      <td>896</td>\n",
       "      <td>13024</td>\n",
       "      <td>11232</td>\n",
       "      <td>youtube</td>\n",
       "    </tr>\n",
       "    <tr>\n",
       "      <th>20230124_124323_166_40</th>\n",
       "      <td>53000</td>\n",
       "      <td>22632</td>\n",
       "      <td>0</td>\n",
       "      <td>45472</td>\n",
       "      <td>0</td>\n",
       "      <td>0</td>\n",
       "      <td>0</td>\n",
       "      <td>0</td>\n",
       "      <td>0</td>\n",
       "      <td>27344</td>\n",
       "      <td>...</td>\n",
       "      <td>8304</td>\n",
       "      <td>896</td>\n",
       "      <td>13024</td>\n",
       "      <td>11232</td>\n",
       "      <td>62224</td>\n",
       "      <td>1914104</td>\n",
       "      <td>323552</td>\n",
       "      <td>2152</td>\n",
       "      <td>6872</td>\n",
       "      <td>youtube</td>\n",
       "    </tr>\n",
       "    <tr>\n",
       "      <th>20230124_124323_166_45</th>\n",
       "      <td>0</td>\n",
       "      <td>0</td>\n",
       "      <td>0</td>\n",
       "      <td>0</td>\n",
       "      <td>27344</td>\n",
       "      <td>55096</td>\n",
       "      <td>0</td>\n",
       "      <td>0</td>\n",
       "      <td>37184</td>\n",
       "      <td>12888</td>\n",
       "      <td>...</td>\n",
       "      <td>1914104</td>\n",
       "      <td>323552</td>\n",
       "      <td>2152</td>\n",
       "      <td>6872</td>\n",
       "      <td>9248</td>\n",
       "      <td>1384</td>\n",
       "      <td>0</td>\n",
       "      <td>0</td>\n",
       "      <td>4296</td>\n",
       "      <td>youtube</td>\n",
       "    </tr>\n",
       "  </tbody>\n",
       "</table>\n",
       "<p>70588 rows × 121 columns</p>\n",
       "</div>"
      ],
      "text/plain": [
       "                            0      1      2      3      4      5      6  7  \\\n",
       "20221117_125310_4_0      2592      0  52176  40096  80224  80112    328  0   \n",
       "20221117_125310_4_5     80112    328      0      0      0      0      0  0   \n",
       "20221117_125310_4_10        0      0      0      0  21864      0      0  0   \n",
       "20221117_125310_4_15        0      0      0    392    584   5712      0  0   \n",
       "20221117_125310_4_20     5712      0      0      0      0      0      0  0   \n",
       "...                       ...    ...    ...    ...    ...    ...    ... ..   \n",
       "20230124_124323_166_25      0      0      0      0      0  26952  58424  0   \n",
       "20230124_124323_166_30  26952  58424      0      0      0      0   8704  0   \n",
       "20230124_124323_166_35      0   8704      0      0   7744  53000  22632  0   \n",
       "20230124_124323_166_40  53000  22632      0  45472      0      0      0  0   \n",
       "20230124_124323_166_45      0      0      0      0  27344  55096      0  0   \n",
       "\n",
       "                            8      9  ...      111     112    113    114  \\\n",
       "20221117_125310_4_0         0      0  ...        0       0      0      0   \n",
       "20221117_125310_4_5         0  21864  ...        0       0      0      0   \n",
       "20221117_125310_4_10      392    584  ...        0       0   2688    672   \n",
       "20221117_125310_4_15        0      0  ...        0       0      0      0   \n",
       "20221117_125310_4_20        0  31624  ...        0       0  33688      0   \n",
       "...                       ...    ...  ...      ...     ...    ...    ...   \n",
       "20230124_124323_166_25      0      0  ...        0       0      0      0   \n",
       "20230124_124323_166_30      0   7744  ...      448       0   3696   2152   \n",
       "20230124_124323_166_35  45472      0  ...   200032       0      0   7440   \n",
       "20230124_124323_166_40      0  27344  ...     8304     896  13024  11232   \n",
       "20230124_124323_166_45  37184  12888  ...  1914104  323552   2152   6872   \n",
       "\n",
       "                          115      116     117    118    119      label  \n",
       "20221117_125310_4_0         0        0       0      0      0  messenger  \n",
       "20221117_125310_4_5       448        0       0   2688    672  messenger  \n",
       "20221117_125310_4_10     4600        0       0      0      0  messenger  \n",
       "20221117_125310_4_15        0        0       0  33688      0  messenger  \n",
       "20221117_125310_4_20     5912    13168    5536   3440   2848  messenger  \n",
       "...                       ...      ...     ...    ...    ...        ...  \n",
       "20230124_124323_166_25      0      448       0   3696   2152    youtube  \n",
       "20230124_124323_166_30    896   200032       0      0   7440    youtube  \n",
       "20230124_124323_166_35  26032     8304     896  13024  11232    youtube  \n",
       "20230124_124323_166_40  62224  1914104  323552   2152   6872    youtube  \n",
       "20230124_124323_166_45   9248     1384       0      0   4296    youtube  \n",
       "\n",
       "[70588 rows x 121 columns]"
      ]
     },
     "execution_count": 4,
     "metadata": {},
     "output_type": "execute_result"
    }
   ],
   "source": [
    "df_train"
   ]
  },
  {
   "cell_type": "code",
   "execution_count": 5,
   "id": "ff4062fb",
   "metadata": {},
   "outputs": [],
   "source": [
    "df_train=df_train[df_train.label!=\"noise\"]"
   ]
  },
  {
   "cell_type": "code",
   "execution_count": 6,
   "id": "2d836f05",
   "metadata": {},
   "outputs": [],
   "source": [
    "df_test = df_test[df_test.label!=\"noise\"]"
   ]
  },
  {
   "cell_type": "markdown",
   "id": "2e19ef0c",
   "metadata": {},
   "source": [
    "# Scale"
   ]
  },
  {
   "cell_type": "code",
   "execution_count": 7,
   "id": "3255c169",
   "metadata": {},
   "outputs": [],
   "source": [
    "scaler = Scaler_Metrics()\n",
    "training_data = scaler.fit_transform(df_train)\n",
    "testing_data = scaler.transform(df_test)"
   ]
  },
  {
   "cell_type": "code",
   "execution_count": 8,
   "id": "1a0eda93",
   "metadata": {},
   "outputs": [
    {
     "data": {
      "text/html": [
       "<div>\n",
       "<style scoped>\n",
       "    .dataframe tbody tr th:only-of-type {\n",
       "        vertical-align: middle;\n",
       "    }\n",
       "\n",
       "    .dataframe tbody tr th {\n",
       "        vertical-align: top;\n",
       "    }\n",
       "\n",
       "    .dataframe thead th {\n",
       "        text-align: right;\n",
       "    }\n",
       "</style>\n",
       "<table border=\"1\" class=\"dataframe\">\n",
       "  <thead>\n",
       "    <tr style=\"text-align: right;\">\n",
       "      <th></th>\n",
       "      <th>0</th>\n",
       "      <th>1</th>\n",
       "      <th>2</th>\n",
       "      <th>3</th>\n",
       "      <th>4</th>\n",
       "      <th>5</th>\n",
       "      <th>6</th>\n",
       "      <th>7</th>\n",
       "      <th>8</th>\n",
       "      <th>9</th>\n",
       "      <th>...</th>\n",
       "      <th>111</th>\n",
       "      <th>112</th>\n",
       "      <th>113</th>\n",
       "      <th>114</th>\n",
       "      <th>115</th>\n",
       "      <th>116</th>\n",
       "      <th>117</th>\n",
       "      <th>118</th>\n",
       "      <th>119</th>\n",
       "      <th>label</th>\n",
       "    </tr>\n",
       "    <tr>\n",
       "      <th>id</th>\n",
       "      <th></th>\n",
       "      <th></th>\n",
       "      <th></th>\n",
       "      <th></th>\n",
       "      <th></th>\n",
       "      <th></th>\n",
       "      <th></th>\n",
       "      <th></th>\n",
       "      <th></th>\n",
       "      <th></th>\n",
       "      <th></th>\n",
       "      <th></th>\n",
       "      <th></th>\n",
       "      <th></th>\n",
       "      <th></th>\n",
       "      <th></th>\n",
       "      <th></th>\n",
       "      <th></th>\n",
       "      <th></th>\n",
       "      <th></th>\n",
       "      <th></th>\n",
       "    </tr>\n",
       "  </thead>\n",
       "  <tbody>\n",
       "    <tr>\n",
       "      <th>20221117_125310_4_0</th>\n",
       "      <td>-1.472712</td>\n",
       "      <td>-1.496992</td>\n",
       "      <td>-1.061100</td>\n",
       "      <td>-1.163197</td>\n",
       "      <td>-0.828538</td>\n",
       "      <td>-0.829004</td>\n",
       "      <td>-1.494305</td>\n",
       "      <td>-1.497269</td>\n",
       "      <td>-1.497762</td>\n",
       "      <td>-1.497853</td>\n",
       "      <td>...</td>\n",
       "      <td>-0.787843</td>\n",
       "      <td>-0.797746</td>\n",
       "      <td>-0.819360</td>\n",
       "      <td>-0.794999</td>\n",
       "      <td>-0.770268</td>\n",
       "      <td>-0.789489</td>\n",
       "      <td>-0.805208</td>\n",
       "      <td>-0.824764</td>\n",
       "      <td>-0.798502</td>\n",
       "      <td>messenger</td>\n",
       "    </tr>\n",
       "    <tr>\n",
       "      <th>20221117_125310_4_5</th>\n",
       "      <td>-0.828388</td>\n",
       "      <td>-1.494263</td>\n",
       "      <td>-1.495717</td>\n",
       "      <td>-1.496651</td>\n",
       "      <td>-1.496604</td>\n",
       "      <td>-1.494686</td>\n",
       "      <td>-1.497034</td>\n",
       "      <td>-1.497269</td>\n",
       "      <td>-1.497762</td>\n",
       "      <td>-1.315736</td>\n",
       "      <td>...</td>\n",
       "      <td>-0.787843</td>\n",
       "      <td>-0.797746</td>\n",
       "      <td>-0.819360</td>\n",
       "      <td>-0.794999</td>\n",
       "      <td>-0.768844</td>\n",
       "      <td>-0.789489</td>\n",
       "      <td>-0.805208</td>\n",
       "      <td>-0.815517</td>\n",
       "      <td>-0.796281</td>\n",
       "      <td>messenger</td>\n",
       "    </tr>\n",
       "    <tr>\n",
       "      <th>20221117_125310_4_10</th>\n",
       "      <td>-1.494256</td>\n",
       "      <td>-1.496992</td>\n",
       "      <td>-1.495717</td>\n",
       "      <td>-1.496651</td>\n",
       "      <td>-1.314532</td>\n",
       "      <td>-1.494686</td>\n",
       "      <td>-1.497034</td>\n",
       "      <td>-1.497269</td>\n",
       "      <td>-1.494502</td>\n",
       "      <td>-1.492989</td>\n",
       "      <td>...</td>\n",
       "      <td>-0.787843</td>\n",
       "      <td>-0.797746</td>\n",
       "      <td>-0.810215</td>\n",
       "      <td>-0.792797</td>\n",
       "      <td>-0.755641</td>\n",
       "      <td>-0.789489</td>\n",
       "      <td>-0.805208</td>\n",
       "      <td>-0.824764</td>\n",
       "      <td>-0.798502</td>\n",
       "      <td>messenger</td>\n",
       "    </tr>\n",
       "    <tr>\n",
       "      <th>20221117_125310_4_15</th>\n",
       "      <td>-1.494256</td>\n",
       "      <td>-1.496992</td>\n",
       "      <td>-1.495717</td>\n",
       "      <td>-1.493391</td>\n",
       "      <td>-1.491741</td>\n",
       "      <td>-1.447223</td>\n",
       "      <td>-1.497034</td>\n",
       "      <td>-1.497269</td>\n",
       "      <td>-1.497762</td>\n",
       "      <td>-1.497853</td>\n",
       "      <td>...</td>\n",
       "      <td>-0.787843</td>\n",
       "      <td>-0.797746</td>\n",
       "      <td>-0.819360</td>\n",
       "      <td>-0.794999</td>\n",
       "      <td>-0.770268</td>\n",
       "      <td>-0.789489</td>\n",
       "      <td>-0.805208</td>\n",
       "      <td>-0.708883</td>\n",
       "      <td>-0.798502</td>\n",
       "      <td>messenger</td>\n",
       "    </tr>\n",
       "    <tr>\n",
       "      <th>20221117_125310_4_20</th>\n",
       "      <td>-1.446779</td>\n",
       "      <td>-1.496992</td>\n",
       "      <td>-1.495717</td>\n",
       "      <td>-1.496651</td>\n",
       "      <td>-1.496604</td>\n",
       "      <td>-1.494686</td>\n",
       "      <td>-1.497034</td>\n",
       "      <td>-1.497269</td>\n",
       "      <td>-1.497762</td>\n",
       "      <td>-1.234439</td>\n",
       "      <td>...</td>\n",
       "      <td>-0.787843</td>\n",
       "      <td>-0.797746</td>\n",
       "      <td>-0.704741</td>\n",
       "      <td>-0.794999</td>\n",
       "      <td>-0.751469</td>\n",
       "      <td>-0.746889</td>\n",
       "      <td>-0.786800</td>\n",
       "      <td>-0.812931</td>\n",
       "      <td>-0.789090</td>\n",
       "      <td>messenger</td>\n",
       "    </tr>\n",
       "    <tr>\n",
       "      <th>...</th>\n",
       "      <td>...</td>\n",
       "      <td>...</td>\n",
       "      <td>...</td>\n",
       "      <td>...</td>\n",
       "      <td>...</td>\n",
       "      <td>...</td>\n",
       "      <td>...</td>\n",
       "      <td>...</td>\n",
       "      <td>...</td>\n",
       "      <td>...</td>\n",
       "      <td>...</td>\n",
       "      <td>...</td>\n",
       "      <td>...</td>\n",
       "      <td>...</td>\n",
       "      <td>...</td>\n",
       "      <td>...</td>\n",
       "      <td>...</td>\n",
       "      <td>...</td>\n",
       "      <td>...</td>\n",
       "      <td>...</td>\n",
       "      <td>...</td>\n",
       "    </tr>\n",
       "    <tr>\n",
       "      <th>20230124_124323_166_25</th>\n",
       "      <td>-1.494256</td>\n",
       "      <td>-1.496992</td>\n",
       "      <td>-1.495717</td>\n",
       "      <td>-1.496651</td>\n",
       "      <td>-1.496604</td>\n",
       "      <td>-1.270731</td>\n",
       "      <td>-1.010989</td>\n",
       "      <td>-1.497269</td>\n",
       "      <td>-1.497762</td>\n",
       "      <td>-1.497853</td>\n",
       "      <td>...</td>\n",
       "      <td>-0.787843</td>\n",
       "      <td>-0.797746</td>\n",
       "      <td>-0.819360</td>\n",
       "      <td>-0.794999</td>\n",
       "      <td>-0.770268</td>\n",
       "      <td>-0.788040</td>\n",
       "      <td>-0.805208</td>\n",
       "      <td>-0.812050</td>\n",
       "      <td>-0.791390</td>\n",
       "      <td>youtube</td>\n",
       "    </tr>\n",
       "    <tr>\n",
       "      <th>20230124_124323_166_30</th>\n",
       "      <td>-1.270238</td>\n",
       "      <td>-1.010789</td>\n",
       "      <td>-1.495717</td>\n",
       "      <td>-1.496651</td>\n",
       "      <td>-1.496604</td>\n",
       "      <td>-1.494686</td>\n",
       "      <td>-1.424623</td>\n",
       "      <td>-1.497269</td>\n",
       "      <td>-1.497762</td>\n",
       "      <td>-1.433349</td>\n",
       "      <td>...</td>\n",
       "      <td>-0.786403</td>\n",
       "      <td>-0.797746</td>\n",
       "      <td>-0.806785</td>\n",
       "      <td>-0.787946</td>\n",
       "      <td>-0.767419</td>\n",
       "      <td>-0.142361</td>\n",
       "      <td>-0.805208</td>\n",
       "      <td>-0.824764</td>\n",
       "      <td>-0.773914</td>\n",
       "      <td>youtube</td>\n",
       "    </tr>\n",
       "    <tr>\n",
       "      <th>20230124_124323_166_35</th>\n",
       "      <td>-1.494256</td>\n",
       "      <td>-1.424558</td>\n",
       "      <td>-1.495717</td>\n",
       "      <td>-1.496651</td>\n",
       "      <td>-1.432116</td>\n",
       "      <td>-1.054288</td>\n",
       "      <td>-1.308752</td>\n",
       "      <td>-1.497269</td>\n",
       "      <td>-1.119551</td>\n",
       "      <td>-1.497853</td>\n",
       "      <td>...</td>\n",
       "      <td>-0.144942</td>\n",
       "      <td>-0.797746</td>\n",
       "      <td>-0.819360</td>\n",
       "      <td>-0.770614</td>\n",
       "      <td>-0.687489</td>\n",
       "      <td>-0.762625</td>\n",
       "      <td>-0.802228</td>\n",
       "      <td>-0.779963</td>\n",
       "      <td>-0.761382</td>\n",
       "      <td>youtube</td>\n",
       "    </tr>\n",
       "    <tr>\n",
       "      <th>20230124_124323_166_40</th>\n",
       "      <td>-1.053735</td>\n",
       "      <td>-1.308649</td>\n",
       "      <td>-1.495717</td>\n",
       "      <td>-1.118488</td>\n",
       "      <td>-1.496604</td>\n",
       "      <td>-1.494686</td>\n",
       "      <td>-1.497034</td>\n",
       "      <td>-1.497269</td>\n",
       "      <td>-1.497762</td>\n",
       "      <td>-1.270090</td>\n",
       "      <td>...</td>\n",
       "      <td>-0.761154</td>\n",
       "      <td>-0.794810</td>\n",
       "      <td>-0.775048</td>\n",
       "      <td>-0.758186</td>\n",
       "      <td>-0.572401</td>\n",
       "      <td>5.402880</td>\n",
       "      <td>0.270632</td>\n",
       "      <td>-0.817361</td>\n",
       "      <td>-0.775791</td>\n",
       "      <td>youtube</td>\n",
       "    </tr>\n",
       "    <tr>\n",
       "      <th>20230124_124323_166_45</th>\n",
       "      <td>-1.494256</td>\n",
       "      <td>-1.496992</td>\n",
       "      <td>-1.495717</td>\n",
       "      <td>-1.496651</td>\n",
       "      <td>-1.268897</td>\n",
       "      <td>-1.036872</td>\n",
       "      <td>-1.497034</td>\n",
       "      <td>-1.497269</td>\n",
       "      <td>-1.188486</td>\n",
       "      <td>-1.390502</td>\n",
       "      <td>...</td>\n",
       "      <td>5.364068</td>\n",
       "      <td>0.262461</td>\n",
       "      <td>-0.812038</td>\n",
       "      <td>-0.772476</td>\n",
       "      <td>-0.740861</td>\n",
       "      <td>-0.785012</td>\n",
       "      <td>-0.805208</td>\n",
       "      <td>-0.824764</td>\n",
       "      <td>-0.784305</td>\n",
       "      <td>youtube</td>\n",
       "    </tr>\n",
       "  </tbody>\n",
       "</table>\n",
       "<p>70046 rows × 121 columns</p>\n",
       "</div>"
      ],
      "text/plain": [
       "                               0         1         2         3         4  \\\n",
       "id                                                                         \n",
       "20221117_125310_4_0    -1.472712 -1.496992 -1.061100 -1.163197 -0.828538   \n",
       "20221117_125310_4_5    -0.828388 -1.494263 -1.495717 -1.496651 -1.496604   \n",
       "20221117_125310_4_10   -1.494256 -1.496992 -1.495717 -1.496651 -1.314532   \n",
       "20221117_125310_4_15   -1.494256 -1.496992 -1.495717 -1.493391 -1.491741   \n",
       "20221117_125310_4_20   -1.446779 -1.496992 -1.495717 -1.496651 -1.496604   \n",
       "...                          ...       ...       ...       ...       ...   \n",
       "20230124_124323_166_25 -1.494256 -1.496992 -1.495717 -1.496651 -1.496604   \n",
       "20230124_124323_166_30 -1.270238 -1.010789 -1.495717 -1.496651 -1.496604   \n",
       "20230124_124323_166_35 -1.494256 -1.424558 -1.495717 -1.496651 -1.432116   \n",
       "20230124_124323_166_40 -1.053735 -1.308649 -1.495717 -1.118488 -1.496604   \n",
       "20230124_124323_166_45 -1.494256 -1.496992 -1.495717 -1.496651 -1.268897   \n",
       "\n",
       "                               5         6         7         8         9  ...  \\\n",
       "id                                                                        ...   \n",
       "20221117_125310_4_0    -0.829004 -1.494305 -1.497269 -1.497762 -1.497853  ...   \n",
       "20221117_125310_4_5    -1.494686 -1.497034 -1.497269 -1.497762 -1.315736  ...   \n",
       "20221117_125310_4_10   -1.494686 -1.497034 -1.497269 -1.494502 -1.492989  ...   \n",
       "20221117_125310_4_15   -1.447223 -1.497034 -1.497269 -1.497762 -1.497853  ...   \n",
       "20221117_125310_4_20   -1.494686 -1.497034 -1.497269 -1.497762 -1.234439  ...   \n",
       "...                          ...       ...       ...       ...       ...  ...   \n",
       "20230124_124323_166_25 -1.270731 -1.010989 -1.497269 -1.497762 -1.497853  ...   \n",
       "20230124_124323_166_30 -1.494686 -1.424623 -1.497269 -1.497762 -1.433349  ...   \n",
       "20230124_124323_166_35 -1.054288 -1.308752 -1.497269 -1.119551 -1.497853  ...   \n",
       "20230124_124323_166_40 -1.494686 -1.497034 -1.497269 -1.497762 -1.270090  ...   \n",
       "20230124_124323_166_45 -1.036872 -1.497034 -1.497269 -1.188486 -1.390502  ...   \n",
       "\n",
       "                             111       112       113       114       115  \\\n",
       "id                                                                         \n",
       "20221117_125310_4_0    -0.787843 -0.797746 -0.819360 -0.794999 -0.770268   \n",
       "20221117_125310_4_5    -0.787843 -0.797746 -0.819360 -0.794999 -0.768844   \n",
       "20221117_125310_4_10   -0.787843 -0.797746 -0.810215 -0.792797 -0.755641   \n",
       "20221117_125310_4_15   -0.787843 -0.797746 -0.819360 -0.794999 -0.770268   \n",
       "20221117_125310_4_20   -0.787843 -0.797746 -0.704741 -0.794999 -0.751469   \n",
       "...                          ...       ...       ...       ...       ...   \n",
       "20230124_124323_166_25 -0.787843 -0.797746 -0.819360 -0.794999 -0.770268   \n",
       "20230124_124323_166_30 -0.786403 -0.797746 -0.806785 -0.787946 -0.767419   \n",
       "20230124_124323_166_35 -0.144942 -0.797746 -0.819360 -0.770614 -0.687489   \n",
       "20230124_124323_166_40 -0.761154 -0.794810 -0.775048 -0.758186 -0.572401   \n",
       "20230124_124323_166_45  5.364068  0.262461 -0.812038 -0.772476 -0.740861   \n",
       "\n",
       "                             116       117       118       119      label  \n",
       "id                                                                         \n",
       "20221117_125310_4_0    -0.789489 -0.805208 -0.824764 -0.798502  messenger  \n",
       "20221117_125310_4_5    -0.789489 -0.805208 -0.815517 -0.796281  messenger  \n",
       "20221117_125310_4_10   -0.789489 -0.805208 -0.824764 -0.798502  messenger  \n",
       "20221117_125310_4_15   -0.789489 -0.805208 -0.708883 -0.798502  messenger  \n",
       "20221117_125310_4_20   -0.746889 -0.786800 -0.812931 -0.789090  messenger  \n",
       "...                          ...       ...       ...       ...        ...  \n",
       "20230124_124323_166_25 -0.788040 -0.805208 -0.812050 -0.791390    youtube  \n",
       "20230124_124323_166_30 -0.142361 -0.805208 -0.824764 -0.773914    youtube  \n",
       "20230124_124323_166_35 -0.762625 -0.802228 -0.779963 -0.761382    youtube  \n",
       "20230124_124323_166_40  5.402880  0.270632 -0.817361 -0.775791    youtube  \n",
       "20230124_124323_166_45 -0.785012 -0.805208 -0.824764 -0.784305    youtube  \n",
       "\n",
       "[70046 rows x 121 columns]"
      ]
     },
     "execution_count": 8,
     "metadata": {},
     "output_type": "execute_result"
    }
   ],
   "source": [
    "training_data"
   ]
  },
  {
   "cell_type": "markdown",
   "id": "bc109b73",
   "metadata": {},
   "source": [
    "# Adapt Shape"
   ]
  },
  {
   "cell_type": "code",
   "execution_count": 9,
   "id": "eb69e5ac",
   "metadata": {},
   "outputs": [
    {
     "data": {
      "text/plain": [
       "array([[-1.47271154, -0.76350662],\n",
       "       [-1.49699217, -0.77320342],\n",
       "       [-1.0611    , -0.64391765],\n",
       "       [-1.16319735, -0.66264471],\n",
       "       [-0.82853804, -0.44163638]])"
      ]
     },
     "execution_count": 9,
     "metadata": {},
     "output_type": "execute_result"
    }
   ],
   "source": [
    "data_col = training_data.columns[:-1]\n",
    "X_train, X_test = training_data[data_col].values, testing_data[data_col].values\n",
    "X_train, X_test = X_train.reshape((-1,DEFAULT_LENGTH_Value,2), order='F'), X_test.reshape((-1,DEFAULT_LENGTH_Value,2), order='F')\n",
    "y_train, y_test = training_data.label, testing_data.label\n",
    "X_train[0,:5]"
   ]
  },
  {
   "cell_type": "markdown",
   "id": "634b764a",
   "metadata": {},
   "source": [
    "allow us to have a vector of dimension (None, 60, 2)\n",
    "- where None is the count of records\n",
    "- 60 : window size\n",
    "- 2 : uplink & downlink"
   ]
  },
  {
   "cell_type": "markdown",
   "id": "9aaf870f",
   "metadata": {},
   "source": [
    "# Binarize"
   ]
  },
  {
   "cell_type": "code",
   "execution_count": 10,
   "id": "98c067fa",
   "metadata": {},
   "outputs": [
    {
     "data": {
      "text/plain": [
       "array([[1, 0, 0, 0, 0],\n",
       "       [1, 0, 0, 0, 0],\n",
       "       [1, 0, 0, 0, 0],\n",
       "       ...,\n",
       "       [0, 0, 0, 0, 1],\n",
       "       [0, 0, 0, 0, 1],\n",
       "       [0, 0, 0, 0, 1]])"
      ]
     },
     "execution_count": 10,
     "metadata": {},
     "output_type": "execute_result"
    }
   ],
   "source": [
    "\n",
    "\n",
    "label_binarizer = sklearn.preprocessing.LabelBinarizer()\n",
    "y_train_encoded = label_binarizer.fit_transform(y_train)\n",
    "y_test_encoded = label_binarizer.transform(y_test)\n",
    "\n",
    "y_test_encoded"
   ]
  },
  {
   "cell_type": "code",
   "execution_count": 11,
   "id": "015b2e72",
   "metadata": {},
   "outputs": [
    {
     "data": {
      "text/plain": [
       "{'messenger': array([1, 0, 0, 0, 0]),\n",
       " 'skype': array([0, 1, 0, 0, 0]),\n",
       " 'spotify': array([0, 0, 1, 0, 0]),\n",
       " 'twitch': array([0, 0, 0, 1, 0]),\n",
       " 'youtube': array([0, 0, 0, 0, 1])}"
      ]
     },
     "execution_count": 11,
     "metadata": {},
     "output_type": "execute_result"
    }
   ],
   "source": [
    "uniq_label = training_data.label.unique()\n",
    "correspondance = dict(zip(uniq_label,label_binarizer.transform(uniq_label)))\n",
    "correspondance\n"
   ]
  },
  {
   "cell_type": "markdown",
   "id": "9a1a36de",
   "metadata": {},
   "source": [
    "# Class_weight"
   ]
  },
  {
   "cell_type": "code",
   "execution_count": 12,
   "id": "6c018bc0",
   "metadata": {
    "scrolled": true
   },
   "outputs": [
    {
     "data": {
      "text/plain": [
       "{0: 0.672936881544817,\n",
       " 1: 0.4938207197997814,\n",
       " 2: 3.1495503597122303,\n",
       " 3: 1.5738905740927986,\n",
       " 4: 1.8654061251664447}"
      ]
     },
     "execution_count": 12,
     "metadata": {},
     "output_type": "execute_result"
    }
   ],
   "source": [
    "\n",
    "\n",
    "class_weights = dict(zip(np.unique(np.argmax(y_train_encoded, axis = 1)), compute_class_weight(class_weight ='balanced',\n",
    "                                                  classes =np.unique(y_train),\n",
    "                                                               y =y_train)))\n",
    "class_weights"
   ]
  },
  {
   "cell_type": "markdown",
   "id": "b474313f",
   "metadata": {},
   "source": [
    "# Train"
   ]
  },
  {
   "cell_type": "code",
   "execution_count": 15,
   "id": "6adbcb01",
   "metadata": {},
   "outputs": [],
   "source": [
    "time_counter = time.time_ns()\n",
    "\n",
    "model = Sequential()\n",
    "\n",
    "model.add(Conv1D(32, 5, activation='relu'))\n",
    "model.add(MaxPool1D()) #Adding a convultion layer\n",
    "\n",
    "model.add(Conv1D(64, 5, activation='relu'))\n",
    "model.add(MaxPool1D()) #\n",
    "\n",
    "model.add(Conv1D(32, 5, activation='relu'))\n",
    "model.add(MaxPool1D())\n",
    "\n",
    "model.add(Flatten())\n",
    "model.add(Dense(128, activation='relu'))\n",
    "model.add(Dense(len(class_weights.keys()), activation='sigmoid'))\n",
    "\n",
    "\n"
   ]
  },
  {
   "cell_type": "code",
   "execution_count": 16,
   "id": "9bb52ecf",
   "metadata": {},
   "outputs": [
    {
     "name": "stdout",
     "output_type": "stream",
     "text": [
      "Model: \"sequential\"\n",
      "_________________________________________________________________\n",
      " Layer (type)                Output Shape              Param #   \n",
      "=================================================================\n",
      " conv1d (Conv1D)             (None, 56, 32)            352       \n",
      "                                                                 \n",
      " max_pooling1d (MaxPooling1D  (None, 28, 32)           0         \n",
      " )                                                               \n",
      "                                                                 \n",
      " conv1d_1 (Conv1D)           (None, 24, 64)            10304     \n",
      "                                                                 \n",
      " max_pooling1d_1 (MaxPooling  (None, 12, 64)           0         \n",
      " 1D)                                                             \n",
      "                                                                 \n",
      " conv1d_2 (Conv1D)           (None, 8, 32)             10272     \n",
      "                                                                 \n",
      " max_pooling1d_2 (MaxPooling  (None, 4, 32)            0         \n",
      " 1D)                                                             \n",
      "                                                                 \n",
      " flatten (Flatten)           (None, 128)               0         \n",
      "                                                                 \n",
      " dense (Dense)               (None, 128)               16512     \n",
      "                                                                 \n",
      " dense_1 (Dense)             (None, 5)                 645       \n",
      "                                                                 \n",
      "=================================================================\n",
      "Total params: 38,085\n",
      "Trainable params: 38,085\n",
      "Non-trainable params: 0\n",
      "_________________________________________________________________\n"
     ]
    }
   ],
   "source": [
    "#Conv 1 : output_shape= (None, length_values-5+1,32)    (None, 56,32)\n",
    "model.compile('adam', loss = tf.losses.BinaryCrossentropy(), metrics =['accuracy'])\n",
    "model.build((None, 60, 2))\n",
    "model.summary()"
   ]
  },
  {
   "cell_type": "code",
   "execution_count": 17,
   "id": "2b445e07",
   "metadata": {},
   "outputs": [
    {
     "name": "stdout",
     "output_type": "stream",
     "text": [
      "Epoch 1/40\n",
      "2189/2189 [==============================] - 17s 5ms/step - loss: 0.1456 - accuracy: 0.8163 - val_loss: 0.2791 - val_accuracy: 0.6177\n",
      "Epoch 2/40\n",
      "2189/2189 [==============================] - 10s 5ms/step - loss: 0.1077 - accuracy: 0.8559 - val_loss: 0.2703 - val_accuracy: 0.7431\n",
      "Epoch 3/40\n",
      "2189/2189 [==============================] - 12s 5ms/step - loss: 0.0963 - accuracy: 0.8726 - val_loss: 0.3813 - val_accuracy: 0.6057\n",
      "Epoch 4/40\n",
      "2189/2189 [==============================] - 10s 4ms/step - loss: 0.0904 - accuracy: 0.8836 - val_loss: 0.3579 - val_accuracy: 0.5942\n",
      "Epoch 5/40\n",
      "2189/2189 [==============================] - 10s 4ms/step - loss: 0.0852 - accuracy: 0.8910 - val_loss: 0.3908 - val_accuracy: 0.6002\n",
      "Training Duration : 64.0222878 s for a dataset length of 70046\n"
     ]
    }
   ],
   "source": [
    "\n",
    "#val_data = (X_val,y_val_encoded)\n",
    "val_data = (X_test,y_test_encoded)\n",
    "\n",
    "\n",
    "checkpoint_filepath = '/tmp/checkpoint_CNN/best_model'\n",
    "logs_dir = 'tmp/logs'\n",
    "\n",
    "tensorboard_callback = tf.keras.callbacks.TensorBoard(log_dir=logs_dir)\n",
    "model_checkpoint_callback = tf.keras.callbacks.ModelCheckpoint(\n",
    "    filepath=checkpoint_filepath, save_weights_only=True, monitor='val_accuracy',  mode='max',save_best_only=True)\n",
    "\n",
    "early_stop = tf.keras.callbacks.EarlyStopping(monitor='val_loss', patience=3)\n",
    "hist = model.fit(X_train,y_train_encoded, epochs =40, \n",
    "                 validation_data = val_data,\n",
    "                 callbacks =[tensorboard_callback, early_stop,model_checkpoint_callback],\n",
    "                class_weight=class_weights\n",
    "                )\n",
    "\n",
    "model.load_weights(checkpoint_filepath)\n",
    "\n",
    "\n",
    "training_duration = (time.time_ns() - time_counter)/(10**9)\n",
    "print(f\"Training Duration : {training_duration} s for a dataset length of {len(X_train)}\")"
   ]
  },
  {
   "cell_type": "code",
   "execution_count": 18,
   "id": "1f3d54bd",
   "metadata": {},
   "outputs": [
    {
     "data": {
      "image/png": "[encoded data removed]",
      "text/plain": [
       "<Figure size 640x480 with 1 Axes>"
      ]
     },
     "metadata": {},
     "output_type": "display_data"
    }
   ],
   "source": [
    "fig =plt.figure()\n",
    "plt.plot(hist.history['loss'], color ='teal', label ='train_loss')\n",
    "plt.plot(hist.history['val_loss'], color ='red', label ='val_loss')\n",
    "fig.suptitle('Loss', fontsize =20)\n",
    "plt.legend(loc =\"upper left\")\n",
    "plt.show()"
   ]
  },
  {
   "cell_type": "code",
   "execution_count": null,
   "id": "2f578de5",
   "metadata": {},
   "outputs": [],
   "source": []
  },
  {
   "cell_type": "markdown",
   "id": "3dbbba8d",
   "metadata": {},
   "source": [
    "# Evaluate on the test dataset"
   ]
  },
  {
   "cell_type": "code",
   "execution_count": 19,
   "id": "a7123a30",
   "metadata": {},
   "outputs": [
    {
     "name": "stdout",
     "output_type": "stream",
     "text": [
      "937/937 [==============================] - 1s 1ms/step\n",
      "Testing Duration : 1.9006554 s for a dataset length of 29980\n",
      "Testing Duration per data : 0.06339744496330887 ms\n"
     ]
    }
   ],
   "source": [
    "time_counter = time.time_ns()\n",
    "\n",
    "preds_labels =  model.predict(X_test)\n",
    "preds_labels = label_binarizer.inverse_transform(preds_labels)\n",
    "\n",
    "\n",
    "testing_duration = (time.time_ns() - time_counter)/(10**9)\n",
    "print(f\"Testing Duration : {testing_duration} s for a dataset length of {len(preds_labels)}\")\n",
    "testing_duration_per_item = testing_duration*(10**3)/len(preds_labels)\n",
    "print(f\"Testing Duration per data : {testing_duration_per_item} ms\")"
   ]
  },
  {
   "cell_type": "code",
   "execution_count": 20,
   "id": "4d1d540b",
   "metadata": {},
   "outputs": [
    {
     "name": "stdout",
     "output_type": "stream",
     "text": [
      "normalized confusion matrix\n"
     ]
    },
    {
     "data": {
      "image/png": "[encoded data removed]",
      "text/plain": [
       "<Figure size 600x600 with 2 Axes>"
      ]
     },
     "metadata": {},
     "output_type": "display_data"
    }
   ],
   "source": [
    "plot_confusion_matrix(y_test,preds_labels)"
   ]
  },
  {
   "cell_type": "code",
   "execution_count": 21,
   "id": "16614033",
   "metadata": {
    "scrolled": true
   },
   "outputs": [
    {
     "data": {
      "text/plain": [
       "{'Accuracy': 0.882654031505439,\n",
       " 'Precision': 0.9175133913090154,\n",
       " 'Recall': 0.7430620413609073,\n",
       " 'F1_Score': 0.8023201162341582,\n",
       " 'support': None}"
      ]
     },
     "execution_count": 21,
     "metadata": {},
     "output_type": "execute_result"
    }
   ],
   "source": [
    "get_scores(y_test,preds_labels)"
   ]
  },
  {
   "cell_type": "code",
   "execution_count": null,
   "id": "4708a9dc",
   "metadata": {},
   "outputs": [],
   "source": []
  },
  {
   "cell_type": "code",
   "execution_count": null,
   "id": "7c9d07ca",
   "metadata": {},
   "outputs": [],
   "source": []
  },
  {
   "cell_type": "markdown",
   "id": "f38853b7",
   "metadata": {},
   "source": [
    "# Evaluate on the train dataset"
   ]
  },
  {
   "cell_type": "code",
   "execution_count": 22,
   "id": "1daae08b",
   "metadata": {
    "scrolled": true
   },
   "outputs": [
    {
     "name": "stdout",
     "output_type": "stream",
     "text": [
      "2189/2189 [==============================] - 3s 1ms/step\n"
     ]
    }
   ],
   "source": [
    "preds_labels =  model.predict(X_train)\n",
    "preds_labels = label_binarizer.inverse_transform(preds_labels)\n",
    "true_labels = label_binarizer.inverse_transform(y_train_encoded)"
   ]
  },
  {
   "cell_type": "code",
   "execution_count": 23,
   "id": "fcaf2e9a",
   "metadata": {
    "scrolled": true
   },
   "outputs": [
    {
     "name": "stdout",
     "output_type": "stream",
     "text": [
      "normalized confusion matrix\n"
     ]
    },
    {
     "data": {
      "image/png": "[encoded data removed]",
      "text/plain": [
       "<Figure size 600x600 with 2 Axes>"
      ]
     },
     "metadata": {},
     "output_type": "display_data"
    }
   ],
   "source": [
    "plot_confusion_matrix(y_train,preds_labels)"
   ]
  }
 ],
 "metadata": {
  "kernelspec": {
   "display_name": "Python 3 (ipykernel)",
   "language": "python",
   "name": "python3"
  },
  "language_info": {
   "codemirror_mode": {
    "name": "ipython",
    "version": 3
   },
   "file_extension": ".py",
   "mimetype": "text/x-python",
   "name": "python",
   "nbconvert_exporter": "python",
   "pygments_lexer": "ipython3",
   "version": "3.9.12"
  }
 },
 "nbformat": 4,
 "nbformat_minor": 5
}
