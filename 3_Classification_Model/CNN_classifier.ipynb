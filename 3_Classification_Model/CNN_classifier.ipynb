{
 "cells": [
  {
   "cell_type": "code",
   "execution_count": 1,
   "id": "4c53af1c",
   "metadata": {},
   "outputs": [],
   "source": [
    "import os\n",
    "import pandas as pd\n",
    "import warnings\n",
    "import matplotlib.pyplot as plt\n",
    "\n",
    "import numpy as np\n",
    "import seaborn as sns\n",
    "\n",
    "from tqdm import tqdm\n",
    "from random import randint\n",
    "from sklearn.model_selection import train_test_split\n",
    "from sklearn.utils.class_weight import compute_class_weight\n",
    "import itertools\n",
    "import sys\n",
    "import sklearn.preprocessing\n",
    "import tensorflow as tf\n",
    "from tensorflow.keras.models import Sequential\n",
    "from tensorflow.keras.layers import Conv1D, MaxPool1D, Dense, Flatten, Dropout\n",
    "import time\n",
    "\n",
    "\n",
    "sys.path.append(\"../1_Format_donnees/\")\n",
    "sys.path.append(\"../\")\n",
    "from aggregation import load_and_preprocess_agg_window, Scaler_Metrics\n",
    "from evaluate import plot_confusion_matrix, get_scores"
   ]
  },
  {
   "cell_type": "code",
   "execution_count": 2,
   "id": "b66b2e91",
   "metadata": {},
   "outputs": [],
   "source": [
    "DEFAULT_LENGTH_Value = 60\n",
    "STEP = 5"
   ]
  },
  {
   "cell_type": "code",
   "execution_count": 3,
   "id": "da843876",
   "metadata": {},
   "outputs": [
    {
     "name": "stdout",
     "output_type": "stream",
     "text": [
      "Extracting ../Mesures/train\\messenger20221117_125310.csv.... 1/39\n"
     ]
    },
    {
     "name": "stderr",
     "output_type": "stream",
     "text": [
      "100%|█████████████████████████████████████████████████████████████████████████████████| 15/15 [00:00<00:00, 108.81it/s]\n"
     ]
    },
    {
     "name": "stdout",
     "output_type": "stream",
     "text": [
      "Extracting ../Mesures/train\\messenger20221124_143112.csv.... 2/39\n"
     ]
    },
    {
     "name": "stderr",
     "output_type": "stream",
     "text": [
      "100%|██████████████████████████████████████████████████████████████████████████████████| 11/11 [00:00<00:00, 44.86it/s]\n"
     ]
    },
    {
     "name": "stdout",
     "output_type": "stream",
     "text": [
      "Extracting ../Mesures/train\\messenger20221125_130559.csv.... 3/39\n"
     ]
    },
    {
     "name": "stderr",
     "output_type": "stream",
     "text": [
      "100%|█████████████████████████████████████████████████████████████████████████████████| 38/38 [00:00<00:00, 112.73it/s]\n"
     ]
    },
    {
     "name": "stdout",
     "output_type": "stream",
     "text": [
      "Extracting ../Mesures/train\\messenger20221129_131204.csv.... 4/39\n"
     ]
    },
    {
     "name": "stderr",
     "output_type": "stream",
     "text": [
      "100%|██████████████████████████████████████████████████████████████████████████████████| 14/14 [00:01<00:00, 12.76it/s]\n"
     ]
    },
    {
     "name": "stdout",
     "output_type": "stream",
     "text": [
      "Extracting ../Mesures/train\\messenger20221129_151124.csv.... 5/39\n"
     ]
    },
    {
     "name": "stderr",
     "output_type": "stream",
     "text": [
      "100%|████████████████████████████████████████████████████████████████████████████████████| 5/5 [00:00<00:00,  7.01it/s]\n"
     ]
    },
    {
     "name": "stdout",
     "output_type": "stream",
     "text": [
      "Extracting ../Mesures/train\\messenger20230207_133921.csv.... 6/39\n"
     ]
    },
    {
     "name": "stderr",
     "output_type": "stream",
     "text": [
      "100%|████████████████████████████████████████████████████████████████████████████████████| 2/2 [00:01<00:00,  1.90it/s]\n"
     ]
    },
    {
     "name": "stdout",
     "output_type": "stream",
     "text": [
      "Extracting ../Mesures/train\\messenger20230209_083453.csv.... 7/39\n"
     ]
    },
    {
     "name": "stderr",
     "output_type": "stream",
     "text": [
      "100%|████████████████████████████████████████████████████████████████████████████████████| 5/5 [00:01<00:00,  3.49it/s]\n"
     ]
    },
    {
     "name": "stdout",
     "output_type": "stream",
     "text": [
      "Extracting ../Mesures/train\\pure_noise20230106_132210.csv.... 8/39\n"
     ]
    },
    {
     "name": "stderr",
     "output_type": "stream",
     "text": [
      "100%|██████████████████████████████████████████████████████████████████████████████| 805/805 [00:00<00:00, 1128.91it/s]\n"
     ]
    },
    {
     "name": "stdout",
     "output_type": "stream",
     "text": [
      "Extracting ../Mesures/train\\skype20221129_164105.csv.... 9/39\n"
     ]
    },
    {
     "name": "stderr",
     "output_type": "stream",
     "text": [
      "100%|████████████████████████████████████████████████████████████████████████████████████| 5/5 [00:00<00:00, 13.67it/s]\n"
     ]
    },
    {
     "name": "stdout",
     "output_type": "stream",
     "text": [
      "Extracting ../Mesures/train\\skype20221206_125510.csv.... 10/39\n"
     ]
    },
    {
     "name": "stderr",
     "output_type": "stream",
     "text": [
      "100%|██████████████████████████████████████████████████████████████████████████████████| 19/19 [00:00<00:00, 37.67it/s]\n"
     ]
    },
    {
     "name": "stdout",
     "output_type": "stream",
     "text": [
      "Extracting ../Mesures/train\\skype20221208_104403.csv.... 11/39\n"
     ]
    },
    {
     "name": "stderr",
     "output_type": "stream",
     "text": [
      "100%|████████████████████████████████████████████████████████████████████████████████████| 7/7 [00:02<00:00,  3.13it/s]\n"
     ]
    },
    {
     "name": "stdout",
     "output_type": "stream",
     "text": [
      "Extracting ../Mesures/train\\skype20221208_124925.csv.... 12/39\n"
     ]
    },
    {
     "name": "stderr",
     "output_type": "stream",
     "text": [
      "100%|████████████████████████████████████████████████████████████████████████████████████| 6/6 [00:02<00:00,  2.33it/s]\n"
     ]
    },
    {
     "name": "stdout",
     "output_type": "stream",
     "text": [
      "Extracting ../Mesures/train\\skype20221215_151512.csv.... 13/39\n"
     ]
    },
    {
     "name": "stderr",
     "output_type": "stream",
     "text": [
      "100%|██████████████████████████████████████████████████████████████████████████████████| 23/23 [00:00<00:00, 47.25it/s]\n"
     ]
    },
    {
     "name": "stdout",
     "output_type": "stream",
     "text": [
      "Extracting ../Mesures/train\\skype20221215_155618.csv.... 14/39\n"
     ]
    },
    {
     "name": "stderr",
     "output_type": "stream",
     "text": [
      "100%|██████████████████████████████████████████████████████████████████████████████████| 19/19 [00:00<00:00, 30.27it/s]\n"
     ]
    },
    {
     "name": "stdout",
     "output_type": "stream",
     "text": [
      "Extracting ../Mesures/train\\skype20221215_164208.csv.... 15/39\n"
     ]
    },
    {
     "name": "stderr",
     "output_type": "stream",
     "text": [
      "100%|████████████████████████████████████████████████████████████████████████████████████| 5/5 [00:00<00:00,  6.81it/s]\n"
     ]
    },
    {
     "name": "stdout",
     "output_type": "stream",
     "text": [
      "Extracting ../Mesures/train\\skype20221215_174819.csv.... 16/39\n"
     ]
    },
    {
     "name": "stderr",
     "output_type": "stream",
     "text": [
      "100%|████████████████████████████████████████████████████████████████████████████████████| 6/6 [00:00<00:00,  9.79it/s]\n"
     ]
    },
    {
     "name": "stdout",
     "output_type": "stream",
     "text": [
      "Extracting ../Mesures/train\\spotify20230201_092702.csv.... 17/39\n"
     ]
    },
    {
     "name": "stderr",
     "output_type": "stream",
     "text": [
      "100%|████████████████████████████████████████████████████████████████████████████| 1750/1750 [00:01<00:00, 1027.11it/s]\n"
     ]
    },
    {
     "name": "stdout",
     "output_type": "stream",
     "text": [
      "Extracting ../Mesures/train\\spotify20230203_165507.csv.... 18/39\n"
     ]
    },
    {
     "name": "stderr",
     "output_type": "stream",
     "text": [
      "100%|██████████████████████████████████████████████████████████████████████████████| 522/522 [00:00<00:00, 1346.55it/s]\n"
     ]
    },
    {
     "name": "stdout",
     "output_type": "stream",
     "text": [
      "Extracting ../Mesures/train\\spotify20230216_141318.csv.... 19/39\n"
     ]
    },
    {
     "name": "stderr",
     "output_type": "stream",
     "text": [
      "100%|██████████████████████████████████████████████████████████████████████████████| 364/364 [00:00<00:00, 1358.15it/s]\n"
     ]
    },
    {
     "name": "stdout",
     "output_type": "stream",
     "text": [
      "Extracting ../Mesures/train\\twitch20221117_113554.csv.... 20/39\n"
     ]
    },
    {
     "name": "stderr",
     "output_type": "stream",
     "text": [
      "100%|██████████████████████████████████████████████████████████████████████████████████| 24/24 [00:02<00:00, 11.48it/s]\n"
     ]
    },
    {
     "name": "stdout",
     "output_type": "stream",
     "text": [
      "Extracting ../Mesures/train\\twitch20221118_075454.csv.... 21/39\n"
     ]
    },
    {
     "name": "stderr",
     "output_type": "stream",
     "text": [
      "100%|██████████████████████████████████████████████████████████████████████████████████| 16/16 [00:00<00:00, 49.95it/s]\n"
     ]
    },
    {
     "name": "stdout",
     "output_type": "stream",
     "text": [
      "Extracting ../Mesures/train\\twitch20221125_133859.csv.... 22/39\n"
     ]
    },
    {
     "name": "stderr",
     "output_type": "stream",
     "text": [
      "100%|████████████████████████████████████████████████████████████████████████████████| 108/108 [00:01<00:00, 79.11it/s]\n"
     ]
    },
    {
     "name": "stdout",
     "output_type": "stream",
     "text": [
      "Extracting ../Mesures/train\\twitch20230110_110215.csv.... 23/39\n"
     ]
    },
    {
     "name": "stderr",
     "output_type": "stream",
     "text": [
      "100%|█████████████████████████████████████████████████████████████████████████████████| 22/22 [00:00<00:00, 104.64it/s]\n"
     ]
    },
    {
     "name": "stdout",
     "output_type": "stream",
     "text": [
      "Extracting ../Mesures/train\\twitch20230110_120513.csv.... 24/39\n"
     ]
    },
    {
     "name": "stderr",
     "output_type": "stream",
     "text": [
      "100%|█████████████████████████████████████████████████████████████████████████████████| 59/59 [00:00<00:00, 241.46it/s]\n"
     ]
    },
    {
     "name": "stdout",
     "output_type": "stream",
     "text": [
      "Extracting ../Mesures/train\\twitch20230110_130648.csv.... 25/39\n"
     ]
    },
    {
     "name": "stderr",
     "output_type": "stream",
     "text": [
      "100%|███████████████████████████████████████████████████████████████████████████████| 426/426 [00:00<00:00, 860.11it/s]\n"
     ]
    },
    {
     "name": "stdout",
     "output_type": "stream",
     "text": [
      "Extracting ../Mesures/train\\youtube20221108_165214.csv.... 26/39\n"
     ]
    },
    {
     "name": "stderr",
     "output_type": "stream",
     "text": [
      "100%|█████████████████████████████████████████████████████████████████████████████████| 11/11 [00:00<00:00, 735.40it/s]\n"
     ]
    },
    {
     "name": "stdout",
     "output_type": "stream",
     "text": [
      "Extracting ../Mesures/train\\youtube20221108_182416.csv.... 27/39\n"
     ]
    },
    {
     "name": "stderr",
     "output_type": "stream",
     "text": [
      "100%|███████████████████████████████████████████████████████████████████████████████████| 4/4 [00:00<00:00, 308.56it/s]\n"
     ]
    },
    {
     "name": "stdout",
     "output_type": "stream",
     "text": [
      "Extracting ../Mesures/train\\youtube20221124_125524.csv.... 28/39\n"
     ]
    },
    {
     "name": "stderr",
     "output_type": "stream",
     "text": [
      "100%|██████████████████████████████████████████████████████████████████████████████| 186/186 [00:00<00:00, 1172.71it/s]\n"
     ]
    },
    {
     "name": "stdout",
     "output_type": "stream",
     "text": [
      "Extracting ../Mesures/train\\youtube20221124_154037.csv.... 29/39\n"
     ]
    },
    {
     "name": "stderr",
     "output_type": "stream",
     "text": [
      "100%|████████████████████████████████████████████████████████████████████████████████| 92/92 [00:00<00:00, 1177.98it/s]\n"
     ]
    },
    {
     "name": "stdout",
     "output_type": "stream",
     "text": [
      "Extracting ../Mesures/train\\youtube20221130_103723.csv.... 30/39\n"
     ]
    },
    {
     "name": "stderr",
     "output_type": "stream",
     "text": [
      "100%|█████████████████████████████████████████████████████████████████████████████████| 91/91 [00:00<00:00, 903.41it/s]\n"
     ]
    },
    {
     "name": "stdout",
     "output_type": "stream",
     "text": [
      "Extracting ../Mesures/train\\youtube20230110_145404.csv.... 31/39\n"
     ]
    },
    {
     "name": "stderr",
     "output_type": "stream",
     "text": [
      "100%|████████████████████████████████████████████████████████████████████████████████| 94/94 [00:00<00:00, 1108.43it/s]\n"
     ]
    },
    {
     "name": "stdout",
     "output_type": "stream",
     "text": [
      "Extracting ../Mesures/train\\youtube20230110_161955.csv.... 32/39\n"
     ]
    },
    {
     "name": "stderr",
     "output_type": "stream",
     "text": [
      "100%|████████████████████████████████████████████████████████████████████████████████| 90/90 [00:00<00:00, 1128.01it/s]\n"
     ]
    },
    {
     "name": "stdout",
     "output_type": "stream",
     "text": [
      "Extracting ../Mesures/train\\youtube20230112_125508.csv.... 33/39\n"
     ]
    },
    {
     "name": "stderr",
     "output_type": "stream",
     "text": [
      "100%|███████████████████████████████████████████████████████████████████████████████| 108/108 [00:00<00:00, 638.59it/s]\n"
     ]
    },
    {
     "name": "stdout",
     "output_type": "stream",
     "text": [
      "Extracting ../Mesures/train\\youtube20230112_151029.csv.... 34/39\n"
     ]
    },
    {
     "name": "stderr",
     "output_type": "stream",
     "text": [
      "100%|█████████████████████████████████████████████████████████████████████████████████| 29/29 [00:00<00:00, 855.22it/s]\n"
     ]
    },
    {
     "name": "stdout",
     "output_type": "stream",
     "text": [
      "Extracting ../Mesures/train\\youtube20230112_154749.csv.... 35/39\n"
     ]
    },
    {
     "name": "stderr",
     "output_type": "stream",
     "text": [
      "100%|█████████████████████████████████████████████████████████████████████████████████| 32/32 [00:00<00:00, 641.27it/s]\n"
     ]
    },
    {
     "name": "stdout",
     "output_type": "stream",
     "text": [
      "Extracting ../Mesures/train\\youtube20230112_163634.csv.... 36/39\n"
     ]
    },
    {
     "name": "stderr",
     "output_type": "stream",
     "text": [
      "100%|█████████████████████████████████████████████████████████████████████████████████| 65/65 [00:00<00:00, 972.74it/s]\n"
     ]
    },
    {
     "name": "stdout",
     "output_type": "stream",
     "text": [
      "Extracting ../Mesures/train\\youtube20230117_095221.csv.... 37/39\n"
     ]
    },
    {
     "name": "stderr",
     "output_type": "stream",
     "text": [
      "100%|███████████████████████████████████████████████████████████████████████████████| 140/140 [00:00<00:00, 347.98it/s]\n"
     ]
    },
    {
     "name": "stdout",
     "output_type": "stream",
     "text": [
      "Extracting ../Mesures/train\\youtube20230118_134041.csv.... 38/39\n"
     ]
    },
    {
     "name": "stderr",
     "output_type": "stream",
     "text": [
      "100%|███████████████████████████████████████████████████████████████████████████████| 212/212 [00:00<00:00, 320.27it/s]\n"
     ]
    },
    {
     "name": "stdout",
     "output_type": "stream",
     "text": [
      "Extracting ../Mesures/train\\youtube20230124_124323.csv.... 39/39\n"
     ]
    },
    {
     "name": "stderr",
     "output_type": "stream",
     "text": [
      "100%|███████████████████████████████████████████████████████████████████████████████| 163/163 [00:00<00:00, 307.21it/s]\n",
      "100%|█████████████████████████████████████████████████████████████████████████████| 5593/5593 [00:23<00:00, 234.11it/s]\n"
     ]
    },
    {
     "name": "stdout",
     "output_type": "stream",
     "text": [
      "Extracting ../Mesures/test\\messenger20221124_151137.csv.... 1/7\n"
     ]
    },
    {
     "name": "stderr",
     "output_type": "stream",
     "text": [
      "100%|████████████████████████████████████████████████████████████████████████████████████| 5/5 [00:00<00:00, 22.48it/s]\n"
     ]
    },
    {
     "name": "stdout",
     "output_type": "stream",
     "text": [
      "Extracting ../Mesures/test\\messenger20230208_132747.csv.... 2/7\n"
     ]
    },
    {
     "name": "stderr",
     "output_type": "stream",
     "text": [
      "100%|██████████████████████████████████████████████████████████████████████████████████| 27/27 [00:03<00:00,  7.11it/s]\n"
     ]
    },
    {
     "name": "stdout",
     "output_type": "stream",
     "text": [
      "Extracting ../Mesures/test\\skype20221206_150902.csv.... 3/7\n"
     ]
    },
    {
     "name": "stderr",
     "output_type": "stream",
     "text": [
      "100%|████████████████████████████████████████████████████████████████████████████████████| 3/3 [00:00<00:00,  3.37it/s]\n"
     ]
    },
    {
     "name": "stdout",
     "output_type": "stream",
     "text": [
      "Extracting ../Mesures/test\\spotify20230127_134348.csv.... 4/7\n"
     ]
    },
    {
     "name": "stderr",
     "output_type": "stream",
     "text": [
      "100%|██████████████████████████████████████████████████████████████████████████████| 240/240 [00:00<00:00, 1124.39it/s]\n"
     ]
    },
    {
     "name": "stdout",
     "output_type": "stream",
     "text": [
      "Extracting ../Mesures/test\\twitch20221124_163054.csv.... 5/7\n"
     ]
    },
    {
     "name": "stderr",
     "output_type": "stream",
     "text": [
      "100%|██████████████████████████████████████████████████████████████████████████████████| 12/12 [00:00<00:00, 21.55it/s]\n"
     ]
    },
    {
     "name": "stdout",
     "output_type": "stream",
     "text": [
      "Extracting ../Mesures/test\\youtube20221118_104205.csv.... 6/7\n"
     ]
    },
    {
     "name": "stderr",
     "output_type": "stream",
     "text": [
      "100%|██████████████████████████████████████████████████████████████████████████████| 218/218 [00:00<00:00, 1227.97it/s]\n"
     ]
    },
    {
     "name": "stdout",
     "output_type": "stream",
     "text": [
      "Extracting ../Mesures/test\\youtube20230117_121925.csv.... 7/7\n"
     ]
    },
    {
     "name": "stderr",
     "output_type": "stream",
     "text": [
      "100%|███████████████████████████████████████████████████████████████████████████████| 260/260 [00:00<00:00, 642.58it/s]\n",
      "100%|████████████████████████████████████████████████████████████████████████████████| 765/765 [00:08<00:00, 86.62it/s]\n"
     ]
    },
    {
     "data": {
      "text/html": [
       "<div>\n",
       "<style scoped>\n",
       "    .dataframe tbody tr th:only-of-type {\n",
       "        vertical-align: middle;\n",
       "    }\n",
       "\n",
       "    .dataframe tbody tr th {\n",
       "        vertical-align: top;\n",
       "    }\n",
       "\n",
       "    .dataframe thead th {\n",
       "        text-align: right;\n",
       "    }\n",
       "</style>\n",
       "<table border=\"1\" class=\"dataframe\">\n",
       "  <thead>\n",
       "    <tr style=\"text-align: right;\">\n",
       "      <th></th>\n",
       "      <th>0</th>\n",
       "      <th>1</th>\n",
       "      <th>2</th>\n",
       "      <th>3</th>\n",
       "      <th>4</th>\n",
       "      <th>5</th>\n",
       "      <th>6</th>\n",
       "      <th>7</th>\n",
       "      <th>8</th>\n",
       "      <th>9</th>\n",
       "      <th>...</th>\n",
       "      <th>111</th>\n",
       "      <th>112</th>\n",
       "      <th>113</th>\n",
       "      <th>114</th>\n",
       "      <th>115</th>\n",
       "      <th>116</th>\n",
       "      <th>117</th>\n",
       "      <th>118</th>\n",
       "      <th>119</th>\n",
       "      <th>label</th>\n",
       "    </tr>\n",
       "  </thead>\n",
       "  <tbody>\n",
       "    <tr>\n",
       "      <th>20221124_151137_4_0</th>\n",
       "      <td>308.521739</td>\n",
       "      <td>687.88587</td>\n",
       "      <td>1067.25</td>\n",
       "      <td>1013.396825</td>\n",
       "      <td>1496.222222</td>\n",
       "      <td>713.52381</td>\n",
       "      <td>1561.5</td>\n",
       "      <td>899.897436</td>\n",
       "      <td>1168.0</td>\n",
       "      <td>972.756757</td>\n",
       "      <td>...</td>\n",
       "      <td>0.0</td>\n",
       "      <td>0.0</td>\n",
       "      <td>0.0</td>\n",
       "      <td>0.0</td>\n",
       "      <td>0.0</td>\n",
       "      <td>0.0</td>\n",
       "      <td>0.0</td>\n",
       "      <td>0.0</td>\n",
       "      <td>0.0</td>\n",
       "      <td>messenger</td>\n",
       "    </tr>\n",
       "    <tr>\n",
       "      <th>20221124_151137_4_5</th>\n",
       "      <td>713.52381</td>\n",
       "      <td>1561.5</td>\n",
       "      <td>899.897436</td>\n",
       "      <td>1168.0</td>\n",
       "      <td>972.756757</td>\n",
       "      <td>1713.333333</td>\n",
       "      <td>630.967742</td>\n",
       "      <td>874.037351</td>\n",
       "      <td>1117.106961</td>\n",
       "      <td>1360.17657</td>\n",
       "      <td>...</td>\n",
       "      <td>0.0</td>\n",
       "      <td>0.0</td>\n",
       "      <td>0.0</td>\n",
       "      <td>0.0</td>\n",
       "      <td>0.0</td>\n",
       "      <td>0.0</td>\n",
       "      <td>0.0</td>\n",
       "      <td>0.0</td>\n",
       "      <td>0.0</td>\n",
       "      <td>messenger</td>\n",
       "    </tr>\n",
       "    <tr>\n",
       "      <th>20221124_151137_4_10</th>\n",
       "      <td>1713.333333</td>\n",
       "      <td>630.967742</td>\n",
       "      <td>874.037351</td>\n",
       "      <td>1117.106961</td>\n",
       "      <td>1360.17657</td>\n",
       "      <td>1603.24618</td>\n",
       "      <td>1846.315789</td>\n",
       "      <td>696.0</td>\n",
       "      <td>638.2</td>\n",
       "      <td>580.4</td>\n",
       "      <td>...</td>\n",
       "      <td>0.0</td>\n",
       "      <td>0.0</td>\n",
       "      <td>0.0</td>\n",
       "      <td>0.0</td>\n",
       "      <td>0.0</td>\n",
       "      <td>0.0</td>\n",
       "      <td>0.0</td>\n",
       "      <td>0.0</td>\n",
       "      <td>0.0</td>\n",
       "      <td>messenger</td>\n",
       "    </tr>\n",
       "    <tr>\n",
       "      <th>20221124_151137_4_15</th>\n",
       "      <td>1603.24618</td>\n",
       "      <td>1846.315789</td>\n",
       "      <td>696.0</td>\n",
       "      <td>638.2</td>\n",
       "      <td>580.4</td>\n",
       "      <td>439.466667</td>\n",
       "      <td>556.0</td>\n",
       "      <td>1007.304348</td>\n",
       "      <td>965.653333</td>\n",
       "      <td>1316.5</td>\n",
       "      <td>...</td>\n",
       "      <td>0.0</td>\n",
       "      <td>0.0</td>\n",
       "      <td>0.0</td>\n",
       "      <td>0.0</td>\n",
       "      <td>0.0</td>\n",
       "      <td>0.0</td>\n",
       "      <td>0.0</td>\n",
       "      <td>0.0</td>\n",
       "      <td>0.0</td>\n",
       "      <td>messenger</td>\n",
       "    </tr>\n",
       "    <tr>\n",
       "      <th>20221124_151137_4_20</th>\n",
       "      <td>439.466667</td>\n",
       "      <td>556.0</td>\n",
       "      <td>1007.304348</td>\n",
       "      <td>965.653333</td>\n",
       "      <td>1316.5</td>\n",
       "      <td>1177.333333</td>\n",
       "      <td>1649.066667</td>\n",
       "      <td>1245.666667</td>\n",
       "      <td>1168.238596</td>\n",
       "      <td>1090.810526</td>\n",
       "      <td>...</td>\n",
       "      <td>0.0</td>\n",
       "      <td>0.0</td>\n",
       "      <td>0.0</td>\n",
       "      <td>0.0</td>\n",
       "      <td>0.0</td>\n",
       "      <td>0.0</td>\n",
       "      <td>0.0</td>\n",
       "      <td>0.0</td>\n",
       "      <td>0.0</td>\n",
       "      <td>messenger</td>\n",
       "    </tr>\n",
       "    <tr>\n",
       "      <th>...</th>\n",
       "      <td>...</td>\n",
       "      <td>...</td>\n",
       "      <td>...</td>\n",
       "      <td>...</td>\n",
       "      <td>...</td>\n",
       "      <td>...</td>\n",
       "      <td>...</td>\n",
       "      <td>...</td>\n",
       "      <td>...</td>\n",
       "      <td>...</td>\n",
       "      <td>...</td>\n",
       "      <td>...</td>\n",
       "      <td>...</td>\n",
       "      <td>...</td>\n",
       "      <td>...</td>\n",
       "      <td>...</td>\n",
       "      <td>...</td>\n",
       "      <td>...</td>\n",
       "      <td>...</td>\n",
       "      <td>...</td>\n",
       "      <td>...</td>\n",
       "    </tr>\n",
       "    <tr>\n",
       "      <th>20230117_121925_263_25</th>\n",
       "      <td>2166.358632</td>\n",
       "      <td>2026.580239</td>\n",
       "      <td>1886.801846</td>\n",
       "      <td>1747.023453</td>\n",
       "      <td>1607.24506</td>\n",
       "      <td>1467.466667</td>\n",
       "      <td>913.959748</td>\n",
       "      <td>360.45283</td>\n",
       "      <td>348.902516</td>\n",
       "      <td>337.352201</td>\n",
       "      <td>...</td>\n",
       "      <td>0.0</td>\n",
       "      <td>0.0</td>\n",
       "      <td>0.0</td>\n",
       "      <td>0.0</td>\n",
       "      <td>0.0</td>\n",
       "      <td>0.0</td>\n",
       "      <td>0.0</td>\n",
       "      <td>0.0</td>\n",
       "      <td>0.0</td>\n",
       "      <td>youtube</td>\n",
       "    </tr>\n",
       "    <tr>\n",
       "      <th>20230117_121925_263_30</th>\n",
       "      <td>1467.466667</td>\n",
       "      <td>913.959748</td>\n",
       "      <td>360.45283</td>\n",
       "      <td>348.902516</td>\n",
       "      <td>337.352201</td>\n",
       "      <td>325.801887</td>\n",
       "      <td>314.251572</td>\n",
       "      <td>302.701258</td>\n",
       "      <td>291.150943</td>\n",
       "      <td>279.600629</td>\n",
       "      <td>...</td>\n",
       "      <td>0.0</td>\n",
       "      <td>0.0</td>\n",
       "      <td>0.0</td>\n",
       "      <td>0.0</td>\n",
       "      <td>0.0</td>\n",
       "      <td>0.0</td>\n",
       "      <td>0.0</td>\n",
       "      <td>0.0</td>\n",
       "      <td>0.0</td>\n",
       "      <td>youtube</td>\n",
       "    </tr>\n",
       "    <tr>\n",
       "      <th>20230117_121925_263_35</th>\n",
       "      <td>325.801887</td>\n",
       "      <td>314.251572</td>\n",
       "      <td>302.701258</td>\n",
       "      <td>291.150943</td>\n",
       "      <td>279.600629</td>\n",
       "      <td>268.050314</td>\n",
       "      <td>256.5</td>\n",
       "      <td>252.8</td>\n",
       "      <td>355.158974</td>\n",
       "      <td>457.517949</td>\n",
       "      <td>...</td>\n",
       "      <td>0.0</td>\n",
       "      <td>0.0</td>\n",
       "      <td>0.0</td>\n",
       "      <td>0.0</td>\n",
       "      <td>0.0</td>\n",
       "      <td>0.0</td>\n",
       "      <td>0.0</td>\n",
       "      <td>0.0</td>\n",
       "      <td>0.0</td>\n",
       "      <td>youtube</td>\n",
       "    </tr>\n",
       "    <tr>\n",
       "      <th>20230117_121925_263_40</th>\n",
       "      <td>268.050314</td>\n",
       "      <td>256.5</td>\n",
       "      <td>252.8</td>\n",
       "      <td>355.158974</td>\n",
       "      <td>457.517949</td>\n",
       "      <td>559.876923</td>\n",
       "      <td>662.235897</td>\n",
       "      <td>764.594872</td>\n",
       "      <td>866.953846</td>\n",
       "      <td>969.312821</td>\n",
       "      <td>...</td>\n",
       "      <td>0.0</td>\n",
       "      <td>0.0</td>\n",
       "      <td>0.0</td>\n",
       "      <td>0.0</td>\n",
       "      <td>0.0</td>\n",
       "      <td>0.0</td>\n",
       "      <td>0.0</td>\n",
       "      <td>0.0</td>\n",
       "      <td>0.0</td>\n",
       "      <td>youtube</td>\n",
       "    </tr>\n",
       "    <tr>\n",
       "      <th>20230117_121925_263_45</th>\n",
       "      <td>559.876923</td>\n",
       "      <td>662.235897</td>\n",
       "      <td>764.594872</td>\n",
       "      <td>866.953846</td>\n",
       "      <td>969.312821</td>\n",
       "      <td>1071.671795</td>\n",
       "      <td>1174.030769</td>\n",
       "      <td>1003.989744</td>\n",
       "      <td>833.948718</td>\n",
       "      <td>663.907692</td>\n",
       "      <td>...</td>\n",
       "      <td>0.0</td>\n",
       "      <td>0.0</td>\n",
       "      <td>0.0</td>\n",
       "      <td>0.0</td>\n",
       "      <td>0.0</td>\n",
       "      <td>0.0</td>\n",
       "      <td>0.0</td>\n",
       "      <td>0.0</td>\n",
       "      <td>0.0</td>\n",
       "      <td>youtube</td>\n",
       "    </tr>\n",
       "  </tbody>\n",
       "</table>\n",
       "<p>30004 rows × 121 columns</p>\n",
       "</div>"
      ],
      "text/plain": [
       "                                  0            1            2            3  \\\n",
       "20221124_151137_4_0      308.521739    687.88587      1067.25  1013.396825   \n",
       "20221124_151137_4_5       713.52381       1561.5   899.897436       1168.0   \n",
       "20221124_151137_4_10    1713.333333   630.967742   874.037351  1117.106961   \n",
       "20221124_151137_4_15     1603.24618  1846.315789        696.0        638.2   \n",
       "20221124_151137_4_20     439.466667        556.0  1007.304348   965.653333   \n",
       "...                             ...          ...          ...          ...   \n",
       "20230117_121925_263_25  2166.358632  2026.580239  1886.801846  1747.023453   \n",
       "20230117_121925_263_30  1467.466667   913.959748    360.45283   348.902516   \n",
       "20230117_121925_263_35   325.801887   314.251572   302.701258   291.150943   \n",
       "20230117_121925_263_40   268.050314        256.5        252.8   355.158974   \n",
       "20230117_121925_263_45   559.876923   662.235897   764.594872   866.953846   \n",
       "\n",
       "                                  4            5            6            7  \\\n",
       "20221124_151137_4_0     1496.222222    713.52381       1561.5   899.897436   \n",
       "20221124_151137_4_5      972.756757  1713.333333   630.967742   874.037351   \n",
       "20221124_151137_4_10     1360.17657   1603.24618  1846.315789        696.0   \n",
       "20221124_151137_4_15          580.4   439.466667        556.0  1007.304348   \n",
       "20221124_151137_4_20         1316.5  1177.333333  1649.066667  1245.666667   \n",
       "...                             ...          ...          ...          ...   \n",
       "20230117_121925_263_25   1607.24506  1467.466667   913.959748    360.45283   \n",
       "20230117_121925_263_30   337.352201   325.801887   314.251572   302.701258   \n",
       "20230117_121925_263_35   279.600629   268.050314        256.5        252.8   \n",
       "20230117_121925_263_40   457.517949   559.876923   662.235897   764.594872   \n",
       "20230117_121925_263_45   969.312821  1071.671795  1174.030769  1003.989744   \n",
       "\n",
       "                                  8            9  ...  111  112  113  114  \\\n",
       "20221124_151137_4_0          1168.0   972.756757  ...  0.0  0.0  0.0  0.0   \n",
       "20221124_151137_4_5     1117.106961   1360.17657  ...  0.0  0.0  0.0  0.0   \n",
       "20221124_151137_4_10          638.2        580.4  ...  0.0  0.0  0.0  0.0   \n",
       "20221124_151137_4_15     965.653333       1316.5  ...  0.0  0.0  0.0  0.0   \n",
       "20221124_151137_4_20    1168.238596  1090.810526  ...  0.0  0.0  0.0  0.0   \n",
       "...                             ...          ...  ...  ...  ...  ...  ...   \n",
       "20230117_121925_263_25   348.902516   337.352201  ...  0.0  0.0  0.0  0.0   \n",
       "20230117_121925_263_30   291.150943   279.600629  ...  0.0  0.0  0.0  0.0   \n",
       "20230117_121925_263_35   355.158974   457.517949  ...  0.0  0.0  0.0  0.0   \n",
       "20230117_121925_263_40   866.953846   969.312821  ...  0.0  0.0  0.0  0.0   \n",
       "20230117_121925_263_45   833.948718   663.907692  ...  0.0  0.0  0.0  0.0   \n",
       "\n",
       "                        115  116  117  118  119      label  \n",
       "20221124_151137_4_0     0.0  0.0  0.0  0.0  0.0  messenger  \n",
       "20221124_151137_4_5     0.0  0.0  0.0  0.0  0.0  messenger  \n",
       "20221124_151137_4_10    0.0  0.0  0.0  0.0  0.0  messenger  \n",
       "20221124_151137_4_15    0.0  0.0  0.0  0.0  0.0  messenger  \n",
       "20221124_151137_4_20    0.0  0.0  0.0  0.0  0.0  messenger  \n",
       "...                     ...  ...  ...  ...  ...        ...  \n",
       "20230117_121925_263_25  0.0  0.0  0.0  0.0  0.0    youtube  \n",
       "20230117_121925_263_30  0.0  0.0  0.0  0.0  0.0    youtube  \n",
       "20230117_121925_263_35  0.0  0.0  0.0  0.0  0.0    youtube  \n",
       "20230117_121925_263_40  0.0  0.0  0.0  0.0  0.0    youtube  \n",
       "20230117_121925_263_45  0.0  0.0  0.0  0.0  0.0    youtube  \n",
       "\n",
       "[30004 rows x 121 columns]"
      ]
     },
     "execution_count": 3,
     "metadata": {},
     "output_type": "execute_result"
    }
   ],
   "source": [
    "df_train = load_and_preprocess_agg_window(\"../Mesures/train\", length_value = DEFAULT_LENGTH_Value, step = STEP)\n",
    "\n",
    "df_test = load_and_preprocess_agg_window(\"../Mesures/test\", length_value = DEFAULT_LENGTH_Value, step = STEP)\n",
    "df_test\n"
   ]
  },
  {
   "cell_type": "markdown",
   "id": "a536a54e",
   "metadata": {},
   "source": [
    "# Noise"
   ]
  },
  {
   "cell_type": "code",
   "execution_count": 4,
   "id": "fb379dc2",
   "metadata": {},
   "outputs": [
    {
     "data": {
      "text/html": [
       "<div>\n",
       "<style scoped>\n",
       "    .dataframe tbody tr th:only-of-type {\n",
       "        vertical-align: middle;\n",
       "    }\n",
       "\n",
       "    .dataframe tbody tr th {\n",
       "        vertical-align: top;\n",
       "    }\n",
       "\n",
       "    .dataframe thead th {\n",
       "        text-align: right;\n",
       "    }\n",
       "</style>\n",
       "<table border=\"1\" class=\"dataframe\">\n",
       "  <thead>\n",
       "    <tr style=\"text-align: right;\">\n",
       "      <th></th>\n",
       "      <th>0</th>\n",
       "      <th>1</th>\n",
       "      <th>2</th>\n",
       "      <th>3</th>\n",
       "      <th>4</th>\n",
       "      <th>5</th>\n",
       "      <th>6</th>\n",
       "      <th>7</th>\n",
       "      <th>8</th>\n",
       "      <th>9</th>\n",
       "      <th>...</th>\n",
       "      <th>111</th>\n",
       "      <th>112</th>\n",
       "      <th>113</th>\n",
       "      <th>114</th>\n",
       "      <th>115</th>\n",
       "      <th>116</th>\n",
       "      <th>117</th>\n",
       "      <th>118</th>\n",
       "      <th>119</th>\n",
       "      <th>label</th>\n",
       "    </tr>\n",
       "  </thead>\n",
       "  <tbody>\n",
       "    <tr>\n",
       "      <th>20221117_125310_4_0</th>\n",
       "      <td>320.0</td>\n",
       "      <td>914.730159</td>\n",
       "      <td>1509.460317</td>\n",
       "      <td>1245.169231</td>\n",
       "      <td>1546.434783</td>\n",
       "      <td>1308.988235</td>\n",
       "      <td>258.666667</td>\n",
       "      <td>355.060606</td>\n",
       "      <td>451.454545</td>\n",
       "      <td>547.848485</td>\n",
       "      <td>...</td>\n",
       "      <td>0.0</td>\n",
       "      <td>0.0</td>\n",
       "      <td>0.0</td>\n",
       "      <td>0.0</td>\n",
       "      <td>0.0</td>\n",
       "      <td>0.0</td>\n",
       "      <td>0.0</td>\n",
       "      <td>0.0</td>\n",
       "      <td>0.0</td>\n",
       "      <td>messenger</td>\n",
       "    </tr>\n",
       "    <tr>\n",
       "      <th>20221117_125310_4_5</th>\n",
       "      <td>1308.988235</td>\n",
       "      <td>258.666667</td>\n",
       "      <td>355.060606</td>\n",
       "      <td>451.454545</td>\n",
       "      <td>547.848485</td>\n",
       "      <td>644.242424</td>\n",
       "      <td>740.636364</td>\n",
       "      <td>837.030303</td>\n",
       "      <td>933.424242</td>\n",
       "      <td>1029.818182</td>\n",
       "      <td>...</td>\n",
       "      <td>0.0</td>\n",
       "      <td>0.0</td>\n",
       "      <td>0.0</td>\n",
       "      <td>0.0</td>\n",
       "      <td>0.0</td>\n",
       "      <td>0.0</td>\n",
       "      <td>0.0</td>\n",
       "      <td>0.0</td>\n",
       "      <td>0.0</td>\n",
       "      <td>messenger</td>\n",
       "    </tr>\n",
       "    <tr>\n",
       "      <th>20221117_125310_4_10</th>\n",
       "      <td>644.242424</td>\n",
       "      <td>740.636364</td>\n",
       "      <td>837.030303</td>\n",
       "      <td>933.424242</td>\n",
       "      <td>1029.818182</td>\n",
       "      <td>849.363636</td>\n",
       "      <td>668.909091</td>\n",
       "      <td>488.454545</td>\n",
       "      <td>308.0</td>\n",
       "      <td>258.0</td>\n",
       "      <td>...</td>\n",
       "      <td>0.0</td>\n",
       "      <td>0.0</td>\n",
       "      <td>0.0</td>\n",
       "      <td>0.0</td>\n",
       "      <td>0.0</td>\n",
       "      <td>0.0</td>\n",
       "      <td>0.0</td>\n",
       "      <td>0.0</td>\n",
       "      <td>0.0</td>\n",
       "      <td>messenger</td>\n",
       "    </tr>\n",
       "    <tr>\n",
       "      <th>20221117_125310_4_15</th>\n",
       "      <td>849.363636</td>\n",
       "      <td>668.909091</td>\n",
       "      <td>488.454545</td>\n",
       "      <td>308.0</td>\n",
       "      <td>258.0</td>\n",
       "      <td>318.823529</td>\n",
       "      <td>374.048588</td>\n",
       "      <td>429.273647</td>\n",
       "      <td>484.498705</td>\n",
       "      <td>539.723764</td>\n",
       "      <td>...</td>\n",
       "      <td>0.0</td>\n",
       "      <td>0.0</td>\n",
       "      <td>0.0</td>\n",
       "      <td>0.0</td>\n",
       "      <td>0.0</td>\n",
       "      <td>0.0</td>\n",
       "      <td>0.0</td>\n",
       "      <td>0.0</td>\n",
       "      <td>0.0</td>\n",
       "      <td>messenger</td>\n",
       "    </tr>\n",
       "    <tr>\n",
       "      <th>20221117_125310_4_20</th>\n",
       "      <td>318.823529</td>\n",
       "      <td>374.048588</td>\n",
       "      <td>429.273647</td>\n",
       "      <td>484.498705</td>\n",
       "      <td>539.723764</td>\n",
       "      <td>594.948822</td>\n",
       "      <td>650.173881</td>\n",
       "      <td>705.398939</td>\n",
       "      <td>760.623998</td>\n",
       "      <td>815.849057</td>\n",
       "      <td>...</td>\n",
       "      <td>0.0</td>\n",
       "      <td>0.0</td>\n",
       "      <td>0.0</td>\n",
       "      <td>0.0</td>\n",
       "      <td>0.0</td>\n",
       "      <td>0.0</td>\n",
       "      <td>0.0</td>\n",
       "      <td>0.0</td>\n",
       "      <td>0.0</td>\n",
       "      <td>messenger</td>\n",
       "    </tr>\n",
       "    <tr>\n",
       "      <th>...</th>\n",
       "      <td>...</td>\n",
       "      <td>...</td>\n",
       "      <td>...</td>\n",
       "      <td>...</td>\n",
       "      <td>...</td>\n",
       "      <td>...</td>\n",
       "      <td>...</td>\n",
       "      <td>...</td>\n",
       "      <td>...</td>\n",
       "      <td>...</td>\n",
       "      <td>...</td>\n",
       "      <td>...</td>\n",
       "      <td>...</td>\n",
       "      <td>...</td>\n",
       "      <td>...</td>\n",
       "      <td>...</td>\n",
       "      <td>...</td>\n",
       "      <td>...</td>\n",
       "      <td>...</td>\n",
       "      <td>...</td>\n",
       "      <td>...</td>\n",
       "    </tr>\n",
       "    <tr>\n",
       "      <th>20230124_124323_166_25</th>\n",
       "      <td>587.128781</td>\n",
       "      <td>537.9422</td>\n",
       "      <td>488.755619</td>\n",
       "      <td>439.569038</td>\n",
       "      <td>390.382457</td>\n",
       "      <td>341.195876</td>\n",
       "      <td>2458.325333</td>\n",
       "      <td>2424.260267</td>\n",
       "      <td>2390.1952</td>\n",
       "      <td>2356.130133</td>\n",
       "      <td>...</td>\n",
       "      <td>0.0</td>\n",
       "      <td>0.0</td>\n",
       "      <td>0.0</td>\n",
       "      <td>0.0</td>\n",
       "      <td>0.0</td>\n",
       "      <td>0.0</td>\n",
       "      <td>0.0</td>\n",
       "      <td>0.0</td>\n",
       "      <td>0.0</td>\n",
       "      <td>youtube</td>\n",
       "    </tr>\n",
       "    <tr>\n",
       "      <th>20230124_124323_166_30</th>\n",
       "      <td>341.195876</td>\n",
       "      <td>2458.325333</td>\n",
       "      <td>2424.260267</td>\n",
       "      <td>2390.1952</td>\n",
       "      <td>2356.130133</td>\n",
       "      <td>2322.065067</td>\n",
       "      <td>2288.0</td>\n",
       "      <td>1816.727273</td>\n",
       "      <td>1345.454545</td>\n",
       "      <td>874.181818</td>\n",
       "      <td>...</td>\n",
       "      <td>0.0</td>\n",
       "      <td>0.0</td>\n",
       "      <td>0.0</td>\n",
       "      <td>0.0</td>\n",
       "      <td>0.0</td>\n",
       "      <td>0.0</td>\n",
       "      <td>0.0</td>\n",
       "      <td>0.0</td>\n",
       "      <td>0.0</td>\n",
       "      <td>youtube</td>\n",
       "    </tr>\n",
       "    <tr>\n",
       "      <th>20230124_124323_166_35</th>\n",
       "      <td>2322.065067</td>\n",
       "      <td>2288.0</td>\n",
       "      <td>1816.727273</td>\n",
       "      <td>1345.454545</td>\n",
       "      <td>874.181818</td>\n",
       "      <td>1215.602484</td>\n",
       "      <td>342.197802</td>\n",
       "      <td>1027.632234</td>\n",
       "      <td>1713.066667</td>\n",
       "      <td>1521.530398</td>\n",
       "      <td>...</td>\n",
       "      <td>0.0</td>\n",
       "      <td>0.0</td>\n",
       "      <td>0.0</td>\n",
       "      <td>0.0</td>\n",
       "      <td>0.0</td>\n",
       "      <td>0.0</td>\n",
       "      <td>0.0</td>\n",
       "      <td>0.0</td>\n",
       "      <td>0.0</td>\n",
       "      <td>youtube</td>\n",
       "    </tr>\n",
       "    <tr>\n",
       "      <th>20230124_124323_166_40</th>\n",
       "      <td>1215.602484</td>\n",
       "      <td>342.197802</td>\n",
       "      <td>1027.632234</td>\n",
       "      <td>1713.066667</td>\n",
       "      <td>1521.530398</td>\n",
       "      <td>1329.99413</td>\n",
       "      <td>1138.457862</td>\n",
       "      <td>946.921593</td>\n",
       "      <td>755.385325</td>\n",
       "      <td>563.849057</td>\n",
       "      <td>...</td>\n",
       "      <td>0.0</td>\n",
       "      <td>0.0</td>\n",
       "      <td>0.0</td>\n",
       "      <td>0.0</td>\n",
       "      <td>0.0</td>\n",
       "      <td>0.0</td>\n",
       "      <td>0.0</td>\n",
       "      <td>0.0</td>\n",
       "      <td>0.0</td>\n",
       "      <td>youtube</td>\n",
       "    </tr>\n",
       "    <tr>\n",
       "      <th>20230124_124323_166_45</th>\n",
       "      <td>1329.99413</td>\n",
       "      <td>1138.457862</td>\n",
       "      <td>946.921593</td>\n",
       "      <td>755.385325</td>\n",
       "      <td>563.849057</td>\n",
       "      <td>708.165289</td>\n",
       "      <td>732.261136</td>\n",
       "      <td>756.356983</td>\n",
       "      <td>780.45283</td>\n",
       "      <td>743.585185</td>\n",
       "      <td>...</td>\n",
       "      <td>0.0</td>\n",
       "      <td>0.0</td>\n",
       "      <td>0.0</td>\n",
       "      <td>0.0</td>\n",
       "      <td>0.0</td>\n",
       "      <td>0.0</td>\n",
       "      <td>0.0</td>\n",
       "      <td>0.0</td>\n",
       "      <td>0.0</td>\n",
       "      <td>youtube</td>\n",
       "    </tr>\n",
       "  </tbody>\n",
       "</table>\n",
       "<p>70588 rows × 121 columns</p>\n",
       "</div>"
      ],
      "text/plain": [
       "                                  0            1            2            3  \\\n",
       "20221117_125310_4_0           320.0   914.730159  1509.460317  1245.169231   \n",
       "20221117_125310_4_5     1308.988235   258.666667   355.060606   451.454545   \n",
       "20221117_125310_4_10     644.242424   740.636364   837.030303   933.424242   \n",
       "20221117_125310_4_15     849.363636   668.909091   488.454545        308.0   \n",
       "20221117_125310_4_20     318.823529   374.048588   429.273647   484.498705   \n",
       "...                             ...          ...          ...          ...   \n",
       "20230124_124323_166_25   587.128781     537.9422   488.755619   439.569038   \n",
       "20230124_124323_166_30   341.195876  2458.325333  2424.260267    2390.1952   \n",
       "20230124_124323_166_35  2322.065067       2288.0  1816.727273  1345.454545   \n",
       "20230124_124323_166_40  1215.602484   342.197802  1027.632234  1713.066667   \n",
       "20230124_124323_166_45   1329.99413  1138.457862   946.921593   755.385325   \n",
       "\n",
       "                                  4            5            6            7  \\\n",
       "20221117_125310_4_0     1546.434783  1308.988235   258.666667   355.060606   \n",
       "20221117_125310_4_5      547.848485   644.242424   740.636364   837.030303   \n",
       "20221117_125310_4_10    1029.818182   849.363636   668.909091   488.454545   \n",
       "20221117_125310_4_15          258.0   318.823529   374.048588   429.273647   \n",
       "20221117_125310_4_20     539.723764   594.948822   650.173881   705.398939   \n",
       "...                             ...          ...          ...          ...   \n",
       "20230124_124323_166_25   390.382457   341.195876  2458.325333  2424.260267   \n",
       "20230124_124323_166_30  2356.130133  2322.065067       2288.0  1816.727273   \n",
       "20230124_124323_166_35   874.181818  1215.602484   342.197802  1027.632234   \n",
       "20230124_124323_166_40  1521.530398   1329.99413  1138.457862   946.921593   \n",
       "20230124_124323_166_45   563.849057   708.165289   732.261136   756.356983   \n",
       "\n",
       "                                  8            9  ...  111  112  113  114  \\\n",
       "20221117_125310_4_0      451.454545   547.848485  ...  0.0  0.0  0.0  0.0   \n",
       "20221117_125310_4_5      933.424242  1029.818182  ...  0.0  0.0  0.0  0.0   \n",
       "20221117_125310_4_10          308.0        258.0  ...  0.0  0.0  0.0  0.0   \n",
       "20221117_125310_4_15     484.498705   539.723764  ...  0.0  0.0  0.0  0.0   \n",
       "20221117_125310_4_20     760.623998   815.849057  ...  0.0  0.0  0.0  0.0   \n",
       "...                             ...          ...  ...  ...  ...  ...  ...   \n",
       "20230124_124323_166_25    2390.1952  2356.130133  ...  0.0  0.0  0.0  0.0   \n",
       "20230124_124323_166_30  1345.454545   874.181818  ...  0.0  0.0  0.0  0.0   \n",
       "20230124_124323_166_35  1713.066667  1521.530398  ...  0.0  0.0  0.0  0.0   \n",
       "20230124_124323_166_40   755.385325   563.849057  ...  0.0  0.0  0.0  0.0   \n",
       "20230124_124323_166_45    780.45283   743.585185  ...  0.0  0.0  0.0  0.0   \n",
       "\n",
       "                        115  116  117  118  119      label  \n",
       "20221117_125310_4_0     0.0  0.0  0.0  0.0  0.0  messenger  \n",
       "20221117_125310_4_5     0.0  0.0  0.0  0.0  0.0  messenger  \n",
       "20221117_125310_4_10    0.0  0.0  0.0  0.0  0.0  messenger  \n",
       "20221117_125310_4_15    0.0  0.0  0.0  0.0  0.0  messenger  \n",
       "20221117_125310_4_20    0.0  0.0  0.0  0.0  0.0  messenger  \n",
       "...                     ...  ...  ...  ...  ...        ...  \n",
       "20230124_124323_166_25  0.0  0.0  0.0  0.0  0.0    youtube  \n",
       "20230124_124323_166_30  0.0  0.0  0.0  0.0  0.0    youtube  \n",
       "20230124_124323_166_35  0.0  0.0  0.0  0.0  0.0    youtube  \n",
       "20230124_124323_166_40  0.0  0.0  0.0  0.0  0.0    youtube  \n",
       "20230124_124323_166_45  0.0  0.0  0.0  0.0  0.0    youtube  \n",
       "\n",
       "[70588 rows x 121 columns]"
      ]
     },
     "execution_count": 4,
     "metadata": {},
     "output_type": "execute_result"
    }
   ],
   "source": [
    "df_train"
   ]
  },
  {
   "cell_type": "code",
   "execution_count": 5,
   "id": "ff4062fb",
   "metadata": {},
   "outputs": [],
   "source": [
    "df_train=df_train[df_train.label!=\"noise\"]"
   ]
  },
  {
   "cell_type": "code",
   "execution_count": 6,
   "id": "2d836f05",
   "metadata": {},
   "outputs": [],
   "source": [
    "df_test = df_test[df_test.label!=\"noise\"]"
   ]
  },
  {
   "cell_type": "markdown",
   "id": "2e19ef0c",
   "metadata": {},
   "source": [
    "# Scale"
   ]
  },
  {
   "cell_type": "code",
   "execution_count": 7,
   "id": "3255c169",
   "metadata": {},
   "outputs": [
    {
     "name": "stdout",
     "output_type": "stream",
     "text": [
      "20221124_151137_4_0       messenger\n",
      "20221124_151137_4_5       messenger\n",
      "20221124_151137_4_10      messenger\n",
      "20221124_151137_4_15      messenger\n",
      "20221124_151137_4_20      messenger\n",
      "                            ...    \n",
      "20230117_121925_263_25      youtube\n",
      "20230117_121925_263_30      youtube\n",
      "20230117_121925_263_35      youtube\n",
      "20230117_121925_263_40      youtube\n",
      "20230117_121925_263_45      youtube\n",
      "Name: label, Length: 29980, dtype: object\n"
     ]
    }
   ],
   "source": [
    "scaler = Scaler_Metrics()\n",
    "training_data = scaler.fit_transform(df_train)\n",
    "testing_data = scaler.transform(df_test)"
   ]
  },
  {
   "cell_type": "code",
   "execution_count": 8,
   "id": "1a0eda93",
   "metadata": {},
   "outputs": [
    {
     "data": {
      "text/html": [
       "<div>\n",
       "<style scoped>\n",
       "    .dataframe tbody tr th:only-of-type {\n",
       "        vertical-align: middle;\n",
       "    }\n",
       "\n",
       "    .dataframe tbody tr th {\n",
       "        vertical-align: top;\n",
       "    }\n",
       "\n",
       "    .dataframe thead th {\n",
       "        text-align: right;\n",
       "    }\n",
       "</style>\n",
       "<table border=\"1\" class=\"dataframe\">\n",
       "  <thead>\n",
       "    <tr style=\"text-align: right;\">\n",
       "      <th></th>\n",
       "      <th>0</th>\n",
       "      <th>1</th>\n",
       "      <th>2</th>\n",
       "      <th>3</th>\n",
       "      <th>4</th>\n",
       "      <th>5</th>\n",
       "      <th>6</th>\n",
       "      <th>7</th>\n",
       "      <th>8</th>\n",
       "      <th>9</th>\n",
       "      <th>...</th>\n",
       "      <th>111</th>\n",
       "      <th>112</th>\n",
       "      <th>113</th>\n",
       "      <th>114</th>\n",
       "      <th>115</th>\n",
       "      <th>116</th>\n",
       "      <th>117</th>\n",
       "      <th>118</th>\n",
       "      <th>119</th>\n",
       "      <th>label</th>\n",
       "    </tr>\n",
       "    <tr>\n",
       "      <th>id</th>\n",
       "      <th></th>\n",
       "      <th></th>\n",
       "      <th></th>\n",
       "      <th></th>\n",
       "      <th></th>\n",
       "      <th></th>\n",
       "      <th></th>\n",
       "      <th></th>\n",
       "      <th></th>\n",
       "      <th></th>\n",
       "      <th></th>\n",
       "      <th></th>\n",
       "      <th></th>\n",
       "      <th></th>\n",
       "      <th></th>\n",
       "      <th></th>\n",
       "      <th></th>\n",
       "      <th></th>\n",
       "      <th></th>\n",
       "      <th></th>\n",
       "      <th></th>\n",
       "    </tr>\n",
       "  </thead>\n",
       "  <tbody>\n",
       "    <tr>\n",
       "      <th>20221117_125310_4_0</th>\n",
       "      <td>-1.738537</td>\n",
       "      <td>-1.319589</td>\n",
       "      <td>-0.900688</td>\n",
       "      <td>-1.096900</td>\n",
       "      <td>-0.894206</td>\n",
       "      <td>-1.047165</td>\n",
       "      <td>-1.787754</td>\n",
       "      <td>-1.711869</td>\n",
       "      <td>-1.661193</td>\n",
       "      <td>-1.612499</td>\n",
       "      <td>...</td>\n",
       "      <td>-0.033654</td>\n",
       "      <td>-0.033735</td>\n",
       "      <td>-0.033648</td>\n",
       "      <td>-0.033676</td>\n",
       "      <td>-0.034741</td>\n",
       "      <td>-0.034092</td>\n",
       "      <td>-0.034146</td>\n",
       "      <td>-0.034055</td>\n",
       "      <td>-0.03402</td>\n",
       "      <td>messenger</td>\n",
       "    </tr>\n",
       "    <tr>\n",
       "      <th>20221117_125310_4_5</th>\n",
       "      <td>-1.040544</td>\n",
       "      <td>-1.780435</td>\n",
       "      <td>-1.710778</td>\n",
       "      <td>-1.659439</td>\n",
       "      <td>-1.613632</td>\n",
       "      <td>-1.517297</td>\n",
       "      <td>-1.448041</td>\n",
       "      <td>-1.373629</td>\n",
       "      <td>-1.319389</td>\n",
       "      <td>-1.265797</td>\n",
       "      <td>...</td>\n",
       "      <td>-0.033654</td>\n",
       "      <td>-0.033735</td>\n",
       "      <td>-0.033648</td>\n",
       "      <td>-0.033676</td>\n",
       "      <td>-0.034741</td>\n",
       "      <td>-0.034092</td>\n",
       "      <td>-0.034146</td>\n",
       "      <td>-0.034055</td>\n",
       "      <td>-0.03402</td>\n",
       "      <td>messenger</td>\n",
       "    </tr>\n",
       "    <tr>\n",
       "      <th>20221117_125310_4_10</th>\n",
       "      <td>-1.509698</td>\n",
       "      <td>-1.441880</td>\n",
       "      <td>-1.372560</td>\n",
       "      <td>-1.317847</td>\n",
       "      <td>-1.266399</td>\n",
       "      <td>-1.372228</td>\n",
       "      <td>-1.498598</td>\n",
       "      <td>-1.618255</td>\n",
       "      <td>-1.762929</td>\n",
       "      <td>-1.821000</td>\n",
       "      <td>...</td>\n",
       "      <td>-0.033654</td>\n",
       "      <td>-0.033735</td>\n",
       "      <td>-0.033648</td>\n",
       "      <td>-0.033676</td>\n",
       "      <td>-0.034741</td>\n",
       "      <td>-0.034092</td>\n",
       "      <td>-0.034146</td>\n",
       "      <td>-0.034055</td>\n",
       "      <td>-0.03402</td>\n",
       "      <td>messenger</td>\n",
       "    </tr>\n",
       "    <tr>\n",
       "      <th>20221117_125310_4_15</th>\n",
       "      <td>-1.364931</td>\n",
       "      <td>-1.492264</td>\n",
       "      <td>-1.617170</td>\n",
       "      <td>-1.761111</td>\n",
       "      <td>-1.822452</td>\n",
       "      <td>-1.747445</td>\n",
       "      <td>-1.706428</td>\n",
       "      <td>-1.659787</td>\n",
       "      <td>-1.637759</td>\n",
       "      <td>-1.618343</td>\n",
       "      <td>...</td>\n",
       "      <td>-0.033654</td>\n",
       "      <td>-0.033735</td>\n",
       "      <td>-0.033648</td>\n",
       "      <td>-0.033676</td>\n",
       "      <td>-0.034741</td>\n",
       "      <td>-0.034092</td>\n",
       "      <td>-0.034146</td>\n",
       "      <td>-0.034055</td>\n",
       "      <td>-0.03402</td>\n",
       "      <td>messenger</td>\n",
       "    </tr>\n",
       "    <tr>\n",
       "      <th>20221117_125310_4_20</th>\n",
       "      <td>-1.739368</td>\n",
       "      <td>-1.699386</td>\n",
       "      <td>-1.658700</td>\n",
       "      <td>-1.636019</td>\n",
       "      <td>-1.619486</td>\n",
       "      <td>-1.552160</td>\n",
       "      <td>-1.511803</td>\n",
       "      <td>-1.466006</td>\n",
       "      <td>-1.441936</td>\n",
       "      <td>-1.419714</td>\n",
       "      <td>...</td>\n",
       "      <td>-0.033654</td>\n",
       "      <td>-0.033735</td>\n",
       "      <td>-0.033648</td>\n",
       "      <td>-0.033676</td>\n",
       "      <td>-0.034741</td>\n",
       "      <td>-0.034092</td>\n",
       "      <td>-0.034146</td>\n",
       "      <td>-0.034055</td>\n",
       "      <td>-0.03402</td>\n",
       "      <td>messenger</td>\n",
       "    </tr>\n",
       "    <tr>\n",
       "      <th>...</th>\n",
       "      <td>...</td>\n",
       "      <td>...</td>\n",
       "      <td>...</td>\n",
       "      <td>...</td>\n",
       "      <td>...</td>\n",
       "      <td>...</td>\n",
       "      <td>...</td>\n",
       "      <td>...</td>\n",
       "      <td>...</td>\n",
       "      <td>...</td>\n",
       "      <td>...</td>\n",
       "      <td>...</td>\n",
       "      <td>...</td>\n",
       "      <td>...</td>\n",
       "      <td>...</td>\n",
       "      <td>...</td>\n",
       "      <td>...</td>\n",
       "      <td>...</td>\n",
       "      <td>...</td>\n",
       "      <td>...</td>\n",
       "      <td>...</td>\n",
       "    </tr>\n",
       "    <tr>\n",
       "      <th>20230124_124323_166_25</th>\n",
       "      <td>-1.550007</td>\n",
       "      <td>-1.584260</td>\n",
       "      <td>-1.616959</td>\n",
       "      <td>-1.667863</td>\n",
       "      <td>-1.727078</td>\n",
       "      <td>-1.731623</td>\n",
       "      <td>-0.237341</td>\n",
       "      <td>-0.259732</td>\n",
       "      <td>-0.286273</td>\n",
       "      <td>-0.311722</td>\n",
       "      <td>...</td>\n",
       "      <td>-0.033654</td>\n",
       "      <td>-0.033735</td>\n",
       "      <td>-0.033648</td>\n",
       "      <td>-0.033676</td>\n",
       "      <td>-0.034741</td>\n",
       "      <td>-0.034092</td>\n",
       "      <td>-0.034146</td>\n",
       "      <td>-0.034055</td>\n",
       "      <td>-0.03402</td>\n",
       "      <td>youtube</td>\n",
       "    </tr>\n",
       "    <tr>\n",
       "      <th>20230124_124323_166_30</th>\n",
       "      <td>-1.723578</td>\n",
       "      <td>-0.235305</td>\n",
       "      <td>-0.258735</td>\n",
       "      <td>-0.285372</td>\n",
       "      <td>-0.310865</td>\n",
       "      <td>-0.330681</td>\n",
       "      <td>-0.357394</td>\n",
       "      <td>-0.686090</td>\n",
       "      <td>-1.027184</td>\n",
       "      <td>-1.377753</td>\n",
       "      <td>...</td>\n",
       "      <td>-0.033654</td>\n",
       "      <td>-0.033735</td>\n",
       "      <td>-0.033648</td>\n",
       "      <td>-0.033676</td>\n",
       "      <td>-0.034741</td>\n",
       "      <td>-0.034092</td>\n",
       "      <td>-0.034146</td>\n",
       "      <td>-0.034055</td>\n",
       "      <td>-0.03402</td>\n",
       "      <td>youtube</td>\n",
       "    </tr>\n",
       "    <tr>\n",
       "      <th>20230124_124323_166_35</th>\n",
       "      <td>-0.325550</td>\n",
       "      <td>-0.354949</td>\n",
       "      <td>-0.685066</td>\n",
       "      <td>-1.025824</td>\n",
       "      <td>-1.378527</td>\n",
       "      <td>-1.113211</td>\n",
       "      <td>-1.728878</td>\n",
       "      <td>-1.239867</td>\n",
       "      <td>-0.766480</td>\n",
       "      <td>-0.912087</td>\n",
       "      <td>...</td>\n",
       "      <td>-0.033654</td>\n",
       "      <td>-0.033735</td>\n",
       "      <td>-0.033648</td>\n",
       "      <td>-0.033676</td>\n",
       "      <td>-0.034741</td>\n",
       "      <td>-0.034092</td>\n",
       "      <td>-0.034146</td>\n",
       "      <td>-0.034055</td>\n",
       "      <td>-0.03402</td>\n",
       "      <td>youtube</td>\n",
       "    </tr>\n",
       "    <tr>\n",
       "      <th>20230124_124323_166_40</th>\n",
       "      <td>-1.106452</td>\n",
       "      <td>-1.721759</td>\n",
       "      <td>-1.238807</td>\n",
       "      <td>-0.765281</td>\n",
       "      <td>-0.912148</td>\n",
       "      <td>-1.032309</td>\n",
       "      <td>-1.167640</td>\n",
       "      <td>-1.296508</td>\n",
       "      <td>-1.445651</td>\n",
       "      <td>-1.600989</td>\n",
       "      <td>...</td>\n",
       "      <td>-0.033654</td>\n",
       "      <td>-0.033735</td>\n",
       "      <td>-0.033648</td>\n",
       "      <td>-0.033676</td>\n",
       "      <td>-0.034741</td>\n",
       "      <td>-0.034092</td>\n",
       "      <td>-0.034146</td>\n",
       "      <td>-0.034055</td>\n",
       "      <td>-0.03402</td>\n",
       "      <td>youtube</td>\n",
       "    </tr>\n",
       "    <tr>\n",
       "      <th>20230124_124323_166_45</th>\n",
       "      <td>-1.025719</td>\n",
       "      <td>-1.162434</td>\n",
       "      <td>-1.295445</td>\n",
       "      <td>-1.444030</td>\n",
       "      <td>-1.602105</td>\n",
       "      <td>-1.472089</td>\n",
       "      <td>-1.453945</td>\n",
       "      <td>-1.430244</td>\n",
       "      <td>-1.427874</td>\n",
       "      <td>-1.471697</td>\n",
       "      <td>...</td>\n",
       "      <td>-0.033654</td>\n",
       "      <td>-0.033735</td>\n",
       "      <td>-0.033648</td>\n",
       "      <td>-0.033676</td>\n",
       "      <td>-0.034741</td>\n",
       "      <td>-0.034092</td>\n",
       "      <td>-0.034146</td>\n",
       "      <td>-0.034055</td>\n",
       "      <td>-0.03402</td>\n",
       "      <td>youtube</td>\n",
       "    </tr>\n",
       "  </tbody>\n",
       "</table>\n",
       "<p>70046 rows × 121 columns</p>\n",
       "</div>"
      ],
      "text/plain": [
       "                               0         1         2         3         4  \\\n",
       "id                                                                         \n",
       "20221117_125310_4_0    -1.738537 -1.319589 -0.900688 -1.096900 -0.894206   \n",
       "20221117_125310_4_5    -1.040544 -1.780435 -1.710778 -1.659439 -1.613632   \n",
       "20221117_125310_4_10   -1.509698 -1.441880 -1.372560 -1.317847 -1.266399   \n",
       "20221117_125310_4_15   -1.364931 -1.492264 -1.617170 -1.761111 -1.822452   \n",
       "20221117_125310_4_20   -1.739368 -1.699386 -1.658700 -1.636019 -1.619486   \n",
       "...                          ...       ...       ...       ...       ...   \n",
       "20230124_124323_166_25 -1.550007 -1.584260 -1.616959 -1.667863 -1.727078   \n",
       "20230124_124323_166_30 -1.723578 -0.235305 -0.258735 -0.285372 -0.310865   \n",
       "20230124_124323_166_35 -0.325550 -0.354949 -0.685066 -1.025824 -1.378527   \n",
       "20230124_124323_166_40 -1.106452 -1.721759 -1.238807 -0.765281 -0.912148   \n",
       "20230124_124323_166_45 -1.025719 -1.162434 -1.295445 -1.444030 -1.602105   \n",
       "\n",
       "                               5         6         7         8         9  ...  \\\n",
       "id                                                                        ...   \n",
       "20221117_125310_4_0    -1.047165 -1.787754 -1.711869 -1.661193 -1.612499  ...   \n",
       "20221117_125310_4_5    -1.517297 -1.448041 -1.373629 -1.319389 -1.265797  ...   \n",
       "20221117_125310_4_10   -1.372228 -1.498598 -1.618255 -1.762929 -1.821000  ...   \n",
       "20221117_125310_4_15   -1.747445 -1.706428 -1.659787 -1.637759 -1.618343  ...   \n",
       "20221117_125310_4_20   -1.552160 -1.511803 -1.466006 -1.441936 -1.419714  ...   \n",
       "...                          ...       ...       ...       ...       ...  ...   \n",
       "20230124_124323_166_25 -1.731623 -0.237341 -0.259732 -0.286273 -0.311722  ...   \n",
       "20230124_124323_166_30 -0.330681 -0.357394 -0.686090 -1.027184 -1.377753  ...   \n",
       "20230124_124323_166_35 -1.113211 -1.728878 -1.239867 -0.766480 -0.912087  ...   \n",
       "20230124_124323_166_40 -1.032309 -1.167640 -1.296508 -1.445651 -1.600989  ...   \n",
       "20230124_124323_166_45 -1.472089 -1.453945 -1.430244 -1.427874 -1.471697  ...   \n",
       "\n",
       "                             111       112       113       114       115  \\\n",
       "id                                                                         \n",
       "20221117_125310_4_0    -0.033654 -0.033735 -0.033648 -0.033676 -0.034741   \n",
       "20221117_125310_4_5    -0.033654 -0.033735 -0.033648 -0.033676 -0.034741   \n",
       "20221117_125310_4_10   -0.033654 -0.033735 -0.033648 -0.033676 -0.034741   \n",
       "20221117_125310_4_15   -0.033654 -0.033735 -0.033648 -0.033676 -0.034741   \n",
       "20221117_125310_4_20   -0.033654 -0.033735 -0.033648 -0.033676 -0.034741   \n",
       "...                          ...       ...       ...       ...       ...   \n",
       "20230124_124323_166_25 -0.033654 -0.033735 -0.033648 -0.033676 -0.034741   \n",
       "20230124_124323_166_30 -0.033654 -0.033735 -0.033648 -0.033676 -0.034741   \n",
       "20230124_124323_166_35 -0.033654 -0.033735 -0.033648 -0.033676 -0.034741   \n",
       "20230124_124323_166_40 -0.033654 -0.033735 -0.033648 -0.033676 -0.034741   \n",
       "20230124_124323_166_45 -0.033654 -0.033735 -0.033648 -0.033676 -0.034741   \n",
       "\n",
       "                             116       117       118      119      label  \n",
       "id                                                                        \n",
       "20221117_125310_4_0    -0.034092 -0.034146 -0.034055 -0.03402  messenger  \n",
       "20221117_125310_4_5    -0.034092 -0.034146 -0.034055 -0.03402  messenger  \n",
       "20221117_125310_4_10   -0.034092 -0.034146 -0.034055 -0.03402  messenger  \n",
       "20221117_125310_4_15   -0.034092 -0.034146 -0.034055 -0.03402  messenger  \n",
       "20221117_125310_4_20   -0.034092 -0.034146 -0.034055 -0.03402  messenger  \n",
       "...                          ...       ...       ...      ...        ...  \n",
       "20230124_124323_166_25 -0.034092 -0.034146 -0.034055 -0.03402    youtube  \n",
       "20230124_124323_166_30 -0.034092 -0.034146 -0.034055 -0.03402    youtube  \n",
       "20230124_124323_166_35 -0.034092 -0.034146 -0.034055 -0.03402    youtube  \n",
       "20230124_124323_166_40 -0.034092 -0.034146 -0.034055 -0.03402    youtube  \n",
       "20230124_124323_166_45 -0.034092 -0.034146 -0.034055 -0.03402    youtube  \n",
       "\n",
       "[70046 rows x 121 columns]"
      ]
     },
     "execution_count": 8,
     "metadata": {},
     "output_type": "execute_result"
    }
   ],
   "source": [
    "training_data"
   ]
  },
  {
   "cell_type": "code",
   "execution_count": 9,
   "id": "eb69e5ac",
   "metadata": {},
   "outputs": [
    {
     "data": {
      "text/plain": [
       "array([[-1.73853749, -0.03325841],\n",
       "       [-1.31958902, -0.03265063],\n",
       "       [-0.90068803, -0.03257714],\n",
       "       [-1.0969    , -0.03218289],\n",
       "       [-0.89420568,  0.47657722]])"
      ]
     },
     "execution_count": 9,
     "metadata": {},
     "output_type": "execute_result"
    }
   ],
   "source": [
    "data_col = training_data.columns[:-1]\n",
    "X_train, X_test = training_data[data_col].values, testing_data[data_col].values\n",
    "X_train, X_test = X_train.reshape((-1,DEFAULT_LENGTH_Value,2), order='F'), X_test.reshape((-1,DEFAULT_LENGTH_Value,2), order='F')\n",
    "y_train, y_test = training_data.label, testing_data.label\n",
    "X_train[0,:5]"
   ]
  },
  {
   "cell_type": "markdown",
   "id": "9aaf870f",
   "metadata": {},
   "source": [
    "# Binarize"
   ]
  },
  {
   "cell_type": "code",
   "execution_count": 10,
   "id": "98c067fa",
   "metadata": {},
   "outputs": [
    {
     "data": {
      "text/plain": [
       "array([[1, 0, 0, 0, 0],\n",
       "       [1, 0, 0, 0, 0],\n",
       "       [1, 0, 0, 0, 0],\n",
       "       ...,\n",
       "       [0, 0, 0, 0, 1],\n",
       "       [0, 0, 0, 0, 1],\n",
       "       [0, 0, 0, 0, 1]])"
      ]
     },
     "execution_count": 10,
     "metadata": {},
     "output_type": "execute_result"
    }
   ],
   "source": [
    "\n",
    "\n",
    "label_binarizer = sklearn.preprocessing.LabelBinarizer()\n",
    "y_train_encoded = label_binarizer.fit_transform(y_train)\n",
    "y_test_encoded = label_binarizer.transform(y_test)\n",
    "\n",
    "y_test_encoded"
   ]
  },
  {
   "cell_type": "code",
   "execution_count": 11,
   "id": "015b2e72",
   "metadata": {},
   "outputs": [
    {
     "data": {
      "text/plain": [
       "{'messenger': array([1, 0, 0, 0, 0]),\n",
       " 'skype': array([0, 1, 0, 0, 0]),\n",
       " 'spotify': array([0, 0, 1, 0, 0]),\n",
       " 'twitch': array([0, 0, 0, 1, 0]),\n",
       " 'youtube': array([0, 0, 0, 0, 1])}"
      ]
     },
     "execution_count": 11,
     "metadata": {},
     "output_type": "execute_result"
    }
   ],
   "source": [
    "uniq_label = training_data.label.unique()\n",
    "correspondance = dict(zip(uniq_label,label_binarizer.transform(uniq_label)))\n",
    "correspondance\n"
   ]
  },
  {
   "cell_type": "markdown",
   "id": "9a1a36de",
   "metadata": {},
   "source": [
    "# Class_weight"
   ]
  },
  {
   "cell_type": "code",
   "execution_count": 12,
   "id": "6c018bc0",
   "metadata": {
    "scrolled": true
   },
   "outputs": [
    {
     "data": {
      "text/plain": [
       "{0: 0.672936881544817,\n",
       " 1: 0.4938207197997814,\n",
       " 2: 3.1495503597122303,\n",
       " 3: 1.5738905740927986,\n",
       " 4: 1.8654061251664447}"
      ]
     },
     "execution_count": 12,
     "metadata": {},
     "output_type": "execute_result"
    }
   ],
   "source": [
    "\n",
    "\n",
    "class_weights = dict(zip(np.unique(np.argmax(y_train_encoded, axis = 1)), compute_class_weight(class_weight ='balanced',\n",
    "                                                  classes =np.unique(y_train),\n",
    "                                                               y =y_train)))\n",
    "class_weights"
   ]
  },
  {
   "cell_type": "markdown",
   "id": "b474313f",
   "metadata": {},
   "source": [
    "# Train"
   ]
  },
  {
   "cell_type": "code",
   "execution_count": 13,
   "id": "462dd29b",
   "metadata": {},
   "outputs": [],
   "source": [
    "\n",
    "#X_train, X_val, y_train_encoded, y_val_encoded = train_test_split(X_train, y_train_encoded, test_size=0.01, random_state=42)"
   ]
  },
  {
   "cell_type": "code",
   "execution_count": 14,
   "id": "d1390b57",
   "metadata": {},
   "outputs": [],
   "source": [
    "#X_train.shape"
   ]
  },
  {
   "cell_type": "code",
   "execution_count": null,
   "id": "66cca57e",
   "metadata": {},
   "outputs": [],
   "source": []
  },
  {
   "cell_type": "code",
   "execution_count": null,
   "id": "a37493ba",
   "metadata": {},
   "outputs": [],
   "source": []
  },
  {
   "cell_type": "code",
   "execution_count": 15,
   "id": "6adbcb01",
   "metadata": {},
   "outputs": [],
   "source": [
    "time_counter = time.time_ns()\n",
    "\n",
    "model = Sequential()\n",
    "\n",
    "model.add(Conv1D(32, 5, activation='relu'))\n",
    "model.add(MaxPool1D()) #Adding a convultion layer\n",
    "\n",
    "model.add(Conv1D(64, 5, activation='relu'))\n",
    "model.add(MaxPool1D()) #\n",
    "\n",
    "model.add(Conv1D(32, 5, activation='relu'))\n",
    "model.add(MaxPool1D())\n",
    "\n",
    "model.add(Flatten())\n",
    "model.add(Dense(128, activation='relu'))\n",
    "model.add(Dense(len(class_weights.keys()), activation='sigmoid'))\n",
    "\n",
    "\n"
   ]
  },
  {
   "cell_type": "code",
   "execution_count": 16,
   "id": "9bb52ecf",
   "metadata": {},
   "outputs": [
    {
     "name": "stdout",
     "output_type": "stream",
     "text": [
      "Model: \"sequential\"\n",
      "_________________________________________________________________\n",
      " Layer (type)                Output Shape              Param #   \n",
      "=================================================================\n",
      " conv1d (Conv1D)             (None, 56, 32)            352       \n",
      "                                                                 \n",
      " max_pooling1d (MaxPooling1D  (None, 28, 32)           0         \n",
      " )                                                               \n",
      "                                                                 \n",
      " conv1d_1 (Conv1D)           (None, 24, 64)            10304     \n",
      "                                                                 \n",
      " max_pooling1d_1 (MaxPooling  (None, 12, 64)           0         \n",
      " 1D)                                                             \n",
      "                                                                 \n",
      " conv1d_2 (Conv1D)           (None, 8, 32)             10272     \n",
      "                                                                 \n",
      " max_pooling1d_2 (MaxPooling  (None, 4, 32)            0         \n",
      " 1D)                                                             \n",
      "                                                                 \n",
      " flatten (Flatten)           (None, 128)               0         \n",
      "                                                                 \n",
      " dense (Dense)               (None, 128)               16512     \n",
      "                                                                 \n",
      " dense_1 (Dense)             (None, 5)                 645       \n",
      "                                                                 \n",
      "=================================================================\n",
      "Total params: 38,085\n",
      "Trainable params: 38,085\n",
      "Non-trainable params: 0\n",
      "_________________________________________________________________\n"
     ]
    }
   ],
   "source": [
    "#Conv 1 : output_shape= (None, length_values-5+1,32)    (None, 56,32)\n",
    "model.compile('adam', loss = tf.losses.BinaryCrossentropy(), metrics =['accuracy'])\n",
    "model.build((None, 60, 2))\n",
    "model.summary()"
   ]
  },
  {
   "cell_type": "code",
   "execution_count": 17,
   "id": "2b445e07",
   "metadata": {},
   "outputs": [
    {
     "name": "stdout",
     "output_type": "stream",
     "text": [
      "Epoch 1/40\n",
      "2189/2189 [==============================] - 14s 5ms/step - loss: 0.2169 - accuracy: 0.7423 - val_loss: 0.4692 - val_accuracy: 0.4473\n",
      "Epoch 2/40\n",
      "2189/2189 [==============================] - 10s 5ms/step - loss: 0.1823 - accuracy: 0.7743 - val_loss: 0.4264 - val_accuracy: 0.4624\n",
      "Epoch 3/40\n",
      "2189/2189 [==============================] - 10s 5ms/step - loss: 0.1706 - accuracy: 0.7849 - val_loss: 0.2670 - val_accuracy: 0.6721\n",
      "Epoch 4/40\n",
      "2189/2189 [==============================] - 10s 5ms/step - loss: 0.1630 - accuracy: 0.7937 - val_loss: 0.3839 - val_accuracy: 0.5178\n",
      "Epoch 5/40\n",
      "2189/2189 [==============================] - 11s 5ms/step - loss: 0.1564 - accuracy: 0.7991 - val_loss: 0.1978 - val_accuracy: 0.7798\n",
      "Epoch 6/40\n",
      "2189/2189 [==============================] - 11s 5ms/step - loss: 0.1504 - accuracy: 0.8043 - val_loss: 0.3107 - val_accuracy: 0.6600\n",
      "Epoch 7/40\n",
      "2189/2189 [==============================] - 10s 5ms/step - loss: 0.1444 - accuracy: 0.8089 - val_loss: 0.2331 - val_accuracy: 0.7330\n",
      "Epoch 8/40\n",
      "2189/2189 [==============================] - 11s 5ms/step - loss: 0.1388 - accuracy: 0.8138 - val_loss: 0.2745 - val_accuracy: 0.6667\n",
      "Training Duration : 95.7115414 s for a dataset length of 70046\n"
     ]
    }
   ],
   "source": [
    "\n",
    "#val_data = (X_val,y_val_encoded)\n",
    "val_data = (X_test,y_test_encoded)\n",
    "\n",
    "\n",
    "checkpoint_filepath = '/tmp/checkpoint_CNN/best_model'\n",
    "logs_dir = 'tmp/logs'\n",
    "\n",
    "tensorboard_callback = tf.keras.callbacks.TensorBoard(log_dir=logs_dir)\n",
    "model_checkpoint_callback = tf.keras.callbacks.ModelCheckpoint(\n",
    "    filepath=checkpoint_filepath, save_weights_only=True, monitor='val_accuracy',  mode='max',save_best_only=True)\n",
    "\n",
    "early_stop = tf.keras.callbacks.EarlyStopping(monitor='val_loss', patience=3)\n",
    "hist = model.fit(X_train,y_train_encoded, epochs =40, \n",
    "                 validation_data = val_data,\n",
    "                 callbacks =[tensorboard_callback, early_stop,model_checkpoint_callback],\n",
    "                class_weight=class_weights\n",
    "                )\n",
    "\n",
    "model.load_weights(checkpoint_filepath)\n",
    "\n",
    "\n",
    "training_duration = (time.time_ns() - time_counter)/(10**9)\n",
    "print(f\"Training Duration : {training_duration} s for a dataset length of {len(X_train)}\")"
   ]
  },
  {
   "cell_type": "code",
   "execution_count": 18,
   "id": "1f3d54bd",
   "metadata": {},
   "outputs": [
    {
     "data": {
      "image/png": "[encoded data removed]",
      "text/plain": [
       "<Figure size 640x480 with 1 Axes>"
      ]
     },
     "metadata": {},
     "output_type": "display_data"
    }
   ],
   "source": [
    "fig =plt.figure()\n",
    "plt.plot(hist.history['loss'], color ='teal', label ='train_loss')\n",
    "plt.plot(hist.history['val_loss'], color ='red', label ='val_loss')\n",
    "fig.suptitle('Loss', fontsize =20)\n",
    "plt.legend(loc =\"upper left\")\n",
    "plt.show()"
   ]
  },
  {
   "cell_type": "code",
   "execution_count": null,
   "id": "2f578de5",
   "metadata": {},
   "outputs": [],
   "source": []
  },
  {
   "cell_type": "markdown",
   "id": "3dbbba8d",
   "metadata": {},
   "source": [
    "# Evaluate on the test dataset"
   ]
  },
  {
   "cell_type": "code",
   "execution_count": 19,
   "id": "a7123a30",
   "metadata": {},
   "outputs": [
    {
     "name": "stdout",
     "output_type": "stream",
     "text": [
      "937/937 [==============================] - 1s 1ms/step\n",
      "Testing Duration : 1.8210991 s for a dataset length of 29980\n",
      "Testing Duration per data : 0.06074379919946631 ms\n"
     ]
    }
   ],
   "source": [
    "time_counter = time.time_ns()\n",
    "\n",
    "preds_labels =  model.predict(X_test)\n",
    "preds_labels = label_binarizer.inverse_transform(preds_labels)\n",
    "\n",
    "\n",
    "testing_duration = (time.time_ns() - time_counter)/(10**9)\n",
    "print(f\"Testing Duration : {testing_duration} s for a dataset length of {len(preds_labels)}\")\n",
    "testing_duration_per_item = testing_duration*(10**3)/len(preds_labels)\n",
    "print(f\"Testing Duration per data : {testing_duration_per_item} ms\")"
   ]
  },
  {
   "cell_type": "code",
   "execution_count": 20,
   "id": "4d1d540b",
   "metadata": {},
   "outputs": [
    {
     "name": "stdout",
     "output_type": "stream",
     "text": [
      "normalized confusion matrix\n"
     ]
    },
    {
     "data": {
      "image/png": "[encoded data removed]",
      "text/plain": [
       "<Figure size 600x600 with 2 Axes>"
      ]
     },
     "metadata": {},
     "output_type": "display_data"
    }
   ],
   "source": [
    "plot_confusion_matrix(y_test,preds_labels)"
   ]
  },
  {
   "cell_type": "code",
   "execution_count": 22,
   "id": "16614033",
   "metadata": {
    "scrolled": true
   },
   "outputs": [
    {
     "data": {
      "text/plain": [
       "{'Accuracy': 0.8128117616321374,\n",
       " 'Precision': 0.8948558321813459,\n",
       " 'Recall': 0.7797865243495664,\n",
       " 'F1_Score': 0.8049642366504374,\n",
       " 'support': None}"
      ]
     },
     "execution_count": 22,
     "metadata": {},
     "output_type": "execute_result"
    }
   ],
   "source": [
    "get_scores(y_test,preds_labels)"
   ]
  },
  {
   "cell_type": "code",
   "execution_count": null,
   "id": "4708a9dc",
   "metadata": {},
   "outputs": [],
   "source": []
  },
  {
   "cell_type": "code",
   "execution_count": null,
   "id": "a9b0c4e8",
   "metadata": {},
   "outputs": [],
   "source": []
  },
  {
   "cell_type": "code",
   "execution_count": null,
   "id": "c96c59e5",
   "metadata": {},
   "outputs": [],
   "source": []
  },
  {
   "cell_type": "code",
   "execution_count": null,
   "id": "35aa4acc",
   "metadata": {},
   "outputs": [],
   "source": []
  },
  {
   "cell_type": "code",
   "execution_count": null,
   "id": "7daef63e",
   "metadata": {},
   "outputs": [],
   "source": []
  },
  {
   "cell_type": "code",
   "execution_count": null,
   "id": "7c9d07ca",
   "metadata": {},
   "outputs": [],
   "source": []
  },
  {
   "cell_type": "markdown",
   "id": "f38853b7",
   "metadata": {},
   "source": [
    "# Evaluate on the train dataset"
   ]
  },
  {
   "cell_type": "code",
   "execution_count": 23,
   "id": "1daae08b",
   "metadata": {
    "scrolled": true
   },
   "outputs": [
    {
     "name": "stdout",
     "output_type": "stream",
     "text": [
      "2189/2189 [==============================] - 3s 1ms/step\n"
     ]
    }
   ],
   "source": [
    "preds_labels =  model.predict(X_train)\n",
    "preds_labels = label_binarizer.inverse_transform(preds_labels)\n",
    "true_labels = label_binarizer.inverse_transform(y_train_encoded)"
   ]
  },
  {
   "cell_type": "code",
   "execution_count": 24,
   "id": "fcaf2e9a",
   "metadata": {
    "scrolled": true
   },
   "outputs": [
    {
     "name": "stdout",
     "output_type": "stream",
     "text": [
      "normalized confusion matrix\n"
     ]
    },
    {
     "data": {
      "image/png": "[encoded data removed]",
      "text/plain": [
       "<Figure size 600x600 with 2 Axes>"
      ]
     },
     "metadata": {},
     "output_type": "display_data"
    }
   ],
   "source": [
    "plot_confusion_matrix(y_train,preds_labels)"
   ]
  }
 ],
 "metadata": {
  "kernelspec": {
   "display_name": "Python 3 (ipykernel)",
   "language": "python",
   "name": "python3"
  },
  "language_info": {
   "codemirror_mode": {
    "name": "ipython",
    "version": 3
   },
   "file_extension": ".py",
   "mimetype": "text/x-python",
   "name": "python",
   "nbconvert_exporter": "python",
   "pygments_lexer": "ipython3",
   "version": "3.9.15"
  }
 },
 "nbformat": 4,
 "nbformat_minor": 5
}
