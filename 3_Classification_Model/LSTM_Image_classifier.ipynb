{
 "cells": [
  {
   "cell_type": "code",
   "execution_count": 1,
   "metadata": {
    "id": "id9oJkZOHQ4G"
   },
   "outputs": [],
   "source": [
    "import numpy as np\n",
    "import tensorflow as tf\n",
    "from tensorflow.keras.models import Sequential\n",
    "from tensorflow.keras.layers import LSTM, Dense\n",
    "from tensorflow.keras import datasets\n",
    "import matplotlib.pyplot as plt\n",
    "\n",
    "import os\n",
    "import pandas as pd\n",
    "import warnings\n",
    "import matplotlib.pyplot as plt\n",
    "import sklearn\n",
    "import numpy as np\n",
    "import seaborn as sns\n",
    "\n",
    "from tqdm import tqdm\n",
    "from random import randint\n",
    "from sklearn.model_selection import train_test_split\n",
    "from sklearn.utils.class_weight import compute_class_weight\n",
    "from sklearn.utils import class_weight\n",
    "import sys\n",
    "import itertools\n",
    "\n",
    "\n",
    "import time\n",
    "\n",
    "\n",
    "sys.path.append(\"../1_Format_donnees/\")\n",
    "sys.path.append(\"../\")\n",
    "from aggregation import load_and_preprocess_agg_window, Scaler_Metrics\n",
    "from evaluate import plot_confusion_matrix, get_scores"
   ]
  },
  {
   "cell_type": "code",
   "execution_count": 2,
   "metadata": {
    "id": "h3JJqexPXVum"
   },
   "outputs": [],
   "source": [
    "DEFAULT_LENGTH_Value = 60\n",
    "STEP = 15"
   ]
  },
  {
   "cell_type": "code",
   "execution_count": 3,
   "metadata": {
    "id": "5R3L_6p2XVxL"
   },
   "outputs": [
    {
     "name": "stdout",
     "output_type": "stream",
     "text": [
      "Load datasets...\n",
      "Extracting ../Mesures/train\\messenger20221117_125310.csv.... 1/39\n"
     ]
    },
    {
     "name": "stderr",
     "output_type": "stream",
     "text": [
      "100%|██████████████████████████████████████████████████████████████████████████████████| 15/15 [00:00<00:00, 96.62it/s]\n"
     ]
    },
    {
     "name": "stdout",
     "output_type": "stream",
     "text": [
      "Extracting ../Mesures/train\\messenger20221124_143112.csv.... 2/39\n"
     ]
    },
    {
     "name": "stderr",
     "output_type": "stream",
     "text": [
      "100%|██████████████████████████████████████████████████████████████████████████████████| 11/11 [00:00<00:00, 41.13it/s]\n"
     ]
    },
    {
     "name": "stdout",
     "output_type": "stream",
     "text": [
      "Extracting ../Mesures/train\\messenger20221125_130559.csv.... 3/39\n"
     ]
    },
    {
     "name": "stderr",
     "output_type": "stream",
     "text": [
      "100%|█████████████████████████████████████████████████████████████████████████████████| 38/38 [00:00<00:00, 104.37it/s]\n"
     ]
    },
    {
     "name": "stdout",
     "output_type": "stream",
     "text": [
      "Extracting ../Mesures/train\\messenger20221129_131204.csv.... 4/39\n"
     ]
    },
    {
     "name": "stderr",
     "output_type": "stream",
     "text": [
      "100%|██████████████████████████████████████████████████████████████████████████████████| 14/14 [00:01<00:00, 10.72it/s]\n"
     ]
    },
    {
     "name": "stdout",
     "output_type": "stream",
     "text": [
      "Extracting ../Mesures/train\\messenger20221129_151124.csv.... 5/39\n"
     ]
    },
    {
     "name": "stderr",
     "output_type": "stream",
     "text": [
      "100%|████████████████████████████████████████████████████████████████████████████████████| 5/5 [00:00<00:00,  7.03it/s]\n"
     ]
    },
    {
     "name": "stdout",
     "output_type": "stream",
     "text": [
      "Extracting ../Mesures/train\\messenger20230207_133921.csv.... 6/39\n"
     ]
    },
    {
     "name": "stderr",
     "output_type": "stream",
     "text": [
      "100%|████████████████████████████████████████████████████████████████████████████████████| 2/2 [00:01<00:00,  1.17it/s]\n"
     ]
    },
    {
     "name": "stdout",
     "output_type": "stream",
     "text": [
      "Extracting ../Mesures/train\\messenger20230209_083453.csv.... 7/39\n"
     ]
    },
    {
     "name": "stderr",
     "output_type": "stream",
     "text": [
      "100%|████████████████████████████████████████████████████████████████████████████████████| 5/5 [00:01<00:00,  3.31it/s]\n"
     ]
    },
    {
     "name": "stdout",
     "output_type": "stream",
     "text": [
      "Extracting ../Mesures/train\\pure_noise20230106_132210.csv.... 8/39\n"
     ]
    },
    {
     "name": "stderr",
     "output_type": "stream",
     "text": [
      "100%|███████████████████████████████████████████████████████████████████████████████| 805/805 [00:01<00:00, 455.74it/s]\n"
     ]
    },
    {
     "name": "stdout",
     "output_type": "stream",
     "text": [
      "Extracting ../Mesures/train\\skype20221129_164105.csv.... 9/39\n"
     ]
    },
    {
     "name": "stderr",
     "output_type": "stream",
     "text": [
      "100%|████████████████████████████████████████████████████████████████████████████████████| 5/5 [00:00<00:00, 13.13it/s]\n"
     ]
    },
    {
     "name": "stdout",
     "output_type": "stream",
     "text": [
      "Extracting ../Mesures/train\\skype20221206_125510.csv.... 10/39\n"
     ]
    },
    {
     "name": "stderr",
     "output_type": "stream",
     "text": [
      "100%|██████████████████████████████████████████████████████████████████████████████████| 19/19 [00:00<00:00, 37.60it/s]\n"
     ]
    },
    {
     "name": "stdout",
     "output_type": "stream",
     "text": [
      "Extracting ../Mesures/train\\skype20221208_104403.csv.... 11/39\n"
     ]
    },
    {
     "name": "stderr",
     "output_type": "stream",
     "text": [
      "100%|████████████████████████████████████████████████████████████████████████████████████| 7/7 [00:01<00:00,  4.06it/s]\n"
     ]
    },
    {
     "name": "stdout",
     "output_type": "stream",
     "text": [
      "Extracting ../Mesures/train\\skype20221208_124925.csv.... 12/39\n"
     ]
    },
    {
     "name": "stderr",
     "output_type": "stream",
     "text": [
      "100%|████████████████████████████████████████████████████████████████████████████████████| 6/6 [00:02<00:00,  2.17it/s]\n"
     ]
    },
    {
     "name": "stdout",
     "output_type": "stream",
     "text": [
      "Extracting ../Mesures/train\\skype20221215_151512.csv.... 13/39\n"
     ]
    },
    {
     "name": "stderr",
     "output_type": "stream",
     "text": [
      "100%|██████████████████████████████████████████████████████████████████████████████████| 23/23 [00:00<00:00, 42.39it/s]\n"
     ]
    },
    {
     "name": "stdout",
     "output_type": "stream",
     "text": [
      "Extracting ../Mesures/train\\skype20221215_155618.csv.... 14/39\n"
     ]
    },
    {
     "name": "stderr",
     "output_type": "stream",
     "text": [
      "100%|██████████████████████████████████████████████████████████████████████████████████| 19/19 [00:00<00:00, 25.99it/s]\n"
     ]
    },
    {
     "name": "stdout",
     "output_type": "stream",
     "text": [
      "Extracting ../Mesures/train\\skype20221215_164208.csv.... 15/39\n"
     ]
    },
    {
     "name": "stderr",
     "output_type": "stream",
     "text": [
      "100%|████████████████████████████████████████████████████████████████████████████████████| 5/5 [00:00<00:00,  6.43it/s]\n"
     ]
    },
    {
     "name": "stdout",
     "output_type": "stream",
     "text": [
      "Extracting ../Mesures/train\\skype20221215_174819.csv.... 16/39\n"
     ]
    },
    {
     "name": "stderr",
     "output_type": "stream",
     "text": [
      "100%|████████████████████████████████████████████████████████████████████████████████████| 6/6 [00:00<00:00,  9.28it/s]\n"
     ]
    },
    {
     "name": "stdout",
     "output_type": "stream",
     "text": [
      "Extracting ../Mesures/train\\spotify20230201_092702.csv.... 17/39\n"
     ]
    },
    {
     "name": "stderr",
     "output_type": "stream",
     "text": [
      "100%|█████████████████████████████████████████████████████████████████████████████| 1750/1750 [00:14<00:00, 124.00it/s]\n"
     ]
    },
    {
     "name": "stdout",
     "output_type": "stream",
     "text": [
      "Extracting ../Mesures/train\\spotify20230203_165507.csv.... 18/39\n"
     ]
    },
    {
     "name": "stderr",
     "output_type": "stream",
     "text": [
      "100%|██████████████████████████████████████████████████████████████████████████████| 522/522 [00:00<00:00, 1301.99it/s]\n"
     ]
    },
    {
     "name": "stdout",
     "output_type": "stream",
     "text": [
      "Extracting ../Mesures/train\\spotify20230216_141318.csv.... 19/39\n"
     ]
    },
    {
     "name": "stderr",
     "output_type": "stream",
     "text": [
      "100%|██████████████████████████████████████████████████████████████████████████████| 364/364 [00:00<00:00, 1405.99it/s]\n"
     ]
    },
    {
     "name": "stdout",
     "output_type": "stream",
     "text": [
      "Extracting ../Mesures/train\\twitch20221117_113554.csv.... 20/39\n"
     ]
    },
    {
     "name": "stderr",
     "output_type": "stream",
     "text": [
      "100%|█████████████████████████████████████████████████████████████████████████████████| 24/24 [00:00<00:00, 107.03it/s]\n"
     ]
    },
    {
     "name": "stdout",
     "output_type": "stream",
     "text": [
      "Extracting ../Mesures/train\\twitch20221118_075454.csv.... 21/39\n"
     ]
    },
    {
     "name": "stderr",
     "output_type": "stream",
     "text": [
      "100%|██████████████████████████████████████████████████████████████████████████████████| 16/16 [00:00<00:00, 42.46it/s]\n"
     ]
    },
    {
     "name": "stdout",
     "output_type": "stream",
     "text": [
      "Extracting ../Mesures/train\\twitch20221125_133859.csv.... 22/39\n"
     ]
    },
    {
     "name": "stderr",
     "output_type": "stream",
     "text": [
      "100%|████████████████████████████████████████████████████████████████████████████████| 108/108 [00:02<00:00, 47.96it/s]\n"
     ]
    },
    {
     "name": "stdout",
     "output_type": "stream",
     "text": [
      "Extracting ../Mesures/train\\twitch20230110_110215.csv.... 23/39\n"
     ]
    },
    {
     "name": "stderr",
     "output_type": "stream",
     "text": [
      "100%|██████████████████████████████████████████████████████████████████████████████████| 22/22 [00:00<00:00, 95.57it/s]\n"
     ]
    },
    {
     "name": "stdout",
     "output_type": "stream",
     "text": [
      "Extracting ../Mesures/train\\twitch20230110_120513.csv.... 24/39\n"
     ]
    },
    {
     "name": "stderr",
     "output_type": "stream",
     "text": [
      "100%|█████████████████████████████████████████████████████████████████████████████████| 59/59 [00:00<00:00, 303.70it/s]\n"
     ]
    },
    {
     "name": "stdout",
     "output_type": "stream",
     "text": [
      "Extracting ../Mesures/train\\twitch20230110_130648.csv.... 25/39\n"
     ]
    },
    {
     "name": "stderr",
     "output_type": "stream",
     "text": [
      "100%|███████████████████████████████████████████████████████████████████████████████| 426/426 [00:00<00:00, 509.39it/s]\n"
     ]
    },
    {
     "name": "stdout",
     "output_type": "stream",
     "text": [
      "Extracting ../Mesures/train\\youtube20221108_165214.csv.... 26/39\n"
     ]
    },
    {
     "name": "stderr",
     "output_type": "stream",
     "text": [
      "100%|█████████████████████████████████████████████████████████████████████████████████| 11/11 [00:00<00:00, 551.89it/s]\n"
     ]
    },
    {
     "name": "stdout",
     "output_type": "stream",
     "text": [
      "Extracting ../Mesures/train\\youtube20221108_182416.csv.... 27/39\n"
     ]
    },
    {
     "name": "stderr",
     "output_type": "stream",
     "text": [
      "100%|███████████████████████████████████████████████████████████████████████████████████| 4/4 [00:00<00:00, 308.57it/s]\n"
     ]
    },
    {
     "name": "stdout",
     "output_type": "stream",
     "text": [
      "Extracting ../Mesures/train\\youtube20221124_125524.csv.... 28/39\n"
     ]
    },
    {
     "name": "stderr",
     "output_type": "stream",
     "text": [
      "100%|██████████████████████████████████████████████████████████████████████████████| 186/186 [00:00<00:00, 1205.72it/s]\n"
     ]
    },
    {
     "name": "stdout",
     "output_type": "stream",
     "text": [
      "Extracting ../Mesures/train\\youtube20221124_154037.csv.... 29/39\n"
     ]
    },
    {
     "name": "stderr",
     "output_type": "stream",
     "text": [
      "100%|████████████████████████████████████████████████████████████████████████████████| 92/92 [00:00<00:00, 1106.75it/s]\n"
     ]
    },
    {
     "name": "stdout",
     "output_type": "stream",
     "text": [
      "Extracting ../Mesures/train\\youtube20221130_103723.csv.... 30/39\n"
     ]
    },
    {
     "name": "stderr",
     "output_type": "stream",
     "text": [
      "100%|████████████████████████████████████████████████████████████████████████████████| 91/91 [00:00<00:00, 1048.41it/s]\n"
     ]
    },
    {
     "name": "stdout",
     "output_type": "stream",
     "text": [
      "Extracting ../Mesures/train\\youtube20230110_145404.csv.... 31/39\n"
     ]
    },
    {
     "name": "stderr",
     "output_type": "stream",
     "text": [
      "100%|████████████████████████████████████████████████████████████████████████████████| 94/94 [00:00<00:00, 1472.13it/s]\n"
     ]
    },
    {
     "name": "stdout",
     "output_type": "stream",
     "text": [
      "Extracting ../Mesures/train\\youtube20230110_161955.csv.... 32/39\n"
     ]
    },
    {
     "name": "stderr",
     "output_type": "stream",
     "text": [
      "100%|████████████████████████████████████████████████████████████████████████████████| 90/90 [00:00<00:00, 1013.55it/s]\n"
     ]
    },
    {
     "name": "stdout",
     "output_type": "stream",
     "text": [
      "Extracting ../Mesures/train\\youtube20230112_125508.csv.... 33/39\n"
     ]
    },
    {
     "name": "stderr",
     "output_type": "stream",
     "text": [
      "100%|███████████████████████████████████████████████████████████████████████████████| 108/108 [00:00<00:00, 406.90it/s]\n"
     ]
    },
    {
     "name": "stdout",
     "output_type": "stream",
     "text": [
      "Extracting ../Mesures/train\\youtube20230112_151029.csv.... 34/39\n"
     ]
    },
    {
     "name": "stderr",
     "output_type": "stream",
     "text": [
      "100%|█████████████████████████████████████████████████████████████████████████████████| 29/29 [00:00<00:00, 839.39it/s]\n"
     ]
    },
    {
     "name": "stdout",
     "output_type": "stream",
     "text": [
      "Extracting ../Mesures/train\\youtube20230112_154749.csv.... 35/39\n"
     ]
    },
    {
     "name": "stderr",
     "output_type": "stream",
     "text": [
      "100%|█████████████████████████████████████████████████████████████████████████████████| 32/32 [00:00<00:00, 634.60it/s]\n"
     ]
    },
    {
     "name": "stdout",
     "output_type": "stream",
     "text": [
      "Extracting ../Mesures/train\\youtube20230112_163634.csv.... 36/39\n"
     ]
    },
    {
     "name": "stderr",
     "output_type": "stream",
     "text": [
      "100%|█████████████████████████████████████████████████████████████████████████████████| 65/65 [00:00<00:00, 710.77it/s]\n"
     ]
    },
    {
     "name": "stdout",
     "output_type": "stream",
     "text": [
      "Extracting ../Mesures/train\\youtube20230117_095221.csv.... 37/39\n"
     ]
    },
    {
     "name": "stderr",
     "output_type": "stream",
     "text": [
      "100%|███████████████████████████████████████████████████████████████████████████████| 140/140 [00:00<00:00, 318.97it/s]\n"
     ]
    },
    {
     "name": "stdout",
     "output_type": "stream",
     "text": [
      "Extracting ../Mesures/train\\youtube20230118_134041.csv.... 38/39\n"
     ]
    },
    {
     "name": "stderr",
     "output_type": "stream",
     "text": [
      "100%|███████████████████████████████████████████████████████████████████████████████| 212/212 [00:00<00:00, 226.88it/s]\n"
     ]
    },
    {
     "name": "stdout",
     "output_type": "stream",
     "text": [
      "Extracting ../Mesures/train\\youtube20230124_124323.csv.... 39/39\n"
     ]
    },
    {
     "name": "stderr",
     "output_type": "stream",
     "text": [
      "100%|███████████████████████████████████████████████████████████████████████████████| 163/163 [00:00<00:00, 259.17it/s]\n"
     ]
    },
    {
     "name": "stdout",
     "output_type": "stream",
     "text": [
      "Reformat...\n"
     ]
    },
    {
     "name": "stderr",
     "output_type": "stream",
     "text": [
      "100%|█████████████████████████████████████████████████████████████████████████████| 5593/5593 [00:25<00:00, 217.31it/s]\n"
     ]
    },
    {
     "name": "stdout",
     "output_type": "stream",
     "text": [
      "Load datasets...\n",
      "Extracting ../Mesures/test\\messenger20221124_151137.csv.... 1/7\n"
     ]
    },
    {
     "name": "stderr",
     "output_type": "stream",
     "text": [
      "100%|████████████████████████████████████████████████████████████████████████████████████| 5/5 [00:00<00:00, 18.68it/s]\n"
     ]
    },
    {
     "name": "stdout",
     "output_type": "stream",
     "text": [
      "Extracting ../Mesures/test\\messenger20230208_132747.csv.... 2/7\n"
     ]
    },
    {
     "name": "stderr",
     "output_type": "stream",
     "text": [
      "100%|██████████████████████████████████████████████████████████████████████████████████| 27/27 [00:05<00:00,  5.39it/s]\n"
     ]
    },
    {
     "name": "stdout",
     "output_type": "stream",
     "text": [
      "Extracting ../Mesures/test\\skype20221206_150902.csv.... 3/7\n"
     ]
    },
    {
     "name": "stderr",
     "output_type": "stream",
     "text": [
      "100%|████████████████████████████████████████████████████████████████████████████████████| 3/3 [00:01<00:00,  2.99it/s]\n"
     ]
    },
    {
     "name": "stdout",
     "output_type": "stream",
     "text": [
      "Extracting ../Mesures/test\\spotify20230127_134348.csv.... 4/7\n"
     ]
    },
    {
     "name": "stderr",
     "output_type": "stream",
     "text": [
      "100%|███████████████████████████████████████████████████████████████████████████████| 240/240 [00:00<00:00, 339.95it/s]\n"
     ]
    },
    {
     "name": "stdout",
     "output_type": "stream",
     "text": [
      "Extracting ../Mesures/test\\twitch20221124_163054.csv.... 5/7\n"
     ]
    },
    {
     "name": "stderr",
     "output_type": "stream",
     "text": [
      "100%|██████████████████████████████████████████████████████████████████████████████████| 12/12 [00:00<00:00, 20.39it/s]\n"
     ]
    },
    {
     "name": "stdout",
     "output_type": "stream",
     "text": [
      "Extracting ../Mesures/test\\youtube20221118_104205.csv.... 6/7\n"
     ]
    },
    {
     "name": "stderr",
     "output_type": "stream",
     "text": [
      "100%|███████████████████████████████████████████████████████████████████████████████| 218/218 [00:00<00:00, 650.77it/s]\n"
     ]
    },
    {
     "name": "stdout",
     "output_type": "stream",
     "text": [
      "Extracting ../Mesures/test\\youtube20230117_121925.csv.... 7/7\n"
     ]
    },
    {
     "name": "stderr",
     "output_type": "stream",
     "text": [
      "100%|███████████████████████████████████████████████████████████████████████████████| 260/260 [00:00<00:00, 551.00it/s]\n"
     ]
    },
    {
     "name": "stdout",
     "output_type": "stream",
     "text": [
      "Reformat...\n"
     ]
    },
    {
     "name": "stderr",
     "output_type": "stream",
     "text": [
      "100%|████████████████████████████████████████████████████████████████████████████████| 765/765 [00:10<00:00, 72.36it/s]\n"
     ]
    },
    {
     "data": {
      "text/html": [
       "<div>\n",
       "<style scoped>\n",
       "    .dataframe tbody tr th:only-of-type {\n",
       "        vertical-align: middle;\n",
       "    }\n",
       "\n",
       "    .dataframe tbody tr th {\n",
       "        vertical-align: top;\n",
       "    }\n",
       "\n",
       "    .dataframe thead th {\n",
       "        text-align: right;\n",
       "    }\n",
       "</style>\n",
       "<table border=\"1\" class=\"dataframe\">\n",
       "  <thead>\n",
       "    <tr style=\"text-align: right;\">\n",
       "      <th></th>\n",
       "      <th>0</th>\n",
       "      <th>1</th>\n",
       "      <th>2</th>\n",
       "      <th>3</th>\n",
       "      <th>4</th>\n",
       "      <th>5</th>\n",
       "      <th>6</th>\n",
       "      <th>7</th>\n",
       "      <th>8</th>\n",
       "      <th>9</th>\n",
       "      <th>...</th>\n",
       "      <th>111</th>\n",
       "      <th>112</th>\n",
       "      <th>113</th>\n",
       "      <th>114</th>\n",
       "      <th>115</th>\n",
       "      <th>116</th>\n",
       "      <th>117</th>\n",
       "      <th>118</th>\n",
       "      <th>119</th>\n",
       "      <th>label</th>\n",
       "    </tr>\n",
       "  </thead>\n",
       "  <tbody>\n",
       "    <tr>\n",
       "      <th>20221124_151137_4_0</th>\n",
       "      <td>308.521739</td>\n",
       "      <td>687.88587</td>\n",
       "      <td>1067.25</td>\n",
       "      <td>1013.396825</td>\n",
       "      <td>1496.222222</td>\n",
       "      <td>713.52381</td>\n",
       "      <td>1561.5</td>\n",
       "      <td>899.897436</td>\n",
       "      <td>1168.0</td>\n",
       "      <td>972.756757</td>\n",
       "      <td>...</td>\n",
       "      <td>0.0</td>\n",
       "      <td>0.0</td>\n",
       "      <td>0.0</td>\n",
       "      <td>0.0</td>\n",
       "      <td>0.0</td>\n",
       "      <td>0.0</td>\n",
       "      <td>0.0</td>\n",
       "      <td>0.0</td>\n",
       "      <td>0.0</td>\n",
       "      <td>messenger</td>\n",
       "    </tr>\n",
       "    <tr>\n",
       "      <th>20221124_151137_4_15</th>\n",
       "      <td>1603.24618</td>\n",
       "      <td>1846.315789</td>\n",
       "      <td>696.0</td>\n",
       "      <td>638.2</td>\n",
       "      <td>580.4</td>\n",
       "      <td>439.466667</td>\n",
       "      <td>556.0</td>\n",
       "      <td>1007.304348</td>\n",
       "      <td>965.653333</td>\n",
       "      <td>1316.5</td>\n",
       "      <td>...</td>\n",
       "      <td>0.0</td>\n",
       "      <td>0.0</td>\n",
       "      <td>0.0</td>\n",
       "      <td>0.0</td>\n",
       "      <td>0.0</td>\n",
       "      <td>0.0</td>\n",
       "      <td>0.0</td>\n",
       "      <td>0.0</td>\n",
       "      <td>0.0</td>\n",
       "      <td>messenger</td>\n",
       "    </tr>\n",
       "    <tr>\n",
       "      <th>20221124_151137_4_30</th>\n",
       "      <td>1013.382456</td>\n",
       "      <td>935.954386</td>\n",
       "      <td>858.526316</td>\n",
       "      <td>942.27027</td>\n",
       "      <td>877.019608</td>\n",
       "      <td>1881.702128</td>\n",
       "      <td>1524.444444</td>\n",
       "      <td>1877.043478</td>\n",
       "      <td>1599.351351</td>\n",
       "      <td>1673.473684</td>\n",
       "      <td>...</td>\n",
       "      <td>0.0</td>\n",
       "      <td>0.0</td>\n",
       "      <td>0.0</td>\n",
       "      <td>0.0</td>\n",
       "      <td>0.0</td>\n",
       "      <td>0.0</td>\n",
       "      <td>0.0</td>\n",
       "      <td>0.0</td>\n",
       "      <td>0.0</td>\n",
       "      <td>messenger</td>\n",
       "    </tr>\n",
       "    <tr>\n",
       "      <th>20221124_151137_4_45</th>\n",
       "      <td>1157.941935</td>\n",
       "      <td>990.206452</td>\n",
       "      <td>822.470968</td>\n",
       "      <td>654.735484</td>\n",
       "      <td>487.0</td>\n",
       "      <td>944.0</td>\n",
       "      <td>1001.783784</td>\n",
       "      <td>1059.567568</td>\n",
       "      <td>1117.351351</td>\n",
       "      <td>1175.135135</td>\n",
       "      <td>...</td>\n",
       "      <td>0.0</td>\n",
       "      <td>0.0</td>\n",
       "      <td>0.0</td>\n",
       "      <td>0.0</td>\n",
       "      <td>0.0</td>\n",
       "      <td>0.0</td>\n",
       "      <td>0.0</td>\n",
       "      <td>0.0</td>\n",
       "      <td>0.0</td>\n",
       "      <td>messenger</td>\n",
       "    </tr>\n",
       "    <tr>\n",
       "      <th>20221124_151137_4_60</th>\n",
       "      <td>1535.619048</td>\n",
       "      <td>1207.798319</td>\n",
       "      <td>936.986301</td>\n",
       "      <td>1566.597938</td>\n",
       "      <td>2870.215827</td>\n",
       "      <td>2166.083832</td>\n",
       "      <td>2788.470588</td>\n",
       "      <td>2442.666667</td>\n",
       "      <td>1838.730159</td>\n",
       "      <td>2617.04918</td>\n",
       "      <td>...</td>\n",
       "      <td>0.0</td>\n",
       "      <td>0.0</td>\n",
       "      <td>0.0</td>\n",
       "      <td>0.0</td>\n",
       "      <td>0.0</td>\n",
       "      <td>0.0</td>\n",
       "      <td>0.0</td>\n",
       "      <td>0.0</td>\n",
       "      <td>0.0</td>\n",
       "      <td>messenger</td>\n",
       "    </tr>\n",
       "    <tr>\n",
       "      <th>...</th>\n",
       "      <td>...</td>\n",
       "      <td>...</td>\n",
       "      <td>...</td>\n",
       "      <td>...</td>\n",
       "      <td>...</td>\n",
       "      <td>...</td>\n",
       "      <td>...</td>\n",
       "      <td>...</td>\n",
       "      <td>...</td>\n",
       "      <td>...</td>\n",
       "      <td>...</td>\n",
       "      <td>...</td>\n",
       "      <td>...</td>\n",
       "      <td>...</td>\n",
       "      <td>...</td>\n",
       "      <td>...</td>\n",
       "      <td>...</td>\n",
       "      <td>...</td>\n",
       "      <td>...</td>\n",
       "      <td>...</td>\n",
       "      <td>...</td>\n",
       "    </tr>\n",
       "    <tr>\n",
       "      <th>20230117_121925_262_45</th>\n",
       "      <td>826.246306</td>\n",
       "      <td>801.015817</td>\n",
       "      <td>775.785328</td>\n",
       "      <td>750.554839</td>\n",
       "      <td>564.610753</td>\n",
       "      <td>378.666667</td>\n",
       "      <td>499.278005</td>\n",
       "      <td>619.889342</td>\n",
       "      <td>740.50068</td>\n",
       "      <td>861.112018</td>\n",
       "      <td>...</td>\n",
       "      <td>0.0</td>\n",
       "      <td>0.0</td>\n",
       "      <td>0.0</td>\n",
       "      <td>0.0</td>\n",
       "      <td>0.0</td>\n",
       "      <td>0.0</td>\n",
       "      <td>0.0</td>\n",
       "      <td>0.0</td>\n",
       "      <td>0.0</td>\n",
       "      <td>youtube</td>\n",
       "    </tr>\n",
       "    <tr>\n",
       "      <th>20230117_121925_263_0</th>\n",
       "      <td>417.409692</td>\n",
       "      <td>401.504846</td>\n",
       "      <td>385.6</td>\n",
       "      <td>230.4</td>\n",
       "      <td>2069.333333</td>\n",
       "      <td>327.0</td>\n",
       "      <td>295.333333</td>\n",
       "      <td>263.666667</td>\n",
       "      <td>232.0</td>\n",
       "      <td>322.217143</td>\n",
       "      <td>...</td>\n",
       "      <td>0.0</td>\n",
       "      <td>0.0</td>\n",
       "      <td>0.0</td>\n",
       "      <td>0.0</td>\n",
       "      <td>0.0</td>\n",
       "      <td>0.0</td>\n",
       "      <td>0.0</td>\n",
       "      <td>0.0</td>\n",
       "      <td>0.0</td>\n",
       "      <td>youtube</td>\n",
       "    </tr>\n",
       "    <tr>\n",
       "      <th>20230117_121925_263_15</th>\n",
       "      <td>591.814286</td>\n",
       "      <td>546.178571</td>\n",
       "      <td>500.542857</td>\n",
       "      <td>454.907143</td>\n",
       "      <td>409.271429</td>\n",
       "      <td>363.635714</td>\n",
       "      <td>318.0</td>\n",
       "      <td>2585.693811</td>\n",
       "      <td>2445.915418</td>\n",
       "      <td>2306.137025</td>\n",
       "      <td>...</td>\n",
       "      <td>0.0</td>\n",
       "      <td>0.0</td>\n",
       "      <td>0.0</td>\n",
       "      <td>0.0</td>\n",
       "      <td>0.0</td>\n",
       "      <td>0.0</td>\n",
       "      <td>0.0</td>\n",
       "      <td>0.0</td>\n",
       "      <td>0.0</td>\n",
       "      <td>youtube</td>\n",
       "    </tr>\n",
       "    <tr>\n",
       "      <th>20230117_121925_263_30</th>\n",
       "      <td>1467.466667</td>\n",
       "      <td>913.959748</td>\n",
       "      <td>360.45283</td>\n",
       "      <td>348.902516</td>\n",
       "      <td>337.352201</td>\n",
       "      <td>325.801887</td>\n",
       "      <td>314.251572</td>\n",
       "      <td>302.701258</td>\n",
       "      <td>291.150943</td>\n",
       "      <td>279.600629</td>\n",
       "      <td>...</td>\n",
       "      <td>0.0</td>\n",
       "      <td>0.0</td>\n",
       "      <td>0.0</td>\n",
       "      <td>0.0</td>\n",
       "      <td>0.0</td>\n",
       "      <td>0.0</td>\n",
       "      <td>0.0</td>\n",
       "      <td>0.0</td>\n",
       "      <td>0.0</td>\n",
       "      <td>youtube</td>\n",
       "    </tr>\n",
       "    <tr>\n",
       "      <th>20230117_121925_263_45</th>\n",
       "      <td>559.876923</td>\n",
       "      <td>662.235897</td>\n",
       "      <td>764.594872</td>\n",
       "      <td>866.953846</td>\n",
       "      <td>969.312821</td>\n",
       "      <td>1071.671795</td>\n",
       "      <td>1174.030769</td>\n",
       "      <td>1003.989744</td>\n",
       "      <td>833.948718</td>\n",
       "      <td>663.907692</td>\n",
       "      <td>...</td>\n",
       "      <td>0.0</td>\n",
       "      <td>0.0</td>\n",
       "      <td>0.0</td>\n",
       "      <td>0.0</td>\n",
       "      <td>0.0</td>\n",
       "      <td>0.0</td>\n",
       "      <td>0.0</td>\n",
       "      <td>0.0</td>\n",
       "      <td>0.0</td>\n",
       "      <td>youtube</td>\n",
       "    </tr>\n",
       "  </tbody>\n",
       "</table>\n",
       "<p>10078 rows × 121 columns</p>\n",
       "</div>"
      ],
      "text/plain": [
       "                                  0            1           2            3  \\\n",
       "20221124_151137_4_0      308.521739    687.88587     1067.25  1013.396825   \n",
       "20221124_151137_4_15     1603.24618  1846.315789       696.0        638.2   \n",
       "20221124_151137_4_30    1013.382456   935.954386  858.526316    942.27027   \n",
       "20221124_151137_4_45    1157.941935   990.206452  822.470968   654.735484   \n",
       "20221124_151137_4_60    1535.619048  1207.798319  936.986301  1566.597938   \n",
       "...                             ...          ...         ...          ...   \n",
       "20230117_121925_262_45   826.246306   801.015817  775.785328   750.554839   \n",
       "20230117_121925_263_0    417.409692   401.504846       385.6        230.4   \n",
       "20230117_121925_263_15   591.814286   546.178571  500.542857   454.907143   \n",
       "20230117_121925_263_30  1467.466667   913.959748   360.45283   348.902516   \n",
       "20230117_121925_263_45   559.876923   662.235897  764.594872   866.953846   \n",
       "\n",
       "                                  4            5            6            7  \\\n",
       "20221124_151137_4_0     1496.222222    713.52381       1561.5   899.897436   \n",
       "20221124_151137_4_15          580.4   439.466667        556.0  1007.304348   \n",
       "20221124_151137_4_30     877.019608  1881.702128  1524.444444  1877.043478   \n",
       "20221124_151137_4_45          487.0        944.0  1001.783784  1059.567568   \n",
       "20221124_151137_4_60    2870.215827  2166.083832  2788.470588  2442.666667   \n",
       "...                             ...          ...          ...          ...   \n",
       "20230117_121925_262_45   564.610753   378.666667   499.278005   619.889342   \n",
       "20230117_121925_263_0   2069.333333        327.0   295.333333   263.666667   \n",
       "20230117_121925_263_15   409.271429   363.635714        318.0  2585.693811   \n",
       "20230117_121925_263_30   337.352201   325.801887   314.251572   302.701258   \n",
       "20230117_121925_263_45   969.312821  1071.671795  1174.030769  1003.989744   \n",
       "\n",
       "                                  8            9  ...  111  112  113  114  \\\n",
       "20221124_151137_4_0          1168.0   972.756757  ...  0.0  0.0  0.0  0.0   \n",
       "20221124_151137_4_15     965.653333       1316.5  ...  0.0  0.0  0.0  0.0   \n",
       "20221124_151137_4_30    1599.351351  1673.473684  ...  0.0  0.0  0.0  0.0   \n",
       "20221124_151137_4_45    1117.351351  1175.135135  ...  0.0  0.0  0.0  0.0   \n",
       "20221124_151137_4_60    1838.730159   2617.04918  ...  0.0  0.0  0.0  0.0   \n",
       "...                             ...          ...  ...  ...  ...  ...  ...   \n",
       "20230117_121925_262_45    740.50068   861.112018  ...  0.0  0.0  0.0  0.0   \n",
       "20230117_121925_263_0         232.0   322.217143  ...  0.0  0.0  0.0  0.0   \n",
       "20230117_121925_263_15  2445.915418  2306.137025  ...  0.0  0.0  0.0  0.0   \n",
       "20230117_121925_263_30   291.150943   279.600629  ...  0.0  0.0  0.0  0.0   \n",
       "20230117_121925_263_45   833.948718   663.907692  ...  0.0  0.0  0.0  0.0   \n",
       "\n",
       "                        115  116  117  118  119      label  \n",
       "20221124_151137_4_0     0.0  0.0  0.0  0.0  0.0  messenger  \n",
       "20221124_151137_4_15    0.0  0.0  0.0  0.0  0.0  messenger  \n",
       "20221124_151137_4_30    0.0  0.0  0.0  0.0  0.0  messenger  \n",
       "20221124_151137_4_45    0.0  0.0  0.0  0.0  0.0  messenger  \n",
       "20221124_151137_4_60    0.0  0.0  0.0  0.0  0.0  messenger  \n",
       "...                     ...  ...  ...  ...  ...        ...  \n",
       "20230117_121925_262_45  0.0  0.0  0.0  0.0  0.0    youtube  \n",
       "20230117_121925_263_0   0.0  0.0  0.0  0.0  0.0    youtube  \n",
       "20230117_121925_263_15  0.0  0.0  0.0  0.0  0.0    youtube  \n",
       "20230117_121925_263_30  0.0  0.0  0.0  0.0  0.0    youtube  \n",
       "20230117_121925_263_45  0.0  0.0  0.0  0.0  0.0    youtube  \n",
       "\n",
       "[10078 rows x 121 columns]"
      ]
     },
     "execution_count": 3,
     "metadata": {},
     "output_type": "execute_result"
    }
   ],
   "source": [
    "df_train = load_and_preprocess_agg_window(\"../Mesures/train\", length_value = DEFAULT_LENGTH_Value, step = STEP)\n",
    "\n",
    "df_test = load_and_preprocess_agg_window(\"../Mesures/test\", length_value = DEFAULT_LENGTH_Value, step = STEP)\n",
    "df_test\n"
   ]
  },
  {
   "cell_type": "markdown",
   "metadata": {
    "colab": {
     "base_uri": "https://localhost:8080/",
     "height": 1000
    },
    "id": "lG-KXJyWXVz1",
    "outputId": "b6fedb16-ed7f-41e8-966a-5650b5013bf6"
   },
   "source": [
    "# Noise"
   ]
  },
  {
   "cell_type": "code",
   "execution_count": 4,
   "metadata": {
    "id": "XZzpASLkXV3R"
   },
   "outputs": [],
   "source": [
    "df_train=df_train[df_train.label!=\"noise\"]\n",
    "df_test = df_test[df_test.label!=\"noise\"]"
   ]
  },
  {
   "cell_type": "markdown",
   "metadata": {},
   "source": [
    "# Scale"
   ]
  },
  {
   "cell_type": "code",
   "execution_count": 5,
   "metadata": {},
   "outputs": [
    {
     "name": "stdout",
     "output_type": "stream",
     "text": [
      "20221124_151137_4_0       messenger\n",
      "20221124_151137_4_15      messenger\n",
      "20221124_151137_4_30      messenger\n",
      "20221124_151137_4_45      messenger\n",
      "20221124_151137_4_60      messenger\n",
      "                            ...    \n",
      "20230117_121925_262_45      youtube\n",
      "20230117_121925_263_0       youtube\n",
      "20230117_121925_263_15      youtube\n",
      "20230117_121925_263_30      youtube\n",
      "20230117_121925_263_45      youtube\n",
      "Name: label, Length: 10068, dtype: object\n"
     ]
    },
    {
     "data": {
      "text/html": [
       "<div>\n",
       "<style scoped>\n",
       "    .dataframe tbody tr th:only-of-type {\n",
       "        vertical-align: middle;\n",
       "    }\n",
       "\n",
       "    .dataframe tbody tr th {\n",
       "        vertical-align: top;\n",
       "    }\n",
       "\n",
       "    .dataframe thead th {\n",
       "        text-align: right;\n",
       "    }\n",
       "</style>\n",
       "<table border=\"1\" class=\"dataframe\">\n",
       "  <thead>\n",
       "    <tr style=\"text-align: right;\">\n",
       "      <th></th>\n",
       "      <th>0</th>\n",
       "      <th>1</th>\n",
       "      <th>2</th>\n",
       "      <th>3</th>\n",
       "      <th>4</th>\n",
       "      <th>5</th>\n",
       "      <th>6</th>\n",
       "      <th>7</th>\n",
       "      <th>8</th>\n",
       "      <th>9</th>\n",
       "      <th>...</th>\n",
       "      <th>111</th>\n",
       "      <th>112</th>\n",
       "      <th>113</th>\n",
       "      <th>114</th>\n",
       "      <th>115</th>\n",
       "      <th>116</th>\n",
       "      <th>117</th>\n",
       "      <th>118</th>\n",
       "      <th>119</th>\n",
       "      <th>label</th>\n",
       "    </tr>\n",
       "    <tr>\n",
       "      <th>id</th>\n",
       "      <th></th>\n",
       "      <th></th>\n",
       "      <th></th>\n",
       "      <th></th>\n",
       "      <th></th>\n",
       "      <th></th>\n",
       "      <th></th>\n",
       "      <th></th>\n",
       "      <th></th>\n",
       "      <th></th>\n",
       "      <th></th>\n",
       "      <th></th>\n",
       "      <th></th>\n",
       "      <th></th>\n",
       "      <th></th>\n",
       "      <th></th>\n",
       "      <th></th>\n",
       "      <th></th>\n",
       "      <th></th>\n",
       "      <th></th>\n",
       "      <th></th>\n",
       "    </tr>\n",
       "  </thead>\n",
       "  <tbody>\n",
       "    <tr>\n",
       "      <th>20221117_125310_4_0</th>\n",
       "      <td>-1.727550</td>\n",
       "      <td>-1.338910</td>\n",
       "      <td>-0.914829</td>\n",
       "      <td>-1.104021</td>\n",
       "      <td>-0.896277</td>\n",
       "      <td>-1.033256</td>\n",
       "      <td>-1.782289</td>\n",
       "      <td>-1.687440</td>\n",
       "      <td>-1.627240</td>\n",
       "      <td>-1.563379</td>\n",
       "      <td>...</td>\n",
       "      <td>-0.034221</td>\n",
       "      <td>-0.034131</td>\n",
       "      <td>-0.033471</td>\n",
       "      <td>-0.034217</td>\n",
       "      <td>-0.033935</td>\n",
       "      <td>-0.032138</td>\n",
       "      <td>-0.035229</td>\n",
       "      <td>-0.03514</td>\n",
       "      <td>-0.03494</td>\n",
       "      <td>messenger</td>\n",
       "    </tr>\n",
       "    <tr>\n",
       "      <th>20221117_125310_4_15</th>\n",
       "      <td>-1.352454</td>\n",
       "      <td>-1.516539</td>\n",
       "      <td>-1.651204</td>\n",
       "      <td>-1.780460</td>\n",
       "      <td>-1.841460</td>\n",
       "      <td>-1.732285</td>\n",
       "      <td>-1.700578</td>\n",
       "      <td>-1.635769</td>\n",
       "      <td>-1.604163</td>\n",
       "      <td>-1.569052</td>\n",
       "      <td>...</td>\n",
       "      <td>-0.034221</td>\n",
       "      <td>-0.034131</td>\n",
       "      <td>-0.033471</td>\n",
       "      <td>-0.034217</td>\n",
       "      <td>-0.033935</td>\n",
       "      <td>-0.032138</td>\n",
       "      <td>-0.035229</td>\n",
       "      <td>-0.03514</td>\n",
       "      <td>-0.03494</td>\n",
       "      <td>messenger</td>\n",
       "    </tr>\n",
       "    <tr>\n",
       "      <th>20221117_125310_4_30</th>\n",
       "      <td>-0.624408</td>\n",
       "      <td>-1.493351</td>\n",
       "      <td>-1.625928</td>\n",
       "      <td>-1.793453</td>\n",
       "      <td>-1.790108</td>\n",
       "      <td>-1.727993</td>\n",
       "      <td>-1.640097</td>\n",
       "      <td>-1.521081</td>\n",
       "      <td>-1.433727</td>\n",
       "      <td>-1.435711</td>\n",
       "      <td>...</td>\n",
       "      <td>-0.034221</td>\n",
       "      <td>-0.034131</td>\n",
       "      <td>-0.033471</td>\n",
       "      <td>-0.034217</td>\n",
       "      <td>-0.033935</td>\n",
       "      <td>-0.032138</td>\n",
       "      <td>-0.035229</td>\n",
       "      <td>-0.03514</td>\n",
       "      <td>-0.03494</td>\n",
       "      <td>messenger</td>\n",
       "    </tr>\n",
       "    <tr>\n",
       "      <th>20221117_125310_4_45</th>\n",
       "      <td>-1.747862</td>\n",
       "      <td>-1.800695</td>\n",
       "      <td>-1.815971</td>\n",
       "      <td>-1.649095</td>\n",
       "      <td>-1.502541</td>\n",
       "      <td>-1.694744</td>\n",
       "      <td>-1.707127</td>\n",
       "      <td>-1.685672</td>\n",
       "      <td>-1.697814</td>\n",
       "      <td>-1.706291</td>\n",
       "      <td>...</td>\n",
       "      <td>-0.034221</td>\n",
       "      <td>-0.034131</td>\n",
       "      <td>-0.033471</td>\n",
       "      <td>-0.034217</td>\n",
       "      <td>-0.033935</td>\n",
       "      <td>-0.032138</td>\n",
       "      <td>-0.035229</td>\n",
       "      <td>-0.03514</td>\n",
       "      <td>-0.03494</td>\n",
       "      <td>messenger</td>\n",
       "    </tr>\n",
       "    <tr>\n",
       "      <th>20221117_125310_4_60</th>\n",
       "      <td>-1.741721</td>\n",
       "      <td>-1.782438</td>\n",
       "      <td>-1.785776</td>\n",
       "      <td>-1.784214</td>\n",
       "      <td>-1.803020</td>\n",
       "      <td>-1.681860</td>\n",
       "      <td>-1.636768</td>\n",
       "      <td>-1.560034</td>\n",
       "      <td>-1.515153</td>\n",
       "      <td>-1.467007</td>\n",
       "      <td>...</td>\n",
       "      <td>-0.034221</td>\n",
       "      <td>-0.034131</td>\n",
       "      <td>-0.033471</td>\n",
       "      <td>-0.034217</td>\n",
       "      <td>-0.033935</td>\n",
       "      <td>-0.032138</td>\n",
       "      <td>-0.035229</td>\n",
       "      <td>-0.03514</td>\n",
       "      <td>-0.03494</td>\n",
       "      <td>messenger</td>\n",
       "    </tr>\n",
       "    <tr>\n",
       "      <th>...</th>\n",
       "      <td>...</td>\n",
       "      <td>...</td>\n",
       "      <td>...</td>\n",
       "      <td>...</td>\n",
       "      <td>...</td>\n",
       "      <td>...</td>\n",
       "      <td>...</td>\n",
       "      <td>...</td>\n",
       "      <td>...</td>\n",
       "      <td>...</td>\n",
       "      <td>...</td>\n",
       "      <td>...</td>\n",
       "      <td>...</td>\n",
       "      <td>...</td>\n",
       "      <td>...</td>\n",
       "      <td>...</td>\n",
       "      <td>...</td>\n",
       "      <td>...</td>\n",
       "      <td>...</td>\n",
       "      <td>...</td>\n",
       "      <td>...</td>\n",
       "    </tr>\n",
       "    <tr>\n",
       "      <th>20230124_124323_161_150</th>\n",
       "      <td>-1.651496</td>\n",
       "      <td>-1.276887</td>\n",
       "      <td>-0.868430</td>\n",
       "      <td>-0.453071</td>\n",
       "      <td>-0.035174</td>\n",
       "      <td>0.367744</td>\n",
       "      <td>0.772882</td>\n",
       "      <td>1.156640</td>\n",
       "      <td>0.684762</td>\n",
       "      <td>0.452883</td>\n",
       "      <td>...</td>\n",
       "      <td>-0.034221</td>\n",
       "      <td>-0.034131</td>\n",
       "      <td>-0.033471</td>\n",
       "      <td>-0.034217</td>\n",
       "      <td>-0.033935</td>\n",
       "      <td>-0.032138</td>\n",
       "      <td>-0.035229</td>\n",
       "      <td>-0.03514</td>\n",
       "      <td>-0.03494</td>\n",
       "      <td>youtube</td>\n",
       "    </tr>\n",
       "    <tr>\n",
       "      <th>20230124_124323_166_0</th>\n",
       "      <td>-1.747477</td>\n",
       "      <td>-1.808894</td>\n",
       "      <td>-1.395583</td>\n",
       "      <td>-0.976790</td>\n",
       "      <td>-0.563546</td>\n",
       "      <td>-0.761811</td>\n",
       "      <td>-0.983239</td>\n",
       "      <td>-1.182386</td>\n",
       "      <td>-1.402022</td>\n",
       "      <td>-1.619538</td>\n",
       "      <td>...</td>\n",
       "      <td>-0.034221</td>\n",
       "      <td>-0.034131</td>\n",
       "      <td>-0.033471</td>\n",
       "      <td>-0.034217</td>\n",
       "      <td>-0.033935</td>\n",
       "      <td>-0.032138</td>\n",
       "      <td>-0.035229</td>\n",
       "      <td>-0.03514</td>\n",
       "      <td>-0.03494</td>\n",
       "      <td>youtube</td>\n",
       "    </tr>\n",
       "    <tr>\n",
       "      <th>20230124_124323_166_15</th>\n",
       "      <td>-1.037089</td>\n",
       "      <td>-1.080915</td>\n",
       "      <td>-1.102602</td>\n",
       "      <td>-1.117535</td>\n",
       "      <td>-1.147642</td>\n",
       "      <td>-1.123525</td>\n",
       "      <td>-1.145067</td>\n",
       "      <td>-1.423126</td>\n",
       "      <td>-1.463787</td>\n",
       "      <td>-1.501600</td>\n",
       "      <td>...</td>\n",
       "      <td>-0.034221</td>\n",
       "      <td>-0.034131</td>\n",
       "      <td>-0.033471</td>\n",
       "      <td>-0.034217</td>\n",
       "      <td>-0.033935</td>\n",
       "      <td>-0.032138</td>\n",
       "      <td>-0.035229</td>\n",
       "      <td>-0.03514</td>\n",
       "      <td>-0.03494</td>\n",
       "      <td>youtube</td>\n",
       "    </tr>\n",
       "    <tr>\n",
       "      <th>20230124_124323_166_30</th>\n",
       "      <td>-1.712531</td>\n",
       "      <td>-0.223511</td>\n",
       "      <td>-0.255052</td>\n",
       "      <td>-0.277553</td>\n",
       "      <td>-0.302292</td>\n",
       "      <td>-0.318051</td>\n",
       "      <td>-0.345143</td>\n",
       "      <td>-0.669762</td>\n",
       "      <td>-1.002893</td>\n",
       "      <td>-1.335490</td>\n",
       "      <td>...</td>\n",
       "      <td>-0.034221</td>\n",
       "      <td>-0.034131</td>\n",
       "      <td>-0.033471</td>\n",
       "      <td>-0.034217</td>\n",
       "      <td>-0.033935</td>\n",
       "      <td>-0.032138</td>\n",
       "      <td>-0.035229</td>\n",
       "      <td>-0.03514</td>\n",
       "      <td>-0.03494</td>\n",
       "      <td>youtube</td>\n",
       "    </tr>\n",
       "    <tr>\n",
       "      <th>20230124_124323_166_45</th>\n",
       "      <td>-1.011889</td>\n",
       "      <td>-1.177245</td>\n",
       "      <td>-1.320546</td>\n",
       "      <td>-1.457542</td>\n",
       "      <td>-1.617092</td>\n",
       "      <td>-1.457420</td>\n",
       "      <td>-1.446896</td>\n",
       "      <td>-1.408039</td>\n",
       "      <td>-1.397476</td>\n",
       "      <td>-1.426690</td>\n",
       "      <td>...</td>\n",
       "      <td>-0.034221</td>\n",
       "      <td>-0.034131</td>\n",
       "      <td>-0.033471</td>\n",
       "      <td>-0.034217</td>\n",
       "      <td>-0.033935</td>\n",
       "      <td>-0.032138</td>\n",
       "      <td>-0.035229</td>\n",
       "      <td>-0.03514</td>\n",
       "      <td>-0.03494</td>\n",
       "      <td>youtube</td>\n",
       "    </tr>\n",
       "  </tbody>\n",
       "</table>\n",
       "<p>23565 rows × 121 columns</p>\n",
       "</div>"
      ],
      "text/plain": [
       "                                0         1         2         3         4  \\\n",
       "id                                                                          \n",
       "20221117_125310_4_0     -1.727550 -1.338910 -0.914829 -1.104021 -0.896277   \n",
       "20221117_125310_4_15    -1.352454 -1.516539 -1.651204 -1.780460 -1.841460   \n",
       "20221117_125310_4_30    -0.624408 -1.493351 -1.625928 -1.793453 -1.790108   \n",
       "20221117_125310_4_45    -1.747862 -1.800695 -1.815971 -1.649095 -1.502541   \n",
       "20221117_125310_4_60    -1.741721 -1.782438 -1.785776 -1.784214 -1.803020   \n",
       "...                           ...       ...       ...       ...       ...   \n",
       "20230124_124323_161_150 -1.651496 -1.276887 -0.868430 -0.453071 -0.035174   \n",
       "20230124_124323_166_0   -1.747477 -1.808894 -1.395583 -0.976790 -0.563546   \n",
       "20230124_124323_166_15  -1.037089 -1.080915 -1.102602 -1.117535 -1.147642   \n",
       "20230124_124323_166_30  -1.712531 -0.223511 -0.255052 -0.277553 -0.302292   \n",
       "20230124_124323_166_45  -1.011889 -1.177245 -1.320546 -1.457542 -1.617092   \n",
       "\n",
       "                                5         6         7         8         9  \\\n",
       "id                                                                          \n",
       "20221117_125310_4_0     -1.033256 -1.782289 -1.687440 -1.627240 -1.563379   \n",
       "20221117_125310_4_15    -1.732285 -1.700578 -1.635769 -1.604163 -1.569052   \n",
       "20221117_125310_4_30    -1.727993 -1.640097 -1.521081 -1.433727 -1.435711   \n",
       "20221117_125310_4_45    -1.694744 -1.707127 -1.685672 -1.697814 -1.706291   \n",
       "20221117_125310_4_60    -1.681860 -1.636768 -1.560034 -1.515153 -1.467007   \n",
       "...                           ...       ...       ...       ...       ...   \n",
       "20230124_124323_161_150  0.367744  0.772882  1.156640  0.684762  0.452883   \n",
       "20230124_124323_166_0   -0.761811 -0.983239 -1.182386 -1.402022 -1.619538   \n",
       "20230124_124323_166_15  -1.123525 -1.145067 -1.423126 -1.463787 -1.501600   \n",
       "20230124_124323_166_30  -0.318051 -0.345143 -0.669762 -1.002893 -1.335490   \n",
       "20230124_124323_166_45  -1.457420 -1.446896 -1.408039 -1.397476 -1.426690   \n",
       "\n",
       "                         ...       111       112       113       114  \\\n",
       "id                       ...                                           \n",
       "20221117_125310_4_0      ... -0.034221 -0.034131 -0.033471 -0.034217   \n",
       "20221117_125310_4_15     ... -0.034221 -0.034131 -0.033471 -0.034217   \n",
       "20221117_125310_4_30     ... -0.034221 -0.034131 -0.033471 -0.034217   \n",
       "20221117_125310_4_45     ... -0.034221 -0.034131 -0.033471 -0.034217   \n",
       "20221117_125310_4_60     ... -0.034221 -0.034131 -0.033471 -0.034217   \n",
       "...                      ...       ...       ...       ...       ...   \n",
       "20230124_124323_161_150  ... -0.034221 -0.034131 -0.033471 -0.034217   \n",
       "20230124_124323_166_0    ... -0.034221 -0.034131 -0.033471 -0.034217   \n",
       "20230124_124323_166_15   ... -0.034221 -0.034131 -0.033471 -0.034217   \n",
       "20230124_124323_166_30   ... -0.034221 -0.034131 -0.033471 -0.034217   \n",
       "20230124_124323_166_45   ... -0.034221 -0.034131 -0.033471 -0.034217   \n",
       "\n",
       "                              115       116       117      118      119  \\\n",
       "id                                                                        \n",
       "20221117_125310_4_0     -0.033935 -0.032138 -0.035229 -0.03514 -0.03494   \n",
       "20221117_125310_4_15    -0.033935 -0.032138 -0.035229 -0.03514 -0.03494   \n",
       "20221117_125310_4_30    -0.033935 -0.032138 -0.035229 -0.03514 -0.03494   \n",
       "20221117_125310_4_45    -0.033935 -0.032138 -0.035229 -0.03514 -0.03494   \n",
       "20221117_125310_4_60    -0.033935 -0.032138 -0.035229 -0.03514 -0.03494   \n",
       "...                           ...       ...       ...      ...      ...   \n",
       "20230124_124323_161_150 -0.033935 -0.032138 -0.035229 -0.03514 -0.03494   \n",
       "20230124_124323_166_0   -0.033935 -0.032138 -0.035229 -0.03514 -0.03494   \n",
       "20230124_124323_166_15  -0.033935 -0.032138 -0.035229 -0.03514 -0.03494   \n",
       "20230124_124323_166_30  -0.033935 -0.032138 -0.035229 -0.03514 -0.03494   \n",
       "20230124_124323_166_45  -0.033935 -0.032138 -0.035229 -0.03514 -0.03494   \n",
       "\n",
       "                             label  \n",
       "id                                  \n",
       "20221117_125310_4_0      messenger  \n",
       "20221117_125310_4_15     messenger  \n",
       "20221117_125310_4_30     messenger  \n",
       "20221117_125310_4_45     messenger  \n",
       "20221117_125310_4_60     messenger  \n",
       "...                            ...  \n",
       "20230124_124323_161_150    youtube  \n",
       "20230124_124323_166_0      youtube  \n",
       "20230124_124323_166_15     youtube  \n",
       "20230124_124323_166_30     youtube  \n",
       "20230124_124323_166_45     youtube  \n",
       "\n",
       "[23565 rows x 121 columns]"
      ]
     },
     "execution_count": 5,
     "metadata": {},
     "output_type": "execute_result"
    }
   ],
   "source": [
    "scaler = Scaler_Metrics()\n",
    "training_data = scaler.fit_transform(df_train)\n",
    "testing_data = scaler.transform(df_test)\n",
    "training_data"
   ]
  },
  {
   "cell_type": "code",
   "execution_count": 6,
   "metadata": {},
   "outputs": [
    {
     "data": {
      "text/plain": [
       "array([[-1.72754986, -0.03401963],\n",
       "       [-1.33890966, -0.03530117],\n",
       "       [-0.91482888, -0.03205697],\n",
       "       [-1.1040209 , -0.03217002],\n",
       "       [-0.89627657,  0.46057637]])"
      ]
     },
     "execution_count": 6,
     "metadata": {},
     "output_type": "execute_result"
    }
   ],
   "source": [
    "data_col = training_data.columns[:-1]\n",
    "X_train, X_test = training_data[data_col].values, testing_data[data_col].values\n",
    "X_train, X_test = X_train.reshape((-1,DEFAULT_LENGTH_Value,2), order='F'), X_test.reshape((-1,DEFAULT_LENGTH_Value,2), order='F')\n",
    "y_train, y_test = training_data.label, testing_data.label\n",
    "X_train[0,:5]"
   ]
  },
  {
   "cell_type": "markdown",
   "metadata": {},
   "source": [
    "# Encode"
   ]
  },
  {
   "cell_type": "code",
   "execution_count": 7,
   "metadata": {},
   "outputs": [
    {
     "data": {
      "text/plain": [
       "{0: 0.678031937850669,\n",
       " 1: 0.4977294328862604,\n",
       " 2: 3.0623781676413255,\n",
       " 3: 1.580482897384306,\n",
       " 4: 1.7961128048780488}"
      ]
     },
     "execution_count": 7,
     "metadata": {},
     "output_type": "execute_result"
    }
   ],
   "source": [
    "class Encoder_label:\n",
    "    corres = []\n",
    "    class_weights = {}\n",
    "    \n",
    "    def fit(self,y):\n",
    "      y_array = y_train.values\n",
    "      self.corres = list(np.unique(y_array))\n",
    "\n",
    "    def transform(self, y) :\n",
    "      encoded = [self.corres.index(val) for val in y.values]\n",
    "      return np.array(encoded)\n",
    "    \n",
    "    def fit_transform(self,y) :\n",
    "      self.fit(y)\n",
    "      transformed_y = self.transform(y)\n",
    "      self.compute_class_weight(transformed_y)\n",
    "      return transformed_y\n",
    "\n",
    "    def inverse_transform(self,y) :\n",
    "      try : \n",
    "        return np.array([self.corres[val] for val in y.values])\n",
    "      except : \n",
    "        return np.array([self.corres[val] for val in y])\n",
    "    \n",
    "    def compute_class_weight(self, y) :\n",
    "      # must receive y encoded\n",
    "\n",
    "      self.class_weights = dict(zip(np.unique(y), class_weight.compute_class_weight(class_weight ='balanced',\n",
    "                                                  classes =np.unique(y), y =y)))\n",
    "    \n",
    "encoder = Encoder_label()\n",
    "y_train_encoded = encoder.fit_transform(y_train)\n",
    "y_test_encoded = encoder.transform(y_test)\n",
    "class_weights = encoder.class_weights\n",
    "class_weights"
   ]
  },
  {
   "cell_type": "code",
   "execution_count": 8,
   "metadata": {
    "id": "uBWN8hhupypx"
   },
   "outputs": [
    {
     "data": {
      "text/plain": [
       "array([0, 0, 0, ..., 4, 4, 4])"
      ]
     },
     "execution_count": 8,
     "metadata": {},
     "output_type": "execute_result"
    }
   ],
   "source": [
    "y_test_encoded"
   ]
  },
  {
   "cell_type": "code",
   "execution_count": null,
   "metadata": {},
   "outputs": [],
   "source": []
  },
  {
   "cell_type": "markdown",
   "metadata": {},
   "source": [
    "# Train"
   ]
  },
  {
   "cell_type": "code",
   "execution_count": 9,
   "metadata": {
    "id": "FOZGpEsLpy1L"
   },
   "outputs": [],
   "source": [
    "num_steps = DEFAULT_LENGTH_Value\n",
    "num_features = 2 #TBS 1 & TBS 2"
   ]
  },
  {
   "cell_type": "code",
   "execution_count": 10,
   "metadata": {
    "id": "QUSGa3vXUxXY"
   },
   "outputs": [],
   "source": [
    "#Deep learning model"
   ]
  },
  {
   "cell_type": "code",
   "execution_count": 11,
   "metadata": {
    "id": "KjxpXFcCpx0Z"
   },
   "outputs": [],
   "source": [
    "time_counter = time.time_ns()\n",
    "\n",
    "num_label = len(training_data.label.unique())\n",
    "logdir = 'logs'\n",
    "tensorboard_callback = tf.keras.callbacks.TensorBoard(log_dir=logdir)\n",
    "\n",
    "\n",
    "\n",
    "model = Sequential()\n",
    "\n",
    "model.add(LSTM(20, activation='tanh', input_shape=(num_steps, num_features), return_sequences=True))\n",
    "\n",
    "model.add(LSTM(20, activation='tanh', input_shape=(num_steps, num_features), return_sequences=False))\n",
    "#return_sequences=False because in mode many to one\n",
    "\n",
    "model.add(Dense(num_label, activation = 'softmax'))\n",
    "model.compile('adam', loss = tf.keras.losses.SparseCategoricalCrossentropy(), metrics =['accuracy'])"
   ]
  },
  {
   "cell_type": "code",
   "execution_count": 12,
   "metadata": {
    "colab": {
     "base_uri": "https://localhost:8080/"
    },
    "id": "o9wOSILRU22D",
    "outputId": "c787476c-4191-4426-92ba-1d4bb0693f33"
   },
   "outputs": [
    {
     "name": "stdout",
     "output_type": "stream",
     "text": [
      "Model: \"sequential\"\n",
      "_________________________________________________________________\n",
      " Layer (type)                Output Shape              Param #   \n",
      "=================================================================\n",
      " lstm (LSTM)                 (None, 60, 20)            1840      \n",
      "                                                                 \n",
      " lstm_1 (LSTM)               (None, 20)                3280      \n",
      "                                                                 \n",
      " dense (Dense)               (None, 5)                 105       \n",
      "                                                                 \n",
      "=================================================================\n",
      "Total params: 5,225\n",
      "Trainable params: 5,225\n",
      "Non-trainable params: 0\n",
      "_________________________________________________________________\n"
     ]
    }
   ],
   "source": [
    "model.summary()"
   ]
  },
  {
   "cell_type": "code",
   "execution_count": 13,
   "metadata": {
    "id": "1E4Y9TV6YJz1"
   },
   "outputs": [],
   "source": [
    "checkpoint_filepath = '/tmp/checkpoint/best_model'\n",
    "logs_dir = 'tmp/logs'\n",
    "\n",
    "tensorboard_callback = tf.keras.callbacks.TensorBoard(log_dir=logs_dir)\n",
    "#model_checkpoint_callback = tf.keras.callbacks.ModelCheckpoint(filepath=checkpoint_filepath, save_weights_only=True, monitor='val_accuracy',  mode='max',save_best_only=True)\n",
    "\n",
    "#early_stop = tf.keras.callbacks.EarlyStopping(monitor='val_loss', patience=3)"
   ]
  },
  {
   "cell_type": "code",
   "execution_count": 14,
   "metadata": {},
   "outputs": [
    {
     "data": {
      "text/plain": [
       "array([0, 0, 0, ..., 4, 4, 4])"
      ]
     },
     "execution_count": 14,
     "metadata": {},
     "output_type": "execute_result"
    }
   ],
   "source": [
    "y_test_encoded"
   ]
  },
  {
   "cell_type": "code",
   "execution_count": 15,
   "metadata": {},
   "outputs": [
    {
     "name": "stdout",
     "output_type": "stream",
     "text": [
      "Epoch 1/40\n",
      "737/737 [==============================] - 33s 32ms/step - loss: 0.8266 - accuracy: 0.6666 - val_loss: 1.6417 - val_accuracy: 0.4304\n",
      "Epoch 2/40\n",
      "737/737 [==============================] - 23s 32ms/step - loss: 0.6467 - accuracy: 0.7355 - val_loss: 1.6413 - val_accuracy: 0.4354\n",
      "Epoch 3/40\n",
      "737/737 [==============================] - 24s 32ms/step - loss: 0.6225 - accuracy: 0.7421 - val_loss: 1.6392 - val_accuracy: 0.4210\n",
      "Epoch 4/40\n",
      "737/737 [==============================] - 23s 31ms/step - loss: 0.6051 - accuracy: 0.7460 - val_loss: 1.5105 - val_accuracy: 0.4328\n",
      "Epoch 5/40\n",
      "737/737 [==============================] - 24s 32ms/step - loss: 0.5801 - accuracy: 0.7560 - val_loss: 1.6593 - val_accuracy: 0.4440\n",
      "Epoch 6/40\n",
      "737/737 [==============================] - 27s 36ms/step - loss: 0.5625 - accuracy: 0.7579 - val_loss: 1.5529 - val_accuracy: 0.4460\n",
      "Epoch 7/40\n",
      "737/737 [==============================] - 23s 32ms/step - loss: 0.5541 - accuracy: 0.7593 - val_loss: 1.6254 - val_accuracy: 0.4470\n",
      "Training Duration : 186.218511 s for a dataset length of 23565\n"
     ]
    }
   ],
   "source": [
    "x_train_shaped = np.asarray(X_train).astype('float32')\n",
    "x_test_shaped = np.asarray(X_test).astype('float32')\n",
    "val_data = (x_test_shaped ,y_test_encoded)\n",
    "\n",
    "checkpoint_filepath = '/tmp/checkpoint_LSTM/best_model'\n",
    "logs_dir = 'tmp/logs'\n",
    "\n",
    "tensorboard_callback = tf.keras.callbacks.TensorBoard(log_dir=logs_dir)\n",
    "model_checkpoint_callback = tf.keras.callbacks.ModelCheckpoint(\n",
    "    filepath=checkpoint_filepath, save_weights_only=True, monitor='val_accuracy',  mode='max',save_best_only=True)\n",
    "early_stop = tf.keras.callbacks.EarlyStopping(monitor='val_loss', patience=3)\n",
    "\n",
    "\n",
    "history = model.fit(x_train_shaped, y_train_encoded, epochs=40,class_weight=class_weights, \n",
    "                    callbacks =[tensorboard_callback, early_stop,model_checkpoint_callback],\n",
    "                    validation_data = val_data)\n",
    "\n",
    "\n",
    "#callbacks =[tensorboard_callback, early_stop,model_checkpoint_callback],\n",
    "\n",
    "model.load_weights(checkpoint_filepath)\n",
    "\n",
    "training_duration = (time.time_ns() - time_counter)/(10**9)\n",
    "print(f\"Training Duration : {training_duration} s for a dataset length of {len(X_train)}\")\n",
    "\n",
    "\n",
    "#test_predict = model.predict(x_test_shaped)"
   ]
  },
  {
   "cell_type": "code",
   "execution_count": null,
   "metadata": {},
   "outputs": [],
   "source": []
  },
  {
   "cell_type": "code",
   "execution_count": 16,
   "metadata": {},
   "outputs": [
    {
     "data": {
      "image/png": "[encoded data removed]",
      "text/plain": [
       "<Figure size 640x480 with 1 Axes>"
      ]
     },
     "metadata": {},
     "output_type": "display_data"
    }
   ],
   "source": [
    "fig =plt.figure()\n",
    "plt.plot(history.history['loss'], color ='teal', label ='train_loss')\n",
    "plt.plot(history.history['val_loss'], color ='red', label ='val_loss')\n",
    "fig.suptitle('Loss', fontsize =20)\n",
    "plt.legend(loc =\"upper left\")\n",
    "plt.show()"
   ]
  },
  {
   "cell_type": "code",
   "execution_count": 17,
   "metadata": {},
   "outputs": [
    {
     "data": {
      "image/png": "[encoded data removed]",
      "text/plain": [
       "<Figure size 640x480 with 1 Axes>"
      ]
     },
     "metadata": {},
     "output_type": "display_data"
    }
   ],
   "source": [
    "fig =plt.figure()\n",
    "plt.plot(history.history['accuracy'], color ='teal', label ='accuracy')\n",
    "plt.plot(history.history['val_accuracy'], color= 'orange', label = 'val_acc')\n",
    "fig.suptitle('Accuracy', fontsize =20)\n",
    "plt.legend(loc =\"upper left\")\n",
    "plt.show()"
   ]
  },
  {
   "cell_type": "markdown",
   "metadata": {},
   "source": [
    "# Evaluate on the test dataset"
   ]
  },
  {
   "cell_type": "code",
   "execution_count": 18,
   "metadata": {},
   "outputs": [
    {
     "name": "stdout",
     "output_type": "stream",
     "text": [
      "315/315 [==============================] - 3s 8ms/step\n",
      "Testing Duration : 5.6974038 s for a dataset length of 10068\n",
      "Testing Duration per data : 0.5658923122765197 ms\n"
     ]
    }
   ],
   "source": [
    "time_counter = time.time_ns()\n",
    "\n",
    "preds_labels =  model.predict(X_test)\n",
    "preds_labels = tf.math.argmax(preds_labels, axis=1)\n",
    "preds_labels = encoder.inverse_transform(preds_labels)\n",
    "\n",
    "\n",
    "testing_duration = (time.time_ns() - time_counter)/(10**9)\n",
    "print(f\"Testing Duration : {testing_duration} s for a dataset length of {len(preds_labels)}\")\n",
    "testing_duration_per_item = testing_duration*(10**3)/len(preds_labels)\n",
    "print(f\"Testing Duration per data : {testing_duration_per_item} ms\")"
   ]
  },
  {
   "cell_type": "code",
   "execution_count": 19,
   "metadata": {},
   "outputs": [
    {
     "name": "stdout",
     "output_type": "stream",
     "text": [
      "normalized confusion matrix\n"
     ]
    },
    {
     "data": {
      "image/png": "[encoded data removed]",
      "text/plain": [
       "<Figure size 600x600 with 2 Axes>"
      ]
     },
     "metadata": {},
     "output_type": "display_data"
    }
   ],
   "source": [
    "plot_confusion_matrix(y_test,preds_labels)"
   ]
  },
  {
   "cell_type": "code",
   "execution_count": 20,
   "metadata": {},
   "outputs": [
    {
     "data": {
      "text/plain": [
       "{'Accuracy': 0.7240585183959285,\n",
       " 'Precision': 0.89035760605455,\n",
       " 'Recall': 0.4469606674612634,\n",
       " 'F1_Score': 0.49629584571355023,\n",
       " 'support': None}"
      ]
     },
     "execution_count": 20,
     "metadata": {},
     "output_type": "execute_result"
    }
   ],
   "source": [
    "get_scores(y_test,preds_labels)"
   ]
  },
  {
   "cell_type": "code",
   "execution_count": null,
   "metadata": {
    "id": "EFq2EcH5b3DV"
   },
   "outputs": [],
   "source": []
  },
  {
   "cell_type": "code",
   "execution_count": null,
   "metadata": {},
   "outputs": [],
   "source": []
  },
  {
   "cell_type": "code",
   "execution_count": null,
   "metadata": {},
   "outputs": [],
   "source": []
  },
  {
   "cell_type": "code",
   "execution_count": null,
   "metadata": {},
   "outputs": [],
   "source": []
  },
  {
   "cell_type": "code",
   "execution_count": null,
   "metadata": {},
   "outputs": [],
   "source": []
  }
 ],
 "metadata": {
  "accelerator": "GPU",
  "colab": {
   "provenance": []
  },
  "gpuClass": "standard",
  "kernelspec": {
   "display_name": "Python 3 (ipykernel)",
   "language": "python",
   "name": "python3"
  },
  "language_info": {
   "codemirror_mode": {
    "name": "ipython",
    "version": 3
   },
   "file_extension": ".py",
   "mimetype": "text/x-python",
   "name": "python",
   "nbconvert_exporter": "python",
   "pygments_lexer": "ipython3",
   "version": "3.9.15"
  }
 },
 "nbformat": 4,
 "nbformat_minor": 1
}
