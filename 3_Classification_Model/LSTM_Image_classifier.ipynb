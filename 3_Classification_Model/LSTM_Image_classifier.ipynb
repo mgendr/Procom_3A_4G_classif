{
 "cells": [
  {
   "cell_type": "code",
   "execution_count": 1,
   "metadata": {
    "id": "id9oJkZOHQ4G"
   },
   "outputs": [],
   "source": [
    "import numpy as np\n",
    "import tensorflow as tf\n",
    "from tensorflow.keras.models import Sequential\n",
    "from tensorflow.keras.layers import LSTM, Dense\n",
    "from tensorflow.keras import datasets\n",
    "import matplotlib.pyplot as plt\n",
    "\n",
    "import os\n",
    "import pandas as pd\n",
    "import warnings\n",
    "import matplotlib.pyplot as plt\n",
    "import sklearn\n",
    "import numpy as np\n",
    "import seaborn as sns\n",
    "\n",
    "from tqdm import tqdm\n",
    "from random import randint\n",
    "from sklearn.model_selection import train_test_split\n",
    "from sklearn.utils.class_weight import compute_class_weight\n",
    "from sklearn.utils import class_weight\n",
    "import sys\n",
    "import itertools\n",
    "\n",
    "\n",
    "import time\n",
    "\n",
    "\n",
    "sys.path.append(\"../1_Format_donnees/\")\n",
    "sys.path.append(\"../\")\n",
    "from aggregation import load_and_preprocess_agg_window, Scaler_Metrics\n",
    "from evaluate import plot_confusion_matrix, get_scores"
   ]
  },
  {
   "cell_type": "code",
   "execution_count": 2,
   "metadata": {
    "id": "h3JJqexPXVum"
   },
   "outputs": [],
   "source": [
    "DEFAULT_LENGTH_Value = 60\n",
    "STEP = 5"
   ]
  },
  {
   "cell_type": "code",
   "execution_count": 3,
   "metadata": {
    "id": "5R3L_6p2XVxL"
   },
   "outputs": [
    {
     "name": "stdout",
     "output_type": "stream",
     "text": [
      "Load datasets...\n",
      "Extracting ../Mesures/train\\messenger20221117_125310.csv.... 1/39\n"
     ]
    },
    {
     "name": "stderr",
     "output_type": "stream",
     "text": [
      "100%|█████████████████████████████████████████████████████████████████████████████████| 15/15 [00:00<00:00, 129.86it/s]\n"
     ]
    },
    {
     "name": "stdout",
     "output_type": "stream",
     "text": [
      "Extracting ../Mesures/train\\messenger20221124_143112.csv.... 2/39\n"
     ]
    },
    {
     "name": "stderr",
     "output_type": "stream",
     "text": [
      "100%|██████████████████████████████████████████████████████████████████████████████████| 11/11 [00:00<00:00, 37.58it/s]\n"
     ]
    },
    {
     "name": "stdout",
     "output_type": "stream",
     "text": [
      "Extracting ../Mesures/train\\messenger20221125_130559.csv.... 3/39\n"
     ]
    },
    {
     "name": "stderr",
     "output_type": "stream",
     "text": [
      "100%|█████████████████████████████████████████████████████████████████████████████████| 38/38 [00:00<00:00, 109.21it/s]\n"
     ]
    },
    {
     "name": "stdout",
     "output_type": "stream",
     "text": [
      "Extracting ../Mesures/train\\messenger20221129_131204.csv.... 4/39\n"
     ]
    },
    {
     "name": "stderr",
     "output_type": "stream",
     "text": [
      "100%|██████████████████████████████████████████████████████████████████████████████████| 14/14 [00:01<00:00, 12.14it/s]\n"
     ]
    },
    {
     "name": "stdout",
     "output_type": "stream",
     "text": [
      "Extracting ../Mesures/train\\messenger20221129_151124.csv.... 5/39\n"
     ]
    },
    {
     "name": "stderr",
     "output_type": "stream",
     "text": [
      "100%|████████████████████████████████████████████████████████████████████████████████████| 5/5 [00:00<00:00,  6.47it/s]\n"
     ]
    },
    {
     "name": "stdout",
     "output_type": "stream",
     "text": [
      "Extracting ../Mesures/train\\messenger20230207_133921.csv.... 6/39\n"
     ]
    },
    {
     "name": "stderr",
     "output_type": "stream",
     "text": [
      "100%|████████████████████████████████████████████████████████████████████████████████████| 2/2 [00:00<00:00,  2.55it/s]\n"
     ]
    },
    {
     "name": "stdout",
     "output_type": "stream",
     "text": [
      "Extracting ../Mesures/train\\messenger20230209_083453.csv.... 7/39\n"
     ]
    },
    {
     "name": "stderr",
     "output_type": "stream",
     "text": [
      "100%|████████████████████████████████████████████████████████████████████████████████████| 5/5 [00:01<00:00,  4.63it/s]\n"
     ]
    },
    {
     "name": "stdout",
     "output_type": "stream",
     "text": [
      "Extracting ../Mesures/train\\pure_noise20230106_132210.csv.... 8/39\n"
     ]
    },
    {
     "name": "stderr",
     "output_type": "stream",
     "text": [
      "100%|██████████████████████████████████████████████████████████████████████████████| 805/805 [00:00<00:00, 1396.74it/s]\n"
     ]
    },
    {
     "name": "stdout",
     "output_type": "stream",
     "text": [
      "Extracting ../Mesures/train\\skype20221129_164105.csv.... 9/39\n"
     ]
    },
    {
     "name": "stderr",
     "output_type": "stream",
     "text": [
      "100%|████████████████████████████████████████████████████████████████████████████████████| 5/5 [00:00<00:00, 13.81it/s]\n"
     ]
    },
    {
     "name": "stdout",
     "output_type": "stream",
     "text": [
      "Extracting ../Mesures/train\\skype20221206_125510.csv.... 10/39\n"
     ]
    },
    {
     "name": "stderr",
     "output_type": "stream",
     "text": [
      "100%|██████████████████████████████████████████████████████████████████████████████████| 19/19 [00:00<00:00, 36.36it/s]\n"
     ]
    },
    {
     "name": "stdout",
     "output_type": "stream",
     "text": [
      "Extracting ../Mesures/train\\skype20221208_104403.csv.... 11/39\n"
     ]
    },
    {
     "name": "stderr",
     "output_type": "stream",
     "text": [
      "100%|████████████████████████████████████████████████████████████████████████████████████| 7/7 [00:01<00:00,  3.90it/s]\n"
     ]
    },
    {
     "name": "stdout",
     "output_type": "stream",
     "text": [
      "Extracting ../Mesures/train\\skype20221208_124925.csv.... 12/39\n"
     ]
    },
    {
     "name": "stderr",
     "output_type": "stream",
     "text": [
      "100%|████████████████████████████████████████████████████████████████████████████████████| 6/6 [00:02<00:00,  2.60it/s]\n"
     ]
    },
    {
     "name": "stdout",
     "output_type": "stream",
     "text": [
      "Extracting ../Mesures/train\\skype20221215_151512.csv.... 13/39\n"
     ]
    },
    {
     "name": "stderr",
     "output_type": "stream",
     "text": [
      "100%|██████████████████████████████████████████████████████████████████████████████████| 23/23 [00:00<00:00, 45.06it/s]\n"
     ]
    },
    {
     "name": "stdout",
     "output_type": "stream",
     "text": [
      "Extracting ../Mesures/train\\skype20221215_155618.csv.... 14/39\n"
     ]
    },
    {
     "name": "stderr",
     "output_type": "stream",
     "text": [
      "100%|██████████████████████████████████████████████████████████████████████████████████| 19/19 [00:00<00:00, 31.43it/s]\n"
     ]
    },
    {
     "name": "stdout",
     "output_type": "stream",
     "text": [
      "Extracting ../Mesures/train\\skype20221215_164208.csv.... 15/39\n"
     ]
    },
    {
     "name": "stderr",
     "output_type": "stream",
     "text": [
      "100%|████████████████████████████████████████████████████████████████████████████████████| 5/5 [00:00<00:00,  6.44it/s]\n"
     ]
    },
    {
     "name": "stdout",
     "output_type": "stream",
     "text": [
      "Extracting ../Mesures/train\\skype20221215_174819.csv.... 16/39\n"
     ]
    },
    {
     "name": "stderr",
     "output_type": "stream",
     "text": [
      "100%|████████████████████████████████████████████████████████████████████████████████████| 6/6 [00:00<00:00, 10.43it/s]\n"
     ]
    },
    {
     "name": "stdout",
     "output_type": "stream",
     "text": [
      "Extracting ../Mesures/train\\spotify20230201_092702.csv.... 17/39\n"
     ]
    },
    {
     "name": "stderr",
     "output_type": "stream",
     "text": [
      "100%|█████████████████████████████████████████████████████████████████████████████| 1750/1750 [00:02<00:00, 700.50it/s]\n"
     ]
    },
    {
     "name": "stdout",
     "output_type": "stream",
     "text": [
      "Extracting ../Mesures/train\\spotify20230203_165507.csv.... 18/39\n"
     ]
    },
    {
     "name": "stderr",
     "output_type": "stream",
     "text": [
      "100%|██████████████████████████████████████████████████████████████████████████████| 522/522 [00:00<00:00, 1447.03it/s]\n"
     ]
    },
    {
     "name": "stdout",
     "output_type": "stream",
     "text": [
      "Extracting ../Mesures/train\\spotify20230216_141318.csv.... 19/39\n"
     ]
    },
    {
     "name": "stderr",
     "output_type": "stream",
     "text": [
      "100%|██████████████████████████████████████████████████████████████████████████████| 364/364 [00:00<00:00, 1436.90it/s]\n"
     ]
    },
    {
     "name": "stdout",
     "output_type": "stream",
     "text": [
      "Extracting ../Mesures/train\\twitch20221117_113554.csv.... 20/39\n"
     ]
    },
    {
     "name": "stderr",
     "output_type": "stream",
     "text": [
      "100%|█████████████████████████████████████████████████████████████████████████████████| 24/24 [00:00<00:00, 114.54it/s]\n"
     ]
    },
    {
     "name": "stdout",
     "output_type": "stream",
     "text": [
      "Extracting ../Mesures/train\\twitch20221118_075454.csv.... 21/39\n"
     ]
    },
    {
     "name": "stderr",
     "output_type": "stream",
     "text": [
      "100%|██████████████████████████████████████████████████████████████████████████████████| 16/16 [00:00<00:00, 54.24it/s]\n"
     ]
    },
    {
     "name": "stdout",
     "output_type": "stream",
     "text": [
      "Extracting ../Mesures/train\\twitch20221125_133859.csv.... 22/39\n"
     ]
    },
    {
     "name": "stderr",
     "output_type": "stream",
     "text": [
      "100%|████████████████████████████████████████████████████████████████████████████████| 108/108 [00:01<00:00, 81.99it/s]\n"
     ]
    },
    {
     "name": "stdout",
     "output_type": "stream",
     "text": [
      "Extracting ../Mesures/train\\twitch20230110_110215.csv.... 23/39\n"
     ]
    },
    {
     "name": "stderr",
     "output_type": "stream",
     "text": [
      "100%|█████████████████████████████████████████████████████████████████████████████████| 22/22 [00:00<00:00, 112.79it/s]\n"
     ]
    },
    {
     "name": "stdout",
     "output_type": "stream",
     "text": [
      "Extracting ../Mesures/train\\twitch20230110_120513.csv.... 24/39\n"
     ]
    },
    {
     "name": "stderr",
     "output_type": "stream",
     "text": [
      "100%|█████████████████████████████████████████████████████████████████████████████████| 59/59 [00:00<00:00, 244.31it/s]\n"
     ]
    },
    {
     "name": "stdout",
     "output_type": "stream",
     "text": [
      "Extracting ../Mesures/train\\twitch20230110_130648.csv.... 25/39\n"
     ]
    },
    {
     "name": "stderr",
     "output_type": "stream",
     "text": [
      "100%|███████████████████████████████████████████████████████████████████████████████| 426/426 [00:00<00:00, 761.35it/s]\n"
     ]
    },
    {
     "name": "stdout",
     "output_type": "stream",
     "text": [
      "Extracting ../Mesures/train\\youtube20221108_165214.csv.... 26/39\n"
     ]
    },
    {
     "name": "stderr",
     "output_type": "stream",
     "text": [
      "100%|█████████████████████████████████████████████████████████████████████████████████| 11/11 [00:00<00:00, 611.57it/s]\n"
     ]
    },
    {
     "name": "stdout",
     "output_type": "stream",
     "text": [
      "Extracting ../Mesures/train\\youtube20221108_182416.csv.... 27/39\n"
     ]
    },
    {
     "name": "stderr",
     "output_type": "stream",
     "text": [
      "100%|███████████████████████████████████████████████████████████████████████████████████| 4/4 [00:00<00:00, 333.35it/s]\n"
     ]
    },
    {
     "name": "stdout",
     "output_type": "stream",
     "text": [
      "Extracting ../Mesures/train\\youtube20221124_125524.csv.... 28/39\n"
     ]
    },
    {
     "name": "stderr",
     "output_type": "stream",
     "text": [
      "100%|██████████████████████████████████████████████████████████████████████████████| 186/186 [00:00<00:00, 1258.71it/s]\n"
     ]
    },
    {
     "name": "stdout",
     "output_type": "stream",
     "text": [
      "Extracting ../Mesures/train\\youtube20221124_154037.csv.... 29/39\n"
     ]
    },
    {
     "name": "stderr",
     "output_type": "stream",
     "text": [
      "100%|████████████████████████████████████████████████████████████████████████████████| 92/92 [00:00<00:00, 1213.26it/s]\n"
     ]
    },
    {
     "name": "stdout",
     "output_type": "stream",
     "text": [
      "Extracting ../Mesures/train\\youtube20221130_103723.csv.... 30/39\n"
     ]
    },
    {
     "name": "stderr",
     "output_type": "stream",
     "text": [
      "100%|████████████████████████████████████████████████████████████████████████████████| 91/91 [00:00<00:00, 1073.02it/s]\n"
     ]
    },
    {
     "name": "stdout",
     "output_type": "stream",
     "text": [
      "Extracting ../Mesures/train\\youtube20230110_145404.csv.... 31/39\n"
     ]
    },
    {
     "name": "stderr",
     "output_type": "stream",
     "text": [
      "100%|████████████████████████████████████████████████████████████████████████████████| 94/94 [00:00<00:00, 1202.44it/s]\n"
     ]
    },
    {
     "name": "stdout",
     "output_type": "stream",
     "text": [
      "Extracting ../Mesures/train\\youtube20230110_161955.csv.... 32/39\n"
     ]
    },
    {
     "name": "stderr",
     "output_type": "stream",
     "text": [
      "100%|████████████████████████████████████████████████████████████████████████████████| 90/90 [00:00<00:00, 1119.84it/s]\n"
     ]
    },
    {
     "name": "stdout",
     "output_type": "stream",
     "text": [
      "Extracting ../Mesures/train\\youtube20230112_125508.csv.... 33/39\n"
     ]
    },
    {
     "name": "stderr",
     "output_type": "stream",
     "text": [
      "100%|███████████████████████████████████████████████████████████████████████████████| 108/108 [00:00<00:00, 688.86it/s]\n"
     ]
    },
    {
     "name": "stdout",
     "output_type": "stream",
     "text": [
      "Extracting ../Mesures/train\\youtube20230112_151029.csv.... 34/39\n"
     ]
    },
    {
     "name": "stderr",
     "output_type": "stream",
     "text": [
      "100%|█████████████████████████████████████████████████████████████████████████████████| 29/29 [00:00<00:00, 805.27it/s]\n"
     ]
    },
    {
     "name": "stdout",
     "output_type": "stream",
     "text": [
      "Extracting ../Mesures/train\\youtube20230112_154749.csv.... 35/39\n"
     ]
    },
    {
     "name": "stderr",
     "output_type": "stream",
     "text": [
      "100%|█████████████████████████████████████████████████████████████████████████████████| 32/32 [00:00<00:00, 668.44it/s]\n"
     ]
    },
    {
     "name": "stdout",
     "output_type": "stream",
     "text": [
      "Extracting ../Mesures/train\\youtube20230112_163634.csv.... 36/39\n"
     ]
    },
    {
     "name": "stderr",
     "output_type": "stream",
     "text": [
      "100%|█████████████████████████████████████████████████████████████████████████████████| 65/65 [00:00<00:00, 957.99it/s]\n"
     ]
    },
    {
     "name": "stdout",
     "output_type": "stream",
     "text": [
      "Extracting ../Mesures/train\\youtube20230117_095221.csv.... 37/39\n"
     ]
    },
    {
     "name": "stderr",
     "output_type": "stream",
     "text": [
      "100%|███████████████████████████████████████████████████████████████████████████████| 140/140 [00:00<00:00, 378.51it/s]\n"
     ]
    },
    {
     "name": "stdout",
     "output_type": "stream",
     "text": [
      "Extracting ../Mesures/train\\youtube20230118_134041.csv.... 38/39\n"
     ]
    },
    {
     "name": "stderr",
     "output_type": "stream",
     "text": [
      "100%|███████████████████████████████████████████████████████████████████████████████| 212/212 [00:00<00:00, 300.20it/s]\n"
     ]
    },
    {
     "name": "stdout",
     "output_type": "stream",
     "text": [
      "Extracting ../Mesures/train\\youtube20230124_124323.csv.... 39/39\n"
     ]
    },
    {
     "name": "stderr",
     "output_type": "stream",
     "text": [
      "100%|███████████████████████████████████████████████████████████████████████████████| 163/163 [00:00<00:00, 287.44it/s]\n"
     ]
    },
    {
     "name": "stdout",
     "output_type": "stream",
     "text": [
      "Reformat...\n"
     ]
    },
    {
     "name": "stderr",
     "output_type": "stream",
     "text": [
      "100%|█████████████████████████████████████████████████████████████████████████████| 5593/5593 [00:27<00:00, 204.08it/s]\n"
     ]
    },
    {
     "name": "stdout",
     "output_type": "stream",
     "text": [
      "Load datasets...\n",
      "Extracting ../Mesures/test\\messenger20221124_151137.csv.... 1/7\n"
     ]
    },
    {
     "name": "stderr",
     "output_type": "stream",
     "text": [
      "100%|████████████████████████████████████████████████████████████████████████████████████| 5/5 [00:00<00:00, 18.99it/s]\n"
     ]
    },
    {
     "name": "stdout",
     "output_type": "stream",
     "text": [
      "Extracting ../Mesures/test\\messenger20230208_132747.csv.... 2/7\n"
     ]
    },
    {
     "name": "stderr",
     "output_type": "stream",
     "text": [
      "100%|██████████████████████████████████████████████████████████████████████████████████| 27/27 [00:08<00:00,  3.33it/s]\n"
     ]
    },
    {
     "name": "stdout",
     "output_type": "stream",
     "text": [
      "Extracting ../Mesures/test\\skype20221206_150902.csv.... 3/7\n"
     ]
    },
    {
     "name": "stderr",
     "output_type": "stream",
     "text": [
      "100%|████████████████████████████████████████████████████████████████████████████████████| 3/3 [00:00<00:00,  3.20it/s]\n"
     ]
    },
    {
     "name": "stdout",
     "output_type": "stream",
     "text": [
      "Extracting ../Mesures/test\\spotify20230127_134348.csv.... 4/7\n"
     ]
    },
    {
     "name": "stderr",
     "output_type": "stream",
     "text": [
      "100%|███████████████████████████████████████████████████████████████████████████████| 240/240 [00:01<00:00, 172.83it/s]\n"
     ]
    },
    {
     "name": "stdout",
     "output_type": "stream",
     "text": [
      "Extracting ../Mesures/test\\twitch20221124_163054.csv.... 5/7\n"
     ]
    },
    {
     "name": "stderr",
     "output_type": "stream",
     "text": [
      "100%|██████████████████████████████████████████████████████████████████████████████████| 12/12 [00:00<00:00, 20.84it/s]\n"
     ]
    },
    {
     "name": "stdout",
     "output_type": "stream",
     "text": [
      "Extracting ../Mesures/test\\youtube20221118_104205.csv.... 6/7\n"
     ]
    },
    {
     "name": "stderr",
     "output_type": "stream",
     "text": [
      "100%|███████████████████████████████████████████████████████████████████████████████| 218/218 [00:00<00:00, 423.55it/s]\n"
     ]
    },
    {
     "name": "stdout",
     "output_type": "stream",
     "text": [
      "Extracting ../Mesures/test\\youtube20230117_121925.csv.... 7/7\n"
     ]
    },
    {
     "name": "stderr",
     "output_type": "stream",
     "text": [
      "100%|███████████████████████████████████████████████████████████████████████████████| 260/260 [00:00<00:00, 345.37it/s]\n"
     ]
    },
    {
     "name": "stdout",
     "output_type": "stream",
     "text": [
      "Reformat...\n"
     ]
    },
    {
     "name": "stderr",
     "output_type": "stream",
     "text": [
      "100%|████████████████████████████████████████████████████████████████████████████████| 765/765 [00:16<00:00, 46.40it/s]\n"
     ]
    },
    {
     "data": {
      "text/html": [
       "<div>\n",
       "<style scoped>\n",
       "    .dataframe tbody tr th:only-of-type {\n",
       "        vertical-align: middle;\n",
       "    }\n",
       "\n",
       "    .dataframe tbody tr th {\n",
       "        vertical-align: top;\n",
       "    }\n",
       "\n",
       "    .dataframe thead th {\n",
       "        text-align: right;\n",
       "    }\n",
       "</style>\n",
       "<table border=\"1\" class=\"dataframe\">\n",
       "  <thead>\n",
       "    <tr style=\"text-align: right;\">\n",
       "      <th></th>\n",
       "      <th>0</th>\n",
       "      <th>1</th>\n",
       "      <th>2</th>\n",
       "      <th>3</th>\n",
       "      <th>4</th>\n",
       "      <th>5</th>\n",
       "      <th>6</th>\n",
       "      <th>7</th>\n",
       "      <th>8</th>\n",
       "      <th>9</th>\n",
       "      <th>...</th>\n",
       "      <th>111</th>\n",
       "      <th>112</th>\n",
       "      <th>113</th>\n",
       "      <th>114</th>\n",
       "      <th>115</th>\n",
       "      <th>116</th>\n",
       "      <th>117</th>\n",
       "      <th>118</th>\n",
       "      <th>119</th>\n",
       "      <th>label</th>\n",
       "    </tr>\n",
       "  </thead>\n",
       "  <tbody>\n",
       "    <tr>\n",
       "      <th>20221124_151137_4_0</th>\n",
       "      <td>308.521739</td>\n",
       "      <td>687.88587</td>\n",
       "      <td>1067.25</td>\n",
       "      <td>1013.396825</td>\n",
       "      <td>1496.222222</td>\n",
       "      <td>713.52381</td>\n",
       "      <td>1561.5</td>\n",
       "      <td>899.897436</td>\n",
       "      <td>1168.0</td>\n",
       "      <td>972.756757</td>\n",
       "      <td>...</td>\n",
       "      <td>0.0</td>\n",
       "      <td>0.0</td>\n",
       "      <td>0.0</td>\n",
       "      <td>0.0</td>\n",
       "      <td>0.0</td>\n",
       "      <td>0.0</td>\n",
       "      <td>0.0</td>\n",
       "      <td>0.0</td>\n",
       "      <td>0.0</td>\n",
       "      <td>messenger</td>\n",
       "    </tr>\n",
       "    <tr>\n",
       "      <th>20221124_151137_4_5</th>\n",
       "      <td>713.52381</td>\n",
       "      <td>1561.5</td>\n",
       "      <td>899.897436</td>\n",
       "      <td>1168.0</td>\n",
       "      <td>972.756757</td>\n",
       "      <td>1713.333333</td>\n",
       "      <td>630.967742</td>\n",
       "      <td>874.037351</td>\n",
       "      <td>1117.106961</td>\n",
       "      <td>1360.17657</td>\n",
       "      <td>...</td>\n",
       "      <td>0.0</td>\n",
       "      <td>0.0</td>\n",
       "      <td>0.0</td>\n",
       "      <td>0.0</td>\n",
       "      <td>0.0</td>\n",
       "      <td>0.0</td>\n",
       "      <td>0.0</td>\n",
       "      <td>0.0</td>\n",
       "      <td>0.0</td>\n",
       "      <td>messenger</td>\n",
       "    </tr>\n",
       "    <tr>\n",
       "      <th>20221124_151137_4_10</th>\n",
       "      <td>1713.333333</td>\n",
       "      <td>630.967742</td>\n",
       "      <td>874.037351</td>\n",
       "      <td>1117.106961</td>\n",
       "      <td>1360.17657</td>\n",
       "      <td>1603.24618</td>\n",
       "      <td>1846.315789</td>\n",
       "      <td>696.0</td>\n",
       "      <td>638.2</td>\n",
       "      <td>580.4</td>\n",
       "      <td>...</td>\n",
       "      <td>0.0</td>\n",
       "      <td>0.0</td>\n",
       "      <td>0.0</td>\n",
       "      <td>0.0</td>\n",
       "      <td>0.0</td>\n",
       "      <td>0.0</td>\n",
       "      <td>0.0</td>\n",
       "      <td>0.0</td>\n",
       "      <td>0.0</td>\n",
       "      <td>messenger</td>\n",
       "    </tr>\n",
       "    <tr>\n",
       "      <th>20221124_151137_4_15</th>\n",
       "      <td>1603.24618</td>\n",
       "      <td>1846.315789</td>\n",
       "      <td>696.0</td>\n",
       "      <td>638.2</td>\n",
       "      <td>580.4</td>\n",
       "      <td>439.466667</td>\n",
       "      <td>556.0</td>\n",
       "      <td>1007.304348</td>\n",
       "      <td>965.653333</td>\n",
       "      <td>1316.5</td>\n",
       "      <td>...</td>\n",
       "      <td>0.0</td>\n",
       "      <td>0.0</td>\n",
       "      <td>0.0</td>\n",
       "      <td>0.0</td>\n",
       "      <td>0.0</td>\n",
       "      <td>0.0</td>\n",
       "      <td>0.0</td>\n",
       "      <td>0.0</td>\n",
       "      <td>0.0</td>\n",
       "      <td>messenger</td>\n",
       "    </tr>\n",
       "    <tr>\n",
       "      <th>20221124_151137_4_20</th>\n",
       "      <td>439.466667</td>\n",
       "      <td>556.0</td>\n",
       "      <td>1007.304348</td>\n",
       "      <td>965.653333</td>\n",
       "      <td>1316.5</td>\n",
       "      <td>1177.333333</td>\n",
       "      <td>1649.066667</td>\n",
       "      <td>1245.666667</td>\n",
       "      <td>1168.238596</td>\n",
       "      <td>1090.810526</td>\n",
       "      <td>...</td>\n",
       "      <td>0.0</td>\n",
       "      <td>0.0</td>\n",
       "      <td>0.0</td>\n",
       "      <td>0.0</td>\n",
       "      <td>0.0</td>\n",
       "      <td>0.0</td>\n",
       "      <td>0.0</td>\n",
       "      <td>0.0</td>\n",
       "      <td>0.0</td>\n",
       "      <td>messenger</td>\n",
       "    </tr>\n",
       "    <tr>\n",
       "      <th>...</th>\n",
       "      <td>...</td>\n",
       "      <td>...</td>\n",
       "      <td>...</td>\n",
       "      <td>...</td>\n",
       "      <td>...</td>\n",
       "      <td>...</td>\n",
       "      <td>...</td>\n",
       "      <td>...</td>\n",
       "      <td>...</td>\n",
       "      <td>...</td>\n",
       "      <td>...</td>\n",
       "      <td>...</td>\n",
       "      <td>...</td>\n",
       "      <td>...</td>\n",
       "      <td>...</td>\n",
       "      <td>...</td>\n",
       "      <td>...</td>\n",
       "      <td>...</td>\n",
       "      <td>...</td>\n",
       "      <td>...</td>\n",
       "      <td>...</td>\n",
       "    </tr>\n",
       "    <tr>\n",
       "      <th>20230117_121925_263_25</th>\n",
       "      <td>2166.358632</td>\n",
       "      <td>2026.580239</td>\n",
       "      <td>1886.801846</td>\n",
       "      <td>1747.023453</td>\n",
       "      <td>1607.24506</td>\n",
       "      <td>1467.466667</td>\n",
       "      <td>913.959748</td>\n",
       "      <td>360.45283</td>\n",
       "      <td>348.902516</td>\n",
       "      <td>337.352201</td>\n",
       "      <td>...</td>\n",
       "      <td>0.0</td>\n",
       "      <td>0.0</td>\n",
       "      <td>0.0</td>\n",
       "      <td>0.0</td>\n",
       "      <td>0.0</td>\n",
       "      <td>0.0</td>\n",
       "      <td>0.0</td>\n",
       "      <td>0.0</td>\n",
       "      <td>0.0</td>\n",
       "      <td>youtube</td>\n",
       "    </tr>\n",
       "    <tr>\n",
       "      <th>20230117_121925_263_30</th>\n",
       "      <td>1467.466667</td>\n",
       "      <td>913.959748</td>\n",
       "      <td>360.45283</td>\n",
       "      <td>348.902516</td>\n",
       "      <td>337.352201</td>\n",
       "      <td>325.801887</td>\n",
       "      <td>314.251572</td>\n",
       "      <td>302.701258</td>\n",
       "      <td>291.150943</td>\n",
       "      <td>279.600629</td>\n",
       "      <td>...</td>\n",
       "      <td>0.0</td>\n",
       "      <td>0.0</td>\n",
       "      <td>0.0</td>\n",
       "      <td>0.0</td>\n",
       "      <td>0.0</td>\n",
       "      <td>0.0</td>\n",
       "      <td>0.0</td>\n",
       "      <td>0.0</td>\n",
       "      <td>0.0</td>\n",
       "      <td>youtube</td>\n",
       "    </tr>\n",
       "    <tr>\n",
       "      <th>20230117_121925_263_35</th>\n",
       "      <td>325.801887</td>\n",
       "      <td>314.251572</td>\n",
       "      <td>302.701258</td>\n",
       "      <td>291.150943</td>\n",
       "      <td>279.600629</td>\n",
       "      <td>268.050314</td>\n",
       "      <td>256.5</td>\n",
       "      <td>252.8</td>\n",
       "      <td>355.158974</td>\n",
       "      <td>457.517949</td>\n",
       "      <td>...</td>\n",
       "      <td>0.0</td>\n",
       "      <td>0.0</td>\n",
       "      <td>0.0</td>\n",
       "      <td>0.0</td>\n",
       "      <td>0.0</td>\n",
       "      <td>0.0</td>\n",
       "      <td>0.0</td>\n",
       "      <td>0.0</td>\n",
       "      <td>0.0</td>\n",
       "      <td>youtube</td>\n",
       "    </tr>\n",
       "    <tr>\n",
       "      <th>20230117_121925_263_40</th>\n",
       "      <td>268.050314</td>\n",
       "      <td>256.5</td>\n",
       "      <td>252.8</td>\n",
       "      <td>355.158974</td>\n",
       "      <td>457.517949</td>\n",
       "      <td>559.876923</td>\n",
       "      <td>662.235897</td>\n",
       "      <td>764.594872</td>\n",
       "      <td>866.953846</td>\n",
       "      <td>969.312821</td>\n",
       "      <td>...</td>\n",
       "      <td>0.0</td>\n",
       "      <td>0.0</td>\n",
       "      <td>0.0</td>\n",
       "      <td>0.0</td>\n",
       "      <td>0.0</td>\n",
       "      <td>0.0</td>\n",
       "      <td>0.0</td>\n",
       "      <td>0.0</td>\n",
       "      <td>0.0</td>\n",
       "      <td>youtube</td>\n",
       "    </tr>\n",
       "    <tr>\n",
       "      <th>20230117_121925_263_45</th>\n",
       "      <td>559.876923</td>\n",
       "      <td>662.235897</td>\n",
       "      <td>764.594872</td>\n",
       "      <td>866.953846</td>\n",
       "      <td>969.312821</td>\n",
       "      <td>1071.671795</td>\n",
       "      <td>1174.030769</td>\n",
       "      <td>1003.989744</td>\n",
       "      <td>833.948718</td>\n",
       "      <td>663.907692</td>\n",
       "      <td>...</td>\n",
       "      <td>0.0</td>\n",
       "      <td>0.0</td>\n",
       "      <td>0.0</td>\n",
       "      <td>0.0</td>\n",
       "      <td>0.0</td>\n",
       "      <td>0.0</td>\n",
       "      <td>0.0</td>\n",
       "      <td>0.0</td>\n",
       "      <td>0.0</td>\n",
       "      <td>youtube</td>\n",
       "    </tr>\n",
       "  </tbody>\n",
       "</table>\n",
       "<p>30004 rows × 121 columns</p>\n",
       "</div>"
      ],
      "text/plain": [
       "                                  0            1            2            3  \\\n",
       "20221124_151137_4_0      308.521739    687.88587      1067.25  1013.396825   \n",
       "20221124_151137_4_5       713.52381       1561.5   899.897436       1168.0   \n",
       "20221124_151137_4_10    1713.333333   630.967742   874.037351  1117.106961   \n",
       "20221124_151137_4_15     1603.24618  1846.315789        696.0        638.2   \n",
       "20221124_151137_4_20     439.466667        556.0  1007.304348   965.653333   \n",
       "...                             ...          ...          ...          ...   \n",
       "20230117_121925_263_25  2166.358632  2026.580239  1886.801846  1747.023453   \n",
       "20230117_121925_263_30  1467.466667   913.959748    360.45283   348.902516   \n",
       "20230117_121925_263_35   325.801887   314.251572   302.701258   291.150943   \n",
       "20230117_121925_263_40   268.050314        256.5        252.8   355.158974   \n",
       "20230117_121925_263_45   559.876923   662.235897   764.594872   866.953846   \n",
       "\n",
       "                                  4            5            6            7  \\\n",
       "20221124_151137_4_0     1496.222222    713.52381       1561.5   899.897436   \n",
       "20221124_151137_4_5      972.756757  1713.333333   630.967742   874.037351   \n",
       "20221124_151137_4_10     1360.17657   1603.24618  1846.315789        696.0   \n",
       "20221124_151137_4_15          580.4   439.466667        556.0  1007.304348   \n",
       "20221124_151137_4_20         1316.5  1177.333333  1649.066667  1245.666667   \n",
       "...                             ...          ...          ...          ...   \n",
       "20230117_121925_263_25   1607.24506  1467.466667   913.959748    360.45283   \n",
       "20230117_121925_263_30   337.352201   325.801887   314.251572   302.701258   \n",
       "20230117_121925_263_35   279.600629   268.050314        256.5        252.8   \n",
       "20230117_121925_263_40   457.517949   559.876923   662.235897   764.594872   \n",
       "20230117_121925_263_45   969.312821  1071.671795  1174.030769  1003.989744   \n",
       "\n",
       "                                  8            9  ...  111  112  113  114  \\\n",
       "20221124_151137_4_0          1168.0   972.756757  ...  0.0  0.0  0.0  0.0   \n",
       "20221124_151137_4_5     1117.106961   1360.17657  ...  0.0  0.0  0.0  0.0   \n",
       "20221124_151137_4_10          638.2        580.4  ...  0.0  0.0  0.0  0.0   \n",
       "20221124_151137_4_15     965.653333       1316.5  ...  0.0  0.0  0.0  0.0   \n",
       "20221124_151137_4_20    1168.238596  1090.810526  ...  0.0  0.0  0.0  0.0   \n",
       "...                             ...          ...  ...  ...  ...  ...  ...   \n",
       "20230117_121925_263_25   348.902516   337.352201  ...  0.0  0.0  0.0  0.0   \n",
       "20230117_121925_263_30   291.150943   279.600629  ...  0.0  0.0  0.0  0.0   \n",
       "20230117_121925_263_35   355.158974   457.517949  ...  0.0  0.0  0.0  0.0   \n",
       "20230117_121925_263_40   866.953846   969.312821  ...  0.0  0.0  0.0  0.0   \n",
       "20230117_121925_263_45   833.948718   663.907692  ...  0.0  0.0  0.0  0.0   \n",
       "\n",
       "                        115  116  117  118  119      label  \n",
       "20221124_151137_4_0     0.0  0.0  0.0  0.0  0.0  messenger  \n",
       "20221124_151137_4_5     0.0  0.0  0.0  0.0  0.0  messenger  \n",
       "20221124_151137_4_10    0.0  0.0  0.0  0.0  0.0  messenger  \n",
       "20221124_151137_4_15    0.0  0.0  0.0  0.0  0.0  messenger  \n",
       "20221124_151137_4_20    0.0  0.0  0.0  0.0  0.0  messenger  \n",
       "...                     ...  ...  ...  ...  ...        ...  \n",
       "20230117_121925_263_25  0.0  0.0  0.0  0.0  0.0    youtube  \n",
       "20230117_121925_263_30  0.0  0.0  0.0  0.0  0.0    youtube  \n",
       "20230117_121925_263_35  0.0  0.0  0.0  0.0  0.0    youtube  \n",
       "20230117_121925_263_40  0.0  0.0  0.0  0.0  0.0    youtube  \n",
       "20230117_121925_263_45  0.0  0.0  0.0  0.0  0.0    youtube  \n",
       "\n",
       "[30004 rows x 121 columns]"
      ]
     },
     "execution_count": 3,
     "metadata": {},
     "output_type": "execute_result"
    }
   ],
   "source": [
    "df_train = load_and_preprocess_agg_window(\"../Mesures/train\", length_value = DEFAULT_LENGTH_Value, step = STEP)\n",
    "\n",
    "df_test = load_and_preprocess_agg_window(\"../Mesures/test\", length_value = DEFAULT_LENGTH_Value, step = STEP)\n",
    "df_test\n"
   ]
  },
  {
   "cell_type": "markdown",
   "metadata": {
    "colab": {
     "base_uri": "https://localhost:8080/",
     "height": 1000
    },
    "id": "lG-KXJyWXVz1",
    "outputId": "b6fedb16-ed7f-41e8-966a-5650b5013bf6"
   },
   "source": [
    "# Noise"
   ]
  },
  {
   "cell_type": "code",
   "execution_count": 4,
   "metadata": {
    "id": "XZzpASLkXV3R"
   },
   "outputs": [],
   "source": [
    "df_train=df_train[df_train.label!=\"noise\"]\n",
    "df_test = df_test[df_test.label!=\"noise\"]"
   ]
  },
  {
   "cell_type": "markdown",
   "metadata": {},
   "source": [
    "# Scale"
   ]
  },
  {
   "cell_type": "code",
   "execution_count": 5,
   "metadata": {},
   "outputs": [
    {
     "data": {
      "text/html": [
       "<div>\n",
       "<style scoped>\n",
       "    .dataframe tbody tr th:only-of-type {\n",
       "        vertical-align: middle;\n",
       "    }\n",
       "\n",
       "    .dataframe tbody tr th {\n",
       "        vertical-align: top;\n",
       "    }\n",
       "\n",
       "    .dataframe thead th {\n",
       "        text-align: right;\n",
       "    }\n",
       "</style>\n",
       "<table border=\"1\" class=\"dataframe\">\n",
       "  <thead>\n",
       "    <tr style=\"text-align: right;\">\n",
       "      <th></th>\n",
       "      <th>0</th>\n",
       "      <th>1</th>\n",
       "      <th>2</th>\n",
       "      <th>3</th>\n",
       "      <th>4</th>\n",
       "      <th>5</th>\n",
       "      <th>6</th>\n",
       "      <th>7</th>\n",
       "      <th>8</th>\n",
       "      <th>9</th>\n",
       "      <th>...</th>\n",
       "      <th>111</th>\n",
       "      <th>112</th>\n",
       "      <th>113</th>\n",
       "      <th>114</th>\n",
       "      <th>115</th>\n",
       "      <th>116</th>\n",
       "      <th>117</th>\n",
       "      <th>118</th>\n",
       "      <th>119</th>\n",
       "      <th>label</th>\n",
       "    </tr>\n",
       "    <tr>\n",
       "      <th>id</th>\n",
       "      <th></th>\n",
       "      <th></th>\n",
       "      <th></th>\n",
       "      <th></th>\n",
       "      <th></th>\n",
       "      <th></th>\n",
       "      <th></th>\n",
       "      <th></th>\n",
       "      <th></th>\n",
       "      <th></th>\n",
       "      <th></th>\n",
       "      <th></th>\n",
       "      <th></th>\n",
       "      <th></th>\n",
       "      <th></th>\n",
       "      <th></th>\n",
       "      <th></th>\n",
       "      <th></th>\n",
       "      <th></th>\n",
       "      <th></th>\n",
       "      <th></th>\n",
       "    </tr>\n",
       "  </thead>\n",
       "  <tbody>\n",
       "    <tr>\n",
       "      <th>20221117_125310_4_0</th>\n",
       "      <td>-1.738537</td>\n",
       "      <td>-1.319589</td>\n",
       "      <td>-0.900688</td>\n",
       "      <td>-1.096900</td>\n",
       "      <td>-0.894206</td>\n",
       "      <td>-1.047165</td>\n",
       "      <td>-1.787754</td>\n",
       "      <td>-1.711869</td>\n",
       "      <td>-1.661193</td>\n",
       "      <td>-1.612499</td>\n",
       "      <td>...</td>\n",
       "      <td>-0.033654</td>\n",
       "      <td>-0.033735</td>\n",
       "      <td>-0.033648</td>\n",
       "      <td>-0.033676</td>\n",
       "      <td>-0.034741</td>\n",
       "      <td>-0.034092</td>\n",
       "      <td>-0.034146</td>\n",
       "      <td>-0.034055</td>\n",
       "      <td>-0.03402</td>\n",
       "      <td>messenger</td>\n",
       "    </tr>\n",
       "    <tr>\n",
       "      <th>20221117_125310_4_5</th>\n",
       "      <td>-1.040544</td>\n",
       "      <td>-1.780435</td>\n",
       "      <td>-1.710778</td>\n",
       "      <td>-1.659439</td>\n",
       "      <td>-1.613632</td>\n",
       "      <td>-1.517297</td>\n",
       "      <td>-1.448041</td>\n",
       "      <td>-1.373629</td>\n",
       "      <td>-1.319389</td>\n",
       "      <td>-1.265797</td>\n",
       "      <td>...</td>\n",
       "      <td>-0.033654</td>\n",
       "      <td>-0.033735</td>\n",
       "      <td>-0.033648</td>\n",
       "      <td>-0.033676</td>\n",
       "      <td>-0.034741</td>\n",
       "      <td>-0.034092</td>\n",
       "      <td>-0.034146</td>\n",
       "      <td>-0.034055</td>\n",
       "      <td>-0.03402</td>\n",
       "      <td>messenger</td>\n",
       "    </tr>\n",
       "    <tr>\n",
       "      <th>20221117_125310_4_10</th>\n",
       "      <td>-1.509698</td>\n",
       "      <td>-1.441880</td>\n",
       "      <td>-1.372560</td>\n",
       "      <td>-1.317847</td>\n",
       "      <td>-1.266399</td>\n",
       "      <td>-1.372228</td>\n",
       "      <td>-1.498598</td>\n",
       "      <td>-1.618255</td>\n",
       "      <td>-1.762929</td>\n",
       "      <td>-1.821000</td>\n",
       "      <td>...</td>\n",
       "      <td>-0.033654</td>\n",
       "      <td>-0.033735</td>\n",
       "      <td>-0.033648</td>\n",
       "      <td>-0.033676</td>\n",
       "      <td>-0.034741</td>\n",
       "      <td>-0.034092</td>\n",
       "      <td>-0.034146</td>\n",
       "      <td>-0.034055</td>\n",
       "      <td>-0.03402</td>\n",
       "      <td>messenger</td>\n",
       "    </tr>\n",
       "    <tr>\n",
       "      <th>20221117_125310_4_15</th>\n",
       "      <td>-1.364931</td>\n",
       "      <td>-1.492264</td>\n",
       "      <td>-1.617170</td>\n",
       "      <td>-1.761111</td>\n",
       "      <td>-1.822452</td>\n",
       "      <td>-1.747445</td>\n",
       "      <td>-1.706428</td>\n",
       "      <td>-1.659787</td>\n",
       "      <td>-1.637759</td>\n",
       "      <td>-1.618343</td>\n",
       "      <td>...</td>\n",
       "      <td>-0.033654</td>\n",
       "      <td>-0.033735</td>\n",
       "      <td>-0.033648</td>\n",
       "      <td>-0.033676</td>\n",
       "      <td>-0.034741</td>\n",
       "      <td>-0.034092</td>\n",
       "      <td>-0.034146</td>\n",
       "      <td>-0.034055</td>\n",
       "      <td>-0.03402</td>\n",
       "      <td>messenger</td>\n",
       "    </tr>\n",
       "    <tr>\n",
       "      <th>20221117_125310_4_20</th>\n",
       "      <td>-1.739368</td>\n",
       "      <td>-1.699386</td>\n",
       "      <td>-1.658700</td>\n",
       "      <td>-1.636019</td>\n",
       "      <td>-1.619486</td>\n",
       "      <td>-1.552160</td>\n",
       "      <td>-1.511803</td>\n",
       "      <td>-1.466006</td>\n",
       "      <td>-1.441936</td>\n",
       "      <td>-1.419714</td>\n",
       "      <td>...</td>\n",
       "      <td>-0.033654</td>\n",
       "      <td>-0.033735</td>\n",
       "      <td>-0.033648</td>\n",
       "      <td>-0.033676</td>\n",
       "      <td>-0.034741</td>\n",
       "      <td>-0.034092</td>\n",
       "      <td>-0.034146</td>\n",
       "      <td>-0.034055</td>\n",
       "      <td>-0.03402</td>\n",
       "      <td>messenger</td>\n",
       "    </tr>\n",
       "    <tr>\n",
       "      <th>...</th>\n",
       "      <td>...</td>\n",
       "      <td>...</td>\n",
       "      <td>...</td>\n",
       "      <td>...</td>\n",
       "      <td>...</td>\n",
       "      <td>...</td>\n",
       "      <td>...</td>\n",
       "      <td>...</td>\n",
       "      <td>...</td>\n",
       "      <td>...</td>\n",
       "      <td>...</td>\n",
       "      <td>...</td>\n",
       "      <td>...</td>\n",
       "      <td>...</td>\n",
       "      <td>...</td>\n",
       "      <td>...</td>\n",
       "      <td>...</td>\n",
       "      <td>...</td>\n",
       "      <td>...</td>\n",
       "      <td>...</td>\n",
       "      <td>...</td>\n",
       "    </tr>\n",
       "    <tr>\n",
       "      <th>20230124_124323_166_25</th>\n",
       "      <td>-1.550007</td>\n",
       "      <td>-1.584260</td>\n",
       "      <td>-1.616959</td>\n",
       "      <td>-1.667863</td>\n",
       "      <td>-1.727078</td>\n",
       "      <td>-1.731623</td>\n",
       "      <td>-0.237341</td>\n",
       "      <td>-0.259732</td>\n",
       "      <td>-0.286273</td>\n",
       "      <td>-0.311722</td>\n",
       "      <td>...</td>\n",
       "      <td>-0.033654</td>\n",
       "      <td>-0.033735</td>\n",
       "      <td>-0.033648</td>\n",
       "      <td>-0.033676</td>\n",
       "      <td>-0.034741</td>\n",
       "      <td>-0.034092</td>\n",
       "      <td>-0.034146</td>\n",
       "      <td>-0.034055</td>\n",
       "      <td>-0.03402</td>\n",
       "      <td>youtube</td>\n",
       "    </tr>\n",
       "    <tr>\n",
       "      <th>20230124_124323_166_30</th>\n",
       "      <td>-1.723578</td>\n",
       "      <td>-0.235305</td>\n",
       "      <td>-0.258735</td>\n",
       "      <td>-0.285372</td>\n",
       "      <td>-0.310865</td>\n",
       "      <td>-0.330681</td>\n",
       "      <td>-0.357394</td>\n",
       "      <td>-0.686090</td>\n",
       "      <td>-1.027184</td>\n",
       "      <td>-1.377753</td>\n",
       "      <td>...</td>\n",
       "      <td>-0.033654</td>\n",
       "      <td>-0.033735</td>\n",
       "      <td>-0.033648</td>\n",
       "      <td>-0.033676</td>\n",
       "      <td>-0.034741</td>\n",
       "      <td>-0.034092</td>\n",
       "      <td>-0.034146</td>\n",
       "      <td>-0.034055</td>\n",
       "      <td>-0.03402</td>\n",
       "      <td>youtube</td>\n",
       "    </tr>\n",
       "    <tr>\n",
       "      <th>20230124_124323_166_35</th>\n",
       "      <td>-0.325550</td>\n",
       "      <td>-0.354949</td>\n",
       "      <td>-0.685066</td>\n",
       "      <td>-1.025824</td>\n",
       "      <td>-1.378527</td>\n",
       "      <td>-1.113211</td>\n",
       "      <td>-1.728878</td>\n",
       "      <td>-1.239867</td>\n",
       "      <td>-0.766480</td>\n",
       "      <td>-0.912087</td>\n",
       "      <td>...</td>\n",
       "      <td>-0.033654</td>\n",
       "      <td>-0.033735</td>\n",
       "      <td>-0.033648</td>\n",
       "      <td>-0.033676</td>\n",
       "      <td>-0.034741</td>\n",
       "      <td>-0.034092</td>\n",
       "      <td>-0.034146</td>\n",
       "      <td>-0.034055</td>\n",
       "      <td>-0.03402</td>\n",
       "      <td>youtube</td>\n",
       "    </tr>\n",
       "    <tr>\n",
       "      <th>20230124_124323_166_40</th>\n",
       "      <td>-1.106452</td>\n",
       "      <td>-1.721759</td>\n",
       "      <td>-1.238807</td>\n",
       "      <td>-0.765281</td>\n",
       "      <td>-0.912148</td>\n",
       "      <td>-1.032309</td>\n",
       "      <td>-1.167640</td>\n",
       "      <td>-1.296508</td>\n",
       "      <td>-1.445651</td>\n",
       "      <td>-1.600989</td>\n",
       "      <td>...</td>\n",
       "      <td>-0.033654</td>\n",
       "      <td>-0.033735</td>\n",
       "      <td>-0.033648</td>\n",
       "      <td>-0.033676</td>\n",
       "      <td>-0.034741</td>\n",
       "      <td>-0.034092</td>\n",
       "      <td>-0.034146</td>\n",
       "      <td>-0.034055</td>\n",
       "      <td>-0.03402</td>\n",
       "      <td>youtube</td>\n",
       "    </tr>\n",
       "    <tr>\n",
       "      <th>20230124_124323_166_45</th>\n",
       "      <td>-1.025719</td>\n",
       "      <td>-1.162434</td>\n",
       "      <td>-1.295445</td>\n",
       "      <td>-1.444030</td>\n",
       "      <td>-1.602105</td>\n",
       "      <td>-1.472089</td>\n",
       "      <td>-1.453945</td>\n",
       "      <td>-1.430244</td>\n",
       "      <td>-1.427874</td>\n",
       "      <td>-1.471697</td>\n",
       "      <td>...</td>\n",
       "      <td>-0.033654</td>\n",
       "      <td>-0.033735</td>\n",
       "      <td>-0.033648</td>\n",
       "      <td>-0.033676</td>\n",
       "      <td>-0.034741</td>\n",
       "      <td>-0.034092</td>\n",
       "      <td>-0.034146</td>\n",
       "      <td>-0.034055</td>\n",
       "      <td>-0.03402</td>\n",
       "      <td>youtube</td>\n",
       "    </tr>\n",
       "  </tbody>\n",
       "</table>\n",
       "<p>70046 rows × 121 columns</p>\n",
       "</div>"
      ],
      "text/plain": [
       "                               0         1         2         3         4  \\\n",
       "id                                                                         \n",
       "20221117_125310_4_0    -1.738537 -1.319589 -0.900688 -1.096900 -0.894206   \n",
       "20221117_125310_4_5    -1.040544 -1.780435 -1.710778 -1.659439 -1.613632   \n",
       "20221117_125310_4_10   -1.509698 -1.441880 -1.372560 -1.317847 -1.266399   \n",
       "20221117_125310_4_15   -1.364931 -1.492264 -1.617170 -1.761111 -1.822452   \n",
       "20221117_125310_4_20   -1.739368 -1.699386 -1.658700 -1.636019 -1.619486   \n",
       "...                          ...       ...       ...       ...       ...   \n",
       "20230124_124323_166_25 -1.550007 -1.584260 -1.616959 -1.667863 -1.727078   \n",
       "20230124_124323_166_30 -1.723578 -0.235305 -0.258735 -0.285372 -0.310865   \n",
       "20230124_124323_166_35 -0.325550 -0.354949 -0.685066 -1.025824 -1.378527   \n",
       "20230124_124323_166_40 -1.106452 -1.721759 -1.238807 -0.765281 -0.912148   \n",
       "20230124_124323_166_45 -1.025719 -1.162434 -1.295445 -1.444030 -1.602105   \n",
       "\n",
       "                               5         6         7         8         9  ...  \\\n",
       "id                                                                        ...   \n",
       "20221117_125310_4_0    -1.047165 -1.787754 -1.711869 -1.661193 -1.612499  ...   \n",
       "20221117_125310_4_5    -1.517297 -1.448041 -1.373629 -1.319389 -1.265797  ...   \n",
       "20221117_125310_4_10   -1.372228 -1.498598 -1.618255 -1.762929 -1.821000  ...   \n",
       "20221117_125310_4_15   -1.747445 -1.706428 -1.659787 -1.637759 -1.618343  ...   \n",
       "20221117_125310_4_20   -1.552160 -1.511803 -1.466006 -1.441936 -1.419714  ...   \n",
       "...                          ...       ...       ...       ...       ...  ...   \n",
       "20230124_124323_166_25 -1.731623 -0.237341 -0.259732 -0.286273 -0.311722  ...   \n",
       "20230124_124323_166_30 -0.330681 -0.357394 -0.686090 -1.027184 -1.377753  ...   \n",
       "20230124_124323_166_35 -1.113211 -1.728878 -1.239867 -0.766480 -0.912087  ...   \n",
       "20230124_124323_166_40 -1.032309 -1.167640 -1.296508 -1.445651 -1.600989  ...   \n",
       "20230124_124323_166_45 -1.472089 -1.453945 -1.430244 -1.427874 -1.471697  ...   \n",
       "\n",
       "                             111       112       113       114       115  \\\n",
       "id                                                                         \n",
       "20221117_125310_4_0    -0.033654 -0.033735 -0.033648 -0.033676 -0.034741   \n",
       "20221117_125310_4_5    -0.033654 -0.033735 -0.033648 -0.033676 -0.034741   \n",
       "20221117_125310_4_10   -0.033654 -0.033735 -0.033648 -0.033676 -0.034741   \n",
       "20221117_125310_4_15   -0.033654 -0.033735 -0.033648 -0.033676 -0.034741   \n",
       "20221117_125310_4_20   -0.033654 -0.033735 -0.033648 -0.033676 -0.034741   \n",
       "...                          ...       ...       ...       ...       ...   \n",
       "20230124_124323_166_25 -0.033654 -0.033735 -0.033648 -0.033676 -0.034741   \n",
       "20230124_124323_166_30 -0.033654 -0.033735 -0.033648 -0.033676 -0.034741   \n",
       "20230124_124323_166_35 -0.033654 -0.033735 -0.033648 -0.033676 -0.034741   \n",
       "20230124_124323_166_40 -0.033654 -0.033735 -0.033648 -0.033676 -0.034741   \n",
       "20230124_124323_166_45 -0.033654 -0.033735 -0.033648 -0.033676 -0.034741   \n",
       "\n",
       "                             116       117       118      119      label  \n",
       "id                                                                        \n",
       "20221117_125310_4_0    -0.034092 -0.034146 -0.034055 -0.03402  messenger  \n",
       "20221117_125310_4_5    -0.034092 -0.034146 -0.034055 -0.03402  messenger  \n",
       "20221117_125310_4_10   -0.034092 -0.034146 -0.034055 -0.03402  messenger  \n",
       "20221117_125310_4_15   -0.034092 -0.034146 -0.034055 -0.03402  messenger  \n",
       "20221117_125310_4_20   -0.034092 -0.034146 -0.034055 -0.03402  messenger  \n",
       "...                          ...       ...       ...      ...        ...  \n",
       "20230124_124323_166_25 -0.034092 -0.034146 -0.034055 -0.03402    youtube  \n",
       "20230124_124323_166_30 -0.034092 -0.034146 -0.034055 -0.03402    youtube  \n",
       "20230124_124323_166_35 -0.034092 -0.034146 -0.034055 -0.03402    youtube  \n",
       "20230124_124323_166_40 -0.034092 -0.034146 -0.034055 -0.03402    youtube  \n",
       "20230124_124323_166_45 -0.034092 -0.034146 -0.034055 -0.03402    youtube  \n",
       "\n",
       "[70046 rows x 121 columns]"
      ]
     },
     "execution_count": 5,
     "metadata": {},
     "output_type": "execute_result"
    }
   ],
   "source": [
    "scaler = Scaler_Metrics()\n",
    "training_data = scaler.fit_transform(df_train)\n",
    "testing_data = scaler.transform(df_test)\n",
    "training_data"
   ]
  },
  {
   "cell_type": "code",
   "execution_count": 6,
   "metadata": {},
   "outputs": [
    {
     "data": {
      "text/plain": [
       "array([[-1.73853749, -0.03325841],\n",
       "       [-1.31958902, -0.03265063],\n",
       "       [-0.90068803, -0.03257714],\n",
       "       [-1.0969    , -0.03218289],\n",
       "       [-0.89420568,  0.47657722]])"
      ]
     },
     "execution_count": 6,
     "metadata": {},
     "output_type": "execute_result"
    }
   ],
   "source": [
    "data_col = training_data.columns[:-1]\n",
    "X_train, X_test = training_data[data_col].values, testing_data[data_col].values\n",
    "X_train, X_test = X_train.reshape((-1,DEFAULT_LENGTH_Value,2), order='F'), X_test.reshape((-1,DEFAULT_LENGTH_Value,2), order='F')\n",
    "y_train, y_test = training_data.label, testing_data.label\n",
    "X_train[0,:5]"
   ]
  },
  {
   "cell_type": "markdown",
   "metadata": {},
   "source": [
    "# Encode"
   ]
  },
  {
   "cell_type": "code",
   "execution_count": 7,
   "metadata": {},
   "outputs": [
    {
     "data": {
      "text/plain": [
       "{0: 0.672936881544817,\n",
       " 1: 0.4938207197997814,\n",
       " 2: 3.1495503597122303,\n",
       " 3: 1.5738905740927986,\n",
       " 4: 1.8654061251664447}"
      ]
     },
     "execution_count": 7,
     "metadata": {},
     "output_type": "execute_result"
    }
   ],
   "source": [
    "class Encoder_label:\n",
    "    corres = []\n",
    "    class_weights = {}\n",
    "    \n",
    "    def fit(self,y):\n",
    "      y_array = y_train.values\n",
    "      self.corres = list(np.unique(y_array))\n",
    "\n",
    "    def transform(self, y) :\n",
    "      encoded = [self.corres.index(val) for val in y.values]\n",
    "      return np.array(encoded)\n",
    "    \n",
    "    def fit_transform(self,y) :\n",
    "      self.fit(y)\n",
    "      transformed_y = self.transform(y)\n",
    "      self.compute_class_weight(transformed_y)\n",
    "      return transformed_y\n",
    "\n",
    "    def inverse_transform(self,y) :\n",
    "      try : \n",
    "        return np.array([self.corres[val] for val in y.values])\n",
    "      except : \n",
    "        return np.array([self.corres[val] for val in y])\n",
    "    \n",
    "    def compute_class_weight(self, y) :\n",
    "      # must receive y encoded\n",
    "\n",
    "      self.class_weights = dict(zip(np.unique(y), class_weight.compute_class_weight(class_weight ='balanced',\n",
    "                                                  classes =np.unique(y), y =y)))\n",
    "    \n",
    "encoder = Encoder_label()\n",
    "y_train_encoded = encoder.fit_transform(y_train)\n",
    "y_test_encoded = encoder.transform(y_test)\n",
    "class_weights = encoder.class_weights\n",
    "class_weights"
   ]
  },
  {
   "cell_type": "code",
   "execution_count": 8,
   "metadata": {
    "id": "uBWN8hhupypx"
   },
   "outputs": [
    {
     "data": {
      "text/plain": [
       "array([0, 0, 0, ..., 4, 4, 4])"
      ]
     },
     "execution_count": 8,
     "metadata": {},
     "output_type": "execute_result"
    }
   ],
   "source": [
    "y_test_encoded"
   ]
  },
  {
   "cell_type": "code",
   "execution_count": null,
   "metadata": {},
   "outputs": [],
   "source": []
  },
  {
   "cell_type": "markdown",
   "metadata": {},
   "source": [
    "# Train"
   ]
  },
  {
   "cell_type": "code",
   "execution_count": 9,
   "metadata": {
    "id": "FOZGpEsLpy1L"
   },
   "outputs": [],
   "source": [
    "num_steps = DEFAULT_LENGTH_Value\n",
    "num_features = 2 #TBS 1 & TBS 2"
   ]
  },
  {
   "cell_type": "code",
   "execution_count": 10,
   "metadata": {
    "id": "QUSGa3vXUxXY"
   },
   "outputs": [],
   "source": [
    "#Deep learning model"
   ]
  },
  {
   "cell_type": "code",
   "execution_count": 11,
   "metadata": {
    "id": "KjxpXFcCpx0Z"
   },
   "outputs": [],
   "source": [
    "time_counter = time.time_ns()\n",
    "\n",
    "num_label = len(training_data.label.unique())\n",
    "logdir = 'logs'\n",
    "tensorboard_callback = tf.keras.callbacks.TensorBoard(log_dir=logdir)\n",
    "\n",
    "\n",
    "\n",
    "model = Sequential()\n",
    "\n",
    "model.add(LSTM(20, activation='tanh', input_shape=(num_steps, num_features), return_sequences=True))\n",
    "\n",
    "model.add(LSTM(20, activation='tanh', input_shape=(num_steps, num_features), return_sequences=False))\n",
    "#return_sequences=False because in mode many to one\n",
    "\n",
    "model.add(Dense(num_label, activation = 'softmax'))\n",
    "model.compile('adam', loss = tf.keras.losses.SparseCategoricalCrossentropy(), metrics =['accuracy'])"
   ]
  },
  {
   "cell_type": "code",
   "execution_count": 12,
   "metadata": {
    "colab": {
     "base_uri": "https://localhost:8080/"
    },
    "id": "o9wOSILRU22D",
    "outputId": "c787476c-4191-4426-92ba-1d4bb0693f33"
   },
   "outputs": [
    {
     "name": "stdout",
     "output_type": "stream",
     "text": [
      "Model: \"sequential\"\n",
      "_________________________________________________________________\n",
      " Layer (type)                Output Shape              Param #   \n",
      "=================================================================\n",
      " lstm (LSTM)                 (None, 60, 20)            1840      \n",
      "                                                                 \n",
      " lstm_1 (LSTM)               (None, 20)                3280      \n",
      "                                                                 \n",
      " dense (Dense)               (None, 5)                 105       \n",
      "                                                                 \n",
      "=================================================================\n",
      "Total params: 5,225\n",
      "Trainable params: 5,225\n",
      "Non-trainable params: 0\n",
      "_________________________________________________________________\n"
     ]
    }
   ],
   "source": [
    "model.summary()"
   ]
  },
  {
   "cell_type": "code",
   "execution_count": 13,
   "metadata": {
    "id": "1E4Y9TV6YJz1"
   },
   "outputs": [],
   "source": [
    "checkpoint_filepath = '/tmp/checkpoint/best_model'\n",
    "logs_dir = 'tmp/logs'\n",
    "\n",
    "tensorboard_callback = tf.keras.callbacks.TensorBoard(log_dir=logs_dir)\n",
    "#model_checkpoint_callback = tf.keras.callbacks.ModelCheckpoint(filepath=checkpoint_filepath, save_weights_only=True, monitor='val_accuracy',  mode='max',save_best_only=True)\n",
    "\n",
    "#early_stop = tf.keras.callbacks.EarlyStopping(monitor='val_loss', patience=3)"
   ]
  },
  {
   "cell_type": "code",
   "execution_count": 14,
   "metadata": {},
   "outputs": [
    {
     "data": {
      "text/plain": [
       "array([0, 0, 0, ..., 4, 4, 4])"
      ]
     },
     "execution_count": 14,
     "metadata": {},
     "output_type": "execute_result"
    }
   ],
   "source": [
    "y_test_encoded"
   ]
  },
  {
   "cell_type": "code",
   "execution_count": 15,
   "metadata": {},
   "outputs": [
    {
     "name": "stdout",
     "output_type": "stream",
     "text": [
      "Epoch 1/40\n",
      "2189/2189 [==============================] - 71s 28ms/step - loss: 0.7087 - accuracy: 0.7092 - val_loss: 1.7151 - val_accuracy: 0.4199\n",
      "Epoch 2/40\n",
      "2189/2189 [==============================] - 64s 29ms/step - loss: 0.5838 - accuracy: 0.7510 - val_loss: 1.6823 - val_accuracy: 0.4398\n",
      "Epoch 3/40\n",
      "2189/2189 [==============================] - 65s 30ms/step - loss: 0.5410 - accuracy: 0.7642 - val_loss: 1.6613 - val_accuracy: 0.4448\n",
      "Epoch 4/40\n",
      "2189/2189 [==============================] - 66s 30ms/step - loss: 0.5205 - accuracy: 0.7700 - val_loss: 1.6184 - val_accuracy: 0.4462\n",
      "Epoch 5/40\n",
      "2189/2189 [==============================] - 66s 30ms/step - loss: 0.5051 - accuracy: 0.7737 - val_loss: 1.4360 - val_accuracy: 0.4463\n",
      "Epoch 6/40\n",
      "2189/2189 [==============================] - 66s 30ms/step - loss: 0.4907 - accuracy: 0.7762 - val_loss: 1.4594 - val_accuracy: 0.4548\n",
      "Epoch 7/40\n",
      "2189/2189 [==============================] - 65s 30ms/step - loss: 0.4780 - accuracy: 0.7804 - val_loss: 1.0837 - val_accuracy: 0.4496\n",
      "Epoch 8/40\n",
      "2189/2189 [==============================] - 66s 30ms/step - loss: 0.4640 - accuracy: 0.7841 - val_loss: 1.0414 - val_accuracy: 0.5837\n",
      "Epoch 9/40\n",
      "2189/2189 [==============================] - 65s 30ms/step - loss: 0.4483 - accuracy: 0.7908 - val_loss: 0.9282 - val_accuracy: 0.6101\n",
      "Epoch 10/40\n",
      "2189/2189 [==============================] - 64s 29ms/step - loss: 0.4413 - accuracy: 0.7910 - val_loss: 1.0627 - val_accuracy: 0.6127\n",
      "Epoch 11/40\n",
      "2189/2189 [==============================] - 64s 29ms/step - loss: 0.4308 - accuracy: 0.7947 - val_loss: 0.7692 - val_accuracy: 0.6590\n",
      "Epoch 12/40\n",
      "2189/2189 [==============================] - 64s 29ms/step - loss: 0.4228 - accuracy: 0.7975 - val_loss: 0.9350 - val_accuracy: 0.6191\n",
      "Epoch 13/40\n",
      "2189/2189 [==============================] - 64s 29ms/step - loss: 0.4157 - accuracy: 0.8005 - val_loss: 1.1656 - val_accuracy: 0.5266\n",
      "Epoch 14/40\n",
      "2189/2189 [==============================] - 64s 29ms/step - loss: 0.4128 - accuracy: 0.8007 - val_loss: 0.8689 - val_accuracy: 0.6424\n",
      "Training Duration : 923.7945165 s for a dataset length of 70046\n"
     ]
    }
   ],
   "source": [
    "x_train_shaped = np.asarray(X_train).astype('float32')\n",
    "x_test_shaped = np.asarray(X_test).astype('float32')\n",
    "val_data = (x_test_shaped ,y_test_encoded)\n",
    "\n",
    "checkpoint_filepath = '/tmp/checkpoint_LSTM/best_model'\n",
    "logs_dir = 'tmp/logs'\n",
    "\n",
    "tensorboard_callback = tf.keras.callbacks.TensorBoard(log_dir=logs_dir)\n",
    "model_checkpoint_callback = tf.keras.callbacks.ModelCheckpoint(\n",
    "    filepath=checkpoint_filepath, save_weights_only=True, monitor='val_accuracy',  mode='max',save_best_only=True)\n",
    "early_stop = tf.keras.callbacks.EarlyStopping(monitor='val_loss', patience=3)\n",
    "\n",
    "\n",
    "history = model.fit(x_train_shaped, y_train_encoded, epochs=40,class_weight=class_weights, \n",
    "                    callbacks =[tensorboard_callback, early_stop,model_checkpoint_callback],\n",
    "                    validation_data = val_data)\n",
    "\n",
    "\n",
    "#callbacks =[tensorboard_callback, early_stop,model_checkpoint_callback],\n",
    "\n",
    "model.load_weights(checkpoint_filepath)\n",
    "\n",
    "training_duration = (time.time_ns() - time_counter)/(10**9)\n",
    "print(f\"Training Duration : {training_duration} s for a dataset length of {len(X_train)}\")\n",
    "\n",
    "\n",
    "#test_predict = model.predict(x_test_shaped)"
   ]
  },
  {
   "cell_type": "code",
   "execution_count": null,
   "metadata": {},
   "outputs": [],
   "source": []
  },
  {
   "cell_type": "code",
   "execution_count": 16,
   "metadata": {},
   "outputs": [
    {
     "data": {
      "image/png": "[encoded data removed]",
      "text/plain": [
       "<Figure size 640x480 with 1 Axes>"
      ]
     },
     "metadata": {},
     "output_type": "display_data"
    }
   ],
   "source": [
    "fig =plt.figure()\n",
    "plt.plot(history.history['loss'], color ='teal', label ='train_loss')\n",
    "plt.plot(history.history['val_loss'], color ='red', label ='val_loss')\n",
    "fig.suptitle('Loss', fontsize =20)\n",
    "plt.legend(loc =\"upper left\")\n",
    "plt.show()"
   ]
  },
  {
   "cell_type": "code",
   "execution_count": 17,
   "metadata": {},
   "outputs": [
    {
     "data": {
      "image/png": "[encoded data removed]",
      "text/plain": [
       "<Figure size 640x480 with 1 Axes>"
      ]
     },
     "metadata": {},
     "output_type": "display_data"
    }
   ],
   "source": [
    "fig =plt.figure()\n",
    "plt.plot(history.history['accuracy'], color ='teal', label ='accuracy')\n",
    "plt.plot(history.history['val_accuracy'], color= 'orange', label = 'val_acc')\n",
    "fig.suptitle('Accuracy', fontsize =20)\n",
    "plt.legend(loc =\"upper left\")\n",
    "plt.show()"
   ]
  },
  {
   "cell_type": "markdown",
   "metadata": {},
   "source": [
    "# Evaluate on the test dataset"
   ]
  },
  {
   "cell_type": "code",
   "execution_count": 18,
   "metadata": {},
   "outputs": [
    {
     "name": "stdout",
     "output_type": "stream",
     "text": [
      "937/937 [==============================] - 7s 7ms/step\n",
      "Testing Duration : 13.2676287 s for a dataset length of 29980\n",
      "Testing Duration per data : 0.4425493228819213 ms\n"
     ]
    }
   ],
   "source": [
    "time_counter = time.time_ns()\n",
    "\n",
    "preds_labels =  model.predict(X_test)\n",
    "preds_labels = tf.math.argmax(preds_labels, axis=1)\n",
    "preds_labels = encoder.inverse_transform(preds_labels)\n",
    "\n",
    "\n",
    "testing_duration = (time.time_ns() - time_counter)/(10**9)\n",
    "print(f\"Testing Duration : {testing_duration} s for a dataset length of {len(preds_labels)}\")\n",
    "testing_duration_per_item = testing_duration*(10**3)/len(preds_labels)\n",
    "print(f\"Testing Duration per data : {testing_duration_per_item} ms\")"
   ]
  },
  {
   "cell_type": "code",
   "execution_count": 19,
   "metadata": {},
   "outputs": [
    {
     "name": "stdout",
     "output_type": "stream",
     "text": [
      "normalized confusion matrix\n"
     ]
    },
    {
     "data": {
      "image/png": "[encoded data removed]",
      "text/plain": [
       "<Figure size 600x600 with 2 Axes>"
      ]
     },
     "metadata": {},
     "output_type": "display_data"
    }
   ],
   "source": [
    "plot_confusion_matrix(y_test,preds_labels)"
   ]
  },
  {
   "cell_type": "code",
   "execution_count": 20,
   "metadata": {},
   "outputs": [
    {
     "data": {
      "text/plain": [
       "{'Accuracy': 0.7912908782370959,\n",
       " 'Precision': 0.827370505849128,\n",
       " 'Recall': 0.6590060040026684,\n",
       " 'F1_Score': 0.6789480983302312,\n",
       " 'support': None}"
      ]
     },
     "execution_count": 20,
     "metadata": {},
     "output_type": "execute_result"
    }
   ],
   "source": [
    "get_scores(y_test,preds_labels)"
   ]
  },
  {
   "cell_type": "code",
   "execution_count": null,
   "metadata": {
    "id": "EFq2EcH5b3DV"
   },
   "outputs": [],
   "source": []
  },
  {
   "cell_type": "code",
   "execution_count": null,
   "metadata": {},
   "outputs": [],
   "source": []
  },
  {
   "cell_type": "code",
   "execution_count": null,
   "metadata": {},
   "outputs": [],
   "source": []
  },
  {
   "cell_type": "code",
   "execution_count": null,
   "metadata": {},
   "outputs": [],
   "source": []
  },
  {
   "cell_type": "code",
   "execution_count": null,
   "metadata": {},
   "outputs": [],
   "source": []
  }
 ],
 "metadata": {
  "accelerator": "GPU",
  "colab": {
   "provenance": []
  },
  "gpuClass": "standard",
  "kernelspec": {
   "display_name": "Python 3 (ipykernel)",
   "language": "python",
   "name": "python3"
  },
  "language_info": {
   "codemirror_mode": {
    "name": "ipython",
    "version": 3
   },
   "file_extension": ".py",
   "mimetype": "text/x-python",
   "name": "python",
   "nbconvert_exporter": "python",
   "pygments_lexer": "ipython3",
   "version": "3.9.15"
  }
 },
 "nbformat": 4,
 "nbformat_minor": 1
}
