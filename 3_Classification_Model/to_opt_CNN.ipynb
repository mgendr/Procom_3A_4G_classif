{
 "cells": [
  {
   "cell_type": "code",
   "execution_count": 19,
   "id": "4c53af1c",
   "metadata": {},
   "outputs": [],
   "source": [
    "import os\n",
    "import pandas as pd\n",
    "import warnings\n",
    "import matplotlib.pyplot as plt\n",
    "\n",
    "import numpy as np\n",
    "import seaborn as sns\n",
    "\n",
    "from tqdm import tqdm\n",
    "from random import randint\n",
    "from sklearn.model_selection import train_test_split\n",
    "from sklearn.utils.class_weight import compute_class_weight\n",
    "import itertools\n",
    "import sys\n",
    "import sklearn.preprocessing\n",
    "import tensorflow as tf\n",
    "from tensorflow.keras.models import Sequential\n",
    "from tensorflow.keras.layers import Conv1D, MaxPool1D, Dense, Flatten, Dropout\n",
    "\n",
    "\n",
    "sys.path.append(\"../1_Format_donnees/\")\n",
    "sys.path.append(\"../\")\n",
    "from aggregation import load_and_preprocess_agg_window, Scaler_Metrics\n",
    "from evaluate import plot_confusion_matrix"
   ]
  },
  {
   "cell_type": "code",
   "execution_count": 2,
   "id": "b66b2e91",
   "metadata": {},
   "outputs": [],
   "source": [
    "DEFAULT_LENGTH_Value = 60"
   ]
  },
  {
   "cell_type": "code",
   "execution_count": 3,
   "id": "da843876",
   "metadata": {},
   "outputs": [
    {
     "name": "stdout",
     "output_type": "stream",
     "text": [
      "Extracting ../Mesures/train\\messenger20221117_125310.csv.... 1/39\n"
     ]
    },
    {
     "name": "stderr",
     "output_type": "stream",
     "text": [
      "100%|█████████████████████████████████████████████████████████████████████████████████| 15/15 [00:00<00:00, 120.29it/s]\n"
     ]
    },
    {
     "name": "stdout",
     "output_type": "stream",
     "text": [
      "Extracting ../Mesures/train\\messenger20221124_143112.csv.... 2/39\n"
     ]
    },
    {
     "name": "stderr",
     "output_type": "stream",
     "text": [
      "100%|██████████████████████████████████████████████████████████████████████████████████| 11/11 [00:00<00:00, 37.78it/s]\n"
     ]
    },
    {
     "name": "stdout",
     "output_type": "stream",
     "text": [
      "Extracting ../Mesures/train\\messenger20221125_130559.csv.... 3/39\n"
     ]
    },
    {
     "name": "stderr",
     "output_type": "stream",
     "text": [
      "100%|█████████████████████████████████████████████████████████████████████████████████| 38/38 [00:00<00:00, 114.08it/s]\n"
     ]
    },
    {
     "name": "stdout",
     "output_type": "stream",
     "text": [
      "Extracting ../Mesures/train\\messenger20221129_131204.csv.... 4/39\n"
     ]
    },
    {
     "name": "stderr",
     "output_type": "stream",
     "text": [
      "100%|██████████████████████████████████████████████████████████████████████████████████| 14/14 [00:01<00:00, 13.13it/s]\n"
     ]
    },
    {
     "name": "stdout",
     "output_type": "stream",
     "text": [
      "Extracting ../Mesures/train\\messenger20221129_151124.csv.... 5/39\n"
     ]
    },
    {
     "name": "stderr",
     "output_type": "stream",
     "text": [
      "100%|████████████████████████████████████████████████████████████████████████████████████| 5/5 [00:00<00:00,  7.39it/s]\n"
     ]
    },
    {
     "name": "stdout",
     "output_type": "stream",
     "text": [
      "Extracting ../Mesures/train\\messenger20230207_133921.csv.... 6/39\n"
     ]
    },
    {
     "name": "stderr",
     "output_type": "stream",
     "text": [
      "100%|████████████████████████████████████████████████████████████████████████████████████| 2/2 [00:00<00:00,  2.29it/s]\n"
     ]
    },
    {
     "name": "stdout",
     "output_type": "stream",
     "text": [
      "Extracting ../Mesures/train\\messenger20230209_083453.csv.... 7/39\n"
     ]
    },
    {
     "name": "stderr",
     "output_type": "stream",
     "text": [
      "100%|████████████████████████████████████████████████████████████████████████████████████| 5/5 [00:00<00:00,  5.02it/s]\n"
     ]
    },
    {
     "name": "stdout",
     "output_type": "stream",
     "text": [
      "Extracting ../Mesures/train\\pure_noise20230106_132210.csv.... 8/39\n"
     ]
    },
    {
     "name": "stderr",
     "output_type": "stream",
     "text": [
      "100%|██████████████████████████████████████████████████████████████████████████████| 805/805 [00:00<00:00, 1233.69it/s]\n"
     ]
    },
    {
     "name": "stdout",
     "output_type": "stream",
     "text": [
      "Extracting ../Mesures/train\\skype20221129_164105.csv.... 9/39\n"
     ]
    },
    {
     "name": "stderr",
     "output_type": "stream",
     "text": [
      "100%|████████████████████████████████████████████████████████████████████████████████████| 5/5 [00:00<00:00, 13.37it/s]\n"
     ]
    },
    {
     "name": "stdout",
     "output_type": "stream",
     "text": [
      "Extracting ../Mesures/train\\skype20221206_125510.csv.... 10/39\n"
     ]
    },
    {
     "name": "stderr",
     "output_type": "stream",
     "text": [
      "100%|██████████████████████████████████████████████████████████████████████████████████| 19/19 [00:00<00:00, 37.88it/s]\n"
     ]
    },
    {
     "name": "stdout",
     "output_type": "stream",
     "text": [
      "Extracting ../Mesures/train\\skype20221208_104403.csv.... 11/39\n"
     ]
    },
    {
     "name": "stderr",
     "output_type": "stream",
     "text": [
      "100%|████████████████████████████████████████████████████████████████████████████████████| 7/7 [00:01<00:00,  4.21it/s]\n"
     ]
    },
    {
     "name": "stdout",
     "output_type": "stream",
     "text": [
      "Extracting ../Mesures/train\\skype20221208_124925.csv.... 12/39\n"
     ]
    },
    {
     "name": "stderr",
     "output_type": "stream",
     "text": [
      "100%|████████████████████████████████████████████████████████████████████████████████████| 6/6 [00:02<00:00,  2.80it/s]\n"
     ]
    },
    {
     "name": "stdout",
     "output_type": "stream",
     "text": [
      "Extracting ../Mesures/train\\skype20221215_151512.csv.... 13/39\n"
     ]
    },
    {
     "name": "stderr",
     "output_type": "stream",
     "text": [
      "100%|██████████████████████████████████████████████████████████████████████████████████| 23/23 [00:00<00:00, 47.06it/s]\n"
     ]
    },
    {
     "name": "stdout",
     "output_type": "stream",
     "text": [
      "Extracting ../Mesures/train\\skype20221215_155618.csv.... 14/39\n"
     ]
    },
    {
     "name": "stderr",
     "output_type": "stream",
     "text": [
      "100%|██████████████████████████████████████████████████████████████████████████████████| 19/19 [00:00<00:00, 32.32it/s]\n"
     ]
    },
    {
     "name": "stdout",
     "output_type": "stream",
     "text": [
      "Extracting ../Mesures/train\\skype20221215_164208.csv.... 15/39\n"
     ]
    },
    {
     "name": "stderr",
     "output_type": "stream",
     "text": [
      "100%|████████████████████████████████████████████████████████████████████████████████████| 5/5 [00:00<00:00,  6.73it/s]\n"
     ]
    },
    {
     "name": "stdout",
     "output_type": "stream",
     "text": [
      "Extracting ../Mesures/train\\skype20221215_174819.csv.... 16/39\n"
     ]
    },
    {
     "name": "stderr",
     "output_type": "stream",
     "text": [
      "100%|████████████████████████████████████████████████████████████████████████████████████| 6/6 [00:00<00:00,  8.91it/s]\n"
     ]
    },
    {
     "name": "stdout",
     "output_type": "stream",
     "text": [
      "Extracting ../Mesures/train\\spotify20230201_092702.csv.... 17/39\n"
     ]
    },
    {
     "name": "stderr",
     "output_type": "stream",
     "text": [
      "100%|████████████████████████████████████████████████████████████████████████████| 1750/1750 [00:01<00:00, 1241.87it/s]\n"
     ]
    },
    {
     "name": "stdout",
     "output_type": "stream",
     "text": [
      "Extracting ../Mesures/train\\spotify20230203_165507.csv.... 18/39\n"
     ]
    },
    {
     "name": "stderr",
     "output_type": "stream",
     "text": [
      "100%|██████████████████████████████████████████████████████████████████████████████| 522/522 [00:00<00:00, 1410.77it/s]\n"
     ]
    },
    {
     "name": "stdout",
     "output_type": "stream",
     "text": [
      "Extracting ../Mesures/train\\spotify20230216_141318.csv.... 19/39\n"
     ]
    },
    {
     "name": "stderr",
     "output_type": "stream",
     "text": [
      "100%|██████████████████████████████████████████████████████████████████████████████| 364/364 [00:00<00:00, 1008.22it/s]\n"
     ]
    },
    {
     "name": "stdout",
     "output_type": "stream",
     "text": [
      "Extracting ../Mesures/train\\twitch20221117_113554.csv.... 20/39\n"
     ]
    },
    {
     "name": "stderr",
     "output_type": "stream",
     "text": [
      "100%|█████████████████████████████████████████████████████████████████████████████████| 24/24 [00:00<00:00, 114.23it/s]\n"
     ]
    },
    {
     "name": "stdout",
     "output_type": "stream",
     "text": [
      "Extracting ../Mesures/train\\twitch20221118_075454.csv.... 21/39\n"
     ]
    },
    {
     "name": "stderr",
     "output_type": "stream",
     "text": [
      "100%|██████████████████████████████████████████████████████████████████████████████████| 16/16 [00:00<00:00, 58.42it/s]\n"
     ]
    },
    {
     "name": "stdout",
     "output_type": "stream",
     "text": [
      "Extracting ../Mesures/train\\twitch20221125_133859.csv.... 22/39\n"
     ]
    },
    {
     "name": "stderr",
     "output_type": "stream",
     "text": [
      "100%|████████████████████████████████████████████████████████████████████████████████| 108/108 [00:01<00:00, 87.43it/s]\n"
     ]
    },
    {
     "name": "stdout",
     "output_type": "stream",
     "text": [
      "Extracting ../Mesures/train\\twitch20230110_110215.csv.... 23/39\n"
     ]
    },
    {
     "name": "stderr",
     "output_type": "stream",
     "text": [
      "100%|█████████████████████████████████████████████████████████████████████████████████| 22/22 [00:00<00:00, 111.31it/s]\n"
     ]
    },
    {
     "name": "stdout",
     "output_type": "stream",
     "text": [
      "Extracting ../Mesures/train\\twitch20230110_120513.csv.... 24/39\n"
     ]
    },
    {
     "name": "stderr",
     "output_type": "stream",
     "text": [
      "100%|█████████████████████████████████████████████████████████████████████████████████| 59/59 [00:00<00:00, 326.07it/s]\n"
     ]
    },
    {
     "name": "stdout",
     "output_type": "stream",
     "text": [
      "Extracting ../Mesures/train\\twitch20230110_130648.csv.... 25/39\n"
     ]
    },
    {
     "name": "stderr",
     "output_type": "stream",
     "text": [
      "100%|███████████████████████████████████████████████████████████████████████████████| 426/426 [00:00<00:00, 926.49it/s]\n"
     ]
    },
    {
     "name": "stdout",
     "output_type": "stream",
     "text": [
      "Extracting ../Mesures/train\\youtube20221108_165214.csv.... 26/39\n"
     ]
    },
    {
     "name": "stderr",
     "output_type": "stream",
     "text": [
      "100%|█████████████████████████████████████████████████████████████████████████████████| 11/11 [00:00<00:00, 612.68it/s]\n"
     ]
    },
    {
     "name": "stdout",
     "output_type": "stream",
     "text": [
      "Extracting ../Mesures/train\\youtube20221108_182416.csv.... 27/39\n"
     ]
    },
    {
     "name": "stderr",
     "output_type": "stream",
     "text": [
      "100%|███████████████████████████████████████████████████████████████████████████████████| 4/4 [00:00<00:00, 399.76it/s]\n"
     ]
    },
    {
     "name": "stdout",
     "output_type": "stream",
     "text": [
      "Extracting ../Mesures/train\\youtube20221124_125524.csv.... 28/39\n"
     ]
    },
    {
     "name": "stderr",
     "output_type": "stream",
     "text": [
      "100%|██████████████████████████████████████████████████████████████████████████████| 186/186 [00:00<00:00, 1271.41it/s]\n"
     ]
    },
    {
     "name": "stdout",
     "output_type": "stream",
     "text": [
      "Extracting ../Mesures/train\\youtube20221124_154037.csv.... 29/39\n"
     ]
    },
    {
     "name": "stderr",
     "output_type": "stream",
     "text": [
      "100%|████████████████████████████████████████████████████████████████████████████████| 92/92 [00:00<00:00, 1024.58it/s]\n"
     ]
    },
    {
     "name": "stdout",
     "output_type": "stream",
     "text": [
      "Extracting ../Mesures/train\\youtube20221130_103723.csv.... 30/39\n"
     ]
    },
    {
     "name": "stderr",
     "output_type": "stream",
     "text": [
      "100%|████████████████████████████████████████████████████████████████████████████████| 91/91 [00:00<00:00, 1085.82it/s]\n"
     ]
    },
    {
     "name": "stdout",
     "output_type": "stream",
     "text": [
      "Extracting ../Mesures/train\\youtube20230110_145404.csv.... 31/39\n"
     ]
    },
    {
     "name": "stderr",
     "output_type": "stream",
     "text": [
      "100%|████████████████████████████████████████████████████████████████████████████████| 94/94 [00:00<00:00, 1428.04it/s]\n"
     ]
    },
    {
     "name": "stdout",
     "output_type": "stream",
     "text": [
      "Extracting ../Mesures/train\\youtube20230110_161955.csv.... 32/39\n"
     ]
    },
    {
     "name": "stderr",
     "output_type": "stream",
     "text": [
      "100%|████████████████████████████████████████████████████████████████████████████████| 90/90 [00:00<00:00, 1203.24it/s]\n"
     ]
    },
    {
     "name": "stdout",
     "output_type": "stream",
     "text": [
      "Extracting ../Mesures/train\\youtube20230112_125508.csv.... 33/39\n"
     ]
    },
    {
     "name": "stderr",
     "output_type": "stream",
     "text": [
      "100%|███████████████████████████████████████████████████████████████████████████████| 108/108 [00:00<00:00, 575.74it/s]\n"
     ]
    },
    {
     "name": "stdout",
     "output_type": "stream",
     "text": [
      "Extracting ../Mesures/train\\youtube20230112_151029.csv.... 34/39\n"
     ]
    },
    {
     "name": "stderr",
     "output_type": "stream",
     "text": [
      "100%|█████████████████████████████████████████████████████████████████████████████████| 29/29 [00:00<00:00, 829.94it/s]\n"
     ]
    },
    {
     "name": "stdout",
     "output_type": "stream",
     "text": [
      "Extracting ../Mesures/train\\youtube20230112_154749.csv.... 35/39\n"
     ]
    },
    {
     "name": "stderr",
     "output_type": "stream",
     "text": [
      "100%|█████████████████████████████████████████████████████████████████████████████████| 32/32 [00:00<00:00, 682.14it/s]\n"
     ]
    },
    {
     "name": "stdout",
     "output_type": "stream",
     "text": [
      "Extracting ../Mesures/train\\youtube20230112_163634.csv.... 36/39\n"
     ]
    },
    {
     "name": "stderr",
     "output_type": "stream",
     "text": [
      "100%|█████████████████████████████████████████████████████████████████████████████████| 65/65 [00:00<00:00, 958.47it/s]\n"
     ]
    },
    {
     "name": "stdout",
     "output_type": "stream",
     "text": [
      "Extracting ../Mesures/train\\youtube20230117_095221.csv.... 37/39\n"
     ]
    },
    {
     "name": "stderr",
     "output_type": "stream",
     "text": [
      "100%|███████████████████████████████████████████████████████████████████████████████| 140/140 [00:00<00:00, 383.17it/s]\n"
     ]
    },
    {
     "name": "stdout",
     "output_type": "stream",
     "text": [
      "Extracting ../Mesures/train\\youtube20230118_134041.csv.... 38/39\n"
     ]
    },
    {
     "name": "stderr",
     "output_type": "stream",
     "text": [
      "100%|███████████████████████████████████████████████████████████████████████████████| 212/212 [00:00<00:00, 302.66it/s]\n"
     ]
    },
    {
     "name": "stdout",
     "output_type": "stream",
     "text": [
      "Extracting ../Mesures/train\\youtube20230124_124323.csv.... 39/39\n"
     ]
    },
    {
     "name": "stderr",
     "output_type": "stream",
     "text": [
      "100%|███████████████████████████████████████████████████████████████████████████████| 163/163 [00:00<00:00, 294.05it/s]\n",
      "100%|█████████████████████████████████████████████████████████████████████████████| 5593/5593 [00:54<00:00, 103.40it/s]\n"
     ]
    },
    {
     "name": "stdout",
     "output_type": "stream",
     "text": [
      "Extracting ../Mesures/test\\messenger20221124_151137.csv.... 1/7\n"
     ]
    },
    {
     "name": "stderr",
     "output_type": "stream",
     "text": [
      "100%|████████████████████████████████████████████████████████████████████████████████████| 5/5 [00:00<00:00, 21.71it/s]\n"
     ]
    },
    {
     "name": "stdout",
     "output_type": "stream",
     "text": [
      "Extracting ../Mesures/test\\messenger20230208_132747.csv.... 2/7\n"
     ]
    },
    {
     "name": "stderr",
     "output_type": "stream",
     "text": [
      "100%|██████████████████████████████████████████████████████████████████████████████████| 27/27 [00:03<00:00,  7.29it/s]\n"
     ]
    },
    {
     "name": "stdout",
     "output_type": "stream",
     "text": [
      "Extracting ../Mesures/test\\skype20221206_150902.csv.... 3/7\n"
     ]
    },
    {
     "name": "stderr",
     "output_type": "stream",
     "text": [
      "100%|████████████████████████████████████████████████████████████████████████████████████| 3/3 [00:00<00:00,  3.29it/s]\n"
     ]
    },
    {
     "name": "stdout",
     "output_type": "stream",
     "text": [
      "Extracting ../Mesures/test\\spotify20230127_134348.csv.... 4/7\n"
     ]
    },
    {
     "name": "stderr",
     "output_type": "stream",
     "text": [
      "100%|██████████████████████████████████████████████████████████████████████████████| 240/240 [00:00<00:00, 1196.87it/s]\n"
     ]
    },
    {
     "name": "stdout",
     "output_type": "stream",
     "text": [
      "Extracting ../Mesures/test\\twitch20221124_163054.csv.... 5/7\n"
     ]
    },
    {
     "name": "stderr",
     "output_type": "stream",
     "text": [
      "100%|██████████████████████████████████████████████████████████████████████████████████| 12/12 [00:00<00:00, 23.13it/s]\n"
     ]
    },
    {
     "name": "stdout",
     "output_type": "stream",
     "text": [
      "Extracting ../Mesures/test\\youtube20221118_104205.csv.... 6/7\n"
     ]
    },
    {
     "name": "stderr",
     "output_type": "stream",
     "text": [
      "100%|██████████████████████████████████████████████████████████████████████████████| 218/218 [00:00<00:00, 1200.57it/s]\n"
     ]
    },
    {
     "name": "stdout",
     "output_type": "stream",
     "text": [
      "Extracting ../Mesures/test\\youtube20230117_121925.csv.... 7/7\n"
     ]
    },
    {
     "name": "stderr",
     "output_type": "stream",
     "text": [
      "100%|███████████████████████████████████████████████████████████████████████████████| 260/260 [00:00<00:00, 687.79it/s]\n",
      "100%|████████████████████████████████████████████████████████████████████████████████| 765/765 [00:19<00:00, 38.46it/s]\n"
     ]
    },
    {
     "data": {
      "text/html": [
       "<div>\n",
       "<style scoped>\n",
       "    .dataframe tbody tr th:only-of-type {\n",
       "        vertical-align: middle;\n",
       "    }\n",
       "\n",
       "    .dataframe tbody tr th {\n",
       "        vertical-align: top;\n",
       "    }\n",
       "\n",
       "    .dataframe thead th {\n",
       "        text-align: right;\n",
       "    }\n",
       "</style>\n",
       "<table border=\"1\" class=\"dataframe\">\n",
       "  <thead>\n",
       "    <tr style=\"text-align: right;\">\n",
       "      <th></th>\n",
       "      <th>0</th>\n",
       "      <th>1</th>\n",
       "      <th>2</th>\n",
       "      <th>3</th>\n",
       "      <th>4</th>\n",
       "      <th>5</th>\n",
       "      <th>6</th>\n",
       "      <th>7</th>\n",
       "      <th>8</th>\n",
       "      <th>9</th>\n",
       "      <th>...</th>\n",
       "      <th>111</th>\n",
       "      <th>112</th>\n",
       "      <th>113</th>\n",
       "      <th>114</th>\n",
       "      <th>115</th>\n",
       "      <th>116</th>\n",
       "      <th>117</th>\n",
       "      <th>118</th>\n",
       "      <th>119</th>\n",
       "      <th>label</th>\n",
       "    </tr>\n",
       "  </thead>\n",
       "  <tbody>\n",
       "    <tr>\n",
       "      <th>20221124_151137_4_0</th>\n",
       "      <td>308.521739</td>\n",
       "      <td>687.88587</td>\n",
       "      <td>1067.25</td>\n",
       "      <td>1013.396825</td>\n",
       "      <td>1496.222222</td>\n",
       "      <td>713.52381</td>\n",
       "      <td>1561.5</td>\n",
       "      <td>899.897436</td>\n",
       "      <td>1168.0</td>\n",
       "      <td>972.756757</td>\n",
       "      <td>...</td>\n",
       "      <td>0.0</td>\n",
       "      <td>0.0</td>\n",
       "      <td>0.0</td>\n",
       "      <td>0.0</td>\n",
       "      <td>0.0</td>\n",
       "      <td>0.0</td>\n",
       "      <td>0.0</td>\n",
       "      <td>0.0</td>\n",
       "      <td>0.0</td>\n",
       "      <td>messenger</td>\n",
       "    </tr>\n",
       "    <tr>\n",
       "      <th>20221124_151137_4_1</th>\n",
       "      <td>687.88587</td>\n",
       "      <td>1067.25</td>\n",
       "      <td>1013.396825</td>\n",
       "      <td>1496.222222</td>\n",
       "      <td>713.52381</td>\n",
       "      <td>1561.5</td>\n",
       "      <td>899.897436</td>\n",
       "      <td>1168.0</td>\n",
       "      <td>972.756757</td>\n",
       "      <td>1713.333333</td>\n",
       "      <td>...</td>\n",
       "      <td>0.0</td>\n",
       "      <td>0.0</td>\n",
       "      <td>0.0</td>\n",
       "      <td>0.0</td>\n",
       "      <td>0.0</td>\n",
       "      <td>0.0</td>\n",
       "      <td>0.0</td>\n",
       "      <td>0.0</td>\n",
       "      <td>0.0</td>\n",
       "      <td>messenger</td>\n",
       "    </tr>\n",
       "    <tr>\n",
       "      <th>20221124_151137_4_2</th>\n",
       "      <td>1067.25</td>\n",
       "      <td>1013.396825</td>\n",
       "      <td>1496.222222</td>\n",
       "      <td>713.52381</td>\n",
       "      <td>1561.5</td>\n",
       "      <td>899.897436</td>\n",
       "      <td>1168.0</td>\n",
       "      <td>972.756757</td>\n",
       "      <td>1713.333333</td>\n",
       "      <td>630.967742</td>\n",
       "      <td>...</td>\n",
       "      <td>0.0</td>\n",
       "      <td>0.0</td>\n",
       "      <td>0.0</td>\n",
       "      <td>0.0</td>\n",
       "      <td>0.0</td>\n",
       "      <td>0.0</td>\n",
       "      <td>0.0</td>\n",
       "      <td>0.0</td>\n",
       "      <td>0.0</td>\n",
       "      <td>messenger</td>\n",
       "    </tr>\n",
       "    <tr>\n",
       "      <th>20221124_151137_4_3</th>\n",
       "      <td>1013.396825</td>\n",
       "      <td>1496.222222</td>\n",
       "      <td>713.52381</td>\n",
       "      <td>1561.5</td>\n",
       "      <td>899.897436</td>\n",
       "      <td>1168.0</td>\n",
       "      <td>972.756757</td>\n",
       "      <td>1713.333333</td>\n",
       "      <td>630.967742</td>\n",
       "      <td>874.037351</td>\n",
       "      <td>...</td>\n",
       "      <td>0.0</td>\n",
       "      <td>0.0</td>\n",
       "      <td>0.0</td>\n",
       "      <td>0.0</td>\n",
       "      <td>0.0</td>\n",
       "      <td>0.0</td>\n",
       "      <td>0.0</td>\n",
       "      <td>0.0</td>\n",
       "      <td>0.0</td>\n",
       "      <td>messenger</td>\n",
       "    </tr>\n",
       "    <tr>\n",
       "      <th>20221124_151137_4_4</th>\n",
       "      <td>1496.222222</td>\n",
       "      <td>713.52381</td>\n",
       "      <td>1561.5</td>\n",
       "      <td>899.897436</td>\n",
       "      <td>1168.0</td>\n",
       "      <td>972.756757</td>\n",
       "      <td>1713.333333</td>\n",
       "      <td>630.967742</td>\n",
       "      <td>874.037351</td>\n",
       "      <td>1117.106961</td>\n",
       "      <td>...</td>\n",
       "      <td>0.0</td>\n",
       "      <td>0.0</td>\n",
       "      <td>0.0</td>\n",
       "      <td>0.0</td>\n",
       "      <td>0.0</td>\n",
       "      <td>0.0</td>\n",
       "      <td>0.0</td>\n",
       "      <td>0.0</td>\n",
       "      <td>0.0</td>\n",
       "      <td>messenger</td>\n",
       "    </tr>\n",
       "    <tr>\n",
       "      <th>...</th>\n",
       "      <td>...</td>\n",
       "      <td>...</td>\n",
       "      <td>...</td>\n",
       "      <td>...</td>\n",
       "      <td>...</td>\n",
       "      <td>...</td>\n",
       "      <td>...</td>\n",
       "      <td>...</td>\n",
       "      <td>...</td>\n",
       "      <td>...</td>\n",
       "      <td>...</td>\n",
       "      <td>...</td>\n",
       "      <td>...</td>\n",
       "      <td>...</td>\n",
       "      <td>...</td>\n",
       "      <td>...</td>\n",
       "      <td>...</td>\n",
       "      <td>...</td>\n",
       "      <td>...</td>\n",
       "      <td>...</td>\n",
       "      <td>...</td>\n",
       "    </tr>\n",
       "    <tr>\n",
       "      <th>20230117_121925_263_43</th>\n",
       "      <td>355.158974</td>\n",
       "      <td>457.517949</td>\n",
       "      <td>559.876923</td>\n",
       "      <td>662.235897</td>\n",
       "      <td>764.594872</td>\n",
       "      <td>866.953846</td>\n",
       "      <td>969.312821</td>\n",
       "      <td>1071.671795</td>\n",
       "      <td>1174.030769</td>\n",
       "      <td>1003.989744</td>\n",
       "      <td>...</td>\n",
       "      <td>0.0</td>\n",
       "      <td>0.0</td>\n",
       "      <td>0.0</td>\n",
       "      <td>0.0</td>\n",
       "      <td>0.0</td>\n",
       "      <td>0.0</td>\n",
       "      <td>0.0</td>\n",
       "      <td>0.0</td>\n",
       "      <td>0.0</td>\n",
       "      <td>youtube</td>\n",
       "    </tr>\n",
       "    <tr>\n",
       "      <th>20230117_121925_263_44</th>\n",
       "      <td>457.517949</td>\n",
       "      <td>559.876923</td>\n",
       "      <td>662.235897</td>\n",
       "      <td>764.594872</td>\n",
       "      <td>866.953846</td>\n",
       "      <td>969.312821</td>\n",
       "      <td>1071.671795</td>\n",
       "      <td>1174.030769</td>\n",
       "      <td>1003.989744</td>\n",
       "      <td>833.948718</td>\n",
       "      <td>...</td>\n",
       "      <td>0.0</td>\n",
       "      <td>0.0</td>\n",
       "      <td>0.0</td>\n",
       "      <td>0.0</td>\n",
       "      <td>0.0</td>\n",
       "      <td>0.0</td>\n",
       "      <td>0.0</td>\n",
       "      <td>0.0</td>\n",
       "      <td>0.0</td>\n",
       "      <td>youtube</td>\n",
       "    </tr>\n",
       "    <tr>\n",
       "      <th>20230117_121925_263_45</th>\n",
       "      <td>559.876923</td>\n",
       "      <td>662.235897</td>\n",
       "      <td>764.594872</td>\n",
       "      <td>866.953846</td>\n",
       "      <td>969.312821</td>\n",
       "      <td>1071.671795</td>\n",
       "      <td>1174.030769</td>\n",
       "      <td>1003.989744</td>\n",
       "      <td>833.948718</td>\n",
       "      <td>663.907692</td>\n",
       "      <td>...</td>\n",
       "      <td>0.0</td>\n",
       "      <td>0.0</td>\n",
       "      <td>0.0</td>\n",
       "      <td>0.0</td>\n",
       "      <td>0.0</td>\n",
       "      <td>0.0</td>\n",
       "      <td>0.0</td>\n",
       "      <td>0.0</td>\n",
       "      <td>0.0</td>\n",
       "      <td>youtube</td>\n",
       "    </tr>\n",
       "    <tr>\n",
       "      <th>20230117_121925_263_46</th>\n",
       "      <td>662.235897</td>\n",
       "      <td>764.594872</td>\n",
       "      <td>866.953846</td>\n",
       "      <td>969.312821</td>\n",
       "      <td>1071.671795</td>\n",
       "      <td>1174.030769</td>\n",
       "      <td>1003.989744</td>\n",
       "      <td>833.948718</td>\n",
       "      <td>663.907692</td>\n",
       "      <td>493.866667</td>\n",
       "      <td>...</td>\n",
       "      <td>0.0</td>\n",
       "      <td>0.0</td>\n",
       "      <td>0.0</td>\n",
       "      <td>0.0</td>\n",
       "      <td>0.0</td>\n",
       "      <td>0.0</td>\n",
       "      <td>0.0</td>\n",
       "      <td>0.0</td>\n",
       "      <td>0.0</td>\n",
       "      <td>youtube</td>\n",
       "    </tr>\n",
       "    <tr>\n",
       "      <th>20230117_121925_263_47</th>\n",
       "      <td>764.594872</td>\n",
       "      <td>866.953846</td>\n",
       "      <td>969.312821</td>\n",
       "      <td>1071.671795</td>\n",
       "      <td>1174.030769</td>\n",
       "      <td>1003.989744</td>\n",
       "      <td>833.948718</td>\n",
       "      <td>663.907692</td>\n",
       "      <td>493.866667</td>\n",
       "      <td>498.555556</td>\n",
       "      <td>...</td>\n",
       "      <td>0.0</td>\n",
       "      <td>0.0</td>\n",
       "      <td>0.0</td>\n",
       "      <td>0.0</td>\n",
       "      <td>0.0</td>\n",
       "      <td>0.0</td>\n",
       "      <td>0.0</td>\n",
       "      <td>0.0</td>\n",
       "      <td>0.0</td>\n",
       "      <td>youtube</td>\n",
       "    </tr>\n",
       "  </tbody>\n",
       "</table>\n",
       "<p>149626 rows × 121 columns</p>\n",
       "</div>"
      ],
      "text/plain": [
       "                                  0            1            2            3  \\\n",
       "20221124_151137_4_0      308.521739    687.88587      1067.25  1013.396825   \n",
       "20221124_151137_4_1       687.88587      1067.25  1013.396825  1496.222222   \n",
       "20221124_151137_4_2         1067.25  1013.396825  1496.222222    713.52381   \n",
       "20221124_151137_4_3     1013.396825  1496.222222    713.52381       1561.5   \n",
       "20221124_151137_4_4     1496.222222    713.52381       1561.5   899.897436   \n",
       "...                             ...          ...          ...          ...   \n",
       "20230117_121925_263_43   355.158974   457.517949   559.876923   662.235897   \n",
       "20230117_121925_263_44   457.517949   559.876923   662.235897   764.594872   \n",
       "20230117_121925_263_45   559.876923   662.235897   764.594872   866.953846   \n",
       "20230117_121925_263_46   662.235897   764.594872   866.953846   969.312821   \n",
       "20230117_121925_263_47   764.594872   866.953846   969.312821  1071.671795   \n",
       "\n",
       "                                  4            5            6            7  \\\n",
       "20221124_151137_4_0     1496.222222    713.52381       1561.5   899.897436   \n",
       "20221124_151137_4_1       713.52381       1561.5   899.897436       1168.0   \n",
       "20221124_151137_4_2          1561.5   899.897436       1168.0   972.756757   \n",
       "20221124_151137_4_3      899.897436       1168.0   972.756757  1713.333333   \n",
       "20221124_151137_4_4          1168.0   972.756757  1713.333333   630.967742   \n",
       "...                             ...          ...          ...          ...   \n",
       "20230117_121925_263_43   764.594872   866.953846   969.312821  1071.671795   \n",
       "20230117_121925_263_44   866.953846   969.312821  1071.671795  1174.030769   \n",
       "20230117_121925_263_45   969.312821  1071.671795  1174.030769  1003.989744   \n",
       "20230117_121925_263_46  1071.671795  1174.030769  1003.989744   833.948718   \n",
       "20230117_121925_263_47  1174.030769  1003.989744   833.948718   663.907692   \n",
       "\n",
       "                                  8            9  ...  111  112  113  114  \\\n",
       "20221124_151137_4_0          1168.0   972.756757  ...  0.0  0.0  0.0  0.0   \n",
       "20221124_151137_4_1      972.756757  1713.333333  ...  0.0  0.0  0.0  0.0   \n",
       "20221124_151137_4_2     1713.333333   630.967742  ...  0.0  0.0  0.0  0.0   \n",
       "20221124_151137_4_3      630.967742   874.037351  ...  0.0  0.0  0.0  0.0   \n",
       "20221124_151137_4_4      874.037351  1117.106961  ...  0.0  0.0  0.0  0.0   \n",
       "...                             ...          ...  ...  ...  ...  ...  ...   \n",
       "20230117_121925_263_43  1174.030769  1003.989744  ...  0.0  0.0  0.0  0.0   \n",
       "20230117_121925_263_44  1003.989744   833.948718  ...  0.0  0.0  0.0  0.0   \n",
       "20230117_121925_263_45   833.948718   663.907692  ...  0.0  0.0  0.0  0.0   \n",
       "20230117_121925_263_46   663.907692   493.866667  ...  0.0  0.0  0.0  0.0   \n",
       "20230117_121925_263_47   493.866667   498.555556  ...  0.0  0.0  0.0  0.0   \n",
       "\n",
       "                        115  116  117  118  119      label  \n",
       "20221124_151137_4_0     0.0  0.0  0.0  0.0  0.0  messenger  \n",
       "20221124_151137_4_1     0.0  0.0  0.0  0.0  0.0  messenger  \n",
       "20221124_151137_4_2     0.0  0.0  0.0  0.0  0.0  messenger  \n",
       "20221124_151137_4_3     0.0  0.0  0.0  0.0  0.0  messenger  \n",
       "20221124_151137_4_4     0.0  0.0  0.0  0.0  0.0  messenger  \n",
       "...                     ...  ...  ...  ...  ...        ...  \n",
       "20230117_121925_263_43  0.0  0.0  0.0  0.0  0.0    youtube  \n",
       "20230117_121925_263_44  0.0  0.0  0.0  0.0  0.0    youtube  \n",
       "20230117_121925_263_45  0.0  0.0  0.0  0.0  0.0    youtube  \n",
       "20230117_121925_263_46  0.0  0.0  0.0  0.0  0.0    youtube  \n",
       "20230117_121925_263_47  0.0  0.0  0.0  0.0  0.0    youtube  \n",
       "\n",
       "[149626 rows x 121 columns]"
      ]
     },
     "execution_count": 3,
     "metadata": {},
     "output_type": "execute_result"
    }
   ],
   "source": [
    "df_train = load_and_preprocess_agg_window(\"../Mesures/train\", length_value = DEFAULT_LENGTH_Value)\n",
    "\n",
    "df_test = load_and_preprocess_agg_window(\"../Mesures/test\", length_value = DEFAULT_LENGTH_Value)\n",
    "df_test\n"
   ]
  },
  {
   "cell_type": "markdown",
   "id": "a536a54e",
   "metadata": {},
   "source": [
    "# Noise"
   ]
  },
  {
   "cell_type": "code",
   "execution_count": 42,
   "id": "fb379dc2",
   "metadata": {},
   "outputs": [
    {
     "data": {
      "text/html": [
       "<div>\n",
       "<style scoped>\n",
       "    .dataframe tbody tr th:only-of-type {\n",
       "        vertical-align: middle;\n",
       "    }\n",
       "\n",
       "    .dataframe tbody tr th {\n",
       "        vertical-align: top;\n",
       "    }\n",
       "\n",
       "    .dataframe thead th {\n",
       "        text-align: right;\n",
       "    }\n",
       "</style>\n",
       "<table border=\"1\" class=\"dataframe\">\n",
       "  <thead>\n",
       "    <tr style=\"text-align: right;\">\n",
       "      <th></th>\n",
       "      <th>0</th>\n",
       "      <th>1</th>\n",
       "      <th>2</th>\n",
       "      <th>3</th>\n",
       "      <th>4</th>\n",
       "      <th>5</th>\n",
       "      <th>6</th>\n",
       "      <th>7</th>\n",
       "      <th>8</th>\n",
       "      <th>9</th>\n",
       "      <th>...</th>\n",
       "      <th>111</th>\n",
       "      <th>112</th>\n",
       "      <th>113</th>\n",
       "      <th>114</th>\n",
       "      <th>115</th>\n",
       "      <th>116</th>\n",
       "      <th>117</th>\n",
       "      <th>118</th>\n",
       "      <th>119</th>\n",
       "      <th>label</th>\n",
       "    </tr>\n",
       "  </thead>\n",
       "  <tbody>\n",
       "    <tr>\n",
       "      <th>20221117_125310_4_0</th>\n",
       "      <td>320.0</td>\n",
       "      <td>914.730159</td>\n",
       "      <td>1509.460317</td>\n",
       "      <td>1245.169231</td>\n",
       "      <td>1546.434783</td>\n",
       "      <td>1308.988235</td>\n",
       "      <td>258.666667</td>\n",
       "      <td>355.060606</td>\n",
       "      <td>451.454545</td>\n",
       "      <td>547.848485</td>\n",
       "      <td>...</td>\n",
       "      <td>0.0</td>\n",
       "      <td>0.0</td>\n",
       "      <td>0.0</td>\n",
       "      <td>0.0</td>\n",
       "      <td>0.0</td>\n",
       "      <td>0.0</td>\n",
       "      <td>0.0</td>\n",
       "      <td>0.0</td>\n",
       "      <td>0.0</td>\n",
       "      <td>messenger</td>\n",
       "    </tr>\n",
       "    <tr>\n",
       "      <th>20221117_125310_4_1</th>\n",
       "      <td>914.730159</td>\n",
       "      <td>1509.460317</td>\n",
       "      <td>1245.169231</td>\n",
       "      <td>1546.434783</td>\n",
       "      <td>1308.988235</td>\n",
       "      <td>258.666667</td>\n",
       "      <td>355.060606</td>\n",
       "      <td>451.454545</td>\n",
       "      <td>547.848485</td>\n",
       "      <td>644.242424</td>\n",
       "      <td>...</td>\n",
       "      <td>0.0</td>\n",
       "      <td>0.0</td>\n",
       "      <td>0.0</td>\n",
       "      <td>0.0</td>\n",
       "      <td>0.0</td>\n",
       "      <td>0.0</td>\n",
       "      <td>0.0</td>\n",
       "      <td>0.0</td>\n",
       "      <td>0.0</td>\n",
       "      <td>messenger</td>\n",
       "    </tr>\n",
       "    <tr>\n",
       "      <th>20221117_125310_4_2</th>\n",
       "      <td>1509.460317</td>\n",
       "      <td>1245.169231</td>\n",
       "      <td>1546.434783</td>\n",
       "      <td>1308.988235</td>\n",
       "      <td>258.666667</td>\n",
       "      <td>355.060606</td>\n",
       "      <td>451.454545</td>\n",
       "      <td>547.848485</td>\n",
       "      <td>644.242424</td>\n",
       "      <td>740.636364</td>\n",
       "      <td>...</td>\n",
       "      <td>0.0</td>\n",
       "      <td>0.0</td>\n",
       "      <td>0.0</td>\n",
       "      <td>0.0</td>\n",
       "      <td>0.0</td>\n",
       "      <td>0.0</td>\n",
       "      <td>0.0</td>\n",
       "      <td>0.0</td>\n",
       "      <td>0.0</td>\n",
       "      <td>messenger</td>\n",
       "    </tr>\n",
       "    <tr>\n",
       "      <th>20221117_125310_4_3</th>\n",
       "      <td>1245.169231</td>\n",
       "      <td>1546.434783</td>\n",
       "      <td>1308.988235</td>\n",
       "      <td>258.666667</td>\n",
       "      <td>355.060606</td>\n",
       "      <td>451.454545</td>\n",
       "      <td>547.848485</td>\n",
       "      <td>644.242424</td>\n",
       "      <td>740.636364</td>\n",
       "      <td>837.030303</td>\n",
       "      <td>...</td>\n",
       "      <td>0.0</td>\n",
       "      <td>0.0</td>\n",
       "      <td>0.0</td>\n",
       "      <td>0.0</td>\n",
       "      <td>0.0</td>\n",
       "      <td>0.0</td>\n",
       "      <td>0.0</td>\n",
       "      <td>0.0</td>\n",
       "      <td>0.0</td>\n",
       "      <td>messenger</td>\n",
       "    </tr>\n",
       "    <tr>\n",
       "      <th>20221117_125310_4_4</th>\n",
       "      <td>1546.434783</td>\n",
       "      <td>1308.988235</td>\n",
       "      <td>258.666667</td>\n",
       "      <td>355.060606</td>\n",
       "      <td>451.454545</td>\n",
       "      <td>547.848485</td>\n",
       "      <td>644.242424</td>\n",
       "      <td>740.636364</td>\n",
       "      <td>837.030303</td>\n",
       "      <td>933.424242</td>\n",
       "      <td>...</td>\n",
       "      <td>0.0</td>\n",
       "      <td>0.0</td>\n",
       "      <td>0.0</td>\n",
       "      <td>0.0</td>\n",
       "      <td>0.0</td>\n",
       "      <td>0.0</td>\n",
       "      <td>0.0</td>\n",
       "      <td>0.0</td>\n",
       "      <td>0.0</td>\n",
       "      <td>messenger</td>\n",
       "    </tr>\n",
       "    <tr>\n",
       "      <th>...</th>\n",
       "      <td>...</td>\n",
       "      <td>...</td>\n",
       "      <td>...</td>\n",
       "      <td>...</td>\n",
       "      <td>...</td>\n",
       "      <td>...</td>\n",
       "      <td>...</td>\n",
       "      <td>...</td>\n",
       "      <td>...</td>\n",
       "      <td>...</td>\n",
       "      <td>...</td>\n",
       "      <td>...</td>\n",
       "      <td>...</td>\n",
       "      <td>...</td>\n",
       "      <td>...</td>\n",
       "      <td>...</td>\n",
       "      <td>...</td>\n",
       "      <td>...</td>\n",
       "      <td>...</td>\n",
       "      <td>...</td>\n",
       "      <td>...</td>\n",
       "    </tr>\n",
       "    <tr>\n",
       "      <th>20230124_124323_166_41</th>\n",
       "      <td>342.197802</td>\n",
       "      <td>1027.632234</td>\n",
       "      <td>1713.066667</td>\n",
       "      <td>1521.530398</td>\n",
       "      <td>1329.99413</td>\n",
       "      <td>1138.457862</td>\n",
       "      <td>946.921593</td>\n",
       "      <td>755.385325</td>\n",
       "      <td>563.849057</td>\n",
       "      <td>708.165289</td>\n",
       "      <td>...</td>\n",
       "      <td>0.0</td>\n",
       "      <td>0.0</td>\n",
       "      <td>0.0</td>\n",
       "      <td>0.0</td>\n",
       "      <td>0.0</td>\n",
       "      <td>0.0</td>\n",
       "      <td>0.0</td>\n",
       "      <td>0.0</td>\n",
       "      <td>0.0</td>\n",
       "      <td>youtube</td>\n",
       "    </tr>\n",
       "    <tr>\n",
       "      <th>20230124_124323_166_42</th>\n",
       "      <td>1027.632234</td>\n",
       "      <td>1713.066667</td>\n",
       "      <td>1521.530398</td>\n",
       "      <td>1329.99413</td>\n",
       "      <td>1138.457862</td>\n",
       "      <td>946.921593</td>\n",
       "      <td>755.385325</td>\n",
       "      <td>563.849057</td>\n",
       "      <td>708.165289</td>\n",
       "      <td>732.261136</td>\n",
       "      <td>...</td>\n",
       "      <td>0.0</td>\n",
       "      <td>0.0</td>\n",
       "      <td>0.0</td>\n",
       "      <td>0.0</td>\n",
       "      <td>0.0</td>\n",
       "      <td>0.0</td>\n",
       "      <td>0.0</td>\n",
       "      <td>0.0</td>\n",
       "      <td>0.0</td>\n",
       "      <td>youtube</td>\n",
       "    </tr>\n",
       "    <tr>\n",
       "      <th>20230124_124323_166_43</th>\n",
       "      <td>1713.066667</td>\n",
       "      <td>1521.530398</td>\n",
       "      <td>1329.99413</td>\n",
       "      <td>1138.457862</td>\n",
       "      <td>946.921593</td>\n",
       "      <td>755.385325</td>\n",
       "      <td>563.849057</td>\n",
       "      <td>708.165289</td>\n",
       "      <td>732.261136</td>\n",
       "      <td>756.356983</td>\n",
       "      <td>...</td>\n",
       "      <td>0.0</td>\n",
       "      <td>0.0</td>\n",
       "      <td>0.0</td>\n",
       "      <td>0.0</td>\n",
       "      <td>0.0</td>\n",
       "      <td>0.0</td>\n",
       "      <td>0.0</td>\n",
       "      <td>0.0</td>\n",
       "      <td>0.0</td>\n",
       "      <td>youtube</td>\n",
       "    </tr>\n",
       "    <tr>\n",
       "      <th>20230124_124323_166_44</th>\n",
       "      <td>1521.530398</td>\n",
       "      <td>1329.99413</td>\n",
       "      <td>1138.457862</td>\n",
       "      <td>946.921593</td>\n",
       "      <td>755.385325</td>\n",
       "      <td>563.849057</td>\n",
       "      <td>708.165289</td>\n",
       "      <td>732.261136</td>\n",
       "      <td>756.356983</td>\n",
       "      <td>780.45283</td>\n",
       "      <td>...</td>\n",
       "      <td>0.0</td>\n",
       "      <td>0.0</td>\n",
       "      <td>0.0</td>\n",
       "      <td>0.0</td>\n",
       "      <td>0.0</td>\n",
       "      <td>0.0</td>\n",
       "      <td>0.0</td>\n",
       "      <td>0.0</td>\n",
       "      <td>0.0</td>\n",
       "      <td>youtube</td>\n",
       "    </tr>\n",
       "    <tr>\n",
       "      <th>20230124_124323_166_45</th>\n",
       "      <td>1329.99413</td>\n",
       "      <td>1138.457862</td>\n",
       "      <td>946.921593</td>\n",
       "      <td>755.385325</td>\n",
       "      <td>563.849057</td>\n",
       "      <td>708.165289</td>\n",
       "      <td>732.261136</td>\n",
       "      <td>756.356983</td>\n",
       "      <td>780.45283</td>\n",
       "      <td>743.585185</td>\n",
       "      <td>...</td>\n",
       "      <td>0.0</td>\n",
       "      <td>0.0</td>\n",
       "      <td>0.0</td>\n",
       "      <td>0.0</td>\n",
       "      <td>0.0</td>\n",
       "      <td>0.0</td>\n",
       "      <td>0.0</td>\n",
       "      <td>0.0</td>\n",
       "      <td>0.0</td>\n",
       "      <td>youtube</td>\n",
       "    </tr>\n",
       "  </tbody>\n",
       "</table>\n",
       "<p>351528 rows × 121 columns</p>\n",
       "</div>"
      ],
      "text/plain": [
       "                                  0            1            2            3  \\\n",
       "20221117_125310_4_0           320.0   914.730159  1509.460317  1245.169231   \n",
       "20221117_125310_4_1      914.730159  1509.460317  1245.169231  1546.434783   \n",
       "20221117_125310_4_2     1509.460317  1245.169231  1546.434783  1308.988235   \n",
       "20221117_125310_4_3     1245.169231  1546.434783  1308.988235   258.666667   \n",
       "20221117_125310_4_4     1546.434783  1308.988235   258.666667   355.060606   \n",
       "...                             ...          ...          ...          ...   \n",
       "20230124_124323_166_41   342.197802  1027.632234  1713.066667  1521.530398   \n",
       "20230124_124323_166_42  1027.632234  1713.066667  1521.530398   1329.99413   \n",
       "20230124_124323_166_43  1713.066667  1521.530398   1329.99413  1138.457862   \n",
       "20230124_124323_166_44  1521.530398   1329.99413  1138.457862   946.921593   \n",
       "20230124_124323_166_45   1329.99413  1138.457862   946.921593   755.385325   \n",
       "\n",
       "                                  4            5           6           7  \\\n",
       "20221117_125310_4_0     1546.434783  1308.988235  258.666667  355.060606   \n",
       "20221117_125310_4_1     1308.988235   258.666667  355.060606  451.454545   \n",
       "20221117_125310_4_2      258.666667   355.060606  451.454545  547.848485   \n",
       "20221117_125310_4_3      355.060606   451.454545  547.848485  644.242424   \n",
       "20221117_125310_4_4      451.454545   547.848485  644.242424  740.636364   \n",
       "...                             ...          ...         ...         ...   \n",
       "20230124_124323_166_41   1329.99413  1138.457862  946.921593  755.385325   \n",
       "20230124_124323_166_42  1138.457862   946.921593  755.385325  563.849057   \n",
       "20230124_124323_166_43   946.921593   755.385325  563.849057  708.165289   \n",
       "20230124_124323_166_44   755.385325   563.849057  708.165289  732.261136   \n",
       "20230124_124323_166_45   563.849057   708.165289  732.261136  756.356983   \n",
       "\n",
       "                                 8           9  ...  111  112  113  114  115  \\\n",
       "20221117_125310_4_0     451.454545  547.848485  ...  0.0  0.0  0.0  0.0  0.0   \n",
       "20221117_125310_4_1     547.848485  644.242424  ...  0.0  0.0  0.0  0.0  0.0   \n",
       "20221117_125310_4_2     644.242424  740.636364  ...  0.0  0.0  0.0  0.0  0.0   \n",
       "20221117_125310_4_3     740.636364  837.030303  ...  0.0  0.0  0.0  0.0  0.0   \n",
       "20221117_125310_4_4     837.030303  933.424242  ...  0.0  0.0  0.0  0.0  0.0   \n",
       "...                            ...         ...  ...  ...  ...  ...  ...  ...   \n",
       "20230124_124323_166_41  563.849057  708.165289  ...  0.0  0.0  0.0  0.0  0.0   \n",
       "20230124_124323_166_42  708.165289  732.261136  ...  0.0  0.0  0.0  0.0  0.0   \n",
       "20230124_124323_166_43  732.261136  756.356983  ...  0.0  0.0  0.0  0.0  0.0   \n",
       "20230124_124323_166_44  756.356983   780.45283  ...  0.0  0.0  0.0  0.0  0.0   \n",
       "20230124_124323_166_45   780.45283  743.585185  ...  0.0  0.0  0.0  0.0  0.0   \n",
       "\n",
       "                        116  117  118  119      label  \n",
       "20221117_125310_4_0     0.0  0.0  0.0  0.0  messenger  \n",
       "20221117_125310_4_1     0.0  0.0  0.0  0.0  messenger  \n",
       "20221117_125310_4_2     0.0  0.0  0.0  0.0  messenger  \n",
       "20221117_125310_4_3     0.0  0.0  0.0  0.0  messenger  \n",
       "20221117_125310_4_4     0.0  0.0  0.0  0.0  messenger  \n",
       "...                     ...  ...  ...  ...        ...  \n",
       "20230124_124323_166_41  0.0  0.0  0.0  0.0    youtube  \n",
       "20230124_124323_166_42  0.0  0.0  0.0  0.0    youtube  \n",
       "20230124_124323_166_43  0.0  0.0  0.0  0.0    youtube  \n",
       "20230124_124323_166_44  0.0  0.0  0.0  0.0    youtube  \n",
       "20230124_124323_166_45  0.0  0.0  0.0  0.0    youtube  \n",
       "\n",
       "[351528 rows x 121 columns]"
      ]
     },
     "execution_count": 42,
     "metadata": {},
     "output_type": "execute_result"
    }
   ],
   "source": [
    "df_train"
   ]
  },
  {
   "cell_type": "code",
   "execution_count": 69,
   "id": "ff4062fb",
   "metadata": {},
   "outputs": [],
   "source": [
    "df_train=df_train[df_train.label!=\"noise\"]"
   ]
  },
  {
   "cell_type": "code",
   "execution_count": 70,
   "id": "2d836f05",
   "metadata": {},
   "outputs": [],
   "source": [
    "df_test = df_test[df_test.label!=\"noise\"]"
   ]
  },
  {
   "cell_type": "markdown",
   "id": "2e19ef0c",
   "metadata": {},
   "source": [
    "# Scale"
   ]
  },
  {
   "cell_type": "code",
   "execution_count": 71,
   "id": "3255c169",
   "metadata": {},
   "outputs": [
    {
     "name": "stdout",
     "output_type": "stream",
     "text": [
      "20221124_151137_4_0       messenger\n",
      "20221124_151137_4_1       messenger\n",
      "20221124_151137_4_2       messenger\n",
      "20221124_151137_4_3       messenger\n",
      "20221124_151137_4_4       messenger\n",
      "                            ...    \n",
      "20230117_121925_263_43      youtube\n",
      "20230117_121925_263_44      youtube\n",
      "20230117_121925_263_45      youtube\n",
      "20230117_121925_263_46      youtube\n",
      "20230117_121925_263_47      youtube\n",
      "Name: label, Length: 149519, dtype: object\n"
     ]
    }
   ],
   "source": [
    "scaler = Scaler_Metrics()\n",
    "training_data = scaler.fit_transform(df_train)\n",
    "testing_data = scaler.transform(df_test)"
   ]
  },
  {
   "cell_type": "code",
   "execution_count": 72,
   "id": "1a0eda93",
   "metadata": {},
   "outputs": [
    {
     "data": {
      "text/html": [
       "<div>\n",
       "<style scoped>\n",
       "    .dataframe tbody tr th:only-of-type {\n",
       "        vertical-align: middle;\n",
       "    }\n",
       "\n",
       "    .dataframe tbody tr th {\n",
       "        vertical-align: top;\n",
       "    }\n",
       "\n",
       "    .dataframe thead th {\n",
       "        text-align: right;\n",
       "    }\n",
       "</style>\n",
       "<table border=\"1\" class=\"dataframe\">\n",
       "  <thead>\n",
       "    <tr style=\"text-align: right;\">\n",
       "      <th></th>\n",
       "      <th>0</th>\n",
       "      <th>1</th>\n",
       "      <th>2</th>\n",
       "      <th>3</th>\n",
       "      <th>4</th>\n",
       "      <th>5</th>\n",
       "      <th>6</th>\n",
       "      <th>7</th>\n",
       "      <th>8</th>\n",
       "      <th>9</th>\n",
       "      <th>...</th>\n",
       "      <th>111</th>\n",
       "      <th>112</th>\n",
       "      <th>113</th>\n",
       "      <th>114</th>\n",
       "      <th>115</th>\n",
       "      <th>116</th>\n",
       "      <th>117</th>\n",
       "      <th>118</th>\n",
       "      <th>119</th>\n",
       "      <th>label</th>\n",
       "    </tr>\n",
       "    <tr>\n",
       "      <th>id</th>\n",
       "      <th></th>\n",
       "      <th></th>\n",
       "      <th></th>\n",
       "      <th></th>\n",
       "      <th></th>\n",
       "      <th></th>\n",
       "      <th></th>\n",
       "      <th></th>\n",
       "      <th></th>\n",
       "      <th></th>\n",
       "      <th></th>\n",
       "      <th></th>\n",
       "      <th></th>\n",
       "      <th></th>\n",
       "      <th></th>\n",
       "      <th></th>\n",
       "      <th></th>\n",
       "      <th></th>\n",
       "      <th></th>\n",
       "      <th></th>\n",
       "      <th></th>\n",
       "    </tr>\n",
       "  </thead>\n",
       "  <tbody>\n",
       "    <tr>\n",
       "      <th>20221117_125310_4_0</th>\n",
       "      <td>-1.753921</td>\n",
       "      <td>-1.334220</td>\n",
       "      <td>-0.913343</td>\n",
       "      <td>-1.101539</td>\n",
       "      <td>-0.887560</td>\n",
       "      <td>-1.055931</td>\n",
       "      <td>-1.801776</td>\n",
       "      <td>-1.733633</td>\n",
       "      <td>-1.664624</td>\n",
       "      <td>-1.595734</td>\n",
       "      <td>...</td>\n",
       "      <td>-0.033848</td>\n",
       "      <td>-0.033913</td>\n",
       "      <td>-0.033963</td>\n",
       "      <td>-0.034023</td>\n",
       "      <td>-0.034089</td>\n",
       "      <td>-0.034148</td>\n",
       "      <td>-0.034205</td>\n",
       "      <td>-0.034226</td>\n",
       "      <td>-0.034269</td>\n",
       "      <td>messenger</td>\n",
       "    </tr>\n",
       "    <tr>\n",
       "      <th>20221117_125310_4_1</th>\n",
       "      <td>-1.332309</td>\n",
       "      <td>-0.912289</td>\n",
       "      <td>-1.101006</td>\n",
       "      <td>-0.887561</td>\n",
       "      <td>-1.056158</td>\n",
       "      <td>-1.801398</td>\n",
       "      <td>-1.733352</td>\n",
       "      <td>-1.665207</td>\n",
       "      <td>-1.596234</td>\n",
       "      <td>-1.527381</td>\n",
       "      <td>...</td>\n",
       "      <td>-0.033848</td>\n",
       "      <td>-0.033913</td>\n",
       "      <td>-0.033963</td>\n",
       "      <td>-0.034023</td>\n",
       "      <td>-0.034089</td>\n",
       "      <td>-0.034148</td>\n",
       "      <td>-0.034205</td>\n",
       "      <td>-0.034226</td>\n",
       "      <td>-0.034269</td>\n",
       "      <td>messenger</td>\n",
       "    </tr>\n",
       "    <tr>\n",
       "      <th>20221117_125310_4_2</th>\n",
       "      <td>-0.910697</td>\n",
       "      <td>-1.099790</td>\n",
       "      <td>-0.887089</td>\n",
       "      <td>-1.056211</td>\n",
       "      <td>-1.801936</td>\n",
       "      <td>-1.732983</td>\n",
       "      <td>-1.664928</td>\n",
       "      <td>-1.596780</td>\n",
       "      <td>-1.527844</td>\n",
       "      <td>-1.459028</td>\n",
       "      <td>...</td>\n",
       "      <td>-0.033848</td>\n",
       "      <td>-0.033913</td>\n",
       "      <td>-0.033963</td>\n",
       "      <td>-0.034023</td>\n",
       "      <td>-0.034089</td>\n",
       "      <td>-0.034148</td>\n",
       "      <td>-0.034205</td>\n",
       "      <td>-0.034226</td>\n",
       "      <td>-0.034269</td>\n",
       "      <td>messenger</td>\n",
       "    </tr>\n",
       "    <tr>\n",
       "      <th>20221117_125310_4_3</th>\n",
       "      <td>-1.098056</td>\n",
       "      <td>-0.886057</td>\n",
       "      <td>-1.055691</td>\n",
       "      <td>-1.802216</td>\n",
       "      <td>-1.733492</td>\n",
       "      <td>-1.664567</td>\n",
       "      <td>-1.596503</td>\n",
       "      <td>-1.528354</td>\n",
       "      <td>-1.459454</td>\n",
       "      <td>-1.390675</td>\n",
       "      <td>...</td>\n",
       "      <td>-0.033848</td>\n",
       "      <td>-0.033913</td>\n",
       "      <td>-0.033963</td>\n",
       "      <td>-0.034023</td>\n",
       "      <td>-0.034089</td>\n",
       "      <td>-0.034148</td>\n",
       "      <td>-0.034205</td>\n",
       "      <td>-0.034226</td>\n",
       "      <td>-0.034269</td>\n",
       "      <td>messenger</td>\n",
       "    </tr>\n",
       "    <tr>\n",
       "      <th>20221117_125310_4_4</th>\n",
       "      <td>-0.884485</td>\n",
       "      <td>-1.054514</td>\n",
       "      <td>-1.801482</td>\n",
       "      <td>-1.733751</td>\n",
       "      <td>-1.665047</td>\n",
       "      <td>-1.596151</td>\n",
       "      <td>-1.528079</td>\n",
       "      <td>-1.459927</td>\n",
       "      <td>-1.391064</td>\n",
       "      <td>-1.322322</td>\n",
       "      <td>...</td>\n",
       "      <td>-0.033848</td>\n",
       "      <td>-0.033913</td>\n",
       "      <td>-0.033963</td>\n",
       "      <td>-0.034023</td>\n",
       "      <td>-0.034089</td>\n",
       "      <td>-0.034148</td>\n",
       "      <td>-0.034205</td>\n",
       "      <td>-0.034226</td>\n",
       "      <td>-0.034269</td>\n",
       "      <td>messenger</td>\n",
       "    </tr>\n",
       "    <tr>\n",
       "      <th>...</th>\n",
       "      <td>...</td>\n",
       "      <td>...</td>\n",
       "      <td>...</td>\n",
       "      <td>...</td>\n",
       "      <td>...</td>\n",
       "      <td>...</td>\n",
       "      <td>...</td>\n",
       "      <td>...</td>\n",
       "      <td>...</td>\n",
       "      <td>...</td>\n",
       "      <td>...</td>\n",
       "      <td>...</td>\n",
       "      <td>...</td>\n",
       "      <td>...</td>\n",
       "      <td>...</td>\n",
       "      <td>...</td>\n",
       "      <td>...</td>\n",
       "      <td>...</td>\n",
       "      <td>...</td>\n",
       "      <td>...</td>\n",
       "      <td>...</td>\n",
       "    </tr>\n",
       "    <tr>\n",
       "      <th>20230124_124323_166_41</th>\n",
       "      <td>-1.738185</td>\n",
       "      <td>-1.254122</td>\n",
       "      <td>-0.768770</td>\n",
       "      <td>-0.905250</td>\n",
       "      <td>-1.041243</td>\n",
       "      <td>-1.176965</td>\n",
       "      <td>-1.313225</td>\n",
       "      <td>-1.449457</td>\n",
       "      <td>-1.584882</td>\n",
       "      <td>-1.482053</td>\n",
       "      <td>...</td>\n",
       "      <td>-0.033848</td>\n",
       "      <td>-0.033913</td>\n",
       "      <td>-0.033963</td>\n",
       "      <td>-0.034023</td>\n",
       "      <td>-0.034089</td>\n",
       "      <td>-0.034148</td>\n",
       "      <td>-0.034205</td>\n",
       "      <td>-0.034226</td>\n",
       "      <td>-0.034269</td>\n",
       "      <td>youtube</td>\n",
       "    </tr>\n",
       "    <tr>\n",
       "      <th>20230124_124323_166_42</th>\n",
       "      <td>-1.252271</td>\n",
       "      <td>-0.767840</td>\n",
       "      <td>-0.904773</td>\n",
       "      <td>-1.041291</td>\n",
       "      <td>-1.177243</td>\n",
       "      <td>-1.312908</td>\n",
       "      <td>-1.449185</td>\n",
       "      <td>-1.585422</td>\n",
       "      <td>-1.482492</td>\n",
       "      <td>-1.464967</td>\n",
       "      <td>...</td>\n",
       "      <td>-0.033848</td>\n",
       "      <td>-0.033913</td>\n",
       "      <td>-0.033963</td>\n",
       "      <td>-0.034023</td>\n",
       "      <td>-0.034089</td>\n",
       "      <td>-0.034148</td>\n",
       "      <td>-0.034205</td>\n",
       "      <td>-0.034226</td>\n",
       "      <td>-0.034269</td>\n",
       "      <td>youtube</td>\n",
       "    </tr>\n",
       "    <tr>\n",
       "      <th>20230124_124323_166_43</th>\n",
       "      <td>-0.766357</td>\n",
       "      <td>-0.903726</td>\n",
       "      <td>-1.040775</td>\n",
       "      <td>-1.177332</td>\n",
       "      <td>-1.313243</td>\n",
       "      <td>-1.448851</td>\n",
       "      <td>-1.585145</td>\n",
       "      <td>-1.482977</td>\n",
       "      <td>-1.465396</td>\n",
       "      <td>-1.447881</td>\n",
       "      <td>...</td>\n",
       "      <td>-0.033848</td>\n",
       "      <td>-0.033913</td>\n",
       "      <td>-0.033963</td>\n",
       "      <td>-0.034023</td>\n",
       "      <td>-0.034089</td>\n",
       "      <td>-0.034148</td>\n",
       "      <td>-0.034205</td>\n",
       "      <td>-0.034226</td>\n",
       "      <td>-0.034269</td>\n",
       "      <td>youtube</td>\n",
       "    </tr>\n",
       "    <tr>\n",
       "      <th>20230124_124323_166_44</th>\n",
       "      <td>-0.902140</td>\n",
       "      <td>-1.039611</td>\n",
       "      <td>-1.176777</td>\n",
       "      <td>-1.313374</td>\n",
       "      <td>-1.449242</td>\n",
       "      <td>-1.584795</td>\n",
       "      <td>-1.482704</td>\n",
       "      <td>-1.465872</td>\n",
       "      <td>-1.448301</td>\n",
       "      <td>-1.430794</td>\n",
       "      <td>...</td>\n",
       "      <td>-0.033848</td>\n",
       "      <td>-0.033913</td>\n",
       "      <td>-0.033963</td>\n",
       "      <td>-0.034023</td>\n",
       "      <td>-0.034089</td>\n",
       "      <td>-0.034148</td>\n",
       "      <td>-0.034205</td>\n",
       "      <td>-0.034226</td>\n",
       "      <td>-0.034269</td>\n",
       "      <td>youtube</td>\n",
       "    </tr>\n",
       "    <tr>\n",
       "      <th>20230124_124323_166_45</th>\n",
       "      <td>-1.037923</td>\n",
       "      <td>-1.175496</td>\n",
       "      <td>-1.312780</td>\n",
       "      <td>-1.449415</td>\n",
       "      <td>-1.585242</td>\n",
       "      <td>-1.482366</td>\n",
       "      <td>-1.465599</td>\n",
       "      <td>-1.448768</td>\n",
       "      <td>-1.431205</td>\n",
       "      <td>-1.456937</td>\n",
       "      <td>...</td>\n",
       "      <td>-0.033848</td>\n",
       "      <td>-0.033913</td>\n",
       "      <td>-0.033963</td>\n",
       "      <td>-0.034023</td>\n",
       "      <td>-0.034089</td>\n",
       "      <td>-0.034148</td>\n",
       "      <td>-0.034205</td>\n",
       "      <td>-0.034226</td>\n",
       "      <td>-0.034269</td>\n",
       "      <td>youtube</td>\n",
       "    </tr>\n",
       "  </tbody>\n",
       "</table>\n",
       "<p>348965 rows × 121 columns</p>\n",
       "</div>"
      ],
      "text/plain": [
       "                               0         1         2         3         4  \\\n",
       "id                                                                         \n",
       "20221117_125310_4_0    -1.753921 -1.334220 -0.913343 -1.101539 -0.887560   \n",
       "20221117_125310_4_1    -1.332309 -0.912289 -1.101006 -0.887561 -1.056158   \n",
       "20221117_125310_4_2    -0.910697 -1.099790 -0.887089 -1.056211 -1.801936   \n",
       "20221117_125310_4_3    -1.098056 -0.886057 -1.055691 -1.802216 -1.733492   \n",
       "20221117_125310_4_4    -0.884485 -1.054514 -1.801482 -1.733751 -1.665047   \n",
       "...                          ...       ...       ...       ...       ...   \n",
       "20230124_124323_166_41 -1.738185 -1.254122 -0.768770 -0.905250 -1.041243   \n",
       "20230124_124323_166_42 -1.252271 -0.767840 -0.904773 -1.041291 -1.177243   \n",
       "20230124_124323_166_43 -0.766357 -0.903726 -1.040775 -1.177332 -1.313243   \n",
       "20230124_124323_166_44 -0.902140 -1.039611 -1.176777 -1.313374 -1.449242   \n",
       "20230124_124323_166_45 -1.037923 -1.175496 -1.312780 -1.449415 -1.585242   \n",
       "\n",
       "                               5         6         7         8         9  ...  \\\n",
       "id                                                                        ...   \n",
       "20221117_125310_4_0    -1.055931 -1.801776 -1.733633 -1.664624 -1.595734  ...   \n",
       "20221117_125310_4_1    -1.801398 -1.733352 -1.665207 -1.596234 -1.527381  ...   \n",
       "20221117_125310_4_2    -1.732983 -1.664928 -1.596780 -1.527844 -1.459028  ...   \n",
       "20221117_125310_4_3    -1.664567 -1.596503 -1.528354 -1.459454 -1.390675  ...   \n",
       "20221117_125310_4_4    -1.596151 -1.528079 -1.459927 -1.391064 -1.322322  ...   \n",
       "...                          ...       ...       ...       ...       ...  ...   \n",
       "20230124_124323_166_41 -1.176965 -1.313225 -1.449457 -1.584882 -1.482053  ...   \n",
       "20230124_124323_166_42 -1.312908 -1.449185 -1.585422 -1.482492 -1.464967  ...   \n",
       "20230124_124323_166_43 -1.448851 -1.585145 -1.482977 -1.465396 -1.447881  ...   \n",
       "20230124_124323_166_44 -1.584795 -1.482704 -1.465872 -1.448301 -1.430794  ...   \n",
       "20230124_124323_166_45 -1.482366 -1.465599 -1.448768 -1.431205 -1.456937  ...   \n",
       "\n",
       "                             111       112       113       114       115  \\\n",
       "id                                                                         \n",
       "20221117_125310_4_0    -0.033848 -0.033913 -0.033963 -0.034023 -0.034089   \n",
       "20221117_125310_4_1    -0.033848 -0.033913 -0.033963 -0.034023 -0.034089   \n",
       "20221117_125310_4_2    -0.033848 -0.033913 -0.033963 -0.034023 -0.034089   \n",
       "20221117_125310_4_3    -0.033848 -0.033913 -0.033963 -0.034023 -0.034089   \n",
       "20221117_125310_4_4    -0.033848 -0.033913 -0.033963 -0.034023 -0.034089   \n",
       "...                          ...       ...       ...       ...       ...   \n",
       "20230124_124323_166_41 -0.033848 -0.033913 -0.033963 -0.034023 -0.034089   \n",
       "20230124_124323_166_42 -0.033848 -0.033913 -0.033963 -0.034023 -0.034089   \n",
       "20230124_124323_166_43 -0.033848 -0.033913 -0.033963 -0.034023 -0.034089   \n",
       "20230124_124323_166_44 -0.033848 -0.033913 -0.033963 -0.034023 -0.034089   \n",
       "20230124_124323_166_45 -0.033848 -0.033913 -0.033963 -0.034023 -0.034089   \n",
       "\n",
       "                             116       117       118       119      label  \n",
       "id                                                                         \n",
       "20221117_125310_4_0    -0.034148 -0.034205 -0.034226 -0.034269  messenger  \n",
       "20221117_125310_4_1    -0.034148 -0.034205 -0.034226 -0.034269  messenger  \n",
       "20221117_125310_4_2    -0.034148 -0.034205 -0.034226 -0.034269  messenger  \n",
       "20221117_125310_4_3    -0.034148 -0.034205 -0.034226 -0.034269  messenger  \n",
       "20221117_125310_4_4    -0.034148 -0.034205 -0.034226 -0.034269  messenger  \n",
       "...                          ...       ...       ...       ...        ...  \n",
       "20230124_124323_166_41 -0.034148 -0.034205 -0.034226 -0.034269    youtube  \n",
       "20230124_124323_166_42 -0.034148 -0.034205 -0.034226 -0.034269    youtube  \n",
       "20230124_124323_166_43 -0.034148 -0.034205 -0.034226 -0.034269    youtube  \n",
       "20230124_124323_166_44 -0.034148 -0.034205 -0.034226 -0.034269    youtube  \n",
       "20230124_124323_166_45 -0.034148 -0.034205 -0.034226 -0.034269    youtube  \n",
       "\n",
       "[348965 rows x 121 columns]"
      ]
     },
     "execution_count": 72,
     "metadata": {},
     "output_type": "execute_result"
    }
   ],
   "source": [
    "training_data"
   ]
  },
  {
   "cell_type": "code",
   "execution_count": 73,
   "id": "eb69e5ac",
   "metadata": {},
   "outputs": [
    {
     "data": {
      "text/plain": [
       "array([[-1.75, -0.03],\n",
       "       [-1.33, -0.03],\n",
       "       [-0.91, -0.03],\n",
       "       [-1.1 , -0.03],\n",
       "       [-0.89,  0.45]])"
      ]
     },
     "execution_count": 73,
     "metadata": {},
     "output_type": "execute_result"
    }
   ],
   "source": [
    "data_col = training_data.columns[:-1]\n",
    "X_train, X_test = training_data[data_col].values, testing_data[data_col].values\n",
    "X_train, X_test = X_train.reshape((-1,DEFAULT_LENGTH_Value,2), order='F'), X_test.reshape((-1,DEFAULT_LENGTH_Value,2), order='F')\n",
    "y_train, y_test = training_data.label, testing_data.label\n",
    "X_train[0,:5]"
   ]
  },
  {
   "cell_type": "markdown",
   "id": "9aaf870f",
   "metadata": {},
   "source": [
    "# Binarize"
   ]
  },
  {
   "cell_type": "code",
   "execution_count": 74,
   "id": "98c067fa",
   "metadata": {},
   "outputs": [
    {
     "data": {
      "text/plain": [
       "array([[1, 0, 0, 0, 0],\n",
       "       [1, 0, 0, 0, 0],\n",
       "       [1, 0, 0, 0, 0],\n",
       "       ...,\n",
       "       [0, 0, 0, 0, 1],\n",
       "       [0, 0, 0, 0, 1],\n",
       "       [0, 0, 0, 0, 1]])"
      ]
     },
     "execution_count": 74,
     "metadata": {},
     "output_type": "execute_result"
    }
   ],
   "source": [
    "\n",
    "\n",
    "label_binarizer = sklearn.preprocessing.LabelBinarizer()\n",
    "y_train_encoded = label_binarizer.fit_transform(y_train)\n",
    "y_test_encoded = label_binarizer.transform(y_test)\n",
    "\n",
    "y_test_encoded"
   ]
  },
  {
   "cell_type": "code",
   "execution_count": 75,
   "id": "015b2e72",
   "metadata": {},
   "outputs": [
    {
     "data": {
      "text/plain": [
       "{'messenger': array([1, 0, 0, 0, 0]),\n",
       " 'skype': array([0, 1, 0, 0, 0]),\n",
       " 'spotify': array([0, 0, 1, 0, 0]),\n",
       " 'twitch': array([0, 0, 0, 1, 0]),\n",
       " 'youtube': array([0, 0, 0, 0, 1])}"
      ]
     },
     "execution_count": 75,
     "metadata": {},
     "output_type": "execute_result"
    }
   ],
   "source": [
    "uniq_label = training_data.label.unique()\n",
    "correspondance = dict(zip(uniq_label,label_binarizer.transform(uniq_label)))\n",
    "correspondance\n"
   ]
  },
  {
   "cell_type": "markdown",
   "id": "9a1a36de",
   "metadata": {},
   "source": [
    "# Class_weight"
   ]
  },
  {
   "cell_type": "code",
   "execution_count": 76,
   "id": "6c018bc0",
   "metadata": {},
   "outputs": [
    {
     "data": {
      "text/plain": [
       "{0: 0.6709188087593486,\n",
       " 1: 0.4922834934473176,\n",
       " 2: 3.185149689667762,\n",
       " 3: 1.5715958476885317,\n",
       " 4: 1.8942840082510042}"
      ]
     },
     "execution_count": 76,
     "metadata": {},
     "output_type": "execute_result"
    }
   ],
   "source": [
    "\n",
    "\n",
    "class_weights = dict(zip(np.unique(np.argmax(y_train_encoded, axis = 1)), compute_class_weight(class_weight ='balanced',\n",
    "                                                  classes =np.unique(y_train),\n",
    "                                                               y =y_train)))\n",
    "class_weights"
   ]
  },
  {
   "cell_type": "markdown",
   "id": "b474313f",
   "metadata": {},
   "source": [
    "# Train"
   ]
  },
  {
   "cell_type": "code",
   "execution_count": 77,
   "id": "462dd29b",
   "metadata": {},
   "outputs": [],
   "source": [
    "\n",
    "X_train, X_val, y_train_encoded, y_val_encoded = train_test_split(X_train, y_train_encoded, test_size=0.01, random_state=42)"
   ]
  },
  {
   "cell_type": "code",
   "execution_count": 78,
   "id": "d1390b57",
   "metadata": {},
   "outputs": [
    {
     "data": {
      "text/plain": [
       "(345475, 60, 2)"
      ]
     },
     "execution_count": 78,
     "metadata": {},
     "output_type": "execute_result"
    }
   ],
   "source": [
    "X_train.shape"
   ]
  },
  {
   "cell_type": "code",
   "execution_count": null,
   "id": "66cca57e",
   "metadata": {},
   "outputs": [],
   "source": []
  },
  {
   "cell_type": "code",
   "execution_count": null,
   "id": "a37493ba",
   "metadata": {},
   "outputs": [],
   "source": []
  },
  {
   "cell_type": "code",
   "execution_count": 79,
   "id": "6adbcb01",
   "metadata": {},
   "outputs": [],
   "source": [
    "model = Sequential()\n",
    "\n",
    "model.add(Conv1D(32, 5, activation='relu'))\n",
    "model.add(MaxPool1D()) #Adding a convultion layer\n",
    "\n",
    "model.add(Conv1D(64, 5, activation='relu'))\n",
    "model.add(MaxPool1D()) #\n",
    "\n",
    "model.add(Conv1D(32, 5, activation='relu'))\n",
    "model.add(MaxPool1D())\n",
    "\n",
    "model.add(Flatten())\n",
    "model.add(Dense(128, activation='relu'))\n",
    "model.add(Dense(len(class_weights.keys()), activation='sigmoid'))\n",
    "\n",
    "\n"
   ]
  },
  {
   "cell_type": "code",
   "execution_count": 80,
   "id": "9bb52ecf",
   "metadata": {},
   "outputs": [
    {
     "name": "stdout",
     "output_type": "stream",
     "text": [
      "Model: \"sequential_8\"\n",
      "_________________________________________________________________\n",
      " Layer (type)                Output Shape              Param #   \n",
      "=================================================================\n",
      " conv1d_19 (Conv1D)          (None, 56, 32)            352       \n",
      "                                                                 \n",
      " max_pooling1d_18 (MaxPoolin  (None, 28, 32)           0         \n",
      " g1D)                                                            \n",
      "                                                                 \n",
      " conv1d_20 (Conv1D)          (None, 24, 64)            10304     \n",
      "                                                                 \n",
      " max_pooling1d_19 (MaxPoolin  (None, 12, 64)           0         \n",
      " g1D)                                                            \n",
      "                                                                 \n",
      " conv1d_21 (Conv1D)          (None, 8, 32)             10272     \n",
      "                                                                 \n",
      " max_pooling1d_20 (MaxPoolin  (None, 4, 32)            0         \n",
      " g1D)                                                            \n",
      "                                                                 \n",
      " flatten_6 (Flatten)         (None, 128)               0         \n",
      "                                                                 \n",
      " dense_11 (Dense)            (None, 128)               16512     \n",
      "                                                                 \n",
      " dense_12 (Dense)            (None, 5)                 645       \n",
      "                                                                 \n",
      "=================================================================\n",
      "Total params: 38,085\n",
      "Trainable params: 38,085\n",
      "Non-trainable params: 0\n",
      "_________________________________________________________________\n"
     ]
    }
   ],
   "source": [
    "#Conv 1 : output_shape= (None, length_values-5+1,32)    (None, 56,32)\n",
    "model.compile('adam', loss = tf.losses.BinaryCrossentropy(), metrics =['accuracy'])\n",
    "model.build((None, 60, 2))\n",
    "model.summary()"
   ]
  },
  {
   "cell_type": "code",
   "execution_count": 81,
   "id": "2b445e07",
   "metadata": {},
   "outputs": [
    {
     "name": "stdout",
     "output_type": "stream",
     "text": [
      "Epoch 1/40\n",
      "10797/10797 [==============================] - 59s 5ms/step - loss: 0.1771 - accuracy: 0.7806 - val_loss: 0.2557 - val_accuracy: 0.6832\n",
      "Epoch 2/40\n",
      "10797/10797 [==============================] - 53s 5ms/step - loss: 0.1433 - accuracy: 0.8102 - val_loss: 0.2269 - val_accuracy: 0.7423\n",
      "Epoch 3/40\n",
      "10797/10797 [==============================] - 52s 5ms/step - loss: 0.1227 - accuracy: 0.8275 - val_loss: 0.2292 - val_accuracy: 0.7392\n",
      "Epoch 4/40\n",
      "10797/10797 [==============================] - 53s 5ms/step - loss: 0.1083 - accuracy: 0.8418 - val_loss: 0.2436 - val_accuracy: 0.7205\n",
      "Epoch 5/40\n",
      "10797/10797 [==============================] - 52s 5ms/step - loss: 0.0965 - accuracy: 0.8558 - val_loss: 0.3133 - val_accuracy: 0.6920\n"
     ]
    },
    {
     "data": {
      "text/plain": [
       "<tensorflow.python.checkpoint.checkpoint.CheckpointLoadStatus at 0x17066f13340>"
      ]
     },
     "execution_count": 81,
     "metadata": {},
     "output_type": "execute_result"
    }
   ],
   "source": [
    "val_data = (X_val,y_val_encoded)\n",
    "val_data = (X_test,y_test_encoded)\n",
    "\n",
    "\n",
    "checkpoint_filepath = '/tmp/checkpoint/best_model'\n",
    "logs_dir = 'tmp/logs'\n",
    "\n",
    "tensorboard_callback = tf.keras.callbacks.TensorBoard(log_dir=logs_dir)\n",
    "model_checkpoint_callback = tf.keras.callbacks.ModelCheckpoint(\n",
    "    filepath=checkpoint_filepath, save_weights_only=True, monitor='val_accuracy',  mode='max',save_best_only=True)\n",
    "\n",
    "early_stop = tf.keras.callbacks.EarlyStopping(monitor='val_loss', patience=3)\n",
    "hist = model.fit(X_train,y_train_encoded, epochs =40, \n",
    "                 validation_data = val_data,\n",
    "                 callbacks =[tensorboard_callback, early_stop,model_checkpoint_callback],\n",
    "                class_weight=class_weights\n",
    "                )\n",
    "\n",
    "model.load_weights(checkpoint_filepath)"
   ]
  },
  {
   "cell_type": "code",
   "execution_count": 82,
   "id": "1f3d54bd",
   "metadata": {},
   "outputs": [
    {
     "data": {
      "image/png": "[encoded data removed]",
      "text/plain": [
       "<Figure size 640x480 with 1 Axes>"
      ]
     },
     "metadata": {},
     "output_type": "display_data"
    }
   ],
   "source": [
    "fig =plt.figure()\n",
    "plt.plot(hist.history['loss'], color ='teal', label ='train_loss')\n",
    "plt.plot(hist.history['val_loss'], color ='red', label ='val_loss')\n",
    "fig.suptitle('Loss', fontsize =20)\n",
    "plt.legend(loc =\"upper left\")\n",
    "plt.show()"
   ]
  },
  {
   "cell_type": "code",
   "execution_count": null,
   "id": "2f578de5",
   "metadata": {},
   "outputs": [],
   "source": []
  },
  {
   "cell_type": "markdown",
   "id": "3dbbba8d",
   "metadata": {},
   "source": [
    "# Evaluate on the test dataset"
   ]
  },
  {
   "cell_type": "code",
   "execution_count": 83,
   "id": "a7123a30",
   "metadata": {},
   "outputs": [
    {
     "name": "stdout",
     "output_type": "stream",
     "text": [
      "4673/4673 [==============================] - 8s 2ms/step\n"
     ]
    }
   ],
   "source": [
    "preds_labels =  model.predict(X_test)\n",
    "preds_labels = label_binarizer.inverse_transform(preds_labels)"
   ]
  },
  {
   "cell_type": "code",
   "execution_count": 84,
   "id": "4d1d540b",
   "metadata": {},
   "outputs": [
    {
     "name": "stdout",
     "output_type": "stream",
     "text": [
      "normalized confusion matrix\n"
     ]
    },
    {
     "data": {
      "image/png": "[encoded data removed]",
      "text/plain": [
       "<Figure size 600x600 with 2 Axes>"
      ]
     },
     "metadata": {},
     "output_type": "display_data"
    }
   ],
   "source": [
    "plot_confusion_matrix(y_test,preds_labels)"
   ]
  },
  {
   "cell_type": "code",
   "execution_count": null,
   "id": "16614033",
   "metadata": {},
   "outputs": [],
   "source": []
  },
  {
   "cell_type": "code",
   "execution_count": null,
   "id": "4708a9dc",
   "metadata": {},
   "outputs": [],
   "source": []
  },
  {
   "cell_type": "code",
   "execution_count": null,
   "id": "a9b0c4e8",
   "metadata": {},
   "outputs": [],
   "source": []
  },
  {
   "cell_type": "markdown",
   "id": "f38853b7",
   "metadata": {},
   "source": [
    "# Evaluate on the train dataset"
   ]
  },
  {
   "cell_type": "code",
   "execution_count": 85,
   "id": "1daae08b",
   "metadata": {
    "scrolled": true
   },
   "outputs": [
    {
     "name": "stdout",
     "output_type": "stream",
     "text": [
      "10797/10797 [==============================] - 16s 1ms/step\n"
     ]
    }
   ],
   "source": [
    "preds_labels =  model.predict(X_train)\n",
    "preds_labels = label_binarizer.inverse_transform(preds_labels)\n",
    "true_labels = label_binarizer.inverse_transform(y_train_encoded)"
   ]
  },
  {
   "cell_type": "code",
   "execution_count": 86,
   "id": "fcaf2e9a",
   "metadata": {},
   "outputs": [
    {
     "name": "stdout",
     "output_type": "stream",
     "text": [
      "normalized confusion matrix\n"
     ]
    },
    {
     "data": {
      "image/png": "[encoded data removed]",
      "text/plain": [
       "<Figure size 600x600 with 2 Axes>"
      ]
     },
     "metadata": {},
     "output_type": "display_data"
    }
   ],
   "source": [
    "plot_confusion_matrix(true_labels,preds_labels)"
   ]
  },
  {
   "cell_type": "code",
   "execution_count": null,
   "id": "c96c59e5",
   "metadata": {},
   "outputs": [],
   "source": []
  },
  {
   "cell_type": "markdown",
   "id": "ad48c19a",
   "metadata": {},
   "source": [
    "# Evaluate on the val dataset"
   ]
  },
  {
   "cell_type": "code",
   "execution_count": 87,
   "id": "100a783a",
   "metadata": {
    "scrolled": true
   },
   "outputs": [
    {
     "name": "stdout",
     "output_type": "stream",
     "text": [
      "110/110 [==============================] - 0s 2ms/step\n"
     ]
    }
   ],
   "source": [
    "preds_labels =  model.predict(X_val)\n",
    "preds_labels = label_binarizer.inverse_transform(preds_labels)\n",
    "true_labels = label_binarizer.inverse_transform(y_val_encoded)"
   ]
  },
  {
   "cell_type": "code",
   "execution_count": 88,
   "id": "ec4c0f52",
   "metadata": {},
   "outputs": [
    {
     "name": "stdout",
     "output_type": "stream",
     "text": [
      "normalized confusion matrix\n"
     ]
    },
    {
     "data": {
      "image/png": "[encoded data removed]",
      "text/plain": [
       "<Figure size 600x600 with 2 Axes>"
      ]
     },
     "metadata": {},
     "output_type": "display_data"
    }
   ],
   "source": [
    "plot_confusion_matrix(true_labels,preds_labels)"
   ]
  },
  {
   "cell_type": "code",
   "execution_count": null,
   "id": "35aa4acc",
   "metadata": {},
   "outputs": [],
   "source": []
  },
  {
   "cell_type": "code",
   "execution_count": null,
   "id": "7daef63e",
   "metadata": {},
   "outputs": [],
   "source": []
  },
  {
   "cell_type": "code",
   "execution_count": null,
   "id": "7c9d07ca",
   "metadata": {},
   "outputs": [],
   "source": []
  }
 ],
 "metadata": {
  "kernelspec": {
   "display_name": "Python 3 (ipykernel)",
   "language": "python",
   "name": "python3"
  },
  "language_info": {
   "codemirror_mode": {
    "name": "ipython",
    "version": 3
   },
   "file_extension": ".py",
   "mimetype": "text/x-python",
   "name": "python",
   "nbconvert_exporter": "python",
   "pygments_lexer": "ipython3",
   "version": "3.9.15"
  }
 },
 "nbformat": 4,
 "nbformat_minor": 5
}
