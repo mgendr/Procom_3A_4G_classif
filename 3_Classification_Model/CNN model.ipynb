{
 "cells": [
  {
   "cell_type": "code",
   "execution_count": 1,
   "id": "4c53af1c",
   "metadata": {},
   "outputs": [],
   "source": [
    "import os\n",
    "import pandas as pd\n",
    "import warnings\n",
    "import matplotlib.pyplot as plt\n",
    "\n",
    "import numpy as np\n",
    "import seaborn as sns\n",
    "\n",
    "from tqdm import tqdm\n",
    "from random import randint\n",
    "from sklearn.model_selection import train_test_split\n",
    "\n",
    "import itertools\n"
   ]
  },
  {
   "cell_type": "code",
   "execution_count": 2,
   "id": "b66b2e91",
   "metadata": {},
   "outputs": [],
   "source": [
    "DEFAULT_LENGTH_Value = 60"
   ]
  },
  {
   "cell_type": "code",
   "execution_count": 3,
   "id": "da843876",
   "metadata": {},
   "outputs": [],
   "source": [
    "\n",
    "\n",
    "# key : value\n",
    "# uniq_id : [60 values, label]"
   ]
  },
  {
   "cell_type": "code",
   "execution_count": null,
   "id": "53944b6c",
   "metadata": {},
   "outputs": [],
   "source": []
  },
  {
   "cell_type": "code",
   "execution_count": null,
   "id": "3255c169",
   "metadata": {},
   "outputs": [],
   "source": []
  },
  {
   "cell_type": "code",
   "execution_count": null,
   "id": "1a0eda93",
   "metadata": {},
   "outputs": [],
   "source": []
  },
  {
   "cell_type": "code",
   "execution_count": null,
   "id": "5e6fbdc7",
   "metadata": {},
   "outputs": [],
   "source": []
  },
  {
   "cell_type": "code",
   "execution_count": 8,
   "id": "7e7848e6",
   "metadata": {},
   "outputs": [
    {
     "data": {
      "text/plain": [
       "{'youtube': 10512,\n",
       " 'twitch': 40181,\n",
       " 'messenger': 89526,\n",
       " 'noise': 8808,\n",
       " 'skype': 161624}"
      ]
     },
     "execution_count": 8,
     "metadata": {},
     "output_type": "execute_result"
    }
   ],
   "source": [
    "list_labels = [i[2] for i in global_data.values()]\n",
    "distrib = dict((x,list_labels.count(x)) for x in set(list_labels))\n",
    "distrib"
   ]
  },
  {
   "cell_type": "code",
   "execution_count": 116,
   "id": "f75fcb86",
   "metadata": {},
   "outputs": [
    {
     "data": {
      "text/plain": [
       "array(['messenger', 'messenger', 'messenger', ..., 'youtube', 'youtube',\n",
       "       'youtube'], dtype='<U9')"
      ]
     },
     "execution_count": 116,
     "metadata": {},
     "output_type": "execute_result"
    }
   ],
   "source": [
    "labels_glob"
   ]
  },
  {
   "cell_type": "code",
   "execution_count": 119,
   "id": "98c067fa",
   "metadata": {},
   "outputs": [
    {
     "data": {
      "text/plain": [
       "array([[1, 0, 0, 0, 0],\n",
       "       [1, 0, 0, 0, 0],\n",
       "       [1, 0, 0, 0, 0],\n",
       "       ...,\n",
       "       [0, 0, 0, 0, 1],\n",
       "       [0, 0, 0, 0, 1],\n",
       "       [0, 0, 0, 0, 1]])"
      ]
     },
     "execution_count": 119,
     "metadata": {},
     "output_type": "execute_result"
    }
   ],
   "source": [
    "\n",
    "labels_glob = np.array(list_labels)\n",
    "import sklearn.preprocessing\n",
    "import numpy as np\n",
    "label_binarizer = sklearn.preprocessing.LabelBinarizer()\n",
    "label_one_hot_encoded = label_binarizer.fit_transform(labels_glob)\n",
    "\n",
    "label_one_hot_encoded"
   ]
  },
  {
   "cell_type": "code",
   "execution_count": 120,
   "id": "d8dfbd12",
   "metadata": {},
   "outputs": [
    {
     "data": {
      "text/plain": [
       "(310651, 60, 2)"
      ]
     },
     "execution_count": 120,
     "metadata": {},
     "output_type": "execute_result"
    }
   ],
   "source": [
    "TBS_values = np.array([np.transpose([i[0].values,i[1].values]) for i in  global_data.values()])\n",
    "TBS_values.shape"
   ]
  },
  {
   "cell_type": "code",
   "execution_count": 121,
   "id": "462dd29b",
   "metadata": {},
   "outputs": [],
   "source": [
    "X_train_val, X_test, y_train_val, y_test = train_test_split(TBS_values, label_one_hot_encoded, test_size=0.15, random_state=42)\n",
    "X_train, X_val, y_train, y_val = train_test_split(X_train_val, y_train_val, test_size=0.2, random_state=42)"
   ]
  },
  {
   "cell_type": "code",
   "execution_count": 122,
   "id": "f612323c",
   "metadata": {},
   "outputs": [],
   "source": [
    "#images_train, _ = tuple(zip(*train))\n",
    "#images_train = np.concatenate(images_train)\n",
    "#images_train.shape"
   ]
  },
  {
   "cell_type": "code",
   "execution_count": 184,
   "id": "7437196e",
   "metadata": {},
   "outputs": [],
   "source": [
    "train_labels_not_encoded = label_binarizer.inverse_transform(y_train)\n",
    "class_weights = class_weight.compute_class_weight(class_weight ='balanced',\n",
    "                                                  classes =np.unique(train_labels_not_encoded), y =train_labels_not_encoded)\n",
    "class_weights = dict(zip(np.unique(np.argmax(y_train,axis=1)), class_weight.compute_class_weight(class_weight ='balanced',\n",
    "                                                  classes =np.unique(train_labels_not_encoded),\n",
    "                                                               y =train_labels_not_encoded)))\n",
    "\n",
    "layer_normalization = tf.keras.layers.Normalization(axis=None, input_shape=(length_values,2))\n",
    "layer_normalization.adapt(X_train)\n"
   ]
  },
  {
   "cell_type": "code",
   "execution_count": 185,
   "id": "8ab55eee",
   "metadata": {},
   "outputs": [
    {
     "data": {
      "text/plain": [
       "{0: 0.6930966598858193,\n",
       " 1: 7.015675855197609,\n",
       " 2: 0.38506001695239656,\n",
       " 3: 1.5437716958380532,\n",
       " 4: 5.885817776539426}"
      ]
     },
     "execution_count": 185,
     "metadata": {},
     "output_type": "execute_result"
    }
   ],
   "source": [
    "a"
   ]
  },
  {
   "cell_type": "code",
   "execution_count": 186,
   "id": "35a00971",
   "metadata": {},
   "outputs": [
    {
     "data": {
      "text/plain": [
       "{0: 0.6930966598858193,\n",
       " 1: 7.015675855197609,\n",
       " 2: 0.38506001695239656,\n",
       " 3: 1.5437716958380532,\n",
       " 4: 5.885817776539426}"
      ]
     },
     "execution_count": 186,
     "metadata": {},
     "output_type": "execute_result"
    }
   ],
   "source": [
    "class_weights"
   ]
  },
  {
   "cell_type": "code",
   "execution_count": 187,
   "id": "0922c1dd",
   "metadata": {},
   "outputs": [],
   "source": [
    "#X_train = tf.convert_to_tensor(X_train, dtype=tf.float32)"
   ]
  },
  {
   "cell_type": "code",
   "execution_count": 193,
   "id": "6adbcb01",
   "metadata": {},
   "outputs": [],
   "source": [
    "model = Sequential()\n",
    "model.add(layer_normalization)\n",
    "model.add(Conv1D(32, 5, activation='relu'))\n",
    "model.add(MaxPool1D()) #Adding a convultion layer\n",
    "\n",
    "model.add(Conv1D(64, 5, activation='relu'))\n",
    "model.add(MaxPool1D()) #\n",
    "\n",
    "model.add(Conv1D(32, 5, activation='relu'))\n",
    "model.add(MaxPool1D())\n",
    "\n",
    "model.add(Flatten())\n",
    "model.add(Dense(128, activation='relu'))\n",
    "model.add(Dense(len(distrib.keys()), activation='sigmoid'))\n",
    "\n",
    "\n"
   ]
  },
  {
   "cell_type": "code",
   "execution_count": 194,
   "id": "9bb52ecf",
   "metadata": {},
   "outputs": [
    {
     "name": "stdout",
     "output_type": "stream",
     "text": [
      "Model: \"sequential_12\"\n",
      "_________________________________________________________________\n",
      " Layer (type)                Output Shape              Param #   \n",
      "=================================================================\n",
      " normalization_7 (Normalizat  (None, 60, 2)            3         \n",
      " ion)                                                            \n",
      "                                                                 \n",
      " conv1d_31 (Conv1D)          (None, 56, 32)            352       \n",
      "                                                                 \n",
      " max_pooling1d_30 (MaxPoolin  (None, 28, 32)           0         \n",
      " g1D)                                                            \n",
      "                                                                 \n",
      " conv1d_32 (Conv1D)          (None, 24, 64)            10304     \n",
      "                                                                 \n",
      " max_pooling1d_31 (MaxPoolin  (None, 12, 64)           0         \n",
      " g1D)                                                            \n",
      "                                                                 \n",
      " conv1d_33 (Conv1D)          (None, 8, 32)             10272     \n",
      "                                                                 \n",
      " max_pooling1d_32 (MaxPoolin  (None, 4, 32)            0         \n",
      " g1D)                                                            \n",
      "                                                                 \n",
      " flatten_10 (Flatten)        (None, 128)               0         \n",
      "                                                                 \n",
      " dense_20 (Dense)            (None, 128)               16512     \n",
      "                                                                 \n",
      " dense_21 (Dense)            (None, 5)                 645       \n",
      "                                                                 \n",
      "=================================================================\n",
      "Total params: 38,088\n",
      "Trainable params: 38,085\n",
      "Non-trainable params: 3\n",
      "_________________________________________________________________\n"
     ]
    }
   ],
   "source": [
    "#Conv 1 : output_shape= (None, length_values-5+1,32)    (None, 56,32)\n",
    "model.compile('adam', loss = tf.losses.BinaryCrossentropy(), metrics =['accuracy'])\n",
    "model.summary()"
   ]
  },
  {
   "cell_type": "code",
   "execution_count": 196,
   "id": "2b445e07",
   "metadata": {},
   "outputs": [
    {
     "name": "stdout",
     "output_type": "stream",
     "text": [
      "Epoch 1/20\n",
      "6602/6602 [==============================] - 62s 9ms/step - loss: 0.1597 - accuracy: 0.7674 - val_loss: 0.1714 - val_accuracy: 0.7925\n",
      "Epoch 2/20\n",
      "6602/6602 [==============================] - 67s 10ms/step - loss: 0.1370 - accuracy: 0.7834 - val_loss: 0.1704 - val_accuracy: 0.8044\n",
      "Epoch 3/20\n",
      "6602/6602 [==============================] - 62s 9ms/step - loss: 0.1232 - accuracy: 0.7944 - val_loss: 0.1668 - val_accuracy: 0.8065\n",
      "Epoch 4/20\n",
      "6602/6602 [==============================] - 62s 9ms/step - loss: 0.1125 - accuracy: 0.8041 - val_loss: 0.1599 - val_accuracy: 0.8179\n",
      "Epoch 5/20\n",
      "6602/6602 [==============================] - 63s 10ms/step - loss: 0.1032 - accuracy: 0.8138 - val_loss: 0.1696 - val_accuracy: 0.8021\n",
      "Epoch 6/20\n",
      "6602/6602 [==============================] - 61s 9ms/step - loss: 0.0990 - accuracy: 0.8170 - val_loss: 0.1615 - val_accuracy: 0.8094\n",
      "Epoch 7/20\n",
      "6602/6602 [==============================] - 61s 9ms/step - loss: 0.0938 - accuracy: 0.8240 - val_loss: 0.1451 - val_accuracy: 0.8333\n",
      "Epoch 8/20\n",
      "6602/6602 [==============================] - 62s 9ms/step - loss: 0.0908 - accuracy: 0.8287 - val_loss: 0.1648 - val_accuracy: 0.8056\n",
      "Epoch 9/20\n",
      "6602/6602 [==============================] - 62s 9ms/step - loss: 0.0878 - accuracy: 0.8326 - val_loss: 0.1678 - val_accuracy: 0.8022\n",
      "Epoch 10/20\n",
      "6602/6602 [==============================] - 62s 9ms/step - loss: 0.0816 - accuracy: 0.8381 - val_loss: 0.1705 - val_accuracy: 0.8013\n"
     ]
    },
    {
     "data": {
      "text/plain": [
       "<tensorflow.python.checkpoint.checkpoint.CheckpointLoadStatus at 0x1b1487338e0>"
      ]
     },
     "execution_count": 196,
     "metadata": {},
     "output_type": "execute_result"
    }
   ],
   "source": [
    "\n",
    "checkpoint_filepath = '/tmp/checkpoint/best_model'\n",
    "logs_dir = 'tmp/logs'\n",
    "\n",
    "tensorboard_callback = tf.keras.callbacks.TensorBoard(log_dir=logs_dir)\n",
    "model_checkpoint_callback = tf.keras.callbacks.ModelCheckpoint(\n",
    "    filepath=checkpoint_filepath, save_weights_only=True, monitor='val_accuracy',  mode='max',save_best_only=True)\n",
    "\n",
    "early_stop = tf.keras.callbacks.EarlyStopping(monitor='val_loss', patience=3)\n",
    "hist = model.fit(X_train,y_train, epochs =20, \n",
    "                 validation_data = (X_val,y_val),\n",
    "                 callbacks =[tensorboard_callback, early_stop,model_checkpoint_callback],\n",
    "                class_weight=class_weights\n",
    "                )\n",
    "\n",
    "model.load_weights(checkpoint_filepath)"
   ]
  },
  {
   "cell_type": "code",
   "execution_count": 197,
   "id": "1f3d54bd",
   "metadata": {},
   "outputs": [
    {
     "data": {
      "image/png": "[encoded data removed]",
      "text/plain": [
       "<Figure size 432x288 with 1 Axes>"
      ]
     },
     "metadata": {
      "needs_background": "light"
     },
     "output_type": "display_data"
    }
   ],
   "source": [
    "fig =plt.figure()\n",
    "plt.plot(hist.history['loss'], color ='teal', label ='train_loss')\n",
    "plt.plot(hist.history['val_loss'], color ='red', label ='val_loss')\n",
    "#plt.plot(hist.history['val_loss'], color= 'orange', label = 'val_loss')\n",
    "fig.suptitle('Loss', fontsize =20)\n",
    "plt.legend(loc =\"upper left\")\n",
    "plt.show()"
   ]
  },
  {
   "cell_type": "markdown",
   "id": "3dbbba8d",
   "metadata": {},
   "source": [
    "# Evaluate on the test dataset"
   ]
  },
  {
   "cell_type": "code",
   "execution_count": 198,
   "id": "6cd2be62",
   "metadata": {},
   "outputs": [],
   "source": [
    "class_names= label_binarizer.inverse_transform(np.identity(5))\n",
    "\n",
    "def plot_confusion_matrix(cm, classes, normalize=False, title='confusion matrix', cmap=plt.cm.Blues):\n",
    "    # This function prints and plots the confusion matrix. Normalization can be applied by setting `normalize=True`\n",
    "    if normalize:\n",
    "        cm = cm.astype('float') / cm.sum(axis=1)[:, np.newaxis]\n",
    "        print(\"normalized confusion matrix\")\n",
    "    else:\n",
    "        print('confusion matrix, without normalization')\n",
    "    plt.imshow(cm, interpolation='nearest', cmap=cmap)\n",
    "    plt.title(title)\n",
    "    plt.colorbar()\n",
    "    tick_marks = np.arange(len(classes))\n",
    "    plt.xticks(tick_marks, classes, rotation=45)\n",
    "    plt.yticks(tick_marks, classes)\n",
    "\n",
    "    fmt = '.2f' if normalize else 'd'\n",
    "    thresh = cm.max() / 2.\n",
    "    for i, j in itertools.product(range(cm.shape[0]), range(cm.shape[1])):\n",
    "        plt.text(j, i, format(cm[i, j], fmt),\n",
    "                 horizontalalignment=\"center\",\n",
    "                 color=\"white\" if cm[i, j] > thresh else \"black\")\n",
    "    plt.tight_layout()\n",
    "    plt.ylabel('true label')\n",
    "    plt.xlabel('predicted label')"
   ]
  },
  {
   "cell_type": "code",
   "execution_count": 199,
   "id": "1c7e60f5",
   "metadata": {},
   "outputs": [
    {
     "name": "stdout",
     "output_type": "stream",
     "text": [
      "1457/1457 [==============================] - 6s 4ms/step\n"
     ]
    }
   ],
   "source": [
    "# mesure efficiency\n",
    "preds_labels =  model.predict(X_test)\n",
    "preds_labels = label_binarizer.inverse_transform(preds_labels)"
   ]
  },
  {
   "cell_type": "code",
   "execution_count": 200,
   "id": "bc4f6de1",
   "metadata": {},
   "outputs": [],
   "source": [
    "true_labels = label_binarizer.inverse_transform(y_test)\n"
   ]
  },
  {
   "cell_type": "code",
   "execution_count": 201,
   "id": "75428412",
   "metadata": {},
   "outputs": [
    {
     "name": "stdout",
     "output_type": "stream",
     "text": [
      "normalized confusion matrix\n"
     ]
    },
    {
     "data": {
      "image/png": "[encoded data removed]",
      "text/plain": [
       "<Figure size 432x432 with 2 Axes>"
      ]
     },
     "metadata": {
      "needs_background": "light"
     },
     "output_type": "display_data"
    }
   ],
   "source": [
    " \n",
    "\n",
    "\n",
    "# compute confusion matrix\n",
    "cnf_matrix = confusion_matrix(true_labels,preds_labels)\n",
    "np.set_printoptions(precision=2)\n",
    "\n",
    "# plot normalized confusion matrix\n",
    "plt.figure(figsize=(6, 6))\n",
    "plot_confusion_matrix(cnf_matrix, classes=class_names, normalize=True, title='normalized confusion matrix')\n",
    "\n",
    "plt.show()"
   ]
  },
  {
   "cell_type": "markdown",
   "id": "f38853b7",
   "metadata": {},
   "source": [
    "# Evaluate on the whole dataset"
   ]
  },
  {
   "cell_type": "code",
   "execution_count": 202,
   "id": "1daae08b",
   "metadata": {
    "scrolled": true
   },
   "outputs": [
    {
     "name": "stdout",
     "output_type": "stream",
     "text": [
      "9708/9708 [==============================] - 10848s 1s/step\n"
     ]
    }
   ],
   "source": [
    "# mesure efficiency\n",
    "preds_labels =  model.predict(TBS_values)\n",
    "preds_labels = label_binarizer.inverse_transform(preds_labels)"
   ]
  },
  {
   "cell_type": "code",
   "execution_count": 203,
   "id": "22494dc3",
   "metadata": {},
   "outputs": [],
   "source": [
    "\n",
    "true_labels = label_binarizer.inverse_transform(label_one_hot_encoded)\n"
   ]
  },
  {
   "cell_type": "code",
   "execution_count": 204,
   "id": "3cb9f74c",
   "metadata": {},
   "outputs": [
    {
     "name": "stdout",
     "output_type": "stream",
     "text": [
      "normalized confusion matrix\n"
     ]
    },
    {
     "data": {
      "image/png": "[encoded data removed]",
      "text/plain": [
       "<Figure size 432x432 with 2 Axes>"
      ]
     },
     "metadata": {
      "needs_background": "light"
     },
     "output_type": "display_data"
    }
   ],
   "source": [
    "# compute confusion matrix\n",
    "cnf_matrix = confusion_matrix(true_labels,preds_labels)\n",
    "np.set_printoptions(precision=2)\n",
    "\n",
    "# plot normalized confusion matrix\n",
    "plt.figure(figsize=(6, 6))\n",
    "plot_confusion_matrix(cnf_matrix, classes=class_names, normalize=True, title='normalized confusion matrix')\n",
    "\n",
    "plt.show()"
   ]
  },
  {
   "cell_type": "code",
   "execution_count": null,
   "id": "fcaf2e9a",
   "metadata": {},
   "outputs": [],
   "source": []
  },
  {
   "cell_type": "code",
   "execution_count": null,
   "id": "8e97b2c8",
   "metadata": {},
   "outputs": [],
   "source": []
  },
  {
   "cell_type": "code",
   "execution_count": null,
   "id": "35aa4acc",
   "metadata": {},
   "outputs": [],
   "source": []
  }
 ],
 "metadata": {
  "kernelspec": {
   "display_name": "Python 3",
   "language": "python",
   "name": "python3"
  },
  "language_info": {
   "codemirror_mode": {
    "name": "ipython",
    "version": 3
   },
   "file_extension": ".py",
   "mimetype": "text/x-python",
   "name": "python",
   "nbconvert_exporter": "python",
   "pygments_lexer": "ipython3",
   "version": "3.8.8"
  }
 },
 "nbformat": 4,
 "nbformat_minor": 5
}
