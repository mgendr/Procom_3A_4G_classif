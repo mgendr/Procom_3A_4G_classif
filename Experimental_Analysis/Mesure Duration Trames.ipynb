{
 "cells": [
  {
   "cell_type": "code",
   "execution_count": 1,
   "id": "14059a68",
   "metadata": {},
   "outputs": [],
   "source": [
    "import os\n",
    "import pandas as pd\n",
    "import warnings\n",
    "import matplotlib.pyplot as plt\n",
    "\n",
    "import numpy as np\n",
    "import seaborn as sns\n",
    "\n",
    "from tqdm import tqdm\n",
    "from random import randint\n",
    "from sklearn.model_selection import train_test_split\n",
    "from sklearn.preprocessing import StandardScaler\n",
    "from sklearn.utils import class_weight\n",
    "from sklearn.metrics import confusion_matrix\n",
    "\n",
    "import itertools\n"
   ]
  },
  {
   "cell_type": "code",
   "execution_count": 2,
   "id": "5b87798a",
   "metadata": {},
   "outputs": [],
   "source": [
    "\n",
    "length_values = 60\n",
    "\n",
    "\n",
    "uni_label = [\"noise\",\n",
    "\"youtube\",\n",
    "\"messenger\" ,\n",
    "\"twitch\" ,\n",
    "\"skype\" ,\n",
    "\"spotify\"]"
   ]
  },
  {
   "cell_type": "code",
   "execution_count": 14,
   "id": "f3030c0a",
   "metadata": {},
   "outputs": [],
   "source": [
    "\n",
    "def merge_data(filename, global_data) :\n",
    "    \n",
    "    data = pd.read_csv(filename)\n",
    "    data[\"TBS_2\"] = data[\"TBS_2\"].replace(to_replace = -2, value = 0)\n",
    "    data[\"label\"] = data[\"label\"].replace(to_replace = \"pure_noise\", value = \"noise\")\n",
    "    #data.drop(columns={})\n",
    "    data.set_index(pd.to_datetime(data.Time), inplace=True)\n",
    "    \n",
    "    id_acquis = data.id_acquisition.iloc[0]\n",
    "    \n",
    "    for val in tqdm(data.connection_id.unique()):\n",
    "        current_data = data[data.connection_id==val]\n",
    "        label = current_data.label.value_counts(sort = True, ascending =False).index[0]\n",
    "\n",
    "        #global_data[f\"{id_acquis}_{val}\"]=(current_data.index, current_data.TBS_2,label)\n",
    "\n",
    "        global_data[f\"{filename}_{val}\"]=(current_data.index, current_data.TBS_2,label)\n",
    "\n",
    "    return global_data\n",
    "\n",
    "def reformat_data(global_data) :\n",
    "    res_n, res_dura, labels, res_id = [],[],[],[]\n",
    "    for key, value in tqdm(global_data.items()) :\n",
    "        res_n.append(len(value[0]))\n",
    "        dura = (value[0][-1]-value[0][0]).total_seconds()\n",
    "        res_dura.append(dura)\n",
    "        res_id.append(key)\n",
    "\n",
    "        labels.append(value[2])\n",
    "\n",
    "    df = pd.DataFrame({\"id\":res_id,\"Duration(s)\" : res_dura, \"Duration(measures)\" : res_n, \"label\" : labels})   \n",
    "    return df\n",
    "\n",
    "def plot_histo(data) : \n",
    "    bins = 10*np.exp(np.arange(0,9,0.5))\n",
    "    bins = np.insert(bins, 0, 0)\n",
    "    fig, ax = plt.subplots(figsize=(16,16))\n",
    "    \n",
    "    vals = []\n",
    "    for lab in uni_label :\n",
    "        current_data = data[data[\"label\"]==lab][\"Duration(s)\"]\n",
    "        vals.append(current_data.values)\n",
    "    new_data = np.array(vals)\n",
    "    print(new_data.shape)\n",
    "    plt.hist(new_data,stacked=True, bins=bins, alpha = 0.9)\n",
    "    \n",
    "    ax.set_xscale('log')\n",
    "    ax.set_xlabel(\"Duration (s)\")\n",
    "    ax.set_ylabel(\"Proportion\")\n",
    "    ax.set_title(\"Measures duration Distribution\")\n",
    "    ax.legend(uni_label)"
   ]
  },
  {
   "cell_type": "code",
   "execution_count": 15,
   "id": "3afe6253",
   "metadata": {
    "scrolled": true
   },
   "outputs": [
    {
     "name": "stdout",
     "output_type": "stream",
     "text": [
      "Extracting ../Mesures/train\\messenger20221117_125310.csv.... 1/33\n"
     ]
    },
    {
     "name": "stderr",
     "output_type": "stream",
     "text": [
      "100%|██████████████████████████████████████████████████████████████████████████████████| 15/15 [00:00<00:00, 79.60it/s]\n"
     ]
    },
    {
     "name": "stdout",
     "output_type": "stream",
     "text": [
      "Extracting ../Mesures/train\\messenger20221124_143112.csv.... 2/33\n"
     ]
    },
    {
     "name": "stderr",
     "output_type": "stream",
     "text": [
      "100%|██████████████████████████████████████████████████████████████████████████████████| 11/11 [00:00<00:00, 32.97it/s]\n"
     ]
    },
    {
     "name": "stdout",
     "output_type": "stream",
     "text": [
      "Extracting ../Mesures/train\\messenger20221124_151137.csv.... 3/33\n"
     ]
    },
    {
     "name": "stderr",
     "output_type": "stream",
     "text": [
      "100%|████████████████████████████████████████████████████████████████████████████████████| 5/5 [00:00<00:00, 16.25it/s]\n"
     ]
    },
    {
     "name": "stdout",
     "output_type": "stream",
     "text": [
      "Extracting ../Mesures/train\\messenger20221125_130559.csv.... 4/33\n"
     ]
    },
    {
     "name": "stderr",
     "output_type": "stream",
     "text": [
      "100%|██████████████████████████████████████████████████████████████████████████████████| 39/39 [00:00<00:00, 75.23it/s]\n"
     ]
    },
    {
     "name": "stdout",
     "output_type": "stream",
     "text": [
      "Extracting ../Mesures/train\\messenger20221125_150706.csv.... 5/33\n"
     ]
    },
    {
     "name": "stderr",
     "output_type": "stream",
     "text": [
      "100%|████████████████████████████████████████████████████████████████████████████████| 335/335 [00:03<00:00, 91.13it/s]\n"
     ]
    },
    {
     "name": "stdout",
     "output_type": "stream",
     "text": [
      "Extracting ../Mesures/train\\messenger20221129_131204.csv.... 6/33\n"
     ]
    },
    {
     "name": "stderr",
     "output_type": "stream",
     "text": [
      "100%|██████████████████████████████████████████████████████████████████████████████████| 14/14 [00:01<00:00, 10.75it/s]\n"
     ]
    },
    {
     "name": "stdout",
     "output_type": "stream",
     "text": [
      "Extracting ../Mesures/train\\pure_noise20230106_132210.csv.... 7/33\n"
     ]
    },
    {
     "name": "stderr",
     "output_type": "stream",
     "text": [
      "100%|███████████████████████████████████████████████████████████████████████████████| 839/839 [00:01<00:00, 763.63it/s]\n"
     ]
    },
    {
     "name": "stdout",
     "output_type": "stream",
     "text": [
      "Extracting ../Mesures/train\\skype20221129_164105.csv.... 8/33\n"
     ]
    },
    {
     "name": "stderr",
     "output_type": "stream",
     "text": [
      "100%|████████████████████████████████████████████████████████████████████████████████████| 5/5 [00:00<00:00, 11.39it/s]\n"
     ]
    },
    {
     "name": "stdout",
     "output_type": "stream",
     "text": [
      "Extracting ../Mesures/train\\skype20221206_125510.csv.... 9/33\n"
     ]
    },
    {
     "name": "stderr",
     "output_type": "stream",
     "text": [
      "100%|██████████████████████████████████████████████████████████████████████████████████| 19/19 [00:00<00:00, 31.42it/s]\n"
     ]
    },
    {
     "name": "stdout",
     "output_type": "stream",
     "text": [
      "Extracting ../Mesures/train\\skype20221208_104403.csv.... 10/33\n"
     ]
    },
    {
     "name": "stderr",
     "output_type": "stream",
     "text": [
      "100%|████████████████████████████████████████████████████████████████████████████████████| 7/7 [00:01<00:00,  3.75it/s]\n"
     ]
    },
    {
     "name": "stdout",
     "output_type": "stream",
     "text": [
      "Extracting ../Mesures/train\\skype20221208_124925.csv.... 11/33\n"
     ]
    },
    {
     "name": "stderr",
     "output_type": "stream",
     "text": [
      "100%|████████████████████████████████████████████████████████████████████████████████████| 6/6 [00:02<00:00,  2.54it/s]\n"
     ]
    },
    {
     "name": "stdout",
     "output_type": "stream",
     "text": [
      "Extracting ../Mesures/train\\skype20221215_151512.csv.... 12/33\n"
     ]
    },
    {
     "name": "stderr",
     "output_type": "stream",
     "text": [
      "100%|██████████████████████████████████████████████████████████████████████████████████| 23/23 [00:00<00:00, 35.49it/s]\n"
     ]
    },
    {
     "name": "stdout",
     "output_type": "stream",
     "text": [
      "Extracting ../Mesures/train\\skype20221215_155618.csv.... 13/33\n"
     ]
    },
    {
     "name": "stderr",
     "output_type": "stream",
     "text": [
      "100%|██████████████████████████████████████████████████████████████████████████████████| 19/19 [00:00<00:00, 26.47it/s]\n"
     ]
    },
    {
     "name": "stdout",
     "output_type": "stream",
     "text": [
      "Extracting ../Mesures/train\\skype20221215_164208.csv.... 14/33\n"
     ]
    },
    {
     "name": "stderr",
     "output_type": "stream",
     "text": [
      "100%|████████████████████████████████████████████████████████████████████████████████████| 5/5 [00:00<00:00,  5.69it/s]\n"
     ]
    },
    {
     "name": "stdout",
     "output_type": "stream",
     "text": [
      "Extracting ../Mesures/train\\skype20221215_174819.csv.... 15/33\n"
     ]
    },
    {
     "name": "stderr",
     "output_type": "stream",
     "text": [
      "100%|████████████████████████████████████████████████████████████████████████████████████| 6/6 [00:00<00:00,  8.52it/s]\n"
     ]
    },
    {
     "name": "stdout",
     "output_type": "stream",
     "text": [
      "Extracting ../Mesures/train\\twitch20221117_113554.csv.... 16/33\n"
     ]
    },
    {
     "name": "stderr",
     "output_type": "stream",
     "text": [
      "100%|██████████████████████████████████████████████████████████████████████████████████| 29/29 [00:00<00:00, 95.73it/s]\n"
     ]
    },
    {
     "name": "stdout",
     "output_type": "stream",
     "text": [
      "Extracting ../Mesures/train\\twitch20221118_075454.csv.... 17/33\n"
     ]
    },
    {
     "name": "stderr",
     "output_type": "stream",
     "text": [
      "100%|██████████████████████████████████████████████████████████████████████████████████| 16/16 [00:00<00:00, 45.13it/s]\n"
     ]
    },
    {
     "name": "stdout",
     "output_type": "stream",
     "text": [
      "Extracting ../Mesures/train\\twitch20221125_133859.csv.... 18/33\n"
     ]
    },
    {
     "name": "stderr",
     "output_type": "stream",
     "text": [
      "100%|████████████████████████████████████████████████████████████████████████████████| 109/109 [00:01<00:00, 71.13it/s]\n"
     ]
    },
    {
     "name": "stdout",
     "output_type": "stream",
     "text": [
      "Extracting ../Mesures/train\\twitch20230110_110215.csv.... 19/33\n"
     ]
    },
    {
     "name": "stderr",
     "output_type": "stream",
     "text": [
      "100%|██████████████████████████████████████████████████████████████████████████████████| 22/22 [00:00<00:00, 81.60it/s]\n"
     ]
    },
    {
     "name": "stdout",
     "output_type": "stream",
     "text": [
      "Extracting ../Mesures/train\\twitch20230110_120513.csv.... 20/33\n"
     ]
    },
    {
     "name": "stderr",
     "output_type": "stream",
     "text": [
      "100%|█████████████████████████████████████████████████████████████████████████████████| 61/61 [00:00<00:00, 255.13it/s]\n"
     ]
    },
    {
     "name": "stdout",
     "output_type": "stream",
     "text": [
      "Extracting ../Mesures/train\\twitch20230110_130648.csv.... 21/33\n"
     ]
    },
    {
     "name": "stderr",
     "output_type": "stream",
     "text": [
      "100%|███████████████████████████████████████████████████████████████████████████████| 427/427 [00:00<00:00, 530.84it/s]\n"
     ]
    },
    {
     "name": "stdout",
     "output_type": "stream",
     "text": [
      "Extracting ../Mesures/train\\youtube20221108_165214.csv.... 22/33\n"
     ]
    },
    {
     "name": "stderr",
     "output_type": "stream",
     "text": [
      "100%|█████████████████████████████████████████████████████████████████████████████████| 12/12 [00:00<00:00, 412.21it/s]\n"
     ]
    },
    {
     "name": "stdout",
     "output_type": "stream",
     "text": [
      "Extracting ../Mesures/train\\youtube20221108_182416.csv.... 23/33\n"
     ]
    },
    {
     "name": "stderr",
     "output_type": "stream",
     "text": [
      "100%|███████████████████████████████████████████████████████████████████████████████████| 4/4 [00:00<00:00, 285.70it/s]\n"
     ]
    },
    {
     "name": "stdout",
     "output_type": "stream",
     "text": [
      "Extracting ../Mesures/train\\youtube20221124_125524.csv.... 24/33\n"
     ]
    },
    {
     "name": "stderr",
     "output_type": "stream",
     "text": [
      "100%|███████████████████████████████████████████████████████████████████████████████| 188/188 [00:00<00:00, 904.93it/s]\n"
     ]
    },
    {
     "name": "stdout",
     "output_type": "stream",
     "text": [
      "Extracting ../Mesures/train\\youtube20221124_154037.csv.... 25/33\n"
     ]
    },
    {
     "name": "stderr",
     "output_type": "stream",
     "text": [
      "100%|█████████████████████████████████████████████████████████████████████████████████| 92/92 [00:00<00:00, 701.38it/s]\n"
     ]
    },
    {
     "name": "stdout",
     "output_type": "stream",
     "text": [
      "Extracting ../Mesures/train\\youtube20221130_103723.csv.... 26/33\n"
     ]
    },
    {
     "name": "stderr",
     "output_type": "stream",
     "text": [
      "100%|█████████████████████████████████████████████████████████████████████████████████| 91/91 [00:00<00:00, 917.49it/s]\n"
     ]
    },
    {
     "name": "stdout",
     "output_type": "stream",
     "text": [
      "Extracting ../Mesures/train\\youtube20230110_145404.csv.... 27/33\n"
     ]
    },
    {
     "name": "stderr",
     "output_type": "stream",
     "text": [
      "100%|█████████████████████████████████████████████████████████████████████████████████| 95/95 [00:00<00:00, 951.65it/s]\n"
     ]
    },
    {
     "name": "stdout",
     "output_type": "stream",
     "text": [
      "Extracting ../Mesures/train\\youtube20230110_161955.csv.... 28/33\n"
     ]
    },
    {
     "name": "stderr",
     "output_type": "stream",
     "text": [
      "100%|█████████████████████████████████████████████████████████████████████████████████| 90/90 [00:00<00:00, 762.90it/s]\n"
     ]
    },
    {
     "name": "stdout",
     "output_type": "stream",
     "text": [
      "Extracting ../Mesures/train\\youtube20230112_125508.csv.... 29/33\n"
     ]
    },
    {
     "name": "stderr",
     "output_type": "stream",
     "text": [
      "100%|███████████████████████████████████████████████████████████████████████████████| 108/108 [00:00<00:00, 394.70it/s]\n"
     ]
    },
    {
     "name": "stdout",
     "output_type": "stream",
     "text": [
      "Extracting ../Mesures/train\\youtube20230112_151029.csv.... 30/33\n"
     ]
    },
    {
     "name": "stderr",
     "output_type": "stream",
     "text": [
      "100%|█████████████████████████████████████████████████████████████████████████████████| 29/29 [00:00<00:00, 436.07it/s]\n"
     ]
    },
    {
     "name": "stdout",
     "output_type": "stream",
     "text": [
      "Extracting ../Mesures/train\\youtube20230112_154749.csv.... 31/33\n"
     ]
    },
    {
     "name": "stderr",
     "output_type": "stream",
     "text": [
      "100%|█████████████████████████████████████████████████████████████████████████████████| 32/32 [00:00<00:00, 383.91it/s]\n"
     ]
    },
    {
     "name": "stdout",
     "output_type": "stream",
     "text": [
      "Extracting ../Mesures/train\\youtube20230112_163634.csv.... 32/33\n"
     ]
    },
    {
     "name": "stderr",
     "output_type": "stream",
     "text": [
      "100%|█████████████████████████████████████████████████████████████████████████████████| 65/65 [00:00<00:00, 540.96it/s]\n"
     ]
    },
    {
     "name": "stdout",
     "output_type": "stream",
     "text": [
      "Extracting ../Mesures/train\\youtube20230117_095221.csv.... 33/33\n"
     ]
    },
    {
     "name": "stderr",
     "output_type": "stream",
     "text": [
      "100%|███████████████████████████████████████████████████████████████████████████████| 140/140 [00:00<00:00, 240.40it/s]\n",
      "100%|███████████████████████████████████████████████████████████████████████████| 2958/2958 [00:00<00:00, 29511.85it/s]\n"
     ]
    },
    {
     "data": {
      "text/html": [
       "<div>\n",
       "<style scoped>\n",
       "    .dataframe tbody tr th:only-of-type {\n",
       "        vertical-align: middle;\n",
       "    }\n",
       "\n",
       "    .dataframe tbody tr th {\n",
       "        vertical-align: top;\n",
       "    }\n",
       "\n",
       "    .dataframe thead th {\n",
       "        text-align: right;\n",
       "    }\n",
       "</style>\n",
       "<table border=\"1\" class=\"dataframe\">\n",
       "  <thead>\n",
       "    <tr style=\"text-align: right;\">\n",
       "      <th></th>\n",
       "      <th>id</th>\n",
       "      <th>Duration(s)</th>\n",
       "      <th>Duration(measures)</th>\n",
       "      <th>label</th>\n",
       "    </tr>\n",
       "  </thead>\n",
       "  <tbody>\n",
       "    <tr>\n",
       "      <th>0</th>\n",
       "      <td>../Mesures/train\\messenger20221117_125310.csv_4</td>\n",
       "      <td>2777.818</td>\n",
       "      <td>364319</td>\n",
       "      <td>messenger</td>\n",
       "    </tr>\n",
       "    <tr>\n",
       "      <th>1</th>\n",
       "      <td>../Mesures/train\\messenger20221117_125310.csv_5</td>\n",
       "      <td>0.077</td>\n",
       "      <td>11</td>\n",
       "      <td>messenger</td>\n",
       "    </tr>\n",
       "    <tr>\n",
       "      <th>2</th>\n",
       "      <td>../Mesures/train\\messenger20221117_125310.csv_6</td>\n",
       "      <td>0.077</td>\n",
       "      <td>11</td>\n",
       "      <td>messenger</td>\n",
       "    </tr>\n",
       "    <tr>\n",
       "      <th>3</th>\n",
       "      <td>../Mesures/train\\messenger20221117_125310.csv_8</td>\n",
       "      <td>9.331</td>\n",
       "      <td>1230</td>\n",
       "      <td>messenger</td>\n",
       "    </tr>\n",
       "    <tr>\n",
       "      <th>4</th>\n",
       "      <td>../Mesures/train\\messenger20221117_125310.csv_7</td>\n",
       "      <td>9.427</td>\n",
       "      <td>1229</td>\n",
       "      <td>messenger</td>\n",
       "    </tr>\n",
       "    <tr>\n",
       "      <th>...</th>\n",
       "      <td>...</td>\n",
       "      <td>...</td>\n",
       "      <td>...</td>\n",
       "      <td>...</td>\n",
       "    </tr>\n",
       "    <tr>\n",
       "      <th>2953</th>\n",
       "      <td>../Mesures/train\\youtube20230117_095221.csv_139</td>\n",
       "      <td>157.435</td>\n",
       "      <td>13654</td>\n",
       "      <td>youtube</td>\n",
       "    </tr>\n",
       "    <tr>\n",
       "      <th>2954</th>\n",
       "      <td>../Mesures/train\\youtube20230117_095221.csv_140</td>\n",
       "      <td>19.025</td>\n",
       "      <td>1019</td>\n",
       "      <td>youtube</td>\n",
       "    </tr>\n",
       "    <tr>\n",
       "      <th>2955</th>\n",
       "      <td>../Mesures/train\\youtube20230117_095221.csv_141</td>\n",
       "      <td>22.515</td>\n",
       "      <td>1246</td>\n",
       "      <td>youtube</td>\n",
       "    </tr>\n",
       "    <tr>\n",
       "      <th>2956</th>\n",
       "      <td>../Mesures/train\\youtube20230117_095221.csv_142</td>\n",
       "      <td>10.935</td>\n",
       "      <td>697</td>\n",
       "      <td>youtube</td>\n",
       "    </tr>\n",
       "    <tr>\n",
       "      <th>2957</th>\n",
       "      <td>../Mesures/train\\youtube20230117_095221.csv_143</td>\n",
       "      <td>76.209</td>\n",
       "      <td>5382</td>\n",
       "      <td>youtube</td>\n",
       "    </tr>\n",
       "  </tbody>\n",
       "</table>\n",
       "<p>2958 rows × 4 columns</p>\n",
       "</div>"
      ],
      "text/plain": [
       "                                                   id  Duration(s)  \\\n",
       "0     ../Mesures/train\\messenger20221117_125310.csv_4     2777.818   \n",
       "1     ../Mesures/train\\messenger20221117_125310.csv_5        0.077   \n",
       "2     ../Mesures/train\\messenger20221117_125310.csv_6        0.077   \n",
       "3     ../Mesures/train\\messenger20221117_125310.csv_8        9.331   \n",
       "4     ../Mesures/train\\messenger20221117_125310.csv_7        9.427   \n",
       "...                                               ...          ...   \n",
       "2953  ../Mesures/train\\youtube20230117_095221.csv_139      157.435   \n",
       "2954  ../Mesures/train\\youtube20230117_095221.csv_140       19.025   \n",
       "2955  ../Mesures/train\\youtube20230117_095221.csv_141       22.515   \n",
       "2956  ../Mesures/train\\youtube20230117_095221.csv_142       10.935   \n",
       "2957  ../Mesures/train\\youtube20230117_095221.csv_143       76.209   \n",
       "\n",
       "      Duration(measures)      label  \n",
       "0                 364319  messenger  \n",
       "1                     11  messenger  \n",
       "2                     11  messenger  \n",
       "3                   1230  messenger  \n",
       "4                   1229  messenger  \n",
       "...                  ...        ...  \n",
       "2953               13654    youtube  \n",
       "2954                1019    youtube  \n",
       "2955                1246    youtube  \n",
       "2956                 697    youtube  \n",
       "2957                5382    youtube  \n",
       "\n",
       "[2958 rows x 4 columns]"
      ]
     },
     "execution_count": 15,
     "metadata": {},
     "output_type": "execute_result"
    }
   ],
   "source": [
    "global_data = {}\n",
    "directory_data = \"../Mesures/train\"\n",
    "datasets_train = [i for i in os.listdir(directory_data) if i.endswith(\".csv\") ]\n",
    "\n",
    "\n",
    "for i, data in enumerate(datasets_train) :\n",
    "    file = os.path.join(directory_data,data)\n",
    "    print(f\"Extracting {file}.... {i+1}/{len(datasets_train)}\")\n",
    "    global_data = merge_data(file, global_data)\n",
    "    \n",
    "df_train = reformat_data(global_data)\n",
    "df_train"
   ]
  },
  {
   "cell_type": "code",
   "execution_count": 16,
   "id": "c8e12716",
   "metadata": {},
   "outputs": [
    {
     "name": "stderr",
     "output_type": "stream",
     "text": [
      "C:\\Users\\Malo\\AppData\\Local\\Temp\\ipykernel_12196\\1627172334.py:43: VisibleDeprecationWarning: Creating an ndarray from ragged nested sequences (which is a list-or-tuple of lists-or-tuples-or ndarrays with different lengths or shapes) is deprecated. If you meant to do this, you must specify 'dtype=object' when creating the ndarray.\n",
      "  new_data = np.array(vals)\n"
     ]
    },
    {
     "name": "stdout",
     "output_type": "stream",
     "text": [
      "(6,)\n"
     ]
    },
    {
     "data": {
      "image/png": "[encoded data removed]",
      "text/plain": [
       "<Figure size 1152x1152 with 1 Axes>"
      ]
     },
     "metadata": {
      "needs_background": "light"
     },
     "output_type": "display_data"
    }
   ],
   "source": [
    "plot_histo(df_train)"
   ]
  },
  {
   "cell_type": "code",
   "execution_count": 19,
   "id": "985a7fd8",
   "metadata": {},
   "outputs": [
    {
     "data": {
      "text/html": [
       "<div>\n",
       "<style scoped>\n",
       "    .dataframe tbody tr th:only-of-type {\n",
       "        vertical-align: middle;\n",
       "    }\n",
       "\n",
       "    .dataframe tbody tr th {\n",
       "        vertical-align: top;\n",
       "    }\n",
       "\n",
       "    .dataframe thead th {\n",
       "        text-align: right;\n",
       "    }\n",
       "</style>\n",
       "<table border=\"1\" class=\"dataframe\">\n",
       "  <thead>\n",
       "    <tr style=\"text-align: right;\">\n",
       "      <th></th>\n",
       "      <th>id</th>\n",
       "      <th>Duration(s)</th>\n",
       "      <th>Duration(measures)</th>\n",
       "      <th>label</th>\n",
       "    </tr>\n",
       "  </thead>\n",
       "  <tbody>\n",
       "    <tr>\n",
       "      <th>486</th>\n",
       "      <td>../Mesures/train\\pure_noise20230106_132210.csv_70</td>\n",
       "      <td>0.007</td>\n",
       "      <td>2</td>\n",
       "      <td>noise</td>\n",
       "    </tr>\n",
       "    <tr>\n",
       "      <th>861</th>\n",
       "      <td>../Mesures/train\\pure_noise20230106_132210.csv...</td>\n",
       "      <td>0.008</td>\n",
       "      <td>2</td>\n",
       "      <td>noise</td>\n",
       "    </tr>\n",
       "    <tr>\n",
       "      <th>854</th>\n",
       "      <td>../Mesures/train\\pure_noise20230106_132210.csv...</td>\n",
       "      <td>0.008</td>\n",
       "      <td>3</td>\n",
       "      <td>noise</td>\n",
       "    </tr>\n",
       "    <tr>\n",
       "      <th>574</th>\n",
       "      <td>../Mesures/train\\pure_noise20230106_132210.csv...</td>\n",
       "      <td>0.008</td>\n",
       "      <td>2</td>\n",
       "      <td>noise</td>\n",
       "    </tr>\n",
       "    <tr>\n",
       "      <th>891</th>\n",
       "      <td>../Mesures/train\\pure_noise20230106_132210.csv...</td>\n",
       "      <td>0.010</td>\n",
       "      <td>2</td>\n",
       "      <td>noise</td>\n",
       "    </tr>\n",
       "    <tr>\n",
       "      <th>...</th>\n",
       "      <td>...</td>\n",
       "      <td>...</td>\n",
       "      <td>...</td>\n",
       "      <td>...</td>\n",
       "    </tr>\n",
       "    <tr>\n",
       "      <th>160</th>\n",
       "      <td>../Mesures/train\\messenger20221125_150706.csv_94</td>\n",
       "      <td>1328.447</td>\n",
       "      <td>6155</td>\n",
       "      <td>noise</td>\n",
       "    </tr>\n",
       "    <tr>\n",
       "      <th>254</th>\n",
       "      <td>../Mesures/train\\messenger20221125_150706.csv_188</td>\n",
       "      <td>1708.357</td>\n",
       "      <td>9370</td>\n",
       "      <td>noise</td>\n",
       "    </tr>\n",
       "    <tr>\n",
       "      <th>1180</th>\n",
       "      <td>../Mesures/train\\pure_noise20230106_132210.csv...</td>\n",
       "      <td>1862.255</td>\n",
       "      <td>8423</td>\n",
       "      <td>noise</td>\n",
       "    </tr>\n",
       "    <tr>\n",
       "      <th>1275</th>\n",
       "      <td>../Mesures/train\\skype20221206_125510.csv_16</td>\n",
       "      <td>2031.235</td>\n",
       "      <td>11391</td>\n",
       "      <td>noise</td>\n",
       "    </tr>\n",
       "    <tr>\n",
       "      <th>1595</th>\n",
       "      <td>../Mesures/train\\twitch20230110_130648.csv_1</td>\n",
       "      <td>2744.460</td>\n",
       "      <td>388</td>\n",
       "      <td>noise</td>\n",
       "    </tr>\n",
       "  </tbody>\n",
       "</table>\n",
       "<p>1828 rows × 4 columns</p>\n",
       "</div>"
      ],
      "text/plain": [
       "                                                     id  Duration(s)  \\\n",
       "486   ../Mesures/train\\pure_noise20230106_132210.csv_70        0.007   \n",
       "861   ../Mesures/train\\pure_noise20230106_132210.csv...        0.008   \n",
       "854   ../Mesures/train\\pure_noise20230106_132210.csv...        0.008   \n",
       "574   ../Mesures/train\\pure_noise20230106_132210.csv...        0.008   \n",
       "891   ../Mesures/train\\pure_noise20230106_132210.csv...        0.010   \n",
       "...                                                 ...          ...   \n",
       "160    ../Mesures/train\\messenger20221125_150706.csv_94     1328.447   \n",
       "254   ../Mesures/train\\messenger20221125_150706.csv_188     1708.357   \n",
       "1180  ../Mesures/train\\pure_noise20230106_132210.csv...     1862.255   \n",
       "1275       ../Mesures/train\\skype20221206_125510.csv_16     2031.235   \n",
       "1595       ../Mesures/train\\twitch20230110_130648.csv_1     2744.460   \n",
       "\n",
       "      Duration(measures)  label  \n",
       "486                    2  noise  \n",
       "861                    2  noise  \n",
       "854                    3  noise  \n",
       "574                    2  noise  \n",
       "891                    2  noise  \n",
       "...                  ...    ...  \n",
       "160                 6155  noise  \n",
       "254                 9370  noise  \n",
       "1180                8423  noise  \n",
       "1275               11391  noise  \n",
       "1595                 388  noise  \n",
       "\n",
       "[1828 rows x 4 columns]"
      ]
     },
     "execution_count": 19,
     "metadata": {},
     "output_type": "execute_result"
    }
   ],
   "source": [
    "df_train[df_train.label == \"noise\"].sort_values(by=[\"Duration(s)\"])"
   ]
  },
  {
   "cell_type": "code",
   "execution_count": null,
   "id": "305813bc",
   "metadata": {},
   "outputs": [],
   "source": []
  },
  {
   "cell_type": "code",
   "execution_count": null,
   "id": "ee730f8a",
   "metadata": {},
   "outputs": [],
   "source": []
  },
  {
   "cell_type": "code",
   "execution_count": null,
   "id": "d130f465",
   "metadata": {},
   "outputs": [],
   "source": []
  },
  {
   "cell_type": "code",
   "execution_count": 8,
   "id": "4ba6ab67",
   "metadata": {},
   "outputs": [
    {
     "name": "stdout",
     "output_type": "stream",
     "text": [
      "Extracting ../Mesures/test\\messenger20221124_151137.csv.... 1/6\n"
     ]
    },
    {
     "name": "stderr",
     "output_type": "stream",
     "text": [
      "100%|████████████████████████████████████████████████████████████████████████████████████| 5/5 [00:00<00:00, 25.44it/s]\n"
     ]
    },
    {
     "name": "stdout",
     "output_type": "stream",
     "text": [
      "Extracting ../Mesures/test\\skype20221206_150902.csv.... 2/6\n"
     ]
    },
    {
     "name": "stderr",
     "output_type": "stream",
     "text": [
      "100%|████████████████████████████████████████████████████████████████████████████████████| 3/3 [00:00<00:00,  4.35it/s]\n"
     ]
    },
    {
     "name": "stdout",
     "output_type": "stream",
     "text": [
      "Extracting ../Mesures/test\\spotify20230127_134348.csv.... 3/6\n"
     ]
    },
    {
     "name": "stderr",
     "output_type": "stream",
     "text": [
      "100%|███████████████████████████████████████████████████████████████████████████████| 240/240 [00:00<00:00, 765.99it/s]\n"
     ]
    },
    {
     "name": "stdout",
     "output_type": "stream",
     "text": [
      "Extracting ../Mesures/test\\twitch20221124_163054.csv.... 4/6\n"
     ]
    },
    {
     "name": "stderr",
     "output_type": "stream",
     "text": [
      "100%|██████████████████████████████████████████████████████████████████████████████████| 12/12 [00:00<00:00, 28.08it/s]\n"
     ]
    },
    {
     "name": "stdout",
     "output_type": "stream",
     "text": [
      "Extracting ../Mesures/test\\youtube20221118_104205.csv.... 5/6\n"
     ]
    },
    {
     "name": "stderr",
     "output_type": "stream",
     "text": [
      "100%|███████████████████████████████████████████████████████████████████████████████| 218/218 [00:00<00:00, 802.48it/s]\n"
     ]
    },
    {
     "name": "stdout",
     "output_type": "stream",
     "text": [
      "Extracting ../Mesures/test\\youtube20230117_121925.csv.... 6/6\n"
     ]
    },
    {
     "name": "stderr",
     "output_type": "stream",
     "text": [
      "100%|███████████████████████████████████████████████████████████████████████████████| 260/260 [00:00<00:00, 487.25it/s]\n",
      "100%|█████████████████████████████████████████████████████████████████████████████| 738/738 [00:00<00:00, 33667.94it/s]\n"
     ]
    },
    {
     "data": {
      "text/html": [
       "<div>\n",
       "<style scoped>\n",
       "    .dataframe tbody tr th:only-of-type {\n",
       "        vertical-align: middle;\n",
       "    }\n",
       "\n",
       "    .dataframe tbody tr th {\n",
       "        vertical-align: top;\n",
       "    }\n",
       "\n",
       "    .dataframe thead th {\n",
       "        text-align: right;\n",
       "    }\n",
       "</style>\n",
       "<table border=\"1\" class=\"dataframe\">\n",
       "  <thead>\n",
       "    <tr style=\"text-align: right;\">\n",
       "      <th></th>\n",
       "      <th>Duration(s)</th>\n",
       "      <th>Duration(measures)</th>\n",
       "      <th>label</th>\n",
       "    </tr>\n",
       "  </thead>\n",
       "  <tbody>\n",
       "    <tr>\n",
       "      <th>0</th>\n",
       "      <td>1476.499</td>\n",
       "      <td>207461</td>\n",
       "      <td>messenger</td>\n",
       "    </tr>\n",
       "    <tr>\n",
       "      <th>1</th>\n",
       "      <td>1478.364</td>\n",
       "      <td>176772</td>\n",
       "      <td>messenger</td>\n",
       "    </tr>\n",
       "    <tr>\n",
       "      <th>2</th>\n",
       "      <td>13.897</td>\n",
       "      <td>225</td>\n",
       "      <td>messenger</td>\n",
       "    </tr>\n",
       "    <tr>\n",
       "      <th>3</th>\n",
       "      <td>1458.168</td>\n",
       "      <td>223311</td>\n",
       "      <td>messenger</td>\n",
       "    </tr>\n",
       "    <tr>\n",
       "      <th>4</th>\n",
       "      <td>1436.634</td>\n",
       "      <td>214612</td>\n",
       "      <td>messenger</td>\n",
       "    </tr>\n",
       "    <tr>\n",
       "      <th>...</th>\n",
       "      <td>...</td>\n",
       "      <td>...</td>\n",
       "      <td>...</td>\n",
       "    </tr>\n",
       "    <tr>\n",
       "      <th>733</th>\n",
       "      <td>10.171</td>\n",
       "      <td>30</td>\n",
       "      <td>youtube</td>\n",
       "    </tr>\n",
       "    <tr>\n",
       "      <th>734</th>\n",
       "      <td>21.255</td>\n",
       "      <td>563</td>\n",
       "      <td>youtube</td>\n",
       "    </tr>\n",
       "    <tr>\n",
       "      <th>735</th>\n",
       "      <td>21.815</td>\n",
       "      <td>541</td>\n",
       "      <td>youtube</td>\n",
       "    </tr>\n",
       "    <tr>\n",
       "      <th>736</th>\n",
       "      <td>107.245</td>\n",
       "      <td>2991</td>\n",
       "      <td>youtube</td>\n",
       "    </tr>\n",
       "    <tr>\n",
       "      <th>737</th>\n",
       "      <td>106.223</td>\n",
       "      <td>3003</td>\n",
       "      <td>youtube</td>\n",
       "    </tr>\n",
       "  </tbody>\n",
       "</table>\n",
       "<p>738 rows × 3 columns</p>\n",
       "</div>"
      ],
      "text/plain": [
       "     Duration(s)  Duration(measures)      label\n",
       "0       1476.499              207461  messenger\n",
       "1       1478.364              176772  messenger\n",
       "2         13.897                 225  messenger\n",
       "3       1458.168              223311  messenger\n",
       "4       1436.634              214612  messenger\n",
       "..           ...                 ...        ...\n",
       "733       10.171                  30    youtube\n",
       "734       21.255                 563    youtube\n",
       "735       21.815                 541    youtube\n",
       "736      107.245                2991    youtube\n",
       "737      106.223                3003    youtube\n",
       "\n",
       "[738 rows x 3 columns]"
      ]
     },
     "execution_count": 8,
     "metadata": {},
     "output_type": "execute_result"
    }
   ],
   "source": [
    "directory_data = \"../Mesures/test\"\n",
    "datasets_test = [i for i in os.listdir(directory_data) if i.endswith(\".csv\") ]\n",
    "\n",
    "global_data = {}\n",
    "for i, data in enumerate(datasets_test) :\n",
    "    file = os.path.join(directory_data,data)\n",
    "    print(f\"Extracting {file}.... {i+1}/{len(datasets_test)}\")\n",
    "    global_data = merge_data(file, global_data)\n",
    "    \n",
    "df_test = reformat_data(global_data)\n",
    "df_test"
   ]
  },
  {
   "cell_type": "code",
   "execution_count": 9,
   "id": "3348d309",
   "metadata": {},
   "outputs": [
    {
     "name": "stderr",
     "output_type": "stream",
     "text": [
      "<ipython-input-4-a96e4c66e94d>:41: VisibleDeprecationWarning: Creating an ndarray from ragged nested sequences (which is a list-or-tuple of lists-or-tuples-or ndarrays with different lengths or shapes) is deprecated. If you meant to do this, you must specify 'dtype=object' when creating the ndarray.\n",
      "  new_data = np.array(vals)\n"
     ]
    },
    {
     "name": "stdout",
     "output_type": "stream",
     "text": [
      "(6,)\n"
     ]
    },
    {
     "data": {
      "image/png": "[encoded data removed]",
      "text/plain": [
       "<Figure size 1152x1152 with 1 Axes>"
      ]
     },
     "metadata": {
      "needs_background": "light"
     },
     "output_type": "display_data"
    }
   ],
   "source": [
    "plot_histo(df_test)"
   ]
  },
  {
   "cell_type": "code",
   "execution_count": null,
   "id": "bece2840",
   "metadata": {},
   "outputs": [],
   "source": []
  },
  {
   "cell_type": "code",
   "execution_count": null,
   "id": "d2300011",
   "metadata": {},
   "outputs": [],
   "source": []
  }
 ],
 "metadata": {
  "kernelspec": {
   "display_name": "Python 3 (ipykernel)",
   "language": "python",
   "name": "python3"
  },
  "language_info": {
   "codemirror_mode": {
    "name": "ipython",
    "version": 3
   },
   "file_extension": ".py",
   "mimetype": "text/x-python",
   "name": "python",
   "nbconvert_exporter": "python",
   "pygments_lexer": "ipython3",
   "version": "3.9.12"
  }
 },
 "nbformat": 4,
 "nbformat_minor": 5
}
